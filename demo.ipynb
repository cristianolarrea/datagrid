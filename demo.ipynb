{
 "cells": [
  {
   "cell_type": "markdown",
   "metadata": {},
   "source": [
    "# $\\Rightarrow$ Testing the **DataGrid** module"
   ]
  },
  {
   "cell_type": "markdown",
   "metadata": {},
   "source": [
    "Import the class:"
   ]
  },
  {
   "cell_type": "code",
   "execution_count": 1,
   "metadata": {},
   "outputs": [],
   "source": [
    "from datagrid import DataGrid"
   ]
  },
  {
   "cell_type": "markdown",
   "metadata": {},
   "source": [
    "Instantiate the class:"
   ]
  },
  {
   "cell_type": "code",
   "execution_count": 2,
   "metadata": {},
   "outputs": [],
   "source": [
    "datagrid = DataGrid()"
   ]
  },
  {
   "cell_type": "markdown",
   "metadata": {},
   "source": [
    "### `.read_csv(file, sep = ',', encoding = 'utf-8')`"
   ]
  },
  {
   "cell_type": "markdown",
   "metadata": {},
   "source": [
    "You can read a `.csv` file into the datagrid object."
   ]
  },
  {
   "cell_type": "code",
   "execution_count": 3,
   "metadata": {},
   "outputs": [
    {
     "name": "stdout",
     "output_type": "stream",
     "text": [
      "File read successfully\n"
     ]
    }
   ],
   "source": [
    "datagrid.read_csv(\"data/data.csv\")"
   ]
  },
  {
   "cell_type": "markdown",
   "metadata": {},
   "source": [
    "### `.show(start = 0, end = 100)`"
   ]
  },
  {
   "cell_type": "markdown",
   "metadata": {},
   "source": [
    "You can also show the range of rows you'd like."
   ]
  },
  {
   "cell_type": "code",
   "execution_count": 4,
   "metadata": {},
   "outputs": [
    {
     "name": "stdout",
     "output_type": "stream",
     "text": [
      "1 | ELH65 | 2024/34/25 03:34:03 | 22 | Yvette Haynes | Phasellus fermentum convallis ligula. Donec luctus\n",
      "2 | EJF55 | 2024/59/25 02:59:09 | 7 | Kasimir Norris | Cras vulputate velit eu sem. Pellentesque ut ipsum ac mi\n",
      "3 | QXW32 | 2023/54/14 06:54:20 | 3 | Suki Mathis | sagittis felis. Donec tempor, est ac mattis semper, dui lectus rutrum urna,\n",
      "4 | HUV07 | 2023/47/15 11:47:27 | 3 | Akeem Greene | fringilla, porttitor vulputate, posuere vulputate, lacus. Cras interdum. Nunc sollicitudin commodo ipsum. Suspendisse non leo. Vivamus nibh\n",
      "5 | OZT82 | 2022/2/31 02:02:29 | 19 | Zeph Moody | lorem vitae odio sagittis semper. Nam tempor diam dictum sapien. Aenean massa. Integer vitae nibh. Donec est mauris, rhoncus\n",
      "6 | XLR32 | 2024/45/29 05:45:47 | 4 | Kay Witt | libero dui\n",
      "8 | KXQ01 | 2022/56/18 02:56:26 | 20 | Patience Monroe | ligula consectetuer rhoncus. Nullam velit dui, semper et, lacinia\n",
      "9 | CYU74 | 2024/35/20 11:35:24 | 6 | Rajah Sawyer | non nisi. Aenean eget metus. In nec orci. Donec nibh. Quisque nonummy ipsum non arcu.\n",
      "10 | GJL34 | 2023/35/22 07:35:23 | 0 | Ramona Herring | Nulla facilisi. Sed neque. Sed eget lacus. Mauris\n",
      "11 | XYF21 | 2023/5/12 02:05:02 | 7 | Armando Shannon | pharetra sed, hendrerit a, arcu. Sed et libero. Proin mi. Aliquam gravida mauris ut mi. Duis risus odio,\n"
     ]
    }
   ],
   "source": [
    "datagrid.show(0, 10)"
   ]
  },
  {
   "cell_type": "code",
   "execution_count": 5,
   "metadata": {},
   "outputs": [
    {
     "name": "stdout",
     "output_type": "stream",
     "text": [
      "Row with id = 1 deleted\n"
     ]
    }
   ],
   "source": [
    "datagrid.delete_row(column=\"id\", value=1)"
   ]
  },
  {
   "cell_type": "code",
   "execution_count": 6,
   "metadata": {},
   "outputs": [
    {
     "name": "stdout",
     "output_type": "stream",
     "text": [
      "2 | EJF55 | 2024/59/25 02:59:09 | 7 | Kasimir Norris | Cras vulputate velit eu sem. Pellentesque ut ipsum ac mi\n",
      "3 | QXW32 | 2023/54/14 06:54:20 | 3 | Suki Mathis | sagittis felis. Donec tempor, est ac mattis semper, dui lectus rutrum urna,\n",
      "4 | HUV07 | 2023/47/15 11:47:27 | 3 | Akeem Greene | fringilla, porttitor vulputate, posuere vulputate, lacus. Cras interdum. Nunc sollicitudin commodo ipsum. Suspendisse non leo. Vivamus nibh\n",
      "5 | OZT82 | 2022/2/31 02:02:29 | 19 | Zeph Moody | lorem vitae odio sagittis semper. Nam tempor diam dictum sapien. Aenean massa. Integer vitae nibh. Donec est mauris, rhoncus\n",
      "6 | XLR32 | 2024/45/29 05:45:47 | 4 | Kay Witt | libero dui\n",
      "8 | KXQ01 | 2022/56/18 02:56:26 | 20 | Patience Monroe | ligula consectetuer rhoncus. Nullam velit dui, semper et, lacinia\n",
      "9 | CYU74 | 2024/35/20 11:35:24 | 6 | Rajah Sawyer | non nisi. Aenean eget metus. In nec orci. Donec nibh. Quisque nonummy ipsum non arcu.\n",
      "10 | GJL34 | 2023/35/22 07:35:23 | 0 | Ramona Herring | Nulla facilisi. Sed neque. Sed eget lacus. Mauris\n",
      "11 | XYF21 | 2023/5/12 02:05:02 | 7 | Armando Shannon | pharetra sed, hendrerit a, arcu. Sed et libero. Proin mi. Aliquam gravida mauris ut mi. Duis risus odio,\n",
      "12 | MLK27 | 2024/59/23 11:59:28 | 15 | Lewis Mendez | bibendum sed, est. Nunc laoreet lectus quis massa. Mauris vestibulum, neque\n"
     ]
    }
   ],
   "source": [
    "datagrid.show(0, 10)"
   ]
  },
  {
   "cell_type": "markdown",
   "metadata": {},
   "source": [
    "### `.insert_row(row)`"
   ]
  },
  {
   "cell_type": "markdown",
   "metadata": {},
   "source": [
    "You may want to add rows through a dictionary:"
   ]
  },
  {
   "cell_type": "code",
   "execution_count": 7,
   "metadata": {},
   "outputs": [],
   "source": [
    "new_row = {\"id\": 98, \"owner_id\": \"ABC123\", \"creation_date\": \"2023/10/06 12:00:15\", \"count\": 6, \"name\": \"Item 98\", \"content\": \"This is the content for Item 98\"}\n",
    "datagrid.insert_row(new_row)"
   ]
  },
  {
   "cell_type": "code",
   "execution_count": 8,
   "metadata": {},
   "outputs": [],
   "source": [
    "new_row = {\"id\": 2, \"owner_id\": \"ABC123\", \"creation_date\": \"2023/10/06 12:00:15\", \"count\": 6, \"name\": \"Item 98\", \"content\": \"This is the content for Item 98\"}\n",
    "datagrid.insert_row(new_row)"
   ]
  },
  {
   "cell_type": "markdown",
   "metadata": {},
   "source": [
    "If the ID is already in the datagrid, the row will be updated:"
   ]
  },
  {
   "cell_type": "code",
   "execution_count": 9,
   "metadata": {},
   "outputs": [],
   "source": [
    "new_row = {\"id\": 2, \"owner_id\": \"ABC123\", \"creation_date\": \"2023/10/06 12:00:15\", \"count\": 6, \"name\": \"Item 98\", \"content\": \"This is the content for Item 98\"}\n",
    "datagrid.insert_row(new_row)"
   ]
  },
  {
   "cell_type": "markdown",
   "metadata": {},
   "source": [
    "### `.delete_row(column, value)`"
   ]
  },
  {
   "cell_type": "markdown",
   "metadata": {},
   "source": [
    "You can also delete rows based on the value of the columns:"
   ]
  },
  {
   "cell_type": "code",
   "execution_count": 10,
   "metadata": {},
   "outputs": [
    {
     "name": "stdout",
     "output_type": "stream",
     "text": [
      "Row with owner_id = ABC123 deleted\n",
      "Row with owner_id = ABC123 deleted\n",
      "Row with owner_id = ABC123 deleted\n"
     ]
    }
   ],
   "source": [
    "datagrid.delete_row(column=\"owner_id\", value=\"ABC123\")"
   ]
  },
  {
   "cell_type": "code",
   "execution_count": 11,
   "metadata": {},
   "outputs": [
    {
     "name": "stdout",
     "output_type": "stream",
     "text": [
      "Row with id = 1 not found\n"
     ]
    }
   ],
   "source": [
    "datagrid.delete_row(column=\"id\", value=1)"
   ]
  },
  {
   "cell_type": "code",
   "execution_count": 12,
   "metadata": {},
   "outputs": [
    {
     "name": "stdout",
     "output_type": "stream",
     "text": [
      "Row with count = 9 deleted\n",
      "Row with count = 9 deleted\n",
      "Row with count = 9 deleted\n",
      "Row with count = 9 deleted\n",
      "Row with count = 9 deleted\n",
      "Row with count = 9 deleted\n",
      "Row with count = 9 deleted\n",
      "Row with count = 9 deleted\n",
      "Row with count = 9 deleted\n",
      "Row with count = 9 deleted\n",
      "Row with count = 9 deleted\n",
      "Row with count = 9 deleted\n",
      "Row with count = 9 deleted\n",
      "Row with count = 9 deleted\n",
      "Row with count = 9 deleted\n",
      "Row with count = 9 deleted\n",
      "Row with count = 9 deleted\n",
      "Row with count = 9 deleted\n",
      "Row with count = 9 deleted\n",
      "Row with count = 9 deleted\n",
      "Row with count = 9 deleted\n",
      "Row with count = 9 deleted\n"
     ]
    }
   ],
   "source": [
    "datagrid.delete_row(column=\"count\", value=9)"
   ]
  },
  {
   "cell_type": "markdown",
   "metadata": {},
   "source": [
    "### `.search(column, value)`"
   ]
  },
  {
   "cell_type": "code",
   "execution_count": 13,
   "metadata": {},
   "outputs": [
    {
     "name": "stdout",
     "output_type": "stream",
     "text": [
      "5 | OZT82 | 2022/2/31 02:02:29 | 19 | Zeph Moody | lorem vitae odio sagittis semper. Nam tempor diam dictum sapien. Aenean massa. Integer vitae nibh. Donec est mauris, rhoncus\n"
     ]
    }
   ],
   "source": [
    "datagrid.search(column=\"id\", value=5)"
   ]
  },
  {
   "cell_type": "code",
   "execution_count": 14,
   "metadata": {},
   "outputs": [
    {
     "name": "stdout",
     "output_type": "stream",
     "text": [
      "Row with id = 1 not found\n"
     ]
    }
   ],
   "source": [
    "datagrid.search(column=\"id\", value=1)"
   ]
  },
  {
   "cell_type": "code",
   "execution_count": 15,
   "metadata": {},
   "outputs": [
    {
     "name": "stdout",
     "output_type": "stream",
     "text": [
      "10 | GJL34 | 2023/35/22 07:35:23 | 0 | Ramona Herring | Nulla facilisi. Sed neque. Sed eget lacus. Mauris\n",
      "98 | YSE34 | 2023/18/18 02:18:39 | 0 | Mohammad Branch | Nunc ut erat. Sed nunc est,\n",
      "113 | OZK61 | 2023/10/17 04:10:02 | 0 | Illana Mccoy | placerat velit. Quisque varius.\n",
      "131 | XPL63 | 2023/25/29 01:25:48 | 0 | Allegra Duran | congue. In scelerisque scelerisque dui. Suspendisse ac metus vitae velit egestas lacinia. Sed congue, elit sed\n",
      "243 | DKB72 | 2023/10/6 12:10:46 | 0 | Hyatt Andrews | facilisis, magna tellus faucibus leo, in lobortis tellus justo sit\n",
      "373 | NDI55 | 2022/50/10 03:50:56 | 0 | Magee Tyler | orci lobortis augue scelerisque mollis. Phasellus libero mauris, aliquam eu, accumsan sed, facilisis vitae, orci. Phasellus dapibus\n",
      "406 | SQT50 | 2023/55/20 04:55:51 | 0 | Kylan Woodard | aliquet molestie tellus. Aenean egestas hendrerit neque. In ornare sagittis felis. Donec tempor, est ac mattis semper,\n",
      "457 | FVI77 | 2024/33/15 12:33:42 | 0 | Thomas Simpson | congue a, aliquet vel, vulputate eu, odio. Phasellus at augue id\n",
      "487 | HFG20 | 2024/42/19 08:42:24 | 0 | Nora Meyers | parturient montes,\n"
     ]
    }
   ],
   "source": [
    "datagrid.search(column=\"count\", value=(0, 0))"
   ]
  },
  {
   "cell_type": "code",
   "execution_count": 16,
   "metadata": {},
   "outputs": [
    {
     "name": "stdout",
     "output_type": "stream",
     "text": [
      "5 | OZT82 | 2022/2/31 02:02:29 | 19 | Zeph Moody | lorem vitae odio sagittis semper. Nam tempor diam dictum sapien. Aenean massa. Integer vitae nibh. Donec est mauris, rhoncus\n",
      "34 | WOI26 | 2024/4/10 09:04:22 | 18 | Benjamin Knox | faucibus id, libero. Donec consectetuer mauris id sapien. Cras dolor\n",
      "52 | XQY70 | 2023/23/10 06:23:48 | 18 | Honorato Robinson | purus sapien, gravida non, sollicitudin a, malesuada id, erat. Etiam vestibulum massa\n",
      "114 | KIG89 | 2024/33/18 06:33:34 | 18 | Kellie Duffy | lorem ut aliquam iaculis, lacus\n",
      "133 | RKZ51 | 2022/14/21 09:14:54 | 19 | Jade Sparks | aliquam adipiscing lacus. Ut nec urna\n",
      "135 | ICS13 | 2023/57/14 10:57:20 | 19 | Kameko Mejia | vitae semper egestas, urna justo faucibus lectus, a sollicitudin orci sem eget massa. Suspendisse eleifend. Cras\n",
      "146 | XQD81 | 2023/55/20 04:55:10 | 19 | Alyssa Lang | convallis dolor. Quisque tincidunt\n",
      "157 | PXQ38 | 2023/25/28 11:25:07 | 19 | Fitzgerald Newton | semper rutrum. Fusce dolor quam, elementum at, egestas a, scelerisque sed, sapien. Nunc pulvinar arcu et\n",
      "183 | QWJ76 | 2022/43/20 02:43:40 | 18 | Naomi Roth | urna, nec luctus felis purus ac tellus. Suspendisse sed dolor. Fusce\n",
      "206 | FQD51 | 2023/9/19 09:09:16 | 19 | Ira Rutledge | nec enim. Nunc ut erat. Sed nunc est, mollis non, cursus non,\n",
      "231 | XAG65 | 2022/39/1 06:39:33 | 18 | Rashad Saunders | laoreet posuere, enim nisl elementum purus, accumsan interdum libero\n",
      "241 | UDC64 | 2023/24/4 02:24:25 | 19 | Lewis Davidson | magna. Phasellus dolor elit, pellentesque a, facilisis non, bibendum\n",
      "248 | SBP45 | 2024/19/30 01:19:45 | 18 | George Haney | scelerisque sed, sapien. Nunc pulvinar\n",
      "258 | KYR08 | 2023/49/25 07:49:11 | 19 | Ahmed Blevins | Maecenas mi felis, adipiscing\n",
      "276 | NSN95 | 2023/54/15 05:54:51 | 18 | Ray George | volutpat. Nulla facilisis. Suspendisse commodo tincidunt nibh. Phasellus nulla. Integer vulputate, risus\n",
      "284 | FUY08 | 2023/28/18 04:28:05 | 18 | Cullen Valenzuela | sociis natoque penatibus et magnis dis parturient montes, nascetur ridiculus\n",
      "290 | DTS51 | 2024/50/6 05:50:43 | 19 | Alice Guerrero | elementum at, egestas a, scelerisque sed, sapien. Nunc pulvinar arcu et pede. Nunc sed orci lobortis augue scelerisque\n",
      "302 | BJQ67 | 2024/45/23 12:45:54 | 18 | Ignatius Rogers | lorem ac risus.\n",
      "328 | VKP25 | 2024/0/21 08:00:49 | 18 | Kato Pennington | auctor quis, tristique ac, eleifend vitae, erat. Vivamus nisi. Mauris nulla. Integer urna. Vivamus molestie dapibus ligula.\n",
      "333 | YJF45 | 2023/5/23 12:05:07 | 18 | Hyatt Reeves | eu tellus. Phasellus elit pede,\n",
      "349 | UUE44 | 2024/27/17 09:27:55 | 18 | Linus Dyer | erat. Vivamus nisi. Mauris nulla. Integer urna.\n",
      "359 | LSH33 | 2024/36/1 07:36:58 | 18 | Cameron Curry | egestas. Aliquam\n",
      "370 | MTT18 | 2024/51/22 03:51:08 | 19 | Stewart Chan | sem elit, pharetra ut, pharetra sed, hendrerit a, arcu. Sed et libero. Proin mi. Aliquam gravida mauris\n",
      "371 | DUQ80 | 2023/5/22 09:05:08 | 18 | Ross Pena | ultricies sem magna nec quam. Curabitur vel lectus.\n",
      "401 | TMF51 | 2022/36/5 07:36:18 | 18 | Acton Huff | pede nec ante blandit viverra. Donec tempus, lorem fringilla ornare placerat, orci lacus vestibulum lorem, sit amet ultricies sem\n",
      "410 | MJA17 | 2023/27/2 04:27:47 | 18 | Hedy Ray | sit amet risus. Donec egestas.\n",
      "424 | QWH76 | 2023/28/14 04:28:52 | 19 | Uma Phillips | elementum sem, vitae aliquam eros turpis non enim. Mauris quis turpis vitae purus gravida sagittis. Duis\n",
      "429 | HIF27 | 2023/33/23 04:33:14 | 19 | Jordan Carr | orci. Phasellus dapibus quam quis diam. Pellentesque habitant morbi tristique senectus et netus\n",
      "436 | ECN50 | 2023/20/23 10:20:10 | 18 | Patrick Wolfe | Donec felis orci, adipiscing non, luctus sit\n",
      "473 | SUY39 | 2023/51/21 03:51:45 | 19 | Herrod Jefferson | Vivamus sit amet risus. Donec egestas. Aliquam nec\n",
      "488 | WMP51 | 2024/55/16 05:55:59 | 18 | Marvin Patton | fringilla cursus purus. Nullam scelerisque neque sed sem egestas blandit. Nam nulla magna, malesuada vel,\n",
      "495 | PFE71 | 2023/9/22 05:09:01 | 18 | Jasmine Horn | Fusce aliquet magna a neque. Nullam ut nisi\n"
     ]
    }
   ],
   "source": [
    "datagrid.search(column=\"count\", value=(18, 19))"
   ]
  },
  {
   "cell_type": "code",
   "execution_count": 17,
   "metadata": {},
   "outputs": [
    {
     "name": "stdout",
     "output_type": "stream",
     "text": [
      "5 | OZT82 | 2022/2/31 02:02:29 | 19 | Zeph Moody | lorem vitae odio sagittis semper. Nam tempor diam dictum sapien. Aenean massa. Integer vitae nibh. Donec est mauris, rhoncus\n"
     ]
    }
   ],
   "source": [
    "datagrid.search(column=\"owner_id\", value=\"OZT82\")"
   ]
  },
  {
   "cell_type": "markdown",
   "metadata": {},
   "source": [
    "### `.sort(column, direction = 'asc')`"
   ]
  },
  {
   "cell_type": "code",
   "execution_count": 18,
   "metadata": {},
   "outputs": [
    {
     "ename": "TypeError",
     "evalue": "'<' not supported between instances of 'Event' and 'Event'",
     "output_type": "error",
     "traceback": [
      "\u001b[0;31m---------------------------------------------------------------------------\u001b[0m",
      "\u001b[0;31mTypeError\u001b[0m                                 Traceback (most recent call last)",
      "\u001b[1;32m/home/felipe/Área de Trabalho/datagrid/demo.ipynb Cell 32\u001b[0m line \u001b[0;36m1\n\u001b[0;32m----> <a href='vscode-notebook-cell:/home/felipe/%C3%81rea%20de%20Trabalho/datagrid/demo.ipynb#Y166sZmlsZQ%3D%3D?line=0'>1</a>\u001b[0m datagrid\u001b[39m.\u001b[39msort(column\u001b[39m=\u001b[39m\u001b[39m\"\u001b[39m\u001b[39mid\u001b[39m\u001b[39m\"\u001b[39m, direction\u001b[39m=\u001b[39m\u001b[39m\"\u001b[39m\u001b[39mdesc\u001b[39m\u001b[39m\"\u001b[39m)\n",
      "File \u001b[0;32m~/Área de Trabalho/datagrid/datagrid.py:125\u001b[0m, in \u001b[0;36mDataGrid.sort\u001b[0;34m(self, column, direction)\u001b[0m\n\u001b[1;32m    122\u001b[0m     arr \u001b[39m=\u001b[39m radix_sort_strings(arr, \u001b[39m20\u001b[39m)\n\u001b[1;32m    124\u001b[0m \u001b[39mif\u001b[39;00m column \u001b[39m==\u001b[39m \u001b[39m'\u001b[39m\u001b[39mid\u001b[39m\u001b[39m'\u001b[39m \u001b[39mor\u001b[39;00m column \u001b[39m==\u001b[39m \u001b[39m'\u001b[39m\u001b[39mcount\u001b[39m\u001b[39m'\u001b[39m \u001b[39mor\u001b[39;00m column\u001b[39m==\u001b[39m\u001b[39m'\u001b[39m\u001b[39mcontent\u001b[39m\u001b[39m'\u001b[39m:\n\u001b[0;32m--> 125\u001b[0m     arr \u001b[39m=\u001b[39m mergesort(arr)\n\u001b[1;32m    127\u001b[0m \u001b[39mif\u001b[39;00m direction\u001b[39m==\u001b[39m\u001b[39m'\u001b[39m\u001b[39mdesc\u001b[39m\u001b[39m'\u001b[39m:\n\u001b[1;32m    128\u001b[0m     arr \u001b[39m=\u001b[39m \u001b[39mself\u001b[39m\u001b[39m.\u001b[39m_invert_order(arr)\n",
      "File \u001b[0;32m~/Área de Trabalho/datagrid/sort.py:57\u001b[0m, in \u001b[0;36mmergesort\u001b[0;34m(arr)\u001b[0m\n\u001b[1;32m     54\u001b[0m left_half \u001b[39m=\u001b[39m arr[:mid]\n\u001b[1;32m     55\u001b[0m right_half \u001b[39m=\u001b[39m arr[mid:]\n\u001b[0;32m---> 57\u001b[0m left_half \u001b[39m=\u001b[39m mergesort(left_half)\n\u001b[1;32m     58\u001b[0m right_half \u001b[39m=\u001b[39m mergesort(right_half)\n\u001b[1;32m     60\u001b[0m \u001b[39mreturn\u001b[39;00m merge(left_half, right_half)\n",
      "File \u001b[0;32m~/Área de Trabalho/datagrid/sort.py:57\u001b[0m, in \u001b[0;36mmergesort\u001b[0;34m(arr)\u001b[0m\n\u001b[1;32m     54\u001b[0m left_half \u001b[39m=\u001b[39m arr[:mid]\n\u001b[1;32m     55\u001b[0m right_half \u001b[39m=\u001b[39m arr[mid:]\n\u001b[0;32m---> 57\u001b[0m left_half \u001b[39m=\u001b[39m mergesort(left_half)\n\u001b[1;32m     58\u001b[0m right_half \u001b[39m=\u001b[39m mergesort(right_half)\n\u001b[1;32m     60\u001b[0m \u001b[39mreturn\u001b[39;00m merge(left_half, right_half)\n",
      "    \u001b[0;31m[... skipping similar frames: mergesort at line 57 (4 times)]\u001b[0m\n",
      "File \u001b[0;32m~/Área de Trabalho/datagrid/sort.py:57\u001b[0m, in \u001b[0;36mmergesort\u001b[0;34m(arr)\u001b[0m\n\u001b[1;32m     54\u001b[0m left_half \u001b[39m=\u001b[39m arr[:mid]\n\u001b[1;32m     55\u001b[0m right_half \u001b[39m=\u001b[39m arr[mid:]\n\u001b[0;32m---> 57\u001b[0m left_half \u001b[39m=\u001b[39m mergesort(left_half)\n\u001b[1;32m     58\u001b[0m right_half \u001b[39m=\u001b[39m mergesort(right_half)\n\u001b[1;32m     60\u001b[0m \u001b[39mreturn\u001b[39;00m merge(left_half, right_half)\n",
      "File \u001b[0;32m~/Área de Trabalho/datagrid/sort.py:58\u001b[0m, in \u001b[0;36mmergesort\u001b[0;34m(arr)\u001b[0m\n\u001b[1;32m     55\u001b[0m right_half \u001b[39m=\u001b[39m arr[mid:]\n\u001b[1;32m     57\u001b[0m left_half \u001b[39m=\u001b[39m mergesort(left_half)\n\u001b[0;32m---> 58\u001b[0m right_half \u001b[39m=\u001b[39m mergesort(right_half)\n\u001b[1;32m     60\u001b[0m \u001b[39mreturn\u001b[39;00m merge(left_half, right_half)\n",
      "File \u001b[0;32m~/Área de Trabalho/datagrid/sort.py:60\u001b[0m, in \u001b[0;36mmergesort\u001b[0;34m(arr)\u001b[0m\n\u001b[1;32m     57\u001b[0m left_half \u001b[39m=\u001b[39m mergesort(left_half)\n\u001b[1;32m     58\u001b[0m right_half \u001b[39m=\u001b[39m mergesort(right_half)\n\u001b[0;32m---> 60\u001b[0m \u001b[39mreturn\u001b[39;00m merge(left_half, right_half)\n",
      "File \u001b[0;32m~/Área de Trabalho/datagrid/sort.py:38\u001b[0m, in \u001b[0;36mmerge\u001b[0;34m(left, right)\u001b[0m\n\u001b[1;32m     35\u001b[0m right_idx \u001b[39m=\u001b[39m \u001b[39m0\u001b[39m\n\u001b[1;32m     37\u001b[0m \u001b[39mwhile\u001b[39;00m left_idx \u001b[39m<\u001b[39m \u001b[39mlen\u001b[39m(left) \u001b[39mand\u001b[39;00m right_idx \u001b[39m<\u001b[39m \u001b[39mlen\u001b[39m(right):\n\u001b[0;32m---> 38\u001b[0m     \u001b[39mif\u001b[39;00m left[left_idx] \u001b[39m<\u001b[39;49m right[right_idx]:\n\u001b[1;32m     39\u001b[0m         result\u001b[39m.\u001b[39mappend(left[left_idx])\n\u001b[1;32m     40\u001b[0m         left_idx \u001b[39m+\u001b[39m\u001b[39m=\u001b[39m \u001b[39m1\u001b[39m\n",
      "\u001b[0;31mTypeError\u001b[0m: '<' not supported between instances of 'Event' and 'Event'"
     ]
    }
   ],
   "source": [
    "datagrid.sort(column=\"id\", direction=\"desc\")"
   ]
  },
  {
   "cell_type": "markdown",
   "metadata": {},
   "source": [
    "Sort changes the internal structure of the table (check the first use of `.show()` method up on the notebook):"
   ]
  },
  {
   "cell_type": "code",
   "execution_count": null,
   "metadata": {},
   "outputs": [],
   "source": [
    "datagrid.show(0, 10)"
   ]
  },
  {
   "cell_type": "markdown",
   "metadata": {},
   "source": [
    "You can sort by using whatever column you'd like."
   ]
  },
  {
   "cell_type": "code",
   "execution_count": null,
   "metadata": {},
   "outputs": [],
   "source": [
    "datagrid.sort(column=\"count\", direction=\"desc\")"
   ]
  },
  {
   "cell_type": "code",
   "execution_count": null,
   "metadata": {},
   "outputs": [],
   "source": [
    "datagrid.show(0, 20)"
   ]
  },
  {
   "cell_type": "markdown",
   "metadata": {},
   "source": [
    "### `.select_count(i, j)`"
   ]
  },
  {
   "cell_type": "markdown",
   "metadata": {},
   "source": [
    "This method returns the entries between $i$ and $j$, $[i, j]$, considering the `count` feature sorted in ascending order."
   ]
  },
  {
   "cell_type": "code",
   "execution_count": null,
   "metadata": {},
   "outputs": [],
   "source": [
    "datagrid.select_count(0, 20)"
   ]
  },
  {
   "cell_type": "code",
   "execution_count": null,
   "metadata": {},
   "outputs": [],
   "source": [
    "datagrid.select_count(0, 20, how=\"heapsort\")"
   ]
  },
  {
   "cell_type": "markdown",
   "metadata": {},
   "source": [
    "It does not change the internal state of the data structure, which can be confirmed by the `.show()` method. It shows the result of the last-applied sorting, before the `select_count()`."
   ]
  },
  {
   "cell_type": "code",
   "execution_count": null,
   "metadata": {},
   "outputs": [],
   "source": [
    "datagrid.show(0, 20)"
   ]
  },
  {
   "cell_type": "markdown",
   "metadata": {},
   "source": [
    "---"
   ]
  },
  {
   "cell_type": "markdown",
   "metadata": {},
   "source": [
    "# $\\Rightarrow$ Testing the **Open Addressing** nature of our **HashTable**"
   ]
  },
  {
   "cell_type": "code",
   "execution_count": 19,
   "metadata": {},
   "outputs": [],
   "source": [
    "from datagrid import DataGrid"
   ]
  },
  {
   "cell_type": "code",
   "execution_count": 20,
   "metadata": {},
   "outputs": [],
   "source": [
    "datagrid2 = DataGrid()"
   ]
  },
  {
   "cell_type": "markdown",
   "metadata": {},
   "source": [
    "Let's insert some values into the hashtable:"
   ]
  },
  {
   "cell_type": "code",
   "execution_count": 21,
   "metadata": {},
   "outputs": [],
   "source": [
    "ids = [1, 2, 3, 4, 5, 11, 21]\n",
    "\n",
    "for id in ids:\n",
    "    row = {}\n",
    "    row[\"id\"] = id\n",
    "    row[\"owner_id\"] = \"ABC123\"\n",
    "    row[\"creation_date\"] = \"2023/10/06 12:00:15\"\n",
    "    row[\"count\"] = id\n",
    "    row[\"name\"] = \"Item \" + str(id)\n",
    "    row[\"content\"] = \"This is the content for Item \" + str(id)\n",
    "    datagrid2.insert_row(row)"
   ]
  },
  {
   "cell_type": "code",
   "execution_count": 22,
   "metadata": {},
   "outputs": [
    {
     "name": "stdout",
     "output_type": "stream",
     "text": [
      "1 | ABC123 | 2023/10/06 12:00:15 | 1 | Item 1 | This is the content for Item 1\n",
      "2 | ABC123 | 2023/10/06 12:00:15 | 2 | Item 2 | This is the content for Item 2\n",
      "3 | ABC123 | 2023/10/06 12:00:15 | 3 | Item 3 | This is the content for Item 3\n",
      "4 | ABC123 | 2023/10/06 12:00:15 | 4 | Item 4 | This is the content for Item 4\n",
      "5 | ABC123 | 2023/10/06 12:00:15 | 5 | Item 5 | This is the content for Item 5\n",
      "11 | ABC123 | 2023/10/06 12:00:15 | 11 | Item 11 | This is the content for Item 11\n",
      "21 | ABC123 | 2023/10/06 12:00:15 | 21 | Item 21 | This is the content for Item 21\n"
     ]
    }
   ],
   "source": [
    "datagrid2.show(0, 10)"
   ]
  },
  {
   "cell_type": "markdown",
   "metadata": {},
   "source": [
    "If we search for the `id = 1`, we will see:"
   ]
  },
  {
   "cell_type": "code",
   "execution_count": 23,
   "metadata": {},
   "outputs": [
    {
     "name": "stdout",
     "output_type": "stream",
     "text": [
      "1 | ABC123 | 2023/10/06 12:00:15 | 1 | Item 1 | This is the content for Item 1\n"
     ]
    }
   ],
   "source": [
    "datagrid2.search(column=\"id\", value=1)"
   ]
  },
  {
   "cell_type": "markdown",
   "metadata": {},
   "source": [
    "Same for `id = 11`. Remember that our hash function is `h(x) = x % 10`, so they are both mapped to the same position."
   ]
  },
  {
   "cell_type": "code",
   "execution_count": 24,
   "metadata": {},
   "outputs": [
    {
     "name": "stdout",
     "output_type": "stream",
     "text": [
      "11 | ABC123 | 2023/10/06 12:00:15 | 11 | Item 11 | This is the content for Item 11\n"
     ]
    }
   ],
   "source": [
    "datagrid2.search(column=\"id\", value=11)"
   ]
  },
  {
   "cell_type": "markdown",
   "metadata": {},
   "source": [
    "Let's delete the entry with `id = 1`:"
   ]
  },
  {
   "cell_type": "code",
   "execution_count": 25,
   "metadata": {},
   "outputs": [
    {
     "name": "stdout",
     "output_type": "stream",
     "text": [
      "Row with id = 1 deleted\n"
     ]
    }
   ],
   "source": [
    "datagrid2.delete_row(column=\"id\", value=1)"
   ]
  },
  {
   "cell_type": "code",
   "execution_count": 26,
   "metadata": {},
   "outputs": [
    {
     "name": "stdout",
     "output_type": "stream",
     "text": [
      "Row with id = 1 not found\n"
     ]
    }
   ],
   "source": [
    "datagrid2.search(column=\"id\", value=1)"
   ]
  },
  {
   "cell_type": "markdown",
   "metadata": {},
   "source": [
    "If our implementation is right, we should still be able to find the entry with `id = 11`:"
   ]
  },
  {
   "cell_type": "code",
   "execution_count": 27,
   "metadata": {},
   "outputs": [
    {
     "name": "stdout",
     "output_type": "stream",
     "text": [
      "11 | ABC123 | 2023/10/06 12:00:15 | 11 | Item 11 | This is the content for Item 11\n"
     ]
    }
   ],
   "source": [
    "datagrid2.search(column=\"id\", value=11)"
   ]
  },
  {
   "cell_type": "markdown",
   "metadata": {},
   "source": [
    "It seems to work just fine. Let's try to delete the entry with `id = 11`:"
   ]
  },
  {
   "cell_type": "code",
   "execution_count": 28,
   "metadata": {},
   "outputs": [
    {
     "name": "stdout",
     "output_type": "stream",
     "text": [
      "Row with id = 11 deleted\n"
     ]
    }
   ],
   "source": [
    "datagrid2.delete_row(column=\"id\", value=11)"
   ]
  },
  {
   "cell_type": "markdown",
   "metadata": {},
   "source": [
    "If we search for it again, we should be informed that it does not exist:"
   ]
  },
  {
   "cell_type": "code",
   "execution_count": 29,
   "metadata": {},
   "outputs": [
    {
     "name": "stdout",
     "output_type": "stream",
     "text": [
      "Row with id = 11 not found\n"
     ]
    }
   ],
   "source": [
    "datagrid2.search(column=\"id\", value=11)"
   ]
  },
  {
   "cell_type": "markdown",
   "metadata": {},
   "source": [
    "Also note that our `.show()` method shows us each row, removing the deleted entries."
   ]
  },
  {
   "cell_type": "code",
   "execution_count": 30,
   "metadata": {},
   "outputs": [
    {
     "name": "stdout",
     "output_type": "stream",
     "text": [
      "2 | ABC123 | 2023/10/06 12:00:15 | 2 | Item 2 | This is the content for Item 2\n",
      "3 | ABC123 | 2023/10/06 12:00:15 | 3 | Item 3 | This is the content for Item 3\n",
      "4 | ABC123 | 2023/10/06 12:00:15 | 4 | Item 4 | This is the content for Item 4\n",
      "5 | ABC123 | 2023/10/06 12:00:15 | 5 | Item 5 | This is the content for Item 5\n",
      "21 | ABC123 | 2023/10/06 12:00:15 | 21 | Item 21 | This is the content for Item 21\n"
     ]
    }
   ],
   "source": [
    "datagrid2.show(0, 10)"
   ]
  },
  {
   "cell_type": "markdown",
   "metadata": {},
   "source": [
    "Note that we also have the entry with `id = 21`, which is mapped to the same position as `id = 1` and `id = 11`. Let's try to find it:"
   ]
  },
  {
   "cell_type": "code",
   "execution_count": 31,
   "metadata": {},
   "outputs": [
    {
     "name": "stdout",
     "output_type": "stream",
     "text": [
      "21 | ABC123 | 2023/10/06 12:00:15 | 21 | Item 21 | This is the content for Item 21\n"
     ]
    }
   ],
   "source": [
    "datagrid2.search(column=\"id\", value=21)"
   ]
  }
 ],
 "metadata": {
  "kernelspec": {
   "display_name": "Python 3",
   "language": "python",
   "name": "python3"
  },
  "language_info": {
   "codemirror_mode": {
    "name": "ipython",
    "version": 3
   },
   "file_extension": ".py",
   "mimetype": "text/x-python",
   "name": "python",
   "nbconvert_exporter": "python",
   "pygments_lexer": "ipython3",
   "version": "3.10.12"
  }
 },
 "nbformat": 4,
 "nbformat_minor": 2
}
