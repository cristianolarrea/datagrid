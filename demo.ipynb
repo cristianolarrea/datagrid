{
 "cells": [
  {
   "cell_type": "markdown",
   "metadata": {},
   "source": [
    "# $\\Rightarrow$ Testing the **DataGrid** module"
   ]
  },
  {
   "cell_type": "markdown",
   "metadata": {},
   "source": [
    "Import the class:"
   ]
  },
  {
   "cell_type": "code",
   "execution_count": 1,
   "metadata": {},
   "outputs": [],
   "source": [
    "from datagrid import DataGrid"
   ]
  },
  {
   "cell_type": "markdown",
   "metadata": {},
   "source": [
    "Instantiate the class:"
   ]
  },
  {
   "cell_type": "code",
   "execution_count": 2,
   "metadata": {},
   "outputs": [],
   "source": [
    "datagrid = DataGrid()"
   ]
  },
  {
   "cell_type": "markdown",
   "metadata": {},
   "source": [
    "### `.read_csv(file, sep = ',', encoding = 'utf-8')`"
   ]
  },
  {
   "cell_type": "markdown",
   "metadata": {},
   "source": [
    "You can read a `.csv` file into the datagrid object."
   ]
  },
  {
   "cell_type": "code",
   "execution_count": 3,
   "metadata": {},
   "outputs": [
    {
     "name": "stdout",
     "output_type": "stream",
     "text": [
      "File read successfully\n"
     ]
    }
   ],
   "source": [
    "datagrid.read_csv(\"data/data.csv\")"
   ]
  },
  {
   "cell_type": "markdown",
   "metadata": {},
   "source": [
    "### `.show(start = 0, end = 100)`"
   ]
  },
  {
   "cell_type": "markdown",
   "metadata": {},
   "source": [
    "You can also show the range of rows you'd like."
   ]
  },
  {
   "cell_type": "code",
   "execution_count": 4,
   "metadata": {},
   "outputs": [
    {
     "name": "stdout",
     "output_type": "stream",
     "text": [
      "1 | ELH65 | 2024/34/25 03:34:03 | 22 | Yvette Haynes | Phasellus fermentum convallis ligula. Donec luctus\n",
      "2 | EJF55 | 2024/59/25 02:59:09 | 7 | Kasimir Norris | Cras vulputate velit eu sem. Pellentesque ut ipsum ac mi\n",
      "3 | QXW32 | 2023/54/14 06:54:20 | 3 | Suki Mathis | sagittis felis. Donec tempor, est ac mattis semper, dui lectus rutrum urna,\n",
      "4 | HUV07 | 2023/47/15 11:47:27 | 3 | Akeem Greene | fringilla, porttitor vulputate, posuere vulputate, lacus. Cras interdum. Nunc sollicitudin commodo ipsum. Suspendisse non leo. Vivamus nibh\n",
      "5 | OZT82 | 2022/2/31 02:02:29 | 19 | Zeph Moody | lorem vitae odio sagittis semper. Nam tempor diam dictum sapien. Aenean massa. Integer vitae nibh. Donec est mauris, rhoncus\n",
      "6 | XLR32 | 2024/45/29 05:45:47 | 4 | Kay Witt | libero dui\n",
      "8 | KXQ01 | 2022/56/18 02:56:26 | 20 | Patience Monroe | ligula consectetuer rhoncus. Nullam velit dui, semper et, lacinia\n",
      "9 | CYU74 | 2024/35/20 11:35:24 | 6 | Rajah Sawyer | non nisi. Aenean eget metus. In nec orci. Donec nibh. Quisque nonummy ipsum non arcu.\n",
      "10 | GJL34 | 2023/35/22 07:35:23 | 0 | Ramona Herring | Nulla facilisi. Sed neque. Sed eget lacus. Mauris\n",
      "11 | XYF21 | 2023/5/12 02:05:02 | 7 | Armando Shannon | pharetra sed, hendrerit a, arcu. Sed et libero. Proin mi. Aliquam gravida mauris ut mi. Duis risus odio,\n"
     ]
    }
   ],
   "source": [
    "datagrid.show(0, 10)"
   ]
  },
  {
   "cell_type": "code",
   "execution_count": 5,
   "metadata": {},
   "outputs": [
    {
     "name": "stdout",
     "output_type": "stream",
     "text": [
      "Row with id = 1 deleted\n"
     ]
    }
   ],
   "source": [
    "datagrid.delete_row(column=\"id\", value=1)"
   ]
  },
  {
   "cell_type": "code",
   "execution_count": 6,
   "metadata": {},
   "outputs": [
    {
     "name": "stdout",
     "output_type": "stream",
     "text": [
      "2 | EJF55 | 2024/59/25 02:59:09 | 7 | Kasimir Norris | Cras vulputate velit eu sem. Pellentesque ut ipsum ac mi\n",
      "3 | QXW32 | 2023/54/14 06:54:20 | 3 | Suki Mathis | sagittis felis. Donec tempor, est ac mattis semper, dui lectus rutrum urna,\n",
      "4 | HUV07 | 2023/47/15 11:47:27 | 3 | Akeem Greene | fringilla, porttitor vulputate, posuere vulputate, lacus. Cras interdum. Nunc sollicitudin commodo ipsum. Suspendisse non leo. Vivamus nibh\n",
      "5 | OZT82 | 2022/2/31 02:02:29 | 19 | Zeph Moody | lorem vitae odio sagittis semper. Nam tempor diam dictum sapien. Aenean massa. Integer vitae nibh. Donec est mauris, rhoncus\n",
      "6 | XLR32 | 2024/45/29 05:45:47 | 4 | Kay Witt | libero dui\n",
      "8 | KXQ01 | 2022/56/18 02:56:26 | 20 | Patience Monroe | ligula consectetuer rhoncus. Nullam velit dui, semper et, lacinia\n",
      "9 | CYU74 | 2024/35/20 11:35:24 | 6 | Rajah Sawyer | non nisi. Aenean eget metus. In nec orci. Donec nibh. Quisque nonummy ipsum non arcu.\n",
      "10 | GJL34 | 2023/35/22 07:35:23 | 0 | Ramona Herring | Nulla facilisi. Sed neque. Sed eget lacus. Mauris\n",
      "11 | XYF21 | 2023/5/12 02:05:02 | 7 | Armando Shannon | pharetra sed, hendrerit a, arcu. Sed et libero. Proin mi. Aliquam gravida mauris ut mi. Duis risus odio,\n",
      "12 | MLK27 | 2024/59/23 11:59:28 | 15 | Lewis Mendez | bibendum sed, est. Nunc laoreet lectus quis massa. Mauris vestibulum, neque\n"
     ]
    }
   ],
   "source": [
    "datagrid.show(0, 10)"
   ]
  },
  {
   "cell_type": "markdown",
   "metadata": {},
   "source": [
    "### `.insert_row(row)`"
   ]
  },
  {
   "cell_type": "markdown",
   "metadata": {},
   "source": [
    "You may want to add rows through a dictionary:"
   ]
  },
  {
   "cell_type": "code",
   "execution_count": 7,
   "metadata": {},
   "outputs": [],
   "source": [
    "new_row = {\"id\": 98, \"owner_id\": \"ABC123\", \"creation_date\": \"2023/10/06 12:00:15\", \"count\": 6, \"name\": \"Item 98\", \"content\": \"This is the content for Item 98\"}\n",
    "datagrid.insert_row(new_row)"
   ]
  },
  {
   "cell_type": "code",
   "execution_count": 8,
   "metadata": {},
   "outputs": [],
   "source": [
    "new_row = {\"id\": 2, \"owner_id\": \"ABC123\", \"creation_date\": \"2023/10/06 12:00:15\", \"count\": 6, \"name\": \"Item 98\", \"content\": \"This is the content for Item 98\"}\n",
    "datagrid.insert_row(new_row)"
   ]
  },
  {
   "cell_type": "markdown",
   "metadata": {},
   "source": [
    "If the ID is already in the datagrid, the row will be updated:"
   ]
  },
  {
   "cell_type": "code",
   "execution_count": 9,
   "metadata": {},
   "outputs": [],
   "source": [
    "new_row = {\"id\": 2, \"owner_id\": \"ABC123\", \"creation_date\": \"2023/10/06 12:00:15\", \"count\": 6, \"name\": \"Item 98\", \"content\": \"This is the content for Item 98\"}\n",
    "datagrid.insert_row(new_row)"
   ]
  },
  {
   "cell_type": "markdown",
   "metadata": {},
   "source": [
    "### `.delete_row(column, value)`"
   ]
  },
  {
   "cell_type": "markdown",
   "metadata": {},
   "source": [
    "You can also delete rows based on the value of the columns:"
   ]
  },
  {
   "cell_type": "code",
   "execution_count": 10,
   "metadata": {},
   "outputs": [
    {
     "name": "stdout",
     "output_type": "stream",
     "text": [
      "Row with owner_id = ABC123 deleted\n",
      "Row with owner_id = ABC123 deleted\n",
      "Row with owner_id = ABC123 deleted\n"
     ]
    }
   ],
   "source": [
    "datagrid.delete_row(column=\"owner_id\", value=\"ABC123\")"
   ]
  },
  {
   "cell_type": "code",
   "execution_count": 11,
   "metadata": {},
   "outputs": [
    {
     "name": "stdout",
     "output_type": "stream",
     "text": [
      "Row with id = 1 not found\n"
     ]
    }
   ],
   "source": [
    "datagrid.delete_row(column=\"id\", value=1)"
   ]
  },
  {
   "cell_type": "code",
   "execution_count": 12,
   "metadata": {},
   "outputs": [
    {
     "name": "stdout",
     "output_type": "stream",
     "text": [
      "Row with count = 9 deleted\n",
      "Row with count = 9 deleted\n",
      "Row with count = 9 deleted\n",
      "Row with count = 9 deleted\n",
      "Row with count = 9 deleted\n",
      "Row with count = 9 deleted\n",
      "Row with count = 9 deleted\n",
      "Row with count = 9 deleted\n",
      "Row with count = 9 deleted\n",
      "Row with count = 9 deleted\n",
      "Row with count = 9 deleted\n",
      "Row with count = 9 deleted\n",
      "Row with count = 9 deleted\n",
      "Row with count = 9 deleted\n",
      "Row with count = 9 deleted\n",
      "Row with count = 9 deleted\n",
      "Row with count = 9 deleted\n",
      "Row with count = 9 deleted\n",
      "Row with count = 9 deleted\n",
      "Row with count = 9 deleted\n",
      "Row with count = 9 deleted\n",
      "Row with count = 9 deleted\n"
     ]
    }
   ],
   "source": [
    "datagrid.delete_row(column=\"count\", value=9)"
   ]
  },
  {
   "cell_type": "markdown",
   "metadata": {},
   "source": [
    "### `.search(column, value)`"
   ]
  },
  {
   "cell_type": "code",
   "execution_count": 13,
   "metadata": {},
   "outputs": [
    {
     "name": "stdout",
     "output_type": "stream",
     "text": [
      "5 | OZT82 | 2022/2/31 02:02:29 | 19 | Zeph Moody | lorem vitae odio sagittis semper. Nam tempor diam dictum sapien. Aenean massa. Integer vitae nibh. Donec est mauris, rhoncus\n"
     ]
    }
   ],
   "source": [
    "datagrid.search(column=\"id\", value=5)"
   ]
  },
  {
   "cell_type": "code",
   "execution_count": 14,
   "metadata": {},
   "outputs": [
    {
     "name": "stdout",
     "output_type": "stream",
     "text": [
      "Row with id = 1 not found\n"
     ]
    }
   ],
   "source": [
    "datagrid.search(column=\"id\", value=1)"
   ]
  },
  {
   "cell_type": "code",
   "execution_count": 15,
   "metadata": {},
   "outputs": [
    {
     "name": "stdout",
     "output_type": "stream",
     "text": [
      "10 | GJL34 | 2023/35/22 07:35:23 | 0 | Ramona Herring | Nulla facilisi. Sed neque. Sed eget lacus. Mauris\n",
      "98 | YSE34 | 2023/18/18 02:18:39 | 0 | Mohammad Branch | Nunc ut erat. Sed nunc est,\n",
      "113 | OZK61 | 2023/10/17 04:10:02 | 0 | Illana Mccoy | placerat velit. Quisque varius.\n",
      "131 | XPL63 | 2023/25/29 01:25:48 | 0 | Allegra Duran | congue. In scelerisque scelerisque dui. Suspendisse ac metus vitae velit egestas lacinia. Sed congue, elit sed\n",
      "243 | DKB72 | 2023/10/6 12:10:46 | 0 | Hyatt Andrews | facilisis, magna tellus faucibus leo, in lobortis tellus justo sit\n",
      "373 | NDI55 | 2022/50/10 03:50:56 | 0 | Magee Tyler | orci lobortis augue scelerisque mollis. Phasellus libero mauris, aliquam eu, accumsan sed, facilisis vitae, orci. Phasellus dapibus\n",
      "406 | SQT50 | 2023/55/20 04:55:51 | 0 | Kylan Woodard | aliquet molestie tellus. Aenean egestas hendrerit neque. In ornare sagittis felis. Donec tempor, est ac mattis semper,\n",
      "457 | FVI77 | 2024/33/15 12:33:42 | 0 | Thomas Simpson | congue a, aliquet vel, vulputate eu, odio. Phasellus at augue id\n",
      "487 | HFG20 | 2024/42/19 08:42:24 | 0 | Nora Meyers | parturient montes,\n"
     ]
    }
   ],
   "source": [
    "datagrid.search(column=\"count\", value=(0, 0))"
   ]
  },
  {
   "cell_type": "code",
   "execution_count": 16,
   "metadata": {},
   "outputs": [
    {
     "name": "stdout",
     "output_type": "stream",
     "text": [
      "5 | OZT82 | 2022/2/31 02:02:29 | 19 | Zeph Moody | lorem vitae odio sagittis semper. Nam tempor diam dictum sapien. Aenean massa. Integer vitae nibh. Donec est mauris, rhoncus\n",
      "34 | WOI26 | 2024/4/10 09:04:22 | 18 | Benjamin Knox | faucibus id, libero. Donec consectetuer mauris id sapien. Cras dolor\n",
      "52 | XQY70 | 2023/23/10 06:23:48 | 18 | Honorato Robinson | purus sapien, gravida non, sollicitudin a, malesuada id, erat. Etiam vestibulum massa\n",
      "114 | KIG89 | 2024/33/18 06:33:34 | 18 | Kellie Duffy | lorem ut aliquam iaculis, lacus\n",
      "133 | RKZ51 | 2022/14/21 09:14:54 | 19 | Jade Sparks | aliquam adipiscing lacus. Ut nec urna\n",
      "135 | ICS13 | 2023/57/14 10:57:20 | 19 | Kameko Mejia | vitae semper egestas, urna justo faucibus lectus, a sollicitudin orci sem eget massa. Suspendisse eleifend. Cras\n",
      "146 | XQD81 | 2023/55/20 04:55:10 | 19 | Alyssa Lang | convallis dolor. Quisque tincidunt\n",
      "157 | PXQ38 | 2023/25/28 11:25:07 | 19 | Fitzgerald Newton | semper rutrum. Fusce dolor quam, elementum at, egestas a, scelerisque sed, sapien. Nunc pulvinar arcu et\n",
      "183 | QWJ76 | 2022/43/20 02:43:40 | 18 | Naomi Roth | urna, nec luctus felis purus ac tellus. Suspendisse sed dolor. Fusce\n",
      "206 | FQD51 | 2023/9/19 09:09:16 | 19 | Ira Rutledge | nec enim. Nunc ut erat. Sed nunc est, mollis non, cursus non,\n",
      "231 | XAG65 | 2022/39/1 06:39:33 | 18 | Rashad Saunders | laoreet posuere, enim nisl elementum purus, accumsan interdum libero\n",
      "241 | UDC64 | 2023/24/4 02:24:25 | 19 | Lewis Davidson | magna. Phasellus dolor elit, pellentesque a, facilisis non, bibendum\n",
      "248 | SBP45 | 2024/19/30 01:19:45 | 18 | George Haney | scelerisque sed, sapien. Nunc pulvinar\n",
      "258 | KYR08 | 2023/49/25 07:49:11 | 19 | Ahmed Blevins | Maecenas mi felis, adipiscing\n",
      "276 | NSN95 | 2023/54/15 05:54:51 | 18 | Ray George | volutpat. Nulla facilisis. Suspendisse commodo tincidunt nibh. Phasellus nulla. Integer vulputate, risus\n",
      "284 | FUY08 | 2023/28/18 04:28:05 | 18 | Cullen Valenzuela | sociis natoque penatibus et magnis dis parturient montes, nascetur ridiculus\n",
      "290 | DTS51 | 2024/50/6 05:50:43 | 19 | Alice Guerrero | elementum at, egestas a, scelerisque sed, sapien. Nunc pulvinar arcu et pede. Nunc sed orci lobortis augue scelerisque\n",
      "302 | BJQ67 | 2024/45/23 12:45:54 | 18 | Ignatius Rogers | lorem ac risus.\n",
      "328 | VKP25 | 2024/0/21 08:00:49 | 18 | Kato Pennington | auctor quis, tristique ac, eleifend vitae, erat. Vivamus nisi. Mauris nulla. Integer urna. Vivamus molestie dapibus ligula.\n",
      "333 | YJF45 | 2023/5/23 12:05:07 | 18 | Hyatt Reeves | eu tellus. Phasellus elit pede,\n",
      "349 | UUE44 | 2024/27/17 09:27:55 | 18 | Linus Dyer | erat. Vivamus nisi. Mauris nulla. Integer urna.\n",
      "359 | LSH33 | 2024/36/1 07:36:58 | 18 | Cameron Curry | egestas. Aliquam\n",
      "370 | MTT18 | 2024/51/22 03:51:08 | 19 | Stewart Chan | sem elit, pharetra ut, pharetra sed, hendrerit a, arcu. Sed et libero. Proin mi. Aliquam gravida mauris\n",
      "371 | DUQ80 | 2023/5/22 09:05:08 | 18 | Ross Pena | ultricies sem magna nec quam. Curabitur vel lectus.\n",
      "401 | TMF51 | 2022/36/5 07:36:18 | 18 | Acton Huff | pede nec ante blandit viverra. Donec tempus, lorem fringilla ornare placerat, orci lacus vestibulum lorem, sit amet ultricies sem\n",
      "410 | MJA17 | 2023/27/2 04:27:47 | 18 | Hedy Ray | sit amet risus. Donec egestas.\n",
      "424 | QWH76 | 2023/28/14 04:28:52 | 19 | Uma Phillips | elementum sem, vitae aliquam eros turpis non enim. Mauris quis turpis vitae purus gravida sagittis. Duis\n",
      "429 | HIF27 | 2023/33/23 04:33:14 | 19 | Jordan Carr | orci. Phasellus dapibus quam quis diam. Pellentesque habitant morbi tristique senectus et netus\n",
      "436 | ECN50 | 2023/20/23 10:20:10 | 18 | Patrick Wolfe | Donec felis orci, adipiscing non, luctus sit\n",
      "473 | SUY39 | 2023/51/21 03:51:45 | 19 | Herrod Jefferson | Vivamus sit amet risus. Donec egestas. Aliquam nec\n",
      "488 | WMP51 | 2024/55/16 05:55:59 | 18 | Marvin Patton | fringilla cursus purus. Nullam scelerisque neque sed sem egestas blandit. Nam nulla magna, malesuada vel,\n",
      "495 | PFE71 | 2023/9/22 05:09:01 | 18 | Jasmine Horn | Fusce aliquet magna a neque. Nullam ut nisi\n"
     ]
    }
   ],
   "source": [
    "datagrid.search(column=\"count\", value=(18, 19))"
   ]
  },
  {
   "cell_type": "code",
   "execution_count": 17,
   "metadata": {},
   "outputs": [
    {
     "name": "stdout",
     "output_type": "stream",
     "text": [
      "5 | OZT82 | 2022/2/31 02:02:29 | 19 | Zeph Moody | lorem vitae odio sagittis semper. Nam tempor diam dictum sapien. Aenean massa. Integer vitae nibh. Donec est mauris, rhoncus\n"
     ]
    }
   ],
   "source": [
    "datagrid.search(column=\"owner_id\", value=\"OZT82\")"
   ]
  },
  {
   "cell_type": "markdown",
   "metadata": {},
   "source": [
    "### `.sort(column, direction = 'asc')`"
   ]
  },
  {
   "cell_type": "code",
   "execution_count": 18,
   "metadata": {},
   "outputs": [
    {
     "ename": "TypeError",
     "evalue": "'<' not supported between instances of 'Event' and 'Event'",
     "output_type": "error",
     "traceback": [
      "\u001b[0;31m---------------------------------------------------------------------------\u001b[0m",
      "\u001b[0;31mTypeError\u001b[0m                                 Traceback (most recent call last)",
      "\u001b[1;32m/home/felipe/Área de Trabalho/datagrid/demo.ipynb Cell 32\u001b[0m line \u001b[0;36m1\n\u001b[0;32m----> <a href='vscode-notebook-cell:/home/felipe/%C3%81rea%20de%20Trabalho/datagrid/demo.ipynb#Y166sZmlsZQ%3D%3D?line=0'>1</a>\u001b[0m datagrid\u001b[39m.\u001b[39msort(column\u001b[39m=\u001b[39m\u001b[39m\"\u001b[39m\u001b[39mid\u001b[39m\u001b[39m\"\u001b[39m, direction\u001b[39m=\u001b[39m\u001b[39m\"\u001b[39m\u001b[39mdesc\u001b[39m\u001b[39m\"\u001b[39m)\n",
      "File \u001b[0;32m~/Área de Trabalho/datagrid/datagrid.py:125\u001b[0m, in \u001b[0;36mDataGrid.sort\u001b[0;34m(self, column, direction)\u001b[0m\n\u001b[1;32m    122\u001b[0m     arr \u001b[39m=\u001b[39m radix_sort_strings(arr, \u001b[39m20\u001b[39m)\n\u001b[1;32m    124\u001b[0m \u001b[39mif\u001b[39;00m column \u001b[39m==\u001b[39m \u001b[39m'\u001b[39m\u001b[39mid\u001b[39m\u001b[39m'\u001b[39m \u001b[39mor\u001b[39;00m column \u001b[39m==\u001b[39m \u001b[39m'\u001b[39m\u001b[39mcount\u001b[39m\u001b[39m'\u001b[39m \u001b[39mor\u001b[39;00m column\u001b[39m==\u001b[39m\u001b[39m'\u001b[39m\u001b[39mcontent\u001b[39m\u001b[39m'\u001b[39m:\n\u001b[0;32m--> 125\u001b[0m     arr \u001b[39m=\u001b[39m mergesort(arr)\n\u001b[1;32m    127\u001b[0m \u001b[39mif\u001b[39;00m direction\u001b[39m==\u001b[39m\u001b[39m'\u001b[39m\u001b[39mdesc\u001b[39m\u001b[39m'\u001b[39m:\n\u001b[1;32m    128\u001b[0m     arr \u001b[39m=\u001b[39m \u001b[39mself\u001b[39m\u001b[39m.\u001b[39m_invert_order(arr)\n",
      "File \u001b[0;32m~/Área de Trabalho/datagrid/sort.py:57\u001b[0m, in \u001b[0;36mmergesort\u001b[0;34m(arr)\u001b[0m\n\u001b[1;32m     54\u001b[0m left_half \u001b[39m=\u001b[39m arr[:mid]\n\u001b[1;32m     55\u001b[0m right_half \u001b[39m=\u001b[39m arr[mid:]\n\u001b[0;32m---> 57\u001b[0m left_half \u001b[39m=\u001b[39m mergesort(left_half)\n\u001b[1;32m     58\u001b[0m right_half \u001b[39m=\u001b[39m mergesort(right_half)\n\u001b[1;32m     60\u001b[0m \u001b[39mreturn\u001b[39;00m merge(left_half, right_half)\n",
      "File \u001b[0;32m~/Área de Trabalho/datagrid/sort.py:57\u001b[0m, in \u001b[0;36mmergesort\u001b[0;34m(arr)\u001b[0m\n\u001b[1;32m     54\u001b[0m left_half \u001b[39m=\u001b[39m arr[:mid]\n\u001b[1;32m     55\u001b[0m right_half \u001b[39m=\u001b[39m arr[mid:]\n\u001b[0;32m---> 57\u001b[0m left_half \u001b[39m=\u001b[39m mergesort(left_half)\n\u001b[1;32m     58\u001b[0m right_half \u001b[39m=\u001b[39m mergesort(right_half)\n\u001b[1;32m     60\u001b[0m \u001b[39mreturn\u001b[39;00m merge(left_half, right_half)\n",
      "    \u001b[0;31m[... skipping similar frames: mergesort at line 57 (4 times)]\u001b[0m\n",
      "File \u001b[0;32m~/Área de Trabalho/datagrid/sort.py:57\u001b[0m, in \u001b[0;36mmergesort\u001b[0;34m(arr)\u001b[0m\n\u001b[1;32m     54\u001b[0m left_half \u001b[39m=\u001b[39m arr[:mid]\n\u001b[1;32m     55\u001b[0m right_half \u001b[39m=\u001b[39m arr[mid:]\n\u001b[0;32m---> 57\u001b[0m left_half \u001b[39m=\u001b[39m mergesort(left_half)\n\u001b[1;32m     58\u001b[0m right_half \u001b[39m=\u001b[39m mergesort(right_half)\n\u001b[1;32m     60\u001b[0m \u001b[39mreturn\u001b[39;00m merge(left_half, right_half)\n",
      "File \u001b[0;32m~/Área de Trabalho/datagrid/sort.py:58\u001b[0m, in \u001b[0;36mmergesort\u001b[0;34m(arr)\u001b[0m\n\u001b[1;32m     55\u001b[0m right_half \u001b[39m=\u001b[39m arr[mid:]\n\u001b[1;32m     57\u001b[0m left_half \u001b[39m=\u001b[39m mergesort(left_half)\n\u001b[0;32m---> 58\u001b[0m right_half \u001b[39m=\u001b[39m mergesort(right_half)\n\u001b[1;32m     60\u001b[0m \u001b[39mreturn\u001b[39;00m merge(left_half, right_half)\n",
      "File \u001b[0;32m~/Área de Trabalho/datagrid/sort.py:60\u001b[0m, in \u001b[0;36mmergesort\u001b[0;34m(arr)\u001b[0m\n\u001b[1;32m     57\u001b[0m left_half \u001b[39m=\u001b[39m mergesort(left_half)\n\u001b[1;32m     58\u001b[0m right_half \u001b[39m=\u001b[39m mergesort(right_half)\n\u001b[0;32m---> 60\u001b[0m \u001b[39mreturn\u001b[39;00m merge(left_half, right_half)\n",
      "File \u001b[0;32m~/Área de Trabalho/datagrid/sort.py:38\u001b[0m, in \u001b[0;36mmerge\u001b[0;34m(left, right)\u001b[0m\n\u001b[1;32m     35\u001b[0m right_idx \u001b[39m=\u001b[39m \u001b[39m0\u001b[39m\n\u001b[1;32m     37\u001b[0m \u001b[39mwhile\u001b[39;00m left_idx \u001b[39m<\u001b[39m \u001b[39mlen\u001b[39m(left) \u001b[39mand\u001b[39;00m right_idx \u001b[39m<\u001b[39m \u001b[39mlen\u001b[39m(right):\n\u001b[0;32m---> 38\u001b[0m     \u001b[39mif\u001b[39;00m left[left_idx] \u001b[39m<\u001b[39;49m right[right_idx]:\n\u001b[1;32m     39\u001b[0m         result\u001b[39m.\u001b[39mappend(left[left_idx])\n\u001b[1;32m     40\u001b[0m         left_idx \u001b[39m+\u001b[39m\u001b[39m=\u001b[39m \u001b[39m1\u001b[39m\n",
      "\u001b[0;31mTypeError\u001b[0m: '<' not supported between instances of 'Event' and 'Event'"
     ]
    }
   ],
   "source": [
    "datagrid.sort(column=\"id\", direction=\"desc\")"
   ]
  },
  {
   "cell_type": "markdown",
   "metadata": {},
   "source": [
    "Sort changes the internal structure of the table (check the first use of `.show()` method up on the notebook):"
   ]
  },
  {
   "cell_type": "code",
   "execution_count": null,
   "metadata": {},
   "outputs": [],
   "source": [
    "datagrid.show(0, 10)"
   ]
  },
  {
   "cell_type": "markdown",
   "metadata": {},
   "source": [
    "You can sort by using whatever column you'd like."
   ]
  },
  {
   "cell_type": "code",
   "execution_count": null,
   "metadata": {},
   "outputs": [],
   "source": [
    "datagrid.sort(column=\"count\", direction=\"desc\")"
   ]
  },
  {
   "cell_type": "code",
   "execution_count": null,
   "metadata": {},
   "outputs": [],
   "source": [
    "datagrid.show(0, 20)"
   ]
  },
  {
   "cell_type": "markdown",
   "metadata": {},
   "source": [
    "### `.select_count(i, j)`"
   ]
  },
  {
   "cell_type": "markdown",
   "metadata": {},
   "source": [
    "This method returns the entries between $i$ and $j$, $[i, j]$, considering the `count` feature sorted in ascending order."
   ]
  },
  {
   "cell_type": "code",
   "execution_count": null,
   "metadata": {},
   "outputs": [],
   "source": [
    "datagrid.select_count(0, 20)"
   ]
  },
  {
   "cell_type": "code",
   "execution_count": null,
   "metadata": {},
   "outputs": [],
   "source": [
    "datagrid.select_count(0, 20, how=\"heapsort\")"
   ]
  },
  {
   "cell_type": "markdown",
   "metadata": {},
   "source": [
    "It does not change the internal state of the data structure, which can be confirmed by the `.show()` method. It shows the result of the last-applied sorting, before the `select_count()`."
   ]
  },
  {
   "cell_type": "code",
   "execution_count": null,
   "metadata": {},
   "outputs": [],
   "source": [
    "datagrid.show(0, 20)"
   ]
  },
  {
   "cell_type": "markdown",
   "metadata": {},
   "source": [
    "---"
   ]
  },
  {
   "cell_type": "markdown",
   "metadata": {},
   "source": [
    "# $\\Rightarrow$ Testing the **Open Addressing** nature of our **HashTable**"
   ]
  },
  {
   "cell_type": "code",
   "execution_count": 19,
   "metadata": {},
   "outputs": [],
   "source": [
    "from datagrid import DataGrid"
   ]
  },
  {
   "cell_type": "code",
   "execution_count": 20,
   "metadata": {},
   "outputs": [],
   "source": [
    "datagrid2 = DataGrid()"
   ]
  },
  {
   "cell_type": "markdown",
   "metadata": {},
   "source": [
    "Let's insert some values into the hashtable:"
   ]
  },
  {
   "cell_type": "code",
   "execution_count": 21,
   "metadata": {},
   "outputs": [],
   "source": [
    "ids = [1, 2, 3, 4, 5, 11, 21]\n",
    "\n",
    "for id in ids:\n",
    "    row = {}\n",
    "    row[\"id\"] = id\n",
    "    row[\"owner_id\"] = \"ABC123\"\n",
    "    row[\"creation_date\"] = \"2023/10/06 12:00:15\"\n",
    "    row[\"count\"] = id\n",
    "    row[\"name\"] = \"Item \" + str(id)\n",
    "    row[\"content\"] = \"This is the content for Item \" + str(id)\n",
    "    datagrid2.insert_row(row)"
   ]
  },
  {
   "cell_type": "code",
   "execution_count": 22,
   "metadata": {},
   "outputs": [
    {
     "name": "stdout",
     "output_type": "stream",
     "text": [
      "1 | ABC123 | 2023/10/06 12:00:15 | 1 | Item 1 | This is the content for Item 1\n",
      "2 | ABC123 | 2023/10/06 12:00:15 | 2 | Item 2 | This is the content for Item 2\n",
      "3 | ABC123 | 2023/10/06 12:00:15 | 3 | Item 3 | This is the content for Item 3\n",
      "4 | ABC123 | 2023/10/06 12:00:15 | 4 | Item 4 | This is the content for Item 4\n",
      "5 | ABC123 | 2023/10/06 12:00:15 | 5 | Item 5 | This is the content for Item 5\n",
      "11 | ABC123 | 2023/10/06 12:00:15 | 11 | Item 11 | This is the content for Item 11\n",
      "21 | ABC123 | 2023/10/06 12:00:15 | 21 | Item 21 | This is the content for Item 21\n"
     ]
    }
   ],
   "source": [
    "datagrid2.show(0, 10)"
   ]
  },
  {
   "cell_type": "markdown",
   "metadata": {},
   "source": [
    "If we search for the `id = 1`, we will see:"
   ]
  },
  {
   "cell_type": "code",
   "execution_count": 23,
   "metadata": {},
   "outputs": [
    {
     "name": "stdout",
     "output_type": "stream",
     "text": [
      "1 | ABC123 | 2023/10/06 12:00:15 | 1 | Item 1 | This is the content for Item 1\n"
     ]
    }
   ],
   "source": [
    "datagrid2.search(column=\"id\", value=1)"
   ]
  },
  {
   "cell_type": "markdown",
   "metadata": {},
   "source": [
    "Same for `id = 11`. Remember that our hash function is `h(x) = x % 10`, so they are both mapped to the same position."
   ]
  },
  {
   "cell_type": "code",
   "execution_count": 24,
   "metadata": {},
   "outputs": [
    {
     "name": "stdout",
     "output_type": "stream",
     "text": [
      "11 | ABC123 | 2023/10/06 12:00:15 | 11 | Item 11 | This is the content for Item 11\n"
     ]
    }
   ],
   "source": [
    "datagrid2.search(column=\"id\", value=11)"
   ]
  },
  {
   "cell_type": "markdown",
   "metadata": {},
   "source": [
    "Let's delete the entry with `id = 1`:"
   ]
  },
  {
   "cell_type": "code",
   "execution_count": 25,
   "metadata": {},
   "outputs": [
    {
     "name": "stdout",
     "output_type": "stream",
     "text": [
      "Row with id = 1 deleted\n"
     ]
    }
   ],
   "source": [
    "datagrid2.delete_row(column=\"id\", value=1)"
   ]
  },
  {
   "cell_type": "code",
   "execution_count": 26,
   "metadata": {},
   "outputs": [
    {
     "name": "stdout",
     "output_type": "stream",
     "text": [
      "Row with id = 1 not found\n"
     ]
    }
   ],
   "source": [
    "datagrid2.search(column=\"id\", value=1)"
   ]
  },
  {
   "cell_type": "markdown",
   "metadata": {},
   "source": [
    "If our implementation is right, we should still be able to find the entry with `id = 11`:"
   ]
  },
  {
   "cell_type": "code",
   "execution_count": 27,
   "metadata": {},
   "outputs": [
    {
     "name": "stdout",
     "output_type": "stream",
     "text": [
      "11 | ABC123 | 2023/10/06 12:00:15 | 11 | Item 11 | This is the content for Item 11\n"
     ]
    }
   ],
   "source": [
    "datagrid2.search(column=\"id\", value=11)"
   ]
  },
  {
   "cell_type": "markdown",
   "metadata": {},
   "source": [
    "It seems to work just fine. Let's try to delete the entry with `id = 11`:"
   ]
  },
  {
   "cell_type": "code",
   "execution_count": 28,
   "metadata": {},
   "outputs": [
    {
     "name": "stdout",
     "output_type": "stream",
     "text": [
      "Row with id = 11 deleted\n"
     ]
    }
   ],
   "source": [
    "datagrid2.delete_row(column=\"id\", value=11)"
   ]
  },
  {
   "cell_type": "markdown",
   "metadata": {},
   "source": [
    "If we search for it again, we should be informed that it does not exist:"
   ]
  },
  {
   "cell_type": "code",
   "execution_count": 29,
   "metadata": {},
   "outputs": [
    {
     "name": "stdout",
     "output_type": "stream",
     "text": [
      "Row with id = 11 not found\n"
     ]
    }
   ],
   "source": [
    "datagrid2.search(column=\"id\", value=11)"
   ]
  },
  {
   "cell_type": "markdown",
   "metadata": {},
   "source": [
    "Also note that our `.show()` method shows us each row, removing the deleted entries."
   ]
  },
  {
   "cell_type": "code",
   "execution_count": 30,
   "metadata": {},
   "outputs": [
    {
     "name": "stdout",
     "output_type": "stream",
     "text": [
      "2 | ABC123 | 2023/10/06 12:00:15 | 2 | Item 2 | This is the content for Item 2\n",
      "3 | ABC123 | 2023/10/06 12:00:15 | 3 | Item 3 | This is the content for Item 3\n",
      "4 | ABC123 | 2023/10/06 12:00:15 | 4 | Item 4 | This is the content for Item 4\n",
      "5 | ABC123 | 2023/10/06 12:00:15 | 5 | Item 5 | This is the content for Item 5\n",
      "21 | ABC123 | 2023/10/06 12:00:15 | 21 | Item 21 | This is the content for Item 21\n"
     ]
    }
   ],
   "source": [
    "datagrid2.show(0, 10)"
   ]
  },
  {
   "cell_type": "markdown",
   "metadata": {},
   "source": [
    "Note that we also have the entry with `id = 21`, which is mapped to the same position as `id = 1` and `id = 11`. Let's try to find it:"
   ]
  },
  {
   "cell_type": "code",
   "execution_count": 31,
   "metadata": {},
   "outputs": [
    {
     "name": "stdout",
     "output_type": "stream",
     "text": [
      "21 | ABC123 | 2023/10/06 12:00:15 | 21 | Item 21 | This is the content for Item 21\n"
     ]
    }
   ],
   "source": [
    "datagrid2.search(column=\"id\", value=21)"
   ]
  },
  {
   "cell_type": "markdown",
   "metadata": {},
   "source": [
    "# Testing search algorithms"
   ]
  },
  {
   "cell_type": "code",
   "execution_count": 4,
   "metadata": {},
   "outputs": [
    {
     "name": "stdout",
     "output_type": "stream",
     "text": [
      "1 | ELH65 | 2024/34/25 03:34:03 | 22 | Yvette Haynes | Phasellus fermentum convallis ligula. Donec luctus\n",
      "2 | EJF55 | 2024/59/25 02:59:09 | 7 | Kasimir Norris | Cras vulputate velit eu sem. Pellentesque ut ipsum ac mi\n",
      "3 | QXW32 | 2023/54/14 06:54:20 | 3 | Suki Mathis | sagittis felis. Donec tempor, est ac mattis semper, dui lectus rutrum urna,\n",
      "4 | HUV07 | 2023/47/15 11:47:27 | 3 | Akeem Greene | fringilla, porttitor vulputate, posuere vulputate, lacus. Cras interdum. Nunc sollicitudin commodo ipsum. Suspendisse non leo. Vivamus nibh\n",
      "5 | OZT82 | 2022/2/31 02:02:29 | 19 | Zeph Moody | lorem vitae odio sagittis semper. Nam tempor diam dictum sapien. Aenean massa. Integer vitae nibh. Donec est mauris, rhoncus\n",
      "6 | XLR32 | 2024/45/29 05:45:47 | 4 | Kay Witt | libero dui\n",
      "8 | KXQ01 | 2022/56/18 02:56:26 | 20 | Patience Monroe | ligula consectetuer rhoncus. Nullam velit dui, semper et, lacinia\n",
      "9 | CYU74 | 2024/35/20 11:35:24 | 6 | Rajah Sawyer | non nisi. Aenean eget metus. In nec orci. Donec nibh. Quisque nonummy ipsum non arcu.\n",
      "10 | GJL34 | 2023/35/22 07:35:23 | 0 | Ramona Herring | Nulla facilisi. Sed neque. Sed eget lacus. Mauris\n",
      "11 | XYF21 | 2023/5/12 02:05:02 | 7 | Armando Shannon | pharetra sed, hendrerit a, arcu. Sed et libero. Proin mi. Aliquam gravida mauris ut mi. Duis risus odio,\n",
      "12 | MLK27 | 2024/59/23 11:59:28 | 15 | Lewis Mendez | bibendum sed, est. Nunc laoreet lectus quis massa. Mauris vestibulum, neque\n",
      "13 | MLV23 | 2024/27/21 07:27:14 | 1 | Gage Bowers | a odio semper cursus. Integer mollis. Integer tincidunt aliquam arcu. Aliquam ultrices iaculis odio. Nam interdum\n",
      "14 | FLW86 | 2023/7/22 07:07:29 | 21 | Reese Navarro | natoque penatibus et magnis dis parturient montes, nascetur ridiculus mus. Aenean eget magna.\n",
      "15 | UEV15 | 2023/45/25 01:45:08 | 1 | Irene Hodge | magna. Lorem ipsum dolor sit\n",
      "16 | OKF65 | 2024/59/29 03:59:21 | 10 | Oscar Banks | Aenean gravida nunc sed pede. Cum sociis natoque penatibus\n",
      "17 | QCH88 | 2023/31/14 04:31:40 | 23 | Robin Haney | Donec tincidunt. Donec vitae\n",
      "18 | IAP19 | 2024/11/13 11:11:04 | 10 | Adria Flowers | facilisis. Suspendisse\n",
      "19 | CVS26 | 2023/55/7 05:55:01 | 25 | Charity Ferguson | orci tincidunt adipiscing. Mauris molestie pharetra nibh. Aliquam ornare, libero at auctor ullamcorper,\n",
      "20 | OLI61 | 2024/47/20 01:47:02 | 8 | Isadora Kirk | primis in\n",
      "21 | NAX44 | 2023/18/26 10:18:20 | 5 | Travis Irwin | egestas blandit. Nam nulla magna, malesuada vel, convallis in, cursus et, eros. Proin ultrices. Duis volutpat nunc sit\n",
      "22 | ROM35 | 2023/13/10 07:13:19 | 12 | Kitra Terry | diam. Duis mi\n",
      "23 | GJJ26 | 2024/55/9 08:55:09 | 24 | Allegra Byers | Proin sed\n",
      "24 | GUB57 | 2022/9/10 06:09:46 | 28 | Lynn Richard | et, rutrum\n",
      "25 | YOF49 | 2024/20/9 07:20:59 | 9 | Imani Salinas | ac, eleifend vitae, erat. Vivamus nisi. Mauris nulla. Integer urna. Vivamus molestie dapibus ligula. Aliquam erat\n",
      "26 | SVS23 | 2023/0/24 06:00:27 | 7 | Yeo May | lacus. Nulla tincidunt, neque vitae semper egestas,\n",
      "27 | GQG11 | 2023/35/8 09:35:31 | 6 | Armand Medina | ut, pellentesque eget, dictum placerat, augue. Sed molestie. Sed\n",
      "28 | UGK34 | 2023/3/30 02:03:44 | 11 | Nigel Avila | mauris eu elit. Nulla facilisi. Sed neque. Sed eget lacus. Mauris non dui\n",
      "29 | HPI46 | 2024/24/20 12:24:08 | 4 | Hedda Chen | orci tincidunt adipiscing. Mauris molestie pharetra nibh. Aliquam\n",
      "30 | XVI58 | 2023/30/2 03:30:29 | 21 | Kasper Webster | vel, vulputate eu, odio. Phasellus at augue id ante dictum cursus. Nunc mauris elit, dictum eu, eleifend nec, malesuada\n",
      "31 | DDW84 | 2024/19/9 08:19:49 | 17 | Cheyenne Lowery | nisi nibh lacinia orci, consectetuer euismod\n",
      "32 | CON07 | 2024/17/24 03:17:44 | 17 | Ella Dyer | lectus quis massa.\n",
      "33 | AQY12 | 2024/20/10 02:20:22 | 13 | Jared Bonner | facilisis lorem tristique aliquet. Phasellus fermentum convallis ligula. Donec\n",
      "34 | WOI26 | 2024/4/10 09:04:22 | 18 | Benjamin Knox | faucibus id, libero. Donec consectetuer mauris id sapien. Cras dolor\n",
      "35 | KRL83 | 2023/55/20 11:55:36 | 14 | Keiko Bush | Nulla aliquet. Proin velit. Sed malesuada augue ut lacus.\n",
      "36 | ULX33 | 2023/30/9 05:30:39 | 15 | Bevis Horne | Duis volutpat nunc sit amet metus. Aliquam erat volutpat. Nulla facilisis. Suspendisse commodo\n",
      "37 | GAW64 | 2024/29/30 11:29:44 | 27 | Kuame Booth | eget nisi dictum augue malesuada malesuada.\n",
      "38 | DZW55 | 2024/14/14 08:14:07 | 9 | Judah Bartlett | Nulla eu neque pellentesque massa lobortis ultrices. Vivamus rhoncus. Donec est. Nunc ullamcorper, velit\n",
      "39 | XHD44 | 2024/38/22 11:38:58 | 2 | Destiny Valenzuela | tincidunt. Donec vitae erat vel pede blandit\n",
      "40 | JTC48 | 2022/47/27 05:47:55 | 28 | Andrew Knox | rhoncus. Proin nisl sem, consequat\n",
      "41 | VKP28 | 2023/25/12 11:25:26 | 2 | Kirestin Bird | Cras dictum ultricies ligula. Nullam enim. Sed nulla ante, iaculis\n",
      "42 | EPW42 | 2024/59/14 12:59:45 | 13 | Karen Barber | conubia nostra, per inceptos hymenaeos. Mauris ut quam vel sapien imperdiet ornare.\n",
      "43 | TBN74 | 2022/42/14 05:42:16 | 17 | Wesley Stevenson | pede. Nunc sed orci lobortis augue scelerisque mollis. Phasellus libero mauris, aliquam eu, accumsan sed, facilisis vitae, orci. Phasellus dapibus\n",
      "44 | DSR67 | 2024/25/21 04:25:33 | 16 | Alisa Willis | nisi sem semper erat, in consectetuer ipsum nunc id enim. Curabitur\n",
      "45 | IYI80 | 2023/38/31 02:38:58 | 10 | Roanna Tucker | ornare placerat, orci lacus vestibulum lorem, sit amet\n",
      "46 | ITP33 | 2023/40/14 08:40:37 | 6 | Rylee Tanner | placerat. Cras dictum ultricies ligula.\n",
      "47 | RVD27 | 2023/55/28 12:55:29 | 11 | Ocean Levine | at lacus. Quisque purus sapien, gravida non, sollicitudin a, malesuada id, erat. Etiam\n",
      "48 | WQY70 | 2023/15/21 04:15:51 | 24 | Lydia Lynn | accumsan neque et nunc. Quisque ornare tortor at risus. Nunc ac sem ut dolor dapibus gravida. Aliquam\n",
      "49 | HFL17 | 2022/17/20 03:17:25 | 22 | Alea Gallegos | eu tellus. Phasellus\n",
      "50 | UQW43 | 2024/52/16 03:52:49 | 21 | Clark Bush | nonummy ultricies ornare, elit elit fermentum risus, at\n",
      "51 | NCS82 | 2024/23/16 10:23:05 | 10 | Edward Hopper | ac ipsum. Phasellus vitae mauris sit\n",
      "52 | XQY70 | 2023/23/10 06:23:48 | 18 | Honorato Robinson | purus sapien, gravida non, sollicitudin a, malesuada id, erat. Etiam vestibulum massa\n",
      "53 | OUD75 | 2023/49/19 10:49:05 | 28 | Dai Mitchell | quis lectus. Nullam\n",
      "54 | TUW63 | 2024/0/22 03:00:21 | 24 | Marsden Barr | leo. Morbi neque tellus, imperdiet non, vestibulum nec, euismod in, dolor. Fusce\n",
      "55 | THH38 | 2024/38/25 09:38:41 | 26 | Ivor Reid | Proin velit. Sed malesuada augue ut lacus. Nulla tincidunt, neque vitae semper egestas, urna justo faucibus lectus, a\n",
      "56 | RCQ48 | 2022/7/24 12:07:37 | 11 | Zane Eaton | faucibus id, libero. Donec consectetuer mauris id sapien. Cras dolor dolor,\n",
      "57 | NXE86 | 2024/43/22 03:43:22 | 23 | Cassandra Salas | enim. Suspendisse aliquet, sem ut cursus luctus, ipsum leo elementum sem, vitae aliquam\n",
      "58 | FTW61 | 2024/43/7 05:43:17 | 3 | Nola Gill | mauris ipsum\n",
      "59 | OCI62 | 2022/21/31 03:21:30 | 3 | Kermit Beach | Sed nec metus facilisis lorem tristique aliquet. Phasellus fermentum convallis ligula. Donec luctus aliquet odio. Etiam ligula tortor, dictum\n",
      "60 | DEN17 | 2024/31/2 09:31:30 | 1 | Yoko Hernandez | Duis at lacus. Quisque purus sapien, gravida non, sollicitudin a, malesuada id, erat. Etiam\n",
      "61 | MDW74 | 2023/26/31 10:26:43 | 8 | Mariam Flores | semper cursus. Integer mollis. Integer tincidunt aliquam arcu. Aliquam ultrices iaculis\n",
      "62 | EBS62 | 2023/11/22 06:11:02 | 3 | Timon Ballard | mauris ut mi. Duis risus odio, auctor vitae, aliquet nec, imperdiet\n",
      "63 | ENH50 | 2024/8/21 05:08:08 | 8 | Marshall Hartman | est, congue a, aliquet vel, vulputate eu, odio. Phasellus at augue id\n",
      "64 | LYP41 | 2023/47/20 05:47:01 | 22 | Ruby Silva | Aenean euismod mauris eu\n",
      "65 | JOF50 | 2023/38/6 02:38:58 | 9 | Sage Kelley | orci, in consequat enim diam vel arcu. Curabitur ut odio vel est tempor bibendum.\n",
      "66 | ZQI45 | 2023/36/25 04:36:36 | 2 | Emma Hobbs | vestibulum, neque sed dictum eleifend, nunc risus varius orci, in consequat\n",
      "67 | NKD57 | 2022/59/29 05:59:16 | 29 | Athena Tyler | Praesent eu dui. Cum sociis natoque penatibus et magnis dis parturient montes, nascetur ridiculus mus. Aenean\n",
      "68 | OTB50 | 2022/44/20 11:44:10 | 20 | Abraham French | justo sit amet nulla. Donec non justo. Proin non massa\n",
      "69 | RTG70 | 2024/54/31 12:54:25 | 28 | Selma White | fringilla. Donec\n",
      "70 | CGJ38 | 2023/7/6 06:07:38 | 7 | Gay Lamb | neque vitae semper egestas, urna\n",
      "71 | JLJ16 | 2023/49/11 08:49:13 | 11 | Uriel Burke | enim, sit amet ornare lectus justo eu arcu. Morbi sit amet massa. Quisque porttitor eros nec tellus. Nunc lectus\n",
      "72 | XWT76 | 2024/11/31 02:11:19 | 20 | Lester Campbell | mauris elit, dictum eu, eleifend nec, malesuada ut, sem. Nulla interdum.\n",
      "73 | QLQ92 | 2024/8/24 09:08:56 | 17 | Cade Hess | pharetra. Quisque ac libero nec ligula consectetuer rhoncus. Nullam velit dui, semper et, lacinia vitae,\n",
      "74 | WQI12 | 2024/41/6 07:41:43 | 7 | Melinda Glover | pharetra sed, hendrerit a,\n",
      "75 | OBU34 | 2023/15/13 04:15:47 | 20 | Donovan Rush | risus varius orci, in consequat enim diam vel arcu. Curabitur ut odio vel est tempor bibendum.\n",
      "76 | XEV44 | 2023/13/28 10:13:25 | 26 | Xander Bennett | orci, in consequat enim diam vel arcu. Curabitur ut odio vel est tempor bibendum. Donec felis orci, adipiscing non,\n",
      "77 | HRW70 | 2024/41/2 05:41:58 | 15 | Sybil Daniels | id, blandit at,\n",
      "78 | OKC86 | 2024/49/2 12:49:24 | 20 | Gage Nguyen | nec, malesuada ut, sem. Nulla interdum. Curabitur dictum. Phasellus in felis. Nulla\n",
      "79 | MDO41 | 2023/4/26 03:04:42 | 5 | Gannon Alford | arcu ac orci. Ut semper pretium neque. Morbi quis urna. Nunc quis arcu vel quam\n",
      "80 | PTK55 | 2023/17/17 06:17:57 | 12 | Damon Reilly | scelerisque mollis. Phasellus libero mauris, aliquam\n",
      "81 | LKV82 | 2023/52/20 12:52:00 | 8 | James Compton | tincidunt, neque\n",
      "82 | HNN68 | 2023/13/22 08:13:12 | 14 | Bruce Fox | ultricies ligula. Nullam enim. Sed\n",
      "83 | ELL77 | 2023/25/13 02:25:32 | 29 | Samson Barrett | eu, ligula. Aenean euismod mauris eu elit. Nulla facilisi. Sed\n",
      "84 | SQM28 | 2024/8/30 03:08:38 | 6 | Sopoline Williams | consectetuer, cursus et, magna.\n",
      "85 | RCO87 | 2024/4/29 05:04:13 | 14 | Abbot Sargent | dui.\n",
      "86 | WDE97 | 2024/0/27 10:00:24 | 16 | Tana Meadows | Nam consequat dolor vitae dolor.\n",
      "87 | OHR25 | 2023/7/19 02:07:07 | 29 | Garrett Guzman | nisl. Maecenas malesuada fringilla est. Mauris eu\n",
      "88 | YQX17 | 2024/26/17 01:26:14 | 13 | Amity Fleming | ornare. Fusce mollis. Duis sit amet diam eu dolor egestas rhoncus. Proin nisl sem, consequat nec, mollis vitae, posuere\n",
      "89 | LYY23 | 2024/20/17 05:20:15 | 22 | Tamara Stevens | eget, dictum placerat, augue. Sed molestie. Sed id risus quis diam luctus lobortis. Class aptent taciti\n",
      "90 | CQA55 | 2022/14/28 09:14:29 | 3 | Ethan Puckett | vitae diam. Proin dolor. Nulla semper tellus id nunc interdum feugiat. Sed nec metus facilisis lorem\n",
      "91 | KTQ55 | 2024/47/22 06:47:17 | 29 | Faith Fitzpatrick | ornare. Fusce mollis. Duis sit amet diam eu dolor egestas rhoncus. Proin nisl sem, consequat nec, mollis vitae,\n",
      "92 | WNW36 | 2024/19/30 01:19:05 | 22 | Brian Holder | parturient montes, nascetur ridiculus mus. Proin vel arcu eu odio tristique pharetra. Quisque ac libero nec ligula consectetuer\n",
      "93 | FQG16 | 2023/43/21 03:43:32 | 1 | Kiara Carey | Sed pharetra, felis eget varius ultrices, mauris ipsum porta elit, a feugiat tellus lorem eu metus.\n",
      "94 | EWO93 | 2022/22/14 11:22:37 | 14 | Zephania Ochoa | varius orci, in consequat enim\n",
      "95 | LLW17 | 2022/58/22 06:58:59 | 8 | Jackson Avila | non,\n",
      "96 | ODJ25 | 2024/40/21 08:40:51 | 24 | Cody Powell | diam nunc, ullamcorper eu, euismod ac, fermentum vel, mauris. Integer sem\n",
      "97 | ZWQ36 | 2023/46/28 01:46:23 | 4 | Leroy Winters | sed, sapien. Nunc pulvinar arcu et pede. Nunc sed orci lobortis\n",
      "98 | YSE34 | 2023/18/18 02:18:39 | 0 | Mohammad Branch | Nunc ut erat. Sed nunc est,\n",
      "99 | KRT25 | 2023/36/14 11:36:52 | 6 | Wesley Barber | est ac mattis semper, dui lectus rutrum urna, nec luctus felis purus ac tellus. Suspendisse sed dolor. Fusce\n",
      "100 | UEC21 | 2024/36/21 08:36:49 | 29 | Clayton King | tristique senectus et netus et malesuada fames ac turpis egestas. Aliquam fringilla cursus purus.\n",
      "101 | ZRU79 | 2024/30/15 11:30:30 | 12 | Valentine Tyler | malesuada fames ac turpis egestas. Fusce aliquet magna a neque. Nullam ut nisi a odio semper cursus.\n"
     ]
    }
   ],
   "source": [
    "datagrid.show()"
   ]
  },
  {
   "cell_type": "code",
   "execution_count": 5,
   "metadata": {},
   "outputs": [
    {
     "name": "stdout",
     "output_type": "stream",
     "text": [
      "100 | UEC21 | 2024/36/21 08:36:49 | 29 | Clayton King | tristique senectus et netus et malesuada fames ac turpis egestas. Aliquam fringilla cursus purus.\n"
     ]
    }
   ],
   "source": [
    "datagrid.search(\"id\", 100)"
   ]
  },
  {
   "cell_type": "code",
   "execution_count": 6,
   "metadata": {},
   "outputs": [
    {
     "name": "stdout",
     "output_type": "stream",
     "text": [
      "18 | IAP19 | 2024/11/13 11:11:04 | 10 | Adria Flowers | facilisis. Suspendisse\n"
     ]
    }
   ],
   "source": [
    "datagrid.search(\"owner_id\",\"IAP19\")"
   ]
  },
  {
   "cell_type": "code",
   "execution_count": 7,
   "metadata": {},
   "outputs": [
    {
     "name": "stdout",
     "output_type": "stream",
     "text": [
      "3 | QXW32 | 2023/54/14 06:54:20 | 3 | Suki Mathis | sagittis felis. Donec tempor, est ac mattis semper, dui lectus rutrum urna,\n",
      "4 | HUV07 | 2023/47/15 11:47:27 | 3 | Akeem Greene | fringilla, porttitor vulputate, posuere vulputate, lacus. Cras interdum. Nunc sollicitudin commodo ipsum. Suspendisse non leo. Vivamus nibh\n",
      "5 | OZT82 | 2022/2/31 02:02:29 | 19 | Zeph Moody | lorem vitae odio sagittis semper. Nam tempor diam dictum sapien. Aenean massa. Integer vitae nibh. Donec est mauris, rhoncus\n",
      "8 | KXQ01 | 2022/56/18 02:56:26 | 20 | Patience Monroe | ligula consectetuer rhoncus. Nullam velit dui, semper et, lacinia\n",
      "9 | CYU74 | 2024/35/20 11:35:24 | 6 | Rajah Sawyer | non nisi. Aenean eget metus. In nec orci. Donec nibh. Quisque nonummy ipsum non arcu.\n",
      "10 | GJL34 | 2023/35/22 07:35:23 | 0 | Ramona Herring | Nulla facilisi. Sed neque. Sed eget lacus. Mauris\n",
      "11 | XYF21 | 2023/5/12 02:05:02 | 7 | Armando Shannon | pharetra sed, hendrerit a, arcu. Sed et libero. Proin mi. Aliquam gravida mauris ut mi. Duis risus odio,\n",
      "13 | MLV23 | 2024/27/21 07:27:14 | 1 | Gage Bowers | a odio semper cursus. Integer mollis. Integer tincidunt aliquam arcu. Aliquam ultrices iaculis odio. Nam interdum\n",
      "14 | FLW86 | 2023/7/22 07:07:29 | 21 | Reese Navarro | natoque penatibus et magnis dis parturient montes, nascetur ridiculus mus. Aenean eget magna.\n",
      "15 | UEV15 | 2023/45/25 01:45:08 | 1 | Irene Hodge | magna. Lorem ipsum dolor sit\n",
      "17 | QCH88 | 2023/31/14 04:31:40 | 23 | Robin Haney | Donec tincidunt. Donec vitae\n",
      "18 | IAP19 | 2024/11/13 11:11:04 | 10 | Adria Flowers | facilisis. Suspendisse\n",
      "19 | CVS26 | 2023/55/7 05:55:01 | 25 | Charity Ferguson | orci tincidunt adipiscing. Mauris molestie pharetra nibh. Aliquam ornare, libero at auctor ullamcorper,\n",
      "20 | OLI61 | 2024/47/20 01:47:02 | 8 | Isadora Kirk | primis in\n",
      "21 | NAX44 | 2023/18/26 10:18:20 | 5 | Travis Irwin | egestas blandit. Nam nulla magna, malesuada vel, convallis in, cursus et, eros. Proin ultrices. Duis volutpat nunc sit\n",
      "22 | ROM35 | 2023/13/10 07:13:19 | 12 | Kitra Terry | diam. Duis mi\n",
      "23 | GJJ26 | 2024/55/9 08:55:09 | 24 | Allegra Byers | Proin sed\n",
      "24 | GUB57 | 2022/9/10 06:09:46 | 28 | Lynn Richard | et, rutrum\n",
      "25 | YOF49 | 2024/20/9 07:20:59 | 9 | Imani Salinas | ac, eleifend vitae, erat. Vivamus nisi. Mauris nulla. Integer urna. Vivamus molestie dapibus ligula. Aliquam erat\n",
      "26 | SVS23 | 2023/0/24 06:00:27 | 7 | Yeo May | lacus. Nulla tincidunt, neque vitae semper egestas,\n",
      "27 | GQG11 | 2023/35/8 09:35:31 | 6 | Armand Medina | ut, pellentesque eget, dictum placerat, augue. Sed molestie. Sed\n",
      "28 | UGK34 | 2023/3/30 02:03:44 | 11 | Nigel Avila | mauris eu elit. Nulla facilisi. Sed neque. Sed eget lacus. Mauris non dui\n",
      "29 | HPI46 | 2024/24/20 12:24:08 | 4 | Hedda Chen | orci tincidunt adipiscing. Mauris molestie pharetra nibh. Aliquam\n",
      "30 | XVI58 | 2023/30/2 03:30:29 | 21 | Kasper Webster | vel, vulputate eu, odio. Phasellus at augue id ante dictum cursus. Nunc mauris elit, dictum eu, eleifend nec, malesuada\n",
      "31 | DDW84 | 2024/19/9 08:19:49 | 17 | Cheyenne Lowery | nisi nibh lacinia orci, consectetuer euismod\n",
      "33 | AQY12 | 2024/20/10 02:20:22 | 13 | Jared Bonner | facilisis lorem tristique aliquet. Phasellus fermentum convallis ligula. Donec\n",
      "34 | WOI26 | 2024/4/10 09:04:22 | 18 | Benjamin Knox | faucibus id, libero. Donec consectetuer mauris id sapien. Cras dolor\n",
      "35 | KRL83 | 2023/55/20 11:55:36 | 14 | Keiko Bush | Nulla aliquet. Proin velit. Sed malesuada augue ut lacus.\n",
      "36 | ULX33 | 2023/30/9 05:30:39 | 15 | Bevis Horne | Duis volutpat nunc sit amet metus. Aliquam erat volutpat. Nulla facilisis. Suspendisse commodo\n",
      "37 | GAW64 | 2024/29/30 11:29:44 | 27 | Kuame Booth | eget nisi dictum augue malesuada malesuada.\n",
      "38 | DZW55 | 2024/14/14 08:14:07 | 9 | Judah Bartlett | Nulla eu neque pellentesque massa lobortis ultrices. Vivamus rhoncus. Donec est. Nunc ullamcorper, velit\n",
      "39 | XHD44 | 2024/38/22 11:38:58 | 2 | Destiny Valenzuela | tincidunt. Donec vitae erat vel pede blandit\n",
      "40 | JTC48 | 2022/47/27 05:47:55 | 28 | Andrew Knox | rhoncus. Proin nisl sem, consequat\n",
      "41 | VKP28 | 2023/25/12 11:25:26 | 2 | Kirestin Bird | Cras dictum ultricies ligula. Nullam enim. Sed nulla ante, iaculis\n",
      "42 | EPW42 | 2024/59/14 12:59:45 | 13 | Karen Barber | conubia nostra, per inceptos hymenaeos. Mauris ut quam vel sapien imperdiet ornare.\n",
      "43 | TBN74 | 2022/42/14 05:42:16 | 17 | Wesley Stevenson | pede. Nunc sed orci lobortis augue scelerisque mollis. Phasellus libero mauris, aliquam eu, accumsan sed, facilisis vitae, orci. Phasellus dapibus\n",
      "44 | DSR67 | 2024/25/21 04:25:33 | 16 | Alisa Willis | nisi sem semper erat, in consectetuer ipsum nunc id enim. Curabitur\n",
      "45 | IYI80 | 2023/38/31 02:38:58 | 10 | Roanna Tucker | ornare placerat, orci lacus vestibulum lorem, sit amet\n",
      "46 | ITP33 | 2023/40/14 08:40:37 | 6 | Rylee Tanner | placerat. Cras dictum ultricies ligula.\n",
      "47 | RVD27 | 2023/55/28 12:55:29 | 11 | Ocean Levine | at lacus. Quisque purus sapien, gravida non, sollicitudin a, malesuada id, erat. Etiam\n",
      "48 | WQY70 | 2023/15/21 04:15:51 | 24 | Lydia Lynn | accumsan neque et nunc. Quisque ornare tortor at risus. Nunc ac sem ut dolor dapibus gravida. Aliquam\n",
      "49 | HFL17 | 2022/17/20 03:17:25 | 22 | Alea Gallegos | eu tellus. Phasellus\n",
      "50 | UQW43 | 2024/52/16 03:52:49 | 21 | Clark Bush | nonummy ultricies ornare, elit elit fermentum risus, at\n",
      "51 | NCS82 | 2024/23/16 10:23:05 | 10 | Edward Hopper | ac ipsum. Phasellus vitae mauris sit\n",
      "52 | XQY70 | 2023/23/10 06:23:48 | 18 | Honorato Robinson | purus sapien, gravida non, sollicitudin a, malesuada id, erat. Etiam vestibulum massa\n",
      "53 | OUD75 | 2023/49/19 10:49:05 | 28 | Dai Mitchell | quis lectus. Nullam\n",
      "54 | TUW63 | 2024/0/22 03:00:21 | 24 | Marsden Barr | leo. Morbi neque tellus, imperdiet non, vestibulum nec, euismod in, dolor. Fusce\n",
      "56 | RCQ48 | 2022/7/24 12:07:37 | 11 | Zane Eaton | faucibus id, libero. Donec consectetuer mauris id sapien. Cras dolor dolor,\n",
      "57 | NXE86 | 2024/43/22 03:43:22 | 23 | Cassandra Salas | enim. Suspendisse aliquet, sem ut cursus luctus, ipsum leo elementum sem, vitae aliquam\n",
      "58 | FTW61 | 2024/43/7 05:43:17 | 3 | Nola Gill | mauris ipsum\n",
      "59 | OCI62 | 2022/21/31 03:21:30 | 3 | Kermit Beach | Sed nec metus facilisis lorem tristique aliquet. Phasellus fermentum convallis ligula. Donec luctus aliquet odio. Etiam ligula tortor, dictum\n",
      "60 | DEN17 | 2024/31/2 09:31:30 | 1 | Yoko Hernandez | Duis at lacus. Quisque purus sapien, gravida non, sollicitudin a, malesuada id, erat. Etiam\n",
      "61 | MDW74 | 2023/26/31 10:26:43 | 8 | Mariam Flores | semper cursus. Integer mollis. Integer tincidunt aliquam arcu. Aliquam ultrices iaculis\n",
      "62 | EBS62 | 2023/11/22 06:11:02 | 3 | Timon Ballard | mauris ut mi. Duis risus odio, auctor vitae, aliquet nec, imperdiet\n",
      "63 | ENH50 | 2024/8/21 05:08:08 | 8 | Marshall Hartman | est, congue a, aliquet vel, vulputate eu, odio. Phasellus at augue id\n",
      "64 | LYP41 | 2023/47/20 05:47:01 | 22 | Ruby Silva | Aenean euismod mauris eu\n",
      "65 | JOF50 | 2023/38/6 02:38:58 | 9 | Sage Kelley | orci, in consequat enim diam vel arcu. Curabitur ut odio vel est tempor bibendum.\n",
      "66 | ZQI45 | 2023/36/25 04:36:36 | 2 | Emma Hobbs | vestibulum, neque sed dictum eleifend, nunc risus varius orci, in consequat\n",
      "67 | NKD57 | 2022/59/29 05:59:16 | 29 | Athena Tyler | Praesent eu dui. Cum sociis natoque penatibus et magnis dis parturient montes, nascetur ridiculus mus. Aenean\n",
      "68 | OTB50 | 2022/44/20 11:44:10 | 20 | Abraham French | justo sit amet nulla. Donec non justo. Proin non massa\n",
      "69 | RTG70 | 2024/54/31 12:54:25 | 28 | Selma White | fringilla. Donec\n",
      "70 | CGJ38 | 2023/7/6 06:07:38 | 7 | Gay Lamb | neque vitae semper egestas, urna\n",
      "71 | JLJ16 | 2023/49/11 08:49:13 | 11 | Uriel Burke | enim, sit amet ornare lectus justo eu arcu. Morbi sit amet massa. Quisque porttitor eros nec tellus. Nunc lectus\n",
      "72 | XWT76 | 2024/11/31 02:11:19 | 20 | Lester Campbell | mauris elit, dictum eu, eleifend nec, malesuada ut, sem. Nulla interdum.\n",
      "73 | QLQ92 | 2024/8/24 09:08:56 | 17 | Cade Hess | pharetra. Quisque ac libero nec ligula consectetuer rhoncus. Nullam velit dui, semper et, lacinia vitae,\n",
      "74 | WQI12 | 2024/41/6 07:41:43 | 7 | Melinda Glover | pharetra sed, hendrerit a,\n",
      "75 | OBU34 | 2023/15/13 04:15:47 | 20 | Donovan Rush | risus varius orci, in consequat enim diam vel arcu. Curabitur ut odio vel est tempor bibendum.\n",
      "76 | XEV44 | 2023/13/28 10:13:25 | 26 | Xander Bennett | orci, in consequat enim diam vel arcu. Curabitur ut odio vel est tempor bibendum. Donec felis orci, adipiscing non,\n",
      "77 | HRW70 | 2024/41/2 05:41:58 | 15 | Sybil Daniels | id, blandit at,\n",
      "78 | OKC86 | 2024/49/2 12:49:24 | 20 | Gage Nguyen | nec, malesuada ut, sem. Nulla interdum. Curabitur dictum. Phasellus in felis. Nulla\n",
      "79 | MDO41 | 2023/4/26 03:04:42 | 5 | Gannon Alford | arcu ac orci. Ut semper pretium neque. Morbi quis urna. Nunc quis arcu vel quam\n",
      "80 | PTK55 | 2023/17/17 06:17:57 | 12 | Damon Reilly | scelerisque mollis. Phasellus libero mauris, aliquam\n",
      "81 | LKV82 | 2023/52/20 12:52:00 | 8 | James Compton | tincidunt, neque\n",
      "82 | HNN68 | 2023/13/22 08:13:12 | 14 | Bruce Fox | ultricies ligula. Nullam enim. Sed\n",
      "83 | ELL77 | 2023/25/13 02:25:32 | 29 | Samson Barrett | eu, ligula. Aenean euismod mauris eu elit. Nulla facilisi. Sed\n",
      "84 | SQM28 | 2024/8/30 03:08:38 | 6 | Sopoline Williams | consectetuer, cursus et, magna.\n",
      "85 | RCO87 | 2024/4/29 05:04:13 | 14 | Abbot Sargent | dui.\n",
      "86 | WDE97 | 2024/0/27 10:00:24 | 16 | Tana Meadows | Nam consequat dolor vitae dolor.\n",
      "87 | OHR25 | 2023/7/19 02:07:07 | 29 | Garrett Guzman | nisl. Maecenas malesuada fringilla est. Mauris eu\n",
      "88 | YQX17 | 2024/26/17 01:26:14 | 13 | Amity Fleming | ornare. Fusce mollis. Duis sit amet diam eu dolor egestas rhoncus. Proin nisl sem, consequat nec, mollis vitae, posuere\n",
      "89 | LYY23 | 2024/20/17 05:20:15 | 22 | Tamara Stevens | eget, dictum placerat, augue. Sed molestie. Sed id risus quis diam luctus lobortis. Class aptent taciti\n",
      "90 | CQA55 | 2022/14/28 09:14:29 | 3 | Ethan Puckett | vitae diam. Proin dolor. Nulla semper tellus id nunc interdum feugiat. Sed nec metus facilisis lorem\n",
      "91 | KTQ55 | 2024/47/22 06:47:17 | 29 | Faith Fitzpatrick | ornare. Fusce mollis. Duis sit amet diam eu dolor egestas rhoncus. Proin nisl sem, consequat nec, mollis vitae,\n",
      "92 | WNW36 | 2024/19/30 01:19:05 | 22 | Brian Holder | parturient montes, nascetur ridiculus mus. Proin vel arcu eu odio tristique pharetra. Quisque ac libero nec ligula consectetuer\n",
      "93 | FQG16 | 2023/43/21 03:43:32 | 1 | Kiara Carey | Sed pharetra, felis eget varius ultrices, mauris ipsum porta elit, a feugiat tellus lorem eu metus.\n",
      "94 | EWO93 | 2022/22/14 11:22:37 | 14 | Zephania Ochoa | varius orci, in consequat enim\n",
      "95 | LLW17 | 2022/58/22 06:58:59 | 8 | Jackson Avila | non,\n",
      "96 | ODJ25 | 2024/40/21 08:40:51 | 24 | Cody Powell | diam nunc, ullamcorper eu, euismod ac, fermentum vel, mauris. Integer sem\n",
      "97 | ZWQ36 | 2023/46/28 01:46:23 | 4 | Leroy Winters | sed, sapien. Nunc pulvinar arcu et pede. Nunc sed orci lobortis\n",
      "98 | YSE34 | 2023/18/18 02:18:39 | 0 | Mohammad Branch | Nunc ut erat. Sed nunc est,\n",
      "99 | KRT25 | 2023/36/14 11:36:52 | 6 | Wesley Barber | est ac mattis semper, dui lectus rutrum urna, nec luctus felis purus ac tellus. Suspendisse sed dolor. Fusce\n",
      "100 | UEC21 | 2024/36/21 08:36:49 | 29 | Clayton King | tristique senectus et netus et malesuada fames ac turpis egestas. Aliquam fringilla cursus purus.\n",
      "101 | ZRU79 | 2024/30/15 11:30:30 | 12 | Valentine Tyler | malesuada fames ac turpis egestas. Fusce aliquet magna a neque. Nullam ut nisi a odio semper cursus.\n",
      "102 | HXY18 | 2023/27/3 07:27:16 | 20 | Quinn Merritt | libero nec ligula consectetuer rhoncus. Nullam velit dui, semper et, lacinia vitae, sodales at, velit.\n",
      "103 | LTX14 | 2023/51/9 01:51:29 | 14 | Patience Spence | consequat auctor, nunc nulla vulputate dui, nec tempus mauris erat eget ipsum.\n",
      "104 | ZLB57 | 2023/7/31 09:07:27 | 30 | Emery Vasquez | Nullam velit dui, semper et, lacinia vitae, sodales at, velit. Pellentesque ultricies dignissim\n",
      "105 | OKW36 | 2023/50/19 07:50:16 | 21 | Anthony Floyd | enim, condimentum eget, volutpat ornare, facilisis eget,\n",
      "107 | KEN41 | 2023/30/28 08:30:25 | 7 | Len Mccoy | leo. Cras vehicula aliquet libero. Integer in magna. Phasellus dolor elit, pellentesque a, facilisis\n",
      "108 | HNL66 | 2024/7/11 01:07:49 | 22 | Jael Rasmussen | lobortis ultrices. Vivamus rhoncus. Donec est. Nunc ullamcorper, velit in aliquet lobortis, nisi nibh lacinia orci, consectetuer\n",
      "109 | HTW35 | 2023/4/11 05:04:02 | 13 | Piper Dawson | sapien molestie\n",
      "110 | ELP77 | 2023/50/11 05:50:07 | 25 | Madaline Skinner | metus. Vivamus euismod urna. Nullam lobortis quam a felis\n",
      "111 | IYU69 | 2023/51/23 03:51:13 | 1 | Zelda Merritt | ut, pellentesque eget, dictum placerat, augue. Sed molestie. Sed id risus\n",
      "112 | RHP46 | 2023/58/8 11:58:08 | 27 | Branden Gillespie | nibh. Quisque nonummy ipsum non\n",
      "113 | OZK61 | 2023/10/17 04:10:02 | 0 | Illana Mccoy | placerat velit. Quisque varius.\n",
      "114 | KIG89 | 2024/33/18 06:33:34 | 18 | Kellie Duffy | lorem ut aliquam iaculis, lacus\n",
      "115 | MOJ56 | 2023/5/26 09:05:59 | 26 | Leah Roth | mollis. Integer tincidunt aliquam arcu. Aliquam ultrices iaculis odio. Nam interdum enim non nisi. Aenean eget metus.\n",
      "116 | BCJ85 | 2024/2/18 12:02:43 | 6 | Jerry Livingston | vulputate ullamcorper magna. Sed eu eros. Nam consequat dolor vitae dolor. Donec fringilla. Donec feugiat metus\n",
      "117 | HVM18 | 2023/35/4 10:35:27 | 24 | Christian O'donnell | in, tempus\n",
      "118 | OSA18 | 2023/7/7 05:07:18 | 5 | Guinevere Rasmussen | vulputate dui, nec tempus mauris erat eget ipsum. Suspendisse sagittis. Nullam vitae diam.\n",
      "119 | TCT55 | 2023/31/7 12:31:28 | 5 | Driscoll Medina | Nunc commodo auctor velit. Aliquam nisl. Nulla eu neque pellentesque\n",
      "120 | VJB43 | 2023/11/27 04:11:30 | 22 | Alfonso Morin | Donec porttitor tellus non magna.\n",
      "121 | GKK20 | 2023/45/8 11:45:01 | 21 | Colton Berg | Mauris ut quam vel sapien imperdiet ornare.\n",
      "122 | UYO08 | 2023/36/14 05:36:58 | 9 | Alika Bryant | id ante dictum cursus. Nunc mauris elit, dictum eu, eleifend nec, malesuada ut, sem. Nulla interdum.\n",
      "124 | PPE65 | 2023/18/8 02:18:34 | 30 | Cameron Lewis | Duis dignissim tempor arcu. Vestibulum ut eros non enim commodo hendrerit. Donec\n",
      "125 | IXE15 | 2023/35/5 02:35:47 | 20 | Rowan Fuller | diam. Proin dolor. Nulla semper tellus id nunc interdum feugiat. Sed nec\n",
      "126 | QGQ43 | 2023/55/10 03:55:46 | 29 | Winter Knight | arcu et pede. Nunc sed orci lobortis augue scelerisque mollis. Phasellus libero mauris, aliquam eu, accumsan sed, facilisis vitae,\n",
      "127 | OMN45 | 2022/12/29 04:12:38 | 7 | Reagan French | dui lectus rutrum urna, nec luctus felis purus ac tellus. Suspendisse sed dolor. Fusce mi\n",
      "129 | ZJI41 | 2023/19/15 10:19:36 | 14 | Victor Beard | non, vestibulum nec, euismod in, dolor. Fusce feugiat. Lorem ipsum dolor sit amet, consectetuer adipiscing elit. Aliquam auctor, velit\n",
      "130 | FKT77 | 2023/13/9 07:13:47 | 9 | Rudyard Malone | Sed molestie. Sed id risus quis diam luctus lobortis. Class aptent taciti sociosqu ad litora torquent per conubia\n",
      "131 | XPL63 | 2023/25/29 01:25:48 | 0 | Allegra Duran | congue. In scelerisque scelerisque dui. Suspendisse ac metus vitae velit egestas lacinia. Sed congue, elit sed\n",
      "132 | SWW54 | 2023/25/8 04:25:00 | 2 | Hiroko Martinez | odio\n",
      "133 | RKZ51 | 2022/14/21 09:14:54 | 19 | Jade Sparks | aliquam adipiscing lacus. Ut nec urna\n",
      "134 | HMN46 | 2023/21/15 04:21:29 | 25 | Ivor Carroll | ultricies adipiscing, enim mi tempor lorem, eget mollis lectus pede\n",
      "135 | ICS13 | 2023/57/14 10:57:20 | 19 | Kameko Mejia | vitae semper egestas, urna justo faucibus lectus, a sollicitudin orci sem eget massa. Suspendisse eleifend. Cras\n",
      "136 | HMK28 | 2023/8/4 10:08:19 | 2 | Aspen Christensen | Etiam vestibulum massa rutrum magna. Cras convallis convallis dolor. Quisque tincidunt pede ac urna. Ut tincidunt vehicula\n",
      "138 | MWV66 | 2023/42/8 11:42:19 | 8 | Breanna Warner | Mauris magna. Duis dignissim tempor arcu. Vestibulum ut eros non enim commodo hendrerit.\n",
      "139 | YVI58 | 2024/40/5 02:40:49 | 29 | Ayanna Dale | mus. Donec dignissim magna a tortor. Nunc\n",
      "140 | HBM45 | 2024/55/16 12:55:28 | 27 | Jason Hale | sollicitudin a, malesuada id, erat.\n",
      "141 | HFE71 | 2024/20/1 05:20:37 | 7 | Curran French | Sed eu eros. Nam consequat dolor vitae dolor. Donec fringilla. Donec feugiat metus sit amet ante. Vivamus non lorem\n",
      "142 | TFW57 | 2023/36/18 08:36:23 | 16 | Indira Weaver | Duis ac arcu. Nunc mauris. Morbi non sapien molestie orci\n",
      "143 | XPQ30 | 2024/36/20 01:36:03 | 1 | Savannah Dillard | lacus, varius et, euismod et, commodo at, libero. Morbi accumsan laoreet ipsum. Curabitur consequat, lectus sit\n",
      "144 | WEY73 | 2023/38/28 12:38:45 | 10 | Aline Mclaughlin | ut, pharetra sed,\n",
      "145 | KJF38 | 2023/38/25 06:38:18 | 29 | Keane Acosta | feugiat metus sit amet ante. Vivamus non lorem vitae odio sagittis semper. Nam tempor diam dictum sapien. Aenean\n",
      "146 | XQD81 | 2023/55/20 04:55:10 | 19 | Alyssa Lang | convallis dolor. Quisque tincidunt\n",
      "147 | XMT71 | 2024/14/17 05:14:01 | 23 | Adele Newton | volutpat. Nulla facilisis. Suspendisse commodo tincidunt nibh. Phasellus\n",
      "148 | PKK64 | 2023/39/18 04:39:05 | 7 | Mira Chavez | dapibus ligula. Aliquam erat volutpat. Nulla dignissim. Maecenas\n",
      "149 | RTB11 | 2023/42/24 07:42:40 | 2 | Kenyon Matthews | pulvinar arcu et pede. Nunc\n",
      "150 | INK92 | 2023/22/20 05:22:11 | 10 | Benedict Wolf | sit amet ornare lectus justo eu arcu. Morbi sit amet massa. Quisque porttitor\n",
      "151 | VGS48 | 2023/40/21 08:40:13 | 14 | Tanisha Espinoza | placerat, augue. Sed molestie. Sed id risus quis diam luctus lobortis. Class aptent taciti sociosqu ad litora torquent per conubia\n",
      "152 | SVC42 | 2023/50/6 05:50:11 | 15 | Dolan Dejesus | sociis natoque penatibus et magnis dis parturient montes, nascetur ridiculus mus. Proin vel arcu\n",
      "153 | SFM28 | 2023/22/10 05:22:46 | 11 | Jorden Farmer | non, egestas a, dui. Cras pellentesque.\n",
      "156 | CQM57 | 2023/54/31 05:54:02 | 15 | Hayden Harrell | tincidunt, neque vitae semper egestas, urna justo faucibus\n",
      "157 | PXQ38 | 2023/25/28 11:25:07 | 19 | Fitzgerald Newton | semper rutrum. Fusce dolor quam, elementum at, egestas a, scelerisque sed, sapien. Nunc pulvinar arcu et\n",
      "158 | WRL58 | 2023/32/9 10:32:36 | 14 | Candace Cook | In ornare sagittis felis. Donec tempor, est\n",
      "159 | NRU59 | 2024/18/7 04:18:02 | 10 | Tanisha Ayala | tristique neque venenatis lacus. Etiam bibendum fermentum metus. Aenean sed pede nec ante blandit\n",
      "160 | BJR89 | 2023/34/11 07:34:37 | 4 | Lydia Thompson | a, dui. Cras pellentesque.\n",
      "161 | UBN80 | 2023/29/28 05:29:52 | 2 | Galvin Dominguez | lectus justo eu arcu. Morbi sit amet massa.\n",
      "162 | LHS42 | 2023/53/13 02:53:59 | 3 | Kareem Cochran | amet lorem semper auctor. Mauris\n",
      "163 | EUC45 | 2023/51/13 03:51:09 | 12 | Jane Brady | neque sed dictum eleifend,\n",
      "164 | CUI81 | 2024/23/20 11:23:29 | 13 | Melvin Rush | tempor augue ac ipsum. Phasellus vitae mauris sit amet lorem semper auctor.\n",
      "165 | LGC73 | 2024/3/27 10:03:58 | 17 | Irma Hull | Proin non massa non ante bibendum ullamcorper. Duis cursus,\n",
      "166 | GIR79 | 2024/30/26 10:30:27 | 4 | Baker Conrad | metus facilisis lorem tristique aliquet. Phasellus fermentum convallis ligula.\n",
      "167 | SEU67 | 2024/12/2 06:12:48 | 3 | Jerome Colon | elit, a feugiat tellus lorem\n",
      "168 | JRF32 | 2022/6/14 12:06:26 | 3 | Jorden Marshall | augue ac ipsum. Phasellus vitae mauris sit amet lorem\n",
      "169 | RJK71 | 2023/11/26 03:11:26 | 28 | May Rollins | rhoncus id, mollis nec, cursus a,\n",
      "170 | CKB29 | 2024/0/11 03:00:31 | 6 | Nevada Peters | Integer aliquam adipiscing lacus. Ut\n",
      "171 | KQT26 | 2023/23/20 09:23:12 | 27 | Amaya Cameron | habitant morbi tristique senectus et netus et malesuada fames ac turpis egestas. Aliquam fringilla cursus purus. Nullam scelerisque neque\n",
      "172 | KHD38 | 2024/59/21 07:59:06 | 1 | Graham Lindsey | metus. Aenean sed pede nec ante blandit viverra. Donec tempus, lorem fringilla ornare placerat, orci\n",
      "173 | PPF62 | 2023/20/17 06:20:37 | 3 | Fatima Sykes | hendrerit\n",
      "174 | MSN84 | 2023/42/10 10:42:22 | 13 | Vaughan Marquez | luctus felis purus ac tellus. Suspendisse sed dolor. Fusce mi\n",
      "175 | SID78 | 2024/20/19 11:20:25 | 17 | Shaine Reeves | consequat nec, mollis vitae, posuere at, velit. Cras lorem lorem, luctus ut, pellentesque\n",
      "176 | TUQ52 | 2023/17/18 11:17:53 | 26 | Charlotte Payne | velit egestas lacinia. Sed congue, elit sed consequat auctor, nunc nulla vulputate dui, nec tempus mauris erat eget ipsum.\n",
      "177 | HXA65 | 2024/30/19 07:30:48 | 21 | Jamalia Evans | nulla at sem molestie sodales. Mauris blandit enim consequat\n",
      "178 | SLQ38 | 2023/59/17 11:59:04 | 1 | Vincent Emerson | nunc sed pede. Cum sociis natoque penatibus et magnis dis parturient montes, nascetur ridiculus mus. Proin vel\n",
      "180 | ONX68 | 2024/19/18 10:19:56 | 2 | Charles Hodge | molestie tellus.\n",
      "181 | NXW26 | 2023/3/9 06:03:44 | 29 | Maryam Davidson | egestas nunc sed libero. Proin sed turpis nec mauris blandit mattis. Cras eget nisi dictum augue malesuada malesuada.\n",
      "183 | QWJ76 | 2022/43/20 02:43:40 | 18 | Naomi Roth | urna, nec luctus felis purus ac tellus. Suspendisse sed dolor. Fusce\n",
      "184 | TDM69 | 2023/13/22 03:13:20 | 1 | Elton Morgan | ut nisi a odio semper cursus. Integer\n",
      "185 | PBA36 | 2024/51/6 02:51:15 | 12 | Grace Hubbard | et, euismod et, commodo at, libero. Morbi accumsan laoreet ipsum. Curabitur consequat, lectus sit amet\n",
      "186 | VFH45 | 2023/28/13 04:28:55 | 17 | Illiana Oneil | urna convallis erat,\n",
      "187 | BQY47 | 2023/44/5 07:44:14 | 29 | Timon Thornton | tempus non, lacinia at, iaculis quis, pede. Praesent eu dui. Cum sociis natoque penatibus et magnis dis parturient\n",
      "188 | ECZ75 | 2023/48/23 03:48:20 | 25 | Timon Leach | et, commodo at, libero. Morbi accumsan laoreet ipsum. Curabitur consequat, lectus sit amet luctus vulputate,\n",
      "189 | OQL87 | 2023/28/1 06:28:41 | 16 | Cassandra Anthony | lacus vestibulum lorem, sit amet ultricies sem magna nec quam. Curabitur vel lectus. Cum sociis\n",
      "190 | JZL86 | 2024/33/4 11:33:17 | 6 | Lance Baker | Nunc pulvinar arcu et pede. Nunc sed\n",
      "191 | XME71 | 2023/30/11 04:30:03 | 5 | Danielle Salazar | Aliquam nisl. Nulla eu neque pellentesque massa\n",
      "192 | NBH18 | 2023/40/16 07:40:30 | 2 | Gloria Buckley | sed pede. Cum sociis natoque penatibus et magnis dis parturient montes, nascetur ridiculus mus. Proin vel arcu\n",
      "193 | GED59 | 2023/30/24 07:30:43 | 29 | Eaton Kline | nulla magna, malesuada vel,\n",
      "194 | XJC69 | 2023/17/4 01:17:45 | 28 | Ezra Howell | non quam. Pellentesque habitant morbi tristique senectus et netus et malesuada fames ac turpis egestas. Aliquam fringilla cursus purus.\n",
      "195 | VAD55 | 2024/20/22 11:20:55 | 14 | Ivory Wynn | nisi. Aenean eget metus. In nec orci. Donec nibh. Quisque nonummy ipsum non arcu. Vivamus sit amet risus. Donec\n",
      "196 | OFM55 | 2023/40/23 05:40:56 | 21 | Amelia Gamble | Fusce fermentum\n",
      "197 | LWK07 | 2024/34/19 12:34:53 | 30 | Cheyenne Day | orci, adipiscing non, luctus sit amet, faucibus ut, nulla. Cras\n",
      "198 | WIE65 | 2023/48/17 03:48:35 | 23 | Dolan Chandler | nec enim. Nunc ut erat. Sed nunc est, mollis non, cursus non, egestas a,\n",
      "199 | INH08 | 2024/41/1 01:41:33 | 25 | Xyla Avila | nisi nibh lacinia orci, consectetuer euismod est arcu ac orci. Ut semper pretium neque. Morbi quis\n",
      "200 | DPR29 | 2023/41/30 05:41:46 | 3 | Hiroko Elliott | orci, in consequat enim diam vel arcu. Curabitur ut odio vel est tempor bibendum. Donec felis\n",
      "201 | GCG61 | 2024/30/13 11:30:48 | 20 | Rebekah Blackwell | parturient montes, nascetur ridiculus mus. Aenean eget magna. Suspendisse tristique neque\n",
      "202 | FBW63 | 2024/9/4 03:09:26 | 7 | Ezekiel Freeman | bibendum fermentum metus. Aenean sed pede nec ante blandit viverra. Donec tempus,\n",
      "203 | GCW63 | 2022/59/13 01:59:34 | 9 | Axel Marquez | mollis lectus pede et risus. Quisque libero lacus, varius\n",
      "204 | LLG59 | 2023/10/15 12:10:17 | 14 | Nerea Terry | fringilla. Donec feugiat metus sit amet ante. Vivamus non lorem vitae odio sagittis semper. Nam tempor diam\n",
      "205 | UME33 | 2024/37/5 08:37:12 | 16 | Davis Hogan | Phasellus ornare. Fusce mollis. Duis sit amet diam eu dolor egestas rhoncus. Proin\n",
      "206 | FQD51 | 2023/9/19 09:09:16 | 19 | Ira Rutledge | nec enim. Nunc ut erat. Sed nunc est, mollis non, cursus non,\n",
      "207 | OYS31 | 2023/30/25 08:30:23 | 11 | Jacob Young | viverra. Maecenas iaculis aliquet diam.\n",
      "208 | KAB81 | 2024/20/16 07:20:25 | 27 | Baxter Walton | cursus non, egestas a, dui. Cras\n",
      "209 | OGT65 | 2023/22/7 04:22:21 | 25 | Belle Castaneda | tempus, lorem fringilla ornare placerat,\n",
      "210 | DFY15 | 2023/8/17 04:08:36 | 27 | Kimberly Joyner | ac facilisis facilisis, magna tellus faucibus leo, in lobortis tellus justo sit amet nulla. Donec non\n",
      "212 | PTC97 | 2024/43/16 10:43:01 | 6 | Colleen Dillon | Curae Phasellus ornare. Fusce mollis. Duis sit amet diam eu dolor egestas rhoncus. Proin\n",
      "213 | IUZ78 | 2024/28/8 10:28:16 | 17 | Keane Donaldson | aliquet, metus urna\n",
      "214 | TVN65 | 2023/17/11 08:17:05 | 2 | Katelyn Hall | non enim commodo hendrerit. Donec\n",
      "215 | HJI26 | 2023/22/16 05:22:30 | 3 | Desiree Strickland | non quam. Pellentesque habitant morbi tristique senectus et netus et malesuada fames ac turpis egestas. Aliquam fringilla cursus\n",
      "216 | PLR26 | 2023/14/7 12:14:39 | 26 | Alexis Horton | euismod enim. Etiam gravida molestie arcu. Sed eu nibh\n",
      "217 | NJP67 | 2023/45/5 08:45:07 | 29 | Zachary Tyson | ultricies sem magna nec quam. Curabitur vel lectus. Cum sociis\n",
      "218 | LLV45 | 2023/10/15 06:10:09 | 13 | Deacon Wall | a, auctor non, feugiat nec,\n",
      "219 | JVG21 | 2024/8/29 11:08:28 | 23 | Peter Burris | amet massa. Quisque porttitor eros nec tellus. Nunc\n",
      "220 | KYA83 | 2023/41/13 03:41:33 | 10 | Tatiana Stein | sed consequat auctor, nunc nulla vulputate dui, nec tempus mauris erat\n",
      "221 | OTT61 | 2023/44/3 08:44:50 | 25 | Timon May | non, dapibus rutrum, justo. Praesent luctus. Curabitur egestas nunc\n",
      "222 | OHT60 | 2023/22/23 04:22:15 | 10 | Jeanette Mills | turpis egestas. Fusce aliquet magna a neque. Nullam ut\n",
      "223 | ELB26 | 2024/36/2 12:36:27 | 29 | Aphrodite Rowland | nonummy ultricies ornare, elit\n",
      "224 | OEK40 | 2024/0/6 04:00:15 | 5 | Yuli Ferguson | Donec fringilla. Donec feugiat metus sit amet ante. Vivamus\n",
      "225 | SLF74 | 2023/32/12 01:32:45 | 3 | Eve Hendrix | Nulla facilisi. Sed neque. Sed eget lacus.\n",
      "227 | XHL75 | 2023/16/8 04:16:06 | 25 | Chase Austin | Proin vel nisl. Quisque fringilla euismod enim. Etiam gravida molestie arcu. Sed eu nibh vulputate mauris\n",
      "228 | STN19 | 2023/10/9 03:10:04 | 8 | Yolanda Campbell | augue id ante dictum cursus. Nunc mauris elit, dictum eu, eleifend nec, malesuada ut, sem. Nulla\n",
      "229 | BII58 | 2023/8/12 08:08:47 | 25 | Karleigh Harmon | orci. Ut semper pretium neque. Morbi quis urna. Nunc quis arcu vel quam\n",
      "230 | CMC64 | 2024/1/11 12:01:04 | 13 | Bryar Mueller | Vivamus sit\n",
      "231 | XAG65 | 2022/39/1 06:39:33 | 18 | Rashad Saunders | laoreet posuere, enim nisl elementum purus, accumsan interdum libero\n",
      "232 | FOB65 | 2023/38/27 08:38:31 | 30 | Giselle Sharp | pede ac urna. Ut tincidunt vehicula risus.\n",
      "233 | PKH05 | 2022/34/11 03:34:24 | 4 | Tatyana Mccullough | ipsum leo elementum sem, vitae aliquam eros turpis non enim. Mauris quis turpis vitae\n",
      "234 | MUS01 | 2023/25/3 08:25:22 | 1 | Jorden Campbell | euismod in, dolor. Fusce feugiat. Lorem ipsum dolor sit\n",
      "235 | MVO42 | 2024/52/6 10:52:05 | 14 | Moana Barrett | luctus sit amet, faucibus ut,\n",
      "236 | RIW24 | 2024/6/10 08:06:06 | 8 | Clio Barnett | sapien. Nunc pulvinar arcu et pede. Nunc sed orci lobortis augue scelerisque mollis.\n",
      "237 | WLI37 | 2023/44/28 06:44:48 | 1 | Melodie Terrell | habitant morbi tristique senectus et netus et malesuada fames ac turpis egestas. Aliquam fringilla cursus purus. Nullam scelerisque neque\n",
      "238 | IPL27 | 2023/25/19 05:25:07 | 12 | Kelsie Delaney | dolor sit amet, consectetuer adipiscing elit. Aliquam auctor, velit eget laoreet posuere, enim\n",
      "239 | RFW30 | 2023/45/3 11:45:53 | 3 | Paul Guzman | cursus vestibulum. Mauris magna. Duis dignissim tempor arcu. Vestibulum ut eros non\n",
      "240 | QUF06 | 2024/16/12 01:16:59 | 17 | Sonia Witt | massa. Mauris vestibulum, neque sed\n",
      "241 | UDC64 | 2023/24/4 02:24:25 | 19 | Lewis Davidson | magna. Phasellus dolor elit, pellentesque a, facilisis non, bibendum\n",
      "242 | ITN75 | 2023/45/27 04:45:01 | 1 | Sonya Norris | justo eu arcu. Morbi sit amet massa. Quisque porttitor eros nec tellus. Nunc\n",
      "243 | DKB72 | 2023/10/6 12:10:46 | 0 | Hyatt Andrews | facilisis, magna tellus faucibus leo, in lobortis tellus justo sit\n",
      "244 | IAR18 | 2023/10/28 05:10:15 | 12 | Brady Boyd | vulputate ullamcorper magna. Sed eu eros. Nam consequat dolor vitae dolor. Donec fringilla. Donec feugiat\n",
      "245 | XEC02 | 2023/32/2 01:32:15 | 24 | Talon Henson | massa. Suspendisse eleifend.\n",
      "246 | FBP22 | 2023/57/16 06:57:29 | 8 | Cheyenne Valentine | non,\n",
      "247 | VIZ87 | 2024/6/26 05:06:53 | 28 | Kylie Merritt | tempus risus. Donec egestas. Duis ac arcu. Nunc mauris. Morbi non sapien molestie\n",
      "248 | SBP45 | 2024/19/30 01:19:45 | 18 | George Haney | scelerisque sed, sapien. Nunc pulvinar\n",
      "249 | HBZ88 | 2024/50/24 11:50:47 | 28 | Darrel Newton | rutrum magna. Cras convallis\n",
      "250 | APQ45 | 2023/23/22 06:23:42 | 15 | Jerome Stanton | eget, venenatis a, magna. Lorem ipsum dolor sit amet, consectetuer adipiscing elit. Etiam laoreet, libero et tristique pellentesque, tellus\n",
      "251 | PUO16 | 2024/24/7 08:24:20 | 22 | Lars Dennis | quis, tristique ac, eleifend vitae, erat. Vivamus nisi. Mauris nulla. Integer urna. Vivamus molestie\n",
      "252 | GUJ91 | 2024/39/6 09:39:53 | 22 | Aretha Macdonald | Mauris ut quam vel sapien imperdiet ornare. In\n",
      "253 | HTI42 | 2024/32/12 05:32:07 | 9 | Devin Boyer | Donec egestas. Aliquam nec enim. Nunc ut\n",
      "255 | SXI29 | 2023/33/24 05:33:39 | 13 | Hadassah Buck | Mauris blandit enim consequat purus. Maecenas libero est, congue a, aliquet vel, vulputate eu, odio. Phasellus at\n",
      "256 | VYG07 | 2023/23/13 03:23:22 | 28 | Sawyer Hopper | imperdiet ullamcorper. Duis at lacus. Quisque purus sapien, gravida\n",
      "257 | GDR76 | 2023/19/27 11:19:02 | 13 | Portia Combs | justo sit amet nulla. Donec non justo. Proin non massa non ante bibendum ullamcorper. Duis\n",
      "258 | KYR08 | 2023/49/25 07:49:11 | 19 | Ahmed Blevins | Maecenas mi felis, adipiscing\n",
      "259 | CBG32 | 2024/9/5 11:09:58 | 6 | Aretha Wise | ante. Maecenas mi felis, adipiscing fringilla, porttitor vulputate, posuere vulputate, lacus. Cras interdum. Nunc sollicitudin\n",
      "260 | AUP55 | 2023/48/15 03:48:17 | 10 | Jamalia Hartman | magna nec quam. Curabitur vel lectus.\n",
      "261 | UIH26 | 2024/33/21 03:33:40 | 27 | Suki Joseph | ut dolor dapibus gravida. Aliquam\n",
      "262 | FSY12 | 2023/22/24 10:22:56 | 9 | Miriam Stokes | ac turpis egestas. Aliquam fringilla cursus purus. Nullam scelerisque neque sed sem egestas blandit. Nam nulla magna,\n",
      "263 | LWO48 | 2023/13/6 01:13:50 | 24 | Elliott Hobbs | malesuada malesuada. Integer id magna et ipsum cursus vestibulum. Mauris\n",
      "264 | MJD30 | 2023/45/19 02:45:10 | 15 | Mercedes Stafford | iaculis enim, sit amet ornare\n",
      "265 | DJT13 | 2023/28/21 08:28:27 | 12 | Kyra Higgins | ut, pharetra\n",
      "266 | KOI56 | 2023/45/29 12:45:08 | 2 | Erin Macdonald | dictum. Proin eget odio. Aliquam vulputate ullamcorper magna. Sed eu eros. Nam consequat dolor vitae dolor. Donec fringilla. Donec feugiat\n",
      "267 | WDU50 | 2024/25/13 07:25:28 | 4 | Leah Ramsey | non ante bibendum ullamcorper. Duis cursus, diam at pretium aliquet, metus\n",
      "268 | KVT86 | 2024/49/21 02:49:32 | 27 | Beck Richardson | tellus id nunc interdum feugiat. Sed nec metus facilisis lorem tristique aliquet. Phasellus fermentum convallis ligula.\n",
      "269 | VQN61 | 2023/24/11 06:24:02 | 29 | Camden Glass | quis, pede. Praesent\n",
      "270 | MGI05 | 2024/24/18 09:24:45 | 4 | Fulton Shaw | augue porttitor interdum. Sed auctor odio a purus.\n",
      "271 | PZU48 | 2022/38/31 06:38:38 | 28 | Arthur Guerrero | egestas. Aliquam nec enim. Nunc ut erat. Sed nunc est, mollis\n",
      "272 | SBT58 | 2024/24/16 08:24:21 | 24 | Nash Burton | magna. Sed eu eros. Nam consequat dolor vitae dolor. Donec fringilla. Donec feugiat metus\n",
      "273 | YRN81 | 2024/36/30 12:36:14 | 4 | Lunea Molina | Vestibulum ante ipsum primis in faucibus orci luctus et ultrices posuere cubilia Curae Donec\n",
      "274 | QXO49 | 2023/42/5 04:42:22 | 13 | Abigail Knight | eu tellus eu augue porttitor interdum. Sed auctor odio a purus. Duis elementum,\n",
      "275 | EBJ38 | 2023/49/31 01:49:19 | 22 | Laurel Mendoza | ridiculus mus.\n",
      "276 | NSN95 | 2023/54/15 05:54:51 | 18 | Ray George | volutpat. Nulla facilisis. Suspendisse commodo tincidunt nibh. Phasellus nulla. Integer vulputate, risus\n",
      "277 | FON14 | 2022/45/7 07:45:14 | 14 | Fleur Tate | cursus et, magna. Praesent interdum ligula eu enim. Etiam imperdiet dictum magna. Ut tincidunt orci\n",
      "278 | OWX57 | 2023/8/5 02:08:20 | 12 | Lenore Terrell | purus. Nullam scelerisque neque sed sem egestas\n",
      "279 | ARD95 | 2022/53/25 02:53:54 | 30 | Reuben Huber | ante ipsum primis in faucibus orci luctus et\n",
      "281 | KYW43 | 2024/56/18 07:56:20 | 25 | Martha Pickett | egestas a,\n",
      "282 | WFE27 | 2023/13/12 08:13:38 | 20 | Damon Gould | ut odio vel est tempor bibendum.\n",
      "283 | CFU23 | 2024/8/19 07:08:48 | 12 | Tallulah Harrison | aliquet vel, vulputate eu, odio. Phasellus at\n",
      "284 | FUY08 | 2023/28/18 04:28:05 | 18 | Cullen Valenzuela | sociis natoque penatibus et magnis dis parturient montes, nascetur ridiculus\n",
      "285 | GMQ35 | 2024/24/15 01:24:49 | 6 | Lareina Hess | amet metus. Aliquam erat\n",
      "286 | CQA27 | 2022/54/10 11:54:33 | 26 | Kennedy Hodges | faucibus lectus, a sollicitudin orci sem eget massa. Suspendisse eleifend. Cras\n",
      "287 | AKD22 | 2024/35/13 08:35:01 | 6 | Ramona Ferguson | fermentum risus, at fringilla purus mauris a nunc. In at pede. Cras vulputate velit eu\n",
      "288 | NQN42 | 2023/19/22 11:19:13 | 20 | Moana Faulkner | Aliquam adipiscing lobortis risus. In mi pede, nonummy ut, molestie in, tempus eu, ligula. Aenean euismod\n",
      "289 | HED95 | 2023/39/9 06:39:02 | 12 | Marah Hammond | sed orci lobortis augue scelerisque mollis. Phasellus libero mauris, aliquam eu, accumsan sed, facilisis vitae, orci. Phasellus\n",
      "290 | DTS51 | 2024/50/6 05:50:43 | 19 | Alice Guerrero | elementum at, egestas a, scelerisque sed, sapien. Nunc pulvinar arcu et pede. Nunc sed orci lobortis augue scelerisque\n",
      "291 | VEV14 | 2023/38/14 03:38:08 | 23 | Farrah Aguirre | ut, molestie in,\n",
      "292 | VMB58 | 2023/48/24 09:48:22 | 11 | Tanisha Burns | vitae aliquam eros turpis non enim. Mauris quis turpis vitae purus gravida sagittis. Duis gravida. Praesent\n",
      "293 | NXY62 | 2024/16/20 11:16:23 | 9 | Bevis Jenkins | arcu. Vestibulum ante ipsum primis in faucibus orci luctus et ultrices posuere cubilia\n",
      "294 | RVX55 | 2022/10/7 04:10:38 | 16 | Riley Skinner | mauris erat\n",
      "295 | KVF10 | 2024/9/12 02:09:12 | 9 | Raya Hammond | dolor dapibus gravida. Aliquam tincidunt, nunc ac mattis ornare, lectus ante dictum mi, ac mattis velit\n",
      "296 | NHH82 | 2024/11/1 01:11:29 | 20 | Todd Beasley | fermentum risus, at fringilla purus mauris a nunc. In at pede. Cras vulputate velit\n",
      "297 | LWU63 | 2023/26/6 07:26:10 | 14 | Larissa Tucker | semper tellus id nunc interdum feugiat. Sed nec\n",
      "298 | GLT16 | 2023/32/31 03:32:18 | 25 | Candice Coleman | non, luctus sit amet, faucibus ut, nulla. Cras eu tellus eu augue porttitor interdum. Sed\n",
      "299 | CIX61 | 2024/37/8 11:37:27 | 5 | Jade Walker | at augue id ante dictum cursus. Nunc mauris elit,\n",
      "301 | KIO12 | 2024/11/7 02:11:19 | 24 | Eaton Malone | id sapien. Cras dolor dolor, tempus non, lacinia at, iaculis quis, pede. Praesent eu dui. Cum sociis natoque penatibus\n",
      "303 | ORI97 | 2022/26/1 10:26:35 | 1 | Theodore Romero | venenatis lacus. Etiam bibendum fermentum metus. Aenean sed\n",
      "304 | GJM78 | 2024/22/7 02:22:01 | 20 | Sylvester Leon | elit erat vitae risus. Duis\n",
      "305 | MRE08 | 2023/10/20 05:10:33 | 7 | Megan Potter | a purus. Duis elementum, dui quis accumsan convallis, ante lectus convallis est, vitae sodales nisi magna sed dui. Fusce\n",
      "306 | XQE43 | 2024/46/4 06:46:47 | 12 | Shaine Gross | eu tellus eu augue porttitor interdum. Sed auctor odio a purus. Duis elementum, dui quis accumsan convallis, ante\n",
      "307 | JLP24 | 2024/48/13 03:48:45 | 29 | Hoyt Hamilton | nunc id enim. Curabitur massa. Vestibulum\n",
      "309 | XWB52 | 2022/56/15 04:56:30 | 11 | Ferris Stuart | nulla. Integer vulputate, risus a ultricies adipiscing, enim mi tempor lorem, eget mollis lectus pede et risus. Quisque\n",
      "310 | NQV49 | 2022/50/22 01:50:12 | 16 | Avye Bailey | Phasellus elit pede, malesuada vel,\n",
      "311 | GFS88 | 2023/5/14 01:05:43 | 13 | Hillary Gray | Proin nisl sem, consequat nec, mollis vitae, posuere at, velit. Cras lorem lorem, luctus ut, pellentesque eget, dictum\n",
      "312 | FTU73 | 2023/50/24 06:50:09 | 10 | Sonya Osborne | nulla. In tincidunt congue turpis. In condimentum. Donec at arcu. Vestibulum ante ipsum primis\n",
      "313 | MVX11 | 2023/29/7 09:29:34 | 16 | Hollee Olson | ipsum primis in faucibus\n",
      "314 | CMQ39 | 2023/58/8 03:58:09 | 26 | Scarlett Donovan | luctus lobortis. Class aptent taciti sociosqu ad litora torquent per conubia nostra, per inceptos hymenaeos. Mauris ut quam vel sapien\n",
      "315 | TVJ35 | 2024/13/14 11:13:08 | 7 | Dennis Eaton | tincidunt dui augue\n",
      "316 | UYF68 | 2024/45/2 01:45:34 | 27 | Rogan Bernard | feugiat. Sed nec metus facilisis lorem tristique aliquet. Phasellus fermentum convallis ligula. Donec luctus aliquet\n",
      "317 | ITB77 | 2022/15/13 11:15:50 | 10 | Lareina Callahan | ac, eleifend vitae, erat. Vivamus nisi. Mauris nulla. Integer urna. Vivamus molestie dapibus ligula. Aliquam erat volutpat. Nulla dignissim.\n",
      "318 | RMJ61 | 2024/0/28 08:00:36 | 27 | Joseph Thornton | nec, euismod in, dolor. Fusce feugiat. Lorem ipsum dolor sit\n",
      "319 | SFL94 | 2024/22/22 07:22:23 | 25 | Dennis Hale | a, arcu. Sed et libero. Proin mi. Aliquam gravida mauris ut mi. Duis risus odio, auctor vitae,\n",
      "320 | TMM33 | 2022/11/28 12:11:52 | 8 | Tobias Johns | arcu. Morbi sit amet massa. Quisque porttitor eros nec tellus. Nunc lectus pede, ultrices a, auctor\n",
      "321 | VNE18 | 2024/8/23 07:08:47 | 4 | Neve Juarez | natoque penatibus et magnis dis parturient montes, nascetur ridiculus mus. Aenean eget magna. Suspendisse tristique neque venenatis lacus. Etiam\n",
      "322 | SIO78 | 2022/24/21 03:24:23 | 4 | Irma Morrison | semper et, lacinia vitae, sodales\n",
      "323 | TYR13 | 2024/56/9 11:56:59 | 3 | Charlotte Gamble | arcu. Sed eu nibh vulputate mauris sagittis placerat. Cras dictum ultricies ligula. Nullam enim.\n",
      "324 | BKG35 | 2023/25/14 02:25:27 | 28 | Reece Cannon | enim nec tempus scelerisque, lorem ipsum sodales purus, in molestie tortor nibh sit amet\n",
      "325 | KOH57 | 2023/48/20 11:48:56 | 27 | Gail Clayton | at auctor ullamcorper, nisl arcu iaculis\n",
      "326 | YXC64 | 2023/54/17 05:54:56 | 20 | Sydney Weber | nec, leo. Morbi\n",
      "327 | NJY27 | 2023/35/6 05:35:58 | 16 | Theodore Holt | tincidunt, neque vitae semper egestas, urna justo faucibus lectus, a sollicitudin orci sem eget massa. Suspendisse\n",
      "328 | VKP25 | 2024/0/21 08:00:49 | 18 | Kato Pennington | auctor quis, tristique ac, eleifend vitae, erat. Vivamus nisi. Mauris nulla. Integer urna. Vivamus molestie dapibus ligula.\n",
      "329 | JJH64 | 2024/10/8 06:10:58 | 20 | Holly Dillon | Quisque\n",
      "330 | WSB69 | 2023/36/4 05:36:18 | 28 | Jasper Murphy | magna. Praesent interdum ligula eu enim. Etiam imperdiet dictum magna. Ut tincidunt orci\n",
      "331 | FPN26 | 2023/31/14 04:31:31 | 23 | Camden Walker | hendrerit a, arcu. Sed et libero. Proin mi.\n",
      "332 | MTM14 | 2023/37/9 10:37:38 | 9 | Erich Monroe | magna.\n",
      "333 | YJF45 | 2023/5/23 12:05:07 | 18 | Hyatt Reeves | eu tellus. Phasellus elit pede,\n",
      "334 | TLS85 | 2023/41/14 04:41:54 | 15 | Rashad Downs | vestibulum, neque sed dictum eleifend, nunc\n",
      "335 | TVU43 | 2024/4/5 03:04:30 | 10 | Yvonne Howard | et, commodo at, libero. Morbi accumsan laoreet ipsum. Curabitur consequat, lectus sit amet luctus vulputate, nisi\n",
      "336 | QWG82 | 2024/10/28 07:10:09 | 13 | Sean Kent | nec, euismod in, dolor. Fusce feugiat.\n",
      "337 | JBI18 | 2024/3/7 11:03:35 | 9 | Nicole Rodgers | Donec felis\n",
      "338 | PTH82 | 2024/34/12 05:34:38 | 30 | Maggie Hartman | nibh. Phasellus nulla. Integer vulputate, risus a ultricies adipiscing, enim mi\n",
      "339 | ZJY71 | 2024/7/14 08:07:37 | 20 | Jason Wheeler | Donec elementum, lorem ut aliquam iaculis, lacus pede sagittis augue, eu tempor\n",
      "340 | SYI71 | 2022/50/9 08:50:07 | 1 | Galena Norman | risus, at fringilla purus mauris a nunc. In at pede. Cras vulputate velit eu sem. Pellentesque ut ipsum ac mi\n",
      "341 | PWJ68 | 2024/47/13 06:47:39 | 9 | Lyle Mitchell | tristique ac,\n",
      "342 | OEA76 | 2022/3/27 12:03:12 | 26 | Holmes Scott | nec orci. Donec nibh. Quisque nonummy ipsum non arcu. Vivamus sit amet risus.\n",
      "343 | PNN28 | 2022/54/14 11:54:47 | 27 | Lila Olson | non enim commodo hendrerit. Donec\n",
      "344 | UBE58 | 2023/34/17 01:34:12 | 15 | Fletcher Taylor | vitae, posuere at,\n",
      "345 | HXX37 | 2023/51/4 07:51:38 | 7 | Lila Wall | bibendum fermentum metus. Aenean sed pede nec ante blandit viverra. Donec tempus, lorem fringilla ornare placerat, orci\n",
      "346 | QCD79 | 2024/8/1 04:08:51 | 9 | Nehru Watts | pede et risus. Quisque libero lacus, varius et, euismod et, commodo at, libero. Morbi accumsan laoreet ipsum. Curabitur\n",
      "347 | YCB12 | 2024/7/3 10:07:14 | 28 | Jelani Lane | vestibulum lorem, sit amet ultricies sem magna nec quam. Curabitur\n",
      "348 | IXE25 | 2023/15/23 05:15:08 | 9 | Petra Doyle | sem, vitae aliquam eros turpis non\n",
      "349 | UUE44 | 2024/27/17 09:27:55 | 18 | Linus Dyer | erat. Vivamus nisi. Mauris nulla. Integer urna.\n",
      "350 | NLU45 | 2023/59/29 10:59:34 | 24 | Silas Payne | Mauris ut\n",
      "351 | OSN88 | 2024/14/13 11:14:23 | 22 | Kathleen Glass | facilisis non, bibendum sed, est. Nunc laoreet lectus quis massa. Mauris vestibulum, neque sed dictum eleifend,\n",
      "352 | YZS36 | 2023/39/2 08:39:18 | 11 | Evan Goodwin | orci lacus vestibulum lorem, sit\n",
      "353 | XLV64 | 2023/22/24 01:22:07 | 13 | Karen Nielsen | enim. Nunc ut erat. Sed nunc est, mollis non, cursus non, egestas\n",
      "354 | UZH06 | 2023/19/21 05:19:36 | 3 | Rylee Warren | a, arcu. Sed et\n",
      "355 | KDH05 | 2024/53/17 05:53:57 | 10 | Kaitlin Melton | ipsum. Suspendisse non leo. Vivamus nibh dolor, nonummy\n",
      "356 | ODM83 | 2024/46/7 11:46:02 | 14 | Idola Dennis | lobortis tellus justo sit amet nulla. Donec non justo. Proin non massa non ante bibendum ullamcorper. Duis cursus, diam at\n",
      "357 | BTG92 | 2024/6/8 04:06:51 | 3 | Shana Guzman | lobortis augue scelerisque mollis. Phasellus libero mauris, aliquam eu, accumsan sed, facilisis\n",
      "358 | HDE64 | 2022/12/25 03:12:35 | 14 | Wilma Mcintosh | elit erat vitae risus. Duis a mi fringilla mi lacinia mattis. Integer eu lacus.\n",
      "359 | LSH33 | 2024/36/1 07:36:58 | 18 | Cameron Curry | egestas. Aliquam\n",
      "360 | HST16 | 2024/57/13 10:57:59 | 15 | Ishmael Sykes | risus. Donec nibh enim, gravida sit amet, dapibus id, blandit at, nisi. Cum sociis natoque penatibus et magnis dis\n",
      "361 | FVY56 | 2024/20/23 07:20:26 | 2 | Regina Snow | rutrum. Fusce dolor quam, elementum at, egestas a, scelerisque sed,\n",
      "362 | EPX57 | 2023/35/6 01:35:55 | 24 | Lilah Hobbs | adipiscing, enim mi tempor lorem, eget mollis lectus pede et risus. Quisque libero lacus, varius et, euismod\n",
      "363 | WHT56 | 2023/47/15 08:47:04 | 15 | Darius Morrow | euismod urna. Nullam lobortis quam a felis ullamcorper viverra. Maecenas iaculis aliquet diam. Sed diam lorem, auctor\n",
      "364 | MMO02 | 2023/11/18 02:11:53 | 23 | Keely Alford | tincidunt adipiscing. Mauris molestie pharetra nibh. Aliquam ornare, libero\n",
      "365 | ILL78 | 2023/17/10 07:17:17 | 12 | Ryan Britt | fames\n",
      "366 | JTY97 | 2024/40/8 05:40:32 | 1 | Evan Hensley | Quisque libero lacus,\n",
      "367 | SDL36 | 2024/3/21 10:03:28 | 13 | Xantha Ware | nec, malesuada ut, sem. Nulla interdum. Curabitur dictum. Phasellus in felis.\n",
      "368 | RBL84 | 2023/19/19 08:19:17 | 21 | Yvette Castro | sem. Pellentesque ut ipsum ac mi eleifend egestas.\n",
      "369 | SHA13 | 2024/20/29 12:20:22 | 9 | Rana Guerra | Cras sed leo. Cras vehicula aliquet\n",
      "370 | MTT18 | 2024/51/22 03:51:08 | 19 | Stewart Chan | sem elit, pharetra ut, pharetra sed, hendrerit a, arcu. Sed et libero. Proin mi. Aliquam gravida mauris\n",
      "371 | DUQ80 | 2023/5/22 09:05:08 | 18 | Ross Pena | ultricies sem magna nec quam. Curabitur vel lectus.\n",
      "372 | DGS52 | 2023/2/3 07:02:59 | 7 | Steel Bowers | ridiculus mus. Aenean eget magna. Suspendisse tristique neque venenatis lacus.\n",
      "373 | NDI55 | 2022/50/10 03:50:56 | 0 | Magee Tyler | orci lobortis augue scelerisque mollis. Phasellus libero mauris, aliquam eu, accumsan sed, facilisis vitae, orci. Phasellus dapibus\n",
      "374 | HBK81 | 2023/55/2 04:55:22 | 1 | Ifeoma Barnett | Sed eget lacus. Mauris non dui nec urna suscipit nonummy. Fusce fermentum fermentum arcu. Vestibulum\n",
      "375 | XTT65 | 2024/24/12 01:24:35 | 1 | Connor Ayala | arcu eu odio\n",
      "376 | KET34 | 2023/37/7 04:37:52 | 30 | Orlando Carr | sem\n",
      "377 | CRU57 | 2023/18/10 02:18:46 | 15 | Rhiannon Shannon | ligula. Donec luctus aliquet odio. Etiam ligula tortor, dictum eu, placerat eget, venenatis a, magna. Lorem\n",
      "378 | ZMH41 | 2023/12/4 05:12:50 | 10 | Zenia Casey | sed, sapien. Nunc pulvinar arcu et pede. Nunc sed orci lobortis\n",
      "379 | TTL91 | 2023/27/23 05:27:07 | 17 | Shelley O'donnell | lorem ipsum sodales purus, in molestie tortor nibh sit amet orci. Ut sagittis lobortis mauris. Suspendisse\n",
      "380 | AUT16 | 2023/10/2 12:10:08 | 12 | Wylie Hardy | Maecenas mi felis, adipiscing fringilla, porttitor vulputate, posuere\n",
      "382 | YJC89 | 2023/11/29 05:11:17 | 22 | Mia Crawford | vitae mauris sit amet lorem semper auctor. Mauris vel turpis. Aliquam adipiscing lobortis risus. In mi pede, nonummy\n",
      "383 | KRT65 | 2023/58/23 01:58:55 | 10 | Judah Mcdowell | nec tempus scelerisque, lorem\n",
      "384 | BLQ68 | 2023/10/2 12:10:00 | 27 | Imogene Good | parturient montes, nascetur ridiculus mus. Donec dignissim magna a tortor. Nunc commodo auctor velit. Aliquam nisl. Nulla\n",
      "385 | BWU75 | 2023/54/26 03:54:59 | 14 | Allen Bauer | ut,\n",
      "386 | JBI79 | 2022/6/18 11:06:54 | 20 | Vielka Kane | ligula consectetuer rhoncus. Nullam velit dui, semper et, lacinia vitae, sodales at, velit. Pellentesque ultricies dignissim lacus. Aliquam\n",
      "387 | OHQ35 | 2023/47/29 04:47:37 | 14 | Kimberly Hopkins | magnis dis parturient montes, nascetur ridiculus mus. Proin vel arcu eu odio tristique pharetra. Quisque ac\n",
      "388 | LLE58 | 2023/30/25 09:30:15 | 10 | Kelsey Gilbert | imperdiet non, vestibulum nec,\n",
      "389 | QKJ27 | 2023/41/20 01:41:33 | 20 | Lani Park | eu, odio. Phasellus at augue id\n",
      "390 | SVI24 | 2023/43/6 05:43:10 | 5 | Mia Burris | nulla at sem\n",
      "391 | VPF54 | 2024/5/14 07:05:01 | 10 | Xantha Neal | iaculis, lacus pede sagittis augue, eu tempor erat neque non\n",
      "392 | YRG83 | 2023/25/10 06:25:49 | 5 | Winifred Frazier | ornare sagittis felis. Donec tempor, est ac mattis semper,\n",
      "393 | GUU71 | 2022/59/24 10:59:24 | 22 | Isaac Rios | est arcu ac orci.\n",
      "394 | VZI28 | 2023/2/17 01:02:30 | 9 | Graiden Bennett | In lorem. Donec elementum, lorem ut aliquam\n",
      "395 | OTO82 | 2023/24/14 10:24:43 | 24 | Lysandra Chaney | per inceptos hymenaeos. Mauris\n",
      "396 | CEI36 | 2023/27/25 01:27:40 | 11 | Kareem Church | ligula tortor, dictum eu, placerat eget, venenatis\n",
      "397 | RMO24 | 2023/39/31 11:39:21 | 7 | Jerry Reilly | libero. Donec consectetuer mauris id sapien. Cras dolor dolor, tempus non,\n",
      "398 | MEH83 | 2023/44/14 03:44:43 | 28 | Oliver Mueller | vulputate, posuere vulputate, lacus.\n",
      "399 | MYU28 | 2023/2/3 06:02:10 | 2 | Brent Lawson | magna, malesuada vel, convallis in, cursus et, eros. Proin ultrices. Duis volutpat nunc sit amet metus.\n",
      "400 | CCG47 | 2023/34/21 06:34:12 | 14 | Bradley Cortez | pharetra ut, pharetra sed, hendrerit a, arcu. Sed et libero. Proin mi. Aliquam gravida mauris ut mi. Duis risus\n",
      "401 | TMF51 | 2022/36/5 07:36:18 | 18 | Acton Huff | pede nec ante blandit viverra. Donec tempus, lorem fringilla ornare placerat, orci lacus vestibulum lorem, sit amet ultricies sem\n",
      "402 | CPD98 | 2023/57/13 12:57:07 | 12 | Noelle Long | est, congue a, aliquet vel, vulputate eu,\n",
      "403 | RMH72 | 2023/39/14 05:39:57 | 25 | Bertha Vaughn | ornare, elit elit fermentum risus, at fringilla purus mauris a nunc. In\n",
      "404 | QCH68 | 2023/15/29 12:15:10 | 14 | Elton Ruiz | nunc. In at pede. Cras\n",
      "405 | RCS47 | 2023/45/12 09:45:16 | 12 | Price Weaver | suscipit, est ac facilisis facilisis, magna tellus faucibus leo, in lobortis tellus justo sit amet nulla. Donec non justo.\n",
      "406 | SQT50 | 2023/55/20 04:55:51 | 0 | Kylan Woodard | aliquet molestie tellus. Aenean egestas hendrerit neque. In ornare sagittis felis. Donec tempor, est ac mattis semper,\n",
      "407 | WAT27 | 2024/38/4 12:38:05 | 3 | Cooper Woodard | at lacus.\n",
      "408 | ZRN69 | 2024/1/28 02:01:53 | 2 | Gemma Ortega | rhoncus id, mollis nec, cursus a, enim. Suspendisse\n",
      "409 | BDD42 | 2024/23/4 12:23:45 | 5 | Stephanie Bowman | ligula tortor, dictum eu, placerat eget, venenatis a, magna. Lorem ipsum dolor sit amet, consectetuer adipiscing elit. Etiam\n",
      "410 | MJA17 | 2023/27/2 04:27:47 | 18 | Hedy Ray | sit amet risus. Donec egestas.\n",
      "411 | MIP62 | 2024/47/3 08:47:50 | 17 | Ferris Gomez | ornare, facilisis eget, ipsum. Donec sollicitudin adipiscing ligula. Aenean gravida nunc sed pede.\n",
      "412 | YJW48 | 2024/52/17 04:52:00 | 12 | Yuli Clay | neque venenatis lacus.\n",
      "413 | WYH78 | 2022/41/15 02:41:48 | 24 | Desirae Donaldson | amet ornare lectus justo eu arcu. Morbi sit amet massa. Quisque porttitor eros\n",
      "414 | TDT08 | 2023/59/18 11:59:19 | 6 | Abbot Gay | Quisque nonummy ipsum\n",
      "416 | ULP19 | 2024/38/7 08:38:03 | 9 | Lisandra Daniels | aliquet. Phasellus fermentum convallis ligula. Donec luctus aliquet odio. Etiam ligula tortor, dictum\n",
      "417 | UJU72 | 2022/25/7 06:25:53 | 8 | Gwendolyn Mcfadden | Nunc ac sem ut dolor dapibus gravida. Aliquam tincidunt, nunc ac mattis ornare, lectus ante dictum mi, ac mattis velit\n",
      "419 | SFV73 | 2023/49/31 03:49:36 | 27 | Rashad Mendez | vestibulum, neque sed dictum eleifend, nunc risus varius orci, in\n",
      "420 | BTQ81 | 2023/17/19 03:17:55 | 24 | Igor Stark | ipsum dolor sit amet, consectetuer adipiscing elit. Aliquam auctor, velit eget laoreet posuere, enim nisl\n",
      "421 | VVJ04 | 2023/6/21 01:06:03 | 15 | Ivor Boone | diam. Pellentesque habitant morbi tristique senectus et netus et malesuada fames ac turpis egestas. Fusce\n",
      "422 | WGE88 | 2024/15/10 07:15:55 | 10 | Autumn Puckett | natoque penatibus et magnis dis parturient montes,\n",
      "423 | LNP13 | 2022/48/10 08:48:04 | 17 | Palmer Walters | ac mi eleifend egestas. Sed pharetra, felis eget varius ultrices, mauris\n",
      "424 | QWH76 | 2023/28/14 04:28:52 | 19 | Uma Phillips | elementum sem, vitae aliquam eros turpis non enim. Mauris quis turpis vitae purus gravida sagittis. Duis\n",
      "425 | MAO26 | 2023/20/26 04:20:47 | 16 | Lewis Mcmillan | erat volutpat. Nulla facilisis. Suspendisse commodo\n",
      "426 | QSP67 | 2024/5/9 06:05:04 | 4 | Calvin Chavez | ut erat. Sed nunc est, mollis non, cursus non, egestas a, dui. Cras pellentesque. Sed\n",
      "427 | AWV53 | 2023/27/27 10:27:09 | 8 | Oliver Morales | viverra. Donec tempus, lorem fringilla ornare placerat, orci lacus vestibulum lorem, sit amet ultricies sem magna nec quam. Curabitur\n",
      "428 | TTZ53 | 2023/35/1 09:35:59 | 12 | Omar Buck | Sed dictum.\n",
      "429 | HIF27 | 2023/33/23 04:33:14 | 19 | Jordan Carr | orci. Phasellus dapibus quam quis diam. Pellentesque habitant morbi tristique senectus et netus\n",
      "430 | LKN57 | 2024/49/20 11:49:53 | 1 | Ursa Mccarthy | vitae nibh.\n",
      "431 | HTU41 | 2023/3/14 03:03:37 | 23 | Lev Goodman | molestie tellus. Aenean\n",
      "432 | UHN50 | 2023/58/30 07:58:47 | 8 | Kameko Coffey | et magnis dis parturient\n",
      "433 | YYD55 | 2024/40/15 12:40:33 | 8 | Armando May | nonummy ultricies ornare, elit elit fermentum risus, at fringilla purus mauris a nunc. In at pede. Cras vulputate velit eu\n",
      "434 | DTL38 | 2023/4/18 11:04:52 | 17 | Chester Becker | purus. Duis elementum, dui quis accumsan convallis, ante lectus convallis est, vitae sodales nisi\n",
      "435 | EBN36 | 2024/23/4 09:23:48 | 9 | Amal Conrad | aliquet. Phasellus fermentum convallis ligula. Donec luctus aliquet odio. Etiam ligula tortor, dictum eu, placerat eget, venenatis a, magna.\n",
      "436 | ECN50 | 2023/20/23 10:20:10 | 18 | Patrick Wolfe | Donec felis orci, adipiscing non, luctus sit\n",
      "437 | GBH22 | 2022/50/6 06:50:39 | 7 | Octavia Dawson | sollicitudin commodo ipsum. Suspendisse non leo. Vivamus nibh dolor, nonummy ac, feugiat non, lobortis quis, pede. Suspendisse dui.\n",
      "438 | HIR33 | 2024/56/13 04:56:44 | 29 | Dana Lindsey | Lorem ipsum dolor sit amet, consectetuer adipiscing elit. Etiam laoreet, libero et tristique pellentesque,\n",
      "439 | RHP44 | 2023/12/19 10:12:39 | 10 | Whitney Blevins | venenatis a, magna.\n",
      "440 | YJY83 | 2022/19/26 01:19:41 | 14 | Zachery Ross | a, auctor non, feugiat nec, diam.\n",
      "441 | OPH26 | 2023/51/25 07:51:49 | 20 | Nichole Nelson | ligula. Nullam enim. Sed nulla ante, iaculis nec, eleifend non, dapibus rutrum, justo. Praesent luctus. Curabitur egestas nunc sed libero.\n",
      "442 | BXN23 | 2024/7/14 10:07:57 | 6 | Martha Foster | convallis ligula. Donec luctus aliquet odio. Etiam ligula tortor, dictum\n",
      "444 | UGD83 | 2024/21/1 08:21:43 | 10 | Nehru Marshall | ridiculus\n",
      "445 | ZKK65 | 2024/8/6 04:08:32 | 27 | Jacob Mayer | eget, venenatis a, magna. Lorem ipsum dolor sit amet, consectetuer adipiscing elit. Etiam laoreet, libero et\n",
      "446 | XTX70 | 2024/6/26 04:06:59 | 1 | Harrison Pope | Integer urna. Vivamus molestie dapibus ligula. Aliquam erat volutpat. Nulla\n",
      "447 | XQB08 | 2024/54/13 04:54:13 | 15 | Channing Head | scelerisque sed,\n",
      "448 | MKT26 | 2024/45/2 07:45:47 | 14 | Zachery Young | aliquet libero. Integer in magna. Phasellus dolor elit, pellentesque a, facilisis non, bibendum sed, est. Nunc laoreet lectus quis\n",
      "449 | XBN01 | 2023/27/2 10:27:07 | 15 | Quamar Mays | augue, eu\n",
      "450 | QVE13 | 2024/28/6 06:28:01 | 4 | Linus Murphy | Donec egestas. Aliquam nec enim. Nunc ut\n",
      "451 | DGO82 | 2024/10/7 05:10:16 | 9 | Neil Daugherty | Suspendisse eleifend. Cras sed leo. Cras vehicula aliquet libero. Integer\n",
      "452 | GDP66 | 2024/31/8 03:31:44 | 7 | Armand Benson | et ultrices posuere cubilia Curae Donec tincidunt. Donec vitae erat vel pede blandit congue. In scelerisque\n",
      "453 | OAX78 | 2023/47/12 10:47:58 | 28 | Byron Villarreal | felis. Donec\n",
      "454 | POX11 | 2024/1/15 09:01:15 | 24 | Tucker Mclean | erat, in consectetuer ipsum nunc id enim. Curabitur massa. Vestibulum accumsan neque et nunc. Quisque ornare\n",
      "455 | RBN17 | 2022/16/25 10:16:30 | 15 | Amos Larsen | elit erat vitae risus.\n",
      "456 | TUH64 | 2023/55/25 08:55:20 | 3 | Octavia Graham | odio. Aliquam vulputate ullamcorper magna. Sed eu eros. Nam consequat dolor\n",
      "457 | FVI77 | 2024/33/15 12:33:42 | 0 | Thomas Simpson | congue a, aliquet vel, vulputate eu, odio. Phasellus at augue id\n",
      "458 | NOE72 | 2023/40/23 12:40:01 | 4 | Charity Fuller | mi, ac mattis velit justo nec\n",
      "459 | QDN44 | 2023/42/15 03:42:34 | 24 | Fatima Mcdaniel | quis massa. Mauris vestibulum, neque sed dictum eleifend, nunc risus varius orci, in consequat enim diam\n",
      "460 | ZTL62 | 2023/22/30 10:22:38 | 24 | Nadine Jones | ultrices iaculis odio. Nam interdum enim\n",
      "461 | BGG85 | 2024/50/26 12:50:20 | 21 | Ciaran Barker | laoreet lectus quis massa.\n",
      "462 | KOX78 | 2023/33/31 04:33:05 | 9 | Quamar Farley | mauris id sapien. Cras dolor dolor, tempus non,\n",
      "463 | KQF99 | 2024/6/7 06:06:30 | 16 | Sandra Adams | tellus sem mollis dui, in sodales elit erat vitae risus. Duis a mi fringilla mi lacinia\n",
      "464 | LWI50 | 2023/38/31 10:38:54 | 27 | Quin West | sociis natoque penatibus et magnis dis parturient montes, nascetur ridiculus mus. Proin vel nisl. Quisque fringilla euismod\n",
      "465 | JRT96 | 2024/57/20 05:57:40 | 11 | Alexander Petersen | Aenean egestas hendrerit neque. In ornare sagittis felis. Donec tempor, est ac mattis semper, dui lectus rutrum urna,\n",
      "466 | FCT17 | 2023/57/28 12:57:42 | 2 | Merrill Bates | enim consequat purus. Maecenas libero est, congue a, aliquet vel, vulputate eu, odio. Phasellus\n",
      "467 | FBT08 | 2023/21/4 04:21:07 | 14 | Leilani Salas | enim. Curabitur massa. Vestibulum accumsan neque\n",
      "468 | UDI26 | 2023/57/4 02:57:37 | 7 | Scott Wolfe | imperdiet nec, leo. Morbi neque tellus, imperdiet non, vestibulum nec, euismod in, dolor. Fusce feugiat.\n",
      "469 | LFI38 | 2024/18/15 08:18:00 | 21 | Christine Roberts | sit amet risus. Donec egestas. Aliquam nec enim. Nunc ut\n",
      "470 | NZQ46 | 2022/32/11 05:32:49 | 21 | Xyla Lewis | scelerisque, lorem ipsum sodales purus, in molestie\n",
      "471 | IOL33 | 2023/15/15 09:15:04 | 3 | Uta Patton | sit amet, consectetuer adipiscing elit. Aliquam auctor, velit eget laoreet posuere, enim\n",
      "472 | WQD67 | 2023/27/7 02:27:27 | 23 | Garth Bonner | mattis ornare, lectus ante dictum\n",
      "473 | SUY39 | 2023/51/21 03:51:45 | 19 | Herrod Jefferson | Vivamus sit amet risus. Donec egestas. Aliquam nec\n",
      "474 | QDV43 | 2024/57/20 06:57:01 | 16 | Richard Logan | enim, gravida sit\n",
      "475 | VDY80 | 2024/40/22 04:40:13 | 26 | Hadley Herrera | velit. Cras lorem lorem, luctus ut, pellentesque eget, dictum placerat, augue. Sed molestie. Sed id risus\n",
      "476 | QDN71 | 2023/15/13 11:15:26 | 28 | Thomas Everett | fringilla est. Mauris eu turpis. Nulla aliquet. Proin velit. Sed malesuada augue\n",
      "477 | RMJ17 | 2024/19/2 12:19:20 | 16 | Driscoll Mcclure | justo sit amet\n",
      "478 | KJZ23 | 2023/21/1 03:21:06 | 1 | Allen Marks | vulputate dui, nec tempus mauris erat eget ipsum. Suspendisse sagittis. Nullam vitae diam.\n",
      "479 | CXT75 | 2023/31/1 11:31:21 | 9 | Alvin Bell | venenatis lacus. Etiam bibendum fermentum metus. Aenean sed pede nec ante blandit\n",
      "480 | LUJ21 | 2023/11/8 08:11:29 | 29 | Florence Skinner | est tempor bibendum. Donec felis orci,\n",
      "481 | OGU16 | 2024/20/9 05:20:12 | 30 | Zorita Brennan | lacus. Nulla tincidunt,\n",
      "482 | GZG12 | 2024/2/7 03:02:21 | 28 | Hyatt Chan | nunc est, mollis non, cursus non, egestas\n",
      "483 | WBS40 | 2024/21/10 01:21:25 | 15 | Acton Delgado | Vivamus rhoncus. Donec est. Nunc\n",
      "484 | DQX52 | 2024/53/15 09:53:17 | 8 | Amery Cotton | eget ipsum. Suspendisse sagittis. Nullam vitae diam. Proin dolor. Nulla semper\n",
      "485 | AVF26 | 2024/55/22 09:55:03 | 14 | Rahim Terrell | amet ornare lectus justo eu arcu. Morbi sit amet massa. Quisque porttitor eros nec tellus. Nunc\n",
      "486 | EUT49 | 2024/48/7 04:48:42 | 11 | Merrill Campbell | lorem vitae odio sagittis\n",
      "487 | HFG20 | 2024/42/19 08:42:24 | 0 | Nora Meyers | parturient montes,\n",
      "488 | WMP51 | 2024/55/16 05:55:59 | 18 | Marvin Patton | fringilla cursus purus. Nullam scelerisque neque sed sem egestas blandit. Nam nulla magna, malesuada vel,\n",
      "489 | BFP11 | 2024/50/14 02:50:18 | 6 | Xenos Hebert | cursus non, egestas a, dui. Cras pellentesque. Sed dictum. Proin eget odio. Aliquam\n",
      "490 | TOP94 | 2023/58/23 04:58:24 | 14 | Chester Gross | sapien, gravida non, sollicitudin a, malesuada id, erat. Etiam vestibulum massa rutrum magna. Cras convallis convallis\n",
      "491 | DOP06 | 2022/3/17 06:03:38 | 11 | Forrest Callahan | ut, molestie in, tempus eu, ligula. Aenean euismod mauris eu elit. Nulla facilisi. Sed neque. Sed eget lacus.\n",
      "492 | YHN58 | 2024/25/22 10:25:58 | 13 | Delilah Hicks | consectetuer euismod est arcu ac orci. Ut semper pretium neque. Morbi quis urna.\n",
      "493 | EYD46 | 2023/52/17 04:52:36 | 29 | Abra Hammond | dolor, nonummy ac,\n",
      "494 | XLP87 | 2024/43/13 02:43:07 | 8 | Raven Henson | lectus ante dictum mi, ac mattis velit justo nec ante. Maecenas mi felis, adipiscing fringilla,\n",
      "495 | PFE71 | 2023/9/22 05:09:01 | 18 | Jasmine Horn | Fusce aliquet magna a neque. Nullam ut nisi\n",
      "496 | MVU16 | 2023/23/20 01:23:42 | 6 | Dustin Harrell | nisi magna sed dui. Fusce aliquam, enim\n",
      "497 | BTO64 | 2024/47/13 12:47:38 | 1 | Zane Simmons | dolor sit amet, consectetuer adipiscing\n",
      "498 | LQU40 | 2024/19/31 06:19:59 | 28 | Alden Cunningham | diam luctus lobortis. Class aptent taciti sociosqu ad litora torquent per conubia nostra, per inceptos hymenaeos. Mauris\n",
      "499 | BYC33 | 2022/38/19 08:38:58 | 30 | Laurel Ray | nec ligula consectetuer rhoncus. Nullam velit dui, semper et, lacinia vitae, sodales at, velit.\n",
      "500 | LIK81 | 2024/26/9 06:26:59 | 29 | Beck Bauer | dui. Cras pellentesque. Sed dictum.\n",
      "508 | LMX57 | 2023/26/21 11:26:17 | 6 | Jonas Cobb | cursus a, enim.\n",
      "509 | LMX57 | 2023/26/21 11:26:17 | 6 | Jonas Cobb | cursus a, enim.\n"
     ]
    }
   ],
   "source": [
    "datagrid.search(\"creation_date\", (\"2023/03/22 07:35:23\", \"2024/01/23 00:00:00\"))"
   ]
  },
  {
   "cell_type": "code",
   "execution_count": 8,
   "metadata": {},
   "outputs": [
    {
     "name": "stdout",
     "output_type": "stream",
     "text": [
      "1 | ELH65 | 2024/34/25 03:34:03 | 22 | Yvette Haynes | Phasellus fermentum convallis ligula. Donec luctus\n",
      "2 | EJF55 | 2024/59/25 02:59:09 | 7 | Kasimir Norris | Cras vulputate velit eu sem. Pellentesque ut ipsum ac mi\n",
      "3 | QXW32 | 2023/54/14 06:54:20 | 3 | Suki Mathis | sagittis felis. Donec tempor, est ac mattis semper, dui lectus rutrum urna,\n",
      "4 | HUV07 | 2023/47/15 11:47:27 | 3 | Akeem Greene | fringilla, porttitor vulputate, posuere vulputate, lacus. Cras interdum. Nunc sollicitudin commodo ipsum. Suspendisse non leo. Vivamus nibh\n",
      "5 | OZT82 | 2022/2/31 02:02:29 | 19 | Zeph Moody | lorem vitae odio sagittis semper. Nam tempor diam dictum sapien. Aenean massa. Integer vitae nibh. Donec est mauris, rhoncus\n",
      "6 | XLR32 | 2024/45/29 05:45:47 | 4 | Kay Witt | libero dui\n",
      "8 | KXQ01 | 2022/56/18 02:56:26 | 20 | Patience Monroe | ligula consectetuer rhoncus. Nullam velit dui, semper et, lacinia\n",
      "9 | CYU74 | 2024/35/20 11:35:24 | 6 | Rajah Sawyer | non nisi. Aenean eget metus. In nec orci. Donec nibh. Quisque nonummy ipsum non arcu.\n",
      "11 | XYF21 | 2023/5/12 02:05:02 | 7 | Armando Shannon | pharetra sed, hendrerit a, arcu. Sed et libero. Proin mi. Aliquam gravida mauris ut mi. Duis risus odio,\n",
      "12 | MLK27 | 2024/59/23 11:59:28 | 15 | Lewis Mendez | bibendum sed, est. Nunc laoreet lectus quis massa. Mauris vestibulum, neque\n",
      "14 | FLW86 | 2023/7/22 07:07:29 | 21 | Reese Navarro | natoque penatibus et magnis dis parturient montes, nascetur ridiculus mus. Aenean eget magna.\n",
      "16 | OKF65 | 2024/59/29 03:59:21 | 10 | Oscar Banks | Aenean gravida nunc sed pede. Cum sociis natoque penatibus\n",
      "17 | QCH88 | 2023/31/14 04:31:40 | 23 | Robin Haney | Donec tincidunt. Donec vitae\n",
      "18 | IAP19 | 2024/11/13 11:11:04 | 10 | Adria Flowers | facilisis. Suspendisse\n",
      "19 | CVS26 | 2023/55/7 05:55:01 | 25 | Charity Ferguson | orci tincidunt adipiscing. Mauris molestie pharetra nibh. Aliquam ornare, libero at auctor ullamcorper,\n",
      "20 | OLI61 | 2024/47/20 01:47:02 | 8 | Isadora Kirk | primis in\n",
      "21 | NAX44 | 2023/18/26 10:18:20 | 5 | Travis Irwin | egestas blandit. Nam nulla magna, malesuada vel, convallis in, cursus et, eros. Proin ultrices. Duis volutpat nunc sit\n",
      "22 | ROM35 | 2023/13/10 07:13:19 | 12 | Kitra Terry | diam. Duis mi\n",
      "23 | GJJ26 | 2024/55/9 08:55:09 | 24 | Allegra Byers | Proin sed\n",
      "24 | GUB57 | 2022/9/10 06:09:46 | 28 | Lynn Richard | et, rutrum\n",
      "25 | YOF49 | 2024/20/9 07:20:59 | 9 | Imani Salinas | ac, eleifend vitae, erat. Vivamus nisi. Mauris nulla. Integer urna. Vivamus molestie dapibus ligula. Aliquam erat\n",
      "26 | SVS23 | 2023/0/24 06:00:27 | 7 | Yeo May | lacus. Nulla tincidunt, neque vitae semper egestas,\n",
      "27 | GQG11 | 2023/35/8 09:35:31 | 6 | Armand Medina | ut, pellentesque eget, dictum placerat, augue. Sed molestie. Sed\n",
      "28 | UGK34 | 2023/3/30 02:03:44 | 11 | Nigel Avila | mauris eu elit. Nulla facilisi. Sed neque. Sed eget lacus. Mauris non dui\n",
      "29 | HPI46 | 2024/24/20 12:24:08 | 4 | Hedda Chen | orci tincidunt adipiscing. Mauris molestie pharetra nibh. Aliquam\n",
      "30 | XVI58 | 2023/30/2 03:30:29 | 21 | Kasper Webster | vel, vulputate eu, odio. Phasellus at augue id ante dictum cursus. Nunc mauris elit, dictum eu, eleifend nec, malesuada\n",
      "31 | DDW84 | 2024/19/9 08:19:49 | 17 | Cheyenne Lowery | nisi nibh lacinia orci, consectetuer euismod\n",
      "32 | CON07 | 2024/17/24 03:17:44 | 17 | Ella Dyer | lectus quis massa.\n",
      "33 | AQY12 | 2024/20/10 02:20:22 | 13 | Jared Bonner | facilisis lorem tristique aliquet. Phasellus fermentum convallis ligula. Donec\n",
      "34 | WOI26 | 2024/4/10 09:04:22 | 18 | Benjamin Knox | faucibus id, libero. Donec consectetuer mauris id sapien. Cras dolor\n",
      "35 | KRL83 | 2023/55/20 11:55:36 | 14 | Keiko Bush | Nulla aliquet. Proin velit. Sed malesuada augue ut lacus.\n",
      "36 | ULX33 | 2023/30/9 05:30:39 | 15 | Bevis Horne | Duis volutpat nunc sit amet metus. Aliquam erat volutpat. Nulla facilisis. Suspendisse commodo\n",
      "37 | GAW64 | 2024/29/30 11:29:44 | 27 | Kuame Booth | eget nisi dictum augue malesuada malesuada.\n",
      "38 | DZW55 | 2024/14/14 08:14:07 | 9 | Judah Bartlett | Nulla eu neque pellentesque massa lobortis ultrices. Vivamus rhoncus. Donec est. Nunc ullamcorper, velit\n",
      "39 | XHD44 | 2024/38/22 11:38:58 | 2 | Destiny Valenzuela | tincidunt. Donec vitae erat vel pede blandit\n",
      "40 | JTC48 | 2022/47/27 05:47:55 | 28 | Andrew Knox | rhoncus. Proin nisl sem, consequat\n",
      "41 | VKP28 | 2023/25/12 11:25:26 | 2 | Kirestin Bird | Cras dictum ultricies ligula. Nullam enim. Sed nulla ante, iaculis\n",
      "42 | EPW42 | 2024/59/14 12:59:45 | 13 | Karen Barber | conubia nostra, per inceptos hymenaeos. Mauris ut quam vel sapien imperdiet ornare.\n",
      "43 | TBN74 | 2022/42/14 05:42:16 | 17 | Wesley Stevenson | pede. Nunc sed orci lobortis augue scelerisque mollis. Phasellus libero mauris, aliquam eu, accumsan sed, facilisis vitae, orci. Phasellus dapibus\n",
      "44 | DSR67 | 2024/25/21 04:25:33 | 16 | Alisa Willis | nisi sem semper erat, in consectetuer ipsum nunc id enim. Curabitur\n",
      "45 | IYI80 | 2023/38/31 02:38:58 | 10 | Roanna Tucker | ornare placerat, orci lacus vestibulum lorem, sit amet\n",
      "46 | ITP33 | 2023/40/14 08:40:37 | 6 | Rylee Tanner | placerat. Cras dictum ultricies ligula.\n",
      "47 | RVD27 | 2023/55/28 12:55:29 | 11 | Ocean Levine | at lacus. Quisque purus sapien, gravida non, sollicitudin a, malesuada id, erat. Etiam\n",
      "48 | WQY70 | 2023/15/21 04:15:51 | 24 | Lydia Lynn | accumsan neque et nunc. Quisque ornare tortor at risus. Nunc ac sem ut dolor dapibus gravida. Aliquam\n",
      "49 | HFL17 | 2022/17/20 03:17:25 | 22 | Alea Gallegos | eu tellus. Phasellus\n",
      "50 | UQW43 | 2024/52/16 03:52:49 | 21 | Clark Bush | nonummy ultricies ornare, elit elit fermentum risus, at\n",
      "51 | NCS82 | 2024/23/16 10:23:05 | 10 | Edward Hopper | ac ipsum. Phasellus vitae mauris sit\n",
      "52 | XQY70 | 2023/23/10 06:23:48 | 18 | Honorato Robinson | purus sapien, gravida non, sollicitudin a, malesuada id, erat. Etiam vestibulum massa\n",
      "53 | OUD75 | 2023/49/19 10:49:05 | 28 | Dai Mitchell | quis lectus. Nullam\n",
      "54 | TUW63 | 2024/0/22 03:00:21 | 24 | Marsden Barr | leo. Morbi neque tellus, imperdiet non, vestibulum nec, euismod in, dolor. Fusce\n",
      "55 | THH38 | 2024/38/25 09:38:41 | 26 | Ivor Reid | Proin velit. Sed malesuada augue ut lacus. Nulla tincidunt, neque vitae semper egestas, urna justo faucibus lectus, a\n",
      "56 | RCQ48 | 2022/7/24 12:07:37 | 11 | Zane Eaton | faucibus id, libero. Donec consectetuer mauris id sapien. Cras dolor dolor,\n",
      "57 | NXE86 | 2024/43/22 03:43:22 | 23 | Cassandra Salas | enim. Suspendisse aliquet, sem ut cursus luctus, ipsum leo elementum sem, vitae aliquam\n",
      "58 | FTW61 | 2024/43/7 05:43:17 | 3 | Nola Gill | mauris ipsum\n",
      "59 | OCI62 | 2022/21/31 03:21:30 | 3 | Kermit Beach | Sed nec metus facilisis lorem tristique aliquet. Phasellus fermentum convallis ligula. Donec luctus aliquet odio. Etiam ligula tortor, dictum\n",
      "61 | MDW74 | 2023/26/31 10:26:43 | 8 | Mariam Flores | semper cursus. Integer mollis. Integer tincidunt aliquam arcu. Aliquam ultrices iaculis\n",
      "62 | EBS62 | 2023/11/22 06:11:02 | 3 | Timon Ballard | mauris ut mi. Duis risus odio, auctor vitae, aliquet nec, imperdiet\n",
      "63 | ENH50 | 2024/8/21 05:08:08 | 8 | Marshall Hartman | est, congue a, aliquet vel, vulputate eu, odio. Phasellus at augue id\n",
      "64 | LYP41 | 2023/47/20 05:47:01 | 22 | Ruby Silva | Aenean euismod mauris eu\n",
      "65 | JOF50 | 2023/38/6 02:38:58 | 9 | Sage Kelley | orci, in consequat enim diam vel arcu. Curabitur ut odio vel est tempor bibendum.\n",
      "66 | ZQI45 | 2023/36/25 04:36:36 | 2 | Emma Hobbs | vestibulum, neque sed dictum eleifend, nunc risus varius orci, in consequat\n",
      "67 | NKD57 | 2022/59/29 05:59:16 | 29 | Athena Tyler | Praesent eu dui. Cum sociis natoque penatibus et magnis dis parturient montes, nascetur ridiculus mus. Aenean\n",
      "68 | OTB50 | 2022/44/20 11:44:10 | 20 | Abraham French | justo sit amet nulla. Donec non justo. Proin non massa\n",
      "69 | RTG70 | 2024/54/31 12:54:25 | 28 | Selma White | fringilla. Donec\n",
      "70 | CGJ38 | 2023/7/6 06:07:38 | 7 | Gay Lamb | neque vitae semper egestas, urna\n",
      "71 | JLJ16 | 2023/49/11 08:49:13 | 11 | Uriel Burke | enim, sit amet ornare lectus justo eu arcu. Morbi sit amet massa. Quisque porttitor eros nec tellus. Nunc lectus\n",
      "72 | XWT76 | 2024/11/31 02:11:19 | 20 | Lester Campbell | mauris elit, dictum eu, eleifend nec, malesuada ut, sem. Nulla interdum.\n",
      "73 | QLQ92 | 2024/8/24 09:08:56 | 17 | Cade Hess | pharetra. Quisque ac libero nec ligula consectetuer rhoncus. Nullam velit dui, semper et, lacinia vitae,\n",
      "74 | WQI12 | 2024/41/6 07:41:43 | 7 | Melinda Glover | pharetra sed, hendrerit a,\n",
      "75 | OBU34 | 2023/15/13 04:15:47 | 20 | Donovan Rush | risus varius orci, in consequat enim diam vel arcu. Curabitur ut odio vel est tempor bibendum.\n",
      "76 | XEV44 | 2023/13/28 10:13:25 | 26 | Xander Bennett | orci, in consequat enim diam vel arcu. Curabitur ut odio vel est tempor bibendum. Donec felis orci, adipiscing non,\n",
      "77 | HRW70 | 2024/41/2 05:41:58 | 15 | Sybil Daniels | id, blandit at,\n",
      "78 | OKC86 | 2024/49/2 12:49:24 | 20 | Gage Nguyen | nec, malesuada ut, sem. Nulla interdum. Curabitur dictum. Phasellus in felis. Nulla\n",
      "79 | MDO41 | 2023/4/26 03:04:42 | 5 | Gannon Alford | arcu ac orci. Ut semper pretium neque. Morbi quis urna. Nunc quis arcu vel quam\n",
      "80 | PTK55 | 2023/17/17 06:17:57 | 12 | Damon Reilly | scelerisque mollis. Phasellus libero mauris, aliquam\n",
      "81 | LKV82 | 2023/52/20 12:52:00 | 8 | James Compton | tincidunt, neque\n",
      "82 | HNN68 | 2023/13/22 08:13:12 | 14 | Bruce Fox | ultricies ligula. Nullam enim. Sed\n",
      "83 | ELL77 | 2023/25/13 02:25:32 | 29 | Samson Barrett | eu, ligula. Aenean euismod mauris eu elit. Nulla facilisi. Sed\n",
      "84 | SQM28 | 2024/8/30 03:08:38 | 6 | Sopoline Williams | consectetuer, cursus et, magna.\n",
      "85 | RCO87 | 2024/4/29 05:04:13 | 14 | Abbot Sargent | dui.\n",
      "86 | WDE97 | 2024/0/27 10:00:24 | 16 | Tana Meadows | Nam consequat dolor vitae dolor.\n",
      "87 | OHR25 | 2023/7/19 02:07:07 | 29 | Garrett Guzman | nisl. Maecenas malesuada fringilla est. Mauris eu\n",
      "88 | YQX17 | 2024/26/17 01:26:14 | 13 | Amity Fleming | ornare. Fusce mollis. Duis sit amet diam eu dolor egestas rhoncus. Proin nisl sem, consequat nec, mollis vitae, posuere\n",
      "89 | LYY23 | 2024/20/17 05:20:15 | 22 | Tamara Stevens | eget, dictum placerat, augue. Sed molestie. Sed id risus quis diam luctus lobortis. Class aptent taciti\n",
      "90 | CQA55 | 2022/14/28 09:14:29 | 3 | Ethan Puckett | vitae diam. Proin dolor. Nulla semper tellus id nunc interdum feugiat. Sed nec metus facilisis lorem\n",
      "91 | KTQ55 | 2024/47/22 06:47:17 | 29 | Faith Fitzpatrick | ornare. Fusce mollis. Duis sit amet diam eu dolor egestas rhoncus. Proin nisl sem, consequat nec, mollis vitae,\n",
      "92 | WNW36 | 2024/19/30 01:19:05 | 22 | Brian Holder | parturient montes, nascetur ridiculus mus. Proin vel arcu eu odio tristique pharetra. Quisque ac libero nec ligula consectetuer\n",
      "94 | EWO93 | 2022/22/14 11:22:37 | 14 | Zephania Ochoa | varius orci, in consequat enim\n",
      "95 | LLW17 | 2022/58/22 06:58:59 | 8 | Jackson Avila | non,\n",
      "96 | ODJ25 | 2024/40/21 08:40:51 | 24 | Cody Powell | diam nunc, ullamcorper eu, euismod ac, fermentum vel, mauris. Integer sem\n",
      "97 | ZWQ36 | 2023/46/28 01:46:23 | 4 | Leroy Winters | sed, sapien. Nunc pulvinar arcu et pede. Nunc sed orci lobortis\n",
      "99 | KRT25 | 2023/36/14 11:36:52 | 6 | Wesley Barber | est ac mattis semper, dui lectus rutrum urna, nec luctus felis purus ac tellus. Suspendisse sed dolor. Fusce\n",
      "100 | UEC21 | 2024/36/21 08:36:49 | 29 | Clayton King | tristique senectus et netus et malesuada fames ac turpis egestas. Aliquam fringilla cursus purus.\n",
      "101 | ZRU79 | 2024/30/15 11:30:30 | 12 | Valentine Tyler | malesuada fames ac turpis egestas. Fusce aliquet magna a neque. Nullam ut nisi a odio semper cursus.\n",
      "102 | HXY18 | 2023/27/3 07:27:16 | 20 | Quinn Merritt | libero nec ligula consectetuer rhoncus. Nullam velit dui, semper et, lacinia vitae, sodales at, velit.\n",
      "103 | LTX14 | 2023/51/9 01:51:29 | 14 | Patience Spence | consequat auctor, nunc nulla vulputate dui, nec tempus mauris erat eget ipsum.\n",
      "104 | ZLB57 | 2023/7/31 09:07:27 | 30 | Emery Vasquez | Nullam velit dui, semper et, lacinia vitae, sodales at, velit. Pellentesque ultricies dignissim\n",
      "105 | OKW36 | 2023/50/19 07:50:16 | 21 | Anthony Floyd | enim, condimentum eget, volutpat ornare, facilisis eget,\n",
      "106 | EGS67 | 2024/29/25 01:29:41 | 13 | Brandon Cline | libero at auctor ullamcorper, nisl arcu iaculis enim, sit amet\n",
      "107 | KEN41 | 2023/30/28 08:30:25 | 7 | Len Mccoy | leo. Cras vehicula aliquet libero. Integer in magna. Phasellus dolor elit, pellentesque a, facilisis\n",
      "108 | HNL66 | 2024/7/11 01:07:49 | 22 | Jael Rasmussen | lobortis ultrices. Vivamus rhoncus. Donec est. Nunc ullamcorper, velit in aliquet lobortis, nisi nibh lacinia orci, consectetuer\n",
      "109 | HTW35 | 2023/4/11 05:04:02 | 13 | Piper Dawson | sapien molestie\n",
      "110 | ELP77 | 2023/50/11 05:50:07 | 25 | Madaline Skinner | metus. Vivamus euismod urna. Nullam lobortis quam a felis\n",
      "112 | RHP46 | 2023/58/8 11:58:08 | 27 | Branden Gillespie | nibh. Quisque nonummy ipsum non\n",
      "114 | KIG89 | 2024/33/18 06:33:34 | 18 | Kellie Duffy | lorem ut aliquam iaculis, lacus\n",
      "115 | MOJ56 | 2023/5/26 09:05:59 | 26 | Leah Roth | mollis. Integer tincidunt aliquam arcu. Aliquam ultrices iaculis odio. Nam interdum enim non nisi. Aenean eget metus.\n",
      "116 | BCJ85 | 2024/2/18 12:02:43 | 6 | Jerry Livingston | vulputate ullamcorper magna. Sed eu eros. Nam consequat dolor vitae dolor. Donec fringilla. Donec feugiat metus\n",
      "117 | HVM18 | 2023/35/4 10:35:27 | 24 | Christian O'donnell | in, tempus\n",
      "118 | OSA18 | 2023/7/7 05:07:18 | 5 | Guinevere Rasmussen | vulputate dui, nec tempus mauris erat eget ipsum. Suspendisse sagittis. Nullam vitae diam.\n",
      "119 | TCT55 | 2023/31/7 12:31:28 | 5 | Driscoll Medina | Nunc commodo auctor velit. Aliquam nisl. Nulla eu neque pellentesque\n",
      "120 | VJB43 | 2023/11/27 04:11:30 | 22 | Alfonso Morin | Donec porttitor tellus non magna.\n",
      "121 | GKK20 | 2023/45/8 11:45:01 | 21 | Colton Berg | Mauris ut quam vel sapien imperdiet ornare.\n",
      "122 | UYO08 | 2023/36/14 05:36:58 | 9 | Alika Bryant | id ante dictum cursus. Nunc mauris elit, dictum eu, eleifend nec, malesuada ut, sem. Nulla interdum.\n",
      "123 | HHQ31 | 2024/18/24 07:18:22 | 22 | Carissa Griffith | hendrerit. Donec porttitor tellus non magna. Nam ligula\n",
      "124 | PPE65 | 2023/18/8 02:18:34 | 30 | Cameron Lewis | Duis dignissim tempor arcu. Vestibulum ut eros non enim commodo hendrerit. Donec\n",
      "125 | IXE15 | 2023/35/5 02:35:47 | 20 | Rowan Fuller | diam. Proin dolor. Nulla semper tellus id nunc interdum feugiat. Sed nec\n",
      "126 | QGQ43 | 2023/55/10 03:55:46 | 29 | Winter Knight | arcu et pede. Nunc sed orci lobortis augue scelerisque mollis. Phasellus libero mauris, aliquam eu, accumsan sed, facilisis vitae,\n",
      "127 | OMN45 | 2022/12/29 04:12:38 | 7 | Reagan French | dui lectus rutrum urna, nec luctus felis purus ac tellus. Suspendisse sed dolor. Fusce mi\n",
      "128 | BBB81 | 2024/37/28 08:37:16 | 28 | Orla Maynard | semper et, lacinia vitae, sodales at, velit. Pellentesque ultricies dignissim lacus. Aliquam rutrum lorem ac\n",
      "129 | ZJI41 | 2023/19/15 10:19:36 | 14 | Victor Beard | non, vestibulum nec, euismod in, dolor. Fusce feugiat. Lorem ipsum dolor sit amet, consectetuer adipiscing elit. Aliquam auctor, velit\n",
      "130 | FKT77 | 2023/13/9 07:13:47 | 9 | Rudyard Malone | Sed molestie. Sed id risus quis diam luctus lobortis. Class aptent taciti sociosqu ad litora torquent per conubia\n",
      "132 | SWW54 | 2023/25/8 04:25:00 | 2 | Hiroko Martinez | odio\n",
      "133 | RKZ51 | 2022/14/21 09:14:54 | 19 | Jade Sparks | aliquam adipiscing lacus. Ut nec urna\n",
      "134 | HMN46 | 2023/21/15 04:21:29 | 25 | Ivor Carroll | ultricies adipiscing, enim mi tempor lorem, eget mollis lectus pede\n",
      "135 | ICS13 | 2023/57/14 10:57:20 | 19 | Kameko Mejia | vitae semper egestas, urna justo faucibus lectus, a sollicitudin orci sem eget massa. Suspendisse eleifend. Cras\n",
      "136 | HMK28 | 2023/8/4 10:08:19 | 2 | Aspen Christensen | Etiam vestibulum massa rutrum magna. Cras convallis convallis dolor. Quisque tincidunt pede ac urna. Ut tincidunt vehicula\n",
      "137 | XEH56 | 2024/41/29 03:41:12 | 4 | Hamilton Love | nulla. In tincidunt congue turpis. In condimentum. Donec at arcu. Vestibulum\n",
      "138 | MWV66 | 2023/42/8 11:42:19 | 8 | Breanna Warner | Mauris magna. Duis dignissim tempor arcu. Vestibulum ut eros non enim commodo hendrerit.\n",
      "139 | YVI58 | 2024/40/5 02:40:49 | 29 | Ayanna Dale | mus. Donec dignissim magna a tortor. Nunc\n",
      "140 | HBM45 | 2024/55/16 12:55:28 | 27 | Jason Hale | sollicitudin a, malesuada id, erat.\n",
      "141 | HFE71 | 2024/20/1 05:20:37 | 7 | Curran French | Sed eu eros. Nam consequat dolor vitae dolor. Donec fringilla. Donec feugiat metus sit amet ante. Vivamus non lorem\n",
      "142 | TFW57 | 2023/36/18 08:36:23 | 16 | Indira Weaver | Duis ac arcu. Nunc mauris. Morbi non sapien molestie orci\n",
      "144 | WEY73 | 2023/38/28 12:38:45 | 10 | Aline Mclaughlin | ut, pharetra sed,\n",
      "145 | KJF38 | 2023/38/25 06:38:18 | 29 | Keane Acosta | feugiat metus sit amet ante. Vivamus non lorem vitae odio sagittis semper. Nam tempor diam dictum sapien. Aenean\n",
      "146 | XQD81 | 2023/55/20 04:55:10 | 19 | Alyssa Lang | convallis dolor. Quisque tincidunt\n",
      "147 | XMT71 | 2024/14/17 05:14:01 | 23 | Adele Newton | volutpat. Nulla facilisis. Suspendisse commodo tincidunt nibh. Phasellus\n",
      "148 | PKK64 | 2023/39/18 04:39:05 | 7 | Mira Chavez | dapibus ligula. Aliquam erat volutpat. Nulla dignissim. Maecenas\n",
      "149 | RTB11 | 2023/42/24 07:42:40 | 2 | Kenyon Matthews | pulvinar arcu et pede. Nunc\n",
      "150 | INK92 | 2023/22/20 05:22:11 | 10 | Benedict Wolf | sit amet ornare lectus justo eu arcu. Morbi sit amet massa. Quisque porttitor\n",
      "151 | VGS48 | 2023/40/21 08:40:13 | 14 | Tanisha Espinoza | placerat, augue. Sed molestie. Sed id risus quis diam luctus lobortis. Class aptent taciti sociosqu ad litora torquent per conubia\n",
      "152 | SVC42 | 2023/50/6 05:50:11 | 15 | Dolan Dejesus | sociis natoque penatibus et magnis dis parturient montes, nascetur ridiculus mus. Proin vel arcu\n",
      "153 | SFM28 | 2023/22/10 05:22:46 | 11 | Jorden Farmer | non, egestas a, dui. Cras pellentesque.\n",
      "154 | MGQ33 | 2024/31/25 03:31:07 | 2 | Axel Michael | Nam porttitor scelerisque neque. Nullam nisl. Maecenas malesuada fringilla est. Mauris eu turpis. Nulla aliquet. Proin velit. Sed\n",
      "155 | RXR83 | 2024/52/25 07:52:17 | 28 | Tallulah Richardson | erat volutpat. Nulla dignissim. Maecenas ornare egestas ligula. Nullam feugiat placerat velit. Quisque varius. Nam porttitor scelerisque\n",
      "156 | CQM57 | 2023/54/31 05:54:02 | 15 | Hayden Harrell | tincidunt, neque vitae semper egestas, urna justo faucibus\n",
      "157 | PXQ38 | 2023/25/28 11:25:07 | 19 | Fitzgerald Newton | semper rutrum. Fusce dolor quam, elementum at, egestas a, scelerisque sed, sapien. Nunc pulvinar arcu et\n",
      "158 | WRL58 | 2023/32/9 10:32:36 | 14 | Candace Cook | In ornare sagittis felis. Donec tempor, est\n",
      "159 | NRU59 | 2024/18/7 04:18:02 | 10 | Tanisha Ayala | tristique neque venenatis lacus. Etiam bibendum fermentum metus. Aenean sed pede nec ante blandit\n",
      "160 | BJR89 | 2023/34/11 07:34:37 | 4 | Lydia Thompson | a, dui. Cras pellentesque.\n",
      "161 | UBN80 | 2023/29/28 05:29:52 | 2 | Galvin Dominguez | lectus justo eu arcu. Morbi sit amet massa.\n",
      "162 | LHS42 | 2023/53/13 02:53:59 | 3 | Kareem Cochran | amet lorem semper auctor. Mauris\n",
      "163 | EUC45 | 2023/51/13 03:51:09 | 12 | Jane Brady | neque sed dictum eleifend,\n",
      "164 | CUI81 | 2024/23/20 11:23:29 | 13 | Melvin Rush | tempor augue ac ipsum. Phasellus vitae mauris sit amet lorem semper auctor.\n",
      "165 | LGC73 | 2024/3/27 10:03:58 | 17 | Irma Hull | Proin non massa non ante bibendum ullamcorper. Duis cursus,\n",
      "166 | GIR79 | 2024/30/26 10:30:27 | 4 | Baker Conrad | metus facilisis lorem tristique aliquet. Phasellus fermentum convallis ligula.\n",
      "167 | SEU67 | 2024/12/2 06:12:48 | 3 | Jerome Colon | elit, a feugiat tellus lorem\n",
      "168 | JRF32 | 2022/6/14 12:06:26 | 3 | Jorden Marshall | augue ac ipsum. Phasellus vitae mauris sit amet lorem\n",
      "169 | RJK71 | 2023/11/26 03:11:26 | 28 | May Rollins | rhoncus id, mollis nec, cursus a,\n",
      "170 | CKB29 | 2024/0/11 03:00:31 | 6 | Nevada Peters | Integer aliquam adipiscing lacus. Ut\n",
      "171 | KQT26 | 2023/23/20 09:23:12 | 27 | Amaya Cameron | habitant morbi tristique senectus et netus et malesuada fames ac turpis egestas. Aliquam fringilla cursus purus. Nullam scelerisque neque\n",
      "173 | PPF62 | 2023/20/17 06:20:37 | 3 | Fatima Sykes | hendrerit\n",
      "174 | MSN84 | 2023/42/10 10:42:22 | 13 | Vaughan Marquez | luctus felis purus ac tellus. Suspendisse sed dolor. Fusce mi\n",
      "175 | SID78 | 2024/20/19 11:20:25 | 17 | Shaine Reeves | consequat nec, mollis vitae, posuere at, velit. Cras lorem lorem, luctus ut, pellentesque\n",
      "176 | TUQ52 | 2023/17/18 11:17:53 | 26 | Charlotte Payne | velit egestas lacinia. Sed congue, elit sed consequat auctor, nunc nulla vulputate dui, nec tempus mauris erat eget ipsum.\n",
      "177 | HXA65 | 2024/30/19 07:30:48 | 21 | Jamalia Evans | nulla at sem molestie sodales. Mauris blandit enim consequat\n",
      "179 | CTN19 | 2024/37/24 12:37:28 | 10 | Renee Johnston | odio. Aliquam vulputate\n",
      "180 | ONX68 | 2024/19/18 10:19:56 | 2 | Charles Hodge | molestie tellus.\n",
      "181 | NXW26 | 2023/3/9 06:03:44 | 29 | Maryam Davidson | egestas nunc sed libero. Proin sed turpis nec mauris blandit mattis. Cras eget nisi dictum augue malesuada malesuada.\n",
      "182 | LTY16 | 2024/36/23 10:36:57 | 15 | Lane Ramos | neque sed sem egestas blandit. Nam nulla magna, malesuada\n",
      "183 | QWJ76 | 2022/43/20 02:43:40 | 18 | Naomi Roth | urna, nec luctus felis purus ac tellus. Suspendisse sed dolor. Fusce\n",
      "185 | PBA36 | 2024/51/6 02:51:15 | 12 | Grace Hubbard | et, euismod et, commodo at, libero. Morbi accumsan laoreet ipsum. Curabitur consequat, lectus sit amet\n",
      "186 | VFH45 | 2023/28/13 04:28:55 | 17 | Illiana Oneil | urna convallis erat,\n",
      "187 | BQY47 | 2023/44/5 07:44:14 | 29 | Timon Thornton | tempus non, lacinia at, iaculis quis, pede. Praesent eu dui. Cum sociis natoque penatibus et magnis dis parturient\n",
      "188 | ECZ75 | 2023/48/23 03:48:20 | 25 | Timon Leach | et, commodo at, libero. Morbi accumsan laoreet ipsum. Curabitur consequat, lectus sit amet luctus vulputate,\n",
      "189 | OQL87 | 2023/28/1 06:28:41 | 16 | Cassandra Anthony | lacus vestibulum lorem, sit amet ultricies sem magna nec quam. Curabitur vel lectus. Cum sociis\n",
      "190 | JZL86 | 2024/33/4 11:33:17 | 6 | Lance Baker | Nunc pulvinar arcu et pede. Nunc sed\n",
      "191 | XME71 | 2023/30/11 04:30:03 | 5 | Danielle Salazar | Aliquam nisl. Nulla eu neque pellentesque massa\n",
      "192 | NBH18 | 2023/40/16 07:40:30 | 2 | Gloria Buckley | sed pede. Cum sociis natoque penatibus et magnis dis parturient montes, nascetur ridiculus mus. Proin vel arcu\n",
      "193 | GED59 | 2023/30/24 07:30:43 | 29 | Eaton Kline | nulla magna, malesuada vel,\n",
      "194 | XJC69 | 2023/17/4 01:17:45 | 28 | Ezra Howell | non quam. Pellentesque habitant morbi tristique senectus et netus et malesuada fames ac turpis egestas. Aliquam fringilla cursus purus.\n",
      "195 | VAD55 | 2024/20/22 11:20:55 | 14 | Ivory Wynn | nisi. Aenean eget metus. In nec orci. Donec nibh. Quisque nonummy ipsum non arcu. Vivamus sit amet risus. Donec\n",
      "196 | OFM55 | 2023/40/23 05:40:56 | 21 | Amelia Gamble | Fusce fermentum\n",
      "197 | LWK07 | 2024/34/19 12:34:53 | 30 | Cheyenne Day | orci, adipiscing non, luctus sit amet, faucibus ut, nulla. Cras\n",
      "198 | WIE65 | 2023/48/17 03:48:35 | 23 | Dolan Chandler | nec enim. Nunc ut erat. Sed nunc est, mollis non, cursus non, egestas a,\n",
      "199 | INH08 | 2024/41/1 01:41:33 | 25 | Xyla Avila | nisi nibh lacinia orci, consectetuer euismod est arcu ac orci. Ut semper pretium neque. Morbi quis\n",
      "200 | DPR29 | 2023/41/30 05:41:46 | 3 | Hiroko Elliott | orci, in consequat enim diam vel arcu. Curabitur ut odio vel est tempor bibendum. Donec felis\n",
      "201 | GCG61 | 2024/30/13 11:30:48 | 20 | Rebekah Blackwell | parturient montes, nascetur ridiculus mus. Aenean eget magna. Suspendisse tristique neque\n",
      "202 | FBW63 | 2024/9/4 03:09:26 | 7 | Ezekiel Freeman | bibendum fermentum metus. Aenean sed pede nec ante blandit viverra. Donec tempus,\n",
      "203 | GCW63 | 2022/59/13 01:59:34 | 9 | Axel Marquez | mollis lectus pede et risus. Quisque libero lacus, varius\n",
      "204 | LLG59 | 2023/10/15 12:10:17 | 14 | Nerea Terry | fringilla. Donec feugiat metus sit amet ante. Vivamus non lorem vitae odio sagittis semper. Nam tempor diam\n",
      "205 | UME33 | 2024/37/5 08:37:12 | 16 | Davis Hogan | Phasellus ornare. Fusce mollis. Duis sit amet diam eu dolor egestas rhoncus. Proin\n",
      "206 | FQD51 | 2023/9/19 09:09:16 | 19 | Ira Rutledge | nec enim. Nunc ut erat. Sed nunc est, mollis non, cursus non,\n",
      "207 | OYS31 | 2023/30/25 08:30:23 | 11 | Jacob Young | viverra. Maecenas iaculis aliquet diam.\n",
      "208 | KAB81 | 2024/20/16 07:20:25 | 27 | Baxter Walton | cursus non, egestas a, dui. Cras\n",
      "209 | OGT65 | 2023/22/7 04:22:21 | 25 | Belle Castaneda | tempus, lorem fringilla ornare placerat,\n",
      "210 | DFY15 | 2023/8/17 04:08:36 | 27 | Kimberly Joyner | ac facilisis facilisis, magna tellus faucibus leo, in lobortis tellus justo sit amet nulla. Donec non\n",
      "211 | BWC89 | 2024/12/29 07:12:48 | 13 | Deirdre Rollins | Curabitur dictum. Phasellus in felis. Nulla tempor augue ac ipsum. Phasellus vitae mauris sit\n",
      "212 | PTC97 | 2024/43/16 10:43:01 | 6 | Colleen Dillon | Curae Phasellus ornare. Fusce mollis. Duis sit amet diam eu dolor egestas rhoncus. Proin\n",
      "213 | IUZ78 | 2024/28/8 10:28:16 | 17 | Keane Donaldson | aliquet, metus urna\n",
      "214 | TVN65 | 2023/17/11 08:17:05 | 2 | Katelyn Hall | non enim commodo hendrerit. Donec\n",
      "215 | HJI26 | 2023/22/16 05:22:30 | 3 | Desiree Strickland | non quam. Pellentesque habitant morbi tristique senectus et netus et malesuada fames ac turpis egestas. Aliquam fringilla cursus\n",
      "216 | PLR26 | 2023/14/7 12:14:39 | 26 | Alexis Horton | euismod enim. Etiam gravida molestie arcu. Sed eu nibh\n",
      "217 | NJP67 | 2023/45/5 08:45:07 | 29 | Zachary Tyson | ultricies sem magna nec quam. Curabitur vel lectus. Cum sociis\n",
      "218 | LLV45 | 2023/10/15 06:10:09 | 13 | Deacon Wall | a, auctor non, feugiat nec,\n",
      "219 | JVG21 | 2024/8/29 11:08:28 | 23 | Peter Burris | amet massa. Quisque porttitor eros nec tellus. Nunc\n",
      "220 | KYA83 | 2023/41/13 03:41:33 | 10 | Tatiana Stein | sed consequat auctor, nunc nulla vulputate dui, nec tempus mauris erat\n",
      "221 | OTT61 | 2023/44/3 08:44:50 | 25 | Timon May | non, dapibus rutrum, justo. Praesent luctus. Curabitur egestas nunc\n",
      "222 | OHT60 | 2023/22/23 04:22:15 | 10 | Jeanette Mills | turpis egestas. Fusce aliquet magna a neque. Nullam ut\n",
      "223 | ELB26 | 2024/36/2 12:36:27 | 29 | Aphrodite Rowland | nonummy ultricies ornare, elit\n",
      "224 | OEK40 | 2024/0/6 04:00:15 | 5 | Yuli Ferguson | Donec fringilla. Donec feugiat metus sit amet ante. Vivamus\n",
      "225 | SLF74 | 2023/32/12 01:32:45 | 3 | Eve Hendrix | Nulla facilisi. Sed neque. Sed eget lacus.\n",
      "226 | BBW82 | 2024/45/29 06:45:39 | 16 | Addison Gill | Phasellus vitae mauris sit amet lorem semper auctor. Mauris vel turpis. Aliquam adipiscing lobortis risus. In mi pede, nonummy\n",
      "227 | XHL75 | 2023/16/8 04:16:06 | 25 | Chase Austin | Proin vel nisl. Quisque fringilla euismod enim. Etiam gravida molestie arcu. Sed eu nibh vulputate mauris\n",
      "228 | STN19 | 2023/10/9 03:10:04 | 8 | Yolanda Campbell | augue id ante dictum cursus. Nunc mauris elit, dictum eu, eleifend nec, malesuada ut, sem. Nulla\n",
      "229 | BII58 | 2023/8/12 08:08:47 | 25 | Karleigh Harmon | orci. Ut semper pretium neque. Morbi quis urna. Nunc quis arcu vel quam\n",
      "230 | CMC64 | 2024/1/11 12:01:04 | 13 | Bryar Mueller | Vivamus sit\n",
      "231 | XAG65 | 2022/39/1 06:39:33 | 18 | Rashad Saunders | laoreet posuere, enim nisl elementum purus, accumsan interdum libero\n",
      "232 | FOB65 | 2023/38/27 08:38:31 | 30 | Giselle Sharp | pede ac urna. Ut tincidunt vehicula risus.\n",
      "233 | PKH05 | 2022/34/11 03:34:24 | 4 | Tatyana Mccullough | ipsum leo elementum sem, vitae aliquam eros turpis non enim. Mauris quis turpis vitae\n",
      "235 | MVO42 | 2024/52/6 10:52:05 | 14 | Moana Barrett | luctus sit amet, faucibus ut,\n",
      "236 | RIW24 | 2024/6/10 08:06:06 | 8 | Clio Barnett | sapien. Nunc pulvinar arcu et pede. Nunc sed orci lobortis augue scelerisque mollis.\n",
      "238 | IPL27 | 2023/25/19 05:25:07 | 12 | Kelsie Delaney | dolor sit amet, consectetuer adipiscing elit. Aliquam auctor, velit eget laoreet posuere, enim\n",
      "239 | RFW30 | 2023/45/3 11:45:53 | 3 | Paul Guzman | cursus vestibulum. Mauris magna. Duis dignissim tempor arcu. Vestibulum ut eros non\n",
      "240 | QUF06 | 2024/16/12 01:16:59 | 17 | Sonia Witt | massa. Mauris vestibulum, neque sed\n",
      "241 | UDC64 | 2023/24/4 02:24:25 | 19 | Lewis Davidson | magna. Phasellus dolor elit, pellentesque a, facilisis non, bibendum\n",
      "244 | IAR18 | 2023/10/28 05:10:15 | 12 | Brady Boyd | vulputate ullamcorper magna. Sed eu eros. Nam consequat dolor vitae dolor. Donec fringilla. Donec feugiat\n",
      "245 | XEC02 | 2023/32/2 01:32:15 | 24 | Talon Henson | massa. Suspendisse eleifend.\n",
      "246 | FBP22 | 2023/57/16 06:57:29 | 8 | Cheyenne Valentine | non,\n",
      "247 | VIZ87 | 2024/6/26 05:06:53 | 28 | Kylie Merritt | tempus risus. Donec egestas. Duis ac arcu. Nunc mauris. Morbi non sapien molestie\n",
      "248 | SBP45 | 2024/19/30 01:19:45 | 18 | George Haney | scelerisque sed, sapien. Nunc pulvinar\n",
      "249 | HBZ88 | 2024/50/24 11:50:47 | 28 | Darrel Newton | rutrum magna. Cras convallis\n",
      "250 | APQ45 | 2023/23/22 06:23:42 | 15 | Jerome Stanton | eget, venenatis a, magna. Lorem ipsum dolor sit amet, consectetuer adipiscing elit. Etiam laoreet, libero et tristique pellentesque, tellus\n",
      "251 | PUO16 | 2024/24/7 08:24:20 | 22 | Lars Dennis | quis, tristique ac, eleifend vitae, erat. Vivamus nisi. Mauris nulla. Integer urna. Vivamus molestie\n",
      "252 | GUJ91 | 2024/39/6 09:39:53 | 22 | Aretha Macdonald | Mauris ut quam vel sapien imperdiet ornare. In\n",
      "253 | HTI42 | 2024/32/12 05:32:07 | 9 | Devin Boyer | Donec egestas. Aliquam nec enim. Nunc ut\n",
      "254 | ZYE90 | 2024/47/23 03:47:19 | 2 | Hamilton Craft | feugiat nec, diam. Duis mi enim, condimentum\n",
      "255 | SXI29 | 2023/33/24 05:33:39 | 13 | Hadassah Buck | Mauris blandit enim consequat purus. Maecenas libero est, congue a, aliquet vel, vulputate eu, odio. Phasellus at\n",
      "256 | VYG07 | 2023/23/13 03:23:22 | 28 | Sawyer Hopper | imperdiet ullamcorper. Duis at lacus. Quisque purus sapien, gravida\n",
      "257 | GDR76 | 2023/19/27 11:19:02 | 13 | Portia Combs | justo sit amet nulla. Donec non justo. Proin non massa non ante bibendum ullamcorper. Duis\n",
      "258 | KYR08 | 2023/49/25 07:49:11 | 19 | Ahmed Blevins | Maecenas mi felis, adipiscing\n",
      "259 | CBG32 | 2024/9/5 11:09:58 | 6 | Aretha Wise | ante. Maecenas mi felis, adipiscing fringilla, porttitor vulputate, posuere vulputate, lacus. Cras interdum. Nunc sollicitudin\n",
      "260 | AUP55 | 2023/48/15 03:48:17 | 10 | Jamalia Hartman | magna nec quam. Curabitur vel lectus.\n",
      "261 | UIH26 | 2024/33/21 03:33:40 | 27 | Suki Joseph | ut dolor dapibus gravida. Aliquam\n",
      "262 | FSY12 | 2023/22/24 10:22:56 | 9 | Miriam Stokes | ac turpis egestas. Aliquam fringilla cursus purus. Nullam scelerisque neque sed sem egestas blandit. Nam nulla magna,\n",
      "263 | LWO48 | 2023/13/6 01:13:50 | 24 | Elliott Hobbs | malesuada malesuada. Integer id magna et ipsum cursus vestibulum. Mauris\n",
      "264 | MJD30 | 2023/45/19 02:45:10 | 15 | Mercedes Stafford | iaculis enim, sit amet ornare\n",
      "265 | DJT13 | 2023/28/21 08:28:27 | 12 | Kyra Higgins | ut, pharetra\n",
      "266 | KOI56 | 2023/45/29 12:45:08 | 2 | Erin Macdonald | dictum. Proin eget odio. Aliquam vulputate ullamcorper magna. Sed eu eros. Nam consequat dolor vitae dolor. Donec fringilla. Donec feugiat\n",
      "267 | WDU50 | 2024/25/13 07:25:28 | 4 | Leah Ramsey | non ante bibendum ullamcorper. Duis cursus, diam at pretium aliquet, metus\n",
      "268 | KVT86 | 2024/49/21 02:49:32 | 27 | Beck Richardson | tellus id nunc interdum feugiat. Sed nec metus facilisis lorem tristique aliquet. Phasellus fermentum convallis ligula.\n",
      "269 | VQN61 | 2023/24/11 06:24:02 | 29 | Camden Glass | quis, pede. Praesent\n",
      "270 | MGI05 | 2024/24/18 09:24:45 | 4 | Fulton Shaw | augue porttitor interdum. Sed auctor odio a purus.\n",
      "271 | PZU48 | 2022/38/31 06:38:38 | 28 | Arthur Guerrero | egestas. Aliquam nec enim. Nunc ut erat. Sed nunc est, mollis\n",
      "272 | SBT58 | 2024/24/16 08:24:21 | 24 | Nash Burton | magna. Sed eu eros. Nam consequat dolor vitae dolor. Donec fringilla. Donec feugiat metus\n",
      "273 | YRN81 | 2024/36/30 12:36:14 | 4 | Lunea Molina | Vestibulum ante ipsum primis in faucibus orci luctus et ultrices posuere cubilia Curae Donec\n",
      "274 | QXO49 | 2023/42/5 04:42:22 | 13 | Abigail Knight | eu tellus eu augue porttitor interdum. Sed auctor odio a purus. Duis elementum,\n",
      "275 | EBJ38 | 2023/49/31 01:49:19 | 22 | Laurel Mendoza | ridiculus mus.\n",
      "276 | NSN95 | 2023/54/15 05:54:51 | 18 | Ray George | volutpat. Nulla facilisis. Suspendisse commodo tincidunt nibh. Phasellus nulla. Integer vulputate, risus\n",
      "277 | FON14 | 2022/45/7 07:45:14 | 14 | Fleur Tate | cursus et, magna. Praesent interdum ligula eu enim. Etiam imperdiet dictum magna. Ut tincidunt orci\n",
      "278 | OWX57 | 2023/8/5 02:08:20 | 12 | Lenore Terrell | purus. Nullam scelerisque neque sed sem egestas\n",
      "279 | ARD95 | 2022/53/25 02:53:54 | 30 | Reuben Huber | ante ipsum primis in faucibus orci luctus et\n",
      "280 | PSY78 | 2024/23/25 02:23:52 | 3 | Uta Mejia | Curae Phasellus ornare. Fusce mollis. Duis sit amet diam eu dolor egestas\n",
      "281 | KYW43 | 2024/56/18 07:56:20 | 25 | Martha Pickett | egestas a,\n",
      "282 | WFE27 | 2023/13/12 08:13:38 | 20 | Damon Gould | ut odio vel est tempor bibendum.\n",
      "283 | CFU23 | 2024/8/19 07:08:48 | 12 | Tallulah Harrison | aliquet vel, vulputate eu, odio. Phasellus at\n",
      "284 | FUY08 | 2023/28/18 04:28:05 | 18 | Cullen Valenzuela | sociis natoque penatibus et magnis dis parturient montes, nascetur ridiculus\n",
      "285 | GMQ35 | 2024/24/15 01:24:49 | 6 | Lareina Hess | amet metus. Aliquam erat\n",
      "286 | CQA27 | 2022/54/10 11:54:33 | 26 | Kennedy Hodges | faucibus lectus, a sollicitudin orci sem eget massa. Suspendisse eleifend. Cras\n",
      "287 | AKD22 | 2024/35/13 08:35:01 | 6 | Ramona Ferguson | fermentum risus, at fringilla purus mauris a nunc. In at pede. Cras vulputate velit eu\n",
      "288 | NQN42 | 2023/19/22 11:19:13 | 20 | Moana Faulkner | Aliquam adipiscing lobortis risus. In mi pede, nonummy ut, molestie in, tempus eu, ligula. Aenean euismod\n",
      "289 | HED95 | 2023/39/9 06:39:02 | 12 | Marah Hammond | sed orci lobortis augue scelerisque mollis. Phasellus libero mauris, aliquam eu, accumsan sed, facilisis vitae, orci. Phasellus\n",
      "290 | DTS51 | 2024/50/6 05:50:43 | 19 | Alice Guerrero | elementum at, egestas a, scelerisque sed, sapien. Nunc pulvinar arcu et pede. Nunc sed orci lobortis augue scelerisque\n",
      "291 | VEV14 | 2023/38/14 03:38:08 | 23 | Farrah Aguirre | ut, molestie in,\n",
      "292 | VMB58 | 2023/48/24 09:48:22 | 11 | Tanisha Burns | vitae aliquam eros turpis non enim. Mauris quis turpis vitae purus gravida sagittis. Duis gravida. Praesent\n",
      "293 | NXY62 | 2024/16/20 11:16:23 | 9 | Bevis Jenkins | arcu. Vestibulum ante ipsum primis in faucibus orci luctus et ultrices posuere cubilia\n",
      "294 | RVX55 | 2022/10/7 04:10:38 | 16 | Riley Skinner | mauris erat\n",
      "295 | KVF10 | 2024/9/12 02:09:12 | 9 | Raya Hammond | dolor dapibus gravida. Aliquam tincidunt, nunc ac mattis ornare, lectus ante dictum mi, ac mattis velit\n",
      "296 | NHH82 | 2024/11/1 01:11:29 | 20 | Todd Beasley | fermentum risus, at fringilla purus mauris a nunc. In at pede. Cras vulputate velit\n",
      "297 | LWU63 | 2023/26/6 07:26:10 | 14 | Larissa Tucker | semper tellus id nunc interdum feugiat. Sed nec\n",
      "298 | GLT16 | 2023/32/31 03:32:18 | 25 | Candice Coleman | non, luctus sit amet, faucibus ut, nulla. Cras eu tellus eu augue porttitor interdum. Sed\n",
      "299 | CIX61 | 2024/37/8 11:37:27 | 5 | Jade Walker | at augue id ante dictum cursus. Nunc mauris elit,\n",
      "300 | YDU31 | 2024/46/29 12:46:53 | 4 | Jemima Dyer | amet,\n",
      "301 | KIO12 | 2024/11/7 02:11:19 | 24 | Eaton Malone | id sapien. Cras dolor dolor, tempus non, lacinia at, iaculis quis, pede. Praesent eu dui. Cum sociis natoque penatibus\n",
      "302 | BJQ67 | 2024/45/23 12:45:54 | 18 | Ignatius Rogers | lorem ac risus.\n",
      "304 | GJM78 | 2024/22/7 02:22:01 | 20 | Sylvester Leon | elit erat vitae risus. Duis\n",
      "305 | MRE08 | 2023/10/20 05:10:33 | 7 | Megan Potter | a purus. Duis elementum, dui quis accumsan convallis, ante lectus convallis est, vitae sodales nisi magna sed dui. Fusce\n",
      "306 | XQE43 | 2024/46/4 06:46:47 | 12 | Shaine Gross | eu tellus eu augue porttitor interdum. Sed auctor odio a purus. Duis elementum, dui quis accumsan convallis, ante\n",
      "307 | JLP24 | 2024/48/13 03:48:45 | 29 | Hoyt Hamilton | nunc id enim. Curabitur massa. Vestibulum\n",
      "308 | MAP58 | 2024/28/25 07:28:50 | 25 | Camden Puckett | Proin sed turpis nec mauris blandit mattis. Cras eget\n",
      "309 | XWB52 | 2022/56/15 04:56:30 | 11 | Ferris Stuart | nulla. Integer vulputate, risus a ultricies adipiscing, enim mi tempor lorem, eget mollis lectus pede et risus. Quisque\n",
      "310 | NQV49 | 2022/50/22 01:50:12 | 16 | Avye Bailey | Phasellus elit pede, malesuada vel,\n",
      "311 | GFS88 | 2023/5/14 01:05:43 | 13 | Hillary Gray | Proin nisl sem, consequat nec, mollis vitae, posuere at, velit. Cras lorem lorem, luctus ut, pellentesque eget, dictum\n",
      "312 | FTU73 | 2023/50/24 06:50:09 | 10 | Sonya Osborne | nulla. In tincidunt congue turpis. In condimentum. Donec at arcu. Vestibulum ante ipsum primis\n",
      "313 | MVX11 | 2023/29/7 09:29:34 | 16 | Hollee Olson | ipsum primis in faucibus\n",
      "314 | CMQ39 | 2023/58/8 03:58:09 | 26 | Scarlett Donovan | luctus lobortis. Class aptent taciti sociosqu ad litora torquent per conubia nostra, per inceptos hymenaeos. Mauris ut quam vel sapien\n",
      "315 | TVJ35 | 2024/13/14 11:13:08 | 7 | Dennis Eaton | tincidunt dui augue\n",
      "316 | UYF68 | 2024/45/2 01:45:34 | 27 | Rogan Bernard | feugiat. Sed nec metus facilisis lorem tristique aliquet. Phasellus fermentum convallis ligula. Donec luctus aliquet\n",
      "317 | ITB77 | 2022/15/13 11:15:50 | 10 | Lareina Callahan | ac, eleifend vitae, erat. Vivamus nisi. Mauris nulla. Integer urna. Vivamus molestie dapibus ligula. Aliquam erat volutpat. Nulla dignissim.\n",
      "318 | RMJ61 | 2024/0/28 08:00:36 | 27 | Joseph Thornton | nec, euismod in, dolor. Fusce feugiat. Lorem ipsum dolor sit\n",
      "319 | SFL94 | 2024/22/22 07:22:23 | 25 | Dennis Hale | a, arcu. Sed et libero. Proin mi. Aliquam gravida mauris ut mi. Duis risus odio, auctor vitae,\n",
      "320 | TMM33 | 2022/11/28 12:11:52 | 8 | Tobias Johns | arcu. Morbi sit amet massa. Quisque porttitor eros nec tellus. Nunc lectus pede, ultrices a, auctor\n",
      "321 | VNE18 | 2024/8/23 07:08:47 | 4 | Neve Juarez | natoque penatibus et magnis dis parturient montes, nascetur ridiculus mus. Aenean eget magna. Suspendisse tristique neque venenatis lacus. Etiam\n",
      "322 | SIO78 | 2022/24/21 03:24:23 | 4 | Irma Morrison | semper et, lacinia vitae, sodales\n",
      "323 | TYR13 | 2024/56/9 11:56:59 | 3 | Charlotte Gamble | arcu. Sed eu nibh vulputate mauris sagittis placerat. Cras dictum ultricies ligula. Nullam enim.\n",
      "324 | BKG35 | 2023/25/14 02:25:27 | 28 | Reece Cannon | enim nec tempus scelerisque, lorem ipsum sodales purus, in molestie tortor nibh sit amet\n",
      "325 | KOH57 | 2023/48/20 11:48:56 | 27 | Gail Clayton | at auctor ullamcorper, nisl arcu iaculis\n",
      "326 | YXC64 | 2023/54/17 05:54:56 | 20 | Sydney Weber | nec, leo. Morbi\n",
      "327 | NJY27 | 2023/35/6 05:35:58 | 16 | Theodore Holt | tincidunt, neque vitae semper egestas, urna justo faucibus lectus, a sollicitudin orci sem eget massa. Suspendisse\n",
      "328 | VKP25 | 2024/0/21 08:00:49 | 18 | Kato Pennington | auctor quis, tristique ac, eleifend vitae, erat. Vivamus nisi. Mauris nulla. Integer urna. Vivamus molestie dapibus ligula.\n",
      "329 | JJH64 | 2024/10/8 06:10:58 | 20 | Holly Dillon | Quisque\n",
      "330 | WSB69 | 2023/36/4 05:36:18 | 28 | Jasper Murphy | magna. Praesent interdum ligula eu enim. Etiam imperdiet dictum magna. Ut tincidunt orci\n",
      "331 | FPN26 | 2023/31/14 04:31:31 | 23 | Camden Walker | hendrerit a, arcu. Sed et libero. Proin mi.\n",
      "332 | MTM14 | 2023/37/9 10:37:38 | 9 | Erich Monroe | magna.\n",
      "333 | YJF45 | 2023/5/23 12:05:07 | 18 | Hyatt Reeves | eu tellus. Phasellus elit pede,\n",
      "334 | TLS85 | 2023/41/14 04:41:54 | 15 | Rashad Downs | vestibulum, neque sed dictum eleifend, nunc\n",
      "335 | TVU43 | 2024/4/5 03:04:30 | 10 | Yvonne Howard | et, commodo at, libero. Morbi accumsan laoreet ipsum. Curabitur consequat, lectus sit amet luctus vulputate, nisi\n",
      "336 | QWG82 | 2024/10/28 07:10:09 | 13 | Sean Kent | nec, euismod in, dolor. Fusce feugiat.\n",
      "337 | JBI18 | 2024/3/7 11:03:35 | 9 | Nicole Rodgers | Donec felis\n",
      "338 | PTH82 | 2024/34/12 05:34:38 | 30 | Maggie Hartman | nibh. Phasellus nulla. Integer vulputate, risus a ultricies adipiscing, enim mi\n",
      "339 | ZJY71 | 2024/7/14 08:07:37 | 20 | Jason Wheeler | Donec elementum, lorem ut aliquam iaculis, lacus pede sagittis augue, eu tempor\n",
      "341 | PWJ68 | 2024/47/13 06:47:39 | 9 | Lyle Mitchell | tristique ac,\n",
      "342 | OEA76 | 2022/3/27 12:03:12 | 26 | Holmes Scott | nec orci. Donec nibh. Quisque nonummy ipsum non arcu. Vivamus sit amet risus.\n",
      "343 | PNN28 | 2022/54/14 11:54:47 | 27 | Lila Olson | non enim commodo hendrerit. Donec\n",
      "344 | UBE58 | 2023/34/17 01:34:12 | 15 | Fletcher Taylor | vitae, posuere at,\n",
      "345 | HXX37 | 2023/51/4 07:51:38 | 7 | Lila Wall | bibendum fermentum metus. Aenean sed pede nec ante blandit viverra. Donec tempus, lorem fringilla ornare placerat, orci\n",
      "346 | QCD79 | 2024/8/1 04:08:51 | 9 | Nehru Watts | pede et risus. Quisque libero lacus, varius et, euismod et, commodo at, libero. Morbi accumsan laoreet ipsum. Curabitur\n",
      "347 | YCB12 | 2024/7/3 10:07:14 | 28 | Jelani Lane | vestibulum lorem, sit amet ultricies sem magna nec quam. Curabitur\n",
      "348 | IXE25 | 2023/15/23 05:15:08 | 9 | Petra Doyle | sem, vitae aliquam eros turpis non\n",
      "349 | UUE44 | 2024/27/17 09:27:55 | 18 | Linus Dyer | erat. Vivamus nisi. Mauris nulla. Integer urna.\n",
      "350 | NLU45 | 2023/59/29 10:59:34 | 24 | Silas Payne | Mauris ut\n",
      "351 | OSN88 | 2024/14/13 11:14:23 | 22 | Kathleen Glass | facilisis non, bibendum sed, est. Nunc laoreet lectus quis massa. Mauris vestibulum, neque sed dictum eleifend,\n",
      "352 | YZS36 | 2023/39/2 08:39:18 | 11 | Evan Goodwin | orci lacus vestibulum lorem, sit\n",
      "353 | XLV64 | 2023/22/24 01:22:07 | 13 | Karen Nielsen | enim. Nunc ut erat. Sed nunc est, mollis non, cursus non, egestas\n",
      "354 | UZH06 | 2023/19/21 05:19:36 | 3 | Rylee Warren | a, arcu. Sed et\n",
      "355 | KDH05 | 2024/53/17 05:53:57 | 10 | Kaitlin Melton | ipsum. Suspendisse non leo. Vivamus nibh dolor, nonummy\n",
      "356 | ODM83 | 2024/46/7 11:46:02 | 14 | Idola Dennis | lobortis tellus justo sit amet nulla. Donec non justo. Proin non massa non ante bibendum ullamcorper. Duis cursus, diam at\n",
      "357 | BTG92 | 2024/6/8 04:06:51 | 3 | Shana Guzman | lobortis augue scelerisque mollis. Phasellus libero mauris, aliquam eu, accumsan sed, facilisis\n",
      "358 | HDE64 | 2022/12/25 03:12:35 | 14 | Wilma Mcintosh | elit erat vitae risus. Duis a mi fringilla mi lacinia mattis. Integer eu lacus.\n",
      "359 | LSH33 | 2024/36/1 07:36:58 | 18 | Cameron Curry | egestas. Aliquam\n",
      "360 | HST16 | 2024/57/13 10:57:59 | 15 | Ishmael Sykes | risus. Donec nibh enim, gravida sit amet, dapibus id, blandit at, nisi. Cum sociis natoque penatibus et magnis dis\n",
      "361 | FVY56 | 2024/20/23 07:20:26 | 2 | Regina Snow | rutrum. Fusce dolor quam, elementum at, egestas a, scelerisque sed,\n",
      "362 | EPX57 | 2023/35/6 01:35:55 | 24 | Lilah Hobbs | adipiscing, enim mi tempor lorem, eget mollis lectus pede et risus. Quisque libero lacus, varius et, euismod\n",
      "363 | WHT56 | 2023/47/15 08:47:04 | 15 | Darius Morrow | euismod urna. Nullam lobortis quam a felis ullamcorper viverra. Maecenas iaculis aliquet diam. Sed diam lorem, auctor\n",
      "364 | MMO02 | 2023/11/18 02:11:53 | 23 | Keely Alford | tincidunt adipiscing. Mauris molestie pharetra nibh. Aliquam ornare, libero\n",
      "365 | ILL78 | 2023/17/10 07:17:17 | 12 | Ryan Britt | fames\n",
      "367 | SDL36 | 2024/3/21 10:03:28 | 13 | Xantha Ware | nec, malesuada ut, sem. Nulla interdum. Curabitur dictum. Phasellus in felis.\n",
      "368 | RBL84 | 2023/19/19 08:19:17 | 21 | Yvette Castro | sem. Pellentesque ut ipsum ac mi eleifend egestas.\n",
      "369 | SHA13 | 2024/20/29 12:20:22 | 9 | Rana Guerra | Cras sed leo. Cras vehicula aliquet\n",
      "370 | MTT18 | 2024/51/22 03:51:08 | 19 | Stewart Chan | sem elit, pharetra ut, pharetra sed, hendrerit a, arcu. Sed et libero. Proin mi. Aliquam gravida mauris\n",
      "371 | DUQ80 | 2023/5/22 09:05:08 | 18 | Ross Pena | ultricies sem magna nec quam. Curabitur vel lectus.\n",
      "372 | DGS52 | 2023/2/3 07:02:59 | 7 | Steel Bowers | ridiculus mus. Aenean eget magna. Suspendisse tristique neque venenatis lacus.\n",
      "376 | KET34 | 2023/37/7 04:37:52 | 30 | Orlando Carr | sem\n",
      "377 | CRU57 | 2023/18/10 02:18:46 | 15 | Rhiannon Shannon | ligula. Donec luctus aliquet odio. Etiam ligula tortor, dictum eu, placerat eget, venenatis a, magna. Lorem\n",
      "378 | ZMH41 | 2023/12/4 05:12:50 | 10 | Zenia Casey | sed, sapien. Nunc pulvinar arcu et pede. Nunc sed orci lobortis\n",
      "379 | TTL91 | 2023/27/23 05:27:07 | 17 | Shelley O'donnell | lorem ipsum sodales purus, in molestie tortor nibh sit amet orci. Ut sagittis lobortis mauris. Suspendisse\n",
      "380 | AUT16 | 2023/10/2 12:10:08 | 12 | Wylie Hardy | Maecenas mi felis, adipiscing fringilla, porttitor vulputate, posuere\n",
      "381 | MNS61 | 2024/22/29 01:22:39 | 15 | Christian Lott | elit, pharetra ut, pharetra sed, hendrerit a, arcu. Sed et libero. Proin\n",
      "382 | YJC89 | 2023/11/29 05:11:17 | 22 | Mia Crawford | vitae mauris sit amet lorem semper auctor. Mauris vel turpis. Aliquam adipiscing lobortis risus. In mi pede, nonummy\n",
      "383 | KRT65 | 2023/58/23 01:58:55 | 10 | Judah Mcdowell | nec tempus scelerisque, lorem\n",
      "384 | BLQ68 | 2023/10/2 12:10:00 | 27 | Imogene Good | parturient montes, nascetur ridiculus mus. Donec dignissim magna a tortor. Nunc commodo auctor velit. Aliquam nisl. Nulla\n",
      "385 | BWU75 | 2023/54/26 03:54:59 | 14 | Allen Bauer | ut,\n",
      "386 | JBI79 | 2022/6/18 11:06:54 | 20 | Vielka Kane | ligula consectetuer rhoncus. Nullam velit dui, semper et, lacinia vitae, sodales at, velit. Pellentesque ultricies dignissim lacus. Aliquam\n",
      "387 | OHQ35 | 2023/47/29 04:47:37 | 14 | Kimberly Hopkins | magnis dis parturient montes, nascetur ridiculus mus. Proin vel arcu eu odio tristique pharetra. Quisque ac\n",
      "388 | LLE58 | 2023/30/25 09:30:15 | 10 | Kelsey Gilbert | imperdiet non, vestibulum nec,\n",
      "389 | QKJ27 | 2023/41/20 01:41:33 | 20 | Lani Park | eu, odio. Phasellus at augue id\n",
      "390 | SVI24 | 2023/43/6 05:43:10 | 5 | Mia Burris | nulla at sem\n",
      "391 | VPF54 | 2024/5/14 07:05:01 | 10 | Xantha Neal | iaculis, lacus pede sagittis augue, eu tempor erat neque non\n",
      "392 | YRG83 | 2023/25/10 06:25:49 | 5 | Winifred Frazier | ornare sagittis felis. Donec tempor, est ac mattis semper,\n",
      "393 | GUU71 | 2022/59/24 10:59:24 | 22 | Isaac Rios | est arcu ac orci.\n",
      "394 | VZI28 | 2023/2/17 01:02:30 | 9 | Graiden Bennett | In lorem. Donec elementum, lorem ut aliquam\n",
      "395 | OTO82 | 2023/24/14 10:24:43 | 24 | Lysandra Chaney | per inceptos hymenaeos. Mauris\n",
      "396 | CEI36 | 2023/27/25 01:27:40 | 11 | Kareem Church | ligula tortor, dictum eu, placerat eget, venenatis\n",
      "397 | RMO24 | 2023/39/31 11:39:21 | 7 | Jerry Reilly | libero. Donec consectetuer mauris id sapien. Cras dolor dolor, tempus non,\n",
      "398 | MEH83 | 2023/44/14 03:44:43 | 28 | Oliver Mueller | vulputate, posuere vulputate, lacus.\n",
      "399 | MYU28 | 2023/2/3 06:02:10 | 2 | Brent Lawson | magna, malesuada vel, convallis in, cursus et, eros. Proin ultrices. Duis volutpat nunc sit amet metus.\n",
      "400 | CCG47 | 2023/34/21 06:34:12 | 14 | Bradley Cortez | pharetra ut, pharetra sed, hendrerit a, arcu. Sed et libero. Proin mi. Aliquam gravida mauris ut mi. Duis risus\n",
      "401 | TMF51 | 2022/36/5 07:36:18 | 18 | Acton Huff | pede nec ante blandit viverra. Donec tempus, lorem fringilla ornare placerat, orci lacus vestibulum lorem, sit amet ultricies sem\n",
      "402 | CPD98 | 2023/57/13 12:57:07 | 12 | Noelle Long | est, congue a, aliquet vel, vulputate eu,\n",
      "403 | RMH72 | 2023/39/14 05:39:57 | 25 | Bertha Vaughn | ornare, elit elit fermentum risus, at fringilla purus mauris a nunc. In\n",
      "404 | QCH68 | 2023/15/29 12:15:10 | 14 | Elton Ruiz | nunc. In at pede. Cras\n",
      "405 | RCS47 | 2023/45/12 09:45:16 | 12 | Price Weaver | suscipit, est ac facilisis facilisis, magna tellus faucibus leo, in lobortis tellus justo sit amet nulla. Donec non justo.\n",
      "407 | WAT27 | 2024/38/4 12:38:05 | 3 | Cooper Woodard | at lacus.\n",
      "408 | ZRN69 | 2024/1/28 02:01:53 | 2 | Gemma Ortega | rhoncus id, mollis nec, cursus a, enim. Suspendisse\n",
      "409 | BDD42 | 2024/23/4 12:23:45 | 5 | Stephanie Bowman | ligula tortor, dictum eu, placerat eget, venenatis a, magna. Lorem ipsum dolor sit amet, consectetuer adipiscing elit. Etiam\n",
      "410 | MJA17 | 2023/27/2 04:27:47 | 18 | Hedy Ray | sit amet risus. Donec egestas.\n",
      "411 | MIP62 | 2024/47/3 08:47:50 | 17 | Ferris Gomez | ornare, facilisis eget, ipsum. Donec sollicitudin adipiscing ligula. Aenean gravida nunc sed pede.\n",
      "412 | YJW48 | 2024/52/17 04:52:00 | 12 | Yuli Clay | neque venenatis lacus.\n",
      "413 | WYH78 | 2022/41/15 02:41:48 | 24 | Desirae Donaldson | amet ornare lectus justo eu arcu. Morbi sit amet massa. Quisque porttitor eros\n",
      "414 | TDT08 | 2023/59/18 11:59:19 | 6 | Abbot Gay | Quisque nonummy ipsum\n",
      "415 | MKH59 | 2024/16/28 02:16:10 | 2 | Breanna Grant | porttitor scelerisque neque. Nullam nisl. Maecenas malesuada\n",
      "416 | ULP19 | 2024/38/7 08:38:03 | 9 | Lisandra Daniels | aliquet. Phasellus fermentum convallis ligula. Donec luctus aliquet odio. Etiam ligula tortor, dictum\n",
      "417 | UJU72 | 2022/25/7 06:25:53 | 8 | Gwendolyn Mcfadden | Nunc ac sem ut dolor dapibus gravida. Aliquam tincidunt, nunc ac mattis ornare, lectus ante dictum mi, ac mattis velit\n",
      "418 | YLD85 | 2024/54/24 07:54:32 | 21 | Gwendolyn Morse | Etiam laoreet, libero et tristique pellentesque, tellus sem mollis dui,\n",
      "419 | SFV73 | 2023/49/31 03:49:36 | 27 | Rashad Mendez | vestibulum, neque sed dictum eleifend, nunc risus varius orci, in\n",
      "420 | BTQ81 | 2023/17/19 03:17:55 | 24 | Igor Stark | ipsum dolor sit amet, consectetuer adipiscing elit. Aliquam auctor, velit eget laoreet posuere, enim nisl\n",
      "421 | VVJ04 | 2023/6/21 01:06:03 | 15 | Ivor Boone | diam. Pellentesque habitant morbi tristique senectus et netus et malesuada fames ac turpis egestas. Fusce\n",
      "422 | WGE88 | 2024/15/10 07:15:55 | 10 | Autumn Puckett | natoque penatibus et magnis dis parturient montes,\n",
      "423 | LNP13 | 2022/48/10 08:48:04 | 17 | Palmer Walters | ac mi eleifend egestas. Sed pharetra, felis eget varius ultrices, mauris\n",
      "424 | QWH76 | 2023/28/14 04:28:52 | 19 | Uma Phillips | elementum sem, vitae aliquam eros turpis non enim. Mauris quis turpis vitae purus gravida sagittis. Duis\n",
      "425 | MAO26 | 2023/20/26 04:20:47 | 16 | Lewis Mcmillan | erat volutpat. Nulla facilisis. Suspendisse commodo\n",
      "426 | QSP67 | 2024/5/9 06:05:04 | 4 | Calvin Chavez | ut erat. Sed nunc est, mollis non, cursus non, egestas a, dui. Cras pellentesque. Sed\n",
      "427 | AWV53 | 2023/27/27 10:27:09 | 8 | Oliver Morales | viverra. Donec tempus, lorem fringilla ornare placerat, orci lacus vestibulum lorem, sit amet ultricies sem magna nec quam. Curabitur\n",
      "428 | TTZ53 | 2023/35/1 09:35:59 | 12 | Omar Buck | Sed dictum.\n",
      "429 | HIF27 | 2023/33/23 04:33:14 | 19 | Jordan Carr | orci. Phasellus dapibus quam quis diam. Pellentesque habitant morbi tristique senectus et netus\n",
      "431 | HTU41 | 2023/3/14 03:03:37 | 23 | Lev Goodman | molestie tellus. Aenean\n",
      "432 | UHN50 | 2023/58/30 07:58:47 | 8 | Kameko Coffey | et magnis dis parturient\n",
      "433 | YYD55 | 2024/40/15 12:40:33 | 8 | Armando May | nonummy ultricies ornare, elit elit fermentum risus, at fringilla purus mauris a nunc. In at pede. Cras vulputate velit eu\n",
      "434 | DTL38 | 2023/4/18 11:04:52 | 17 | Chester Becker | purus. Duis elementum, dui quis accumsan convallis, ante lectus convallis est, vitae sodales nisi\n",
      "435 | EBN36 | 2024/23/4 09:23:48 | 9 | Amal Conrad | aliquet. Phasellus fermentum convallis ligula. Donec luctus aliquet odio. Etiam ligula tortor, dictum eu, placerat eget, venenatis a, magna.\n",
      "436 | ECN50 | 2023/20/23 10:20:10 | 18 | Patrick Wolfe | Donec felis orci, adipiscing non, luctus sit\n",
      "437 | GBH22 | 2022/50/6 06:50:39 | 7 | Octavia Dawson | sollicitudin commodo ipsum. Suspendisse non leo. Vivamus nibh dolor, nonummy ac, feugiat non, lobortis quis, pede. Suspendisse dui.\n",
      "438 | HIR33 | 2024/56/13 04:56:44 | 29 | Dana Lindsey | Lorem ipsum dolor sit amet, consectetuer adipiscing elit. Etiam laoreet, libero et tristique pellentesque,\n",
      "439 | RHP44 | 2023/12/19 10:12:39 | 10 | Whitney Blevins | venenatis a, magna.\n",
      "440 | YJY83 | 2022/19/26 01:19:41 | 14 | Zachery Ross | a, auctor non, feugiat nec, diam.\n",
      "441 | OPH26 | 2023/51/25 07:51:49 | 20 | Nichole Nelson | ligula. Nullam enim. Sed nulla ante, iaculis nec, eleifend non, dapibus rutrum, justo. Praesent luctus. Curabitur egestas nunc sed libero.\n",
      "442 | BXN23 | 2024/7/14 10:07:57 | 6 | Martha Foster | convallis ligula. Donec luctus aliquet odio. Etiam ligula tortor, dictum\n",
      "443 | OYH64 | 2024/13/26 01:13:18 | 17 | Xantha Mcconnell | Integer mollis. Integer tincidunt aliquam arcu. Aliquam ultrices iaculis odio. Nam\n",
      "444 | UGD83 | 2024/21/1 08:21:43 | 10 | Nehru Marshall | ridiculus\n",
      "445 | ZKK65 | 2024/8/6 04:08:32 | 27 | Jacob Mayer | eget, venenatis a, magna. Lorem ipsum dolor sit amet, consectetuer adipiscing elit. Etiam laoreet, libero et\n",
      "447 | XQB08 | 2024/54/13 04:54:13 | 15 | Channing Head | scelerisque sed,\n",
      "448 | MKT26 | 2024/45/2 07:45:47 | 14 | Zachery Young | aliquet libero. Integer in magna. Phasellus dolor elit, pellentesque a, facilisis non, bibendum sed, est. Nunc laoreet lectus quis\n",
      "449 | XBN01 | 2023/27/2 10:27:07 | 15 | Quamar Mays | augue, eu\n",
      "450 | QVE13 | 2024/28/6 06:28:01 | 4 | Linus Murphy | Donec egestas. Aliquam nec enim. Nunc ut\n",
      "451 | DGO82 | 2024/10/7 05:10:16 | 9 | Neil Daugherty | Suspendisse eleifend. Cras sed leo. Cras vehicula aliquet libero. Integer\n",
      "452 | GDP66 | 2024/31/8 03:31:44 | 7 | Armand Benson | et ultrices posuere cubilia Curae Donec tincidunt. Donec vitae erat vel pede blandit congue. In scelerisque\n",
      "453 | OAX78 | 2023/47/12 10:47:58 | 28 | Byron Villarreal | felis. Donec\n",
      "454 | POX11 | 2024/1/15 09:01:15 | 24 | Tucker Mclean | erat, in consectetuer ipsum nunc id enim. Curabitur massa. Vestibulum accumsan neque et nunc. Quisque ornare\n",
      "455 | RBN17 | 2022/16/25 10:16:30 | 15 | Amos Larsen | elit erat vitae risus.\n",
      "456 | TUH64 | 2023/55/25 08:55:20 | 3 | Octavia Graham | odio. Aliquam vulputate ullamcorper magna. Sed eu eros. Nam consequat dolor\n",
      "458 | NOE72 | 2023/40/23 12:40:01 | 4 | Charity Fuller | mi, ac mattis velit justo nec\n",
      "459 | QDN44 | 2023/42/15 03:42:34 | 24 | Fatima Mcdaniel | quis massa. Mauris vestibulum, neque sed dictum eleifend, nunc risus varius orci, in consequat enim diam\n",
      "460 | ZTL62 | 2023/22/30 10:22:38 | 24 | Nadine Jones | ultrices iaculis odio. Nam interdum enim\n",
      "461 | BGG85 | 2024/50/26 12:50:20 | 21 | Ciaran Barker | laoreet lectus quis massa.\n",
      "462 | KOX78 | 2023/33/31 04:33:05 | 9 | Quamar Farley | mauris id sapien. Cras dolor dolor, tempus non,\n",
      "463 | KQF99 | 2024/6/7 06:06:30 | 16 | Sandra Adams | tellus sem mollis dui, in sodales elit erat vitae risus. Duis a mi fringilla mi lacinia\n",
      "464 | LWI50 | 2023/38/31 10:38:54 | 27 | Quin West | sociis natoque penatibus et magnis dis parturient montes, nascetur ridiculus mus. Proin vel nisl. Quisque fringilla euismod\n",
      "465 | JRT96 | 2024/57/20 05:57:40 | 11 | Alexander Petersen | Aenean egestas hendrerit neque. In ornare sagittis felis. Donec tempor, est ac mattis semper, dui lectus rutrum urna,\n",
      "466 | FCT17 | 2023/57/28 12:57:42 | 2 | Merrill Bates | enim consequat purus. Maecenas libero est, congue a, aliquet vel, vulputate eu, odio. Phasellus\n",
      "467 | FBT08 | 2023/21/4 04:21:07 | 14 | Leilani Salas | enim. Curabitur massa. Vestibulum accumsan neque\n",
      "468 | UDI26 | 2023/57/4 02:57:37 | 7 | Scott Wolfe | imperdiet nec, leo. Morbi neque tellus, imperdiet non, vestibulum nec, euismod in, dolor. Fusce feugiat.\n",
      "469 | LFI38 | 2024/18/15 08:18:00 | 21 | Christine Roberts | sit amet risus. Donec egestas. Aliquam nec enim. Nunc ut\n",
      "470 | NZQ46 | 2022/32/11 05:32:49 | 21 | Xyla Lewis | scelerisque, lorem ipsum sodales purus, in molestie\n",
      "471 | IOL33 | 2023/15/15 09:15:04 | 3 | Uta Patton | sit amet, consectetuer adipiscing elit. Aliquam auctor, velit eget laoreet posuere, enim\n",
      "472 | WQD67 | 2023/27/7 02:27:27 | 23 | Garth Bonner | mattis ornare, lectus ante dictum\n",
      "473 | SUY39 | 2023/51/21 03:51:45 | 19 | Herrod Jefferson | Vivamus sit amet risus. Donec egestas. Aliquam nec\n",
      "474 | QDV43 | 2024/57/20 06:57:01 | 16 | Richard Logan | enim, gravida sit\n",
      "475 | VDY80 | 2024/40/22 04:40:13 | 26 | Hadley Herrera | velit. Cras lorem lorem, luctus ut, pellentesque eget, dictum placerat, augue. Sed molestie. Sed id risus\n",
      "476 | QDN71 | 2023/15/13 11:15:26 | 28 | Thomas Everett | fringilla est. Mauris eu turpis. Nulla aliquet. Proin velit. Sed malesuada augue\n",
      "477 | RMJ17 | 2024/19/2 12:19:20 | 16 | Driscoll Mcclure | justo sit amet\n",
      "479 | CXT75 | 2023/31/1 11:31:21 | 9 | Alvin Bell | venenatis lacus. Etiam bibendum fermentum metus. Aenean sed pede nec ante blandit\n",
      "480 | LUJ21 | 2023/11/8 08:11:29 | 29 | Florence Skinner | est tempor bibendum. Donec felis orci,\n",
      "481 | OGU16 | 2024/20/9 05:20:12 | 30 | Zorita Brennan | lacus. Nulla tincidunt,\n",
      "482 | GZG12 | 2024/2/7 03:02:21 | 28 | Hyatt Chan | nunc est, mollis non, cursus non, egestas\n",
      "483 | WBS40 | 2024/21/10 01:21:25 | 15 | Acton Delgado | Vivamus rhoncus. Donec est. Nunc\n",
      "484 | DQX52 | 2024/53/15 09:53:17 | 8 | Amery Cotton | eget ipsum. Suspendisse sagittis. Nullam vitae diam. Proin dolor. Nulla semper\n",
      "485 | AVF26 | 2024/55/22 09:55:03 | 14 | Rahim Terrell | amet ornare lectus justo eu arcu. Morbi sit amet massa. Quisque porttitor eros nec tellus. Nunc\n",
      "486 | EUT49 | 2024/48/7 04:48:42 | 11 | Merrill Campbell | lorem vitae odio sagittis\n",
      "488 | WMP51 | 2024/55/16 05:55:59 | 18 | Marvin Patton | fringilla cursus purus. Nullam scelerisque neque sed sem egestas blandit. Nam nulla magna, malesuada vel,\n",
      "489 | BFP11 | 2024/50/14 02:50:18 | 6 | Xenos Hebert | cursus non, egestas a, dui. Cras pellentesque. Sed dictum. Proin eget odio. Aliquam\n",
      "490 | TOP94 | 2023/58/23 04:58:24 | 14 | Chester Gross | sapien, gravida non, sollicitudin a, malesuada id, erat. Etiam vestibulum massa rutrum magna. Cras convallis convallis\n",
      "491 | DOP06 | 2022/3/17 06:03:38 | 11 | Forrest Callahan | ut, molestie in, tempus eu, ligula. Aenean euismod mauris eu elit. Nulla facilisi. Sed neque. Sed eget lacus.\n",
      "492 | YHN58 | 2024/25/22 10:25:58 | 13 | Delilah Hicks | consectetuer euismod est arcu ac orci. Ut semper pretium neque. Morbi quis urna.\n",
      "493 | EYD46 | 2023/52/17 04:52:36 | 29 | Abra Hammond | dolor, nonummy ac,\n",
      "494 | XLP87 | 2024/43/13 02:43:07 | 8 | Raven Henson | lectus ante dictum mi, ac mattis velit justo nec ante. Maecenas mi felis, adipiscing fringilla,\n",
      "495 | PFE71 | 2023/9/22 05:09:01 | 18 | Jasmine Horn | Fusce aliquet magna a neque. Nullam ut nisi\n",
      "496 | MVU16 | 2023/23/20 01:23:42 | 6 | Dustin Harrell | nisi magna sed dui. Fusce aliquam, enim\n",
      "498 | LQU40 | 2024/19/31 06:19:59 | 28 | Alden Cunningham | diam luctus lobortis. Class aptent taciti sociosqu ad litora torquent per conubia nostra, per inceptos hymenaeos. Mauris\n",
      "499 | BYC33 | 2022/38/19 08:38:58 | 30 | Laurel Ray | nec ligula consectetuer rhoncus. Nullam velit dui, semper et, lacinia vitae, sodales at, velit.\n",
      "500 | LIK81 | 2024/26/9 06:26:59 | 29 | Beck Bauer | dui. Cras pellentesque. Sed dictum.\n",
      "508 | LMX57 | 2023/26/21 11:26:17 | 6 | Jonas Cobb | cursus a, enim.\n",
      "509 | LMX57 | 2023/26/21 11:26:17 | 6 | Jonas Cobb | cursus a, enim.\n"
     ]
    }
   ],
   "source": [
    "datagrid.search(\"count\", (2,30))"
   ]
  },
  {
   "cell_type": "code",
   "execution_count": 9,
   "metadata": {},
   "outputs": [
    {
     "name": "stdout",
     "output_type": "stream",
     "text": [
      "4 | HUV07 | 2023/47/15 11:47:27 | 3 | Akeem Greene | fringilla, porttitor vulputate, posuere vulputate, lacus. Cras interdum. Nunc sollicitudin commodo ipsum. Suspendisse non leo. Vivamus nibh\n",
      "11 | XYF21 | 2023/5/12 02:05:02 | 7 | Armando Shannon | pharetra sed, hendrerit a, arcu. Sed et libero. Proin mi. Aliquam gravida mauris ut mi. Duis risus odio,\n",
      "18 | IAP19 | 2024/11/13 11:11:04 | 10 | Adria Flowers | facilisis. Suspendisse\n",
      "23 | GJJ26 | 2024/55/9 08:55:09 | 24 | Allegra Byers | Proin sed\n",
      "27 | GQG11 | 2023/35/8 09:35:31 | 6 | Armand Medina | ut, pellentesque eget, dictum placerat, augue. Sed molestie. Sed\n",
      "28 | UGK34 | 2023/3/30 02:03:44 | 11 | Nigel Avila | mauris eu elit. Nulla facilisi. Sed neque. Sed eget lacus. Mauris non dui\n",
      "40 | JTC48 | 2022/47/27 05:47:55 | 28 | Andrew Knox | rhoncus. Proin nisl sem, consequat\n",
      "44 | DSR67 | 2024/25/21 04:25:33 | 16 | Alisa Willis | nisi sem semper erat, in consectetuer ipsum nunc id enim. Curabitur\n",
      "49 | HFL17 | 2022/17/20 03:17:25 | 22 | Alea Gallegos | eu tellus. Phasellus\n",
      "67 | NKD57 | 2022/59/29 05:59:16 | 29 | Athena Tyler | Praesent eu dui. Cum sociis natoque penatibus et magnis dis parturient montes, nascetur ridiculus mus. Aenean\n",
      "68 | OTB50 | 2022/44/20 11:44:10 | 20 | Abraham French | justo sit amet nulla. Donec non justo. Proin non massa\n",
      "79 | MDO41 | 2023/4/26 03:04:42 | 5 | Gannon Alford | arcu ac orci. Ut semper pretium neque. Morbi quis urna. Nunc quis arcu vel quam\n",
      "85 | RCO87 | 2024/4/29 05:04:13 | 14 | Abbot Sargent | dui.\n",
      "88 | YQX17 | 2024/26/17 01:26:14 | 13 | Amity Fleming | ornare. Fusce mollis. Duis sit amet diam eu dolor egestas rhoncus. Proin nisl sem, consequat nec, mollis vitae, posuere\n",
      "95 | LLW17 | 2022/58/22 06:58:59 | 8 | Jackson Avila | non,\n",
      "105 | OKW36 | 2023/50/19 07:50:16 | 21 | Anthony Floyd | enim, condimentum eget, volutpat ornare, facilisis eget,\n",
      "120 | VJB43 | 2023/11/27 04:11:30 | 22 | Alfonso Morin | Donec porttitor tellus non magna.\n",
      "122 | UYO08 | 2023/36/14 05:36:58 | 9 | Alika Bryant | id ante dictum cursus. Nunc mauris elit, dictum eu, eleifend nec, malesuada ut, sem. Nulla interdum.\n",
      "131 | XPL63 | 2023/25/29 01:25:48 | 0 | Allegra Duran | congue. In scelerisque scelerisque dui. Suspendisse ac metus vitae velit egestas lacinia. Sed congue, elit sed\n",
      "136 | HMK28 | 2023/8/4 10:08:19 | 2 | Aspen Christensen | Etiam vestibulum massa rutrum magna. Cras convallis convallis dolor. Quisque tincidunt pede ac urna. Ut tincidunt vehicula\n",
      "139 | YVI58 | 2024/40/5 02:40:49 | 29 | Ayanna Dale | mus. Donec dignissim magna a tortor. Nunc\n",
      "144 | WEY73 | 2023/38/28 12:38:45 | 10 | Aline Mclaughlin | ut, pharetra sed,\n",
      "145 | KJF38 | 2023/38/25 06:38:18 | 29 | Keane Acosta | feugiat metus sit amet ante. Vivamus non lorem vitae odio sagittis semper. Nam tempor diam dictum sapien. Aenean\n",
      "146 | XQD81 | 2023/55/20 04:55:10 | 19 | Alyssa Lang | convallis dolor. Quisque tincidunt\n",
      "147 | XMT71 | 2024/14/17 05:14:01 | 23 | Adele Newton | volutpat. Nulla facilisis. Suspendisse commodo tincidunt nibh. Phasellus\n",
      "154 | MGQ33 | 2024/31/25 03:31:07 | 2 | Axel Michael | Nam porttitor scelerisque neque. Nullam nisl. Maecenas malesuada fringilla est. Mauris eu turpis. Nulla aliquet. Proin velit. Sed\n",
      "159 | NRU59 | 2024/18/7 04:18:02 | 10 | Tanisha Ayala | tristique neque venenatis lacus. Etiam bibendum fermentum metus. Aenean sed pede nec ante blandit\n",
      "171 | KQT26 | 2023/23/20 09:23:12 | 27 | Amaya Cameron | habitant morbi tristique senectus et netus et malesuada fames ac turpis egestas. Aliquam fringilla cursus purus. Nullam scelerisque neque\n",
      "189 | OQL87 | 2023/28/1 06:28:41 | 16 | Cassandra Anthony | lacus vestibulum lorem, sit amet ultricies sem magna nec quam. Curabitur vel lectus. Cum sociis\n",
      "196 | OFM55 | 2023/40/23 05:40:56 | 21 | Amelia Gamble | Fusce fermentum\n",
      "199 | INH08 | 2024/41/1 01:41:33 | 25 | Xyla Avila | nisi nibh lacinia orci, consectetuer euismod est arcu ac orci. Ut semper pretium neque. Morbi quis\n",
      "203 | GCW63 | 2022/59/13 01:59:34 | 9 | Axel Marquez | mollis lectus pede et risus. Quisque libero lacus, varius\n",
      "216 | PLR26 | 2023/14/7 12:14:39 | 26 | Alexis Horton | euismod enim. Etiam gravida molestie arcu. Sed eu nibh\n",
      "223 | ELB26 | 2024/36/2 12:36:27 | 29 | Aphrodite Rowland | nonummy ultricies ornare, elit\n",
      "226 | BBW82 | 2024/45/29 06:45:39 | 16 | Addison Gill | Phasellus vitae mauris sit amet lorem semper auctor. Mauris vel turpis. Aliquam adipiscing lobortis risus. In mi pede, nonummy\n",
      "227 | XHL75 | 2023/16/8 04:16:06 | 25 | Chase Austin | Proin vel nisl. Quisque fringilla euismod enim. Etiam gravida molestie arcu. Sed eu nibh vulputate mauris\n",
      "243 | DKB72 | 2023/10/6 12:10:46 | 0 | Hyatt Andrews | facilisis, magna tellus faucibus leo, in lobortis tellus justo sit\n",
      "252 | GUJ91 | 2024/39/6 09:39:53 | 22 | Aretha Macdonald | Mauris ut quam vel sapien imperdiet ornare. In\n",
      "258 | KYR08 | 2023/49/25 07:49:11 | 19 | Ahmed Blevins | Maecenas mi felis, adipiscing\n",
      "259 | CBG32 | 2024/9/5 11:09:58 | 6 | Aretha Wise | ante. Maecenas mi felis, adipiscing fringilla, porttitor vulputate, posuere vulputate, lacus. Cras interdum. Nunc sollicitudin\n",
      "271 | PZU48 | 2022/38/31 06:38:38 | 28 | Arthur Guerrero | egestas. Aliquam nec enim. Nunc ut erat. Sed nunc est, mollis\n",
      "274 | QXO49 | 2023/42/5 04:42:22 | 13 | Abigail Knight | eu tellus eu augue porttitor interdum. Sed auctor odio a purus. Duis elementum,\n",
      "290 | DTS51 | 2024/50/6 05:50:43 | 19 | Alice Guerrero | elementum at, egestas a, scelerisque sed, sapien. Nunc pulvinar arcu et pede. Nunc sed orci lobortis augue scelerisque\n",
      "291 | VEV14 | 2023/38/14 03:38:08 | 23 | Farrah Aguirre | ut, molestie in,\n",
      "310 | NQV49 | 2022/50/22 01:50:12 | 16 | Avye Bailey | Phasellus elit pede, malesuada vel,\n",
      "364 | MMO02 | 2023/11/18 02:11:53 | 23 | Keely Alford | tincidunt adipiscing. Mauris molestie pharetra nibh. Aliquam ornare, libero\n",
      "375 | XTT65 | 2024/24/12 01:24:35 | 1 | Connor Ayala | arcu eu odio\n",
      "385 | BWU75 | 2023/54/26 03:54:59 | 14 | Allen Bauer | ut,\n",
      "401 | TMF51 | 2022/36/5 07:36:18 | 18 | Acton Huff | pede nec ante blandit viverra. Donec tempus, lorem fringilla ornare placerat, orci lacus vestibulum lorem, sit amet ultricies sem\n",
      "414 | TDT08 | 2023/59/18 11:59:19 | 6 | Abbot Gay | Quisque nonummy ipsum\n",
      "422 | WGE88 | 2024/15/10 07:15:55 | 10 | Autumn Puckett | natoque penatibus et magnis dis parturient montes,\n",
      "433 | YYD55 | 2024/40/15 12:40:33 | 8 | Armando May | nonummy ultricies ornare, elit elit fermentum risus, at fringilla purus mauris a nunc. In at pede. Cras vulputate velit eu\n",
      "435 | EBN36 | 2024/23/4 09:23:48 | 9 | Amal Conrad | aliquet. Phasellus fermentum convallis ligula. Donec luctus aliquet odio. Etiam ligula tortor, dictum eu, placerat eget, venenatis a, magna.\n",
      "452 | GDP66 | 2024/31/8 03:31:44 | 7 | Armand Benson | et ultrices posuere cubilia Curae Donec tincidunt. Donec vitae erat vel pede blandit congue. In scelerisque\n",
      "455 | RBN17 | 2022/16/25 10:16:30 | 15 | Amos Larsen | elit erat vitae risus.\n",
      "463 | KQF99 | 2024/6/7 06:06:30 | 16 | Sandra Adams | tellus sem mollis dui, in sodales elit erat vitae risus. Duis a mi fringilla mi lacinia\n",
      "465 | JRT96 | 2024/57/20 05:57:40 | 11 | Alexander Petersen | Aenean egestas hendrerit neque. In ornare sagittis felis. Donec tempor, est ac mattis semper, dui lectus rutrum urna,\n",
      "478 | KJZ23 | 2023/21/1 03:21:06 | 1 | Allen Marks | vulputate dui, nec tempus mauris erat eget ipsum. Suspendisse sagittis. Nullam vitae diam.\n",
      "479 | CXT75 | 2023/31/1 11:31:21 | 9 | Alvin Bell | venenatis lacus. Etiam bibendum fermentum metus. Aenean sed pede nec ante blandit\n",
      "483 | WBS40 | 2024/21/10 01:21:25 | 15 | Acton Delgado | Vivamus rhoncus. Donec est. Nunc\n",
      "484 | DQX52 | 2024/53/15 09:53:17 | 8 | Amery Cotton | eget ipsum. Suspendisse sagittis. Nullam vitae diam. Proin dolor. Nulla semper\n",
      "493 | EYD46 | 2023/52/17 04:52:36 | 29 | Abra Hammond | dolor, nonummy ac,\n",
      "498 | LQU40 | 2024/19/31 06:19:59 | 28 | Alden Cunningham | diam luctus lobortis. Class aptent taciti sociosqu ad litora torquent per conubia nostra, per inceptos hymenaeos. Mauris\n"
     ]
    }
   ],
   "source": [
    "datagrid.search(\"name\", \"A\")"
   ]
  },
  {
   "cell_type": "code",
   "execution_count": 10,
   "metadata": {},
   "outputs": [
    {
     "ename": "KeyboardInterrupt",
     "evalue": "",
     "output_type": "error",
     "traceback": [
      "\u001b[0;31m---------------------------------------------------------------------------\u001b[0m",
      "\u001b[0;31mKeyboardInterrupt\u001b[0m                         Traceback (most recent call last)",
      "\u001b[1;32m/Users/cristianolarrea/Documents/fgv/datagrid/demo.ipynb Cell 75\u001b[0m line \u001b[0;36m1\n\u001b[0;32m----> <a href='vscode-notebook-cell:/Users/cristianolarrea/Documents/fgv/datagrid/demo.ipynb#Y136sZmlsZQ%3D%3D?line=0'>1</a>\u001b[0m datagrid\u001b[39m.\u001b[39;49msearch(\u001b[39m\"\u001b[39;49m\u001b[39mcontent\u001b[39;49m\u001b[39m\"\u001b[39;49m, \u001b[39m\"\u001b[39;49m\u001b[39moi\u001b[39;49m\u001b[39m\"\u001b[39;49m)\n",
      "File \u001b[0;32m~/Documents/fgv/datagrid/datagrid.py:110\u001b[0m, in \u001b[0;36mDataGrid.search\u001b[0;34m(self, column, value)\u001b[0m\n\u001b[1;32m    105\u001b[0m \u001b[39mdef\u001b[39;00m \u001b[39msearch\u001b[39m(\u001b[39mself\u001b[39m, column, value):\n\u001b[1;32m    106\u001b[0m \u001b[39m    \u001b[39m\u001b[39m\"\"\"\u001b[39;00m\n\u001b[1;32m    107\u001b[0m \u001b[39m    Receives the column and the value to be searched & returns \u001b[39;00m\n\u001b[1;32m    108\u001b[0m \u001b[39m    every entry accordingly\u001b[39;00m\n\u001b[1;32m    109\u001b[0m \u001b[39m    \"\"\"\u001b[39;00m\n\u001b[0;32m--> 110\u001b[0m     \u001b[39mself\u001b[39;49m\u001b[39m.\u001b[39;49mdf\u001b[39m.\u001b[39;49msearch(column, value)\n",
      "File \u001b[0;32m~/Documents/fgv/datagrid/hashtable.py:120\u001b[0m, in \u001b[0;36mHashTable.search\u001b[0;34m(self, column, value)\u001b[0m\n\u001b[1;32m    114\u001b[0m \u001b[39mfor\u001b[39;00m event \u001b[39min\u001b[39;00m \u001b[39mself\u001b[39m\u001b[39m.\u001b[39mtable:\n\u001b[1;32m    115\u001b[0m     \u001b[39mif\u001b[39;00m event \u001b[39mis\u001b[39;00m \u001b[39mnot\u001b[39;00m \u001b[39mNone\u001b[39;00m \u001b[39mand\u001b[39;00m event\u001b[39m.\u001b[39mdeleted \u001b[39mis\u001b[39;00m \u001b[39mFalse\u001b[39;00m:        \n\u001b[1;32m    116\u001b[0m         \u001b[39mif\u001b[39;00m (column \u001b[39m==\u001b[39m \u001b[39m\"\u001b[39m\u001b[39mowner_id\u001b[39m\u001b[39m\"\u001b[39m \u001b[39mand\u001b[39;00m event\u001b[39m.\u001b[39mowner_id \u001b[39m==\u001b[39m value \n\u001b[1;32m    117\u001b[0m             \u001b[39mor\u001b[39;00m (column \u001b[39m==\u001b[39m \u001b[39m\"\u001b[39m\u001b[39mcreation_date\u001b[39m\u001b[39m\"\u001b[39m \u001b[39mand\u001b[39;00m is_posterior_to(event\u001b[39m.\u001b[39mcreation_date, value[\u001b[39m0\u001b[39m]) \u001b[39mand\u001b[39;00m is_prior_to(event\u001b[39m.\u001b[39mcreation_date, value[\u001b[39m1\u001b[39m]))\n\u001b[1;32m    118\u001b[0m             \u001b[39mor\u001b[39;00m (column \u001b[39m==\u001b[39m \u001b[39m\"\u001b[39m\u001b[39mcount\u001b[39m\u001b[39m\"\u001b[39m \u001b[39mand\u001b[39;00m event\u001b[39m.\u001b[39mcount \u001b[39m>\u001b[39m\u001b[39m=\u001b[39m value[\u001b[39m0\u001b[39m] \u001b[39mand\u001b[39;00m event\u001b[39m.\u001b[39mcount \u001b[39m<\u001b[39m\u001b[39m=\u001b[39m value[\u001b[39m1\u001b[39m])\n\u001b[1;32m    119\u001b[0m             \u001b[39mor\u001b[39;00m (column \u001b[39m==\u001b[39m \u001b[39m\"\u001b[39m\u001b[39mname\u001b[39m\u001b[39m\"\u001b[39m \u001b[39mand\u001b[39;00m boyer_moore(event\u001b[39m.\u001b[39mname, value))\n\u001b[0;32m--> 120\u001b[0m             \u001b[39mor\u001b[39;00m (column \u001b[39m==\u001b[39m \u001b[39m\"\u001b[39m\u001b[39mcontent\u001b[39m\u001b[39m\"\u001b[39m \u001b[39mand\u001b[39;00m boyer_moore(event\u001b[39m.\u001b[39;49mcontent, value))):\n\u001b[1;32m    121\u001b[0m             \u001b[39mprint\u001b[39m(\u001b[39mf\u001b[39m\u001b[39m\"\u001b[39m\u001b[39m{\u001b[39;00mevent\u001b[39m.\u001b[39mid\u001b[39m}\u001b[39;00m\u001b[39m | \u001b[39m\u001b[39m{\u001b[39;00mevent\u001b[39m.\u001b[39mowner_id\u001b[39m}\u001b[39;00m\u001b[39m | \u001b[39m\u001b[39m{\u001b[39;00mevent\u001b[39m.\u001b[39mcreation_date\u001b[39m}\u001b[39;00m\u001b[39m | \u001b[39m\u001b[39m{\u001b[39;00mevent\u001b[39m.\u001b[39mcount\u001b[39m}\u001b[39;00m\u001b[39m | \u001b[39m\u001b[39m{\u001b[39;00mevent\u001b[39m.\u001b[39mname\u001b[39m}\u001b[39;00m\u001b[39m | \u001b[39m\u001b[39m{\u001b[39;00mevent\u001b[39m.\u001b[39mcontent\u001b[39m}\u001b[39;00m\u001b[39m\"\u001b[39m)\n",
      "File \u001b[0;32m~/Documents/fgv/datagrid/utils.py:43\u001b[0m, in \u001b[0;36mboyer_moore\u001b[0;34m(text, pattern)\u001b[0m\n\u001b[1;32m     41\u001b[0m \u001b[39mwhile\u001b[39;00m i \u001b[39m<\u001b[39m text_length:\n\u001b[1;32m     42\u001b[0m     j \u001b[39m=\u001b[39m pattern_length \u001b[39m-\u001b[39m \u001b[39m1\u001b[39m\n\u001b[0;32m---> 43\u001b[0m     \u001b[39mwhile\u001b[39;00m j \u001b[39m>\u001b[39m\u001b[39m=\u001b[39m \u001b[39m0\u001b[39m \u001b[39mand\u001b[39;00m text[i] \u001b[39m==\u001b[39;49m pattern[j]:\n\u001b[1;32m     44\u001b[0m         i \u001b[39m-\u001b[39m\u001b[39m=\u001b[39m \u001b[39m1\u001b[39m\n\u001b[1;32m     45\u001b[0m         j \u001b[39m-\u001b[39m\u001b[39m=\u001b[39m \u001b[39m1\u001b[39m\n",
      "\u001b[0;31mKeyboardInterrupt\u001b[0m: "
     ]
    }
   ],
   "source": [
    "datagrid.search(\"content\", \"oi\")"
   ]
  },
  {
   "cell_type": "code",
   "execution_count": null,
   "metadata": {},
   "outputs": [],
   "source": []
  }
 ],
 "metadata": {
  "kernelspec": {
   "display_name": "Python 3",
   "language": "python",
   "name": "python3"
  },
  "language_info": {
   "codemirror_mode": {
    "name": "ipython",
    "version": 3
   },
   "file_extension": ".py",
   "mimetype": "text/x-python",
   "name": "python",
   "nbconvert_exporter": "python",
   "pygments_lexer": "ipython3",
   "version": "3.8.9"
  }
 },
 "nbformat": 4,
 "nbformat_minor": 2
}
