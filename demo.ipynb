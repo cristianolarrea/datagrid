{
 "cells": [
  {
   "cell_type": "markdown",
   "metadata": {},
   "source": [
    "# 🎲 Testing the **DataGrid** module"
   ]
  },
  {
   "cell_type": "markdown",
   "metadata": {},
   "source": [
    "Import the class:"
   ]
  },
  {
   "cell_type": "code",
   "execution_count": 1,
   "metadata": {},
   "outputs": [],
   "source": [
    "import sys\n",
    "sys.path.append('src/')\n",
    "\n",
    "from datagrid import DataGrid"
   ]
  },
  {
   "cell_type": "markdown",
   "metadata": {},
   "source": [
    "Instantiate the class:"
   ]
  },
  {
   "cell_type": "code",
   "execution_count": 2,
   "metadata": {},
   "outputs": [],
   "source": [
    "datagrid = DataGrid()"
   ]
  },
  {
   "cell_type": "markdown",
   "metadata": {},
   "source": [
    "### `.read_csv(file, sep = ',', encoding = 'utf-8')`"
   ]
  },
  {
   "cell_type": "markdown",
   "metadata": {},
   "source": [
    "You can read a `.csv` file into the datagrid object."
   ]
  },
  {
   "cell_type": "code",
   "execution_count": 3,
   "metadata": {},
   "outputs": [],
   "source": [
    "datagrid.read_csv(\"data/fake_data1000.csv\")"
   ]
  },
  {
   "cell_type": "markdown",
   "metadata": {},
   "source": [
    "### `.show(start = 0, end = 100)`"
   ]
  },
  {
   "cell_type": "markdown",
   "metadata": {},
   "source": [
    "You can also show the range of rows you'd like. By default, the method returns the first 100 rows. If you'd like, you can ask it to print by setting the `prints` parameter to `True`."
   ]
  },
  {
   "cell_type": "code",
   "execution_count": 4,
   "metadata": {},
   "outputs": [
    {
     "data": {
      "text/plain": [
       "[<datagrid.Event at 0x7f6c207bbeb0>,\n",
       " <datagrid.Event at 0x7f6c240a7970>,\n",
       " <datagrid.Event at 0x7f6c240a6080>,\n",
       " <datagrid.Event at 0x7f6c207d2350>,\n",
       " <datagrid.Event at 0x7f6c207d15d0>,\n",
       " <datagrid.Event at 0x7f6c207d06a0>,\n",
       " <datagrid.Event at 0x7f6c207bb610>,\n",
       " <datagrid.Event at 0x7f6c207d2290>,\n",
       " <datagrid.Event at 0x7f6c207cc220>,\n",
       " <datagrid.Event at 0x7f6c205e3d60>,\n",
       " <datagrid.Event at 0x7f6c240d8d30>]"
      ]
     },
     "execution_count": 4,
     "metadata": {},
     "output_type": "execute_result"
    }
   ],
   "source": [
    "datagrid.show(0, 10, prints = False, returns=True)"
   ]
  },
  {
   "cell_type": "code",
   "execution_count": 5,
   "metadata": {},
   "outputs": [
    {
     "name": "stdout",
     "output_type": "stream",
     "text": [
      "0 EFD4Q 2014/03/20 11:48:57 88 BDTFDXGYXEQ A436BVF45XKGBBJ0HOT9U9GFXHLXV1L1DIDUVL9Y776G8I8M99A94QTGT092DQJP2\n",
      "1 TJHRW 2017/05/14 19:47:58 53 SBZANCQ LEGFUPL1JM2MQTCCURF7MVRFI0BN3W5N0R73O3O2I87HNWOZC9\n",
      "2 H2HHU 2002/08/24 17:58:59 17 KW OV5N2B21ED44JW516DXK0HU56FEM3GUGCAON4RSIQ6X7O5H3VOVCZL9QLJSB4CLAZ1JNN6H6KRO1GUNZ650EL8KF3Z9RZKOD1TZSDC\n",
      "3 8MCQU 2020/07/19 21:10:52 82 HBLWWURCQLZHPMFHM C1TV0A3GHEVH1SNIGB3Z3WOI2809N9TDJUG50DB94J5YECCZ33N2ME8QWRJQKIPP2VT8YO1CPIVU7NODJDATAJWOPCUFFBN0YZMBBP0I0UE6FWLEI2WNVG5WOXG8YC5T6V5RL15UGTX4STSIP2N07E7G2QWZKK714HZUPP80SK4E3P99JLRODJ0WG1653JMDEHUFCYD229SSFL01H50CC0HZLVSS20IW8XFEZMQX8X2SU59Z2QB1EAVQQS7T0EE17RHHWGGC124\n",
      "4 B9J6O 2009/05/13 11:47:17 71 DXNUTIRRRC 7XDLT34GKADD15WC276ESUHHM9T1AYQC23DMI5W922TESPIW4DX3PN4YL0469EZLPSUJ2S0Q9QQFLOIU\n",
      "5 55QGB 2006/05/10 08:37:43 45 ALYSWKL 8TRSMUTWWY7NNX5RRFK3L9WI3NOQ83L773UCIO5TGZSE66J59KAOTUFSVR800BA4HJ7EC052I3ZL62XNVO6ORZX3Y9IB0JRQ460LYFCQU6EYCLLE1X1D1LIX13YYBLTGVYKFXW4S4FUF7RTJ3F4QHQ0UFTXRBT5VX6A1YH73AKKBL9M2TSUA99IZNV41LV764JAOWKZQOFRJMD6ZGFHDXWBNGPBG59O5QS2JBBSHYWFZ4RPXOFA98XMJX12PE47NN7XQ8NZ34GU3LA5UX0\n",
      "6 A1HRP 2007/05/15 16:36:44 3 B 90QLHNAPOR07FB1HHVNVEI2JMC61OSPCVD6WO761686C16TQ232KNIA07AMNJX1HVW5F1GPCO8W2KJC7B5ESHCIZ3Y29HZLTNPRF1BA6AE7AE86WCUVZ1R9PKHRGJV9E9EPXJ9SIAH0FUII9Y2JP3ZCSSOD5J1PE8TF4CAVCCPMN2V9QXFDYSW8H0ZOM3R34ZI79A2Y7S0XQC10YIUXY5XGEUMA6APC1JXTL8BFMC3TE120VQ0TP5OJH3V2NI3REWM6U354R5S4QECWMK5S35I0YGVAR571BH\n",
      "7 7C8Z5 2004/09/30 16:56:14 50 XYALSJSSKW 263PJU4YM54DJ7YGI3E2A2ZHCT49PBTRAS4LH64XNKNQ8THAKR2QU7SGRXT7FLERL8I1RSLNWO1T6U6CUYNXQXEFYF2LNEVG0NE4N7DNBS5V10OB3RSF14QBHRXQPJLSACXPDQ2AA16H1I6BJALQLP88FRSN9RRYRL0UHIZZVLMDRMW9KLDU6S7B8DS86RM7SK2NAHM5V81KHR25WPF55NHE37IU8Z8VH436G4XVF7KTF5GUYFLSYS\n",
      "8 8XI84 2017/10/31 10:33:31 4 CVANKQDLPOY IDAG9SDOVHSZ0FJCGW9FDZBAGT1S5GZXEQ7ZGC79OCVDH3HTIAOY4YT9VMR8SAUKT7P3F8AL4SQP6JLJJ4WYBVVIVXW4U3KBMBF3HFTBKFIJGW9O75IW7957V55OND8WTDPI9GGSJB0945ERH5ATVJXF549CMAIYB2OZZAHA15JKW9O5AUSJ\n",
      "9 J0TNM 2017/08/09 02:09:48 75 ZHLRBYQCFIFUEOZZYD SKSTA1I3ATMAURKJAYZF31J7IV67UGN9A1Z9K4IR91C6GP62263CWGJ8ID19EFE24DTG618SRJCKIS12UNJ0G6UET\n",
      "10 B0M49 2008/08/28 18:07:39 13 ATQRO QHUNO9F9EMIBZBTGRCZ5WGRYSBZNKDAVNDH7CNC41FXT16WMTX93\n"
     ]
    }
   ],
   "source": [
    "datagrid.show(0, 10, prints = True, returns=False)"
   ]
  },
  {
   "cell_type": "markdown",
   "metadata": {},
   "source": [
    "### `.insert_row(row)`"
   ]
  },
  {
   "cell_type": "markdown",
   "metadata": {},
   "source": [
    "You may want to add rows through a dictionary. In the example below, we add a row if an ID which is already in the datagrid. This will update the row."
   ]
  },
  {
   "cell_type": "code",
   "execution_count": 6,
   "metadata": {},
   "outputs": [],
   "source": [
    "new_row = {\"id\": 1, \"owner_id\": \"ABC123\", \"creation_date\": \"2023/10/06 12:00:15\", \"count\": 6, \"name\": \"Item 98\", \"content\": \"This is the new content for Item 98\"}\n",
    "datagrid.insert_row(new_row)"
   ]
  },
  {
   "cell_type": "code",
   "execution_count": 7,
   "metadata": {},
   "outputs": [
    {
     "name": "stdout",
     "output_type": "stream",
     "text": [
      "0 EFD4Q 2014/03/20 11:48:57 88 BDTFDXGYXEQ A436BVF45XKGBBJ0HOT9U9GFXHLXV1L1DIDUVL9Y776G8I8M99A94QTGT092DQJP2\n",
      "1 ABC123 2023/10/06 12:00:15 6 Item 98 This is the new content for Item 98\n",
      "2 H2HHU 2002/08/24 17:58:59 17 KW OV5N2B21ED44JW516DXK0HU56FEM3GUGCAON4RSIQ6X7O5H3VOVCZL9QLJSB4CLAZ1JNN6H6KRO1GUNZ650EL8KF3Z9RZKOD1TZSDC\n",
      "3 8MCQU 2020/07/19 21:10:52 82 HBLWWURCQLZHPMFHM C1TV0A3GHEVH1SNIGB3Z3WOI2809N9TDJUG50DB94J5YECCZ33N2ME8QWRJQKIPP2VT8YO1CPIVU7NODJDATAJWOPCUFFBN0YZMBBP0I0UE6FWLEI2WNVG5WOXG8YC5T6V5RL15UGTX4STSIP2N07E7G2QWZKK714HZUPP80SK4E3P99JLRODJ0WG1653JMDEHUFCYD229SSFL01H50CC0HZLVSS20IW8XFEZMQX8X2SU59Z2QB1EAVQQS7T0EE17RHHWGGC124\n",
      "4 B9J6O 2009/05/13 11:47:17 71 DXNUTIRRRC 7XDLT34GKADD15WC276ESUHHM9T1AYQC23DMI5W922TESPIW4DX3PN4YL0469EZLPSUJ2S0Q9QQFLOIU\n",
      "5 55QGB 2006/05/10 08:37:43 45 ALYSWKL 8TRSMUTWWY7NNX5RRFK3L9WI3NOQ83L773UCIO5TGZSE66J59KAOTUFSVR800BA4HJ7EC052I3ZL62XNVO6ORZX3Y9IB0JRQ460LYFCQU6EYCLLE1X1D1LIX13YYBLTGVYKFXW4S4FUF7RTJ3F4QHQ0UFTXRBT5VX6A1YH73AKKBL9M2TSUA99IZNV41LV764JAOWKZQOFRJMD6ZGFHDXWBNGPBG59O5QS2JBBSHYWFZ4RPXOFA98XMJX12PE47NN7XQ8NZ34GU3LA5UX0\n",
      "6 A1HRP 2007/05/15 16:36:44 3 B 90QLHNAPOR07FB1HHVNVEI2JMC61OSPCVD6WO761686C16TQ232KNIA07AMNJX1HVW5F1GPCO8W2KJC7B5ESHCIZ3Y29HZLTNPRF1BA6AE7AE86WCUVZ1R9PKHRGJV9E9EPXJ9SIAH0FUII9Y2JP3ZCSSOD5J1PE8TF4CAVCCPMN2V9QXFDYSW8H0ZOM3R34ZI79A2Y7S0XQC10YIUXY5XGEUMA6APC1JXTL8BFMC3TE120VQ0TP5OJH3V2NI3REWM6U354R5S4QECWMK5S35I0YGVAR571BH\n"
     ]
    }
   ],
   "source": [
    "datagrid.show(0, 6, prints=True, returns=False)"
   ]
  },
  {
   "cell_type": "markdown",
   "metadata": {},
   "source": [
    "### `.delete_row(column, value)`"
   ]
  },
  {
   "cell_type": "markdown",
   "metadata": {},
   "source": [
    "You can delete rows based on the value of the columns:"
   ]
  },
  {
   "cell_type": "code",
   "execution_count": 8,
   "metadata": {},
   "outputs": [],
   "source": [
    "datagrid.delete_row(column=\"id\", value=5)"
   ]
  },
  {
   "cell_type": "code",
   "execution_count": 9,
   "metadata": {},
   "outputs": [
    {
     "name": "stdout",
     "output_type": "stream",
     "text": [
      "0 EFD4Q 2014/03/20 11:48:57 88 BDTFDXGYXEQ A436BVF45XKGBBJ0HOT9U9GFXHLXV1L1DIDUVL9Y776G8I8M99A94QTGT092DQJP2\n",
      "1 ABC123 2023/10/06 12:00:15 6 Item 98 This is the new content for Item 98\n",
      "2 H2HHU 2002/08/24 17:58:59 17 KW OV5N2B21ED44JW516DXK0HU56FEM3GUGCAON4RSIQ6X7O5H3VOVCZL9QLJSB4CLAZ1JNN6H6KRO1GUNZ650EL8KF3Z9RZKOD1TZSDC\n",
      "3 8MCQU 2020/07/19 21:10:52 82 HBLWWURCQLZHPMFHM C1TV0A3GHEVH1SNIGB3Z3WOI2809N9TDJUG50DB94J5YECCZ33N2ME8QWRJQKIPP2VT8YO1CPIVU7NODJDATAJWOPCUFFBN0YZMBBP0I0UE6FWLEI2WNVG5WOXG8YC5T6V5RL15UGTX4STSIP2N07E7G2QWZKK714HZUPP80SK4E3P99JLRODJ0WG1653JMDEHUFCYD229SSFL01H50CC0HZLVSS20IW8XFEZMQX8X2SU59Z2QB1EAVQQS7T0EE17RHHWGGC124\n",
      "4 B9J6O 2009/05/13 11:47:17 71 DXNUTIRRRC 7XDLT34GKADD15WC276ESUHHM9T1AYQC23DMI5W922TESPIW4DX3PN4YL0469EZLPSUJ2S0Q9QQFLOIU\n",
      "6 A1HRP 2007/05/15 16:36:44 3 B 90QLHNAPOR07FB1HHVNVEI2JMC61OSPCVD6WO761686C16TQ232KNIA07AMNJX1HVW5F1GPCO8W2KJC7B5ESHCIZ3Y29HZLTNPRF1BA6AE7AE86WCUVZ1R9PKHRGJV9E9EPXJ9SIAH0FUII9Y2JP3ZCSSOD5J1PE8TF4CAVCCPMN2V9QXFDYSW8H0ZOM3R34ZI79A2Y7S0XQC10YIUXY5XGEUMA6APC1JXTL8BFMC3TE120VQ0TP5OJH3V2NI3REWM6U354R5S4QECWMK5S35I0YGVAR571BH\n",
      "7 7C8Z5 2004/09/30 16:56:14 50 XYALSJSSKW 263PJU4YM54DJ7YGI3E2A2ZHCT49PBTRAS4LH64XNKNQ8THAKR2QU7SGRXT7FLERL8I1RSLNWO1T6U6CUYNXQXEFYF2LNEVG0NE4N7DNBS5V10OB3RSF14QBHRXQPJLSACXPDQ2AA16H1I6BJALQLP88FRSN9RRYRL0UHIZZVLMDRMW9KLDU6S7B8DS86RM7SK2NAHM5V81KHR25WPF55NHE37IU8Z8VH436G4XVF7KTF5GUYFLSYS\n"
     ]
    }
   ],
   "source": [
    "datagrid.show(0, 6, prints=True, returns=False)"
   ]
  },
  {
   "cell_type": "markdown",
   "metadata": {},
   "source": [
    "Deleting according to position:"
   ]
  },
  {
   "cell_type": "code",
   "execution_count": 10,
   "metadata": {},
   "outputs": [],
   "source": [
    "datagrid.delete_row(column=\"position\", value=1)"
   ]
  },
  {
   "cell_type": "code",
   "execution_count": 11,
   "metadata": {},
   "outputs": [
    {
     "name": "stdout",
     "output_type": "stream",
     "text": [
      "0 EFD4Q 2014/03/20 11:48:57 88 BDTFDXGYXEQ A436BVF45XKGBBJ0HOT9U9GFXHLXV1L1DIDUVL9Y776G8I8M99A94QTGT092DQJP2\n",
      "2 H2HHU 2002/08/24 17:58:59 17 KW OV5N2B21ED44JW516DXK0HU56FEM3GUGCAON4RSIQ6X7O5H3VOVCZL9QLJSB4CLAZ1JNN6H6KRO1GUNZ650EL8KF3Z9RZKOD1TZSDC\n",
      "3 8MCQU 2020/07/19 21:10:52 82 HBLWWURCQLZHPMFHM C1TV0A3GHEVH1SNIGB3Z3WOI2809N9TDJUG50DB94J5YECCZ33N2ME8QWRJQKIPP2VT8YO1CPIVU7NODJDATAJWOPCUFFBN0YZMBBP0I0UE6FWLEI2WNVG5WOXG8YC5T6V5RL15UGTX4STSIP2N07E7G2QWZKK714HZUPP80SK4E3P99JLRODJ0WG1653JMDEHUFCYD229SSFL01H50CC0HZLVSS20IW8XFEZMQX8X2SU59Z2QB1EAVQQS7T0EE17RHHWGGC124\n",
      "4 B9J6O 2009/05/13 11:47:17 71 DXNUTIRRRC 7XDLT34GKADD15WC276ESUHHM9T1AYQC23DMI5W922TESPIW4DX3PN4YL0469EZLPSUJ2S0Q9QQFLOIU\n",
      "6 A1HRP 2007/05/15 16:36:44 3 B 90QLHNAPOR07FB1HHVNVEI2JMC61OSPCVD6WO761686C16TQ232KNIA07AMNJX1HVW5F1GPCO8W2KJC7B5ESHCIZ3Y29HZLTNPRF1BA6AE7AE86WCUVZ1R9PKHRGJV9E9EPXJ9SIAH0FUII9Y2JP3ZCSSOD5J1PE8TF4CAVCCPMN2V9QXFDYSW8H0ZOM3R34ZI79A2Y7S0XQC10YIUXY5XGEUMA6APC1JXTL8BFMC3TE120VQ0TP5OJH3V2NI3REWM6U354R5S4QECWMK5S35I0YGVAR571BH\n",
      "7 7C8Z5 2004/09/30 16:56:14 50 XYALSJSSKW 263PJU4YM54DJ7YGI3E2A2ZHCT49PBTRAS4LH64XNKNQ8THAKR2QU7SGRXT7FLERL8I1RSLNWO1T6U6CUYNXQXEFYF2LNEVG0NE4N7DNBS5V10OB3RSF14QBHRXQPJLSACXPDQ2AA16H1I6BJALQLP88FRSN9RRYRL0UHIZZVLMDRMW9KLDU6S7B8DS86RM7SK2NAHM5V81KHR25WPF55NHE37IU8Z8VH436G4XVF7KTF5GUYFLSYS\n",
      "8 8XI84 2017/10/31 10:33:31 4 CVANKQDLPOY IDAG9SDOVHSZ0FJCGW9FDZBAGT1S5GZXEQ7ZGC79OCVDH3HTIAOY4YT9VMR8SAUKT7P3F8AL4SQP6JLJJ4WYBVVIVXW4U3KBMBF3HFTBKFIJGW9O75IW7957V55OND8WTDPI9GGSJB0945ERH5ATVJXF549CMAIYB2OZZAHA15JKW9O5AUSJ\n"
     ]
    }
   ],
   "source": [
    "datagrid.show(0, 6, prints=True, returns=False)"
   ]
  },
  {
   "cell_type": "code",
   "execution_count": 12,
   "metadata": {},
   "outputs": [],
   "source": [
    "datagrid.delete_row(column=\"position\", value=(0, 2))"
   ]
  },
  {
   "cell_type": "code",
   "execution_count": 13,
   "metadata": {},
   "outputs": [
    {
     "name": "stdout",
     "output_type": "stream",
     "text": [
      "4 B9J6O 2009/05/13 11:47:17 71 DXNUTIRRRC 7XDLT34GKADD15WC276ESUHHM9T1AYQC23DMI5W922TESPIW4DX3PN4YL0469EZLPSUJ2S0Q9QQFLOIU\n",
      "6 A1HRP 2007/05/15 16:36:44 3 B 90QLHNAPOR07FB1HHVNVEI2JMC61OSPCVD6WO761686C16TQ232KNIA07AMNJX1HVW5F1GPCO8W2KJC7B5ESHCIZ3Y29HZLTNPRF1BA6AE7AE86WCUVZ1R9PKHRGJV9E9EPXJ9SIAH0FUII9Y2JP3ZCSSOD5J1PE8TF4CAVCCPMN2V9QXFDYSW8H0ZOM3R34ZI79A2Y7S0XQC10YIUXY5XGEUMA6APC1JXTL8BFMC3TE120VQ0TP5OJH3V2NI3REWM6U354R5S4QECWMK5S35I0YGVAR571BH\n",
      "7 7C8Z5 2004/09/30 16:56:14 50 XYALSJSSKW 263PJU4YM54DJ7YGI3E2A2ZHCT49PBTRAS4LH64XNKNQ8THAKR2QU7SGRXT7FLERL8I1RSLNWO1T6U6CUYNXQXEFYF2LNEVG0NE4N7DNBS5V10OB3RSF14QBHRXQPJLSACXPDQ2AA16H1I6BJALQLP88FRSN9RRYRL0UHIZZVLMDRMW9KLDU6S7B8DS86RM7SK2NAHM5V81KHR25WPF55NHE37IU8Z8VH436G4XVF7KTF5GUYFLSYS\n",
      "8 8XI84 2017/10/31 10:33:31 4 CVANKQDLPOY IDAG9SDOVHSZ0FJCGW9FDZBAGT1S5GZXEQ7ZGC79OCVDH3HTIAOY4YT9VMR8SAUKT7P3F8AL4SQP6JLJJ4WYBVVIVXW4U3KBMBF3HFTBKFIJGW9O75IW7957V55OND8WTDPI9GGSJB0945ERH5ATVJXF549CMAIYB2OZZAHA15JKW9O5AUSJ\n",
      "9 J0TNM 2017/08/09 02:09:48 75 ZHLRBYQCFIFUEOZZYD SKSTA1I3ATMAURKJAYZF31J7IV67UGN9A1Z9K4IR91C6GP62263CWGJ8ID19EFE24DTG618SRJCKIS12UNJ0G6UET\n",
      "10 B0M49 2008/08/28 18:07:39 13 ATQRO QHUNO9F9EMIBZBTGRCZ5WGRYSBZNKDAVNDH7CNC41FXT16WMTX93\n",
      "11 TQNLQ 2017/07/08 23:22:03 10 IMUMIPCD F4ZRVDQMOFFANOJ2O9LDUFRA9Y9VV8YWJT8JAM9ISO87ZA0NZHRCARJ9DIZTG2P4BHFGE944IZWDXWKAQQN7M93HPE014GGA4HUNPN2GVOIDC86YV72UGAIHQRGSOU6TIEIEAK92JGCZKPSKEQR7DT0VRVWE5BHTJHAAJIU66IW8NEAUDBBN0AIMW8N719D9OUGU09J1435RZ91PG3DCD9TQM0TKIPDD8506153AXXOM3ZZ0NTBSRU5GSU89CGGYNI5KTCPEZBYCVOR6J5QZL2UQ8JMG8MKAR6GKE3N4GRL7RVPII3XLBSTP7V4CO0LL3THDV9EM4R1DJJEAO4KS8I6WT3BNC8YN3UHUD0L1UWJ7KSBN0EA41C2P2XB07XD73E65WV\n"
     ]
    }
   ],
   "source": [
    "datagrid.show(0, 6, prints=True, returns=False)"
   ]
  },
  {
   "cell_type": "markdown",
   "metadata": {},
   "source": [
    "Searching and deleting a range of count values:"
   ]
  },
  {
   "cell_type": "code",
   "execution_count": 14,
   "metadata": {},
   "outputs": [
    {
     "data": {
      "text/plain": [
       "[<datagrid.Event at 0x7f6c240d8220>,\n",
       " <datagrid.Event at 0x7f6c207d1180>,\n",
       " <datagrid.Event at 0x7f6c207d0640>,\n",
       " <datagrid.Event at 0x7f6c205e1f60>,\n",
       " <datagrid.Event at 0x7f6c205e1e10>,\n",
       " <datagrid.Event at 0x7f6c205e3430>,\n",
       " <datagrid.Event at 0x7f6c207d1540>,\n",
       " <datagrid.Event at 0x7f6c207ba200>,\n",
       " <datagrid.Event at 0x7f6c207d04c0>,\n",
       " <datagrid.Event at 0x7f6c205e1390>,\n",
       " <datagrid.Event at 0x7f6c207bb6d0>,\n",
       " <datagrid.Event at 0x7f6c205e15a0>]"
      ]
     },
     "execution_count": 14,
     "metadata": {},
     "output_type": "execute_result"
    }
   ],
   "source": [
    "datagrid.search(column=\"count\", value=(20, 21))"
   ]
  },
  {
   "cell_type": "code",
   "execution_count": 15,
   "metadata": {},
   "outputs": [],
   "source": [
    "datagrid.delete_row(column=\"count\", value=(20, 21))"
   ]
  },
  {
   "cell_type": "code",
   "execution_count": 16,
   "metadata": {},
   "outputs": [],
   "source": [
    "datagrid.search(column=\"count\", value=(20, 21))"
   ]
  },
  {
   "cell_type": "markdown",
   "metadata": {},
   "source": [
    "Searching and deleting a range of name values:"
   ]
  },
  {
   "cell_type": "code",
   "execution_count": 17,
   "metadata": {},
   "outputs": [
    {
     "data": {
      "text/plain": [
       "[<datagrid.Event at 0x7f6c207d2290>,\n",
       " <datagrid.Event at 0x7f6c207cc220>,\n",
       " <datagrid.Event at 0x7f6c240d8d30>,\n",
       " <datagrid.Event at 0x7f6c205e1900>,\n",
       " <datagrid.Event at 0x7f6c207b97b0>,\n",
       " <datagrid.Event at 0x7f6c207d0580>,\n",
       " <datagrid.Event at 0x7f6c207ba2f0>,\n",
       " <datagrid.Event at 0x7f6c207b9210>,\n",
       " <datagrid.Event at 0x7f6c207ccd90>,\n",
       " <datagrid.Event at 0x7f6c207d0820>,\n",
       " <datagrid.Event at 0x7f6c205e0400>,\n",
       " <datagrid.Event at 0x7f6c207ba5c0>,\n",
       " <datagrid.Event at 0x7f6c207d1bd0>,\n",
       " <datagrid.Event at 0x7f6c205e3370>,\n",
       " <datagrid.Event at 0x7f6c207b96f0>,\n",
       " <datagrid.Event at 0x7f6c205e2a70>,\n",
       " <datagrid.Event at 0x7f6c207bbee0>,\n",
       " <datagrid.Event at 0x7f6c205e2f80>,\n",
       " <datagrid.Event at 0x7f6c205e1bd0>,\n",
       " <datagrid.Event at 0x7f6c205e3be0>,\n",
       " <datagrid.Event at 0x7f6c207b99c0>,\n",
       " <datagrid.Event at 0x7f6c205e2950>,\n",
       " <datagrid.Event at 0x7f6c205e2560>,\n",
       " <datagrid.Event at 0x7f6c207d1e40>,\n",
       " <datagrid.Event at 0x7f6c205e3d00>,\n",
       " <datagrid.Event at 0x7f6c207cdb40>,\n",
       " <datagrid.Event at 0x7f6c207d0f40>,\n",
       " <datagrid.Event at 0x7f6c205e0e50>,\n",
       " <datagrid.Event at 0x7f6c205e2e30>,\n",
       " <datagrid.Event at 0x7f6c240a5f30>,\n",
       " <datagrid.Event at 0x7f6c207d06d0>,\n",
       " <datagrid.Event at 0x7f6c207d31c0>,\n",
       " <datagrid.Event at 0x7f6c207b9f30>,\n",
       " <datagrid.Event at 0x7f6c240d8c40>,\n",
       " <datagrid.Event at 0x7f6c207b8e50>,\n",
       " <datagrid.Event at 0x7f6c207d0d00>,\n",
       " <datagrid.Event at 0x7f6c205e26b0>,\n",
       " <datagrid.Event at 0x7f6c205e13c0>,\n",
       " <datagrid.Event at 0x7f6c205e1630>,\n",
       " <datagrid.Event at 0x7f6c207b8eb0>,\n",
       " <datagrid.Event at 0x7f6c207bbac0>,\n",
       " <datagrid.Event at 0x7f6c207d1330>,\n",
       " <datagrid.Event at 0x7f6c207d16c0>,\n",
       " <datagrid.Event at 0x7f6c207d13c0>,\n",
       " <datagrid.Event at 0x7f6c207d1900>,\n",
       " <datagrid.Event at 0x7f6c240a5fc0>,\n",
       " <datagrid.Event at 0x7f6c205e07f0>,\n",
       " <datagrid.Event at 0x7f6c207cd630>,\n",
       " <datagrid.Event at 0x7f6c205e16c0>,\n",
       " <datagrid.Event at 0x7f6c207d2560>,\n",
       " <datagrid.Event at 0x7f6c207ba0e0>,\n",
       " <datagrid.Event at 0x7f6c207d04f0>,\n",
       " <datagrid.Event at 0x7f6c207ba9e0>,\n",
       " <datagrid.Event at 0x7f6c207b8f40>,\n",
       " <datagrid.Event at 0x7f6c207d0d30>,\n",
       " <datagrid.Event at 0x7f6c205e2c50>,\n",
       " <datagrid.Event at 0x7f6c207d1990>,\n",
       " <datagrid.Event at 0x7f6c207bb6a0>,\n",
       " <datagrid.Event at 0x7f6c207b9d50>,\n",
       " <datagrid.Event at 0x7f6c207ba440>,\n",
       " <datagrid.Event at 0x7f6c240d8b50>,\n",
       " <datagrid.Event at 0x7f6c207ba4a0>,\n",
       " <datagrid.Event at 0x7f6c205e2c80>,\n",
       " <datagrid.Event at 0x7f6c207b9cf0>,\n",
       " <datagrid.Event at 0x7f6c207bbe50>,\n",
       " <datagrid.Event at 0x7f6c205e06d0>,\n",
       " <datagrid.Event at 0x7f6c205e2650>,\n",
       " <datagrid.Event at 0x7f6c205e0280>,\n",
       " <datagrid.Event at 0x7f6c205e3700>,\n",
       " <datagrid.Event at 0x7f6c205e1e70>,\n",
       " <datagrid.Event at 0x7f6c205e20b0>,\n",
       " <datagrid.Event at 0x7f6c207cdba0>,\n",
       " <datagrid.Event at 0x7f6c205e0340>,\n",
       " <datagrid.Event at 0x7f6c205e2350>,\n",
       " <datagrid.Event at 0x7f6c207bbc40>,\n",
       " <datagrid.Event at 0x7f6c205e3fd0>,\n",
       " <datagrid.Event at 0x7f6c207cc9d0>,\n",
       " <datagrid.Event at 0x7f6c207d2710>,\n",
       " <datagrid.Event at 0x7f6c207d0670>,\n",
       " <datagrid.Event at 0x7f6c205e1c00>,\n",
       " <datagrid.Event at 0x7f6c207d23e0>,\n",
       " <datagrid.Event at 0x7f6c207cce20>,\n",
       " <datagrid.Event at 0x7f6c207bb880>,\n",
       " <datagrid.Event at 0x7f6c207d1ba0>,\n",
       " <datagrid.Event at 0x7f6c205e2fe0>,\n",
       " <datagrid.Event at 0x7f6c207ccc70>,\n",
       " <datagrid.Event at 0x7f6c207d2650>,\n",
       " <datagrid.Event at 0x7f6c205e3520>,\n",
       " <datagrid.Event at 0x7f6c207cc0a0>,\n",
       " <datagrid.Event at 0x7f6c207ba500>,\n",
       " <datagrid.Event at 0x7f6c205e3010>,\n",
       " <datagrid.Event at 0x7f6c207d20b0>,\n",
       " <datagrid.Event at 0x7f6c205e03a0>,\n",
       " <datagrid.Event at 0x7f6c207d1360>,\n",
       " <datagrid.Event at 0x7f6c207cc100>,\n",
       " <datagrid.Event at 0x7f6c207d2bc0>,\n",
       " <datagrid.Event at 0x7f6c207b9240>,\n",
       " <datagrid.Event at 0x7f6c207cd7b0>,\n",
       " <datagrid.Event at 0x7f6c207bb700>,\n",
       " <datagrid.Event at 0x7f6c207cd660>,\n",
       " <datagrid.Event at 0x7f6c205e2080>,\n",
       " <datagrid.Event at 0x7f6c207d0a30>,\n",
       " <datagrid.Event at 0x7f6c205e1b70>,\n",
       " <datagrid.Event at 0x7f6c240d8490>,\n",
       " <datagrid.Event at 0x7f6c207bbb50>,\n",
       " <datagrid.Event at 0x7f6c207d0af0>,\n",
       " <datagrid.Event at 0x7f6c205e1510>,\n",
       " <datagrid.Event at 0x7f6c205e0b20>,\n",
       " <datagrid.Event at 0x7f6c205e1b10>,\n",
       " <datagrid.Event at 0x7f6c207d0460>,\n",
       " <datagrid.Event at 0x7f6c205e1330>,\n",
       " <datagrid.Event at 0x7f6c207ba950>,\n",
       " <datagrid.Event at 0x7f6c207cc490>,\n",
       " <datagrid.Event at 0x7f6c207baf50>,\n",
       " <datagrid.Event at 0x7f6c205e2da0>,\n",
       " <datagrid.Event at 0x7f6c207d0c10>,\n",
       " <datagrid.Event at 0x7f6c207cc820>,\n",
       " <datagrid.Event at 0x7f6c207cd8d0>,\n",
       " <datagrid.Event at 0x7f6c207b9900>,\n",
       " <datagrid.Event at 0x7f6c207d0880>,\n",
       " <datagrid.Event at 0x7f6c207d0c70>,\n",
       " <datagrid.Event at 0x7f6c207b8fd0>,\n",
       " <datagrid.Event at 0x7f6c205e1300>,\n",
       " <datagrid.Event at 0x7f6c207b94b0>,\n",
       " <datagrid.Event at 0x7f6c205e2920>,\n",
       " <datagrid.Event at 0x7f6c207d0ca0>,\n",
       " <datagrid.Event at 0x7f6c207cc0d0>,\n",
       " <datagrid.Event at 0x7f6c205e0df0>,\n",
       " <datagrid.Event at 0x7f6c205e12d0>,\n",
       " <datagrid.Event at 0x7f6c240d8340>,\n",
       " <datagrid.Event at 0x7f6c207d2410>,\n",
       " <datagrid.Event at 0x7f6c207ba1a0>,\n",
       " <datagrid.Event at 0x7f6c205e0bb0>,\n",
       " <datagrid.Event at 0x7f6c207d1ea0>,\n",
       " <datagrid.Event at 0x7f6c207b8fa0>,\n",
       " <datagrid.Event at 0x7f6c207b8d60>,\n",
       " <datagrid.Event at 0x7f6c207cc4f0>,\n",
       " <datagrid.Event at 0x7f6c207bb850>,\n",
       " <datagrid.Event at 0x7f6c205e2890>,\n",
       " <datagrid.Event at 0x7f6c207b9690>,\n",
       " <datagrid.Event at 0x7f6c207d2b00>,\n",
       " <datagrid.Event at 0x7f6c207b9bd0>,\n",
       " <datagrid.Event at 0x7f6c207cc910>,\n",
       " <datagrid.Event at 0x7f6c205e2500>,\n",
       " <datagrid.Event at 0x7f6c207cc970>,\n",
       " <datagrid.Event at 0x7f6c207d15a0>,\n",
       " <datagrid.Event at 0x7f6c207d0280>,\n",
       " <datagrid.Event at 0x7f6c240d94e0>,\n",
       " <datagrid.Event at 0x7f6c205e2680>,\n",
       " <datagrid.Event at 0x7f6c207cdc00>,\n",
       " <datagrid.Event at 0x7f6c207bb520>,\n",
       " <datagrid.Event at 0x7f6c240d84c0>,\n",
       " <datagrid.Event at 0x7f6c207d22f0>,\n",
       " <datagrid.Event at 0x7f6c207b9750>,\n",
       " <datagrid.Event at 0x7f6c205e1060>,\n",
       " <datagrid.Event at 0x7f6c207d1b70>,\n",
       " <datagrid.Event at 0x7f6c240d8a00>,\n",
       " <datagrid.Event at 0x7f6c207d0430>,\n",
       " <datagrid.Event at 0x7f6c240a7160>,\n",
       " <datagrid.Event at 0x7f6c205e18d0>,\n",
       " <datagrid.Event at 0x7f6c205e2d10>,\n",
       " <datagrid.Event at 0x7f6c207ba6b0>,\n",
       " <datagrid.Event at 0x7f6c207bada0>,\n",
       " <datagrid.Event at 0x7f6c205e1660>,\n",
       " <datagrid.Event at 0x7f6c240d8970>,\n",
       " <datagrid.Event at 0x7f6c205e1d80>,\n",
       " <datagrid.Event at 0x7f6c207ccd60>,\n",
       " <datagrid.Event at 0x7f6c207b9c90>,\n",
       " <datagrid.Event at 0x7f6c207d1b10>,\n",
       " <datagrid.Event at 0x7f6c205e06a0>,\n",
       " <datagrid.Event at 0x7f6c205e3670>,\n",
       " <datagrid.Event at 0x7f6c240a6230>,\n",
       " <datagrid.Event at 0x7f6c207b9510>,\n",
       " <datagrid.Event at 0x7f6c207d0d60>,\n",
       " <datagrid.Event at 0x7f6c205e1360>,\n",
       " <datagrid.Event at 0x7f6c207bab60>,\n",
       " <datagrid.Event at 0x7f6c207d1690>,\n",
       " <datagrid.Event at 0x7f6c205e1fc0>,\n",
       " <datagrid.Event at 0x7f6c207bbaf0>,\n",
       " <datagrid.Event at 0x7f6c207b9450>,\n",
       " <datagrid.Event at 0x7f6c207ccac0>,\n",
       " <datagrid.Event at 0x7f6c207bba30>,\n",
       " <datagrid.Event at 0x7f6c207b9ff0>,\n",
       " <datagrid.Event at 0x7f6c207b9b70>,\n",
       " <datagrid.Event at 0x7f6c207baad0>,\n",
       " <datagrid.Event at 0x7f6c207baa70>,\n",
       " <datagrid.Event at 0x7f6c205e21d0>,\n",
       " <datagrid.Event at 0x7f6c207b9fc0>,\n",
       " <datagrid.Event at 0x7f6c205e2320>,\n",
       " <datagrid.Event at 0x7f6c207cd900>,\n",
       " <datagrid.Event at 0x7f6c207cca60>,\n",
       " <datagrid.Event at 0x7f6c240d8460>,\n",
       " <datagrid.Event at 0x7f6c207b9720>,\n",
       " <datagrid.Event at 0x7f6c205e1870>,\n",
       " <datagrid.Event at 0x7f6c205e0310>,\n",
       " <datagrid.Event at 0x7f6c205e0e80>,\n",
       " <datagrid.Event at 0x7f6c205e0f70>,\n",
       " <datagrid.Event at 0x7f6c207d2920>,\n",
       " <datagrid.Event at 0x7f6c205e0220>,\n",
       " <datagrid.Event at 0x7f6c207d17b0>,\n",
       " <datagrid.Event at 0x7f6c205e2f50>,\n",
       " <datagrid.Event at 0x7f6c205e39d0>,\n",
       " <datagrid.Event at 0x7f6c207d0370>,\n",
       " <datagrid.Event at 0x7f6c207bbd00>,\n",
       " <datagrid.Event at 0x7f6c207bae60>,\n",
       " <datagrid.Event at 0x7f6c207bb7c0>,\n",
       " <datagrid.Event at 0x7f6c207d18a0>,\n",
       " <datagrid.Event at 0x7f6c205e3340>,\n",
       " <datagrid.Event at 0x7f6c207d2140>,\n",
       " <datagrid.Event at 0x7f6c205e0130>,\n",
       " <datagrid.Event at 0x7f6c240a6ef0>,\n",
       " <datagrid.Event at 0x7f6c207d10f0>,\n",
       " <datagrid.Event at 0x7f6c207d0df0>,\n",
       " <datagrid.Event at 0x7f6c205e3640>,\n",
       " <datagrid.Event at 0x7f6c205e08e0>,\n",
       " <datagrid.Event at 0x7f6c207d0340>,\n",
       " <datagrid.Event at 0x7f6c207bb730>,\n",
       " <datagrid.Event at 0x7f6c205e2b30>,\n",
       " <datagrid.Event at 0x7f6c207b9a20>,\n",
       " <datagrid.Event at 0x7f6c207cc4c0>,\n",
       " <datagrid.Event at 0x7f6c205e2710>,\n",
       " <datagrid.Event at 0x7f6c207bbe20>,\n",
       " <datagrid.Event at 0x7f6c207b9300>,\n",
       " <datagrid.Event at 0x7f6c207b9ba0>,\n",
       " <datagrid.Event at 0x7f6c205e1720>,\n",
       " <datagrid.Event at 0x7f6c207d2980>,\n",
       " <datagrid.Event at 0x7f6c207ba5f0>,\n",
       " <datagrid.Event at 0x7f6c207d2470>,\n",
       " <datagrid.Event at 0x7f6c240a72e0>,\n",
       " <datagrid.Event at 0x7f6c207b9ae0>,\n",
       " <datagrid.Event at 0x7f6c207d0220>,\n",
       " <datagrid.Event at 0x7f6c205e0d60>,\n",
       " <datagrid.Event at 0x7f6c240a7850>,\n",
       " <datagrid.Event at 0x7f6c207d1600>,\n",
       " <datagrid.Event at 0x7f6c207d0040>,\n",
       " <datagrid.Event at 0x7f6c207ba830>,\n",
       " <datagrid.Event at 0x7f6c207ccc10>,\n",
       " <datagrid.Event at 0x7f6c205e0970>,\n",
       " <datagrid.Event at 0x7f6c205e30d0>,\n",
       " <datagrid.Event at 0x7f6c207cc1f0>,\n",
       " <datagrid.Event at 0x7f6c207d0fd0>,\n",
       " <datagrid.Event at 0x7f6c205e1030>,\n",
       " <datagrid.Event at 0x7f6c207b95a0>,\n",
       " <datagrid.Event at 0x7f6c205e0820>,\n",
       " <datagrid.Event at 0x7f6c205e1960>,\n",
       " <datagrid.Event at 0x7f6c207bb0d0>,\n",
       " <datagrid.Event at 0x7f6c207d11e0>,\n",
       " <datagrid.Event at 0x7f6c205e0c40>,\n",
       " <datagrid.Event at 0x7f6c207d1480>,\n",
       " <datagrid.Event at 0x7f6c207b8ca0>,\n",
       " <datagrid.Event at 0x7f6c207ba470>,\n",
       " <datagrid.Event at 0x7f6c205e0040>,\n",
       " <datagrid.Event at 0x7f6c207d1cc0>,\n",
       " <datagrid.Event at 0x7f6c207b8e80>,\n",
       " <datagrid.Event at 0x7f6c207b9030>,\n",
       " <datagrid.Event at 0x7f6c205e3400>,\n",
       " <datagrid.Event at 0x7f6c207d1c00>,\n",
       " <datagrid.Event at 0x7f6c207bb250>,\n",
       " <datagrid.Event at 0x7f6c207bbfa0>,\n",
       " <datagrid.Event at 0x7f6c207d24d0>,\n",
       " <datagrid.Event at 0x7f6c205e0d30>,\n",
       " <datagrid.Event at 0x7f6c207d25c0>,\n",
       " <datagrid.Event at 0x7f6c207b9c00>,\n",
       " <datagrid.Event at 0x7f6c207ccb20>,\n",
       " <datagrid.Event at 0x7f6c205e2a40>,\n",
       " <datagrid.Event at 0x7f6c207d14e0>,\n",
       " <datagrid.Event at 0x7f6c207ccbe0>,\n",
       " <datagrid.Event at 0x7f6c205e0be0>,\n",
       " <datagrid.Event at 0x7f6c207bb5e0>,\n",
       " <datagrid.Event at 0x7f6c207d0e80>,\n",
       " <datagrid.Event at 0x7f6c207bb7f0>,\n",
       " <datagrid.Event at 0x7f6c205e1570>]"
      ]
     },
     "execution_count": 17,
     "metadata": {},
     "output_type": "execute_result"
    }
   ],
   "source": [
    "datagrid.search(\"name\", \"A\")"
   ]
  },
  {
   "cell_type": "code",
   "execution_count": 18,
   "metadata": {},
   "outputs": [],
   "source": [
    "datagrid.delete_row(\"name\", \"A\")"
   ]
  },
  {
   "cell_type": "code",
   "execution_count": 19,
   "metadata": {},
   "outputs": [],
   "source": [
    "datagrid.search(\"name\", \"A\")"
   ]
  },
  {
   "cell_type": "markdown",
   "metadata": {},
   "source": [
    "Searching and deleting a range of content values:"
   ]
  },
  {
   "cell_type": "code",
   "execution_count": 20,
   "metadata": {},
   "outputs": [
    {
     "data": {
      "text/plain": [
       "[<datagrid.Event at 0x7f6c205e3f70>,\n",
       " <datagrid.Event at 0x7f6c207cdbd0>,\n",
       " <datagrid.Event at 0x7f6c205e0550>,\n",
       " <datagrid.Event at 0x7f6c207b9330>,\n",
       " <datagrid.Event at 0x7f6c205e27d0>,\n",
       " <datagrid.Event at 0x7f6c207d29b0>,\n",
       " <datagrid.Event at 0x7f6c205e0e20>,\n",
       " <datagrid.Event at 0x7f6c207bb190>,\n",
       " <datagrid.Event at 0x7f6c205e0af0>,\n",
       " <datagrid.Event at 0x7f6c207d0520>,\n",
       " <datagrid.Event at 0x7f6c207bbfd0>,\n",
       " <datagrid.Event at 0x7f6c207d2170>,\n",
       " <datagrid.Event at 0x7f6c207bbcd0>,\n",
       " <datagrid.Event at 0x7f6c205e2440>,\n",
       " <datagrid.Event at 0x7f6c207bae90>,\n",
       " <datagrid.Event at 0x7f6c205e3fa0>,\n",
       " <datagrid.Event at 0x7f6c240d94b0>,\n",
       " <datagrid.Event at 0x7f6c207bae30>,\n",
       " <datagrid.Event at 0x7f6c205e3a60>,\n",
       " <datagrid.Event at 0x7f6c207bbdf0>,\n",
       " <datagrid.Event at 0x7f6c207d2950>,\n",
       " <datagrid.Event at 0x7f6c207ccd00>,\n",
       " <datagrid.Event at 0x7f6c205e30a0>,\n",
       " <datagrid.Event at 0x7f6c207b9b40>,\n",
       " <datagrid.Event at 0x7f6c207b9180>,\n",
       " <datagrid.Event at 0x7f6c207ba050>,\n",
       " <datagrid.Event at 0x7f6c207d1420>,\n",
       " <datagrid.Event at 0x7f6c207d2a10>,\n",
       " <datagrid.Event at 0x7f6c207ba920>,\n",
       " <datagrid.Event at 0x7f6c205e0190>,\n",
       " <datagrid.Event at 0x7f6c207b9c30>,\n",
       " <datagrid.Event at 0x7f6c207ba560>,\n",
       " <datagrid.Event at 0x7f6c207d1030>,\n",
       " <datagrid.Event at 0x7f6c207d1d80>,\n",
       " <datagrid.Event at 0x7f6c207d0be0>,\n",
       " <datagrid.Event at 0x7f6c240d9480>,\n",
       " <datagrid.Event at 0x7f6c207d0fa0>,\n",
       " <datagrid.Event at 0x7f6c207bb340>,\n",
       " <datagrid.Event at 0x7f6c205e33a0>,\n",
       " <datagrid.Event at 0x7f6c207d0550>,\n",
       " <datagrid.Event at 0x7f6c207b9e40>,\n",
       " <datagrid.Event at 0x7f6c207bb280>,\n",
       " <datagrid.Event at 0x7f6c207bbc10>,\n",
       " <datagrid.Event at 0x7f6c207d1960>,\n",
       " <datagrid.Event at 0x7f6c207b9db0>,\n",
       " <datagrid.Event at 0x7f6c240d8ac0>,\n",
       " <datagrid.Event at 0x7f6c205e37f0>,\n",
       " <datagrid.Event at 0x7f6c207bb2e0>,\n",
       " <datagrid.Event at 0x7f6c207b9e10>,\n",
       " <datagrid.Event at 0x7f6c207b9360>,\n",
       " <datagrid.Event at 0x7f6c207b99f0>,\n",
       " <datagrid.Event at 0x7f6c207ba020>,\n",
       " <datagrid.Event at 0x7f6c207cc7c0>,\n",
       " <datagrid.Event at 0x7f6c207b9270>,\n",
       " <datagrid.Event at 0x7f6c240a76d0>,\n",
       " <datagrid.Event at 0x7f6c240a79d0>,\n",
       " <datagrid.Event at 0x7f6c207ba740>,\n",
       " <datagrid.Event at 0x7f6c240d8c70>,\n",
       " <datagrid.Event at 0x7f6c207d0e50>,\n",
       " <datagrid.Event at 0x7f6c207bafb0>,\n",
       " <datagrid.Event at 0x7f6c240a6170>,\n",
       " <datagrid.Event at 0x7f6c205e1a20>,\n",
       " <datagrid.Event at 0x7f6c207d05e0>,\n",
       " <datagrid.Event at 0x7f6c207d29e0>,\n",
       " <datagrid.Event at 0x7f6c205e34c0>,\n",
       " <datagrid.Event at 0x7f6c207bb100>,\n",
       " <datagrid.Event at 0x7f6c207ba1d0>,\n",
       " <datagrid.Event at 0x7f6c207d1c90>,\n",
       " <datagrid.Event at 0x7f6c240a6020>,\n",
       " <datagrid.Event at 0x7f6c205e24d0>,\n",
       " <datagrid.Event at 0x7f6c205e0430>,\n",
       " <datagrid.Event at 0x7f6c207d1780>,\n",
       " <datagrid.Event at 0x7f6c207b93c0>,\n",
       " <datagrid.Event at 0x7f6c205e1cc0>,\n",
       " <datagrid.Event at 0x7f6c207b9ed0>,\n",
       " <datagrid.Event at 0x7f6c207d07f0>,\n",
       " <datagrid.Event at 0x7f6c205e2260>,\n",
       " <datagrid.Event at 0x7f6c240a5990>,\n",
       " <datagrid.Event at 0x7f6c207d1570>,\n",
       " <datagrid.Event at 0x7f6c207cd570>,\n",
       " <datagrid.Event at 0x7f6c240a7820>,\n",
       " <datagrid.Event at 0x7f6c205e0700>,\n",
       " <datagrid.Event at 0x7f6c207d2b90>,\n",
       " <datagrid.Event at 0x7f6c207babf0>,\n",
       " <datagrid.Event at 0x7f6c207d0400>]"
      ]
     },
     "execution_count": 20,
     "metadata": {},
     "output_type": "execute_result"
    }
   ],
   "source": [
    "datagrid.search(\"content\", \"XS\")"
   ]
  },
  {
   "cell_type": "code",
   "execution_count": 21,
   "metadata": {},
   "outputs": [],
   "source": [
    "datagrid.delete_row(\"content\", \"XS\")"
   ]
  },
  {
   "cell_type": "code",
   "execution_count": 22,
   "metadata": {},
   "outputs": [],
   "source": [
    "datagrid.search(\"content\", \"XS\")"
   ]
  },
  {
   "cell_type": "markdown",
   "metadata": {},
   "source": [
    "### `.search(column, value)`"
   ]
  },
  {
   "cell_type": "code",
   "execution_count": 23,
   "metadata": {},
   "outputs": [],
   "source": [
    "datagrid.search(column=\"id\", value=5)"
   ]
  },
  {
   "cell_type": "code",
   "execution_count": 24,
   "metadata": {},
   "outputs": [
    {
     "data": {
      "text/plain": [
       "[<datagrid.Event at 0x7f6c205e1810>]"
      ]
     },
     "execution_count": 24,
     "metadata": {},
     "output_type": "execute_result"
    }
   ],
   "source": [
    "datagrid.search(column=\"owner_id\", value=\"ZXR2E\")"
   ]
  },
  {
   "cell_type": "code",
   "execution_count": 25,
   "metadata": {},
   "outputs": [
    {
     "data": {
      "text/plain": [
       "[<datagrid.Event at 0x7f6c207bb610>,\n",
       " <datagrid.Event at 0x7f6c205e18a0>,\n",
       " <datagrid.Event at 0x7f6c207b8dc0>,\n",
       " <datagrid.Event at 0x7f6c205e3a00>,\n",
       " <datagrid.Event at 0x7f6c205e0a30>,\n",
       " <datagrid.Event at 0x7f6c240a70a0>,\n",
       " <datagrid.Event at 0x7f6c207d28c0>,\n",
       " <datagrid.Event at 0x7f6c207d1de0>,\n",
       " <datagrid.Event at 0x7f6c205e3b50>,\n",
       " <datagrid.Event at 0x7f6c207ba8f0>,\n",
       " <datagrid.Event at 0x7f6c205e0490>,\n",
       " <datagrid.Event at 0x7f6c207d1510>]"
      ]
     },
     "execution_count": 25,
     "metadata": {},
     "output_type": "execute_result"
    }
   ],
   "source": [
    "datagrid.search(\"creation_date\", (\"2007/03/22 00:00:00\", \"2007/06/23 00:00:00\"))"
   ]
  },
  {
   "cell_type": "code",
   "execution_count": 26,
   "metadata": {},
   "outputs": [
    {
     "data": {
      "text/plain": [
       "[<datagrid.Event at 0x7f6c207b9d20>,\n",
       " <datagrid.Event at 0x7f6c207b8d00>,\n",
       " <datagrid.Event at 0x7f6c207cda50>,\n",
       " <datagrid.Event at 0x7f6c207d26e0>,\n",
       " <datagrid.Event at 0x7f6c207ba3e0>,\n",
       " <datagrid.Event at 0x7f6c207bb550>,\n",
       " <datagrid.Event at 0x7f6c205e3c70>,\n",
       " <datagrid.Event at 0x7f6c207bb670>,\n",
       " <datagrid.Event at 0x7f6c207d0eb0>,\n",
       " <datagrid.Event at 0x7f6c205e07c0>,\n",
       " <datagrid.Event at 0x7f6c207d2830>,\n",
       " <datagrid.Event at 0x7f6c207cd930>,\n",
       " <datagrid.Event at 0x7f6c207cd5a0>,\n",
       " <datagrid.Event at 0x7f6c207bb010>,\n",
       " <datagrid.Event at 0x7f6c207bb2b0>,\n",
       " <datagrid.Event at 0x7f6c205e3b20>]"
      ]
     },
     "execution_count": 26,
     "metadata": {},
     "output_type": "execute_result"
    }
   ],
   "source": [
    "datagrid.search(column=\"count\", value=(18, 19))"
   ]
  },
  {
   "cell_type": "code",
   "execution_count": 27,
   "metadata": {},
   "outputs": [],
   "source": [
    "datagrid.search(\"name\", \"AL\")"
   ]
  },
  {
   "cell_type": "code",
   "execution_count": 28,
   "metadata": {},
   "outputs": [
    {
     "data": {
      "text/plain": [
       "[<datagrid.Event at 0x7f6c207d1060>,\n",
       " <datagrid.Event at 0x7f6c207b94e0>,\n",
       " <datagrid.Event at 0x7f6c207b8d90>,\n",
       " <datagrid.Event at 0x7f6c205e3190>,\n",
       " <datagrid.Event at 0x7f6c205e2b00>,\n",
       " <datagrid.Event at 0x7f6c205e3e50>,\n",
       " <datagrid.Event at 0x7f6c207bac50>,\n",
       " <datagrid.Event at 0x7f6c240d8d60>,\n",
       " <datagrid.Event at 0x7f6c207d1e70>,\n",
       " <datagrid.Event at 0x7f6c207bafe0>,\n",
       " <datagrid.Event at 0x7f6c205e19f0>,\n",
       " <datagrid.Event at 0x7f6c205e2140>,\n",
       " <datagrid.Event at 0x7f6c240a6140>,\n",
       " <datagrid.Event at 0x7f6c205e0850>,\n",
       " <datagrid.Event at 0x7f6c207d1fc0>,\n",
       " <datagrid.Event at 0x7f6c205e3130>,\n",
       " <datagrid.Event at 0x7f6c205e1d20>,\n",
       " <datagrid.Event at 0x7f6c207d0610>,\n",
       " <datagrid.Event at 0x7f6c205e3310>,\n",
       " <datagrid.Event at 0x7f6c205e14e0>,\n",
       " <datagrid.Event at 0x7f6c205e0070>,\n",
       " <datagrid.Event at 0x7f6c205e21a0>,\n",
       " <datagrid.Event at 0x7f6c205e25f0>,\n",
       " <datagrid.Event at 0x7f6c207d0ee0>,\n",
       " <datagrid.Event at 0x7f6c207b9060>,\n",
       " <datagrid.Event at 0x7f6c207cd720>,\n",
       " <datagrid.Event at 0x7f6c207cd600>,\n",
       " <datagrid.Event at 0x7f6c207d0f70>,\n",
       " <datagrid.Event at 0x7f6c207bb0a0>,\n",
       " <datagrid.Event at 0x7f6c205e03d0>,\n",
       " <datagrid.Event at 0x7f6c207bbbe0>,\n",
       " <datagrid.Event at 0x7f6c207bbb80>,\n",
       " <datagrid.Event at 0x7f6c205e3c10>,\n",
       " <datagrid.Event at 0x7f6c207d2680>,\n",
       " <datagrid.Event at 0x7f6c207d1cf0>,\n",
       " <datagrid.Event at 0x7f6c205e3ee0>,\n",
       " <datagrid.Event at 0x7f6c205e2410>,\n",
       " <datagrid.Event at 0x7f6c205e1750>,\n",
       " <datagrid.Event at 0x7f6c205e37c0>,\n",
       " <datagrid.Event at 0x7f6c205e3550>,\n",
       " <datagrid.Event at 0x7f6c205e0ac0>,\n",
       " <datagrid.Event at 0x7f6c205e0760>,\n",
       " <datagrid.Event at 0x7f6c207bb130>,\n",
       " <datagrid.Event at 0x7f6c207d2440>,\n",
       " <datagrid.Event at 0x7f6c207bb430>,\n",
       " <datagrid.Event at 0x7f6c207d1de0>,\n",
       " <datagrid.Event at 0x7f6c207b9c60>,\n",
       " <datagrid.Event at 0x7f6c207d0ac0>,\n",
       " <datagrid.Event at 0x7f6c207d1810>,\n",
       " <datagrid.Event at 0x7f6c207bb940>,\n",
       " <datagrid.Event at 0x7f6c205e0520>,\n",
       " <datagrid.Event at 0x7f6c205e1150>,\n",
       " <datagrid.Event at 0x7f6c205e2e90>,\n",
       " <datagrid.Event at 0x7f6c207b98d0>,\n",
       " <datagrid.Event at 0x7f6c205e3e20>,\n",
       " <datagrid.Event at 0x7f6c207cc580>,\n",
       " <datagrid.Event at 0x7f6c240d8280>,\n",
       " <datagrid.Event at 0x7f6c207d2a40>,\n",
       " <datagrid.Event at 0x7f6c207b98a0>,\n",
       " <datagrid.Event at 0x7f6c205e1d50>,\n",
       " <datagrid.Event at 0x7f6c205e36a0>,\n",
       " <datagrid.Event at 0x7f6c207d2110>,\n",
       " <datagrid.Event at 0x7f6c240d8c10>,\n",
       " <datagrid.Event at 0x7f6c207b9480>,\n",
       " <datagrid.Event at 0x7f6c205e23e0>,\n",
       " <datagrid.Event at 0x7f6c207cc070>,\n",
       " <datagrid.Event at 0x7f6c207ba3b0>,\n",
       " <datagrid.Event at 0x7f6c205e2d40>,\n",
       " <datagrid.Event at 0x7f6c205e34f0>,\n",
       " <datagrid.Event at 0x7f6c207bbf70>,\n",
       " <datagrid.Event at 0x7f6c205e07c0>,\n",
       " <datagrid.Event at 0x7f6c205e2770>,\n",
       " <datagrid.Event at 0x7f6c205e09d0>,\n",
       " <datagrid.Event at 0x7f6c207b8ee0>,\n",
       " <datagrid.Event at 0x7f6c205e2cb0>,\n",
       " <datagrid.Event at 0x7f6c207bac80>,\n",
       " <datagrid.Event at 0x7f6c207ba380>,\n",
       " <datagrid.Event at 0x7f6c207b9f00>,\n",
       " <datagrid.Event at 0x7f6c207d1a20>,\n",
       " <datagrid.Event at 0x7f6c205e3040>,\n",
       " <datagrid.Event at 0x7f6c207d1840>,\n",
       " <datagrid.Event at 0x7f6c205e3880>,\n",
       " <datagrid.Event at 0x7f6c207d1090>,\n",
       " <datagrid.Event at 0x7f6c205e0d90>]"
      ]
     },
     "execution_count": 28,
     "metadata": {},
     "output_type": "execute_result"
    }
   ],
   "source": [
    "datagrid.search(\"content\", \"XC\")"
   ]
  },
  {
   "cell_type": "markdown",
   "metadata": {},
   "source": [
    "### `.sort(column, direction = 'asc')`"
   ]
  },
  {
   "cell_type": "code",
   "execution_count": 29,
   "metadata": {},
   "outputs": [],
   "source": [
    "datagrid.sort(column=\"id\", direction=\"desc\")"
   ]
  },
  {
   "cell_type": "markdown",
   "metadata": {},
   "source": [
    "Now the `show()` method will show the sorted datagrid:"
   ]
  },
  {
   "cell_type": "code",
   "execution_count": 30,
   "metadata": {},
   "outputs": [
    {
     "name": "stdout",
     "output_type": "stream",
     "text": [
      "999 V7BES 2006/04/31 08:49:22 53  GD87I6TASGGG93JZM9CYHISD1PAR98GT3YN1BNYRX7ABLBA\n",
      "998 8ZH5D 2019/01/28 10:41:59 39 DODIBWVNOB 02OWGDDKOJ588699R6PVRKB0QYLPU463CNHTLUZFLIFG4XLZ32H45U3GUYNEQ04Q6JZJM16L9YHKKSNOHEQA8QDQAKL2OFGM6WHKV7QZMSVT55URGUX9VQM277IH7QNCW1NTLVFY6L61YDOHA39BOC9WZ3XKA3REQWDXJTZ7LGPPTDI5JFT38C35C0IJAQPEOI8A1KR45KXTPZH3KLBTU9Z\n",
      "997 4ZBIZ 2005/04/25 06:42:07 50 PGETJWFTLT O7TSEJHBAO9OIX5LIS26XAP5\n",
      "996 BJ0TX 2008/11/19 05:07:05 88 ZMUSIGRDBGHKOQG 4CU7RWJ6MEVEF6SK98JD2YQE5OC0REG0RF1AZSJP7FHPIM3EH0MYLIH2NLAJPH5JPUR8O1YD0UKD5EUZ17JH3G2WP2KS04BN6WOSD3DIU813ZBVO88UB29XRHNJ13JW9I3S8LRDN94S3EZSCLL3CA25WYKHSG7SXEDNGZN4L3KTZ74N2EWO6BXNHYOY4MMDBET3D3N5L7TTB72TXLV7TISHFU1N53D1FEKTCR7DRM7HLOJVYEEGMIJS1QPV85JB13MPPTSVR7SXZ8CCSG7L3O10E0LJ2RALC1AZA288S7VY62FML3J2C1R9Q36RVRZSQ5T1F8IPODG3E5DUQETMLGR52N5XI94FNHK4PP7E2LGUZCJNNV9E01MMFYCM\n",
      "995 Z5NC7 2001/04/05 21:12:16 47 INXSOHKYD REGM8RPHIM9JAJBZ3I26DHXL6EP40MM9EIJGHJECEV9G7E7G50LYZKW4RR5ED77N834OTL75ZB0C8V8B6IJLRAPT6IVX8FJPSU8TS1S5RAFXH8OCAXNHI0H14I2TZJBMKLMIEAK4VJ4OSFPB8PF8U8OJIRMFAE5OV4W1AKUU689UB55VOE6J80SGB4ZZ0R80AZ0CYK0HNYJXLQMAGZLLIX5NTPYZVZJ13QLUH\n",
      "992 4UWCH 2009/08/07 13:43:45 32 FZOPSDRPM 8P9BI3AWQZNOIV9Z6BRSJXFF9D8QLW01E979ER4KEER3FA23G9UBPW1KDVBYKFNB9UGWOW7WG64G9BA30RX2XVCJCFWDYU0GYBZI0FBGV0LO8M8HBTRMO1N9BPNNIR4ZZOB16ROOUK9GW9ZZFNH5JFJCVLJ4XEST2XUGC7Y189MN2OZSXQS28PG21N3EH9SFFWZZSQ22YKYO6Z3561NHK5A0INONFSWJX4\n",
      "989 STE9P 2003/11/10 16:57:57 32 ZLMCRVBVKXWRDFGGSXC E6ZZE2HHOH88GWXHU8L6T9R44PHOJBGLPFH9CGTI25MVHG6DJM68UKCMW91D8T1GBJ94V003WS7TUDLFATMTV6SU3VYCXE8UZVXOBV63O9NL013CJX54AC7BO4BT9QS9K8L78S8IRFB9BMOHRYFE8AFD2HPO2ARXUV47F7TZXWCQU6KYM1G0OSOX1HOQE3F66ZDK0BHIEY9RUCCP6LF8M47R965PQXE0O1OEFYU3E9KBZIW327J18L5X4M404JJFUOLZ3TLGCSV8BXE21MPFXLLAOLGGV9LDAX4T4LEKTPKWXVP5JJCBQP0TCREVT6KX27CCEQHLYGB3MF4YOBE\n",
      "988 ZIKIY 2011/07/31 03:32:51 45 VTHRNOKKE DNG0P31OKVCOF7QBMEW3FXRFK9TRXPR0UWI5803TA39DEL3UQHCIXBMII9AM4JFFHRMPKJLNU59F41QGWTFAZCPNMQCS4NDE6OYS6SARLWEWUCTVF08DL4ITW83OYXE7FVGZS41DNHXDGV4JL7HDH9QUVC654CT32SJTR27UEU6ZZVIAU6JWKVJYYXZPVJAF8G9VKUG57I39KXA5DIPISF8328SVKFSEKOJR5PGMOO94N1CC2XC0\n",
      "985 L6DTZ 2004/07/15 18:24:38 71 LNVHPOORNXVIYNHEC T1YDIC9M559MD8W4CKBXYQ5YSH9DAZLD1UZXTQ0Q9B46KQ8UC6JO7KX20ZUTBMYLAEFQPANVAVOET5GKNO23H4GL2FX2ZW3X5X0GURTBA0\n",
      "984 R7BOZ 2013/03/24 08:47:00 7 DLLGRFKFEI VXOE0K77FP47KY5CCN92BVGYJZ9O5UHISTX0S0JEBG4VAV3RK47W\n",
      "983 1YY63 2018/02/09 12:32:37 7 DQEVQDFDJTGL F00YIZG180ED3JN9OHXGN3W94RMVKIWGOKQLFCO6JQ6KHLU7MII\n"
     ]
    }
   ],
   "source": [
    "datagrid.show(0, 10, prints=True, returns=False)"
   ]
  },
  {
   "cell_type": "markdown",
   "metadata": {},
   "source": [
    "You can sort the data by whatever column you'd like."
   ]
  },
  {
   "cell_type": "code",
   "execution_count": 31,
   "metadata": {},
   "outputs": [],
   "source": [
    "datagrid.sort(column=\"count\", direction=\"desc\")"
   ]
  },
  {
   "cell_type": "code",
   "execution_count": 32,
   "metadata": {},
   "outputs": [
    {
     "name": "stdout",
     "output_type": "stream",
     "text": [
      "123 S8XCZ 2000/01/25 06:42:34 100 QX VZ6GZ5T3SD2AMI92E7TZ2SG83A8Z8HCWGAOJ09GI4C4OSP637YARM5T5JD14B0OSC81V28NQ5TAKT7RJ4TIBQ8OZD1HU5VLIIPPZEV3KFJ6EPTM9FBOYP3GXZ2A2NF8R3G204YLC3JGYWO0RWEY2NM94ZWCOP3DLX3HYJMDTZ0W65ICHIG5D5RIY688\n",
      "382 U0HPG 2002/01/14 17:18:05 100 FZXVRHWXPUMCSN 90NFOJGXKDBF2WHLYIMWKRJGJCOIBQ5C1XL42UZDFJKCFQRWYPJPZWHJA9JL8R152NRHY7WJEEH5BNMLR7J66LCA5KHNB1SCJFM9C9SFZ7TCYJNS4Z50NMMOS8SVS70MQQKQSZOET4MXO65VMSDZEHY8T7YIVSUF7K5F0WJ2TP8ZYXX2SKH0GB0L9I96VVRM3C6VQI3ZO00RUT57BPE9HDOFR34YWV8W6TNCCOAO49SA8JGFXNNT17FT6Z1QR6YAXPGZMPEIXEUX744GHFL6J5YQIYRZU42D4FSNX7ZO8DU6AY3Q72995OJ20DFQAMTKRVUVJ0CWSJ36TT77B7MBIEX\n",
      "564 MSFB0 2012/12/09 08:14:32 100 HBOYOPEXNUKJS DA1AQREEB1K6ZAQC5G00962DHNFT222ZKBXTYMIJEJYWRGFBX5RHIV0E3K4F2RG24REK3WLYD0OFE2MG2PJAIG0ZK4AI1X2TA56DMP8CIF4XX0V7QA62ROEJV77RG3435DKIBWCRQ01CYX1UXUKZKIZCETVMYU00OV6TUV8LCGQBR7AX2SD3I8X3QTONR3JPU4GYQOUKFBN4L9HE62GDQ4Z7JXODS4JUF18FF5JE7F3LDKM8MID6EIXIPOBP6M9GPBOM2K2LLVF3AG6I4JRQRDJGKV36MWCLIQU8ON5QU6SU8I62MWUL3S2RAWNJVJMM8LX7B4JD8RW7TTHPB9X0PS9PDZ8XWNZM6BBYH3PVR16XHLCFUEA\n",
      "735 R0O1M 2014/04/08 22:42:52 100 WFKWEPWM 8ZIGC59A4KZHT2BFB30GBJL4AT9OEDF0L9HZQ765MD568ZNJH02IJKPJYE9TW2PZXE1BGU9SU4BSZ7GIHHEONTOSK5D438SAG4YDV7WSMDE9FVYKTMNIVI7KRV6OUQZY9IK8Y65\n",
      "279 C8LTI 2013/07/21 11:03:31 99 VVNEBVZMYQBFYGN HJKN0XPD790VMBC41HV9B2XBXF2TT62L6EK3ZFU9T7WYRQPQC774O7C114L9LRUK5RF5BHYZZ7L4P9OWIBZE8CCGNITUSRG4ON2C82Y899929FXUUPPF8YP47DZPVC78DWKQBU63YU3VECK6G46BU8G5AXFE43I8Q2UVL7OW74890XFLFWZV8LXH3JV2C53BYKRXUEPXNOPFHM9WUDH3E8BAEN188UJ4H8P2YITF0GPPJQD57BUH8HUJWVDMOESKDG635WVLHZ9OIGZ2NEV2D4JJF0TWEJ5LU6US9O16ZRPACPXTTH0CP65T82ADQIG3Q0F6A3T5YYTMH8WEMAM82EBG8OKFKO0\n",
      "469 IF0QL 2020/10/20 22:24:06 99 TQBEBC CDZO7CM3SHYHRXT4PFBDZWVHOPFPA7HH1TTKWL0XM5BMAQ87F086QXBHSBXXUXO9BOR5W2Z4RZAR3CO93ZV4GA2DMAWZ4114JGG5IO4AIIJ1E4ZMHLG5VDYFWA9S3ML6424ML\n",
      "480 1I4C6 2008/03/03 02:02:17 99 XGMQMDHYWUZJBTBUSC D363G68JAOBQVSBO0RATN4R0DSY7XDGFU7B6L56N7276L78SUZIZJ9DM7J8GXW071J19YPZZZW5ZUUF9HR579XL8Z832NJ157DF5UJT98Q2QHYEX06H9L2KAW9LH2JL26SLKH3ZPG1NAXJOEFQ3112HES4JV4FSRNGW6SA\n",
      "511 3HL1D 2004/11/29 23:39:51 99 SDUPTYLCHQGL N5UC6FIMD70BKKVIPKXOGV0HTXR97YG681SR86WSLB6YWNYH59N47HJSNWMYG1Q0GVEQARSWMC0UR950BYAPRAT8JJN92J3U9IL0K9PTRFIUD72TR5GTV7278C24GFBMBK69KUJBV2RZDUS4O57E6F454WAL1GWN48H6O4296T2VCQSZPGIXGU69UYS0QU1RFXB5AO37RVKJAE4IEUXMQZTHDEDTFCRJFUGWWQ86R4AIHZBRNHLXRBQ5LMLTCC79L6DXVNRD8H5K5YT7K01TFT38UBY0V0SW1DSY9H7WLFPFF7GFOJUZBF4EA7HLC1USQIKU8CN91MSNOL4Z\n",
      "698 TF10Y 2018/05/29 15:57:26 99 WTXREJJOEH 4J2U1MDHBKWFNR4T26L4FZHV2CPZT7U0WQERQ7S3VS7CN41FTNQRJLWHVG46YYB22KV5WOJH1XCWOMQHS7Q6H4VXKT0T4W2TA1M7MGSTKTONF1HTK6ULMF7XOZM4DS5FP0V6ZEQS47M17D281PNMOX1OG1HMQ042HVTPQGANNK7R0X33BXRPPJK8QOYYL81JM65G87YNY75J3QQ6P9VESIXUXLGB7P3UZ2V2B5DRJEMV8FON1KAUWWDM4875KTF7EYSGPV\n",
      "862 IUO6O 2007/01/23 17:45:52 99 IVOBELYSHEMJISQO 8IGZXYEGG7W77JLVWBZOHGA9HU4BXP9F3K59CLYX3LP7Q66YHBUDL5X2KFUL9E592EDQR9SCB4H6NV3BD19HWUELXAJVGKN0MDJJ67RMSA07EZHQ819LV0SKNR28WHPSS9U86A40GQTFS1GGT7P6KZ9JDNWK0F2QULOQF9BAZSEP85FK8P9023759L2ZEXIYZ2HCT1Z21HTSEIM0M7M835QL6ZL95M2A9YO29L1SVUE3EU4AUB3HINTNTPHN2U2WGZIV207MUAP4OLT2KZ9M3BKNQ8VHASI00YESEDTJJC8TW6PVGKRDJ36HMVG6BBDJB0LYFT5JA539BR2SVXJ86UPE\n",
      "554 32L32 2002/01/17 23:40:25 98 FHVQX CYCJJOXN1QIE84QGJPWZG7CATBX54TBPB8ONV288AR0M3J0JJ4VVJQ0JIGD3GNDNW69CB4HDFRVH07QKOA4JUZ45P0GK8KMDDJ30R11HJGP4J86WNOPLGVV49GIGASNHCEG4TT5RCTJ7MEFZZS1ZST8TLCEKZ252USFU72YMG7RA3QIJWLPHKGX4LH9YWCGEP2RQEV1IN3D4DAZWODLU0AAWN5XR6IMRTSSKNKYSJ873TIZNEENOXW1OALLK5K1AKMUX97CVCYXGG5RM2F7YI5A7C5QGG1TW1A35AG7VT0YNWDUGC3IK7R1NICNA7E58T0O16LNGA9WAP6L2A6NYRT08L9AR4EVM2O\n",
      "683 PBMTU 2012/07/10 22:53:18 98 OJLMST 3Z\n",
      "13 E0OIW 2020/09/14 05:02:36 97 GFUIDGPCTLPHVMGE 3Q2QMOQH0TI41R7YWK5BBYU7BWOH9F2CT4JESKDV0TTZAOB4WD8JHBPUTXOX4W2R8TO1QAXJ4AXZSHT92DWGZC3EMPRVFH4HB0MFKP2PFAYCUVLVK95AOLL9MEJJ1AJXO8V7Q1ISPVC7UD9L84M4BC3R5PQKWSTIVGEFSGEBWXR01S59RBUQL8EHUEI15NOG84ZQJ142HOTXPN62IQ9PGGD3X126HI4KKTCPRNX29PO586JY3F2NU6V1C5MKAZVROKB5VXH0H7I8KP4H8TPU99OD5TQIKTSCBAJ3DYORCN0FLDAPT7VTKPCH7RQOWA1CSE3N2DYIAFG750NWVV3QE4KS2HVQDX7R0GROVUSFB2YA\n",
      "158 0XHI9 2008/04/20 23:23:28 97 MJ IY7V5V0047WLYJHPMLFPUS7T7BDUWK7IPK274PJPSLRG648QVIBTVRQ2QDUPKV1OV9WSRWTLP18H97TA0WBP9SFHYTV8PT4RZ4DPXXVP864ZCRVFCKW3YBYX8HX6QW9LMBSEQT7Q1VKT8B066WMM0FBAMQ2TASRFWEC8LF7Y2VC6Q45PV0H7NLDVUDVJNUWQT0YJTHQDOGF4MB4D4CZXD5CIP3HJPPFEM9WGWPIHCDXGUR9CUKF86VGQTIU5N2W3I7JRSCFDA2FFODHPFVE3SW1N3Y6ZZ8VH3ZVQAEKTL636DHJXN0TQMOI3DAELBX05N0YXAHDWI3YT4JH3VHK111Q6B0Q7LP5KY49CBU669\n",
      "231 7HJZI 2014/11/08 06:30:28 97 KEWUYRRCFEMKQDCD HIAJ9RFIJKP74AOTN7PXDJCOUTGNPYOORMIBPA7WH3CSCW72NIY377JMZESMFW15XLHN0LDN3ZGWGVQEE5F2GLYP5LJH510EJNJIWREQ1DCW09C5DFWLN17UFFGPM56ORHZ22UD3K9GE8MGIZ1VZVYMDBFHTVYBPBN9BYL5PN18OZ3UFKPGY2OGP7IIW3R23W47KI3YR2GK9YQ2I8KHLUT2L6FPE4TKXU09HPD5WFFZB0JM0TH3PHFC1KIVMQZXIXHPQMN6MBM5PVPCEO06YYJ\n",
      "331 3CPGB 2004/05/18 07:35:16 97 SOH R16IH1WVGO1IW6SXALWCY3D0S2MN2VFZIGEZDBQK6SAAO2MTDQOEHQ25X40LSMM2DVN47SCQKN08N2Y0GG494ES1UHVWDI4RDC0R99YUYL3V2Q6BWR831R5GNY47Q11382O8P7TLG5X9M1GWPH4FDS3FBH9UWUFTX2767ZKF6LP1ICD581GECKECF0J5UF9YIRDOSC3GTVM3IV2JJ0E5LKXMN0KHYMCSC072YC48LZYGN2U9TP26AT6B5ND1FSVM8J5L4A83SNZO8E9ZK2KU2F6ZLJNAI4G3GHW4CIKVZX6HNHHYVLN4KKHG8B6DYYBKUHMXZ3766GXOKMD1CBWX6QPTLCAZDQHURSS205WG\n",
      "512 XOHHU 2018/01/22 19:55:04 97 M BWXJQDYBC08DLH9IRZV4NMDD5MNK5ODI4CKLA96OBWPDHXC7NWT4Q1CW10R083B0W7G1AYKL7N7HQL6LSSDJSXLXXPHOSEH0WZH7FEZPNK5YAAGJBBWALPF3N3VOVPYMN046Q9NYOJU8BMMTJOKDYT4S7X3LPUEOHZV3CFD3164VCV4SHUU4F89ZU0M5XPO4UHVCUWSO087Q4C4J0SUJAFU6VI62UCUEOR4F46XDP8AP8EIOKHR8V7XKDQIU2KRJ4X4X\n",
      "784 0MGQ0 2019/11/16 09:28:56 97 YGJ 0F55XOMCR3JHJV1NJWYYHP0UF6I58A2EC60WP8VI21DC69OJLK066VEV9WG12PKV2B7DRT9TSE75DZJUM7ECDARY1FO3CKAN81VZL0DKYXHPOSS3O6P5544LFDCY4XEJLS360HZU18ZRYVFI1RXBA1AL0EYSJVCWJ04BB5VH\n",
      "811 RU9RO 2002/03/11 23:16:38 97 DOXQRMLP SHWFEZXZHWL6F0K0MQA6VS5Y4E1GNDOD2VSJZDLNRAXYQFDYCMAD0A8REMSER9ST1A1NAJVCPM6NV9IDTH9JCD4QA75J01RJQ3YWC7EC45670R4YH6EHHKW3OJIY83E2M3Y7R1I1XR5SUOWY91HTXESXK5PUGDS3PECZFKDMNASTF43FQD20B22Q2YC7P8MQFKGAC6SSDAJG2ZKGYRK0QKBX0XPHJATGCREJZI76G802BYLRFRG1YQ5D90NB6E8HM0O47CPK07AFIFCKAI5421KVB935IQGZ0F8BF61M\n",
      "617 XDO5X 2014/03/30 06:30:17 96 EXHLXQZMFUZZH A11PLJ7QA3ID7SK5OMM6DA8KRKBLLA77GELROVORHMM6KFP2LWP8HBZRQUUA5A48D41GY2O9JAVEGBO9U0GUXCWKEL06E3N65NGGZS18YRWNTHZJ03E53HST4PII94SOGGIT0WFV2FP6ENZ9OIJF9P7OGC1L2ZFWDE1OLPYJVNK0S2T0GCLP5NDTVFN1T3L6QIT99DGJZ205OTE3J88XJEHRVPEKCXLG2DKGXAO6EWV0X5DL9RL9ITQMRS62H2H97XJWTPUG9HDZSIBAEHJYYUUO7PDBVOI8XTITSKTXVUN6497QUQ5ROCFY1DEMZWU1AW004AB02S9AID9UZIB7N\n",
      "791 DHCXP 2006/08/11 17:43:55 96 ESFBYRRWUCISOVZPTB FLCYUITDAAAJ7S8QZ4RNEGZ454MCI4TDGS1HF8CQEABV06DMUVOH26DANRS6G56DDP9EDAEA1385UN2SH8Y94G2KZHYJLFGXKMVCO8G\n"
     ]
    }
   ],
   "source": [
    "datagrid.show(0, 20, prints=True, returns=False)"
   ]
  },
  {
   "cell_type": "markdown",
   "metadata": {},
   "source": [
    "If you want to delete according to the position in the sorted dataframe, you can use the `delete_row()` method:"
   ]
  },
  {
   "cell_type": "code",
   "execution_count": 33,
   "metadata": {},
   "outputs": [],
   "source": [
    "datagrid.delete_row(column=\"position\", value=1)"
   ]
  },
  {
   "cell_type": "code",
   "execution_count": 34,
   "metadata": {},
   "outputs": [
    {
     "name": "stdout",
     "output_type": "stream",
     "text": [
      "123 S8XCZ 2000/01/25 06:42:34 100 QX VZ6GZ5T3SD2AMI92E7TZ2SG83A8Z8HCWGAOJ09GI4C4OSP637YARM5T5JD14B0OSC81V28NQ5TAKT7RJ4TIBQ8OZD1HU5VLIIPPZEV3KFJ6EPTM9FBOYP3GXZ2A2NF8R3G204YLC3JGYWO0RWEY2NM94ZWCOP3DLX3HYJMDTZ0W65ICHIG5D5RIY688\n",
      "564 MSFB0 2012/12/09 08:14:32 100 HBOYOPEXNUKJS DA1AQREEB1K6ZAQC5G00962DHNFT222ZKBXTYMIJEJYWRGFBX5RHIV0E3K4F2RG24REK3WLYD0OFE2MG2PJAIG0ZK4AI1X2TA56DMP8CIF4XX0V7QA62ROEJV77RG3435DKIBWCRQ01CYX1UXUKZKIZCETVMYU00OV6TUV8LCGQBR7AX2SD3I8X3QTONR3JPU4GYQOUKFBN4L9HE62GDQ4Z7JXODS4JUF18FF5JE7F3LDKM8MID6EIXIPOBP6M9GPBOM2K2LLVF3AG6I4JRQRDJGKV36MWCLIQU8ON5QU6SU8I62MWUL3S2RAWNJVJMM8LX7B4JD8RW7TTHPB9X0PS9PDZ8XWNZM6BBYH3PVR16XHLCFUEA\n",
      "735 R0O1M 2014/04/08 22:42:52 100 WFKWEPWM 8ZIGC59A4KZHT2BFB30GBJL4AT9OEDF0L9HZQ765MD568ZNJH02IJKPJYE9TW2PZXE1BGU9SU4BSZ7GIHHEONTOSK5D438SAG4YDV7WSMDE9FVYKTMNIVI7KRV6OUQZY9IK8Y65\n",
      "279 C8LTI 2013/07/21 11:03:31 99 VVNEBVZMYQBFYGN HJKN0XPD790VMBC41HV9B2XBXF2TT62L6EK3ZFU9T7WYRQPQC774O7C114L9LRUK5RF5BHYZZ7L4P9OWIBZE8CCGNITUSRG4ON2C82Y899929FXUUPPF8YP47DZPVC78DWKQBU63YU3VECK6G46BU8G5AXFE43I8Q2UVL7OW74890XFLFWZV8LXH3JV2C53BYKRXUEPXNOPFHM9WUDH3E8BAEN188UJ4H8P2YITF0GPPJQD57BUH8HUJWVDMOESKDG635WVLHZ9OIGZ2NEV2D4JJF0TWEJ5LU6US9O16ZRPACPXTTH0CP65T82ADQIG3Q0F6A3T5YYTMH8WEMAM82EBG8OKFKO0\n",
      "469 IF0QL 2020/10/20 22:24:06 99 TQBEBC CDZO7CM3SHYHRXT4PFBDZWVHOPFPA7HH1TTKWL0XM5BMAQ87F086QXBHSBXXUXO9BOR5W2Z4RZAR3CO93ZV4GA2DMAWZ4114JGG5IO4AIIJ1E4ZMHLG5VDYFWA9S3ML6424ML\n",
      "480 1I4C6 2008/03/03 02:02:17 99 XGMQMDHYWUZJBTBUSC D363G68JAOBQVSBO0RATN4R0DSY7XDGFU7B6L56N7276L78SUZIZJ9DM7J8GXW071J19YPZZZW5ZUUF9HR579XL8Z832NJ157DF5UJT98Q2QHYEX06H9L2KAW9LH2JL26SLKH3ZPG1NAXJOEFQ3112HES4JV4FSRNGW6SA\n"
     ]
    }
   ],
   "source": [
    "datagrid.show(0, 5, prints=True, returns=False)"
   ]
  },
  {
   "cell_type": "code",
   "execution_count": 35,
   "metadata": {},
   "outputs": [
    {
     "data": {
      "text/plain": [
       "[<datagrid.Event at 0x7f6c207bb5b0>,\n",
       " <datagrid.Event at 0x7f6c205e12a0>,\n",
       " <datagrid.Event at 0x7f6c205e2590>,\n",
       " <datagrid.Event at 0x7f6c207d2530>,\n",
       " <datagrid.Event at 0x7f6c205e3e80>,\n",
       " <datagrid.Event at 0x7f6c207cca00>]"
      ]
     },
     "execution_count": 35,
     "metadata": {},
     "output_type": "execute_result"
    }
   ],
   "source": [
    "datagrid.show(0, 5, prints=False, returns=True)"
   ]
  },
  {
   "cell_type": "markdown",
   "metadata": {},
   "source": [
    "### `.select_count(i, j)`"
   ]
  },
  {
   "cell_type": "markdown",
   "metadata": {},
   "source": [
    "This method returns the entries between $i$ and $j$, $[i, j]$, considering the `count` feature sorted in ascending order."
   ]
  },
  {
   "cell_type": "code",
   "execution_count": 36,
   "metadata": {},
   "outputs": [
    {
     "data": {
      "text/plain": [
       "[<datagrid.Event at 0x7f6c205e2230>,\n",
       " <datagrid.Event at 0x7f6c207d0e20>,\n",
       " <datagrid.Event at 0x7f6c207d1810>,\n",
       " <datagrid.Event at 0x7f6c207cc6a0>,\n",
       " <datagrid.Event at 0x7f6c207d0910>,\n",
       " <datagrid.Event at 0x7f6c205e29e0>,\n",
       " <datagrid.Event at 0x7f6c207d0ac0>,\n",
       " <datagrid.Event at 0x7f6c207bb220>,\n",
       " <datagrid.Event at 0x7f6c207d0a60>,\n",
       " <datagrid.Event at 0x7f6c207cd8a0>,\n",
       " <datagrid.Event at 0x7f6c205e3e50>]"
      ]
     },
     "execution_count": 36,
     "metadata": {},
     "output_type": "execute_result"
    }
   ],
   "source": [
    "# to use median-of-medians\n",
    "datagrid.select_count(0, 10, how=\"median-of-medians\")"
   ]
  },
  {
   "cell_type": "code",
   "execution_count": 37,
   "metadata": {},
   "outputs": [
    {
     "data": {
      "text/plain": [
       "[<datagrid.Event at 0x7f6c240a5f60>,\n",
       " <datagrid.Event at 0x7f6c205e20e0>,\n",
       " <datagrid.Event at 0x7f6c205e2230>,\n",
       " <datagrid.Event at 0x7f6c207bb9d0>,\n",
       " <datagrid.Event at 0x7f6c207d1810>,\n",
       " <datagrid.Event at 0x7f6c207d0e20>,\n",
       " <datagrid.Event at 0x7f6c207d1270>,\n",
       " <datagrid.Event at 0x7f6c207d1f00>,\n",
       " <datagrid.Event at 0x7f6c207bb220>,\n",
       " <datagrid.Event at 0x7f6c207d0a60>,\n",
       " <datagrid.Event at 0x7f6c207cc6a0>]"
      ]
     },
     "execution_count": 37,
     "metadata": {},
     "output_type": "execute_result"
    }
   ],
   "source": [
    "# to use quickselect\n",
    "datagrid.select_count(0, 10, how = \"quickselect\")"
   ]
  },
  {
   "cell_type": "code",
   "execution_count": 38,
   "metadata": {},
   "outputs": [
    {
     "data": {
      "text/plain": [
       "[<datagrid.Event at 0x7f6c205e20e0>,\n",
       " <datagrid.Event at 0x7f6c240a5f60>,\n",
       " <datagrid.Event at 0x7f6c205e2230>,\n",
       " <datagrid.Event at 0x7f6c207d1810>,\n",
       " <datagrid.Event at 0x7f6c207bb9d0>,\n",
       " <datagrid.Event at 0x7f6c207d0e20>,\n",
       " <datagrid.Event at 0x7f6c207d1f00>,\n",
       " <datagrid.Event at 0x7f6c207d1270>,\n",
       " <datagrid.Event at 0x7f6c205e29e0>,\n",
       " <datagrid.Event at 0x7f6c207cc6a0>,\n",
       " <datagrid.Event at 0x7f6c207d0ac0>]"
      ]
     },
     "execution_count": 38,
     "metadata": {},
     "output_type": "execute_result"
    }
   ],
   "source": [
    "# to use heapsort\n",
    "datagrid.select_count(0, 10, how=\"heapsort\")"
   ]
  },
  {
   "cell_type": "markdown",
   "metadata": {},
   "source": [
    "Also, the `select_count()` method does not change the internal state of the data structure, which can be confirmed by the `.show()` method. It shows the result of the last-applied sorting, before the `select_count()`."
   ]
  },
  {
   "cell_type": "code",
   "execution_count": 39,
   "metadata": {},
   "outputs": [
    {
     "name": "stdout",
     "output_type": "stream",
     "text": [
      "123 S8XCZ 2000/01/25 06:42:34 100 QX VZ6GZ5T3SD2AMI92E7TZ2SG83A8Z8HCWGAOJ09GI4C4OSP637YARM5T5JD14B0OSC81V28NQ5TAKT7RJ4TIBQ8OZD1HU5VLIIPPZEV3KFJ6EPTM9FBOYP3GXZ2A2NF8R3G204YLC3JGYWO0RWEY2NM94ZWCOP3DLX3HYJMDTZ0W65ICHIG5D5RIY688\n",
      "564 MSFB0 2012/12/09 08:14:32 100 HBOYOPEXNUKJS DA1AQREEB1K6ZAQC5G00962DHNFT222ZKBXTYMIJEJYWRGFBX5RHIV0E3K4F2RG24REK3WLYD0OFE2MG2PJAIG0ZK4AI1X2TA56DMP8CIF4XX0V7QA62ROEJV77RG3435DKIBWCRQ01CYX1UXUKZKIZCETVMYU00OV6TUV8LCGQBR7AX2SD3I8X3QTONR3JPU4GYQOUKFBN4L9HE62GDQ4Z7JXODS4JUF18FF5JE7F3LDKM8MID6EIXIPOBP6M9GPBOM2K2LLVF3AG6I4JRQRDJGKV36MWCLIQU8ON5QU6SU8I62MWUL3S2RAWNJVJMM8LX7B4JD8RW7TTHPB9X0PS9PDZ8XWNZM6BBYH3PVR16XHLCFUEA\n",
      "735 R0O1M 2014/04/08 22:42:52 100 WFKWEPWM 8ZIGC59A4KZHT2BFB30GBJL4AT9OEDF0L9HZQ765MD568ZNJH02IJKPJYE9TW2PZXE1BGU9SU4BSZ7GIHHEONTOSK5D438SAG4YDV7WSMDE9FVYKTMNIVI7KRV6OUQZY9IK8Y65\n",
      "279 C8LTI 2013/07/21 11:03:31 99 VVNEBVZMYQBFYGN HJKN0XPD790VMBC41HV9B2XBXF2TT62L6EK3ZFU9T7WYRQPQC774O7C114L9LRUK5RF5BHYZZ7L4P9OWIBZE8CCGNITUSRG4ON2C82Y899929FXUUPPF8YP47DZPVC78DWKQBU63YU3VECK6G46BU8G5AXFE43I8Q2UVL7OW74890XFLFWZV8LXH3JV2C53BYKRXUEPXNOPFHM9WUDH3E8BAEN188UJ4H8P2YITF0GPPJQD57BUH8HUJWVDMOESKDG635WVLHZ9OIGZ2NEV2D4JJF0TWEJ5LU6US9O16ZRPACPXTTH0CP65T82ADQIG3Q0F6A3T5YYTMH8WEMAM82EBG8OKFKO0\n",
      "469 IF0QL 2020/10/20 22:24:06 99 TQBEBC CDZO7CM3SHYHRXT4PFBDZWVHOPFPA7HH1TTKWL0XM5BMAQ87F086QXBHSBXXUXO9BOR5W2Z4RZAR3CO93ZV4GA2DMAWZ4114JGG5IO4AIIJ1E4ZMHLG5VDYFWA9S3ML6424ML\n",
      "480 1I4C6 2008/03/03 02:02:17 99 XGMQMDHYWUZJBTBUSC D363G68JAOBQVSBO0RATN4R0DSY7XDGFU7B6L56N7276L78SUZIZJ9DM7J8GXW071J19YPZZZW5ZUUF9HR579XL8Z832NJ157DF5UJT98Q2QHYEX06H9L2KAW9LH2JL26SLKH3ZPG1NAXJOEFQ3112HES4JV4FSRNGW6SA\n",
      "511 3HL1D 2004/11/29 23:39:51 99 SDUPTYLCHQGL N5UC6FIMD70BKKVIPKXOGV0HTXR97YG681SR86WSLB6YWNYH59N47HJSNWMYG1Q0GVEQARSWMC0UR950BYAPRAT8JJN92J3U9IL0K9PTRFIUD72TR5GTV7278C24GFBMBK69KUJBV2RZDUS4O57E6F454WAL1GWN48H6O4296T2VCQSZPGIXGU69UYS0QU1RFXB5AO37RVKJAE4IEUXMQZTHDEDTFCRJFUGWWQ86R4AIHZBRNHLXRBQ5LMLTCC79L6DXVNRD8H5K5YT7K01TFT38UBY0V0SW1DSY9H7WLFPFF7GFOJUZBF4EA7HLC1USQIKU8CN91MSNOL4Z\n",
      "698 TF10Y 2018/05/29 15:57:26 99 WTXREJJOEH 4J2U1MDHBKWFNR4T26L4FZHV2CPZT7U0WQERQ7S3VS7CN41FTNQRJLWHVG46YYB22KV5WOJH1XCWOMQHS7Q6H4VXKT0T4W2TA1M7MGSTKTONF1HTK6ULMF7XOZM4DS5FP0V6ZEQS47M17D281PNMOX1OG1HMQ042HVTPQGANNK7R0X33BXRPPJK8QOYYL81JM65G87YNY75J3QQ6P9VESIXUXLGB7P3UZ2V2B5DRJEMV8FON1KAUWWDM4875KTF7EYSGPV\n",
      "862 IUO6O 2007/01/23 17:45:52 99 IVOBELYSHEMJISQO 8IGZXYEGG7W77JLVWBZOHGA9HU4BXP9F3K59CLYX3LP7Q66YHBUDL5X2KFUL9E592EDQR9SCB4H6NV3BD19HWUELXAJVGKN0MDJJ67RMSA07EZHQ819LV0SKNR28WHPSS9U86A40GQTFS1GGT7P6KZ9JDNWK0F2QULOQF9BAZSEP85FK8P9023759L2ZEXIYZ2HCT1Z21HTSEIM0M7M835QL6ZL95M2A9YO29L1SVUE3EU4AUB3HINTNTPHN2U2WGZIV207MUAP4OLT2KZ9M3BKNQ8VHASI00YESEDTJJC8TW6PVGKRDJ36HMVG6BBDJB0LYFT5JA539BR2SVXJ86UPE\n",
      "554 32L32 2002/01/17 23:40:25 98 FHVQX CYCJJOXN1QIE84QGJPWZG7CATBX54TBPB8ONV288AR0M3J0JJ4VVJQ0JIGD3GNDNW69CB4HDFRVH07QKOA4JUZ45P0GK8KMDDJ30R11HJGP4J86WNOPLGVV49GIGASNHCEG4TT5RCTJ7MEFZZS1ZST8TLCEKZ252USFU72YMG7RA3QIJWLPHKGX4LH9YWCGEP2RQEV1IN3D4DAZWODLU0AAWN5XR6IMRTSSKNKYSJ873TIZNEENOXW1OALLK5K1AKMUX97CVCYXGG5RM2F7YI5A7C5QGG1TW1A35AG7VT0YNWDUGC3IK7R1NICNA7E58T0O16LNGA9WAP6L2A6NYRT08L9AR4EVM2O\n",
      "683 PBMTU 2012/07/10 22:53:18 98 OJLMST 3Z\n",
      "13 E0OIW 2020/09/14 05:02:36 97 GFUIDGPCTLPHVMGE 3Q2QMOQH0TI41R7YWK5BBYU7BWOH9F2CT4JESKDV0TTZAOB4WD8JHBPUTXOX4W2R8TO1QAXJ4AXZSHT92DWGZC3EMPRVFH4HB0MFKP2PFAYCUVLVK95AOLL9MEJJ1AJXO8V7Q1ISPVC7UD9L84M4BC3R5PQKWSTIVGEFSGEBWXR01S59RBUQL8EHUEI15NOG84ZQJ142HOTXPN62IQ9PGGD3X126HI4KKTCPRNX29PO586JY3F2NU6V1C5MKAZVROKB5VXH0H7I8KP4H8TPU99OD5TQIKTSCBAJ3DYORCN0FLDAPT7VTKPCH7RQOWA1CSE3N2DYIAFG750NWVV3QE4KS2HVQDX7R0GROVUSFB2YA\n",
      "158 0XHI9 2008/04/20 23:23:28 97 MJ IY7V5V0047WLYJHPMLFPUS7T7BDUWK7IPK274PJPSLRG648QVIBTVRQ2QDUPKV1OV9WSRWTLP18H97TA0WBP9SFHYTV8PT4RZ4DPXXVP864ZCRVFCKW3YBYX8HX6QW9LMBSEQT7Q1VKT8B066WMM0FBAMQ2TASRFWEC8LF7Y2VC6Q45PV0H7NLDVUDVJNUWQT0YJTHQDOGF4MB4D4CZXD5CIP3HJPPFEM9WGWPIHCDXGUR9CUKF86VGQTIU5N2W3I7JRSCFDA2FFODHPFVE3SW1N3Y6ZZ8VH3ZVQAEKTL636DHJXN0TQMOI3DAELBX05N0YXAHDWI3YT4JH3VHK111Q6B0Q7LP5KY49CBU669\n",
      "231 7HJZI 2014/11/08 06:30:28 97 KEWUYRRCFEMKQDCD HIAJ9RFIJKP74AOTN7PXDJCOUTGNPYOORMIBPA7WH3CSCW72NIY377JMZESMFW15XLHN0LDN3ZGWGVQEE5F2GLYP5LJH510EJNJIWREQ1DCW09C5DFWLN17UFFGPM56ORHZ22UD3K9GE8MGIZ1VZVYMDBFHTVYBPBN9BYL5PN18OZ3UFKPGY2OGP7IIW3R23W47KI3YR2GK9YQ2I8KHLUT2L6FPE4TKXU09HPD5WFFZB0JM0TH3PHFC1KIVMQZXIXHPQMN6MBM5PVPCEO06YYJ\n",
      "331 3CPGB 2004/05/18 07:35:16 97 SOH R16IH1WVGO1IW6SXALWCY3D0S2MN2VFZIGEZDBQK6SAAO2MTDQOEHQ25X40LSMM2DVN47SCQKN08N2Y0GG494ES1UHVWDI4RDC0R99YUYL3V2Q6BWR831R5GNY47Q11382O8P7TLG5X9M1GWPH4FDS3FBH9UWUFTX2767ZKF6LP1ICD581GECKECF0J5UF9YIRDOSC3GTVM3IV2JJ0E5LKXMN0KHYMCSC072YC48LZYGN2U9TP26AT6B5ND1FSVM8J5L4A83SNZO8E9ZK2KU2F6ZLJNAI4G3GHW4CIKVZX6HNHHYVLN4KKHG8B6DYYBKUHMXZ3766GXOKMD1CBWX6QPTLCAZDQHURSS205WG\n",
      "512 XOHHU 2018/01/22 19:55:04 97 M BWXJQDYBC08DLH9IRZV4NMDD5MNK5ODI4CKLA96OBWPDHXC7NWT4Q1CW10R083B0W7G1AYKL7N7HQL6LSSDJSXLXXPHOSEH0WZH7FEZPNK5YAAGJBBWALPF3N3VOVPYMN046Q9NYOJU8BMMTJOKDYT4S7X3LPUEOHZV3CFD3164VCV4SHUU4F89ZU0M5XPO4UHVCUWSO087Q4C4J0SUJAFU6VI62UCUEOR4F46XDP8AP8EIOKHR8V7XKDQIU2KRJ4X4X\n",
      "784 0MGQ0 2019/11/16 09:28:56 97 YGJ 0F55XOMCR3JHJV1NJWYYHP0UF6I58A2EC60WP8VI21DC69OJLK066VEV9WG12PKV2B7DRT9TSE75DZJUM7ECDARY1FO3CKAN81VZL0DKYXHPOSS3O6P5544LFDCY4XEJLS360HZU18ZRYVFI1RXBA1AL0EYSJVCWJ04BB5VH\n",
      "811 RU9RO 2002/03/11 23:16:38 97 DOXQRMLP SHWFEZXZHWL6F0K0MQA6VS5Y4E1GNDOD2VSJZDLNRAXYQFDYCMAD0A8REMSER9ST1A1NAJVCPM6NV9IDTH9JCD4QA75J01RJQ3YWC7EC45670R4YH6EHHKW3OJIY83E2M3Y7R1I1XR5SUOWY91HTXESXK5PUGDS3PECZFKDMNASTF43FQD20B22Q2YC7P8MQFKGAC6SSDAJG2ZKGYRK0QKBX0XPHJATGCREJZI76G802BYLRFRG1YQ5D90NB6E8HM0O47CPK07AFIFCKAI5421KVB935IQGZ0F8BF61M\n",
      "617 XDO5X 2014/03/30 06:30:17 96 EXHLXQZMFUZZH A11PLJ7QA3ID7SK5OMM6DA8KRKBLLA77GELROVORHMM6KFP2LWP8HBZRQUUA5A48D41GY2O9JAVEGBO9U0GUXCWKEL06E3N65NGGZS18YRWNTHZJ03E53HST4PII94SOGGIT0WFV2FP6ENZ9OIJF9P7OGC1L2ZFWDE1OLPYJVNK0S2T0GCLP5NDTVFN1T3L6QIT99DGJZ205OTE3J88XJEHRVPEKCXLG2DKGXAO6EWV0X5DL9RL9ITQMRS62H2H97XJWTPUG9HDZSIBAEHJYYUUO7PDBVOI8XTITSKTXVUN6497QUQ5ROCFY1DEMZWU1AW004AB02S9AID9UZIB7N\n",
      "791 DHCXP 2006/08/11 17:43:55 96 ESFBYRRWUCISOVZPTB FLCYUITDAAAJ7S8QZ4RNEGZ454MCI4TDGS1HF8CQEABV06DMUVOH26DANRS6G56DDP9EDAEA1385UN2SH8Y94G2KZHYJLFGXKMVCO8G\n",
      "975 Z3AR4 2011/05/14 18:31:20 96 TJG B2F69CWOV3KDI0ISJLIXQVXJMYOV4FFS0DL1TUNJB0UEE1406AQD77C2UYM76VNPX95QXH7MK8DMMJK8KHAWE3YGDO0CDSK5E9M9Q37J1OT0IRE66NO4X3ULMEKIA4LS9IDF2GOINZZSJY4VA6Y3OSQW8PGRNLAUTMMP62Q3XD712N9V2822FVAYYM0ARAE0LNEGSKM4F8P3BKOMU1H5P6IQ9IBDD69OS62CJDXVYEYS3VZLFCPLMH92DU0ONCYK9HIXIESAKRZ4TRFDTSTTXNYYC1B4YTX7YA82R092VKATAE\n"
     ]
    }
   ],
   "source": [
    "datagrid.show(0, 20, prints=True, returns=False)"
   ]
  },
  {
   "cell_type": "markdown",
   "metadata": {},
   "source": [
    "---"
   ]
  },
  {
   "cell_type": "markdown",
   "metadata": {},
   "source": [
    "# 🔎 Testing the **Open Addressing** nature of our **HashTable**"
   ]
  },
  {
   "cell_type": "code",
   "execution_count": 40,
   "metadata": {},
   "outputs": [],
   "source": [
    "datagrid2 = DataGrid()"
   ]
  },
  {
   "cell_type": "markdown",
   "metadata": {},
   "source": [
    "Let's insert some values into the hashtable:"
   ]
  },
  {
   "cell_type": "code",
   "execution_count": 41,
   "metadata": {},
   "outputs": [],
   "source": [
    "ids = [1, 2, 3, 4, 5, 11, 21]\n",
    "\n",
    "for id in ids:\n",
    "    row = {}\n",
    "    row[\"id\"] = id\n",
    "    row[\"owner_id\"] = \"ABC123\"\n",
    "    row[\"creation_date\"] = \"2023/10/06 12:00:15\"\n",
    "    row[\"count\"] = id\n",
    "    row[\"name\"] = \"Item \" + str(id)\n",
    "    row[\"content\"] = \"This is the content for Item \" + str(id)\n",
    "    datagrid2.insert_row(row)"
   ]
  },
  {
   "cell_type": "code",
   "execution_count": 42,
   "metadata": {},
   "outputs": [
    {
     "name": "stderr",
     "output_type": "stream",
     "text": [
      "/home/felipe/Área de Trabalho/datagrid/src/datagrid.py:81: UserWarning: `end` is greater than the size of the datagrid, setting `end` to the datagrid size\n",
      "  warnings.warn(\"`end` is greater than the size of the datagrid, setting `end` to the datagrid size\")\n"
     ]
    },
    {
     "data": {
      "text/plain": [
       "[<datagrid.Event at 0x7f6c207ce4a0>,\n",
       " <datagrid.Event at 0x7f6c207cead0>,\n",
       " <datagrid.Event at 0x7f6c207cf2e0>,\n",
       " <datagrid.Event at 0x7f6c207ce470>,\n",
       " <datagrid.Event at 0x7f6c207ce350>,\n",
       " <datagrid.Event at 0x7f6c207ce8f0>,\n",
       " <datagrid.Event at 0x7f6c207ced10>]"
      ]
     },
     "execution_count": 42,
     "metadata": {},
     "output_type": "execute_result"
    }
   ],
   "source": [
    "datagrid2.show(0, 10)"
   ]
  },
  {
   "cell_type": "markdown",
   "metadata": {},
   "source": [
    "If we search for the `id = 1`, we will see:"
   ]
  },
  {
   "cell_type": "code",
   "execution_count": 43,
   "metadata": {},
   "outputs": [
    {
     "data": {
      "text/plain": [
       "<datagrid.Event at 0x7f6c207ce4a0>"
      ]
     },
     "execution_count": 43,
     "metadata": {},
     "output_type": "execute_result"
    }
   ],
   "source": [
    "datagrid2.search(column=\"id\", value=1)"
   ]
  },
  {
   "cell_type": "markdown",
   "metadata": {},
   "source": [
    "Same for `id = 11`. Remember that our hash function is `h(x) = x % 10`, so they are both mapped to the same position."
   ]
  },
  {
   "cell_type": "code",
   "execution_count": 44,
   "metadata": {},
   "outputs": [
    {
     "data": {
      "text/plain": [
       "<datagrid.Event at 0x7f6c207ce8f0>"
      ]
     },
     "execution_count": 44,
     "metadata": {},
     "output_type": "execute_result"
    }
   ],
   "source": [
    "datagrid2.search(column=\"id\", value=11)"
   ]
  },
  {
   "cell_type": "markdown",
   "metadata": {},
   "source": [
    "Let's delete the entry with `id = 1`:"
   ]
  },
  {
   "cell_type": "code",
   "execution_count": 45,
   "metadata": {},
   "outputs": [],
   "source": [
    "datagrid2.delete_row(column=\"id\", value=1)"
   ]
  },
  {
   "cell_type": "code",
   "execution_count": 46,
   "metadata": {},
   "outputs": [],
   "source": [
    "datagrid2.search(column=\"id\", value=1)"
   ]
  },
  {
   "cell_type": "markdown",
   "metadata": {},
   "source": [
    "If our implementation is right, we should still be able to find the entry with `id = 11`:"
   ]
  },
  {
   "cell_type": "code",
   "execution_count": 47,
   "metadata": {},
   "outputs": [
    {
     "data": {
      "text/plain": [
       "<datagrid.Event at 0x7f6c207ce8f0>"
      ]
     },
     "execution_count": 47,
     "metadata": {},
     "output_type": "execute_result"
    }
   ],
   "source": [
    "datagrid2.search(column=\"id\", value=11)"
   ]
  },
  {
   "cell_type": "markdown",
   "metadata": {},
   "source": [
    "It seems to work just fine. Let's try to delete the entry with `id = 11`:"
   ]
  },
  {
   "cell_type": "code",
   "execution_count": 48,
   "metadata": {},
   "outputs": [],
   "source": [
    "datagrid2.delete_row(column=\"id\", value=11)"
   ]
  },
  {
   "cell_type": "markdown",
   "metadata": {},
   "source": [
    "If we search for it again, we should receive nothing:"
   ]
  },
  {
   "cell_type": "code",
   "execution_count": 49,
   "metadata": {},
   "outputs": [],
   "source": [
    "datagrid2.search(column=\"id\", value=11)"
   ]
  },
  {
   "cell_type": "markdown",
   "metadata": {},
   "source": [
    "Also note that our `.show()` method shows us each row, removing the deleted entries."
   ]
  },
  {
   "cell_type": "code",
   "execution_count": 50,
   "metadata": {},
   "outputs": [
    {
     "data": {
      "text/plain": [
       "[<datagrid.Event at 0x7f6c207cead0>,\n",
       " <datagrid.Event at 0x7f6c207cf2e0>,\n",
       " <datagrid.Event at 0x7f6c207ce470>,\n",
       " <datagrid.Event at 0x7f6c207ce350>,\n",
       " <datagrid.Event at 0x7f6c207ced10>]"
      ]
     },
     "execution_count": 50,
     "metadata": {},
     "output_type": "execute_result"
    }
   ],
   "source": [
    "datagrid2.show(0, 10)"
   ]
  },
  {
   "cell_type": "markdown",
   "metadata": {},
   "source": [
    "Note that we also have the entry with `id = 21`, which is mapped to the same position as `id = 1` and `id = 11`. Let's try to find it:"
   ]
  },
  {
   "cell_type": "code",
   "execution_count": 51,
   "metadata": {},
   "outputs": [
    {
     "data": {
      "text/plain": [
       "<datagrid.Event at 0x7f6c207ced10>"
      ]
     },
     "execution_count": 51,
     "metadata": {},
     "output_type": "execute_result"
    }
   ],
   "source": [
    "datagrid2.search(column=\"id\", value=21)"
   ]
  }
 ],
 "metadata": {
  "kernelspec": {
   "display_name": "Python 3",
   "language": "python",
   "name": "python3"
  },
  "language_info": {
   "codemirror_mode": {
    "name": "ipython",
    "version": 3
   },
   "file_extension": ".py",
   "mimetype": "text/x-python",
   "name": "python",
   "nbconvert_exporter": "python",
   "pygments_lexer": "ipython3",
   "version": "3.10.12"
  }
 },
 "nbformat": 4,
 "nbformat_minor": 2
}
