{
 "cells": [
  {
   "cell_type": "markdown",
   "metadata": {},
   "source": [
    "# **Testing the DataGrid module**"
   ]
  },
  {
   "cell_type": "markdown",
   "metadata": {},
   "source": [
    "Import the class:"
   ]
  },
  {
   "cell_type": "code",
   "execution_count": 1,
   "metadata": {},
   "outputs": [],
   "source": [
    "from datagrid import DataGrid"
   ]
  },
  {
   "cell_type": "markdown",
   "metadata": {},
   "source": [
    "Instantiate the class:"
   ]
  },
  {
   "cell_type": "code",
   "execution_count": 2,
   "metadata": {},
   "outputs": [],
   "source": [
    "datagrid = DataGrid()"
   ]
  },
  {
   "cell_type": "markdown",
   "metadata": {},
   "source": [
    "##### `.read_csv(file, sep = ',', encoding = 'utf-8')`"
   ]
  },
  {
   "cell_type": "markdown",
   "metadata": {},
   "source": [
    "You can read a `.csv` file into the datagrid object."
   ]
  },
  {
   "cell_type": "code",
   "execution_count": 3,
   "metadata": {},
   "outputs": [
    {
     "name": "stdout",
     "output_type": "stream",
     "text": [
      "File read successfully\n"
     ]
    }
   ],
   "source": [
    "datagrid.read_csv(\"data/data.csv\")"
   ]
  },
  {
   "cell_type": "markdown",
   "metadata": {},
   "source": [
    "##### `.show(start = 0, end = 100)`"
   ]
  },
  {
   "cell_type": "markdown",
   "metadata": {},
   "source": [
    "You can also show the range of rows you'd like."
   ]
  },
  {
   "cell_type": "code",
   "execution_count": 4,
   "metadata": {},
   "outputs": [
    {
     "name": "stdout",
     "output_type": "stream",
     "text": [
      "1 | ELH65 | 2024/34/25 03:34:03 | 22 | Yvette Haynes | Phasellus fermentum convallis ligula. Donec luctus\n",
      "2 | EJF55 | 2024/59/25 02:59:09 | 7 | Kasimir Norris | Cras vulputate velit eu sem. Pellentesque ut ipsum ac mi\n",
      "3 | QXW32 | 2023/54/14 06:54:20 | 3 | Suki Mathis | sagittis felis. Donec tempor, est ac mattis semper, dui lectus rutrum urna,\n",
      "4 | HUV07 | 2023/47/15 11:47:27 | 3 | Akeem Greene | fringilla, porttitor vulputate, posuere vulputate, lacus. Cras interdum. Nunc sollicitudin commodo ipsum. Suspendisse non leo. Vivamus nibh\n",
      "5 | OZT82 | 2022/2/31 02:02:29 | 19 | Zeph Moody | lorem vitae odio sagittis semper. Nam tempor diam dictum sapien. Aenean massa. Integer vitae nibh. Donec est mauris, rhoncus\n",
      "6 | XLR32 | 2024/45/29 05:45:47 | 4 | Kay Witt | libero dui\n",
      "8 | KXQ01 | 2022/56/18 02:56:26 | 20 | Patience Monroe | ligula consectetuer rhoncus. Nullam velit dui, semper et, lacinia\n",
      "9 | CYU74 | 2024/35/20 11:35:24 | 6 | Rajah Sawyer | non nisi. Aenean eget metus. In nec orci. Donec nibh. Quisque nonummy ipsum non arcu.\n",
      "10 | GJL34 | 2023/35/22 07:35:23 | 0 | Ramona Herring | Nulla facilisi. Sed neque. Sed eget lacus. Mauris\n",
      "11 | XYF21 | 2023/5/12 02:05:02 | 7 | Armando Shannon | pharetra sed, hendrerit a, arcu. Sed et libero. Proin mi. Aliquam gravida mauris ut mi. Duis risus odio,\n"
     ]
    }
   ],
   "source": [
    "datagrid.show(0, 10)"
   ]
  },
  {
   "cell_type": "code",
   "execution_count": 5,
   "metadata": {},
   "outputs": [
    {
     "name": "stdout",
     "output_type": "stream",
     "text": [
      "Row with id = 1 deleted\n"
     ]
    }
   ],
   "source": [
    "datagrid.delete_row(column=\"id\", value=1)"
   ]
  },
  {
   "cell_type": "code",
   "execution_count": 6,
   "metadata": {},
   "outputs": [
    {
     "name": "stdout",
     "output_type": "stream",
     "text": [
      "2 | EJF55 | 2024/59/25 02:59:09 | 7 | Kasimir Norris | Cras vulputate velit eu sem. Pellentesque ut ipsum ac mi\n",
      "3 | QXW32 | 2023/54/14 06:54:20 | 3 | Suki Mathis | sagittis felis. Donec tempor, est ac mattis semper, dui lectus rutrum urna,\n",
      "4 | HUV07 | 2023/47/15 11:47:27 | 3 | Akeem Greene | fringilla, porttitor vulputate, posuere vulputate, lacus. Cras interdum. Nunc sollicitudin commodo ipsum. Suspendisse non leo. Vivamus nibh\n",
      "5 | OZT82 | 2022/2/31 02:02:29 | 19 | Zeph Moody | lorem vitae odio sagittis semper. Nam tempor diam dictum sapien. Aenean massa. Integer vitae nibh. Donec est mauris, rhoncus\n",
      "6 | XLR32 | 2024/45/29 05:45:47 | 4 | Kay Witt | libero dui\n",
      "8 | KXQ01 | 2022/56/18 02:56:26 | 20 | Patience Monroe | ligula consectetuer rhoncus. Nullam velit dui, semper et, lacinia\n",
      "9 | CYU74 | 2024/35/20 11:35:24 | 6 | Rajah Sawyer | non nisi. Aenean eget metus. In nec orci. Donec nibh. Quisque nonummy ipsum non arcu.\n",
      "10 | GJL34 | 2023/35/22 07:35:23 | 0 | Ramona Herring | Nulla facilisi. Sed neque. Sed eget lacus. Mauris\n",
      "11 | XYF21 | 2023/5/12 02:05:02 | 7 | Armando Shannon | pharetra sed, hendrerit a, arcu. Sed et libero. Proin mi. Aliquam gravida mauris ut mi. Duis risus odio,\n",
      "12 | MLK27 | 2024/59/23 11:59:28 | 15 | Lewis Mendez | bibendum sed, est. Nunc laoreet lectus quis massa. Mauris vestibulum, neque\n"
     ]
    }
   ],
   "source": [
    "datagrid.show(0, 10)"
   ]
  },
  {
   "cell_type": "markdown",
   "metadata": {},
   "source": [
    "##### `.insert_row(row)`"
   ]
  },
  {
   "cell_type": "markdown",
   "metadata": {},
   "source": [
    "You may want to add rows through a dictionary:"
   ]
  },
  {
   "cell_type": "code",
   "execution_count": 7,
   "metadata": {},
   "outputs": [],
   "source": [
    "new_row = {\"id\": 98, \"owner_id\": \"ABC123\", \"creation_date\": \"2023/10/06 12:00:15\", \"count\": 6, \"name\": \"Item 98\", \"content\": \"This is the content for Item 98\"}\n",
    "datagrid.insert_row(new_row)"
   ]
  },
  {
   "cell_type": "code",
   "execution_count": 8,
   "metadata": {},
   "outputs": [],
   "source": [
    "new_row = {\"id\": 2, \"owner_id\": \"ABC123\", \"creation_date\": \"2023/10/06 12:00:15\", \"count\": 6, \"name\": \"Item 98\", \"content\": \"This is the content for Item 98\"}\n",
    "datagrid.insert_row(new_row)"
   ]
  },
  {
   "cell_type": "markdown",
   "metadata": {},
   "source": [
    "If the ID is already in the datagrid, the row will be updated:"
   ]
  },
  {
   "cell_type": "code",
   "execution_count": 9,
   "metadata": {},
   "outputs": [],
   "source": [
    "new_row = {\"id\": 2, \"owner_id\": \"ABC123\", \"creation_date\": \"2023/10/06 12:00:15\", \"count\": 6, \"name\": \"Item 98\", \"content\": \"This is the content for Item 98\"}\n",
    "datagrid.insert_row(new_row)"
   ]
  },
  {
   "cell_type": "markdown",
   "metadata": {},
   "source": [
    "##### `.delete_row(column, value)`"
   ]
  },
  {
   "cell_type": "markdown",
   "metadata": {},
   "source": [
    "You can also delete rows based on the value of the columns:"
   ]
  },
  {
   "cell_type": "code",
   "execution_count": 10,
   "metadata": {},
   "outputs": [],
   "source": [
    "#datagrid.delete_row(column=\"owner_id\", value=\"YZA789\")"
   ]
  },
  {
   "cell_type": "code",
   "execution_count": 11,
   "metadata": {},
   "outputs": [
    {
     "name": "stdout",
     "output_type": "stream",
     "text": [
      "Row with id = 1 not found\n"
     ]
    }
   ],
   "source": [
    "datagrid.delete_row(column=\"id\", value=1)"
   ]
  },
  {
   "cell_type": "code",
   "execution_count": 12,
   "metadata": {},
   "outputs": [],
   "source": [
    "#datagrid.delete_row(column=\"count\", value=9)"
   ]
  },
  {
   "cell_type": "markdown",
   "metadata": {},
   "source": [
    "##### `.search(column, value)`"
   ]
  },
  {
   "cell_type": "code",
   "execution_count": 13,
   "metadata": {},
   "outputs": [
    {
     "name": "stdout",
     "output_type": "stream",
     "text": [
      "5 | OZT82 | 2022/2/31 02:02:29 | 19 | Zeph Moody | lorem vitae odio sagittis semper. Nam tempor diam dictum sapien. Aenean massa. Integer vitae nibh. Donec est mauris, rhoncus\n"
     ]
    }
   ],
   "source": [
    "datagrid.search(column=\"id\", value=5)"
   ]
  },
  {
   "cell_type": "code",
   "execution_count": 14,
   "metadata": {},
   "outputs": [
    {
     "name": "stdout",
     "output_type": "stream",
     "text": [
      "Row with id = 1 not found\n"
     ]
    }
   ],
   "source": [
    "datagrid.search(column=\"id\", value=1)"
   ]
  },
  {
   "cell_type": "code",
   "execution_count": 15,
   "metadata": {},
   "outputs": [
    {
     "name": "stdout",
     "output_type": "stream",
     "text": [
      "90 | CQA55 | 2022/14/28 09:14:29 | 3 | Ethan Puckett | vitae diam. Proin dolor. Nulla semper tellus id nunc interdum feugiat. Sed nec metus facilisis lorem\n"
     ]
    }
   ],
   "source": [
    "datagrid.search(column=\"id\", value=90)"
   ]
  },
  {
   "cell_type": "code",
   "execution_count": 16,
   "metadata": {},
   "outputs": [],
   "source": [
    "#datagrid.search(column=\"count\", value=12)"
   ]
  },
  {
   "cell_type": "code",
   "execution_count": 17,
   "metadata": {},
   "outputs": [],
   "source": [
    "#datagrid.search(column=\"count\", value=5)"
   ]
  },
  {
   "cell_type": "markdown",
   "metadata": {},
   "source": [
    "##### `.sort(column, direction = 'asc')`"
   ]
  },
  {
   "cell_type": "code",
   "execution_count": 18,
   "metadata": {},
   "outputs": [],
   "source": [
    "datagrid.sort(column=\"id\", direction=\"desc\")"
   ]
  },
  {
   "cell_type": "markdown",
   "metadata": {},
   "source": [
    "Sort changes the internal structure of the table (check the first use of `.show()` method up on the notebook):"
   ]
  },
  {
   "cell_type": "code",
   "execution_count": 19,
   "metadata": {},
   "outputs": [
    {
     "name": "stdout",
     "output_type": "stream",
     "text": [
      "509 | LMX57 | 2023/26/21 11:26:17 | 6 | Jonas Cobb | cursus a, enim.\n",
      "508 | LMX57 | 2023/26/21 11:26:17 | 6 | Jonas Cobb | cursus a, enim.\n",
      "500 | LIK81 | 2024/26/9 06:26:59 | 29 | Beck Bauer | dui. Cras pellentesque. Sed dictum.\n",
      "499 | BYC33 | 2022/38/19 08:38:58 | 30 | Laurel Ray | nec ligula consectetuer rhoncus. Nullam velit dui, semper et, lacinia vitae, sodales at, velit.\n",
      "498 | LQU40 | 2024/19/31 06:19:59 | 28 | Alden Cunningham | diam luctus lobortis. Class aptent taciti sociosqu ad litora torquent per conubia nostra, per inceptos hymenaeos. Mauris\n",
      "497 | BTO64 | 2024/47/13 12:47:38 | 1 | Zane Simmons | dolor sit amet, consectetuer adipiscing\n",
      "496 | MVU16 | 2023/23/20 01:23:42 | 6 | Dustin Harrell | nisi magna sed dui. Fusce aliquam, enim\n",
      "495 | PFE71 | 2023/9/22 05:09:01 | 18 | Jasmine Horn | Fusce aliquet magna a neque. Nullam ut nisi\n",
      "494 | XLP87 | 2024/43/13 02:43:07 | 8 | Raven Henson | lectus ante dictum mi, ac mattis velit justo nec ante. Maecenas mi felis, adipiscing fringilla,\n",
      "493 | EYD46 | 2023/52/17 04:52:36 | 29 | Abra Hammond | dolor, nonummy ac,\n"
     ]
    }
   ],
   "source": [
    "datagrid.show(0, 10)"
   ]
  },
  {
   "cell_type": "markdown",
   "metadata": {},
   "source": [
    "You can sort by using whatever column you'd like."
   ]
  },
  {
   "cell_type": "code",
   "execution_count": 20,
   "metadata": {},
   "outputs": [],
   "source": [
    "datagrid.sort(column=\"count\", direction=\"desc\")"
   ]
  },
  {
   "cell_type": "code",
   "execution_count": 21,
   "metadata": {},
   "outputs": [
    {
     "name": "stdout",
     "output_type": "stream",
     "text": [
      "269 | VQN61 | 2023/24/11 06:24:02 | 29 | Camden Glass | quis, pede. Praesent\n",
      "139 | YVI58 | 2024/40/5 02:40:49 | 29 | Ayanna Dale | mus. Donec dignissim magna a tortor. Nunc\n",
      "145 | KJF38 | 2023/38/25 06:38:18 | 29 | Keane Acosta | feugiat metus sit amet ante. Vivamus non lorem vitae odio sagittis semper. Nam tempor diam dictum sapien. Aenean\n",
      "307 | JLP24 | 2024/48/13 03:48:45 | 29 | Hoyt Hamilton | nunc id enim. Curabitur massa. Vestibulum\n",
      "83 | ELL77 | 2023/25/13 02:25:32 | 29 | Samson Barrett | eu, ligula. Aenean euismod mauris eu elit. Nulla facilisi. Sed\n",
      "87 | OHR25 | 2023/7/19 02:07:07 | 29 | Garrett Guzman | nisl. Maecenas malesuada fringilla est. Mauris eu\n",
      "91 | KTQ55 | 2024/47/22 06:47:17 | 29 | Faith Fitzpatrick | ornare. Fusce mollis. Duis sit amet diam eu dolor egestas rhoncus. Proin nisl sem, consequat nec, mollis vitae,\n",
      "181 | NXW26 | 2023/3/9 06:03:44 | 29 | Maryam Davidson | egestas nunc sed libero. Proin sed turpis nec mauris blandit mattis. Cras eget nisi dictum augue malesuada malesuada.\n",
      "187 | BQY47 | 2023/44/5 07:44:14 | 29 | Timon Thornton | tempus non, lacinia at, iaculis quis, pede. Praesent eu dui. Cum sociis natoque penatibus et magnis dis parturient\n",
      "193 | GED59 | 2023/30/24 07:30:43 | 29 | Eaton Kline | nulla magna, malesuada vel,\n",
      "100 | UEC21 | 2024/36/21 08:36:49 | 29 | Clayton King | tristique senectus et netus et malesuada fames ac turpis egestas. Aliquam fringilla cursus purus.\n",
      "217 | NJP67 | 2023/45/5 08:45:07 | 29 | Zachary Tyson | ultricies sem magna nec quam. Curabitur vel lectus. Cum sociis\n",
      "438 | HIR33 | 2024/56/13 04:56:44 | 29 | Dana Lindsey | Lorem ipsum dolor sit amet, consectetuer adipiscing elit. Etiam laoreet, libero et tristique pellentesque,\n",
      "223 | ELB26 | 2024/36/2 12:36:27 | 29 | Aphrodite Rowland | nonummy ultricies ornare, elit\n",
      "480 | LUJ21 | 2023/11/8 08:11:29 | 29 | Florence Skinner | est tempor bibendum. Donec felis orci,\n",
      "493 | EYD46 | 2023/52/17 04:52:36 | 29 | Abra Hammond | dolor, nonummy ac,\n",
      "500 | LIK81 | 2024/26/9 06:26:59 | 29 | Beck Bauer | dui. Cras pellentesque. Sed dictum.\n",
      "126 | QGQ43 | 2023/55/10 03:55:46 | 29 | Winter Knight | arcu et pede. Nunc sed orci lobortis augue scelerisque mollis. Phasellus libero mauris, aliquam eu, accumsan sed, facilisis vitae,\n",
      "271 | PZU48 | 2022/38/31 06:38:38 | 28 | Arthur Guerrero | egestas. Aliquam nec enim. Nunc ut erat. Sed nunc est, mollis\n",
      "69 | RTG70 | 2024/54/31 12:54:25 | 28 | Selma White | fringilla. Donec\n"
     ]
    }
   ],
   "source": [
    "datagrid.show(10, 30)"
   ]
  },
  {
   "cell_type": "markdown",
   "metadata": {},
   "source": [
    "##### `.select_count(i, j)`"
   ]
  },
  {
   "cell_type": "markdown",
   "metadata": {},
   "source": [
    "This method returns the entries between $i$ and $j$, $[i, j]$, considering the `count` feature sorted in ascending order."
   ]
  },
  {
   "cell_type": "code",
   "execution_count": 22,
   "metadata": {},
   "outputs": [
    {
     "name": "stdout",
     "output_type": "stream",
     "text": [
      "184 | TDM69 | 2023/13/22 03:13:20 | 1 | Elton Morgan | ut nisi a odio semper cursus. Integer\n",
      "237 | WLI37 | 2023/44/28 06:44:48 | 1 | Melodie Terrell | habitant morbi tristique senectus et netus et malesuada fames ac turpis egestas. Aliquam fringilla cursus purus. Nullam scelerisque neque\n",
      "303 | ORI97 | 2022/26/1 10:26:35 | 1 | Theodore Romero | venenatis lacus. Etiam bibendum fermentum metus. Aenean sed\n",
      "60 | DEN17 | 2024/31/2 09:31:30 | 1 | Yoko Hernandez | Duis at lacus. Quisque purus sapien, gravida non, sollicitudin a, malesuada id, erat. Etiam\n",
      "143 | XPQ30 | 2024/36/20 01:36:03 | 1 | Savannah Dillard | lacus, varius et, euismod et, commodo at, libero. Morbi accumsan laoreet ipsum. Curabitur consequat, lectus sit\n",
      "366 | JTY97 | 2024/40/8 05:40:32 | 1 | Evan Hensley | Quisque libero lacus,\n",
      "242 | ITN75 | 2023/45/27 04:45:01 | 1 | Sonya Norris | justo eu arcu. Morbi sit amet massa. Quisque porttitor eros nec tellus. Nunc\n",
      "497 | BTO64 | 2024/47/13 12:47:38 | 1 | Zane Simmons | dolor sit amet, consectetuer adipiscing\n",
      "374 | HBK81 | 2023/55/2 04:55:22 | 1 | Ifeoma Barnett | Sed eget lacus. Mauris non dui nec urna suscipit nonummy. Fusce fermentum fermentum arcu. Vestibulum\n",
      "340 | SYI71 | 2022/50/9 08:50:07 | 1 | Galena Norman | risus, at fringilla purus mauris a nunc. In at pede. Cras vulputate velit eu sem. Pellentesque ut ipsum ac mi\n"
     ]
    }
   ],
   "source": [
    "datagrid.select_count(10, 20)"
   ]
  },
  {
   "cell_type": "markdown",
   "metadata": {},
   "source": [
    "It does not change the internal state of the data structure, which can be confirmed by the `.show()` method. It shows the result of the last-applied sorting, before the `select_count()`."
   ]
  },
  {
   "cell_type": "code",
   "execution_count": 23,
   "metadata": {},
   "outputs": [
    {
     "name": "stdout",
     "output_type": "stream",
     "text": [
      "269 | VQN61 | 2023/24/11 06:24:02 | 29 | Camden Glass | quis, pede. Praesent\n",
      "139 | YVI58 | 2024/40/5 02:40:49 | 29 | Ayanna Dale | mus. Donec dignissim magna a tortor. Nunc\n",
      "145 | KJF38 | 2023/38/25 06:38:18 | 29 | Keane Acosta | feugiat metus sit amet ante. Vivamus non lorem vitae odio sagittis semper. Nam tempor diam dictum sapien. Aenean\n",
      "307 | JLP24 | 2024/48/13 03:48:45 | 29 | Hoyt Hamilton | nunc id enim. Curabitur massa. Vestibulum\n",
      "83 | ELL77 | 2023/25/13 02:25:32 | 29 | Samson Barrett | eu, ligula. Aenean euismod mauris eu elit. Nulla facilisi. Sed\n",
      "87 | OHR25 | 2023/7/19 02:07:07 | 29 | Garrett Guzman | nisl. Maecenas malesuada fringilla est. Mauris eu\n",
      "91 | KTQ55 | 2024/47/22 06:47:17 | 29 | Faith Fitzpatrick | ornare. Fusce mollis. Duis sit amet diam eu dolor egestas rhoncus. Proin nisl sem, consequat nec, mollis vitae,\n",
      "181 | NXW26 | 2023/3/9 06:03:44 | 29 | Maryam Davidson | egestas nunc sed libero. Proin sed turpis nec mauris blandit mattis. Cras eget nisi dictum augue malesuada malesuada.\n",
      "187 | BQY47 | 2023/44/5 07:44:14 | 29 | Timon Thornton | tempus non, lacinia at, iaculis quis, pede. Praesent eu dui. Cum sociis natoque penatibus et magnis dis parturient\n",
      "193 | GED59 | 2023/30/24 07:30:43 | 29 | Eaton Kline | nulla magna, malesuada vel,\n"
     ]
    }
   ],
   "source": [
    "datagrid.show(10, 20)"
   ]
  },
  {
   "cell_type": "markdown",
   "metadata": {},
   "source": [
    "---"
   ]
  },
  {
   "cell_type": "markdown",
   "metadata": {},
   "source": [
    "## **Testing the Open Addressing nature of our hashtable**"
   ]
  },
  {
   "cell_type": "code",
   "execution_count": 24,
   "metadata": {},
   "outputs": [],
   "source": [
    "from datagrid import DataGrid"
   ]
  },
  {
   "cell_type": "code",
   "execution_count": 25,
   "metadata": {},
   "outputs": [],
   "source": [
    "datagrid2 = DataGrid()"
   ]
  },
  {
   "cell_type": "markdown",
   "metadata": {},
   "source": [
    "Let's insert some values into the hashtable:"
   ]
  },
  {
   "cell_type": "code",
   "execution_count": 26,
   "metadata": {},
   "outputs": [],
   "source": [
    "ids = [1, 2, 3, 4, 5, 11, 21]\n",
    "\n",
    "for id in ids:\n",
    "    row = {}\n",
    "    row[\"id\"] = id\n",
    "    row[\"owner_id\"] = \"ABC123\"\n",
    "    row[\"creation_date\"] = \"2023/10/06 12:00:15\"\n",
    "    row[\"count\"] = id\n",
    "    row[\"name\"] = \"Item \" + str(id)\n",
    "    row[\"content\"] = \"This is the content for Item \" + str(id)\n",
    "    datagrid2.insert_row(row)"
   ]
  },
  {
   "cell_type": "code",
   "execution_count": 27,
   "metadata": {},
   "outputs": [
    {
     "name": "stdout",
     "output_type": "stream",
     "text": [
      "1 | ABC123 | 2023/10/06 12:00:15 | 1 | Item 1 | This is the content for Item 1\n",
      "2 | ABC123 | 2023/10/06 12:00:15 | 2 | Item 2 | This is the content for Item 2\n",
      "3 | ABC123 | 2023/10/06 12:00:15 | 3 | Item 3 | This is the content for Item 3\n",
      "4 | ABC123 | 2023/10/06 12:00:15 | 4 | Item 4 | This is the content for Item 4\n",
      "5 | ABC123 | 2023/10/06 12:00:15 | 5 | Item 5 | This is the content for Item 5\n",
      "11 | ABC123 | 2023/10/06 12:00:15 | 11 | Item 11 | This is the content for Item 11\n",
      "21 | ABC123 | 2023/10/06 12:00:15 | 21 | Item 21 | This is the content for Item 21\n"
     ]
    }
   ],
   "source": [
    "datagrid2.show(0, 10)"
   ]
  },
  {
   "cell_type": "markdown",
   "metadata": {},
   "source": [
    "If we search for the `id = 1`, we will see:"
   ]
  },
  {
   "cell_type": "code",
   "execution_count": 28,
   "metadata": {},
   "outputs": [
    {
     "name": "stdout",
     "output_type": "stream",
     "text": [
      "1 | ABC123 | 2023/10/06 12:00:15 | 1 | Item 1 | This is the content for Item 1\n"
     ]
    }
   ],
   "source": [
    "datagrid2.search(column=\"id\", value=1)"
   ]
  },
  {
   "cell_type": "markdown",
   "metadata": {},
   "source": [
    "Same for `id = 11`. Remember that our hash function is `h(x) = x % 10`, so they are both mapped to the same position."
   ]
  },
  {
   "cell_type": "code",
   "execution_count": 29,
   "metadata": {},
   "outputs": [
    {
     "name": "stdout",
     "output_type": "stream",
     "text": [
      "11 | ABC123 | 2023/10/06 12:00:15 | 11 | Item 11 | This is the content for Item 11\n"
     ]
    }
   ],
   "source": [
    "datagrid2.search(column=\"id\", value=11)"
   ]
  },
  {
   "cell_type": "markdown",
   "metadata": {},
   "source": [
    "Let's delete the entry with `id = 1`:"
   ]
  },
  {
   "cell_type": "code",
   "execution_count": 30,
   "metadata": {},
   "outputs": [
    {
     "name": "stdout",
     "output_type": "stream",
     "text": [
      "Row with id = 1 deleted\n"
     ]
    }
   ],
   "source": [
    "datagrid2.delete_row(column=\"id\", value=1)"
   ]
  },
  {
   "cell_type": "code",
   "execution_count": 31,
   "metadata": {},
   "outputs": [
    {
     "name": "stdout",
     "output_type": "stream",
     "text": [
      "Row with id = 1 not found\n"
     ]
    }
   ],
   "source": [
    "datagrid2.search(column=\"id\", value=1)"
   ]
  },
  {
   "cell_type": "markdown",
   "metadata": {},
   "source": [
    "If our implementation is right, we should still be able to find the entry with `id = 11`:"
   ]
  },
  {
   "cell_type": "code",
   "execution_count": 32,
   "metadata": {},
   "outputs": [
    {
     "name": "stdout",
     "output_type": "stream",
     "text": [
      "11 | ABC123 | 2023/10/06 12:00:15 | 11 | Item 11 | This is the content for Item 11\n"
     ]
    }
   ],
   "source": [
    "datagrid2.search(column=\"id\", value=11)"
   ]
  },
  {
   "cell_type": "markdown",
   "metadata": {},
   "source": [
    "It seems to work just fine. Let's try to delete the entry with `id = 11`:"
   ]
  },
  {
   "cell_type": "code",
   "execution_count": 33,
   "metadata": {},
   "outputs": [
    {
     "name": "stdout",
     "output_type": "stream",
     "text": [
      "Row with id = 11 deleted\n"
     ]
    }
   ],
   "source": [
    "datagrid2.delete_row(column=\"id\", value=11)"
   ]
  },
  {
   "cell_type": "markdown",
   "metadata": {},
   "source": [
    "If we search for it again, we should be informed that it does not exist:"
   ]
  },
  {
   "cell_type": "code",
   "execution_count": 34,
   "metadata": {},
   "outputs": [
    {
     "name": "stdout",
     "output_type": "stream",
     "text": [
      "Row with id = 11 not found\n"
     ]
    }
   ],
   "source": [
    "datagrid2.search(column=\"id\", value=11)"
   ]
  },
  {
   "cell_type": "markdown",
   "metadata": {},
   "source": [
    "Also note that our `.show()` method shows us each row, removing the deleted entries."
   ]
  },
  {
   "cell_type": "code",
   "execution_count": 35,
   "metadata": {},
   "outputs": [
    {
     "name": "stdout",
     "output_type": "stream",
     "text": [
      "2 | ABC123 | 2023/10/06 12:00:15 | 2 | Item 2 | This is the content for Item 2\n",
      "3 | ABC123 | 2023/10/06 12:00:15 | 3 | Item 3 | This is the content for Item 3\n",
      "4 | ABC123 | 2023/10/06 12:00:15 | 4 | Item 4 | This is the content for Item 4\n",
      "5 | ABC123 | 2023/10/06 12:00:15 | 5 | Item 5 | This is the content for Item 5\n",
      "21 | ABC123 | 2023/10/06 12:00:15 | 21 | Item 21 | This is the content for Item 21\n"
     ]
    }
   ],
   "source": [
    "datagrid2.show(0, 10)"
   ]
  },
  {
   "cell_type": "markdown",
   "metadata": {},
   "source": [
    "Note that we also have the entry with `id = 21`, which is mapped to the same position as `id = 1` and `id = 11`. Let's try to find it:"
   ]
  },
  {
   "cell_type": "code",
   "execution_count": 36,
   "metadata": {},
   "outputs": [
    {
     "name": "stdout",
     "output_type": "stream",
     "text": [
      "21 | ABC123 | 2023/10/06 12:00:15 | 21 | Item 21 | This is the content for Item 21\n"
     ]
    }
   ],
   "source": [
    "datagrid2.search(column=\"id\", value=21)"
   ]
  }
 ],
 "metadata": {
  "kernelspec": {
   "display_name": "Python 3",
   "language": "python",
   "name": "python3"
  },
  "language_info": {
   "codemirror_mode": {
    "name": "ipython",
    "version": 3
   },
   "file_extension": ".py",
   "mimetype": "text/x-python",
   "name": "python",
   "nbconvert_exporter": "python",
   "pygments_lexer": "ipython3",
   "version": "3.10.12"
  }
 },
 "nbformat": 4,
 "nbformat_minor": 2
}
