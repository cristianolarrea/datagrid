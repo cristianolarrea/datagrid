{
 "cells": [
  {
   "cell_type": "markdown",
   "metadata": {},
   "source": [
    "# $\\Rightarrow$ Testing the **DataGrid** module"
   ]
  },
  {
   "cell_type": "markdown",
   "metadata": {},
   "source": [
    "Import the class:"
   ]
  },
  {
   "cell_type": "code",
   "execution_count": 1,
   "metadata": {},
   "outputs": [],
   "source": [
    "from datagrid import DataGrid"
   ]
  },
  {
   "cell_type": "markdown",
   "metadata": {},
   "source": [
    "Instantiate the class:"
   ]
  },
  {
   "cell_type": "code",
   "execution_count": 2,
   "metadata": {},
   "outputs": [],
   "source": [
    "datagrid = DataGrid()"
   ]
  },
  {
   "cell_type": "markdown",
   "metadata": {},
   "source": [
    "### `.read_csv(file, sep = ',', encoding = 'utf-8')`"
   ]
  },
  {
   "cell_type": "markdown",
   "metadata": {},
   "source": [
    "You can read a `.csv` file into the datagrid object."
   ]
  },
  {
   "cell_type": "code",
   "execution_count": 3,
   "metadata": {},
   "outputs": [
    {
     "name": "stdout",
     "output_type": "stream",
     "text": [
      "File read successfully\n"
     ]
    }
   ],
   "source": [
    "datagrid.read_csv(\"data/data.csv\")"
   ]
  },
  {
   "cell_type": "markdown",
   "metadata": {},
   "source": [
    "### `.show(start = 0, end = 100)`"
   ]
  },
  {
   "cell_type": "markdown",
   "metadata": {},
   "source": [
    "You can also show the range of rows you'd like."
   ]
  },
  {
   "cell_type": "code",
   "execution_count": 4,
   "metadata": {},
   "outputs": [
    {
     "name": "stdout",
     "output_type": "stream",
     "text": [
      "1 | ELH65 | 2024/34/25 03:34:03 | 22 | Yvette Haynes | Phasellus fermentum convallis ligula. Donec luctus\n",
      "2 | EJF55 | 2024/59/25 02:59:09 | 7 | Kasimir Norris | Cras vulputate velit eu sem. Pellentesque ut ipsum ac mi\n",
      "3 | QXW32 | 2023/54/14 06:54:20 | 3 | Suki Mathis | sagittis felis. Donec tempor, est ac mattis semper, dui lectus rutrum urna,\n",
      "4 | HUV07 | 2023/47/15 11:47:27 | 3 | Akeem Greene | fringilla, porttitor vulputate, posuere vulputate, lacus. Cras interdum. Nunc sollicitudin commodo ipsum. Suspendisse non leo. Vivamus nibh\n",
      "5 | OZT82 | 2022/2/31 02:02:29 | 19 | Zeph Moody | lorem vitae odio sagittis semper. Nam tempor diam dictum sapien. Aenean massa. Integer vitae nibh. Donec est mauris, rhoncus\n",
      "6 | XLR32 | 2024/45/29 05:45:47 | 4 | Kay Witt | libero dui\n",
      "8 | KXQ01 | 2022/56/18 02:56:26 | 20 | Patience Monroe | ligula consectetuer rhoncus. Nullam velit dui, semper et, lacinia\n",
      "9 | CYU74 | 2024/35/20 11:35:24 | 6 | Rajah Sawyer | non nisi. Aenean eget metus. In nec orci. Donec nibh. Quisque nonummy ipsum non arcu.\n",
      "10 | GJL34 | 2023/35/22 07:35:23 | 0 | Ramona Herring | Nulla facilisi. Sed neque. Sed eget lacus. Mauris\n",
      "11 | XYF21 | 2023/5/12 02:05:02 | 7 | Armando Shannon | pharetra sed, hendrerit a, arcu. Sed et libero. Proin mi. Aliquam gravida mauris ut mi. Duis risus odio,\n"
     ]
    }
   ],
   "source": [
    "datagrid.show(0, 10)"
   ]
  },
  {
   "cell_type": "code",
   "execution_count": 5,
   "metadata": {},
   "outputs": [
    {
     "name": "stdout",
     "output_type": "stream",
     "text": [
      "Row with id = 1 deleted\n"
     ]
    }
   ],
   "source": [
    "datagrid.delete_row(column=\"id\", value=1)"
   ]
  },
  {
   "cell_type": "code",
   "execution_count": 6,
   "metadata": {},
   "outputs": [
    {
     "name": "stdout",
     "output_type": "stream",
     "text": [
      "2 | EJF55 | 2024/59/25 02:59:09 | 7 | Kasimir Norris | Cras vulputate velit eu sem. Pellentesque ut ipsum ac mi\n",
      "3 | QXW32 | 2023/54/14 06:54:20 | 3 | Suki Mathis | sagittis felis. Donec tempor, est ac mattis semper, dui lectus rutrum urna,\n",
      "4 | HUV07 | 2023/47/15 11:47:27 | 3 | Akeem Greene | fringilla, porttitor vulputate, posuere vulputate, lacus. Cras interdum. Nunc sollicitudin commodo ipsum. Suspendisse non leo. Vivamus nibh\n",
      "5 | OZT82 | 2022/2/31 02:02:29 | 19 | Zeph Moody | lorem vitae odio sagittis semper. Nam tempor diam dictum sapien. Aenean massa. Integer vitae nibh. Donec est mauris, rhoncus\n",
      "6 | XLR32 | 2024/45/29 05:45:47 | 4 | Kay Witt | libero dui\n",
      "8 | KXQ01 | 2022/56/18 02:56:26 | 20 | Patience Monroe | ligula consectetuer rhoncus. Nullam velit dui, semper et, lacinia\n",
      "9 | CYU74 | 2024/35/20 11:35:24 | 6 | Rajah Sawyer | non nisi. Aenean eget metus. In nec orci. Donec nibh. Quisque nonummy ipsum non arcu.\n",
      "10 | GJL34 | 2023/35/22 07:35:23 | 0 | Ramona Herring | Nulla facilisi. Sed neque. Sed eget lacus. Mauris\n",
      "11 | XYF21 | 2023/5/12 02:05:02 | 7 | Armando Shannon | pharetra sed, hendrerit a, arcu. Sed et libero. Proin mi. Aliquam gravida mauris ut mi. Duis risus odio,\n",
      "12 | MLK27 | 2024/59/23 11:59:28 | 15 | Lewis Mendez | bibendum sed, est. Nunc laoreet lectus quis massa. Mauris vestibulum, neque\n"
     ]
    }
   ],
   "source": [
    "datagrid.show(0, 10)"
   ]
  },
  {
   "cell_type": "markdown",
   "metadata": {},
   "source": [
    "### `.insert_row(row)`"
   ]
  },
  {
   "cell_type": "markdown",
   "metadata": {},
   "source": [
    "You may want to add rows through a dictionary:"
   ]
  },
  {
   "cell_type": "code",
   "execution_count": 7,
   "metadata": {},
   "outputs": [],
   "source": [
    "new_row = {\"id\": 510, \"owner_id\": \"ABC123\", \"creation_date\": \"2023/10/06 12:00:15\", \"count\": 6, \"name\": \"Item 98\", \"content\": \"This is the content for Item 98\"}\n",
    "datagrid.insert_row(new_row)"
   ]
  },
  {
   "cell_type": "code",
   "execution_count": 8,
   "metadata": {},
   "outputs": [
    {
     "name": "stdout",
     "output_type": "stream",
     "text": [
      "510 | ABC123 | 2023/10/06 12:00:15 | 6 | Item 98 | This is the content for Item 98\n"
     ]
    }
   ],
   "source": [
    "datagrid.show(500, 600)"
   ]
  },
  {
   "cell_type": "markdown",
   "metadata": {},
   "source": [
    "If the ID is already in the datagrid, the row will be updated:"
   ]
  },
  {
   "cell_type": "code",
   "execution_count": 9,
   "metadata": {},
   "outputs": [
    {
     "name": "stdout",
     "output_type": "stream",
     "text": [
      "Row with id = 2 updated\n"
     ]
    }
   ],
   "source": [
    "new_row = {\"id\": 2, \"owner_id\": \"ABC123\", \"creation_date\": \"2023/10/06 12:00:15\", \"count\": 6, \"name\": \"Item 98\", \"content\": \"This is the content for Item 98\"}\n",
    "datagrid.insert_row(new_row)"
   ]
  },
  {
   "cell_type": "code",
   "execution_count": 10,
   "metadata": {},
   "outputs": [
    {
     "name": "stdout",
     "output_type": "stream",
     "text": [
      "2 | ABC123 | 2023/10/06 12:00:15 | 6 | Item 98 | This is the content for Item 98\n",
      "3 | QXW32 | 2023/54/14 06:54:20 | 3 | Suki Mathis | sagittis felis. Donec tempor, est ac mattis semper, dui lectus rutrum urna,\n",
      "4 | HUV07 | 2023/47/15 11:47:27 | 3 | Akeem Greene | fringilla, porttitor vulputate, posuere vulputate, lacus. Cras interdum. Nunc sollicitudin commodo ipsum. Suspendisse non leo. Vivamus nibh\n",
      "5 | OZT82 | 2022/2/31 02:02:29 | 19 | Zeph Moody | lorem vitae odio sagittis semper. Nam tempor diam dictum sapien. Aenean massa. Integer vitae nibh. Donec est mauris, rhoncus\n",
      "6 | XLR32 | 2024/45/29 05:45:47 | 4 | Kay Witt | libero dui\n"
     ]
    }
   ],
   "source": [
    "datagrid.show(0, 5)"
   ]
  },
  {
   "cell_type": "markdown",
   "metadata": {},
   "source": [
    "### `.delete_row(column, value)`"
   ]
  },
  {
   "cell_type": "markdown",
   "metadata": {},
   "source": [
    "You can also delete rows based on the value of the columns:"
   ]
  },
  {
   "cell_type": "code",
   "execution_count": 11,
   "metadata": {},
   "outputs": [
    {
     "name": "stdout",
     "output_type": "stream",
     "text": [
      "Row with id = 5 deleted\n"
     ]
    }
   ],
   "source": [
    "datagrid.delete_row(column=\"id\", value=5)"
   ]
  },
  {
   "cell_type": "code",
   "execution_count": 12,
   "metadata": {},
   "outputs": [
    {
     "name": "stdout",
     "output_type": "stream",
     "text": [
      "Row with id = 5 not found\n"
     ]
    }
   ],
   "source": [
    "datagrid.search(column=\"id\", value=5)"
   ]
  },
  {
   "cell_type": "code",
   "execution_count": 13,
   "metadata": {},
   "outputs": [
    {
     "name": "stdout",
     "output_type": "stream",
     "text": [
      "2 row(s) were deleted\n"
     ]
    }
   ],
   "source": [
    "datagrid.delete_row(column=\"owner_id\", value=\"ABC123\")"
   ]
  },
  {
   "cell_type": "code",
   "execution_count": 14,
   "metadata": {},
   "outputs": [
    {
     "name": "stdout",
     "output_type": "stream",
     "text": [
      "Specified row(s) not found\n"
     ]
    }
   ],
   "source": [
    "datagrid.search(column=\"owner_id\", value=\"ABC123\")"
   ]
  },
  {
   "cell_type": "code",
   "execution_count": 15,
   "metadata": {},
   "outputs": [
    {
     "name": "stdout",
     "output_type": "stream",
     "text": [
      "422 row(s) were deleted\n"
     ]
    }
   ],
   "source": [
    "datagrid.delete_row(\"creation_date\", (\"2021/03/22 07:35:23\", \"2021/01/23 00:00:00\"))"
   ]
  },
  {
   "cell_type": "code",
   "execution_count": 16,
   "metadata": {},
   "outputs": [
    {
     "name": "stdout",
     "output_type": "stream",
     "text": [
      "Specified row(s) not found\n"
     ]
    }
   ],
   "source": [
    "datagrid.search(\"creation_date\", (\"2021/03/22 07:35:23\", \"2021/01/23 00:00:00\"))"
   ]
  },
  {
   "cell_type": "code",
   "execution_count": 17,
   "metadata": {},
   "outputs": [
    {
     "name": "stdout",
     "output_type": "stream",
     "text": [
      "2 row(s) were deleted\n"
     ]
    }
   ],
   "source": [
    "datagrid.delete_row(column=\"count\", value=(20, 21))"
   ]
  },
  {
   "cell_type": "code",
   "execution_count": 18,
   "metadata": {},
   "outputs": [
    {
     "name": "stdout",
     "output_type": "stream",
     "text": [
      "Specified row(s) not found\n"
     ]
    }
   ],
   "source": [
    "datagrid.search(column=\"count\", value=(20, 21))"
   ]
  },
  {
   "cell_type": "code",
   "execution_count": 19,
   "metadata": {},
   "outputs": [
    {
     "name": "stdout",
     "output_type": "stream",
     "text": [
      "11 row(s) were deleted\n"
     ]
    }
   ],
   "source": [
    "datagrid.delete_row(\"name\", \"A\")"
   ]
  },
  {
   "cell_type": "code",
   "execution_count": 20,
   "metadata": {},
   "outputs": [
    {
     "name": "stdout",
     "output_type": "stream",
     "text": [
      "Specified row(s) not found\n"
     ]
    }
   ],
   "source": [
    "datagrid.search(\"name\", \"A\")"
   ]
  },
  {
   "cell_type": "code",
   "execution_count": 21,
   "metadata": {},
   "outputs": [],
   "source": [
    "#datagrid.delete_row(\"content\", \"oi\")"
   ]
  },
  {
   "cell_type": "markdown",
   "metadata": {},
   "source": [
    "### `.search(column, value)`"
   ]
  },
  {
   "cell_type": "code",
   "execution_count": 22,
   "metadata": {},
   "outputs": [
    {
     "name": "stdout",
     "output_type": "stream",
     "text": [
      "Row with id = 5 not found\n"
     ]
    }
   ],
   "source": [
    "datagrid.search(column=\"id\", value=5)"
   ]
  },
  {
   "cell_type": "code",
   "execution_count": 23,
   "metadata": {},
   "outputs": [
    {
     "name": "stdout",
     "output_type": "stream",
     "text": [
      "Row with id = 1 not found\n"
     ]
    }
   ],
   "source": [
    "datagrid.search(column=\"id\", value=1)"
   ]
  },
  {
   "cell_type": "code",
   "execution_count": 24,
   "metadata": {},
   "outputs": [
    {
     "name": "stdout",
     "output_type": "stream",
     "text": [
      "Specified row(s) not found\n"
     ]
    }
   ],
   "source": [
    "datagrid.search(column=\"owner_id\", value=\"EJF55\")"
   ]
  },
  {
   "cell_type": "code",
   "execution_count": 25,
   "metadata": {},
   "outputs": [
    {
     "name": "stdout",
     "output_type": "stream",
     "text": [
      "76 | XEV44 | 2023/13/28 10:13:25 | 26 | Xander Bennett | orci, in consequat enim diam vel arcu. Curabitur ut odio vel est tempor bibendum. Donec felis orci, adipiscing non,\n",
      "90 | CQA55 | 2022/14/28 09:14:29 | 3 | Ethan Puckett | vitae diam. Proin dolor. Nulla semper tellus id nunc interdum feugiat. Sed nec metus facilisis lorem\n",
      "111 | IYU69 | 2023/51/23 03:51:13 | 1 | Zelda Merritt | ut, pellentesque eget, dictum placerat, augue. Sed molestie. Sed id risus\n",
      "127 | OMN45 | 2022/12/29 04:12:38 | 7 | Reagan French | dui lectus rutrum urna, nec luctus felis purus ac tellus. Suspendisse sed dolor. Fusce mi\n",
      "137 | XEH56 | 2024/41/29 03:41:12 | 4 | Hamilton Love | nulla. In tincidunt congue turpis. In condimentum. Donec at arcu. Vestibulum\n",
      "149 | RTB11 | 2023/42/24 07:42:40 | 2 | Kenyon Matthews | pulvinar arcu et pede. Nunc\n",
      "155 | RXR83 | 2024/52/25 07:52:17 | 28 | Tallulah Richardson | erat volutpat. Nulla dignissim. Maecenas ornare egestas ligula. Nullam feugiat placerat velit. Quisque varius. Nam porttitor scelerisque\n",
      "169 | RJK71 | 2023/11/26 03:11:26 | 28 | May Rollins | rhoncus id, mollis nec, cursus a,\n",
      "211 | BWC89 | 2024/12/29 07:12:48 | 13 | Deirdre Rollins | Curabitur dictum. Phasellus in felis. Nulla tempor augue ac ipsum. Phasellus vitae mauris sit\n",
      "222 | OHT60 | 2023/22/23 04:22:15 | 10 | Jeanette Mills | turpis egestas. Fusce aliquet magna a neque. Nullam ut\n",
      "255 | SXI29 | 2023/33/24 05:33:39 | 13 | Hadassah Buck | Mauris blandit enim consequat purus. Maecenas libero est, congue a, aliquet vel, vulputate eu, odio. Phasellus at\n",
      "262 | FSY12 | 2023/22/24 10:22:56 | 9 | Miriam Stokes | ac turpis egestas. Aliquam fringilla cursus purus. Nullam scelerisque neque sed sem egestas blandit. Nam nulla magna,\n",
      "279 | ARD95 | 2022/53/25 02:53:54 | 30 | Reuben Huber | ante ipsum primis in faucibus orci luctus et\n",
      "280 | PSY78 | 2024/23/25 02:23:52 | 3 | Uta Mejia | Curae Phasellus ornare. Fusce mollis. Duis sit amet diam eu dolor egestas\n",
      "320 | TMM33 | 2022/11/28 12:11:52 | 8 | Tobias Johns | arcu. Morbi sit amet massa. Quisque porttitor eros nec tellus. Nunc lectus pede, ultrices a, auctor\n",
      "353 | XLV64 | 2023/22/24 01:22:07 | 13 | Karen Nielsen | enim. Nunc ut erat. Sed nunc est, mollis non, cursus non, egestas\n",
      "358 | HDE64 | 2022/12/25 03:12:35 | 14 | Wilma Mcintosh | elit erat vitae risus. Duis a mi fringilla mi lacinia mattis. Integer eu lacus.\n",
      "381 | MNS61 | 2024/22/29 01:22:39 | 15 | Christian Lott | elit, pharetra ut, pharetra sed, hendrerit a, arcu. Sed et libero. Proin\n",
      "382 | YJC89 | 2023/11/29 05:11:17 | 22 | Mia Crawford | vitae mauris sit amet lorem semper auctor. Mauris vel turpis. Aliquam adipiscing lobortis risus. In mi pede, nonummy\n",
      "393 | GUU71 | 2022/59/24 10:59:24 | 22 | Isaac Rios | est arcu ac orci.\n",
      "429 | HIF27 | 2023/33/23 04:33:14 | 19 | Jordan Carr | orci. Phasellus dapibus quam quis diam. Pellentesque habitant morbi tristique senectus et netus\n",
      "440 | YJY83 | 2022/19/26 01:19:41 | 14 | Zachery Ross | a, auctor non, feugiat nec, diam.\n",
      "443 | OYH64 | 2024/13/26 01:13:18 | 17 | Xantha Mcconnell | Integer mollis. Integer tincidunt aliquam arcu. Aliquam ultrices iaculis odio. Nam\n"
     ]
    }
   ],
   "source": [
    "datagrid.search(\"creation_date\", (\"2023/03/22 07:35:23\", \"2023/04/23 00:00:00\"))"
   ]
  },
  {
   "cell_type": "code",
   "execution_count": 26,
   "metadata": {},
   "outputs": [
    {
     "name": "stdout",
     "output_type": "stream",
     "text": [
      "157 | PXQ38 | 2023/25/28 11:25:07 | 19 | Fitzgerald Newton | semper rutrum. Fusce dolor quam, elementum at, egestas a, scelerisque sed, sapien. Nunc pulvinar arcu et\n",
      "302 | BJQ67 | 2024/45/23 12:45:54 | 18 | Ignatius Rogers | lorem ac risus.\n",
      "429 | HIF27 | 2023/33/23 04:33:14 | 19 | Jordan Carr | orci. Phasellus dapibus quam quis diam. Pellentesque habitant morbi tristique senectus et netus\n"
     ]
    }
   ],
   "source": [
    "datagrid.search(column=\"count\", value=(18, 19))"
   ]
  },
  {
   "cell_type": "code",
   "execution_count": 27,
   "metadata": {},
   "outputs": [
    {
     "name": "stdout",
     "output_type": "stream",
     "text": [
      "16 | OKF65 | 2024/59/29 03:59:21 | 10 | Oscar Banks | Aenean gravida nunc sed pede. Cum sociis natoque penatibus\n",
      "76 | XEV44 | 2023/13/28 10:13:25 | 26 | Xander Bennett | orci, in consequat enim diam vel arcu. Curabitur ut odio vel est tempor bibendum. Donec felis orci, adipiscing non,\n",
      "106 | EGS67 | 2024/29/25 01:29:41 | 13 | Brandon Cline | libero at auctor ullamcorper, nisl arcu iaculis enim, sit amet\n",
      "255 | SXI29 | 2023/33/24 05:33:39 | 13 | Hadassah Buck | Mauris blandit enim consequat purus. Maecenas libero est, congue a, aliquet vel, vulputate eu, odio. Phasellus at\n",
      "292 | VMB58 | 2023/48/24 09:48:22 | 11 | Tanisha Burns | vitae aliquam eros turpis non enim. Mauris quis turpis vitae purus gravida sagittis. Duis gravida. Praesent\n",
      "415 | MKH59 | 2024/16/28 02:16:10 | 2 | Breanna Grant | porttitor scelerisque neque. Nullam nisl. Maecenas malesuada\n",
      "466 | FCT17 | 2023/57/28 12:57:42 | 2 | Merrill Bates | enim consequat purus. Maecenas libero est, congue a, aliquet vel, vulputate eu, odio. Phasellus\n"
     ]
    }
   ],
   "source": [
    "datagrid.search(\"name\", \"B\")"
   ]
  },
  {
   "cell_type": "code",
   "execution_count": 28,
   "metadata": {},
   "outputs": [],
   "source": [
    "#datagrid.search(\"content\", \"oi\")"
   ]
  },
  {
   "cell_type": "markdown",
   "metadata": {},
   "source": [
    "### `.sort(column, direction = 'asc')`"
   ]
  },
  {
   "cell_type": "code",
   "execution_count": 29,
   "metadata": {},
   "outputs": [],
   "source": [
    "datagrid.sort(column=\"id\", direction=\"desc\")"
   ]
  },
  {
   "cell_type": "markdown",
   "metadata": {},
   "source": [
    "Now the `show()` method will show the sorted datagrid:"
   ]
  },
  {
   "cell_type": "code",
   "execution_count": 30,
   "metadata": {},
   "outputs": [
    {
     "name": "stdout",
     "output_type": "stream",
     "text": [
      "490 | TOP94 | 2023/58/23 04:58:24 | 14 | Chester Gross | sapien, gravida non, sollicitudin a, malesuada id, erat. Etiam vestibulum massa rutrum magna. Cras convallis convallis\n",
      "466 | FCT17 | 2023/57/28 12:57:42 | 2 | Merrill Bates | enim consequat purus. Maecenas libero est, congue a, aliquet vel, vulputate eu, odio. Phasellus\n",
      "456 | TUH64 | 2023/55/25 08:55:20 | 3 | Octavia Graham | odio. Aliquam vulputate ullamcorper magna. Sed eu eros. Nam consequat dolor\n",
      "443 | OYH64 | 2024/13/26 01:13:18 | 17 | Xantha Mcconnell | Integer mollis. Integer tincidunt aliquam arcu. Aliquam ultrices iaculis odio. Nam\n",
      "440 | YJY83 | 2022/19/26 01:19:41 | 14 | Zachery Ross | a, auctor non, feugiat nec, diam.\n",
      "429 | HIF27 | 2023/33/23 04:33:14 | 19 | Jordan Carr | orci. Phasellus dapibus quam quis diam. Pellentesque habitant morbi tristique senectus et netus\n",
      "427 | AWV53 | 2023/27/27 10:27:09 | 8 | Oliver Morales | viverra. Donec tempus, lorem fringilla ornare placerat, orci lacus vestibulum lorem, sit amet ultricies sem magna nec quam. Curabitur\n",
      "415 | MKH59 | 2024/16/28 02:16:10 | 2 | Breanna Grant | porttitor scelerisque neque. Nullam nisl. Maecenas malesuada\n",
      "404 | QCH68 | 2023/15/29 12:15:10 | 14 | Elton Ruiz | nunc. In at pede. Cras\n",
      "396 | CEI36 | 2023/27/25 01:27:40 | 11 | Kareem Church | ligula tortor, dictum eu, placerat eget, venenatis\n"
     ]
    }
   ],
   "source": [
    "datagrid.show(0, 10)"
   ]
  },
  {
   "cell_type": "markdown",
   "metadata": {},
   "source": [
    "You can sort the data by whatever column you'd like."
   ]
  },
  {
   "cell_type": "code",
   "execution_count": 31,
   "metadata": {},
   "outputs": [],
   "source": [
    "datagrid.sort(column=\"count\", direction=\"desc\")"
   ]
  },
  {
   "cell_type": "code",
   "execution_count": 32,
   "metadata": {},
   "outputs": [
    {
     "name": "stdout",
     "output_type": "stream",
     "text": [
      "232 | FOB65 | 2023/38/27 08:38:31 | 30 | Giselle Sharp | pede ac urna. Ut tincidunt vehicula risus.\n",
      "279 | ARD95 | 2022/53/25 02:53:54 | 30 | Reuben Huber | ante ipsum primis in faucibus orci luctus et\n",
      "128 | BBB81 | 2024/37/28 08:37:16 | 28 | Orla Maynard | semper et, lacinia vitae, sodales at, velit. Pellentesque ultricies dignissim lacus. Aliquam rutrum lorem ac\n",
      "155 | RXR83 | 2024/52/25 07:52:17 | 28 | Tallulah Richardson | erat volutpat. Nulla dignissim. Maecenas ornare egestas ligula. Nullam feugiat placerat velit. Quisque varius. Nam porttitor scelerisque\n",
      "169 | RJK71 | 2023/11/26 03:11:26 | 28 | May Rollins | rhoncus id, mollis nec, cursus a,\n",
      "55 | THH38 | 2024/38/25 09:38:41 | 26 | Ivor Reid | Proin velit. Sed malesuada augue ut lacus. Nulla tincidunt, neque vitae semper egestas, urna justo faucibus lectus, a\n",
      "76 | XEV44 | 2023/13/28 10:13:25 | 26 | Xander Bennett | orci, in consequat enim diam vel arcu. Curabitur ut odio vel est tempor bibendum. Donec felis orci, adipiscing non,\n",
      "188 | ECZ75 | 2023/48/23 03:48:20 | 25 | Timon Leach | et, commodo at, libero. Morbi accumsan laoreet ipsum. Curabitur consequat, lectus sit amet luctus vulputate,\n",
      "308 | MAP58 | 2024/28/25 07:28:50 | 25 | Camden Puckett | Proin sed turpis nec mauris blandit mattis. Cras eget\n",
      "350 | NLU45 | 2023/59/29 10:59:34 | 24 | Silas Payne | Mauris ut\n",
      "123 | HHQ31 | 2024/18/24 07:18:22 | 22 | Carissa Griffith | hendrerit. Donec porttitor tellus non magna. Nam ligula\n",
      "382 | YJC89 | 2023/11/29 05:11:17 | 22 | Mia Crawford | vitae mauris sit amet lorem semper auctor. Mauris vel turpis. Aliquam adipiscing lobortis risus. In mi pede, nonummy\n",
      "393 | GUU71 | 2022/59/24 10:59:24 | 22 | Isaac Rios | est arcu ac orci.\n",
      "157 | PXQ38 | 2023/25/28 11:25:07 | 19 | Fitzgerald Newton | semper rutrum. Fusce dolor quam, elementum at, egestas a, scelerisque sed, sapien. Nunc pulvinar arcu et\n",
      "429 | HIF27 | 2023/33/23 04:33:14 | 19 | Jordan Carr | orci. Phasellus dapibus quam quis diam. Pellentesque habitant morbi tristique senectus et netus\n",
      "302 | BJQ67 | 2024/45/23 12:45:54 | 18 | Ignatius Rogers | lorem ac risus.\n",
      "32 | CON07 | 2024/17/24 03:17:44 | 17 | Ella Dyer | lectus quis massa.\n",
      "379 | TTL91 | 2023/27/23 05:27:07 | 17 | Shelley O'donnell | lorem ipsum sodales purus, in molestie tortor nibh sit amet orci. Ut sagittis lobortis mauris. Suspendisse\n",
      "443 | OYH64 | 2024/13/26 01:13:18 | 17 | Xantha Mcconnell | Integer mollis. Integer tincidunt aliquam arcu. Aliquam ultrices iaculis odio. Nam\n",
      "12 | MLK27 | 2024/59/23 11:59:28 | 15 | Lewis Mendez | bibendum sed, est. Nunc laoreet lectus quis massa. Mauris vestibulum, neque\n"
     ]
    }
   ],
   "source": [
    "datagrid.show(0, 20)"
   ]
  },
  {
   "cell_type": "markdown",
   "metadata": {},
   "source": [
    "### `.select_count(i, j)`"
   ]
  },
  {
   "cell_type": "markdown",
   "metadata": {},
   "source": [
    "This method returns the entries between $i$ and $j$, $[i, j]$, considering the `count` feature sorted in ascending order."
   ]
  },
  {
   "cell_type": "code",
   "execution_count": 33,
   "metadata": {},
   "outputs": [
    {
     "name": "stdout",
     "output_type": "stream",
     "text": [
      "6 | XLR32 | 2024/45/29 05:45:47 | 4 | Kay Witt | libero dui\n",
      "15 | UEV15 | 2023/45/25 01:45:08 | 1 | Irene Hodge | magna. Lorem ipsum dolor sit\n",
      "21 | NAX44 | 2023/18/26 10:18:20 | 5 | Travis Irwin | egestas blandit. Nam nulla magna, malesuada vel, convallis in, cursus et, eros. Proin ultrices. Duis volutpat nunc sit\n",
      "66 | ZQI45 | 2023/36/25 04:36:36 | 2 | Emma Hobbs | vestibulum, neque sed dictum eleifend, nunc risus varius orci, in consequat\n",
      "90 | CQA55 | 2022/14/28 09:14:29 | 3 | Ethan Puckett | vitae diam. Proin dolor. Nulla semper tellus id nunc interdum feugiat. Sed nec metus facilisis lorem\n",
      "97 | ZWQ36 | 2023/46/28 01:46:23 | 4 | Leroy Winters | sed, sapien. Nunc pulvinar arcu et pede. Nunc sed orci lobortis\n",
      "111 | IYU69 | 2023/51/23 03:51:13 | 1 | Zelda Merritt | ut, pellentesque eget, dictum placerat, augue. Sed molestie. Sed id risus\n",
      "127 | OMN45 | 2022/12/29 04:12:38 | 7 | Reagan French | dui lectus rutrum urna, nec luctus felis purus ac tellus. Suspendisse sed dolor. Fusce mi\n",
      "137 | XEH56 | 2024/41/29 03:41:12 | 4 | Hamilton Love | nulla. In tincidunt congue turpis. In condimentum. Donec at arcu. Vestibulum\n",
      "149 | RTB11 | 2023/42/24 07:42:40 | 2 | Kenyon Matthews | pulvinar arcu et pede. Nunc\n",
      "161 | UBN80 | 2023/29/28 05:29:52 | 2 | Galvin Dominguez | lectus justo eu arcu. Morbi sit amet massa.\n",
      "237 | WLI37 | 2023/44/28 06:44:48 | 1 | Melodie Terrell | habitant morbi tristique senectus et netus et malesuada fames ac turpis egestas. Aliquam fringilla cursus purus. Nullam scelerisque neque\n",
      "242 | ITN75 | 2023/45/27 04:45:01 | 1 | Sonya Norris | justo eu arcu. Morbi sit amet massa. Quisque porttitor eros nec tellus. Nunc\n",
      "254 | ZYE90 | 2024/47/23 03:47:19 | 2 | Hamilton Craft | feugiat nec, diam. Duis mi enim, condimentum\n",
      "266 | KOI56 | 2023/45/29 12:45:08 | 2 | Erin Macdonald | dictum. Proin eget odio. Aliquam vulputate ullamcorper magna. Sed eu eros. Nam consequat dolor vitae dolor. Donec fringilla. Donec feugiat\n",
      "280 | PSY78 | 2024/23/25 02:23:52 | 3 | Uta Mejia | Curae Phasellus ornare. Fusce mollis. Duis sit amet diam eu dolor egestas\n",
      "300 | YDU31 | 2024/46/29 12:46:53 | 4 | Jemima Dyer | amet,\n",
      "320 | TMM33 | 2022/11/28 12:11:52 | 8 | Tobias Johns | arcu. Morbi sit amet massa. Quisque porttitor eros nec tellus. Nunc lectus pede, ultrices a, auctor\n",
      "415 | MKH59 | 2024/16/28 02:16:10 | 2 | Breanna Grant | porttitor scelerisque neque. Nullam nisl. Maecenas malesuada\n",
      "427 | AWV53 | 2023/27/27 10:27:09 | 8 | Oliver Morales | viverra. Donec tempus, lorem fringilla ornare placerat, orci lacus vestibulum lorem, sit amet ultricies sem magna nec quam. Curabitur\n",
      "456 | TUH64 | 2023/55/25 08:55:20 | 3 | Octavia Graham | odio. Aliquam vulputate ullamcorper magna. Sed eu eros. Nam consequat dolor\n"
     ]
    }
   ],
   "source": [
    "# to use median-of-medians\n",
    "datagrid.select_count(0, 20)"
   ]
  },
  {
   "cell_type": "code",
   "execution_count": 34,
   "metadata": {},
   "outputs": [
    {
     "name": "stdout",
     "output_type": "stream",
     "text": [
      "15 | UEV15 | 2023/45/25 01:45:08 | 1 | Irene Hodge | magna. Lorem ipsum dolor sit\n",
      "111 | IYU69 | 2023/51/23 03:51:13 | 1 | Zelda Merritt | ut, pellentesque eget, dictum placerat, augue. Sed molestie. Sed id risus\n",
      "237 | WLI37 | 2023/44/28 06:44:48 | 1 | Melodie Terrell | habitant morbi tristique senectus et netus et malesuada fames ac turpis egestas. Aliquam fringilla cursus purus. Nullam scelerisque neque\n",
      "242 | ITN75 | 2023/45/27 04:45:01 | 1 | Sonya Norris | justo eu arcu. Morbi sit amet massa. Quisque porttitor eros nec tellus. Nunc\n",
      "161 | UBN80 | 2023/29/28 05:29:52 | 2 | Galvin Dominguez | lectus justo eu arcu. Morbi sit amet massa.\n",
      "66 | ZQI45 | 2023/36/25 04:36:36 | 2 | Emma Hobbs | vestibulum, neque sed dictum eleifend, nunc risus varius orci, in consequat\n",
      "149 | RTB11 | 2023/42/24 07:42:40 | 2 | Kenyon Matthews | pulvinar arcu et pede. Nunc\n",
      "254 | ZYE90 | 2024/47/23 03:47:19 | 2 | Hamilton Craft | feugiat nec, diam. Duis mi enim, condimentum\n",
      "266 | KOI56 | 2023/45/29 12:45:08 | 2 | Erin Macdonald | dictum. Proin eget odio. Aliquam vulputate ullamcorper magna. Sed eu eros. Nam consequat dolor vitae dolor. Donec fringilla. Donec feugiat\n",
      "415 | MKH59 | 2024/16/28 02:16:10 | 2 | Breanna Grant | porttitor scelerisque neque. Nullam nisl. Maecenas malesuada\n",
      "466 | FCT17 | 2023/57/28 12:57:42 | 2 | Merrill Bates | enim consequat purus. Maecenas libero est, congue a, aliquet vel, vulputate eu, odio. Phasellus\n",
      "137 | XEH56 | 2024/41/29 03:41:12 | 4 | Hamilton Love | nulla. In tincidunt congue turpis. In condimentum. Donec at arcu. Vestibulum\n",
      "21 | NAX44 | 2023/18/26 10:18:20 | 5 | Travis Irwin | egestas blandit. Nam nulla magna, malesuada vel, convallis in, cursus et, eros. Proin ultrices. Duis volutpat nunc sit\n",
      "6 | XLR32 | 2024/45/29 05:45:47 | 4 | Kay Witt | libero dui\n",
      "90 | CQA55 | 2022/14/28 09:14:29 | 3 | Ethan Puckett | vitae diam. Proin dolor. Nulla semper tellus id nunc interdum feugiat. Sed nec metus facilisis lorem\n",
      "97 | ZWQ36 | 2023/46/28 01:46:23 | 4 | Leroy Winters | sed, sapien. Nunc pulvinar arcu et pede. Nunc sed orci lobortis\n",
      "280 | PSY78 | 2024/23/25 02:23:52 | 3 | Uta Mejia | Curae Phasellus ornare. Fusce mollis. Duis sit amet diam eu dolor egestas\n",
      "300 | YDU31 | 2024/46/29 12:46:53 | 4 | Jemima Dyer | amet,\n",
      "456 | TUH64 | 2023/55/25 08:55:20 | 3 | Octavia Graham | odio. Aliquam vulputate ullamcorper magna. Sed eu eros. Nam consequat dolor\n",
      "127 | OMN45 | 2022/12/29 04:12:38 | 7 | Reagan French | dui lectus rutrum urna, nec luctus felis purus ac tellus. Suspendisse sed dolor. Fusce mi\n",
      "320 | TMM33 | 2022/11/28 12:11:52 | 8 | Tobias Johns | arcu. Morbi sit amet massa. Quisque porttitor eros nec tellus. Nunc lectus pede, ultrices a, auctor\n"
     ]
    }
   ],
   "source": [
    "# to use quickselect\n",
    "datagrid.select_count(0, 20, how = \"quickselect\")"
   ]
  },
  {
   "cell_type": "code",
   "execution_count": 35,
   "metadata": {},
   "outputs": [
    {
     "name": "stdout",
     "output_type": "stream",
     "text": [
      "242 | ITN75 | 2023/45/27 04:45:01 | 1 | Sonya Norris | justo eu arcu. Morbi sit amet massa. Quisque porttitor eros nec tellus. Nunc\n",
      "237 | WLI37 | 2023/44/28 06:44:48 | 1 | Melodie Terrell | habitant morbi tristique senectus et netus et malesuada fames ac turpis egestas. Aliquam fringilla cursus purus. Nullam scelerisque neque\n",
      "111 | IYU69 | 2023/51/23 03:51:13 | 1 | Zelda Merritt | ut, pellentesque eget, dictum placerat, augue. Sed molestie. Sed id risus\n",
      "15 | UEV15 | 2023/45/25 01:45:08 | 1 | Irene Hodge | magna. Lorem ipsum dolor sit\n",
      "161 | UBN80 | 2023/29/28 05:29:52 | 2 | Galvin Dominguez | lectus justo eu arcu. Morbi sit amet massa.\n",
      "149 | RTB11 | 2023/42/24 07:42:40 | 2 | Kenyon Matthews | pulvinar arcu et pede. Nunc\n",
      "266 | KOI56 | 2023/45/29 12:45:08 | 2 | Erin Macdonald | dictum. Proin eget odio. Aliquam vulputate ullamcorper magna. Sed eu eros. Nam consequat dolor vitae dolor. Donec fringilla. Donec feugiat\n",
      "66 | ZQI45 | 2023/36/25 04:36:36 | 2 | Emma Hobbs | vestibulum, neque sed dictum eleifend, nunc risus varius orci, in consequat\n",
      "415 | MKH59 | 2024/16/28 02:16:10 | 2 | Breanna Grant | porttitor scelerisque neque. Nullam nisl. Maecenas malesuada\n",
      "254 | ZYE90 | 2024/47/23 03:47:19 | 2 | Hamilton Craft | feugiat nec, diam. Duis mi enim, condimentum\n",
      "466 | FCT17 | 2023/57/28 12:57:42 | 2 | Merrill Bates | enim consequat purus. Maecenas libero est, congue a, aliquet vel, vulputate eu, odio. Phasellus\n",
      "280 | PSY78 | 2024/23/25 02:23:52 | 3 | Uta Mejia | Curae Phasellus ornare. Fusce mollis. Duis sit amet diam eu dolor egestas\n",
      "456 | TUH64 | 2023/55/25 08:55:20 | 3 | Octavia Graham | odio. Aliquam vulputate ullamcorper magna. Sed eu eros. Nam consequat dolor\n",
      "90 | CQA55 | 2022/14/28 09:14:29 | 3 | Ethan Puckett | vitae diam. Proin dolor. Nulla semper tellus id nunc interdum feugiat. Sed nec metus facilisis lorem\n",
      "300 | YDU31 | 2024/46/29 12:46:53 | 4 | Jemima Dyer | amet,\n",
      "97 | ZWQ36 | 2023/46/28 01:46:23 | 4 | Leroy Winters | sed, sapien. Nunc pulvinar arcu et pede. Nunc sed orci lobortis\n",
      "137 | XEH56 | 2024/41/29 03:41:12 | 4 | Hamilton Love | nulla. In tincidunt congue turpis. In condimentum. Donec at arcu. Vestibulum\n",
      "6 | XLR32 | 2024/45/29 05:45:47 | 4 | Kay Witt | libero dui\n",
      "21 | NAX44 | 2023/18/26 10:18:20 | 5 | Travis Irwin | egestas blandit. Nam nulla magna, malesuada vel, convallis in, cursus et, eros. Proin ultrices. Duis volutpat nunc sit\n",
      "127 | OMN45 | 2022/12/29 04:12:38 | 7 | Reagan French | dui lectus rutrum urna, nec luctus felis purus ac tellus. Suspendisse sed dolor. Fusce mi\n",
      "320 | TMM33 | 2022/11/28 12:11:52 | 8 | Tobias Johns | arcu. Morbi sit amet massa. Quisque porttitor eros nec tellus. Nunc lectus pede, ultrices a, auctor\n"
     ]
    }
   ],
   "source": [
    "# to use heapsort\n",
    "datagrid.select_count(0, 20, how=\"heapsort\")"
   ]
  },
  {
   "cell_type": "markdown",
   "metadata": {},
   "source": [
    "It does not change the internal state of the data structure, which can be confirmed by the `.show()` method. It shows the result of the last-applied sorting, before the `select_count()`."
   ]
  },
  {
   "cell_type": "code",
   "execution_count": 36,
   "metadata": {},
   "outputs": [
    {
     "name": "stdout",
     "output_type": "stream",
     "text": [
      "232 | FOB65 | 2023/38/27 08:38:31 | 30 | Giselle Sharp | pede ac urna. Ut tincidunt vehicula risus.\n",
      "279 | ARD95 | 2022/53/25 02:53:54 | 30 | Reuben Huber | ante ipsum primis in faucibus orci luctus et\n",
      "128 | BBB81 | 2024/37/28 08:37:16 | 28 | Orla Maynard | semper et, lacinia vitae, sodales at, velit. Pellentesque ultricies dignissim lacus. Aliquam rutrum lorem ac\n",
      "155 | RXR83 | 2024/52/25 07:52:17 | 28 | Tallulah Richardson | erat volutpat. Nulla dignissim. Maecenas ornare egestas ligula. Nullam feugiat placerat velit. Quisque varius. Nam porttitor scelerisque\n",
      "169 | RJK71 | 2023/11/26 03:11:26 | 28 | May Rollins | rhoncus id, mollis nec, cursus a,\n",
      "55 | THH38 | 2024/38/25 09:38:41 | 26 | Ivor Reid | Proin velit. Sed malesuada augue ut lacus. Nulla tincidunt, neque vitae semper egestas, urna justo faucibus lectus, a\n",
      "76 | XEV44 | 2023/13/28 10:13:25 | 26 | Xander Bennett | orci, in consequat enim diam vel arcu. Curabitur ut odio vel est tempor bibendum. Donec felis orci, adipiscing non,\n",
      "188 | ECZ75 | 2023/48/23 03:48:20 | 25 | Timon Leach | et, commodo at, libero. Morbi accumsan laoreet ipsum. Curabitur consequat, lectus sit amet luctus vulputate,\n",
      "308 | MAP58 | 2024/28/25 07:28:50 | 25 | Camden Puckett | Proin sed turpis nec mauris blandit mattis. Cras eget\n",
      "350 | NLU45 | 2023/59/29 10:59:34 | 24 | Silas Payne | Mauris ut\n",
      "123 | HHQ31 | 2024/18/24 07:18:22 | 22 | Carissa Griffith | hendrerit. Donec porttitor tellus non magna. Nam ligula\n",
      "382 | YJC89 | 2023/11/29 05:11:17 | 22 | Mia Crawford | vitae mauris sit amet lorem semper auctor. Mauris vel turpis. Aliquam adipiscing lobortis risus. In mi pede, nonummy\n",
      "393 | GUU71 | 2022/59/24 10:59:24 | 22 | Isaac Rios | est arcu ac orci.\n",
      "157 | PXQ38 | 2023/25/28 11:25:07 | 19 | Fitzgerald Newton | semper rutrum. Fusce dolor quam, elementum at, egestas a, scelerisque sed, sapien. Nunc pulvinar arcu et\n",
      "429 | HIF27 | 2023/33/23 04:33:14 | 19 | Jordan Carr | orci. Phasellus dapibus quam quis diam. Pellentesque habitant morbi tristique senectus et netus\n",
      "302 | BJQ67 | 2024/45/23 12:45:54 | 18 | Ignatius Rogers | lorem ac risus.\n",
      "32 | CON07 | 2024/17/24 03:17:44 | 17 | Ella Dyer | lectus quis massa.\n",
      "379 | TTL91 | 2023/27/23 05:27:07 | 17 | Shelley O'donnell | lorem ipsum sodales purus, in molestie tortor nibh sit amet orci. Ut sagittis lobortis mauris. Suspendisse\n",
      "443 | OYH64 | 2024/13/26 01:13:18 | 17 | Xantha Mcconnell | Integer mollis. Integer tincidunt aliquam arcu. Aliquam ultrices iaculis odio. Nam\n",
      "12 | MLK27 | 2024/59/23 11:59:28 | 15 | Lewis Mendez | bibendum sed, est. Nunc laoreet lectus quis massa. Mauris vestibulum, neque\n"
     ]
    }
   ],
   "source": [
    "datagrid.show(0, 20)"
   ]
  },
  {
   "cell_type": "markdown",
   "metadata": {},
   "source": [
    "---"
   ]
  },
  {
   "cell_type": "markdown",
   "metadata": {},
   "source": [
    "# $\\Rightarrow$ Testing the **Open Addressing** nature of our **HashTable**"
   ]
  },
  {
   "cell_type": "code",
   "execution_count": 37,
   "metadata": {},
   "outputs": [],
   "source": [
    "from datagrid import DataGrid"
   ]
  },
  {
   "cell_type": "code",
   "execution_count": 38,
   "metadata": {},
   "outputs": [],
   "source": [
    "datagrid2 = DataGrid()"
   ]
  },
  {
   "cell_type": "markdown",
   "metadata": {},
   "source": [
    "Let's insert some values into the hashtable:"
   ]
  },
  {
   "cell_type": "code",
   "execution_count": 39,
   "metadata": {},
   "outputs": [],
   "source": [
    "ids = [1, 2, 3, 4, 5, 11, 21]\n",
    "\n",
    "for id in ids:\n",
    "    row = {}\n",
    "    row[\"id\"] = id\n",
    "    row[\"owner_id\"] = \"ABC123\"\n",
    "    row[\"creation_date\"] = \"2023/10/06 12:00:15\"\n",
    "    row[\"count\"] = id\n",
    "    row[\"name\"] = \"Item \" + str(id)\n",
    "    row[\"content\"] = \"This is the content for Item \" + str(id)\n",
    "    datagrid2.insert_row(row)"
   ]
  },
  {
   "cell_type": "code",
   "execution_count": 40,
   "metadata": {},
   "outputs": [
    {
     "name": "stdout",
     "output_type": "stream",
     "text": [
      "1 | ABC123 | 2023/10/06 12:00:15 | 1 | Item 1 | This is the content for Item 1\n",
      "2 | ABC123 | 2023/10/06 12:00:15 | 2 | Item 2 | This is the content for Item 2\n",
      "3 | ABC123 | 2023/10/06 12:00:15 | 3 | Item 3 | This is the content for Item 3\n",
      "4 | ABC123 | 2023/10/06 12:00:15 | 4 | Item 4 | This is the content for Item 4\n",
      "5 | ABC123 | 2023/10/06 12:00:15 | 5 | Item 5 | This is the content for Item 5\n",
      "11 | ABC123 | 2023/10/06 12:00:15 | 11 | Item 11 | This is the content for Item 11\n",
      "21 | ABC123 | 2023/10/06 12:00:15 | 21 | Item 21 | This is the content for Item 21\n"
     ]
    }
   ],
   "source": [
    "datagrid2.show(0, 10)"
   ]
  },
  {
   "cell_type": "markdown",
   "metadata": {},
   "source": [
    "If we search for the `id = 1`, we will see:"
   ]
  },
  {
   "cell_type": "code",
   "execution_count": 41,
   "metadata": {},
   "outputs": [
    {
     "name": "stdout",
     "output_type": "stream",
     "text": [
      "1 | ABC123 | 2023/10/06 12:00:15 | 1 | Item 1 | This is the content for Item 1\n"
     ]
    }
   ],
   "source": [
    "datagrid2.search(column=\"id\", value=1)"
   ]
  },
  {
   "cell_type": "markdown",
   "metadata": {},
   "source": [
    "Same for `id = 11`. Remember that our hash function is `h(x) = x % 10`, so they are both mapped to the same position."
   ]
  },
  {
   "cell_type": "code",
   "execution_count": 42,
   "metadata": {},
   "outputs": [
    {
     "name": "stdout",
     "output_type": "stream",
     "text": [
      "11 | ABC123 | 2023/10/06 12:00:15 | 11 | Item 11 | This is the content for Item 11\n"
     ]
    }
   ],
   "source": [
    "datagrid2.search(column=\"id\", value=11)"
   ]
  },
  {
   "cell_type": "markdown",
   "metadata": {},
   "source": [
    "Let's delete the entry with `id = 1`:"
   ]
  },
  {
   "cell_type": "code",
   "execution_count": 43,
   "metadata": {},
   "outputs": [
    {
     "name": "stdout",
     "output_type": "stream",
     "text": [
      "Row with id = 1 deleted\n"
     ]
    }
   ],
   "source": [
    "datagrid2.delete_row(column=\"id\", value=1)"
   ]
  },
  {
   "cell_type": "code",
   "execution_count": 44,
   "metadata": {},
   "outputs": [
    {
     "name": "stdout",
     "output_type": "stream",
     "text": [
      "Row with id = 1 not found\n"
     ]
    }
   ],
   "source": [
    "datagrid2.search(column=\"id\", value=1)"
   ]
  },
  {
   "cell_type": "markdown",
   "metadata": {},
   "source": [
    "If our implementation is right, we should still be able to find the entry with `id = 11`:"
   ]
  },
  {
   "cell_type": "code",
   "execution_count": 45,
   "metadata": {},
   "outputs": [
    {
     "name": "stdout",
     "output_type": "stream",
     "text": [
      "11 | ABC123 | 2023/10/06 12:00:15 | 11 | Item 11 | This is the content for Item 11\n"
     ]
    }
   ],
   "source": [
    "datagrid2.search(column=\"id\", value=11)"
   ]
  },
  {
   "cell_type": "markdown",
   "metadata": {},
   "source": [
    "It seems to work just fine. Let's try to delete the entry with `id = 11`:"
   ]
  },
  {
   "cell_type": "code",
   "execution_count": 46,
   "metadata": {},
   "outputs": [
    {
     "name": "stdout",
     "output_type": "stream",
     "text": [
      "Row with id = 11 deleted\n"
     ]
    }
   ],
   "source": [
    "datagrid2.delete_row(column=\"id\", value=11)"
   ]
  },
  {
   "cell_type": "markdown",
   "metadata": {},
   "source": [
    "If we search for it again, we should be informed that it does not exist:"
   ]
  },
  {
   "cell_type": "code",
   "execution_count": 47,
   "metadata": {},
   "outputs": [
    {
     "name": "stdout",
     "output_type": "stream",
     "text": [
      "Row with id = 11 not found\n"
     ]
    }
   ],
   "source": [
    "datagrid2.search(column=\"id\", value=11)"
   ]
  },
  {
   "cell_type": "markdown",
   "metadata": {},
   "source": [
    "Also note that our `.show()` method shows us each row, removing the deleted entries."
   ]
  },
  {
   "cell_type": "code",
   "execution_count": 48,
   "metadata": {},
   "outputs": [
    {
     "name": "stdout",
     "output_type": "stream",
     "text": [
      "2 | ABC123 | 2023/10/06 12:00:15 | 2 | Item 2 | This is the content for Item 2\n",
      "3 | ABC123 | 2023/10/06 12:00:15 | 3 | Item 3 | This is the content for Item 3\n",
      "4 | ABC123 | 2023/10/06 12:00:15 | 4 | Item 4 | This is the content for Item 4\n",
      "5 | ABC123 | 2023/10/06 12:00:15 | 5 | Item 5 | This is the content for Item 5\n",
      "21 | ABC123 | 2023/10/06 12:00:15 | 21 | Item 21 | This is the content for Item 21\n"
     ]
    }
   ],
   "source": [
    "datagrid2.show(0, 10)"
   ]
  },
  {
   "cell_type": "markdown",
   "metadata": {},
   "source": [
    "Note that we also have the entry with `id = 21`, which is mapped to the same position as `id = 1` and `id = 11`. Let's try to find it:"
   ]
  },
  {
   "cell_type": "code",
   "execution_count": 49,
   "metadata": {},
   "outputs": [
    {
     "name": "stdout",
     "output_type": "stream",
     "text": [
      "21 | ABC123 | 2023/10/06 12:00:15 | 21 | Item 21 | This is the content for Item 21\n"
     ]
    }
   ],
   "source": [
    "datagrid2.search(column=\"id\", value=21)"
   ]
  }
 ],
 "metadata": {
  "kernelspec": {
   "display_name": "Python 3",
   "language": "python",
   "name": "python3"
  },
  "language_info": {
   "codemirror_mode": {
    "name": "ipython",
    "version": 3
   },
   "file_extension": ".py",
   "mimetype": "text/x-python",
   "name": "python",
   "nbconvert_exporter": "python",
   "pygments_lexer": "ipython3",
   "version": "3.10.12"
  }
 },
 "nbformat": 4,
 "nbformat_minor": 2
}
