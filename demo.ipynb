{
 "cells": [
  {
   "cell_type": "markdown",
   "metadata": {},
   "source": [
    "# $\\Rightarrow$ Testing the **DataGrid** module"
   ]
  },
  {
   "cell_type": "markdown",
   "metadata": {},
   "source": [
    "Import the class:"
   ]
  },
  {
   "cell_type": "code",
   "execution_count": 2,
   "metadata": {},
   "outputs": [],
   "source": [
    "import sys\n",
    "sys.path.append('src/')\n",
    "\n",
    "from datagrid import DataGrid"
   ]
  },
  {
   "cell_type": "markdown",
   "metadata": {},
   "source": [
    "Instantiate the class:"
   ]
  },
  {
   "cell_type": "code",
   "execution_count": 3,
   "metadata": {},
   "outputs": [],
   "source": [
    "datagrid = DataGrid()"
   ]
  },
  {
   "cell_type": "markdown",
   "metadata": {},
   "source": [
    "### `.read_csv(file, sep = ',', encoding = 'utf-8')`"
   ]
  },
  {
   "cell_type": "markdown",
   "metadata": {},
   "source": [
    "You can read a `.csv` file into the datagrid object."
   ]
  },
  {
   "cell_type": "code",
   "execution_count": 4,
   "metadata": {},
   "outputs": [
    {
     "name": "stdout",
     "output_type": "stream",
     "text": [
      "File read successfully\n"
     ]
    }
   ],
   "source": [
    "datagrid.read_csv(\"data/fake_data1000.csv\")"
   ]
  },
  {
   "cell_type": "code",
   "execution_count": 6,
   "metadata": {},
   "outputs": [
    {
     "name": "stdout",
     "output_type": "stream",
     "text": [
      "0 | EFD4Q | 2014/03/20 11:48:57 | 88 | BDTFDXGYXEQ | A436BVF45XKGBBJ0HOT9U9GFXHLXV1L1DIDUVL9Y776G8I8M99A94QTGT092DQJP2\n",
      "1 | TJHRW | 2017/05/14 19:47:58 | 53 | SBZANCQ | LEGFUPL1JM2MQTCCURF7MVRFI0BN3W5N0R73O3O2I87HNWOZC9\n",
      "2 | H2HHU | 2002/08/24 17:58:59 | 17 | KW | OV5N2B21ED44JW516DXK0HU56FEM3GUGCAON4RSIQ6X7O5H3VOVCZL9QLJSB4CLAZ1JNN6H6KRO1GUNZ650EL8KF3Z9RZKOD1TZSDC\n",
      "3 | 8MCQU | 2020/07/19 21:10:52 | 82 | HBLWWURCQLZHPMFHM | C1TV0A3GHEVH1SNIGB3Z3WOI2809N9TDJUG50DB94J5YECCZ33N2ME8QWRJQKIPP2VT8YO1CPIVU7NODJDATAJWOPCUFFBN0YZMBBP0I0UE6FWLEI2WNVG5WOXG8YC5T6V5RL15UGTX4STSIP2N07E7G2QWZKK714HZUPP80SK4E3P99JLRODJ0WG1653JMDEHUFCYD229SSFL01H50CC0HZLVSS20IW8XFEZMQX8X2SU59Z2QB1EAVQQS7T0EE17RHHWGGC124\n",
      "4 | B9J6O | 2009/05/13 11:47:17 | 71 | DXNUTIRRRC | 7XDLT34GKADD15WC276ESUHHM9T1AYQC23DMI5W922TESPIW4DX3PN4YL0469EZLPSUJ2S0Q9QQFLOIU\n",
      "5 | 55QGB | 2006/05/10 08:37:43 | 45 | ALYSWKL | 8TRSMUTWWY7NNX5RRFK3L9WI3NOQ83L773UCIO5TGZSE66J59KAOTUFSVR800BA4HJ7EC052I3ZL62XNVO6ORZX3Y9IB0JRQ460LYFCQU6EYCLLE1X1D1LIX13YYBLTGVYKFXW4S4FUF7RTJ3F4QHQ0UFTXRBT5VX6A1YH73AKKBL9M2TSUA99IZNV41LV764JAOWKZQOFRJMD6ZGFHDXWBNGPBG59O5QS2JBBSHYWFZ4RPXOFA98XMJX12PE47NN7XQ8NZ34GU3LA5UX0\n",
      "6 | A1HRP | 2007/05/15 16:36:44 | 3 | B | 90QLHNAPOR07FB1HHVNVEI2JMC61OSPCVD6WO761686C16TQ232KNIA07AMNJX1HVW5F1GPCO8W2KJC7B5ESHCIZ3Y29HZLTNPRF1BA6AE7AE86WCUVZ1R9PKHRGJV9E9EPXJ9SIAH0FUII9Y2JP3ZCSSOD5J1PE8TF4CAVCCPMN2V9QXFDYSW8H0ZOM3R34ZI79A2Y7S0XQC10YIUXY5XGEUMA6APC1JXTL8BFMC3TE120VQ0TP5OJH3V2NI3REWM6U354R5S4QECWMK5S35I0YGVAR571BH\n",
      "7 | 7C8Z5 | 2004/09/30 16:56:14 | 50 | XYALSJSSKW | 263PJU4YM54DJ7YGI3E2A2ZHCT49PBTRAS4LH64XNKNQ8THAKR2QU7SGRXT7FLERL8I1RSLNWO1T6U6CUYNXQXEFYF2LNEVG0NE4N7DNBS5V10OB3RSF14QBHRXQPJLSACXPDQ2AA16H1I6BJALQLP88FRSN9RRYRL0UHIZZVLMDRMW9KLDU6S7B8DS86RM7SK2NAHM5V81KHR25WPF55NHE37IU8Z8VH436G4XVF7KTF5GUYFLSYS\n",
      "8 | 8XI84 | 2017/10/31 10:33:31 | 4 | CVANKQDLPOY | IDAG9SDOVHSZ0FJCGW9FDZBAGT1S5GZXEQ7ZGC79OCVDH3HTIAOY4YT9VMR8SAUKT7P3F8AL4SQP6JLJJ4WYBVVIVXW4U3KBMBF3HFTBKFIJGW9O75IW7957V55OND8WTDPI9GGSJB0945ERH5ATVJXF549CMAIYB2OZZAHA15JKW9O5AUSJ\n",
      "9 | J0TNM | 2017/08/09 02:09:48 | 75 | ZHLRBYQCFIFUEOZZYD | SKSTA1I3ATMAURKJAYZF31J7IV67UGN9A1Z9K4IR91C6GP62263CWGJ8ID19EFE24DTG618SRJCKIS12UNJ0G6UET\n"
     ]
    }
   ],
   "source": [
    "datagrid.show(0, 10)"
   ]
  },
  {
   "cell_type": "markdown",
   "metadata": {},
   "source": [
    "### `.show(start = 0, end = 100)`"
   ]
  },
  {
   "cell_type": "markdown",
   "metadata": {},
   "source": [
    "You can also show the range of rows you'd like."
   ]
  },
  {
   "cell_type": "code",
   "execution_count": null,
   "metadata": {},
   "outputs": [],
   "source": [
    "datagrid.show(0, 10)"
   ]
  },
  {
   "cell_type": "code",
   "execution_count": null,
   "metadata": {},
   "outputs": [],
   "source": [
    "datagrid.delete_row(column=\"id\", value=1)"
   ]
  },
  {
   "cell_type": "code",
   "execution_count": null,
   "metadata": {},
   "outputs": [],
   "source": [
    "datagrid.show(0, 10)"
   ]
  },
  {
   "cell_type": "markdown",
   "metadata": {},
   "source": [
    "### `.insert_row(row)`"
   ]
  },
  {
   "cell_type": "markdown",
   "metadata": {},
   "source": [
    "You may want to add rows through a dictionary:"
   ]
  },
  {
   "cell_type": "code",
   "execution_count": null,
   "metadata": {},
   "outputs": [],
   "source": [
    "new_row = {\"id\": 510, \"owner_id\": \"ABC123\", \"creation_date\": \"2023/10/06 12:00:15\", \"count\": 6, \"name\": \"Item 98\", \"content\": \"This is the content for Item 98\"}\n",
    "datagrid.insert_row(new_row)"
   ]
  },
  {
   "cell_type": "code",
   "execution_count": null,
   "metadata": {},
   "outputs": [],
   "source": [
    "datagrid.show(500, 600)"
   ]
  },
  {
   "cell_type": "markdown",
   "metadata": {},
   "source": [
    "If the ID is already in the datagrid, the row will be updated:"
   ]
  },
  {
   "cell_type": "code",
   "execution_count": null,
   "metadata": {},
   "outputs": [],
   "source": [
    "new_row = {\"id\": 2, \"owner_id\": \"ABC123\", \"creation_date\": \"2023/10/06 12:00:15\", \"count\": 6, \"name\": \"Item 98\", \"content\": \"This is the content for Item 98\"}\n",
    "datagrid.insert_row(new_row)"
   ]
  },
  {
   "cell_type": "code",
   "execution_count": null,
   "metadata": {},
   "outputs": [],
   "source": [
    "datagrid.show(0, 5)"
   ]
  },
  {
   "cell_type": "markdown",
   "metadata": {},
   "source": [
    "### `.delete_row(column, value)`"
   ]
  },
  {
   "cell_type": "markdown",
   "metadata": {},
   "source": [
    "You can also delete rows based on the value of the columns:"
   ]
  },
  {
   "cell_type": "code",
   "execution_count": null,
   "metadata": {},
   "outputs": [],
   "source": [
    "datagrid.delete_row(column=\"id\", value=5)"
   ]
  },
  {
   "cell_type": "code",
   "execution_count": null,
   "metadata": {},
   "outputs": [],
   "source": [
    "datagrid.search(column=\"id\", value=5)"
   ]
  },
  {
   "cell_type": "code",
   "execution_count": null,
   "metadata": {},
   "outputs": [],
   "source": [
    "datagrid.delete_row(column=\"owner_id\", value=\"ABC123\")"
   ]
  },
  {
   "cell_type": "code",
   "execution_count": null,
   "metadata": {},
   "outputs": [],
   "source": [
    "datagrid.search(column=\"owner_id\", value=\"ABC123\")"
   ]
  },
  {
   "cell_type": "code",
   "execution_count": null,
   "metadata": {},
   "outputs": [],
   "source": [
    "datagrid.delete_row(\"creation_date\", (\"2006/03/22 00:00:00\", \"2006/06/23 00:00:00\"))"
   ]
  },
  {
   "cell_type": "code",
   "execution_count": null,
   "metadata": {},
   "outputs": [],
   "source": [
    "datagrid.delete_row(column=\"count\", value=(20, 21))"
   ]
  },
  {
   "cell_type": "code",
   "execution_count": null,
   "metadata": {},
   "outputs": [],
   "source": [
    "datagrid.search(column=\"count\", value=(20, 21))"
   ]
  },
  {
   "cell_type": "code",
   "execution_count": null,
   "metadata": {},
   "outputs": [],
   "source": [
    "datagrid.delete_row(\"name\", \"A\")"
   ]
  },
  {
   "cell_type": "code",
   "execution_count": null,
   "metadata": {},
   "outputs": [],
   "source": [
    "datagrid.search(\"name\", \"A\")"
   ]
  },
  {
   "cell_type": "code",
   "execution_count": null,
   "metadata": {},
   "outputs": [],
   "source": [
    "datagrid.delete_row(\"content\", \"XS\")"
   ]
  },
  {
   "cell_type": "markdown",
   "metadata": {},
   "source": [
    "### `.search(column, value)`"
   ]
  },
  {
   "cell_type": "code",
   "execution_count": null,
   "metadata": {},
   "outputs": [],
   "source": [
    "datagrid.search(column=\"id\", value=5)"
   ]
  },
  {
   "cell_type": "code",
   "execution_count": null,
   "metadata": {},
   "outputs": [],
   "source": [
    "datagrid.search(column=\"id\", value=1)"
   ]
  },
  {
   "cell_type": "code",
   "execution_count": null,
   "metadata": {},
   "outputs": [],
   "source": [
    "datagrid.search(column=\"owner_id\", value=\"ZXR2E\")"
   ]
  },
  {
   "cell_type": "code",
   "execution_count": null,
   "metadata": {},
   "outputs": [],
   "source": [
    "datagrid.search(\"creation_date\", (\"2023/03/22 07:35:23\", \"2023/04/23 00:00:00\"))"
   ]
  },
  {
   "cell_type": "code",
   "execution_count": null,
   "metadata": {},
   "outputs": [],
   "source": [
    "datagrid.search(column=\"count\", value=(18, 19))"
   ]
  },
  {
   "cell_type": "code",
   "execution_count": null,
   "metadata": {},
   "outputs": [],
   "source": [
    "datagrid.search(\"name\", \"BR\")"
   ]
  },
  {
   "cell_type": "code",
   "execution_count": null,
   "metadata": {},
   "outputs": [],
   "source": [
    "datagrid.search(\"content\", \"XH\")"
   ]
  },
  {
   "cell_type": "markdown",
   "metadata": {},
   "source": [
    "### `.sort(column, direction = 'asc')`"
   ]
  },
  {
   "cell_type": "code",
   "execution_count": null,
   "metadata": {},
   "outputs": [],
   "source": [
    "datagrid.sort(column=\"id\", direction=\"desc\")"
   ]
  },
  {
   "cell_type": "markdown",
   "metadata": {},
   "source": [
    "Now the `show()` method will show the sorted datagrid:"
   ]
  },
  {
   "cell_type": "code",
   "execution_count": null,
   "metadata": {},
   "outputs": [],
   "source": [
    "datagrid.show(0, 10)"
   ]
  },
  {
   "cell_type": "markdown",
   "metadata": {},
   "source": [
    "You can sort the data by whatever column you'd like."
   ]
  },
  {
   "cell_type": "code",
   "execution_count": null,
   "metadata": {},
   "outputs": [],
   "source": [
    "datagrid.sort(column=\"count\", direction=\"desc\")"
   ]
  },
  {
   "cell_type": "code",
   "execution_count": null,
   "metadata": {},
   "outputs": [],
   "source": [
    "datagrid.show(0, 20)"
   ]
  },
  {
   "cell_type": "markdown",
   "metadata": {},
   "source": [
    "### `.select_count(i, j)`"
   ]
  },
  {
   "cell_type": "markdown",
   "metadata": {},
   "source": [
    "This method returns the entries between $i$ and $j$, $[i, j]$, considering the `count` feature sorted in ascending order."
   ]
  },
  {
   "cell_type": "code",
   "execution_count": null,
   "metadata": {},
   "outputs": [],
   "source": [
    "from datagrid import DataGrid\n",
    "datagrid = DataGrid()\n",
    "datagrid.read_csv(\"data/data.csv\")"
   ]
  },
  {
   "cell_type": "code",
   "execution_count": null,
   "metadata": {},
   "outputs": [],
   "source": [
    "# to use median-of-medians\n",
    "datagrid.select_count(0, 20)"
   ]
  },
  {
   "cell_type": "code",
   "execution_count": null,
   "metadata": {},
   "outputs": [],
   "source": [
    "# to use quickselect\n",
    "datagrid.select_count(0, 20, how = \"quickselect\")"
   ]
  },
  {
   "cell_type": "code",
   "execution_count": null,
   "metadata": {},
   "outputs": [],
   "source": [
    "# to use heapsort\n",
    "datagrid.select_count(0, 20, how=\"heapsort\")"
   ]
  },
  {
   "cell_type": "markdown",
   "metadata": {},
   "source": [
    "It does not change the internal state of the data structure, which can be confirmed by the `.show()` method. It shows the result of the last-applied sorting, before the `select_count()`."
   ]
  },
  {
   "cell_type": "code",
   "execution_count": null,
   "metadata": {},
   "outputs": [],
   "source": [
    "datagrid.show(0, 20)"
   ]
  },
  {
   "cell_type": "markdown",
   "metadata": {},
   "source": [
    "---"
   ]
  },
  {
   "cell_type": "markdown",
   "metadata": {},
   "source": [
    "# $\\Rightarrow$ Testing the **Open Addressing** nature of our **HashTable**"
   ]
  },
  {
   "cell_type": "code",
   "execution_count": null,
   "metadata": {},
   "outputs": [],
   "source": [
    "from datagrid import DataGrid"
   ]
  },
  {
   "cell_type": "code",
   "execution_count": null,
   "metadata": {},
   "outputs": [],
   "source": [
    "datagrid2 = DataGrid()"
   ]
  },
  {
   "cell_type": "markdown",
   "metadata": {},
   "source": [
    "Let's insert some values into the hashtable:"
   ]
  },
  {
   "cell_type": "code",
   "execution_count": null,
   "metadata": {},
   "outputs": [],
   "source": [
    "ids = [1, 2, 3, 4, 5, 11, 21]\n",
    "\n",
    "for id in ids:\n",
    "    row = {}\n",
    "    row[\"id\"] = id\n",
    "    row[\"owner_id\"] = \"ABC123\"\n",
    "    row[\"creation_date\"] = \"2023/10/06 12:00:15\"\n",
    "    row[\"count\"] = id\n",
    "    row[\"name\"] = \"Item \" + str(id)\n",
    "    row[\"content\"] = \"This is the content for Item \" + str(id)\n",
    "    datagrid2.insert_row(row)"
   ]
  },
  {
   "cell_type": "code",
   "execution_count": null,
   "metadata": {},
   "outputs": [],
   "source": [
    "datagrid2.show(0, 10)"
   ]
  },
  {
   "cell_type": "markdown",
   "metadata": {},
   "source": [
    "If we search for the `id = 1`, we will see:"
   ]
  },
  {
   "cell_type": "code",
   "execution_count": null,
   "metadata": {},
   "outputs": [],
   "source": [
    "datagrid2.search(column=\"id\", value=1)"
   ]
  },
  {
   "cell_type": "markdown",
   "metadata": {},
   "source": [
    "Same for `id = 11`. Remember that our hash function is `h(x) = x % 10`, so they are both mapped to the same position."
   ]
  },
  {
   "cell_type": "code",
   "execution_count": null,
   "metadata": {},
   "outputs": [],
   "source": [
    "datagrid2.search(column=\"id\", value=11)"
   ]
  },
  {
   "cell_type": "markdown",
   "metadata": {},
   "source": [
    "Let's delete the entry with `id = 1`:"
   ]
  },
  {
   "cell_type": "code",
   "execution_count": null,
   "metadata": {},
   "outputs": [],
   "source": [
    "datagrid2.delete_row(column=\"id\", value=1)"
   ]
  },
  {
   "cell_type": "code",
   "execution_count": null,
   "metadata": {},
   "outputs": [],
   "source": [
    "datagrid2.search(column=\"id\", value=1)"
   ]
  },
  {
   "cell_type": "markdown",
   "metadata": {},
   "source": [
    "If our implementation is right, we should still be able to find the entry with `id = 11`:"
   ]
  },
  {
   "cell_type": "code",
   "execution_count": null,
   "metadata": {},
   "outputs": [],
   "source": [
    "datagrid2.search(column=\"id\", value=11)"
   ]
  },
  {
   "cell_type": "markdown",
   "metadata": {},
   "source": [
    "It seems to work just fine. Let's try to delete the entry with `id = 11`:"
   ]
  },
  {
   "cell_type": "code",
   "execution_count": null,
   "metadata": {},
   "outputs": [],
   "source": [
    "datagrid2.delete_row(column=\"id\", value=11)"
   ]
  },
  {
   "cell_type": "markdown",
   "metadata": {},
   "source": [
    "If we search for it again, we should be informed that it does not exist:"
   ]
  },
  {
   "cell_type": "code",
   "execution_count": null,
   "metadata": {},
   "outputs": [],
   "source": [
    "datagrid2.search(column=\"id\", value=11)"
   ]
  },
  {
   "cell_type": "markdown",
   "metadata": {},
   "source": [
    "Also note that our `.show()` method shows us each row, removing the deleted entries."
   ]
  },
  {
   "cell_type": "code",
   "execution_count": null,
   "metadata": {},
   "outputs": [],
   "source": [
    "datagrid2.show(0, 10)"
   ]
  },
  {
   "cell_type": "markdown",
   "metadata": {},
   "source": [
    "Note that we also have the entry with `id = 21`, which is mapped to the same position as `id = 1` and `id = 11`. Let's try to find it:"
   ]
  },
  {
   "cell_type": "code",
   "execution_count": null,
   "metadata": {},
   "outputs": [],
   "source": [
    "datagrid2.search(column=\"id\", value=21)"
   ]
  }
 ],
 "metadata": {
  "kernelspec": {
   "display_name": "Python 3",
   "language": "python",
   "name": "python3"
  },
  "language_info": {
   "codemirror_mode": {
    "name": "ipython",
    "version": 3
   },
   "file_extension": ".py",
   "mimetype": "text/x-python",
   "name": "python",
   "nbconvert_exporter": "python",
   "pygments_lexer": "ipython3",
   "version": "3.10.12"
  }
 },
 "nbformat": 4,
 "nbformat_minor": 2
}
