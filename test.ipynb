{
 "cells": [
  {
   "cell_type": "code",
   "execution_count": 1,
   "metadata": {},
   "outputs": [],
   "source": [
    "from datagrid import DataGrid"
   ]
  },
  {
   "cell_type": "code",
   "execution_count": 2,
   "metadata": {},
   "outputs": [],
   "source": [
    "datagrid = DataGrid()"
   ]
  },
  {
   "cell_type": "code",
   "execution_count": 3,
   "metadata": {},
   "outputs": [
    {
     "name": "stdout",
     "output_type": "stream",
     "text": [
      "File read successfully\n"
     ]
    }
   ],
   "source": [
    "# Read CSV\n",
    "datagrid.read_csv(\"data/data.csv\")"
   ]
  },
  {
   "cell_type": "code",
   "execution_count": 4,
   "metadata": {},
   "outputs": [
    {
     "name": "stdout",
     "output_type": "stream",
     "text": [
      "1 | ABC123 | 2023/10/06 09:15:00 | 10 | Item 1 | This is the content for Item 1\n",
      "3 | GHI789 | 2023/10/06 11:45:30 | 8 | Item 3 | This is the content for Item 3\n",
      "4 | JKL123 | 2023/10/06 12:00:15 | 12 | Item 4 | This is the content for Item 4\n",
      "5 | MNO456 | 2023/10/06 13:15:00 | 6 | Item 5 | This is the content for Item 5\n",
      "6 | PQR789 | 2023/10/06 14:30:45 | 18 | Item 6 | This is the content for Item 6\n",
      "7 | STU123 | 2023/10/06 15:45:30 | 9 | Item 7 | This is the content for Item 7\n",
      "8 | VWX456 | 2023/10/06 16:00:15 | 14 | Item 8 | This is the content for Item 8\n",
      "9 | YZA789 | 2023/10/06 17:15:00 | 11 | Item 9 | This is the content for Item 9\n",
      "10 | BCD123 | 2023/10/06 18:30:45 | 7 | Item 10 | This is the content for Item 10\n",
      "11 | CDE456 | 2023/10/06 19:45:30 | 16 | Item 11 | This is the content for Item 11\n"
     ]
    }
   ],
   "source": [
    "# show the first 10 non-empty rows\n",
    "datagrid.show(0, 10)"
   ]
  },
  {
   "cell_type": "code",
   "execution_count": 5,
   "metadata": {},
   "outputs": [],
   "source": [
    "# add a new row\n",
    "new_row = {\"id\": 98, \"owner_id\": \"ABC123\", \"creation_date\": \"2023/10/06 12:00:15\", \"count\": 6, \"name\": \"Item 98\", \"content\": \"This is the content for Item 98\"}\n",
    "datagrid.insert_row(new_row)"
   ]
  },
  {
   "cell_type": "code",
   "execution_count": 6,
   "metadata": {},
   "outputs": [],
   "source": [
    "# add a new row\n",
    "new_row = {\"id\": 2, \"owner_id\": \"ABC123\", \"creation_date\": \"2023/10/06 12:00:15\", \"count\": 6, \"name\": \"Item 98\", \"content\": \"This is the content for Item 98\"}\n",
    "datagrid.insert_row(new_row)"
   ]
  },
  {
   "cell_type": "code",
   "execution_count": 7,
   "metadata": {},
   "outputs": [
    {
     "name": "stderr",
     "output_type": "stream",
     "text": [
      "/home/felipe/Área de Trabalho/datagrid/hashtable.py:68: UserWarning: Item updated\n",
      "  warnings.warn(\"Item updated\")\n"
     ]
    }
   ],
   "source": [
    "# add a new row\n",
    "new_row = {\"id\": 2, \"owner_id\": \"ABC123\", \"creation_date\": \"2023/10/06 12:00:15\", \"count\": 6, \"name\": \"Item 98\", \"content\": \"This is the content for Item 98\"}\n",
    "datagrid.insert_row(new_row)"
   ]
  },
  {
   "cell_type": "code",
   "execution_count": 8,
   "metadata": {},
   "outputs": [
    {
     "name": "stdout",
     "output_type": "stream",
     "text": [
      "Row with owner_id: YZA789 deleted\n",
      "Row with owner_id: YZA789 deleted\n",
      "Row with owner_id: YZA789 deleted\n"
     ]
    }
   ],
   "source": [
    "datagrid.delete_row(column=\"owner_id\", value=\"YZA789\")"
   ]
  },
  {
   "cell_type": "code",
   "execution_count": 9,
   "metadata": {},
   "outputs": [
    {
     "name": "stdout",
     "output_type": "stream",
     "text": [
      "Row with id: 1 deleted\n"
     ]
    }
   ],
   "source": [
    "datagrid.delete_row(column=\"id\", value=1)"
   ]
  },
  {
   "cell_type": "code",
   "execution_count": 10,
   "metadata": {},
   "outputs": [
    {
     "name": "stdout",
     "output_type": "stream",
     "text": [
      "Row with count: 9 deleted\n",
      "Row with count: 9 deleted\n",
      "Row with count: 9 deleted\n",
      "Row with count: 9 deleted\n",
      "Row with count: 9 deleted\n",
      "Row with count: 9 deleted\n",
      "Row with count: 9 deleted\n",
      "Row with count: 9 deleted\n"
     ]
    }
   ],
   "source": [
    "datagrid.delete_row(column=\"count\", value=9)"
   ]
  },
  {
   "cell_type": "code",
   "execution_count": 11,
   "metadata": {},
   "outputs": [
    {
     "name": "stdout",
     "output_type": "stream",
     "text": [
      "5 | MNO456 | 2023/10/06 13:15:00 | 6 | Item 5 | This is the content for Item 5\n"
     ]
    }
   ],
   "source": [
    "datagrid.search(column=\"id\", value=5)"
   ]
  },
  {
   "cell_type": "code",
   "execution_count": 12,
   "metadata": {},
   "outputs": [],
   "source": [
    "datagrid.search(column=\"id\", value=1)"
   ]
  },
  {
   "cell_type": "code",
   "execution_count": 13,
   "metadata": {},
   "outputs": [
    {
     "name": "stdout",
     "output_type": "stream",
     "text": [
      "21 | NOP123 | 2023/10/07 05:15:00 | 10 | Item 21 | This is the content for Item 21\n"
     ]
    }
   ],
   "source": [
    "datagrid.search(column=\"count\", value=10)"
   ]
  },
  {
   "cell_type": "code",
   "execution_count": 14,
   "metadata": {},
   "outputs": [
    {
     "name": "stdout",
     "output_type": "stream",
     "text": [
      "14 | FGH456 | 2023/10/06 22:30:45 | 20 | Item 14 | This is the content for Item 14\n",
      "34 | ABC456 | 2023/10/07 18:30:45 | 20 | Item 34 | This is the content for Item 34\n",
      "45 | LMN789 | 2023/10/08 05:15:00 | 20 | Item 45 | This is the content for Item 45\n",
      "56 | XYZ456 | 2023/10/08 16:00:15 | 20 | Item 56 | This is the content for Item 56\n",
      "67 | IJK123 | 2023/10/09 03:45:30 | 20 | Item 67 | This is the content for Item 67\n",
      "76 | RST123 | 2023/10/09 12:00:15 | 20 | Item 76 | This is the content for Item 76\n"
     ]
    }
   ],
   "source": [
    "datagrid.search(column=\"count\", value=20)"
   ]
  }
 ],
 "metadata": {
  "kernelspec": {
   "display_name": "Python 3",
   "language": "python",
   "name": "python3"
  },
  "language_info": {
   "codemirror_mode": {
    "name": "ipython",
    "version": 3
   },
   "file_extension": ".py",
   "mimetype": "text/x-python",
   "name": "python",
   "nbconvert_exporter": "python",
   "pygments_lexer": "ipython3",
   "version": "3.10.12"
  }
 },
 "nbformat": 4,
 "nbformat_minor": 2
}
