{
 "cells": [
  {
   "cell_type": "markdown",
   "metadata": {},
   "source": [
    "# **Testing the DataGrid module**"
   ]
  },
  {
   "cell_type": "markdown",
   "metadata": {},
   "source": [
    "Import the class:"
   ]
  },
  {
   "cell_type": "code",
   "execution_count": 1,
   "metadata": {},
   "outputs": [],
   "source": [
    "from datagrid import DataGrid"
   ]
  },
  {
   "cell_type": "markdown",
   "metadata": {},
   "source": [
    "Instantiate the class:"
   ]
  },
  {
   "cell_type": "code",
   "execution_count": 2,
   "metadata": {},
   "outputs": [],
   "source": [
    "datagrid = DataGrid()"
   ]
  },
  {
   "cell_type": "markdown",
   "metadata": {},
   "source": [
    "##### `.read_csv(file, sep = ',', encoding = 'utf-8')`"
   ]
  },
  {
   "cell_type": "markdown",
   "metadata": {},
   "source": [
    "You can read a `.csv` file into the datagrid object."
   ]
  },
  {
   "cell_type": "code",
   "execution_count": 3,
   "metadata": {},
   "outputs": [
    {
     "name": "stdout",
     "output_type": "stream",
     "text": [
      "File read successfully\n"
     ]
    }
   ],
   "source": [
    "datagrid.read_csv(\"data/data.csv\")"
   ]
  },
  {
   "cell_type": "markdown",
   "metadata": {},
   "source": [
    "##### `.show(start = 0, end = 100)`"
   ]
  },
  {
   "cell_type": "markdown",
   "metadata": {},
   "source": [
    "You can also show the range of rows you'd like."
   ]
  },
  {
   "cell_type": "code",
   "execution_count": 4,
   "metadata": {},
   "outputs": [
    {
     "name": "stdout",
     "output_type": "stream",
     "text": [
      "12 | DEF789 | 2023/10/06 20:00:15 | 13 | Item 12 | This is the content for Item 12\n",
      "13 | EFG123 | 2023/10/06 21:15:00 | 5 | Item 13 | This is the content for Item 13\n",
      "14 | FGH456 | 2023/10/06 22:30:45 | 20 | Item 14 | This is the content for Item 14\n",
      "15 | GHI123 | 2023/10/06 23:45:30 | 8 | Item 15 | This is the content for Item 15\n",
      "16 | HIJ456 | 2023/10/07 00:00:15 | 17 | Item 16 | This is the content for Item 16\n",
      "17 | IJK789 | 2023/10/07 01:15:00 | 9 | Item 17 | This is the content for Item 17\n",
      "18 | JKL123 | 2023/10/07 02:30:45 | 12 | Item 18 | This is the content for Item 18\n",
      "19 | KLM456 | 2023/10/07 03:45:30 | 6 | Item 19 | This is the content for Item 19\n",
      "20 | LMN789 | 2023/10/07 04:00:15 | 11 | Item 20 | This is the content for Item 20\n",
      "21 | NOP123 | 2023/10/07 05:15:00 | 10 | Item 21 | This is the content for Item 21\n"
     ]
    }
   ],
   "source": [
    "# show the first 10 non-empty rows\n",
    "datagrid.show(10, 20)"
   ]
  },
  {
   "cell_type": "markdown",
   "metadata": {},
   "source": [
    "##### `.insert_row(row)`"
   ]
  },
  {
   "cell_type": "markdown",
   "metadata": {},
   "source": [
    "You may want to add rows through a dictionary:"
   ]
  },
  {
   "cell_type": "code",
   "execution_count": 5,
   "metadata": {},
   "outputs": [],
   "source": [
    "# add a new row\n",
    "new_row = {\"id\": 98, \"owner_id\": \"ABC123\", \"creation_date\": \"2023/10/06 12:00:15\", \"count\": 6, \"name\": \"Item 98\", \"content\": \"This is the content for Item 98\"}\n",
    "datagrid.insert_row(new_row)"
   ]
  },
  {
   "cell_type": "code",
   "execution_count": 6,
   "metadata": {},
   "outputs": [],
   "source": [
    "# add a new row\n",
    "new_row = {\"id\": 2, \"owner_id\": \"ABC123\", \"creation_date\": \"2023/10/06 12:00:15\", \"count\": 6, \"name\": \"Item 98\", \"content\": \"This is the content for Item 98\"}\n",
    "datagrid.insert_row(new_row)"
   ]
  },
  {
   "cell_type": "markdown",
   "metadata": {},
   "source": [
    "If the ID is already in the datagrid, the row will be updated:"
   ]
  },
  {
   "cell_type": "code",
   "execution_count": 7,
   "metadata": {},
   "outputs": [
    {
     "name": "stderr",
     "output_type": "stream",
     "text": [
      "/home/felipe/Área de Trabalho/datagrid/hashtable.py:68: UserWarning: Item updated\n",
      "  warnings.warn(\"Item updated\")\n"
     ]
    }
   ],
   "source": [
    "# add a new row\n",
    "new_row = {\"id\": 2, \"owner_id\": \"ABC123\", \"creation_date\": \"2023/10/06 12:00:15\", \"count\": 6, \"name\": \"Item 98\", \"content\": \"This is the content for Item 98\"}\n",
    "datagrid.insert_row(new_row)"
   ]
  },
  {
   "cell_type": "markdown",
   "metadata": {},
   "source": [
    "##### `.delete_row(column, value)`"
   ]
  },
  {
   "cell_type": "markdown",
   "metadata": {},
   "source": [
    "You can also delete rows based on the value of the columns:"
   ]
  },
  {
   "cell_type": "code",
   "execution_count": 8,
   "metadata": {},
   "outputs": [
    {
     "name": "stdout",
     "output_type": "stream",
     "text": [
      "Row with owner_id: YZA789 deleted\n",
      "Row with owner_id: YZA789 deleted\n",
      "Row with owner_id: YZA789 deleted\n"
     ]
    }
   ],
   "source": [
    "datagrid.delete_row(column=\"owner_id\", value=\"YZA789\")"
   ]
  },
  {
   "cell_type": "code",
   "execution_count": 9,
   "metadata": {},
   "outputs": [
    {
     "name": "stdout",
     "output_type": "stream",
     "text": [
      "Row with id: 1 deleted\n"
     ]
    }
   ],
   "source": [
    "datagrid.delete_row(column=\"id\", value=1)"
   ]
  },
  {
   "cell_type": "code",
   "execution_count": 10,
   "metadata": {},
   "outputs": [
    {
     "name": "stdout",
     "output_type": "stream",
     "text": [
      "Row with count: 9 deleted\n",
      "Row with count: 9 deleted\n",
      "Row with count: 9 deleted\n",
      "Row with count: 9 deleted\n",
      "Row with count: 9 deleted\n",
      "Row with count: 9 deleted\n",
      "Row with count: 9 deleted\n",
      "Row with count: 9 deleted\n"
     ]
    }
   ],
   "source": [
    "datagrid.delete_row(column=\"count\", value=9)"
   ]
  },
  {
   "cell_type": "markdown",
   "metadata": {},
   "source": [
    "##### `.search(column, value)`"
   ]
  },
  {
   "cell_type": "code",
   "execution_count": 11,
   "metadata": {},
   "outputs": [
    {
     "name": "stdout",
     "output_type": "stream",
     "text": [
      "5 | MNO456 | 2023/10/06 13:15:00 | 6 | Item 5 | This is the content for Item 5\n"
     ]
    }
   ],
   "source": [
    "datagrid.search(column=\"id\", value=5)"
   ]
  },
  {
   "cell_type": "code",
   "execution_count": 12,
   "metadata": {},
   "outputs": [],
   "source": [
    "datagrid.search(column=\"id\", value=1)"
   ]
  },
  {
   "cell_type": "code",
   "execution_count": 13,
   "metadata": {},
   "outputs": [
    {
     "name": "stdout",
     "output_type": "stream",
     "text": [
      "4 | JKL123 | 2023/10/06 12:00:15 | 12 | Item 4 | This is the content for Item 4\n",
      "18 | JKL123 | 2023/10/07 02:30:45 | 12 | Item 18 | This is the content for Item 18\n",
      "24 | QRS123 | 2023/10/07 08:00:15 | 12 | Item 24 | This is the content for Item 24\n",
      "38 | EFG123 | 2023/10/07 22:30:45 | 12 | Item 38 | This is the content for Item 38\n",
      "49 | PQR123 | 2023/10/08 09:15:00 | 12 | Item 49 | This is the content for Item 49\n",
      "65 | GHI456 | 2023/10/09 01:15:00 | 12 | Item 65 | This is the content for Item 65\n"
     ]
    }
   ],
   "source": [
    "datagrid.search(column=\"count\", value=12)"
   ]
  },
  {
   "cell_type": "code",
   "execution_count": 14,
   "metadata": {},
   "outputs": [
    {
     "name": "stdout",
     "output_type": "stream",
     "text": [
      "13 | EFG123 | 2023/10/06 21:15:00 | 5 | Item 13 | This is the content for Item 13\n",
      "33 | ZAB123 | 2023/10/07 17:15:00 | 5 | Item 33 | This is the content for Item 33\n",
      "44 | KLM456 | 2023/10/08 04:00:15 | 5 | Item 44 | This is the content for Item 44\n",
      "55 | WXY123 | 2023/10/08 15:45:30 | 5 | Item 55 | This is the content for Item 55\n",
      "66 | HIJ789 | 2023/10/09 02:30:45 | 5 | Item 66 | This is the content for Item 66\n",
      "75 | QRS789 | 2023/10/09 11:45:30 | 5 | Item 75 | This is the content for Item 75\n"
     ]
    }
   ],
   "source": [
    "datagrid.search(column=\"count\", value=5)"
   ]
  },
  {
   "cell_type": "markdown",
   "metadata": {},
   "source": [
    "##### `.sort(column, direction = 'asc')`"
   ]
  },
  {
   "cell_type": "code",
   "execution_count": 15,
   "metadata": {},
   "outputs": [],
   "source": [
    "datagrid.sort(column=\"id\", direction=\"desc\")"
   ]
  },
  {
   "cell_type": "markdown",
   "metadata": {},
   "source": [
    "Sort changes the internal structure of the table (check the first use of `.show` method up on the notebook):"
   ]
  },
  {
   "cell_type": "code",
   "execution_count": 16,
   "metadata": {},
   "outputs": [
    {
     "name": "stdout",
     "output_type": "stream",
     "text": [
      "98 | ABC123 | 2023/10/06 12:00:15 | 6 | Item 98 | This is the content for Item 98\n",
      "80 | VWX456 | 2023/10/09 16:00:15 | 14 | Item 80 | This is the content for Item 80\n",
      "78 | TUV789 | 2023/10/09 14:30:45 | 15 | Item 78 | This is the content for Item 78\n",
      "77 | STU456 | 2023/10/09 13:15:00 | 8 | Item 77 | This is the content for Item 77\n",
      "76 | RST123 | 2023/10/09 12:00:15 | 20 | Item 76 | This is the content for Item 76\n",
      "75 | QRS789 | 2023/10/09 11:45:30 | 5 | Item 75 | This is the content for Item 75\n",
      "74 | PQR456 | 2023/10/09 10:30:45 | 13 | Item 74 | This is the content for Item 74\n",
      "73 | OPQ123 | 2023/10/09 09:15:00 | 16 | Item 73 | This is the content for Item 73\n",
      "72 | NOP789 | 2023/10/09 08:00:15 | 7 | Item 72 | This is the content for Item 72\n",
      "71 | MNO456 | 2023/10/09 07:45:30 | 14 | Item 71 | This is the content for Item 71\n"
     ]
    }
   ],
   "source": [
    "datagrid.show(0, 10)"
   ]
  },
  {
   "cell_type": "markdown",
   "metadata": {},
   "source": [
    "You can sort by using whatever column you'd like."
   ]
  },
  {
   "cell_type": "code",
   "execution_count": 17,
   "metadata": {},
   "outputs": [],
   "source": [
    "datagrid.sort(column=\"count\", direction=\"desc\")"
   ]
  },
  {
   "cell_type": "code",
   "execution_count": 18,
   "metadata": {},
   "outputs": [
    {
     "name": "stdout",
     "output_type": "stream",
     "text": [
      "62 | DEF456 | 2023/10/08 22:30:45 | 17 | Item 62 | This is the content for Item 62\n",
      "36 | CDE456 | 2023/10/07 20:00:15 | 17 | Item 36 | This is the content for Item 36\n",
      "11 | CDE456 | 2023/10/06 19:45:30 | 16 | Item 11 | This is the content for Item 11\n",
      "42 | IJK789 | 2023/10/08 02:30:45 | 16 | Item 42 | This is the content for Item 42\n",
      "53 | UVW456 | 2023/10/08 13:15:00 | 16 | Item 53 | This is the content for Item 53\n",
      "31 | XYZ456 | 2023/10/07 15:45:30 | 16 | Item 31 | This is the content for Item 31\n",
      "73 | OPQ123 | 2023/10/09 09:15:00 | 16 | Item 73 | This is the content for Item 73\n",
      "78 | TUV789 | 2023/10/09 14:30:45 | 15 | Item 78 | This is the content for Item 78\n",
      "22 | OPQ456 | 2023/10/07 06:30:45 | 15 | Item 22 | This is the content for Item 22\n",
      "58 | ZAB123 | 2023/10/08 18:30:45 | 15 | Item 58 | This is the content for Item 58\n"
     ]
    }
   ],
   "source": [
    "datagrid.show(10, 20)"
   ]
  },
  {
   "cell_type": "markdown",
   "metadata": {},
   "source": [
    "##### `.select_count(i, j)`"
   ]
  },
  {
   "cell_type": "markdown",
   "metadata": {},
   "source": [
    "This method returns the entries between $i$ and $j$, $[i, j]$, considering the `count` feature sorted in ascending order."
   ]
  },
  {
   "cell_type": "code",
   "execution_count": 19,
   "metadata": {},
   "outputs": [
    {
     "name": "stdout",
     "output_type": "stream",
     "text": [
      "25 | RST456 | 2023/10/07 09:15:00 | 6 | Item 25 | This is the content for Item 25\n",
      "64 | FGH123 | 2023/10/09 00:00:15 | 6 | Item 64 | This is the content for Item 64\n",
      "39 | FGH456 | 2023/10/07 23:45:30 | 6 | Item 39 | This is the content for Item 39\n",
      "50 | RST456 | 2023/10/08 10:30:45 | 6 | Item 50 | This is the content for Item 50\n",
      "10 | BCD123 | 2023/10/06 18:30:45 | 7 | Item 10 | This is the content for Item 10\n",
      "30 | WXY123 | 2023/10/07 14:30:45 | 7 | Item 30 | This is the content for Item 30\n",
      "61 | CDE123 | 2023/10/08 21:15:00 | 7 | Item 61 | This is the content for Item 61\n",
      "52 | TUV123 | 2023/10/08 12:00:15 | 7 | Item 52 | This is the content for Item 52\n",
      "41 | HIJ456 | 2023/10/08 01:15:00 | 7 | Item 41 | This is the content for Item 41\n",
      "72 | NOP789 | 2023/10/09 08:00:15 | 7 | Item 72 | This is the content for Item 72\n"
     ]
    }
   ],
   "source": [
    "datagrid.select_count(10, 20)"
   ]
  },
  {
   "cell_type": "markdown",
   "metadata": {},
   "source": [
    "It does not change the internal state of the data structure, which can be confirmed by the `.show()` method. It shows the result of the last-applied sorting, before the `select_count()`."
   ]
  },
  {
   "cell_type": "code",
   "execution_count": 20,
   "metadata": {},
   "outputs": [
    {
     "name": "stdout",
     "output_type": "stream",
     "text": [
      "62 | DEF456 | 2023/10/08 22:30:45 | 17 | Item 62 | This is the content for Item 62\n",
      "36 | CDE456 | 2023/10/07 20:00:15 | 17 | Item 36 | This is the content for Item 36\n",
      "11 | CDE456 | 2023/10/06 19:45:30 | 16 | Item 11 | This is the content for Item 11\n",
      "42 | IJK789 | 2023/10/08 02:30:45 | 16 | Item 42 | This is the content for Item 42\n",
      "53 | UVW456 | 2023/10/08 13:15:00 | 16 | Item 53 | This is the content for Item 53\n",
      "31 | XYZ456 | 2023/10/07 15:45:30 | 16 | Item 31 | This is the content for Item 31\n",
      "73 | OPQ123 | 2023/10/09 09:15:00 | 16 | Item 73 | This is the content for Item 73\n",
      "78 | TUV789 | 2023/10/09 14:30:45 | 15 | Item 78 | This is the content for Item 78\n",
      "22 | OPQ456 | 2023/10/07 06:30:45 | 15 | Item 22 | This is the content for Item 22\n",
      "58 | ZAB123 | 2023/10/08 18:30:45 | 15 | Item 58 | This is the content for Item 58\n"
     ]
    }
   ],
   "source": [
    "datagrid.show(10, 20)"
   ]
  }
 ],
 "metadata": {
  "kernelspec": {
   "display_name": "Python 3",
   "language": "python",
   "name": "python3"
  },
  "language_info": {
   "codemirror_mode": {
    "name": "ipython",
    "version": 3
   },
   "file_extension": ".py",
   "mimetype": "text/x-python",
   "name": "python",
   "nbconvert_exporter": "python",
   "pygments_lexer": "ipython3",
   "version": "3.10.12"
  }
 },
 "nbformat": 4,
 "nbformat_minor": 2
}
