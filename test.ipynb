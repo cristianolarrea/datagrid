{
 "cells": [
  {
   "cell_type": "code",
   "execution_count": 1,
   "metadata": {},
   "outputs": [],
   "source": [
    "from datagrid import DataGrid"
   ]
  },
  {
   "cell_type": "code",
   "execution_count": 2,
   "metadata": {},
   "outputs": [],
   "source": [
    "datagrid = DataGrid()"
   ]
  },
  {
   "cell_type": "code",
   "execution_count": 3,
   "metadata": {},
   "outputs": [],
   "source": [
    "# Read CSV\n",
    "df = datagrid.read_csv(\"data/data.csv\")"
   ]
  },
  {
   "cell_type": "code",
   "execution_count": 4,
   "metadata": {},
   "outputs": [
    {
     "data": {
      "text/plain": [
       "[None,\n",
       " <datagrid.Event at 0x7fd7186e85e0>,\n",
       " None,\n",
       " <datagrid.Event at 0x7fd7186e98d0>,\n",
       " <datagrid.Event at 0x7fd7186e8700>,\n",
       " <datagrid.Event at 0x7fd7186e8730>,\n",
       " <datagrid.Event at 0x7fd7186e8760>,\n",
       " <datagrid.Event at 0x7fd7186e8790>,\n",
       " <datagrid.Event at 0x7fd7186e87c0>,\n",
       " <datagrid.Event at 0x7fd7186e87f0>,\n",
       " <datagrid.Event at 0x7fd7186e8820>,\n",
       " <datagrid.Event at 0x7fd7186e8850>,\n",
       " <datagrid.Event at 0x7fd7186e8880>,\n",
       " <datagrid.Event at 0x7fd7186e88b0>,\n",
       " <datagrid.Event at 0x7fd7186e88e0>,\n",
       " <datagrid.Event at 0x7fd7186e8910>,\n",
       " <datagrid.Event at 0x7fd7186e8940>,\n",
       " <datagrid.Event at 0x7fd7186e8970>,\n",
       " <datagrid.Event at 0x7fd7186e89a0>,\n",
       " <datagrid.Event at 0x7fd7186e89d0>,\n",
       " <datagrid.Event at 0x7fd7186e8a00>,\n",
       " <datagrid.Event at 0x7fd7186e8a30>,\n",
       " <datagrid.Event at 0x7fd7186e8a60>,\n",
       " <datagrid.Event at 0x7fd7186e8a90>,\n",
       " <datagrid.Event at 0x7fd7186e8ac0>,\n",
       " <datagrid.Event at 0x7fd7186e8af0>,\n",
       " <datagrid.Event at 0x7fd7186e8b20>,\n",
       " <datagrid.Event at 0x7fd7186e8b50>,\n",
       " <datagrid.Event at 0x7fd7186e8b80>,\n",
       " <datagrid.Event at 0x7fd7186e8bb0>,\n",
       " <datagrid.Event at 0x7fd7186e8be0>,\n",
       " <datagrid.Event at 0x7fd7186e8c10>,\n",
       " <datagrid.Event at 0x7fd7186e8c40>,\n",
       " <datagrid.Event at 0x7fd7186e8c70>,\n",
       " <datagrid.Event at 0x7fd7186e8ca0>,\n",
       " <datagrid.Event at 0x7fd7186e8cd0>,\n",
       " <datagrid.Event at 0x7fd7186e8d00>,\n",
       " <datagrid.Event at 0x7fd7186e8d30>,\n",
       " <datagrid.Event at 0x7fd7186e8d60>,\n",
       " <datagrid.Event at 0x7fd7186e8d90>,\n",
       " <datagrid.Event at 0x7fd7186e8dc0>,\n",
       " <datagrid.Event at 0x7fd7186e8df0>,\n",
       " <datagrid.Event at 0x7fd7186e8e20>,\n",
       " <datagrid.Event at 0x7fd7186e8e50>,\n",
       " <datagrid.Event at 0x7fd7186e8e80>,\n",
       " <datagrid.Event at 0x7fd7186e8eb0>,\n",
       " <datagrid.Event at 0x7fd7186e8ee0>,\n",
       " <datagrid.Event at 0x7fd7186e8f10>,\n",
       " <datagrid.Event at 0x7fd7186e8f40>,\n",
       " <datagrid.Event at 0x7fd7186e8f70>,\n",
       " <datagrid.Event at 0x7fd7186e8fa0>,\n",
       " <datagrid.Event at 0x7fd7186e8fd0>,\n",
       " <datagrid.Event at 0x7fd7186e9000>,\n",
       " <datagrid.Event at 0x7fd7186e9030>,\n",
       " <datagrid.Event at 0x7fd7186e9060>,\n",
       " <datagrid.Event at 0x7fd7186e9090>,\n",
       " <datagrid.Event at 0x7fd7186e90c0>,\n",
       " <datagrid.Event at 0x7fd7186e90f0>,\n",
       " <datagrid.Event at 0x7fd7186e9120>,\n",
       " <datagrid.Event at 0x7fd7186e9150>,\n",
       " <datagrid.Event at 0x7fd7186e9180>,\n",
       " <datagrid.Event at 0x7fd7186e91b0>,\n",
       " <datagrid.Event at 0x7fd7186e91e0>,\n",
       " <datagrid.Event at 0x7fd7186e9210>,\n",
       " <datagrid.Event at 0x7fd7186e9240>,\n",
       " <datagrid.Event at 0x7fd7186e9270>,\n",
       " <datagrid.Event at 0x7fd7186e92a0>,\n",
       " <datagrid.Event at 0x7fd7186e92d0>,\n",
       " <datagrid.Event at 0x7fd7186e9300>,\n",
       " <datagrid.Event at 0x7fd7186e9330>,\n",
       " <datagrid.Event at 0x7fd7186e9360>,\n",
       " <datagrid.Event at 0x7fd7186e9390>,\n",
       " <datagrid.Event at 0x7fd7186e93c0>,\n",
       " <datagrid.Event at 0x7fd7186e93f0>,\n",
       " <datagrid.Event at 0x7fd7186e9420>,\n",
       " <datagrid.Event at 0x7fd7186e9450>,\n",
       " <datagrid.Event at 0x7fd7186e9480>,\n",
       " <datagrid.Event at 0x7fd7186e94b0>,\n",
       " <datagrid.Event at 0x7fd7186e94e0>,\n",
       " <datagrid.Event at 0x7fd7186e9510>,\n",
       " <datagrid.Event at 0x7fd7186e9540>,\n",
       " None,\n",
       " None,\n",
       " None,\n",
       " None,\n",
       " None,\n",
       " None,\n",
       " None,\n",
       " None,\n",
       " None,\n",
       " <datagrid.Event at 0x7fd7186e84c0>,\n",
       " None,\n",
       " None,\n",
       " None,\n",
       " None,\n",
       " None,\n",
       " None,\n",
       " None,\n",
       " None,\n",
       " None,\n",
       " None,\n",
       " None,\n",
       " None,\n",
       " None,\n",
       " None,\n",
       " None,\n",
       " None,\n",
       " None,\n",
       " None,\n",
       " None,\n",
       " None,\n",
       " None,\n",
       " None,\n",
       " None,\n",
       " None,\n",
       " None,\n",
       " None,\n",
       " None,\n",
       " None,\n",
       " None,\n",
       " None,\n",
       " None,\n",
       " None,\n",
       " None,\n",
       " None,\n",
       " None,\n",
       " None,\n",
       " None,\n",
       " None,\n",
       " None,\n",
       " None,\n",
       " None,\n",
       " None,\n",
       " None,\n",
       " None,\n",
       " None,\n",
       " None,\n",
       " None,\n",
       " None,\n",
       " None,\n",
       " None,\n",
       " None,\n",
       " None,\n",
       " None,\n",
       " None,\n",
       " None,\n",
       " None,\n",
       " None,\n",
       " None,\n",
       " None,\n",
       " None,\n",
       " None,\n",
       " None,\n",
       " None,\n",
       " None,\n",
       " None,\n",
       " None,\n",
       " None,\n",
       " None,\n",
       " None,\n",
       " None,\n",
       " None,\n",
       " None,\n",
       " None,\n",
       " None,\n",
       " None,\n",
       " None,\n",
       " None,\n",
       " None,\n",
       " None,\n",
       " None,\n",
       " None,\n",
       " None,\n",
       " None,\n",
       " None,\n",
       " None,\n",
       " None,\n",
       " None,\n",
       " None,\n",
       " None,\n",
       " None,\n",
       " None,\n",
       " None,\n",
       " None,\n",
       " None,\n",
       " None,\n",
       " None,\n",
       " None,\n",
       " None,\n",
       " None,\n",
       " None,\n",
       " None,\n",
       " None,\n",
       " None,\n",
       " None,\n",
       " None,\n",
       " None,\n",
       " None,\n",
       " None,\n",
       " None,\n",
       " None,\n",
       " None,\n",
       " None,\n",
       " None,\n",
       " None,\n",
       " None,\n",
       " None,\n",
       " None,\n",
       " None,\n",
       " None,\n",
       " None,\n",
       " None,\n",
       " None,\n",
       " None,\n",
       " None,\n",
       " None,\n",
       " None,\n",
       " None,\n",
       " None,\n",
       " None,\n",
       " None,\n",
       " None,\n",
       " None,\n",
       " None,\n",
       " None,\n",
       " None,\n",
       " None,\n",
       " None,\n",
       " None,\n",
       " None,\n",
       " None,\n",
       " None,\n",
       " None,\n",
       " None,\n",
       " None,\n",
       " None,\n",
       " None,\n",
       " None,\n",
       " None,\n",
       " None,\n",
       " None,\n",
       " None,\n",
       " None,\n",
       " None,\n",
       " None,\n",
       " None,\n",
       " None,\n",
       " None,\n",
       " None,\n",
       " None,\n",
       " None,\n",
       " None,\n",
       " None,\n",
       " None,\n",
       " None,\n",
       " None,\n",
       " None,\n",
       " None,\n",
       " None,\n",
       " None,\n",
       " None,\n",
       " None,\n",
       " None,\n",
       " None,\n",
       " None,\n",
       " None,\n",
       " None,\n",
       " None,\n",
       " None,\n",
       " None,\n",
       " None,\n",
       " None,\n",
       " None,\n",
       " None,\n",
       " None,\n",
       " None,\n",
       " None,\n",
       " None,\n",
       " None,\n",
       " None,\n",
       " None,\n",
       " None,\n",
       " None,\n",
       " None,\n",
       " None,\n",
       " None,\n",
       " None,\n",
       " None,\n",
       " None,\n",
       " None,\n",
       " None,\n",
       " None,\n",
       " None,\n",
       " None,\n",
       " None,\n",
       " None,\n",
       " None,\n",
       " None,\n",
       " None,\n",
       " None]"
      ]
     },
     "execution_count": 4,
     "metadata": {},
     "output_type": "execute_result"
    }
   ],
   "source": [
    "# see all the elements in the hash table\n",
    "df.table"
   ]
  },
  {
   "cell_type": "code",
   "execution_count": 5,
   "metadata": {},
   "outputs": [
    {
     "name": "stdout",
     "output_type": "stream",
     "text": [
      "1 | ABC123 | 2023/10/06 09:15:00 | 10 | Item 1 | This is the content for Item 1\n",
      "3 | GHI789 | 2023/10/06 11:45:30 | 8 | Item 3 | This is the content for Item 3\n",
      "4 | JKL123 | 2023/10/06 12:00:15 | 12 | Item 4 | This is the content for Item 4\n",
      "5 | MNO456 | 2023/10/06 13:15:00 | 6 | Item 5 | This is the content for Item 5\n",
      "6 | PQR789 | 2023/10/06 14:30:45 | 18 | Item 6 | This is the content for Item 6\n",
      "7 | STU123 | 2023/10/06 15:45:30 | 9 | Item 7 | This is the content for Item 7\n",
      "8 | VWX456 | 2023/10/06 16:00:15 | 14 | Item 8 | This is the content for Item 8\n",
      "9 | YZA789 | 2023/10/06 17:15:00 | 11 | Item 9 | This is the content for Item 9\n",
      "10 | BCD123 | 2023/10/06 18:30:45 | 7 | Item 10 | This is the content for Item 10\n",
      "11 | CDE456 | 2023/10/06 19:45:30 | 16 | Item 11 | This is the content for Item 11\n"
     ]
    }
   ],
   "source": [
    "# show the first 10 non-empty rows\n",
    "datagrid.show(0, 10)"
   ]
  },
  {
   "cell_type": "code",
   "execution_count": 6,
   "metadata": {},
   "outputs": [
    {
     "name": "stdout",
     "output_type": "stream",
     "text": [
      "Row inserted successfully\n"
     ]
    }
   ],
   "source": [
    "# add a new row\n",
    "new_row = {\"id\": 98, \"owner_id\": \"ABC123\", \"creation_date\": \"2023/10/06 12:00:15\", \"count\": 6, \"name\": \"Item 98\", \"content\": \"This is the content for Item 98\"}\n",
    "datagrid.insert_row(new_row)"
   ]
  },
  {
   "cell_type": "code",
   "execution_count": 7,
   "metadata": {},
   "outputs": [
    {
     "name": "stdout",
     "output_type": "stream",
     "text": [
      "Row inserted successfully\n"
     ]
    }
   ],
   "source": [
    "# add a new row\n",
    "new_row = {\"id\": 2, \"owner_id\": \"ABC123\", \"creation_date\": \"2023/10/06 12:00:15\", \"count\": 6, \"name\": \"Item 98\", \"content\": \"This is the content for Item 98\"}\n",
    "datagrid.insert_row(new_row)"
   ]
  },
  {
   "cell_type": "code",
   "execution_count": 8,
   "metadata": {},
   "outputs": [
    {
     "name": "stderr",
     "output_type": "stream",
     "text": [
      "/home/felipe/Área de Trabalho/datagrid/datagrid.py:84: UserWarning: ID 2 already exists, row not inserted\n",
      "  warnings.warn(f\"ID {int(event.id)} already exists, row not inserted\")\n"
     ]
    }
   ],
   "source": [
    "# add a new row\n",
    "new_row = {\"id\": 2, \"owner_id\": \"ABC123\", \"creation_date\": \"2023/10/06 12:00:15\", \"count\": 6, \"name\": \"Item 98\", \"content\": \"This is the content for Item 98\"}\n",
    "datagrid.insert_row(new_row)"
   ]
  },
  {
   "cell_type": "code",
   "execution_count": 9,
   "metadata": {},
   "outputs": [
    {
     "name": "stdout",
     "output_type": "stream",
     "text": [
      "Row with owner_id: YZA789 deleted\n",
      "Row with owner_id: YZA789 deleted\n",
      "Row with owner_id: YZA789 deleted\n"
     ]
    }
   ],
   "source": [
    "datagrid.delete_row(column=\"owner_id\", value=\"YZA789\")"
   ]
  },
  {
   "cell_type": "code",
   "execution_count": 10,
   "metadata": {},
   "outputs": [
    {
     "name": "stdout",
     "output_type": "stream",
     "text": [
      "Row with id: 1 deleted\n"
     ]
    }
   ],
   "source": [
    "datagrid.delete_row(column=\"id\", value=1)"
   ]
  },
  {
   "cell_type": "code",
   "execution_count": 11,
   "metadata": {},
   "outputs": [
    {
     "name": "stdout",
     "output_type": "stream",
     "text": [
      "Row with count: 9 deleted\n",
      "Row with count: 9 deleted\n",
      "Row with count: 9 deleted\n",
      "Row with count: 9 deleted\n",
      "Row with count: 9 deleted\n",
      "Row with count: 9 deleted\n",
      "Row with count: 9 deleted\n",
      "Row with count: 9 deleted\n"
     ]
    }
   ],
   "source": [
    "datagrid.delete_row(column=\"count\", value=9)"
   ]
  }
 ],
 "metadata": {
  "kernelspec": {
   "display_name": "Python 3",
   "language": "python",
   "name": "python3"
  },
  "language_info": {
   "codemirror_mode": {
    "name": "ipython",
    "version": 3
   },
   "file_extension": ".py",
   "mimetype": "text/x-python",
   "name": "python",
   "nbconvert_exporter": "python",
   "pygments_lexer": "ipython3",
   "version": "3.10.12"
  }
 },
 "nbformat": 4,
 "nbformat_minor": 2
}
