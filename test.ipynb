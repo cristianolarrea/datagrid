{
 "cells": [
  {
   "cell_type": "code",
   "execution_count": 21,
   "metadata": {},
   "outputs": [],
   "source": [
    "from datagrid import DataGrid"
   ]
  },
  {
   "cell_type": "code",
   "execution_count": 22,
   "metadata": {},
   "outputs": [],
   "source": [
    "datagrid = DataGrid()"
   ]
  },
  {
   "cell_type": "code",
   "execution_count": 23,
   "metadata": {},
   "outputs": [
    {
     "name": "stdout",
     "output_type": "stream",
     "text": [
      "File read successfully\n"
     ]
    }
   ],
   "source": [
    "# Read CSV\n",
    "datagrid.read_csv(\"data/data.csv\")"
   ]
  },
  {
   "cell_type": "code",
   "execution_count": 24,
   "metadata": {},
   "outputs": [
    {
     "name": "stdout",
     "output_type": "stream",
     "text": [
      "12 | DEF789 | 2023/10/06 20:00:15 | 13 | Item 12 | This is the content for Item 12\n",
      "13 | EFG123 | 2023/10/06 21:15:00 | 5 | Item 13 | This is the content for Item 13\n",
      "14 | FGH456 | 2023/10/06 22:30:45 | 20 | Item 14 | This is the content for Item 14\n",
      "15 | GHI123 | 2023/10/06 23:45:30 | 8 | Item 15 | This is the content for Item 15\n",
      "16 | HIJ456 | 2023/10/07 00:00:15 | 17 | Item 16 | This is the content for Item 16\n",
      "17 | IJK789 | 2023/10/07 01:15:00 | 9 | Item 17 | This is the content for Item 17\n",
      "18 | JKL123 | 2023/10/07 02:30:45 | 12 | Item 18 | This is the content for Item 18\n",
      "19 | KLM456 | 2023/10/07 03:45:30 | 6 | Item 19 | This is the content for Item 19\n",
      "20 | LMN789 | 2023/10/07 04:00:15 | 11 | Item 20 | This is the content for Item 20\n",
      "21 | NOP123 | 2023/10/07 05:15:00 | 10 | Item 21 | This is the content for Item 21\n"
     ]
    }
   ],
   "source": [
    "# show the first 10 non-empty rows\n",
    "datagrid.show(10, 20)"
   ]
  },
  {
   "cell_type": "code",
   "execution_count": 25,
   "metadata": {},
   "outputs": [],
   "source": [
    "# add a new row\n",
    "new_row = {\"id\": 98, \"owner_id\": \"ABC123\", \"creation_date\": \"2023/10/06 12:00:15\", \"count\": 6, \"name\": \"Item 98\", \"content\": \"This is the content for Item 98\"}\n",
    "datagrid.insert_row(new_row)"
   ]
  },
  {
   "cell_type": "code",
   "execution_count": 26,
   "metadata": {},
   "outputs": [],
   "source": [
    "# add a new row\n",
    "new_row = {\"id\": 2, \"owner_id\": \"ABC123\", \"creation_date\": \"2023/10/06 12:00:15\", \"count\": 6, \"name\": \"Item 98\", \"content\": \"This is the content for Item 98\"}\n",
    "datagrid.insert_row(new_row)"
   ]
  },
  {
   "cell_type": "code",
   "execution_count": 27,
   "metadata": {},
   "outputs": [],
   "source": [
    "# add a new row\n",
    "new_row = {\"id\": 2, \"owner_id\": \"ABC123\", \"creation_date\": \"2023/10/06 12:00:15\", \"count\": 6, \"name\": \"Item 98\", \"content\": \"This is the content for Item 98\"}\n",
    "datagrid.insert_row(new_row)"
   ]
  },
  {
   "cell_type": "code",
   "execution_count": 28,
   "metadata": {},
   "outputs": [
    {
     "name": "stdout",
     "output_type": "stream",
     "text": [
      "Row with owner_id: YZA789 deleted\n",
      "Row with owner_id: YZA789 deleted\n",
      "Row with owner_id: YZA789 deleted\n"
     ]
    }
   ],
   "source": [
    "datagrid.delete_row(column=\"owner_id\", value=\"YZA789\")"
   ]
  },
  {
   "cell_type": "code",
   "execution_count": 29,
   "metadata": {},
   "outputs": [
    {
     "name": "stdout",
     "output_type": "stream",
     "text": [
      "Row with id: 1 deleted\n"
     ]
    }
   ],
   "source": [
    "datagrid.delete_row(column=\"id\", value=1)"
   ]
  },
  {
   "cell_type": "code",
   "execution_count": 30,
   "metadata": {},
   "outputs": [
    {
     "name": "stdout",
     "output_type": "stream",
     "text": [
      "Row with count: 9 deleted\n",
      "Row with count: 9 deleted\n",
      "Row with count: 9 deleted\n",
      "Row with count: 9 deleted\n",
      "Row with count: 9 deleted\n",
      "Row with count: 9 deleted\n",
      "Row with count: 9 deleted\n",
      "Row with count: 9 deleted\n"
     ]
    }
   ],
   "source": [
    "datagrid.delete_row(column=\"count\", value=9)"
   ]
  },
  {
   "cell_type": "code",
   "execution_count": 31,
   "metadata": {},
   "outputs": [
    {
     "name": "stdout",
     "output_type": "stream",
     "text": [
      "5 | MNO456 | 2023/10/06 13:15:00 | 6 | Item 5 | This is the content for Item 5\n"
     ]
    }
   ],
   "source": [
    "datagrid.search(column=\"id\", value=5)"
   ]
  },
  {
   "cell_type": "code",
   "execution_count": 32,
   "metadata": {},
   "outputs": [],
   "source": [
    "datagrid.search(column=\"id\", value=1)"
   ]
  },
  {
   "cell_type": "code",
   "execution_count": 33,
   "metadata": {},
   "outputs": [
    {
     "name": "stdout",
     "output_type": "stream",
     "text": [
      "4 | JKL123 | 2023/10/06 12:00:15 | 12 | Item 4 | This is the content for Item 4\n",
      "18 | JKL123 | 2023/10/07 02:30:45 | 12 | Item 18 | This is the content for Item 18\n",
      "24 | QRS123 | 2023/10/07 08:00:15 | 12 | Item 24 | This is the content for Item 24\n",
      "38 | EFG123 | 2023/10/07 22:30:45 | 12 | Item 38 | This is the content for Item 38\n",
      "49 | PQR123 | 2023/10/08 09:15:00 | 12 | Item 49 | This is the content for Item 49\n",
      "65 | GHI456 | 2023/10/09 01:15:00 | 12 | Item 65 | This is the content for Item 65\n"
     ]
    }
   ],
   "source": [
    "datagrid.search(column=\"count\", value=12)"
   ]
  },
  {
   "cell_type": "code",
   "execution_count": 34,
   "metadata": {},
   "outputs": [
    {
     "name": "stdout",
     "output_type": "stream",
     "text": [
      "13 | EFG123 | 2023/10/06 21:15:00 | 5 | Item 13 | This is the content for Item 13\n",
      "33 | ZAB123 | 2023/10/07 17:15:00 | 5 | Item 33 | This is the content for Item 33\n",
      "44 | KLM456 | 2023/10/08 04:00:15 | 5 | Item 44 | This is the content for Item 44\n",
      "55 | WXY123 | 2023/10/08 15:45:30 | 5 | Item 55 | This is the content for Item 55\n",
      "66 | HIJ789 | 2023/10/09 02:30:45 | 5 | Item 66 | This is the content for Item 66\n",
      "75 | QRS789 | 2023/10/09 11:45:30 | 5 | Item 75 | This is the content for Item 75\n"
     ]
    }
   ],
   "source": [
    "datagrid.search(column=\"count\", value=5)"
   ]
  },
  {
   "cell_type": "code",
   "execution_count": 35,
   "metadata": {},
   "outputs": [],
   "source": [
    "datagrid.sort(column=\"id\", direction=\"desc\")"
   ]
  },
  {
   "cell_type": "code",
   "execution_count": 36,
   "metadata": {},
   "outputs": [
    {
     "name": "stdout",
     "output_type": "stream",
     "text": [
      "98 | ABC123 | 2023/10/06 12:00:15 | 6 | Item 98 | This is the content for Item 98\n",
      "80 | VWX456 | 2023/10/09 16:00:15 | 14 | Item 80 | This is the content for Item 80\n",
      "78 | TUV789 | 2023/10/09 14:30:45 | 15 | Item 78 | This is the content for Item 78\n",
      "77 | STU456 | 2023/10/09 13:15:00 | 8 | Item 77 | This is the content for Item 77\n",
      "76 | RST123 | 2023/10/09 12:00:15 | 20 | Item 76 | This is the content for Item 76\n",
      "75 | QRS789 | 2023/10/09 11:45:30 | 5 | Item 75 | This is the content for Item 75\n",
      "74 | PQR456 | 2023/10/09 10:30:45 | 13 | Item 74 | This is the content for Item 74\n",
      "73 | OPQ123 | 2023/10/09 09:15:00 | 16 | Item 73 | This is the content for Item 73\n",
      "72 | NOP789 | 2023/10/09 08:00:15 | 7 | Item 72 | This is the content for Item 72\n",
      "71 | MNO456 | 2023/10/09 07:45:30 | 14 | Item 71 | This is the content for Item 71\n"
     ]
    }
   ],
   "source": [
    "datagrid.show(0, 10)"
   ]
  },
  {
   "cell_type": "code",
   "execution_count": 37,
   "metadata": {},
   "outputs": [],
   "source": [
    "datagrid.sort(column=\"count\", direction=\"desc\")"
   ]
  },
  {
   "cell_type": "code",
   "execution_count": 38,
   "metadata": {},
   "outputs": [
    {
     "name": "stdout",
     "output_type": "stream",
     "text": [
      "76 | RST123 | 2023/10/09 12:00:15 | 20 | Item 76 | This is the content for Item 76\n",
      "45 | LMN789 | 2023/10/08 05:15:00 | 20 | Item 45 | This is the content for Item 45\n",
      "14 | FGH456 | 2023/10/06 22:30:45 | 20 | Item 14 | This is the content for Item 14\n",
      "56 | XYZ456 | 2023/10/08 16:00:15 | 20 | Item 56 | This is the content for Item 56\n",
      "34 | ABC456 | 2023/10/07 18:30:45 | 20 | Item 34 | This is the content for Item 34\n",
      "67 | IJK123 | 2023/10/09 03:45:30 | 20 | Item 67 | This is the content for Item 67\n",
      "6 | PQR789 | 2023/10/06 14:30:45 | 18 | Item 6 | This is the content for Item 6\n",
      "26 | STU789 | 2023/10/07 10:30:45 | 18 | Item 26 | This is the content for Item 26\n",
      "47 | NOP456 | 2023/10/08 07:45:30 | 17 | Item 47 | This is the content for Item 47\n",
      "16 | HIJ456 | 2023/10/07 00:00:15 | 17 | Item 16 | This is the content for Item 16\n"
     ]
    }
   ],
   "source": [
    "datagrid.show(0, 10)"
   ]
  }
 ],
 "metadata": {
  "kernelspec": {
   "display_name": "Python 3",
   "language": "python",
   "name": "python3"
  },
  "language_info": {
   "codemirror_mode": {
    "name": "ipython",
    "version": 3
   },
   "file_extension": ".py",
   "mimetype": "text/x-python",
   "name": "python",
   "nbconvert_exporter": "python",
   "pygments_lexer": "ipython3",
   "version": "3.10.12"
  }
 },
 "nbformat": 4,
 "nbformat_minor": 2
}
