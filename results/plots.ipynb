{
 "cells": [
  {
   "cell_type": "code",
   "execution_count": 1,
   "metadata": {},
   "outputs": [],
   "source": [
    "import pandas as pd\n",
    "import plotly.express as px"
   ]
  },
  {
   "cell_type": "code",
   "execution_count": 2,
   "metadata": {},
   "outputs": [],
   "source": [
    "insert = pd.read_csv('testInsert.csv')\n",
    "search = pd.read_csv('testSearch.csv')\n",
    "delete = pd.read_csv('testDelete.csv')"
   ]
  },
  {
   "cell_type": "code",
   "execution_count": 3,
   "metadata": {},
   "outputs": [
    {
     "data": {
      "application/vnd.plotly.v1+json": {
       "config": {
        "plotlyServerURL": "https://plot.ly"
       },
       "data": [
        {
         "hovertemplate": "n=%{x}<br>time=%{y}<extra></extra>",
         "legendgroup": "",
         "line": {
          "color": "firebrick",
          "dash": "solid"
         },
         "marker": {
          "symbol": "circle"
         },
         "mode": "lines",
         "name": "",
         "orientation": "v",
         "showlegend": false,
         "type": "scatter",
         "x": [
          10,
          100,
          1000,
          10000,
          100000,
          300000,
          500000
         ],
         "xaxis": "x",
         "y": [
          0.000136375427246,
          0.0004084110260009,
          0.0053234100341796,
          0.1348190307617187,
          0.5801548957824707,
          1.9078357219696045,
          2.5745792388916016
         ],
         "yaxis": "y"
        }
       ],
       "layout": {
        "height": 500,
        "legend": {
         "tracegroupgap": 0
        },
        "margin": {
         "t": 60
        },
        "paper_bgcolor": "rgba(255, 255, 255, 255)",
        "plot_bgcolor": "rgba(255, 255, 255, 255)",
        "showlegend": true,
        "template": {
         "data": {
          "bar": [
           {
            "error_x": {
             "color": "#2a3f5f"
            },
            "error_y": {
             "color": "#2a3f5f"
            },
            "marker": {
             "line": {
              "color": "#E5ECF6",
              "width": 0.5
             },
             "pattern": {
              "fillmode": "overlay",
              "size": 10,
              "solidity": 0.2
             }
            },
            "type": "bar"
           }
          ],
          "barpolar": [
           {
            "marker": {
             "line": {
              "color": "#E5ECF6",
              "width": 0.5
             },
             "pattern": {
              "fillmode": "overlay",
              "size": 10,
              "solidity": 0.2
             }
            },
            "type": "barpolar"
           }
          ],
          "carpet": [
           {
            "aaxis": {
             "endlinecolor": "#2a3f5f",
             "gridcolor": "white",
             "linecolor": "white",
             "minorgridcolor": "white",
             "startlinecolor": "#2a3f5f"
            },
            "baxis": {
             "endlinecolor": "#2a3f5f",
             "gridcolor": "white",
             "linecolor": "white",
             "minorgridcolor": "white",
             "startlinecolor": "#2a3f5f"
            },
            "type": "carpet"
           }
          ],
          "choropleth": [
           {
            "colorbar": {
             "outlinewidth": 0,
             "ticks": ""
            },
            "type": "choropleth"
           }
          ],
          "contour": [
           {
            "colorbar": {
             "outlinewidth": 0,
             "ticks": ""
            },
            "colorscale": [
             [
              0,
              "#0d0887"
             ],
             [
              0.1111111111111111,
              "#46039f"
             ],
             [
              0.2222222222222222,
              "#7201a8"
             ],
             [
              0.3333333333333333,
              "#9c179e"
             ],
             [
              0.4444444444444444,
              "#bd3786"
             ],
             [
              0.5555555555555556,
              "#d8576b"
             ],
             [
              0.6666666666666666,
              "#ed7953"
             ],
             [
              0.7777777777777778,
              "#fb9f3a"
             ],
             [
              0.8888888888888888,
              "#fdca26"
             ],
             [
              1,
              "#f0f921"
             ]
            ],
            "type": "contour"
           }
          ],
          "contourcarpet": [
           {
            "colorbar": {
             "outlinewidth": 0,
             "ticks": ""
            },
            "type": "contourcarpet"
           }
          ],
          "heatmap": [
           {
            "colorbar": {
             "outlinewidth": 0,
             "ticks": ""
            },
            "colorscale": [
             [
              0,
              "#0d0887"
             ],
             [
              0.1111111111111111,
              "#46039f"
             ],
             [
              0.2222222222222222,
              "#7201a8"
             ],
             [
              0.3333333333333333,
              "#9c179e"
             ],
             [
              0.4444444444444444,
              "#bd3786"
             ],
             [
              0.5555555555555556,
              "#d8576b"
             ],
             [
              0.6666666666666666,
              "#ed7953"
             ],
             [
              0.7777777777777778,
              "#fb9f3a"
             ],
             [
              0.8888888888888888,
              "#fdca26"
             ],
             [
              1,
              "#f0f921"
             ]
            ],
            "type": "heatmap"
           }
          ],
          "heatmapgl": [
           {
            "colorbar": {
             "outlinewidth": 0,
             "ticks": ""
            },
            "colorscale": [
             [
              0,
              "#0d0887"
             ],
             [
              0.1111111111111111,
              "#46039f"
             ],
             [
              0.2222222222222222,
              "#7201a8"
             ],
             [
              0.3333333333333333,
              "#9c179e"
             ],
             [
              0.4444444444444444,
              "#bd3786"
             ],
             [
              0.5555555555555556,
              "#d8576b"
             ],
             [
              0.6666666666666666,
              "#ed7953"
             ],
             [
              0.7777777777777778,
              "#fb9f3a"
             ],
             [
              0.8888888888888888,
              "#fdca26"
             ],
             [
              1,
              "#f0f921"
             ]
            ],
            "type": "heatmapgl"
           }
          ],
          "histogram": [
           {
            "marker": {
             "pattern": {
              "fillmode": "overlay",
              "size": 10,
              "solidity": 0.2
             }
            },
            "type": "histogram"
           }
          ],
          "histogram2d": [
           {
            "colorbar": {
             "outlinewidth": 0,
             "ticks": ""
            },
            "colorscale": [
             [
              0,
              "#0d0887"
             ],
             [
              0.1111111111111111,
              "#46039f"
             ],
             [
              0.2222222222222222,
              "#7201a8"
             ],
             [
              0.3333333333333333,
              "#9c179e"
             ],
             [
              0.4444444444444444,
              "#bd3786"
             ],
             [
              0.5555555555555556,
              "#d8576b"
             ],
             [
              0.6666666666666666,
              "#ed7953"
             ],
             [
              0.7777777777777778,
              "#fb9f3a"
             ],
             [
              0.8888888888888888,
              "#fdca26"
             ],
             [
              1,
              "#f0f921"
             ]
            ],
            "type": "histogram2d"
           }
          ],
          "histogram2dcontour": [
           {
            "colorbar": {
             "outlinewidth": 0,
             "ticks": ""
            },
            "colorscale": [
             [
              0,
              "#0d0887"
             ],
             [
              0.1111111111111111,
              "#46039f"
             ],
             [
              0.2222222222222222,
              "#7201a8"
             ],
             [
              0.3333333333333333,
              "#9c179e"
             ],
             [
              0.4444444444444444,
              "#bd3786"
             ],
             [
              0.5555555555555556,
              "#d8576b"
             ],
             [
              0.6666666666666666,
              "#ed7953"
             ],
             [
              0.7777777777777778,
              "#fb9f3a"
             ],
             [
              0.8888888888888888,
              "#fdca26"
             ],
             [
              1,
              "#f0f921"
             ]
            ],
            "type": "histogram2dcontour"
           }
          ],
          "mesh3d": [
           {
            "colorbar": {
             "outlinewidth": 0,
             "ticks": ""
            },
            "type": "mesh3d"
           }
          ],
          "parcoords": [
           {
            "line": {
             "colorbar": {
              "outlinewidth": 0,
              "ticks": ""
             }
            },
            "type": "parcoords"
           }
          ],
          "pie": [
           {
            "automargin": true,
            "type": "pie"
           }
          ],
          "scatter": [
           {
            "fillpattern": {
             "fillmode": "overlay",
             "size": 10,
             "solidity": 0.2
            },
            "type": "scatter"
           }
          ],
          "scatter3d": [
           {
            "line": {
             "colorbar": {
              "outlinewidth": 0,
              "ticks": ""
             }
            },
            "marker": {
             "colorbar": {
              "outlinewidth": 0,
              "ticks": ""
             }
            },
            "type": "scatter3d"
           }
          ],
          "scattercarpet": [
           {
            "marker": {
             "colorbar": {
              "outlinewidth": 0,
              "ticks": ""
             }
            },
            "type": "scattercarpet"
           }
          ],
          "scattergeo": [
           {
            "marker": {
             "colorbar": {
              "outlinewidth": 0,
              "ticks": ""
             }
            },
            "type": "scattergeo"
           }
          ],
          "scattergl": [
           {
            "marker": {
             "colorbar": {
              "outlinewidth": 0,
              "ticks": ""
             }
            },
            "type": "scattergl"
           }
          ],
          "scattermapbox": [
           {
            "marker": {
             "colorbar": {
              "outlinewidth": 0,
              "ticks": ""
             }
            },
            "type": "scattermapbox"
           }
          ],
          "scatterpolar": [
           {
            "marker": {
             "colorbar": {
              "outlinewidth": 0,
              "ticks": ""
             }
            },
            "type": "scatterpolar"
           }
          ],
          "scatterpolargl": [
           {
            "marker": {
             "colorbar": {
              "outlinewidth": 0,
              "ticks": ""
             }
            },
            "type": "scatterpolargl"
           }
          ],
          "scatterternary": [
           {
            "marker": {
             "colorbar": {
              "outlinewidth": 0,
              "ticks": ""
             }
            },
            "type": "scatterternary"
           }
          ],
          "surface": [
           {
            "colorbar": {
             "outlinewidth": 0,
             "ticks": ""
            },
            "colorscale": [
             [
              0,
              "#0d0887"
             ],
             [
              0.1111111111111111,
              "#46039f"
             ],
             [
              0.2222222222222222,
              "#7201a8"
             ],
             [
              0.3333333333333333,
              "#9c179e"
             ],
             [
              0.4444444444444444,
              "#bd3786"
             ],
             [
              0.5555555555555556,
              "#d8576b"
             ],
             [
              0.6666666666666666,
              "#ed7953"
             ],
             [
              0.7777777777777778,
              "#fb9f3a"
             ],
             [
              0.8888888888888888,
              "#fdca26"
             ],
             [
              1,
              "#f0f921"
             ]
            ],
            "type": "surface"
           }
          ],
          "table": [
           {
            "cells": {
             "fill": {
              "color": "#EBF0F8"
             },
             "line": {
              "color": "white"
             }
            },
            "header": {
             "fill": {
              "color": "#C8D4E3"
             },
             "line": {
              "color": "white"
             }
            },
            "type": "table"
           }
          ]
         },
         "layout": {
          "annotationdefaults": {
           "arrowcolor": "#2a3f5f",
           "arrowhead": 0,
           "arrowwidth": 1
          },
          "autotypenumbers": "strict",
          "coloraxis": {
           "colorbar": {
            "outlinewidth": 0,
            "ticks": ""
           }
          },
          "colorscale": {
           "diverging": [
            [
             0,
             "#8e0152"
            ],
            [
             0.1,
             "#c51b7d"
            ],
            [
             0.2,
             "#de77ae"
            ],
            [
             0.3,
             "#f1b6da"
            ],
            [
             0.4,
             "#fde0ef"
            ],
            [
             0.5,
             "#f7f7f7"
            ],
            [
             0.6,
             "#e6f5d0"
            ],
            [
             0.7,
             "#b8e186"
            ],
            [
             0.8,
             "#7fbc41"
            ],
            [
             0.9,
             "#4d9221"
            ],
            [
             1,
             "#276419"
            ]
           ],
           "sequential": [
            [
             0,
             "#0d0887"
            ],
            [
             0.1111111111111111,
             "#46039f"
            ],
            [
             0.2222222222222222,
             "#7201a8"
            ],
            [
             0.3333333333333333,
             "#9c179e"
            ],
            [
             0.4444444444444444,
             "#bd3786"
            ],
            [
             0.5555555555555556,
             "#d8576b"
            ],
            [
             0.6666666666666666,
             "#ed7953"
            ],
            [
             0.7777777777777778,
             "#fb9f3a"
            ],
            [
             0.8888888888888888,
             "#fdca26"
            ],
            [
             1,
             "#f0f921"
            ]
           ],
           "sequentialminus": [
            [
             0,
             "#0d0887"
            ],
            [
             0.1111111111111111,
             "#46039f"
            ],
            [
             0.2222222222222222,
             "#7201a8"
            ],
            [
             0.3333333333333333,
             "#9c179e"
            ],
            [
             0.4444444444444444,
             "#bd3786"
            ],
            [
             0.5555555555555556,
             "#d8576b"
            ],
            [
             0.6666666666666666,
             "#ed7953"
            ],
            [
             0.7777777777777778,
             "#fb9f3a"
            ],
            [
             0.8888888888888888,
             "#fdca26"
            ],
            [
             1,
             "#f0f921"
            ]
           ]
          },
          "colorway": [
           "#636efa",
           "#EF553B",
           "#00cc96",
           "#ab63fa",
           "#FFA15A",
           "#19d3f3",
           "#FF6692",
           "#B6E880",
           "#FF97FF",
           "#FECB52"
          ],
          "font": {
           "color": "#2a3f5f"
          },
          "geo": {
           "bgcolor": "white",
           "lakecolor": "white",
           "landcolor": "#E5ECF6",
           "showlakes": true,
           "showland": true,
           "subunitcolor": "white"
          },
          "hoverlabel": {
           "align": "left"
          },
          "hovermode": "closest",
          "mapbox": {
           "style": "light"
          },
          "paper_bgcolor": "white",
          "plot_bgcolor": "#E5ECF6",
          "polar": {
           "angularaxis": {
            "gridcolor": "white",
            "linecolor": "white",
            "ticks": ""
           },
           "bgcolor": "#E5ECF6",
           "radialaxis": {
            "gridcolor": "white",
            "linecolor": "white",
            "ticks": ""
           }
          },
          "scene": {
           "xaxis": {
            "backgroundcolor": "#E5ECF6",
            "gridcolor": "white",
            "gridwidth": 2,
            "linecolor": "white",
            "showbackground": true,
            "ticks": "",
            "zerolinecolor": "white"
           },
           "yaxis": {
            "backgroundcolor": "#E5ECF6",
            "gridcolor": "white",
            "gridwidth": 2,
            "linecolor": "white",
            "showbackground": true,
            "ticks": "",
            "zerolinecolor": "white"
           },
           "zaxis": {
            "backgroundcolor": "#E5ECF6",
            "gridcolor": "white",
            "gridwidth": 2,
            "linecolor": "white",
            "showbackground": true,
            "ticks": "",
            "zerolinecolor": "white"
           }
          },
          "shapedefaults": {
           "line": {
            "color": "#2a3f5f"
           }
          },
          "ternary": {
           "aaxis": {
            "gridcolor": "white",
            "linecolor": "white",
            "ticks": ""
           },
           "baxis": {
            "gridcolor": "white",
            "linecolor": "white",
            "ticks": ""
           },
           "bgcolor": "#E5ECF6",
           "caxis": {
            "gridcolor": "white",
            "linecolor": "white",
            "ticks": ""
           }
          },
          "title": {
           "x": 0.05
          },
          "xaxis": {
           "automargin": true,
           "gridcolor": "white",
           "linecolor": "white",
           "ticks": "",
           "title": {
            "standoff": 15
           },
           "zerolinecolor": "white",
           "zerolinewidth": 2
          },
          "yaxis": {
           "automargin": true,
           "gridcolor": "white",
           "linecolor": "white",
           "ticks": "",
           "title": {
            "standoff": 15
           },
           "zerolinecolor": "white",
           "zerolinewidth": 2
          }
         }
        },
        "title": {
         "font": {
          "color": "black",
          "size": 20
         },
         "text": "Insert: Time vs. n",
         "x": 0.5
        },
        "width": 650,
        "xaxis": {
         "anchor": "y",
         "color": "black",
         "domain": [
          0,
          1
         ],
         "gridcolor": "white",
         "linecolor": "black",
         "mirror": true,
         "ticksuffix": "    ",
         "title": {
          "text": "n"
         },
         "type": "category"
        },
        "yaxis": {
         "anchor": "x",
         "color": "black",
         "domain": [
          0,
          1
         ],
         "gridcolor": "white",
         "linecolor": "black",
         "mirror": true,
         "ticksuffix": "    ",
         "title": {
          "text": "time"
         },
         "visible": true
        }
       }
      }
     },
     "metadata": {},
     "output_type": "display_data"
    }
   ],
   "source": [
    "fig = px.line(insert,\n",
    "              x = 'n', \n",
    "              y = 'time',\n",
    "              color_discrete_sequence=[\"firebrick\"])\n",
    "\n",
    "fig.update_layout({\n",
    "    'plot_bgcolor': 'rgba(255, 255, 255, 255)',\n",
    "    'paper_bgcolor': 'rgba(255, 255, 255, 255)',\n",
    "    'yaxis':{'visible': True},\n",
    "    'xaxis':{'type':'category'}\n",
    "    })\n",
    "\n",
    "# add title\n",
    "fig.update_layout(\n",
    "    title_text=\"Insert: Time vs. n\",\n",
    "    title_x=0.5,\n",
    "    title_font_size=20,\n",
    "    title_font_color='black'\n",
    ")\n",
    "\n",
    "fig.update_yaxes(ticksuffix = \"    \",  linecolor = 'black', gridcolor = 'white', mirror = True, color = 'black')\n",
    "fig.update_xaxes(ticksuffix = \"    \",  linecolor = 'black', gridcolor = 'white', mirror = True, color = 'black')\n",
    "fig.update_layout(width=650, height=500, showlegend=True)\n",
    "fig.show()\n",
    "\n",
    "fig.write_image(\"../images/insert.png\", scale=1)"
   ]
  },
  {
   "cell_type": "code",
   "execution_count": 4,
   "metadata": {},
   "outputs": [
    {
     "data": {
      "text/html": [
       "<div>\n",
       "<style scoped>\n",
       "    .dataframe tbody tr th:only-of-type {\n",
       "        vertical-align: middle;\n",
       "    }\n",
       "\n",
       "    .dataframe tbody tr th {\n",
       "        vertical-align: top;\n",
       "    }\n",
       "\n",
       "    .dataframe thead th {\n",
       "        text-align: right;\n",
       "    }\n",
       "</style>\n",
       "<table border=\"1\" class=\"dataframe\">\n",
       "  <thead>\n",
       "    <tr style=\"text-align: right;\">\n",
       "      <th></th>\n",
       "      <th>column</th>\n",
       "      <th>n</th>\n",
       "      <th>mean_time</th>\n",
       "    </tr>\n",
       "  </thead>\n",
       "  <tbody>\n",
       "    <tr>\n",
       "      <th>0</th>\n",
       "      <td>id</td>\n",
       "      <td>10</td>\n",
       "      <td>0.000001</td>\n",
       "    </tr>\n",
       "    <tr>\n",
       "      <th>1</th>\n",
       "      <td>owner_id</td>\n",
       "      <td>10</td>\n",
       "      <td>0.000006</td>\n",
       "    </tr>\n",
       "    <tr>\n",
       "      <th>2</th>\n",
       "      <td>creation_date</td>\n",
       "      <td>10</td>\n",
       "      <td>0.000014</td>\n",
       "    </tr>\n",
       "    <tr>\n",
       "      <th>3</th>\n",
       "      <td>count</td>\n",
       "      <td>10</td>\n",
       "      <td>0.000006</td>\n",
       "    </tr>\n",
       "    <tr>\n",
       "      <th>4</th>\n",
       "      <td>name</td>\n",
       "      <td>10</td>\n",
       "      <td>0.000012</td>\n",
       "    </tr>\n",
       "  </tbody>\n",
       "</table>\n",
       "</div>"
      ],
      "text/plain": [
       "          column   n  mean_time\n",
       "0             id  10   0.000001\n",
       "1       owner_id  10   0.000006\n",
       "2  creation_date  10   0.000014\n",
       "3          count  10   0.000006\n",
       "4           name  10   0.000012"
      ]
     },
     "execution_count": 4,
     "metadata": {},
     "output_type": "execute_result"
    }
   ],
   "source": [
    "search.head()"
   ]
  },
  {
   "cell_type": "code",
   "execution_count": 5,
   "metadata": {},
   "outputs": [
    {
     "data": {
      "application/vnd.plotly.v1+json": {
       "config": {
        "plotlyServerURL": "https://plot.ly"
       },
       "data": [
        {
         "hovertemplate": "column=id<br>n=%{x}<br>mean_time=%{y}<extra></extra>",
         "legendgroup": "id",
         "line": {
          "color": "firebrick",
          "dash": "solid"
         },
         "marker": {
          "symbol": "circle"
         },
         "mode": "lines",
         "name": "id",
         "orientation": "v",
         "showlegend": true,
         "type": "scatter",
         "x": [
          10,
          100,
          1000,
          10000,
          100000,
          300000,
          500000
         ],
         "xaxis": "x5",
         "y": [
          0.0000011920928955078125,
          0.000001873288835797991,
          0.000013215201241629465,
          0.0002787113189697,
          0.0067849499838692,
          0.0000016689300537109375,
          0.0000017711094447544643
         ],
         "yaxis": "y5"
        },
        {
         "hovertemplate": "column=owner_id<br>n=%{x}<br>mean_time=%{y}<extra></extra>",
         "legendgroup": "owner_id",
         "line": {
          "color": "firebrick",
          "dash": "solid"
         },
         "marker": {
          "symbol": "circle"
         },
         "mode": "lines",
         "name": "owner_id",
         "orientation": "v",
         "showlegend": true,
         "type": "scatter",
         "x": [
          10,
          100,
          1000,
          10000,
          100000,
          300000,
          500000
         ],
         "xaxis": "x6",
         "y": [
          0.000005817413330078125,
          0.000022745132446289064,
          0.0004407882690429,
          0.0041160106658935,
          0.0538147449493408,
          0.157390546798706,
          0.2706931114196777
         ],
         "yaxis": "y6"
        },
        {
         "hovertemplate": "column=creation_date<br>n=%{x}<br>mean_time=%{y}<extra></extra>",
         "legendgroup": "creation_date",
         "line": {
          "color": "firebrick",
          "dash": "solid"
         },
         "marker": {
          "symbol": "circle"
         },
         "mode": "lines",
         "name": "creation_date",
         "orientation": "v",
         "showlegend": true,
         "type": "scatter",
         "x": [
          10,
          100,
          1000,
          10000,
          100000,
          300000,
          500000
         ],
         "xaxis": "x3",
         "y": [
          0.00001354217529296875,
          0.00008039474487304687,
          0.0008461952209472,
          0.010723066329956,
          0.1093652248382568,
          0.3208187580108642,
          0.5439969539642334
         ],
         "yaxis": "y3"
        },
        {
         "hovertemplate": "column=count<br>n=%{x}<br>mean_time=%{y}<extra></extra>",
         "legendgroup": "count",
         "line": {
          "color": "firebrick",
          "dash": "solid"
         },
         "marker": {
          "symbol": "circle"
         },
         "mode": "lines",
         "name": "count",
         "orientation": "v",
         "showlegend": true,
         "type": "scatter",
         "x": [
          10,
          100,
          1000,
          10000,
          100000,
          300000,
          500000
         ],
         "xaxis": "x4",
         "y": [
          0.000005865097045898438,
          0.000023365020751953125,
          0.0002554416656494,
          0.0047630310058593,
          0.0466631412506103,
          0.1451100349426269,
          0.246445083618164
         ],
         "yaxis": "y4"
        },
        {
         "hovertemplate": "column=name<br>n=%{x}<br>mean_time=%{y}<extra></extra>",
         "legendgroup": "name",
         "line": {
          "color": "firebrick",
          "dash": "solid"
         },
         "marker": {
          "symbol": "circle"
         },
         "mode": "lines",
         "name": "name",
         "orientation": "v",
         "showlegend": true,
         "type": "scatter",
         "x": [
          10,
          100,
          1000,
          10000,
          100000,
          300000,
          500000
         ],
         "xaxis": "x",
         "y": [
          0.000011682510375976562,
          0.00009412765502929688,
          0.0009878158569335,
          0.0126929759979248,
          0.1178216934204101,
          0.3658594608306885,
          0.5960464954376221
         ],
         "yaxis": "y"
        },
        {
         "hovertemplate": "column=content<br>n=%{x}<br>mean_time=%{y}<extra></extra>",
         "legendgroup": "content",
         "line": {
          "color": "firebrick",
          "dash": "solid"
         },
         "marker": {
          "symbol": "circle"
         },
         "mode": "lines",
         "name": "content",
         "orientation": "v",
         "showlegend": true,
         "type": "scatter",
         "x": [
          10,
          100,
          1000,
          10000,
          100000,
          300000,
          500000
         ],
         "xaxis": "x2",
         "y": [
          0.0001374244689941,
          0.0018099784851074,
          0.0130517482757568,
          0.1116812705993652,
          1.1044590473175049,
          3.2696221351623533,
          5.50959062576294
         ],
         "yaxis": "y2"
        }
       ],
       "layout": {
        "annotations": [
         {
          "font": {},
          "showarrow": false,
          "text": "name",
          "x": 0.2375,
          "xanchor": "center",
          "xref": "paper",
          "y": 0.2866666666666666,
          "yanchor": "bottom",
          "yref": "paper"
         },
         {
          "font": {},
          "showarrow": false,
          "text": "content",
          "x": 0.7625,
          "xanchor": "center",
          "xref": "paper",
          "y": 0.2866666666666666,
          "yanchor": "bottom",
          "yref": "paper"
         },
         {
          "font": {},
          "showarrow": false,
          "text": "creation_date",
          "x": 0.2375,
          "xanchor": "center",
          "xref": "paper",
          "y": 0.6433333333333333,
          "yanchor": "bottom",
          "yref": "paper"
         },
         {
          "font": {},
          "showarrow": false,
          "text": "count",
          "x": 0.7625,
          "xanchor": "center",
          "xref": "paper",
          "y": 0.6433333333333333,
          "yanchor": "bottom",
          "yref": "paper"
         },
         {
          "font": {},
          "showarrow": false,
          "text": "id",
          "x": 0.2375,
          "xanchor": "center",
          "xref": "paper",
          "y": 0.9999999999999999,
          "yanchor": "bottom",
          "yref": "paper"
         },
         {
          "font": {},
          "showarrow": false,
          "text": "owner_id",
          "x": 0.7625,
          "xanchor": "center",
          "xref": "paper",
          "y": 0.9999999999999999,
          "yanchor": "bottom",
          "yref": "paper"
         }
        ],
        "height": 500,
        "legend": {
         "title": {
          "text": "column"
         },
         "tracegroupgap": 0
        },
        "margin": {
         "b": 20,
         "l": 20,
         "r": 20,
         "t": 50
        },
        "paper_bgcolor": "rgba(255, 255, 255, 255)",
        "plot_bgcolor": "rgba(255, 255, 255, 255)",
        "showlegend": false,
        "template": {
         "data": {
          "bar": [
           {
            "error_x": {
             "color": "#2a3f5f"
            },
            "error_y": {
             "color": "#2a3f5f"
            },
            "marker": {
             "line": {
              "color": "#E5ECF6",
              "width": 0.5
             },
             "pattern": {
              "fillmode": "overlay",
              "size": 10,
              "solidity": 0.2
             }
            },
            "type": "bar"
           }
          ],
          "barpolar": [
           {
            "marker": {
             "line": {
              "color": "#E5ECF6",
              "width": 0.5
             },
             "pattern": {
              "fillmode": "overlay",
              "size": 10,
              "solidity": 0.2
             }
            },
            "type": "barpolar"
           }
          ],
          "carpet": [
           {
            "aaxis": {
             "endlinecolor": "#2a3f5f",
             "gridcolor": "white",
             "linecolor": "white",
             "minorgridcolor": "white",
             "startlinecolor": "#2a3f5f"
            },
            "baxis": {
             "endlinecolor": "#2a3f5f",
             "gridcolor": "white",
             "linecolor": "white",
             "minorgridcolor": "white",
             "startlinecolor": "#2a3f5f"
            },
            "type": "carpet"
           }
          ],
          "choropleth": [
           {
            "colorbar": {
             "outlinewidth": 0,
             "ticks": ""
            },
            "type": "choropleth"
           }
          ],
          "contour": [
           {
            "colorbar": {
             "outlinewidth": 0,
             "ticks": ""
            },
            "colorscale": [
             [
              0,
              "#0d0887"
             ],
             [
              0.1111111111111111,
              "#46039f"
             ],
             [
              0.2222222222222222,
              "#7201a8"
             ],
             [
              0.3333333333333333,
              "#9c179e"
             ],
             [
              0.4444444444444444,
              "#bd3786"
             ],
             [
              0.5555555555555556,
              "#d8576b"
             ],
             [
              0.6666666666666666,
              "#ed7953"
             ],
             [
              0.7777777777777778,
              "#fb9f3a"
             ],
             [
              0.8888888888888888,
              "#fdca26"
             ],
             [
              1,
              "#f0f921"
             ]
            ],
            "type": "contour"
           }
          ],
          "contourcarpet": [
           {
            "colorbar": {
             "outlinewidth": 0,
             "ticks": ""
            },
            "type": "contourcarpet"
           }
          ],
          "heatmap": [
           {
            "colorbar": {
             "outlinewidth": 0,
             "ticks": ""
            },
            "colorscale": [
             [
              0,
              "#0d0887"
             ],
             [
              0.1111111111111111,
              "#46039f"
             ],
             [
              0.2222222222222222,
              "#7201a8"
             ],
             [
              0.3333333333333333,
              "#9c179e"
             ],
             [
              0.4444444444444444,
              "#bd3786"
             ],
             [
              0.5555555555555556,
              "#d8576b"
             ],
             [
              0.6666666666666666,
              "#ed7953"
             ],
             [
              0.7777777777777778,
              "#fb9f3a"
             ],
             [
              0.8888888888888888,
              "#fdca26"
             ],
             [
              1,
              "#f0f921"
             ]
            ],
            "type": "heatmap"
           }
          ],
          "heatmapgl": [
           {
            "colorbar": {
             "outlinewidth": 0,
             "ticks": ""
            },
            "colorscale": [
             [
              0,
              "#0d0887"
             ],
             [
              0.1111111111111111,
              "#46039f"
             ],
             [
              0.2222222222222222,
              "#7201a8"
             ],
             [
              0.3333333333333333,
              "#9c179e"
             ],
             [
              0.4444444444444444,
              "#bd3786"
             ],
             [
              0.5555555555555556,
              "#d8576b"
             ],
             [
              0.6666666666666666,
              "#ed7953"
             ],
             [
              0.7777777777777778,
              "#fb9f3a"
             ],
             [
              0.8888888888888888,
              "#fdca26"
             ],
             [
              1,
              "#f0f921"
             ]
            ],
            "type": "heatmapgl"
           }
          ],
          "histogram": [
           {
            "marker": {
             "pattern": {
              "fillmode": "overlay",
              "size": 10,
              "solidity": 0.2
             }
            },
            "type": "histogram"
           }
          ],
          "histogram2d": [
           {
            "colorbar": {
             "outlinewidth": 0,
             "ticks": ""
            },
            "colorscale": [
             [
              0,
              "#0d0887"
             ],
             [
              0.1111111111111111,
              "#46039f"
             ],
             [
              0.2222222222222222,
              "#7201a8"
             ],
             [
              0.3333333333333333,
              "#9c179e"
             ],
             [
              0.4444444444444444,
              "#bd3786"
             ],
             [
              0.5555555555555556,
              "#d8576b"
             ],
             [
              0.6666666666666666,
              "#ed7953"
             ],
             [
              0.7777777777777778,
              "#fb9f3a"
             ],
             [
              0.8888888888888888,
              "#fdca26"
             ],
             [
              1,
              "#f0f921"
             ]
            ],
            "type": "histogram2d"
           }
          ],
          "histogram2dcontour": [
           {
            "colorbar": {
             "outlinewidth": 0,
             "ticks": ""
            },
            "colorscale": [
             [
              0,
              "#0d0887"
             ],
             [
              0.1111111111111111,
              "#46039f"
             ],
             [
              0.2222222222222222,
              "#7201a8"
             ],
             [
              0.3333333333333333,
              "#9c179e"
             ],
             [
              0.4444444444444444,
              "#bd3786"
             ],
             [
              0.5555555555555556,
              "#d8576b"
             ],
             [
              0.6666666666666666,
              "#ed7953"
             ],
             [
              0.7777777777777778,
              "#fb9f3a"
             ],
             [
              0.8888888888888888,
              "#fdca26"
             ],
             [
              1,
              "#f0f921"
             ]
            ],
            "type": "histogram2dcontour"
           }
          ],
          "mesh3d": [
           {
            "colorbar": {
             "outlinewidth": 0,
             "ticks": ""
            },
            "type": "mesh3d"
           }
          ],
          "parcoords": [
           {
            "line": {
             "colorbar": {
              "outlinewidth": 0,
              "ticks": ""
             }
            },
            "type": "parcoords"
           }
          ],
          "pie": [
           {
            "automargin": true,
            "type": "pie"
           }
          ],
          "scatter": [
           {
            "fillpattern": {
             "fillmode": "overlay",
             "size": 10,
             "solidity": 0.2
            },
            "type": "scatter"
           }
          ],
          "scatter3d": [
           {
            "line": {
             "colorbar": {
              "outlinewidth": 0,
              "ticks": ""
             }
            },
            "marker": {
             "colorbar": {
              "outlinewidth": 0,
              "ticks": ""
             }
            },
            "type": "scatter3d"
           }
          ],
          "scattercarpet": [
           {
            "marker": {
             "colorbar": {
              "outlinewidth": 0,
              "ticks": ""
             }
            },
            "type": "scattercarpet"
           }
          ],
          "scattergeo": [
           {
            "marker": {
             "colorbar": {
              "outlinewidth": 0,
              "ticks": ""
             }
            },
            "type": "scattergeo"
           }
          ],
          "scattergl": [
           {
            "marker": {
             "colorbar": {
              "outlinewidth": 0,
              "ticks": ""
             }
            },
            "type": "scattergl"
           }
          ],
          "scattermapbox": [
           {
            "marker": {
             "colorbar": {
              "outlinewidth": 0,
              "ticks": ""
             }
            },
            "type": "scattermapbox"
           }
          ],
          "scatterpolar": [
           {
            "marker": {
             "colorbar": {
              "outlinewidth": 0,
              "ticks": ""
             }
            },
            "type": "scatterpolar"
           }
          ],
          "scatterpolargl": [
           {
            "marker": {
             "colorbar": {
              "outlinewidth": 0,
              "ticks": ""
             }
            },
            "type": "scatterpolargl"
           }
          ],
          "scatterternary": [
           {
            "marker": {
             "colorbar": {
              "outlinewidth": 0,
              "ticks": ""
             }
            },
            "type": "scatterternary"
           }
          ],
          "surface": [
           {
            "colorbar": {
             "outlinewidth": 0,
             "ticks": ""
            },
            "colorscale": [
             [
              0,
              "#0d0887"
             ],
             [
              0.1111111111111111,
              "#46039f"
             ],
             [
              0.2222222222222222,
              "#7201a8"
             ],
             [
              0.3333333333333333,
              "#9c179e"
             ],
             [
              0.4444444444444444,
              "#bd3786"
             ],
             [
              0.5555555555555556,
              "#d8576b"
             ],
             [
              0.6666666666666666,
              "#ed7953"
             ],
             [
              0.7777777777777778,
              "#fb9f3a"
             ],
             [
              0.8888888888888888,
              "#fdca26"
             ],
             [
              1,
              "#f0f921"
             ]
            ],
            "type": "surface"
           }
          ],
          "table": [
           {
            "cells": {
             "fill": {
              "color": "#EBF0F8"
             },
             "line": {
              "color": "white"
             }
            },
            "header": {
             "fill": {
              "color": "#C8D4E3"
             },
             "line": {
              "color": "white"
             }
            },
            "type": "table"
           }
          ]
         },
         "layout": {
          "annotationdefaults": {
           "arrowcolor": "#2a3f5f",
           "arrowhead": 0,
           "arrowwidth": 1
          },
          "autotypenumbers": "strict",
          "coloraxis": {
           "colorbar": {
            "outlinewidth": 0,
            "ticks": ""
           }
          },
          "colorscale": {
           "diverging": [
            [
             0,
             "#8e0152"
            ],
            [
             0.1,
             "#c51b7d"
            ],
            [
             0.2,
             "#de77ae"
            ],
            [
             0.3,
             "#f1b6da"
            ],
            [
             0.4,
             "#fde0ef"
            ],
            [
             0.5,
             "#f7f7f7"
            ],
            [
             0.6,
             "#e6f5d0"
            ],
            [
             0.7,
             "#b8e186"
            ],
            [
             0.8,
             "#7fbc41"
            ],
            [
             0.9,
             "#4d9221"
            ],
            [
             1,
             "#276419"
            ]
           ],
           "sequential": [
            [
             0,
             "#0d0887"
            ],
            [
             0.1111111111111111,
             "#46039f"
            ],
            [
             0.2222222222222222,
             "#7201a8"
            ],
            [
             0.3333333333333333,
             "#9c179e"
            ],
            [
             0.4444444444444444,
             "#bd3786"
            ],
            [
             0.5555555555555556,
             "#d8576b"
            ],
            [
             0.6666666666666666,
             "#ed7953"
            ],
            [
             0.7777777777777778,
             "#fb9f3a"
            ],
            [
             0.8888888888888888,
             "#fdca26"
            ],
            [
             1,
             "#f0f921"
            ]
           ],
           "sequentialminus": [
            [
             0,
             "#0d0887"
            ],
            [
             0.1111111111111111,
             "#46039f"
            ],
            [
             0.2222222222222222,
             "#7201a8"
            ],
            [
             0.3333333333333333,
             "#9c179e"
            ],
            [
             0.4444444444444444,
             "#bd3786"
            ],
            [
             0.5555555555555556,
             "#d8576b"
            ],
            [
             0.6666666666666666,
             "#ed7953"
            ],
            [
             0.7777777777777778,
             "#fb9f3a"
            ],
            [
             0.8888888888888888,
             "#fdca26"
            ],
            [
             1,
             "#f0f921"
            ]
           ]
          },
          "colorway": [
           "#636efa",
           "#EF553B",
           "#00cc96",
           "#ab63fa",
           "#FFA15A",
           "#19d3f3",
           "#FF6692",
           "#B6E880",
           "#FF97FF",
           "#FECB52"
          ],
          "font": {
           "color": "#2a3f5f"
          },
          "geo": {
           "bgcolor": "white",
           "lakecolor": "white",
           "landcolor": "#E5ECF6",
           "showlakes": true,
           "showland": true,
           "subunitcolor": "white"
          },
          "hoverlabel": {
           "align": "left"
          },
          "hovermode": "closest",
          "mapbox": {
           "style": "light"
          },
          "paper_bgcolor": "white",
          "plot_bgcolor": "#E5ECF6",
          "polar": {
           "angularaxis": {
            "gridcolor": "white",
            "linecolor": "white",
            "ticks": ""
           },
           "bgcolor": "#E5ECF6",
           "radialaxis": {
            "gridcolor": "white",
            "linecolor": "white",
            "ticks": ""
           }
          },
          "scene": {
           "xaxis": {
            "backgroundcolor": "#E5ECF6",
            "gridcolor": "white",
            "gridwidth": 2,
            "linecolor": "white",
            "showbackground": true,
            "ticks": "",
            "zerolinecolor": "white"
           },
           "yaxis": {
            "backgroundcolor": "#E5ECF6",
            "gridcolor": "white",
            "gridwidth": 2,
            "linecolor": "white",
            "showbackground": true,
            "ticks": "",
            "zerolinecolor": "white"
           },
           "zaxis": {
            "backgroundcolor": "#E5ECF6",
            "gridcolor": "white",
            "gridwidth": 2,
            "linecolor": "white",
            "showbackground": true,
            "ticks": "",
            "zerolinecolor": "white"
           }
          },
          "shapedefaults": {
           "line": {
            "color": "#2a3f5f"
           }
          },
          "ternary": {
           "aaxis": {
            "gridcolor": "white",
            "linecolor": "white",
            "ticks": ""
           },
           "baxis": {
            "gridcolor": "white",
            "linecolor": "white",
            "ticks": ""
           },
           "bgcolor": "#E5ECF6",
           "caxis": {
            "gridcolor": "white",
            "linecolor": "white",
            "ticks": ""
           }
          },
          "title": {
           "x": 0.05
          },
          "xaxis": {
           "automargin": true,
           "gridcolor": "white",
           "linecolor": "white",
           "ticks": "",
           "title": {
            "standoff": 15
           },
           "zerolinecolor": "white",
           "zerolinewidth": 2
          },
          "yaxis": {
           "automargin": true,
           "gridcolor": "white",
           "linecolor": "white",
           "ticks": "",
           "title": {
            "standoff": 15
           },
           "zerolinecolor": "white",
           "zerolinewidth": 2
          }
         }
        },
        "title": {
         "font": {
          "color": "black",
          "size": 20
         },
         "text": "Search: Mean time vs. n",
         "x": 0.5
        },
        "width": 500,
        "xaxis": {
         "anchor": "y",
         "color": "black",
         "domain": [
          0,
          0.475
         ],
         "gridcolor": "white",
         "linecolor": "black",
         "mirror": true,
         "ticksuffix": " ",
         "title": {
          "text": "n"
         }
        },
        "xaxis2": {
         "anchor": "y2",
         "color": "black",
         "domain": [
          0.525,
          1
         ],
         "gridcolor": "white",
         "linecolor": "black",
         "matches": "x",
         "mirror": true,
         "ticksuffix": " ",
         "title": {
          "text": "n"
         }
        },
        "xaxis3": {
         "anchor": "y3",
         "color": "black",
         "domain": [
          0,
          0.475
         ],
         "gridcolor": "white",
         "linecolor": "black",
         "matches": "x",
         "mirror": true,
         "showticklabels": false,
         "ticksuffix": " "
        },
        "xaxis4": {
         "anchor": "y4",
         "color": "black",
         "domain": [
          0.525,
          1
         ],
         "gridcolor": "white",
         "linecolor": "black",
         "matches": "x",
         "mirror": true,
         "showticklabels": false,
         "ticksuffix": " "
        },
        "xaxis5": {
         "anchor": "y5",
         "color": "black",
         "domain": [
          0,
          0.475
         ],
         "gridcolor": "white",
         "linecolor": "black",
         "matches": "x",
         "mirror": true,
         "showticklabels": false,
         "ticksuffix": " "
        },
        "xaxis6": {
         "anchor": "y6",
         "color": "black",
         "domain": [
          0.525,
          1
         ],
         "gridcolor": "white",
         "linecolor": "black",
         "matches": "x",
         "mirror": true,
         "showticklabels": false,
         "ticksuffix": " "
        },
        "yaxis": {
         "anchor": "x",
         "color": "black",
         "domain": [
          0,
          0.2866666666666666
         ],
         "gridcolor": "white",
         "linecolor": "black",
         "mirror": true,
         "ticksuffix": " ",
         "title": {
          "text": "mean_time"
         },
         "visible": true
        },
        "yaxis2": {
         "anchor": "x2",
         "color": "black",
         "domain": [
          0,
          0.2866666666666666
         ],
         "gridcolor": "white",
         "linecolor": "black",
         "matches": "y",
         "mirror": true,
         "showticklabels": false,
         "ticksuffix": " "
        },
        "yaxis3": {
         "anchor": "x3",
         "color": "black",
         "domain": [
          0.35666666666666663,
          0.6433333333333333
         ],
         "gridcolor": "white",
         "linecolor": "black",
         "matches": "y",
         "mirror": true,
         "ticksuffix": " ",
         "title": {
          "text": "mean_time"
         }
        },
        "yaxis4": {
         "anchor": "x4",
         "color": "black",
         "domain": [
          0.35666666666666663,
          0.6433333333333333
         ],
         "gridcolor": "white",
         "linecolor": "black",
         "matches": "y",
         "mirror": true,
         "showticklabels": false,
         "ticksuffix": " "
        },
        "yaxis5": {
         "anchor": "x5",
         "color": "black",
         "domain": [
          0.7133333333333333,
          0.9999999999999999
         ],
         "gridcolor": "white",
         "linecolor": "black",
         "matches": "y",
         "mirror": true,
         "ticksuffix": " ",
         "title": {
          "text": "mean_time"
         }
        },
        "yaxis6": {
         "anchor": "x6",
         "color": "black",
         "domain": [
          0.7133333333333333,
          0.9999999999999999
         ],
         "gridcolor": "white",
         "linecolor": "black",
         "matches": "y",
         "mirror": true,
         "showticklabels": false,
         "ticksuffix": " "
        }
       }
      }
     },
     "metadata": {},
     "output_type": "display_data"
    }
   ],
   "source": [
    "fig = px.line(search,\n",
    "              x = 'n', \n",
    "              y = 'mean_time',\n",
    "              color = 'column',\n",
    "              facet_col='column',\n",
    "              facet_col_wrap=2,\n",
    "              facet_col_spacing=0.05,\n",
    "              color_discrete_sequence=[\"firebrick\"])\n",
    "\n",
    "fig.update_layout({\n",
    "    'plot_bgcolor': 'rgba(255, 255, 255, 255)',\n",
    "    'paper_bgcolor': 'rgba(255, 255, 255, 255)',\n",
    "    'yaxis':{'visible': True}\n",
    "    #'xaxis':{'type':'category'}\n",
    "    })\n",
    "\n",
    "fig.update_layout(\n",
    "    title_text=\"Search: Mean time vs. n\",\n",
    "    title_x=0.5,\n",
    "    title_font_size=20,\n",
    "    title_font_color='black'\n",
    ")\n",
    "\n",
    "# for_each annotation\n",
    "for anno in fig.layout.annotations:\n",
    "    anno.text = anno.text.split(\"=\")[-1]\n",
    "\n",
    "# increase vertical distance between facets\n",
    "fig.update_layout(margin=dict(l=20, r=20, t=50, b=20), height=600)\n",
    "\n",
    "fig.update_yaxes(ticksuffix = \" \",  linecolor = 'black', gridcolor = 'white', mirror = True, color = 'black')\n",
    "fig.update_xaxes(ticksuffix = \" \",  linecolor = 'black', gridcolor = 'white', mirror = True, color = 'black')\n",
    "fig.update_layout(width=500, height=500, showlegend=False)\n",
    "fig.show()\n",
    "\n",
    "fig.write_image(\"../images/search_fix-scale.png\", scale=1)"
   ]
  },
  {
   "cell_type": "code",
   "execution_count": 6,
   "metadata": {},
   "outputs": [
    {
     "data": {
      "application/vnd.plotly.v1+json": {
       "config": {
        "plotlyServerURL": "https://plot.ly"
       },
       "data": [
        {
         "hovertemplate": "column=id<br>n=%{x}<br>mean_time=%{y}<extra></extra>",
         "legendgroup": "id",
         "line": {
          "color": "firebrick",
          "dash": "solid"
         },
         "marker": {
          "symbol": "circle"
         },
         "mode": "lines",
         "name": "id",
         "orientation": "v",
         "showlegend": true,
         "type": "scatter",
         "x": [
          10,
          100,
          1000,
          10000,
          100000,
          300000,
          500000
         ],
         "xaxis": "x6",
         "y": [
          0.0000011920928955078125,
          0.000001873288835797991,
          0.000013215201241629465,
          0.0002787113189697,
          0.0067849499838692,
          0.0000016689300537109375,
          0.0000017711094447544643
         ],
         "yaxis": "y6"
        },
        {
         "hovertemplate": "column=owner_id<br>n=%{x}<br>mean_time=%{y}<extra></extra>",
         "legendgroup": "owner_id",
         "line": {
          "color": "firebrick",
          "dash": "solid"
         },
         "marker": {
          "symbol": "circle"
         },
         "mode": "lines",
         "name": "owner_id",
         "orientation": "v",
         "showlegend": true,
         "type": "scatter",
         "x": [
          10,
          100,
          1000,
          10000,
          100000,
          300000,
          500000
         ],
         "xaxis": "x5",
         "y": [
          0.000005817413330078125,
          0.000022745132446289064,
          0.0004407882690429,
          0.0041160106658935,
          0.0538147449493408,
          0.157390546798706,
          0.2706931114196777
         ],
         "yaxis": "y5"
        },
        {
         "hovertemplate": "column=creation_date<br>n=%{x}<br>mean_time=%{y}<extra></extra>",
         "legendgroup": "creation_date",
         "line": {
          "color": "firebrick",
          "dash": "solid"
         },
         "marker": {
          "symbol": "circle"
         },
         "mode": "lines",
         "name": "creation_date",
         "orientation": "v",
         "showlegend": true,
         "type": "scatter",
         "x": [
          10,
          100,
          1000,
          10000,
          100000,
          300000,
          500000
         ],
         "xaxis": "x4",
         "y": [
          0.00001354217529296875,
          0.00008039474487304687,
          0.0008461952209472,
          0.010723066329956,
          0.1093652248382568,
          0.3208187580108642,
          0.5439969539642334
         ],
         "yaxis": "y4"
        },
        {
         "hovertemplate": "column=count<br>n=%{x}<br>mean_time=%{y}<extra></extra>",
         "legendgroup": "count",
         "line": {
          "color": "firebrick",
          "dash": "solid"
         },
         "marker": {
          "symbol": "circle"
         },
         "mode": "lines",
         "name": "count",
         "orientation": "v",
         "showlegend": true,
         "type": "scatter",
         "x": [
          10,
          100,
          1000,
          10000,
          100000,
          300000,
          500000
         ],
         "xaxis": "x3",
         "y": [
          0.000005865097045898438,
          0.000023365020751953125,
          0.0002554416656494,
          0.0047630310058593,
          0.0466631412506103,
          0.1451100349426269,
          0.246445083618164
         ],
         "yaxis": "y3"
        },
        {
         "hovertemplate": "column=name<br>n=%{x}<br>mean_time=%{y}<extra></extra>",
         "legendgroup": "name",
         "line": {
          "color": "firebrick",
          "dash": "solid"
         },
         "marker": {
          "symbol": "circle"
         },
         "mode": "lines",
         "name": "name",
         "orientation": "v",
         "showlegend": true,
         "type": "scatter",
         "x": [
          10,
          100,
          1000,
          10000,
          100000,
          300000,
          500000
         ],
         "xaxis": "x2",
         "y": [
          0.000011682510375976562,
          0.00009412765502929688,
          0.0009878158569335,
          0.0126929759979248,
          0.1178216934204101,
          0.3658594608306885,
          0.5960464954376221
         ],
         "yaxis": "y2"
        },
        {
         "hovertemplate": "column=content<br>n=%{x}<br>mean_time=%{y}<extra></extra>",
         "legendgroup": "content",
         "line": {
          "color": "firebrick",
          "dash": "solid"
         },
         "marker": {
          "symbol": "circle"
         },
         "mode": "lines",
         "name": "content",
         "orientation": "v",
         "showlegend": true,
         "type": "scatter",
         "x": [
          10,
          100,
          1000,
          10000,
          100000,
          300000,
          500000
         ],
         "xaxis": "x",
         "y": [
          0.0001374244689941,
          0.0018099784851074,
          0.0130517482757568,
          0.1116812705993652,
          1.1044590473175049,
          3.2696221351623533,
          5.50959062576294
         ],
         "yaxis": "y"
        }
       ],
       "layout": {
        "annotations": [
         {
          "font": {},
          "showarrow": false,
          "text": "content",
          "x": 0.5,
          "xanchor": "center",
          "xref": "paper",
          "y": 0.10833333333333331,
          "yanchor": "bottom",
          "yref": "paper"
         },
         {
          "font": {},
          "showarrow": false,
          "text": "name",
          "x": 0.5,
          "xanchor": "center",
          "xref": "paper",
          "y": 0.2866666666666666,
          "yanchor": "bottom",
          "yref": "paper"
         },
         {
          "font": {},
          "showarrow": false,
          "text": "count",
          "x": 0.5,
          "xanchor": "center",
          "xref": "paper",
          "y": 0.46499999999999997,
          "yanchor": "bottom",
          "yref": "paper"
         },
         {
          "font": {},
          "showarrow": false,
          "text": "creation_date",
          "x": 0.5,
          "xanchor": "center",
          "xref": "paper",
          "y": 0.6433333333333332,
          "yanchor": "bottom",
          "yref": "paper"
         },
         {
          "font": {},
          "showarrow": false,
          "text": "owner_id",
          "x": 0.5,
          "xanchor": "center",
          "xref": "paper",
          "y": 0.8216666666666665,
          "yanchor": "bottom",
          "yref": "paper"
         },
         {
          "font": {},
          "showarrow": false,
          "text": "id",
          "x": 0.5,
          "xanchor": "center",
          "xref": "paper",
          "y": 0.9999999999999999,
          "yanchor": "bottom",
          "yref": "paper"
         }
        ],
        "height": 800,
        "legend": {
         "title": {
          "text": "column"
         },
         "tracegroupgap": 0
        },
        "margin": {
         "b": 20,
         "l": 20,
         "r": 20,
         "t": 50
        },
        "paper_bgcolor": "rgba(255, 255, 255, 255)",
        "plot_bgcolor": "rgba(255, 255, 255, 255)",
        "showlegend": false,
        "template": {
         "data": {
          "bar": [
           {
            "error_x": {
             "color": "#2a3f5f"
            },
            "error_y": {
             "color": "#2a3f5f"
            },
            "marker": {
             "line": {
              "color": "#E5ECF6",
              "width": 0.5
             },
             "pattern": {
              "fillmode": "overlay",
              "size": 10,
              "solidity": 0.2
             }
            },
            "type": "bar"
           }
          ],
          "barpolar": [
           {
            "marker": {
             "line": {
              "color": "#E5ECF6",
              "width": 0.5
             },
             "pattern": {
              "fillmode": "overlay",
              "size": 10,
              "solidity": 0.2
             }
            },
            "type": "barpolar"
           }
          ],
          "carpet": [
           {
            "aaxis": {
             "endlinecolor": "#2a3f5f",
             "gridcolor": "white",
             "linecolor": "white",
             "minorgridcolor": "white",
             "startlinecolor": "#2a3f5f"
            },
            "baxis": {
             "endlinecolor": "#2a3f5f",
             "gridcolor": "white",
             "linecolor": "white",
             "minorgridcolor": "white",
             "startlinecolor": "#2a3f5f"
            },
            "type": "carpet"
           }
          ],
          "choropleth": [
           {
            "colorbar": {
             "outlinewidth": 0,
             "ticks": ""
            },
            "type": "choropleth"
           }
          ],
          "contour": [
           {
            "colorbar": {
             "outlinewidth": 0,
             "ticks": ""
            },
            "colorscale": [
             [
              0,
              "#0d0887"
             ],
             [
              0.1111111111111111,
              "#46039f"
             ],
             [
              0.2222222222222222,
              "#7201a8"
             ],
             [
              0.3333333333333333,
              "#9c179e"
             ],
             [
              0.4444444444444444,
              "#bd3786"
             ],
             [
              0.5555555555555556,
              "#d8576b"
             ],
             [
              0.6666666666666666,
              "#ed7953"
             ],
             [
              0.7777777777777778,
              "#fb9f3a"
             ],
             [
              0.8888888888888888,
              "#fdca26"
             ],
             [
              1,
              "#f0f921"
             ]
            ],
            "type": "contour"
           }
          ],
          "contourcarpet": [
           {
            "colorbar": {
             "outlinewidth": 0,
             "ticks": ""
            },
            "type": "contourcarpet"
           }
          ],
          "heatmap": [
           {
            "colorbar": {
             "outlinewidth": 0,
             "ticks": ""
            },
            "colorscale": [
             [
              0,
              "#0d0887"
             ],
             [
              0.1111111111111111,
              "#46039f"
             ],
             [
              0.2222222222222222,
              "#7201a8"
             ],
             [
              0.3333333333333333,
              "#9c179e"
             ],
             [
              0.4444444444444444,
              "#bd3786"
             ],
             [
              0.5555555555555556,
              "#d8576b"
             ],
             [
              0.6666666666666666,
              "#ed7953"
             ],
             [
              0.7777777777777778,
              "#fb9f3a"
             ],
             [
              0.8888888888888888,
              "#fdca26"
             ],
             [
              1,
              "#f0f921"
             ]
            ],
            "type": "heatmap"
           }
          ],
          "heatmapgl": [
           {
            "colorbar": {
             "outlinewidth": 0,
             "ticks": ""
            },
            "colorscale": [
             [
              0,
              "#0d0887"
             ],
             [
              0.1111111111111111,
              "#46039f"
             ],
             [
              0.2222222222222222,
              "#7201a8"
             ],
             [
              0.3333333333333333,
              "#9c179e"
             ],
             [
              0.4444444444444444,
              "#bd3786"
             ],
             [
              0.5555555555555556,
              "#d8576b"
             ],
             [
              0.6666666666666666,
              "#ed7953"
             ],
             [
              0.7777777777777778,
              "#fb9f3a"
             ],
             [
              0.8888888888888888,
              "#fdca26"
             ],
             [
              1,
              "#f0f921"
             ]
            ],
            "type": "heatmapgl"
           }
          ],
          "histogram": [
           {
            "marker": {
             "pattern": {
              "fillmode": "overlay",
              "size": 10,
              "solidity": 0.2
             }
            },
            "type": "histogram"
           }
          ],
          "histogram2d": [
           {
            "colorbar": {
             "outlinewidth": 0,
             "ticks": ""
            },
            "colorscale": [
             [
              0,
              "#0d0887"
             ],
             [
              0.1111111111111111,
              "#46039f"
             ],
             [
              0.2222222222222222,
              "#7201a8"
             ],
             [
              0.3333333333333333,
              "#9c179e"
             ],
             [
              0.4444444444444444,
              "#bd3786"
             ],
             [
              0.5555555555555556,
              "#d8576b"
             ],
             [
              0.6666666666666666,
              "#ed7953"
             ],
             [
              0.7777777777777778,
              "#fb9f3a"
             ],
             [
              0.8888888888888888,
              "#fdca26"
             ],
             [
              1,
              "#f0f921"
             ]
            ],
            "type": "histogram2d"
           }
          ],
          "histogram2dcontour": [
           {
            "colorbar": {
             "outlinewidth": 0,
             "ticks": ""
            },
            "colorscale": [
             [
              0,
              "#0d0887"
             ],
             [
              0.1111111111111111,
              "#46039f"
             ],
             [
              0.2222222222222222,
              "#7201a8"
             ],
             [
              0.3333333333333333,
              "#9c179e"
             ],
             [
              0.4444444444444444,
              "#bd3786"
             ],
             [
              0.5555555555555556,
              "#d8576b"
             ],
             [
              0.6666666666666666,
              "#ed7953"
             ],
             [
              0.7777777777777778,
              "#fb9f3a"
             ],
             [
              0.8888888888888888,
              "#fdca26"
             ],
             [
              1,
              "#f0f921"
             ]
            ],
            "type": "histogram2dcontour"
           }
          ],
          "mesh3d": [
           {
            "colorbar": {
             "outlinewidth": 0,
             "ticks": ""
            },
            "type": "mesh3d"
           }
          ],
          "parcoords": [
           {
            "line": {
             "colorbar": {
              "outlinewidth": 0,
              "ticks": ""
             }
            },
            "type": "parcoords"
           }
          ],
          "pie": [
           {
            "automargin": true,
            "type": "pie"
           }
          ],
          "scatter": [
           {
            "fillpattern": {
             "fillmode": "overlay",
             "size": 10,
             "solidity": 0.2
            },
            "type": "scatter"
           }
          ],
          "scatter3d": [
           {
            "line": {
             "colorbar": {
              "outlinewidth": 0,
              "ticks": ""
             }
            },
            "marker": {
             "colorbar": {
              "outlinewidth": 0,
              "ticks": ""
             }
            },
            "type": "scatter3d"
           }
          ],
          "scattercarpet": [
           {
            "marker": {
             "colorbar": {
              "outlinewidth": 0,
              "ticks": ""
             }
            },
            "type": "scattercarpet"
           }
          ],
          "scattergeo": [
           {
            "marker": {
             "colorbar": {
              "outlinewidth": 0,
              "ticks": ""
             }
            },
            "type": "scattergeo"
           }
          ],
          "scattergl": [
           {
            "marker": {
             "colorbar": {
              "outlinewidth": 0,
              "ticks": ""
             }
            },
            "type": "scattergl"
           }
          ],
          "scattermapbox": [
           {
            "marker": {
             "colorbar": {
              "outlinewidth": 0,
              "ticks": ""
             }
            },
            "type": "scattermapbox"
           }
          ],
          "scatterpolar": [
           {
            "marker": {
             "colorbar": {
              "outlinewidth": 0,
              "ticks": ""
             }
            },
            "type": "scatterpolar"
           }
          ],
          "scatterpolargl": [
           {
            "marker": {
             "colorbar": {
              "outlinewidth": 0,
              "ticks": ""
             }
            },
            "type": "scatterpolargl"
           }
          ],
          "scatterternary": [
           {
            "marker": {
             "colorbar": {
              "outlinewidth": 0,
              "ticks": ""
             }
            },
            "type": "scatterternary"
           }
          ],
          "surface": [
           {
            "colorbar": {
             "outlinewidth": 0,
             "ticks": ""
            },
            "colorscale": [
             [
              0,
              "#0d0887"
             ],
             [
              0.1111111111111111,
              "#46039f"
             ],
             [
              0.2222222222222222,
              "#7201a8"
             ],
             [
              0.3333333333333333,
              "#9c179e"
             ],
             [
              0.4444444444444444,
              "#bd3786"
             ],
             [
              0.5555555555555556,
              "#d8576b"
             ],
             [
              0.6666666666666666,
              "#ed7953"
             ],
             [
              0.7777777777777778,
              "#fb9f3a"
             ],
             [
              0.8888888888888888,
              "#fdca26"
             ],
             [
              1,
              "#f0f921"
             ]
            ],
            "type": "surface"
           }
          ],
          "table": [
           {
            "cells": {
             "fill": {
              "color": "#EBF0F8"
             },
             "line": {
              "color": "white"
             }
            },
            "header": {
             "fill": {
              "color": "#C8D4E3"
             },
             "line": {
              "color": "white"
             }
            },
            "type": "table"
           }
          ]
         },
         "layout": {
          "annotationdefaults": {
           "arrowcolor": "#2a3f5f",
           "arrowhead": 0,
           "arrowwidth": 1
          },
          "autotypenumbers": "strict",
          "coloraxis": {
           "colorbar": {
            "outlinewidth": 0,
            "ticks": ""
           }
          },
          "colorscale": {
           "diverging": [
            [
             0,
             "#8e0152"
            ],
            [
             0.1,
             "#c51b7d"
            ],
            [
             0.2,
             "#de77ae"
            ],
            [
             0.3,
             "#f1b6da"
            ],
            [
             0.4,
             "#fde0ef"
            ],
            [
             0.5,
             "#f7f7f7"
            ],
            [
             0.6,
             "#e6f5d0"
            ],
            [
             0.7,
             "#b8e186"
            ],
            [
             0.8,
             "#7fbc41"
            ],
            [
             0.9,
             "#4d9221"
            ],
            [
             1,
             "#276419"
            ]
           ],
           "sequential": [
            [
             0,
             "#0d0887"
            ],
            [
             0.1111111111111111,
             "#46039f"
            ],
            [
             0.2222222222222222,
             "#7201a8"
            ],
            [
             0.3333333333333333,
             "#9c179e"
            ],
            [
             0.4444444444444444,
             "#bd3786"
            ],
            [
             0.5555555555555556,
             "#d8576b"
            ],
            [
             0.6666666666666666,
             "#ed7953"
            ],
            [
             0.7777777777777778,
             "#fb9f3a"
            ],
            [
             0.8888888888888888,
             "#fdca26"
            ],
            [
             1,
             "#f0f921"
            ]
           ],
           "sequentialminus": [
            [
             0,
             "#0d0887"
            ],
            [
             0.1111111111111111,
             "#46039f"
            ],
            [
             0.2222222222222222,
             "#7201a8"
            ],
            [
             0.3333333333333333,
             "#9c179e"
            ],
            [
             0.4444444444444444,
             "#bd3786"
            ],
            [
             0.5555555555555556,
             "#d8576b"
            ],
            [
             0.6666666666666666,
             "#ed7953"
            ],
            [
             0.7777777777777778,
             "#fb9f3a"
            ],
            [
             0.8888888888888888,
             "#fdca26"
            ],
            [
             1,
             "#f0f921"
            ]
           ]
          },
          "colorway": [
           "#636efa",
           "#EF553B",
           "#00cc96",
           "#ab63fa",
           "#FFA15A",
           "#19d3f3",
           "#FF6692",
           "#B6E880",
           "#FF97FF",
           "#FECB52"
          ],
          "font": {
           "color": "#2a3f5f"
          },
          "geo": {
           "bgcolor": "white",
           "lakecolor": "white",
           "landcolor": "#E5ECF6",
           "showlakes": true,
           "showland": true,
           "subunitcolor": "white"
          },
          "hoverlabel": {
           "align": "left"
          },
          "hovermode": "closest",
          "mapbox": {
           "style": "light"
          },
          "paper_bgcolor": "white",
          "plot_bgcolor": "#E5ECF6",
          "polar": {
           "angularaxis": {
            "gridcolor": "white",
            "linecolor": "white",
            "ticks": ""
           },
           "bgcolor": "#E5ECF6",
           "radialaxis": {
            "gridcolor": "white",
            "linecolor": "white",
            "ticks": ""
           }
          },
          "scene": {
           "xaxis": {
            "backgroundcolor": "#E5ECF6",
            "gridcolor": "white",
            "gridwidth": 2,
            "linecolor": "white",
            "showbackground": true,
            "ticks": "",
            "zerolinecolor": "white"
           },
           "yaxis": {
            "backgroundcolor": "#E5ECF6",
            "gridcolor": "white",
            "gridwidth": 2,
            "linecolor": "white",
            "showbackground": true,
            "ticks": "",
            "zerolinecolor": "white"
           },
           "zaxis": {
            "backgroundcolor": "#E5ECF6",
            "gridcolor": "white",
            "gridwidth": 2,
            "linecolor": "white",
            "showbackground": true,
            "ticks": "",
            "zerolinecolor": "white"
           }
          },
          "shapedefaults": {
           "line": {
            "color": "#2a3f5f"
           }
          },
          "ternary": {
           "aaxis": {
            "gridcolor": "white",
            "linecolor": "white",
            "ticks": ""
           },
           "baxis": {
            "gridcolor": "white",
            "linecolor": "white",
            "ticks": ""
           },
           "bgcolor": "#E5ECF6",
           "caxis": {
            "gridcolor": "white",
            "linecolor": "white",
            "ticks": ""
           }
          },
          "title": {
           "x": 0.05
          },
          "xaxis": {
           "automargin": true,
           "gridcolor": "white",
           "linecolor": "white",
           "ticks": "",
           "title": {
            "standoff": 15
           },
           "zerolinecolor": "white",
           "zerolinewidth": 2
          },
          "yaxis": {
           "automargin": true,
           "gridcolor": "white",
           "linecolor": "white",
           "ticks": "",
           "title": {
            "standoff": 15
           },
           "zerolinecolor": "white",
           "zerolinewidth": 2
          }
         }
        },
        "title": {
         "font": {
          "color": "black",
          "size": 15
         },
         "text": "Search (free scale): Mean time vs. n",
         "x": 0.5
        },
        "width": 300,
        "xaxis": {
         "anchor": "y",
         "color": "black",
         "domain": [
          0,
          1
         ],
         "gridcolor": "white",
         "linecolor": "black",
         "mirror": true,
         "ticksuffix": " ",
         "title": {
          "text": "n"
         }
        },
        "xaxis2": {
         "anchor": "y2",
         "color": "black",
         "domain": [
          0,
          1
         ],
         "gridcolor": "white",
         "linecolor": "black",
         "matches": "x",
         "mirror": true,
         "showticklabels": false,
         "ticksuffix": " "
        },
        "xaxis3": {
         "anchor": "y3",
         "color": "black",
         "domain": [
          0,
          1
         ],
         "gridcolor": "white",
         "linecolor": "black",
         "matches": "x",
         "mirror": true,
         "showticklabels": false,
         "ticksuffix": " "
        },
        "xaxis4": {
         "anchor": "y4",
         "color": "black",
         "domain": [
          0,
          1
         ],
         "gridcolor": "white",
         "linecolor": "black",
         "matches": "x",
         "mirror": true,
         "showticklabels": false,
         "ticksuffix": " "
        },
        "xaxis5": {
         "anchor": "y5",
         "color": "black",
         "domain": [
          0,
          1
         ],
         "gridcolor": "white",
         "linecolor": "black",
         "matches": "x",
         "mirror": true,
         "showticklabels": false,
         "ticksuffix": " "
        },
        "xaxis6": {
         "anchor": "y6",
         "color": "black",
         "domain": [
          0,
          1
         ],
         "gridcolor": "white",
         "linecolor": "black",
         "matches": "x",
         "mirror": true,
         "showticklabels": false,
         "ticksuffix": " "
        },
        "yaxis": {
         "anchor": "x",
         "color": "black",
         "domain": [
          0,
          0.10833333333333331
         ],
         "gridcolor": "white",
         "linecolor": "black",
         "mirror": true,
         "ticksuffix": " ",
         "title": {
          "text": "mean_time"
         },
         "visible": true
        },
        "yaxis2": {
         "anchor": "x2",
         "color": "black",
         "domain": [
          0.17833333333333332,
          0.2866666666666666
         ],
         "gridcolor": "white",
         "linecolor": "black",
         "mirror": true,
         "ticksuffix": " ",
         "title": {
          "text": "mean_time"
         }
        },
        "yaxis3": {
         "anchor": "x3",
         "color": "black",
         "domain": [
          0.35666666666666663,
          0.46499999999999997
         ],
         "gridcolor": "white",
         "linecolor": "black",
         "mirror": true,
         "ticksuffix": " ",
         "title": {
          "text": "mean_time"
         }
        },
        "yaxis4": {
         "anchor": "x4",
         "color": "black",
         "domain": [
          0.5349999999999999,
          0.6433333333333332
         ],
         "gridcolor": "white",
         "linecolor": "black",
         "mirror": true,
         "ticksuffix": " ",
         "title": {
          "text": "mean_time"
         }
        },
        "yaxis5": {
         "anchor": "x5",
         "color": "black",
         "domain": [
          0.7133333333333333,
          0.8216666666666665
         ],
         "gridcolor": "white",
         "linecolor": "black",
         "mirror": true,
         "ticksuffix": " ",
         "title": {
          "text": "mean_time"
         }
        },
        "yaxis6": {
         "anchor": "x6",
         "color": "black",
         "domain": [
          0.8916666666666666,
          0.9999999999999999
         ],
         "gridcolor": "white",
         "linecolor": "black",
         "mirror": true,
         "ticksuffix": " ",
         "title": {
          "text": "mean_time"
         }
        }
       }
      }
     },
     "metadata": {},
     "output_type": "display_data"
    }
   ],
   "source": [
    "fig = px.line(search,\n",
    "              x = 'n', \n",
    "              y = 'mean_time',\n",
    "              color = 'column',\n",
    "              facet_col='column',\n",
    "              facet_col_wrap=1,\n",
    "              facet_col_spacing=0.05,\n",
    "              color_discrete_sequence=[\"firebrick\"])\n",
    "\n",
    "fig.update_layout({\n",
    "    'plot_bgcolor': 'rgba(255, 255, 255, 255)',\n",
    "    'paper_bgcolor': 'rgba(255, 255, 255, 255)',\n",
    "    'yaxis':{'visible': True},\n",
    "    #'xaxis':{'type':'category'}\n",
    "    })\n",
    "\n",
    "# for_each annotation\n",
    "for anno in fig.layout.annotations:\n",
    "    anno.text = anno.text.split(\"=\")[-1]\n",
    "\n",
    "# do not match scales\n",
    "fig.update_yaxes(matches=None)\n",
    "\n",
    "fig.update_layout(\n",
    "    title_text=\"Search (free scale): Mean time vs. n\",\n",
    "    title_x=0.5,\n",
    "    title_font_size=15,\n",
    "    title_font_color='black'\n",
    ")\n",
    "\n",
    "# increase vertical distance between facets\n",
    "fig.update_layout(margin=dict(l=20, r=20, t=50, b=20), height=600)\n",
    "\n",
    "fig.update_yaxes(ticksuffix = \" \",  linecolor = 'black', gridcolor = 'white', mirror = True, color = 'black')\n",
    "fig.update_xaxes(ticksuffix = \" \",  linecolor = 'black', gridcolor = 'white', mirror = True, color = 'black')\n",
    "fig.update_layout(width=300, height=800, showlegend=False)\n",
    "fig.show()\n",
    "\n",
    "fig.write_image(\"../images/search_scale-free.png\", scale=1)"
   ]
  },
  {
   "cell_type": "code",
   "execution_count": 7,
   "metadata": {},
   "outputs": [
    {
     "data": {
      "application/vnd.plotly.v1+json": {
       "config": {
        "plotlyServerURL": "https://plot.ly"
       },
       "data": [
        {
         "hovertemplate": "column=id<br>n=%{x}<br>mean_time=%{y}<extra></extra>",
         "legendgroup": "id",
         "line": {
          "color": "firebrick",
          "dash": "solid"
         },
         "marker": {
          "symbol": "circle"
         },
         "mode": "lines",
         "name": "id",
         "orientation": "v",
         "showlegend": true,
         "type": "scatter",
         "x": [
          10,
          100,
          1000,
          10000,
          100000,
          300000,
          500000
         ],
         "xaxis": "x5",
         "y": [
          0.00000602858407156808,
          0.000004325594220842634,
          0.000023807798113141745,
          0.0004154614039829,
          0.0066805226462227,
          0.000004223414829799107,
          0.000004223414829799107
         ],
         "yaxis": "y5"
        },
        {
         "hovertemplate": "column=owner_id<br>n=%{x}<br>mean_time=%{y}<extra></extra>",
         "legendgroup": "owner_id",
         "line": {
          "color": "firebrick",
          "dash": "solid"
         },
         "marker": {
          "symbol": "circle"
         },
         "mode": "lines",
         "name": "owner_id",
         "orientation": "v",
         "showlegend": true,
         "type": "scatter",
         "x": [
          10,
          100,
          1000,
          10000,
          100000,
          300000,
          500000
         ],
         "xaxis": "x6",
         "y": [
          0.000004816055297851562,
          0.000023651123046875,
          0.0002767086029052,
          0.0043778419494628,
          0.0529438495635986,
          0.1552986621856689,
          0.2706242561340332
         ],
         "yaxis": "y6"
        },
        {
         "hovertemplate": "column=creation_date<br>n=%{x}<br>mean_time=%{y}<extra></extra>",
         "legendgroup": "creation_date",
         "line": {
          "color": "firebrick",
          "dash": "solid"
         },
         "marker": {
          "symbol": "circle"
         },
         "mode": "lines",
         "name": "creation_date",
         "orientation": "v",
         "showlegend": true,
         "type": "scatter",
         "x": [
          10,
          100,
          1000,
          10000,
          100000,
          300000,
          500000
         ],
         "xaxis": "x3",
         "y": [
          0.000010204315185546874,
          0.00008072853088378907,
          0.0010653972625732,
          0.0109740734100341,
          0.133056116104126,
          0.3241703987121582,
          0.5490180969238281
         ],
         "yaxis": "y3"
        },
        {
         "hovertemplate": "column=count<br>n=%{x}<br>mean_time=%{y}<extra></extra>",
         "legendgroup": "count",
         "line": {
          "color": "firebrick",
          "dash": "solid"
         },
         "marker": {
          "symbol": "circle"
         },
         "mode": "lines",
         "name": "count",
         "orientation": "v",
         "showlegend": true,
         "type": "scatter",
         "x": [
          10,
          100,
          1000,
          10000,
          100000,
          300000,
          500000
         ],
         "xaxis": "x4",
         "y": [
          0.00000438690185546875,
          0.00002412796020507813,
          0.0002752304077148,
          0.0042923927307128,
          0.0497276306152343,
          0.1427431106567382,
          0.2462093830108642
         ],
         "yaxis": "y4"
        },
        {
         "hovertemplate": "column=name<br>n=%{x}<br>mean_time=%{y}<extra></extra>",
         "legendgroup": "name",
         "line": {
          "color": "firebrick",
          "dash": "solid"
         },
         "marker": {
          "symbol": "circle"
         },
         "mode": "lines",
         "name": "name",
         "orientation": "v",
         "showlegend": true,
         "type": "scatter",
         "x": [
          10,
          100,
          1000,
          10000,
          100000,
          300000,
          500000
         ],
         "xaxis": "x",
         "y": [
          0.000009107589721679688,
          0.00008382797241210938,
          0.0012889385223388,
          0.0109603404998779,
          0.114836311340332,
          0.3182705879211426,
          0.5337858676910401
         ],
         "yaxis": "y"
        },
        {
         "hovertemplate": "column=content<br>n=%{x}<br>mean_time=%{y}<extra></extra>",
         "legendgroup": "content",
         "line": {
          "color": "firebrick",
          "dash": "solid"
         },
         "marker": {
          "symbol": "circle"
         },
         "mode": "lines",
         "name": "content",
         "orientation": "v",
         "showlegend": true,
         "type": "scatter",
         "x": [
          10,
          100,
          1000,
          10000,
          100000,
          300000,
          500000
         ],
         "xaxis": "x2",
         "y": [
          0.00006756782531738281,
          0.000740623474121,
          0.0075635910034179,
          0.0755313396453857,
          0.6650221824645997,
          1.9750635623931885,
          3.2897286415100098
         ],
         "yaxis": "y2"
        }
       ],
       "layout": {
        "annotations": [
         {
          "font": {},
          "showarrow": false,
          "text": "name",
          "x": 0.2375,
          "xanchor": "center",
          "xref": "paper",
          "y": 0.2866666666666666,
          "yanchor": "bottom",
          "yref": "paper"
         },
         {
          "font": {},
          "showarrow": false,
          "text": "content",
          "x": 0.7625,
          "xanchor": "center",
          "xref": "paper",
          "y": 0.2866666666666666,
          "yanchor": "bottom",
          "yref": "paper"
         },
         {
          "font": {},
          "showarrow": false,
          "text": "creation_date",
          "x": 0.2375,
          "xanchor": "center",
          "xref": "paper",
          "y": 0.6433333333333333,
          "yanchor": "bottom",
          "yref": "paper"
         },
         {
          "font": {},
          "showarrow": false,
          "text": "count",
          "x": 0.7625,
          "xanchor": "center",
          "xref": "paper",
          "y": 0.6433333333333333,
          "yanchor": "bottom",
          "yref": "paper"
         },
         {
          "font": {},
          "showarrow": false,
          "text": "id",
          "x": 0.2375,
          "xanchor": "center",
          "xref": "paper",
          "y": 0.9999999999999999,
          "yanchor": "bottom",
          "yref": "paper"
         },
         {
          "font": {},
          "showarrow": false,
          "text": "owner_id",
          "x": 0.7625,
          "xanchor": "center",
          "xref": "paper",
          "y": 0.9999999999999999,
          "yanchor": "bottom",
          "yref": "paper"
         }
        ],
        "height": 500,
        "legend": {
         "title": {
          "text": "column"
         },
         "tracegroupgap": 0
        },
        "margin": {
         "b": 20,
         "l": 20,
         "r": 20,
         "t": 50
        },
        "paper_bgcolor": "rgba(255, 255, 255, 255)",
        "plot_bgcolor": "rgba(255, 255, 255, 255)",
        "showlegend": false,
        "template": {
         "data": {
          "bar": [
           {
            "error_x": {
             "color": "#2a3f5f"
            },
            "error_y": {
             "color": "#2a3f5f"
            },
            "marker": {
             "line": {
              "color": "#E5ECF6",
              "width": 0.5
             },
             "pattern": {
              "fillmode": "overlay",
              "size": 10,
              "solidity": 0.2
             }
            },
            "type": "bar"
           }
          ],
          "barpolar": [
           {
            "marker": {
             "line": {
              "color": "#E5ECF6",
              "width": 0.5
             },
             "pattern": {
              "fillmode": "overlay",
              "size": 10,
              "solidity": 0.2
             }
            },
            "type": "barpolar"
           }
          ],
          "carpet": [
           {
            "aaxis": {
             "endlinecolor": "#2a3f5f",
             "gridcolor": "white",
             "linecolor": "white",
             "minorgridcolor": "white",
             "startlinecolor": "#2a3f5f"
            },
            "baxis": {
             "endlinecolor": "#2a3f5f",
             "gridcolor": "white",
             "linecolor": "white",
             "minorgridcolor": "white",
             "startlinecolor": "#2a3f5f"
            },
            "type": "carpet"
           }
          ],
          "choropleth": [
           {
            "colorbar": {
             "outlinewidth": 0,
             "ticks": ""
            },
            "type": "choropleth"
           }
          ],
          "contour": [
           {
            "colorbar": {
             "outlinewidth": 0,
             "ticks": ""
            },
            "colorscale": [
             [
              0,
              "#0d0887"
             ],
             [
              0.1111111111111111,
              "#46039f"
             ],
             [
              0.2222222222222222,
              "#7201a8"
             ],
             [
              0.3333333333333333,
              "#9c179e"
             ],
             [
              0.4444444444444444,
              "#bd3786"
             ],
             [
              0.5555555555555556,
              "#d8576b"
             ],
             [
              0.6666666666666666,
              "#ed7953"
             ],
             [
              0.7777777777777778,
              "#fb9f3a"
             ],
             [
              0.8888888888888888,
              "#fdca26"
             ],
             [
              1,
              "#f0f921"
             ]
            ],
            "type": "contour"
           }
          ],
          "contourcarpet": [
           {
            "colorbar": {
             "outlinewidth": 0,
             "ticks": ""
            },
            "type": "contourcarpet"
           }
          ],
          "heatmap": [
           {
            "colorbar": {
             "outlinewidth": 0,
             "ticks": ""
            },
            "colorscale": [
             [
              0,
              "#0d0887"
             ],
             [
              0.1111111111111111,
              "#46039f"
             ],
             [
              0.2222222222222222,
              "#7201a8"
             ],
             [
              0.3333333333333333,
              "#9c179e"
             ],
             [
              0.4444444444444444,
              "#bd3786"
             ],
             [
              0.5555555555555556,
              "#d8576b"
             ],
             [
              0.6666666666666666,
              "#ed7953"
             ],
             [
              0.7777777777777778,
              "#fb9f3a"
             ],
             [
              0.8888888888888888,
              "#fdca26"
             ],
             [
              1,
              "#f0f921"
             ]
            ],
            "type": "heatmap"
           }
          ],
          "heatmapgl": [
           {
            "colorbar": {
             "outlinewidth": 0,
             "ticks": ""
            },
            "colorscale": [
             [
              0,
              "#0d0887"
             ],
             [
              0.1111111111111111,
              "#46039f"
             ],
             [
              0.2222222222222222,
              "#7201a8"
             ],
             [
              0.3333333333333333,
              "#9c179e"
             ],
             [
              0.4444444444444444,
              "#bd3786"
             ],
             [
              0.5555555555555556,
              "#d8576b"
             ],
             [
              0.6666666666666666,
              "#ed7953"
             ],
             [
              0.7777777777777778,
              "#fb9f3a"
             ],
             [
              0.8888888888888888,
              "#fdca26"
             ],
             [
              1,
              "#f0f921"
             ]
            ],
            "type": "heatmapgl"
           }
          ],
          "histogram": [
           {
            "marker": {
             "pattern": {
              "fillmode": "overlay",
              "size": 10,
              "solidity": 0.2
             }
            },
            "type": "histogram"
           }
          ],
          "histogram2d": [
           {
            "colorbar": {
             "outlinewidth": 0,
             "ticks": ""
            },
            "colorscale": [
             [
              0,
              "#0d0887"
             ],
             [
              0.1111111111111111,
              "#46039f"
             ],
             [
              0.2222222222222222,
              "#7201a8"
             ],
             [
              0.3333333333333333,
              "#9c179e"
             ],
             [
              0.4444444444444444,
              "#bd3786"
             ],
             [
              0.5555555555555556,
              "#d8576b"
             ],
             [
              0.6666666666666666,
              "#ed7953"
             ],
             [
              0.7777777777777778,
              "#fb9f3a"
             ],
             [
              0.8888888888888888,
              "#fdca26"
             ],
             [
              1,
              "#f0f921"
             ]
            ],
            "type": "histogram2d"
           }
          ],
          "histogram2dcontour": [
           {
            "colorbar": {
             "outlinewidth": 0,
             "ticks": ""
            },
            "colorscale": [
             [
              0,
              "#0d0887"
             ],
             [
              0.1111111111111111,
              "#46039f"
             ],
             [
              0.2222222222222222,
              "#7201a8"
             ],
             [
              0.3333333333333333,
              "#9c179e"
             ],
             [
              0.4444444444444444,
              "#bd3786"
             ],
             [
              0.5555555555555556,
              "#d8576b"
             ],
             [
              0.6666666666666666,
              "#ed7953"
             ],
             [
              0.7777777777777778,
              "#fb9f3a"
             ],
             [
              0.8888888888888888,
              "#fdca26"
             ],
             [
              1,
              "#f0f921"
             ]
            ],
            "type": "histogram2dcontour"
           }
          ],
          "mesh3d": [
           {
            "colorbar": {
             "outlinewidth": 0,
             "ticks": ""
            },
            "type": "mesh3d"
           }
          ],
          "parcoords": [
           {
            "line": {
             "colorbar": {
              "outlinewidth": 0,
              "ticks": ""
             }
            },
            "type": "parcoords"
           }
          ],
          "pie": [
           {
            "automargin": true,
            "type": "pie"
           }
          ],
          "scatter": [
           {
            "fillpattern": {
             "fillmode": "overlay",
             "size": 10,
             "solidity": 0.2
            },
            "type": "scatter"
           }
          ],
          "scatter3d": [
           {
            "line": {
             "colorbar": {
              "outlinewidth": 0,
              "ticks": ""
             }
            },
            "marker": {
             "colorbar": {
              "outlinewidth": 0,
              "ticks": ""
             }
            },
            "type": "scatter3d"
           }
          ],
          "scattercarpet": [
           {
            "marker": {
             "colorbar": {
              "outlinewidth": 0,
              "ticks": ""
             }
            },
            "type": "scattercarpet"
           }
          ],
          "scattergeo": [
           {
            "marker": {
             "colorbar": {
              "outlinewidth": 0,
              "ticks": ""
             }
            },
            "type": "scattergeo"
           }
          ],
          "scattergl": [
           {
            "marker": {
             "colorbar": {
              "outlinewidth": 0,
              "ticks": ""
             }
            },
            "type": "scattergl"
           }
          ],
          "scattermapbox": [
           {
            "marker": {
             "colorbar": {
              "outlinewidth": 0,
              "ticks": ""
             }
            },
            "type": "scattermapbox"
           }
          ],
          "scatterpolar": [
           {
            "marker": {
             "colorbar": {
              "outlinewidth": 0,
              "ticks": ""
             }
            },
            "type": "scatterpolar"
           }
          ],
          "scatterpolargl": [
           {
            "marker": {
             "colorbar": {
              "outlinewidth": 0,
              "ticks": ""
             }
            },
            "type": "scatterpolargl"
           }
          ],
          "scatterternary": [
           {
            "marker": {
             "colorbar": {
              "outlinewidth": 0,
              "ticks": ""
             }
            },
            "type": "scatterternary"
           }
          ],
          "surface": [
           {
            "colorbar": {
             "outlinewidth": 0,
             "ticks": ""
            },
            "colorscale": [
             [
              0,
              "#0d0887"
             ],
             [
              0.1111111111111111,
              "#46039f"
             ],
             [
              0.2222222222222222,
              "#7201a8"
             ],
             [
              0.3333333333333333,
              "#9c179e"
             ],
             [
              0.4444444444444444,
              "#bd3786"
             ],
             [
              0.5555555555555556,
              "#d8576b"
             ],
             [
              0.6666666666666666,
              "#ed7953"
             ],
             [
              0.7777777777777778,
              "#fb9f3a"
             ],
             [
              0.8888888888888888,
              "#fdca26"
             ],
             [
              1,
              "#f0f921"
             ]
            ],
            "type": "surface"
           }
          ],
          "table": [
           {
            "cells": {
             "fill": {
              "color": "#EBF0F8"
             },
             "line": {
              "color": "white"
             }
            },
            "header": {
             "fill": {
              "color": "#C8D4E3"
             },
             "line": {
              "color": "white"
             }
            },
            "type": "table"
           }
          ]
         },
         "layout": {
          "annotationdefaults": {
           "arrowcolor": "#2a3f5f",
           "arrowhead": 0,
           "arrowwidth": 1
          },
          "autotypenumbers": "strict",
          "coloraxis": {
           "colorbar": {
            "outlinewidth": 0,
            "ticks": ""
           }
          },
          "colorscale": {
           "diverging": [
            [
             0,
             "#8e0152"
            ],
            [
             0.1,
             "#c51b7d"
            ],
            [
             0.2,
             "#de77ae"
            ],
            [
             0.3,
             "#f1b6da"
            ],
            [
             0.4,
             "#fde0ef"
            ],
            [
             0.5,
             "#f7f7f7"
            ],
            [
             0.6,
             "#e6f5d0"
            ],
            [
             0.7,
             "#b8e186"
            ],
            [
             0.8,
             "#7fbc41"
            ],
            [
             0.9,
             "#4d9221"
            ],
            [
             1,
             "#276419"
            ]
           ],
           "sequential": [
            [
             0,
             "#0d0887"
            ],
            [
             0.1111111111111111,
             "#46039f"
            ],
            [
             0.2222222222222222,
             "#7201a8"
            ],
            [
             0.3333333333333333,
             "#9c179e"
            ],
            [
             0.4444444444444444,
             "#bd3786"
            ],
            [
             0.5555555555555556,
             "#d8576b"
            ],
            [
             0.6666666666666666,
             "#ed7953"
            ],
            [
             0.7777777777777778,
             "#fb9f3a"
            ],
            [
             0.8888888888888888,
             "#fdca26"
            ],
            [
             1,
             "#f0f921"
            ]
           ],
           "sequentialminus": [
            [
             0,
             "#0d0887"
            ],
            [
             0.1111111111111111,
             "#46039f"
            ],
            [
             0.2222222222222222,
             "#7201a8"
            ],
            [
             0.3333333333333333,
             "#9c179e"
            ],
            [
             0.4444444444444444,
             "#bd3786"
            ],
            [
             0.5555555555555556,
             "#d8576b"
            ],
            [
             0.6666666666666666,
             "#ed7953"
            ],
            [
             0.7777777777777778,
             "#fb9f3a"
            ],
            [
             0.8888888888888888,
             "#fdca26"
            ],
            [
             1,
             "#f0f921"
            ]
           ]
          },
          "colorway": [
           "#636efa",
           "#EF553B",
           "#00cc96",
           "#ab63fa",
           "#FFA15A",
           "#19d3f3",
           "#FF6692",
           "#B6E880",
           "#FF97FF",
           "#FECB52"
          ],
          "font": {
           "color": "#2a3f5f"
          },
          "geo": {
           "bgcolor": "white",
           "lakecolor": "white",
           "landcolor": "#E5ECF6",
           "showlakes": true,
           "showland": true,
           "subunitcolor": "white"
          },
          "hoverlabel": {
           "align": "left"
          },
          "hovermode": "closest",
          "mapbox": {
           "style": "light"
          },
          "paper_bgcolor": "white",
          "plot_bgcolor": "#E5ECF6",
          "polar": {
           "angularaxis": {
            "gridcolor": "white",
            "linecolor": "white",
            "ticks": ""
           },
           "bgcolor": "#E5ECF6",
           "radialaxis": {
            "gridcolor": "white",
            "linecolor": "white",
            "ticks": ""
           }
          },
          "scene": {
           "xaxis": {
            "backgroundcolor": "#E5ECF6",
            "gridcolor": "white",
            "gridwidth": 2,
            "linecolor": "white",
            "showbackground": true,
            "ticks": "",
            "zerolinecolor": "white"
           },
           "yaxis": {
            "backgroundcolor": "#E5ECF6",
            "gridcolor": "white",
            "gridwidth": 2,
            "linecolor": "white",
            "showbackground": true,
            "ticks": "",
            "zerolinecolor": "white"
           },
           "zaxis": {
            "backgroundcolor": "#E5ECF6",
            "gridcolor": "white",
            "gridwidth": 2,
            "linecolor": "white",
            "showbackground": true,
            "ticks": "",
            "zerolinecolor": "white"
           }
          },
          "shapedefaults": {
           "line": {
            "color": "#2a3f5f"
           }
          },
          "ternary": {
           "aaxis": {
            "gridcolor": "white",
            "linecolor": "white",
            "ticks": ""
           },
           "baxis": {
            "gridcolor": "white",
            "linecolor": "white",
            "ticks": ""
           },
           "bgcolor": "#E5ECF6",
           "caxis": {
            "gridcolor": "white",
            "linecolor": "white",
            "ticks": ""
           }
          },
          "title": {
           "x": 0.05
          },
          "xaxis": {
           "automargin": true,
           "gridcolor": "white",
           "linecolor": "white",
           "ticks": "",
           "title": {
            "standoff": 15
           },
           "zerolinecolor": "white",
           "zerolinewidth": 2
          },
          "yaxis": {
           "automargin": true,
           "gridcolor": "white",
           "linecolor": "white",
           "ticks": "",
           "title": {
            "standoff": 15
           },
           "zerolinecolor": "white",
           "zerolinewidth": 2
          }
         }
        },
        "title": {
         "font": {
          "color": "black",
          "size": 20
         },
         "text": "Delete: Mean time vs. n",
         "x": 0.5
        },
        "width": 500,
        "xaxis": {
         "anchor": "y",
         "color": "black",
         "domain": [
          0,
          0.475
         ],
         "gridcolor": "white",
         "linecolor": "black",
         "mirror": true,
         "ticksuffix": " ",
         "title": {
          "text": "n"
         }
        },
        "xaxis2": {
         "anchor": "y2",
         "color": "black",
         "domain": [
          0.525,
          1
         ],
         "gridcolor": "white",
         "linecolor": "black",
         "matches": "x",
         "mirror": true,
         "ticksuffix": " ",
         "title": {
          "text": "n"
         }
        },
        "xaxis3": {
         "anchor": "y3",
         "color": "black",
         "domain": [
          0,
          0.475
         ],
         "gridcolor": "white",
         "linecolor": "black",
         "matches": "x",
         "mirror": true,
         "showticklabels": false,
         "ticksuffix": " "
        },
        "xaxis4": {
         "anchor": "y4",
         "color": "black",
         "domain": [
          0.525,
          1
         ],
         "gridcolor": "white",
         "linecolor": "black",
         "matches": "x",
         "mirror": true,
         "showticklabels": false,
         "ticksuffix": " "
        },
        "xaxis5": {
         "anchor": "y5",
         "color": "black",
         "domain": [
          0,
          0.475
         ],
         "gridcolor": "white",
         "linecolor": "black",
         "matches": "x",
         "mirror": true,
         "showticklabels": false,
         "ticksuffix": " "
        },
        "xaxis6": {
         "anchor": "y6",
         "color": "black",
         "domain": [
          0.525,
          1
         ],
         "gridcolor": "white",
         "linecolor": "black",
         "matches": "x",
         "mirror": true,
         "showticklabels": false,
         "ticksuffix": " "
        },
        "yaxis": {
         "anchor": "x",
         "color": "black",
         "domain": [
          0,
          0.2866666666666666
         ],
         "gridcolor": "white",
         "linecolor": "black",
         "mirror": true,
         "ticksuffix": " ",
         "title": {
          "text": "mean_time"
         },
         "visible": true
        },
        "yaxis2": {
         "anchor": "x2",
         "color": "black",
         "domain": [
          0,
          0.2866666666666666
         ],
         "gridcolor": "white",
         "linecolor": "black",
         "matches": "y",
         "mirror": true,
         "showticklabels": false,
         "ticksuffix": " "
        },
        "yaxis3": {
         "anchor": "x3",
         "color": "black",
         "domain": [
          0.35666666666666663,
          0.6433333333333333
         ],
         "gridcolor": "white",
         "linecolor": "black",
         "matches": "y",
         "mirror": true,
         "ticksuffix": " ",
         "title": {
          "text": "mean_time"
         }
        },
        "yaxis4": {
         "anchor": "x4",
         "color": "black",
         "domain": [
          0.35666666666666663,
          0.6433333333333333
         ],
         "gridcolor": "white",
         "linecolor": "black",
         "matches": "y",
         "mirror": true,
         "showticklabels": false,
         "ticksuffix": " "
        },
        "yaxis5": {
         "anchor": "x5",
         "color": "black",
         "domain": [
          0.7133333333333333,
          0.9999999999999999
         ],
         "gridcolor": "white",
         "linecolor": "black",
         "matches": "y",
         "mirror": true,
         "ticksuffix": " ",
         "title": {
          "text": "mean_time"
         }
        },
        "yaxis6": {
         "anchor": "x6",
         "color": "black",
         "domain": [
          0.7133333333333333,
          0.9999999999999999
         ],
         "gridcolor": "white",
         "linecolor": "black",
         "matches": "y",
         "mirror": true,
         "showticklabels": false,
         "ticksuffix": " "
        }
       }
      }
     },
     "metadata": {},
     "output_type": "display_data"
    }
   ],
   "source": [
    "fig = px.line(delete,\n",
    "              x = 'n', \n",
    "              y = 'mean_time',\n",
    "              color = 'column',\n",
    "              facet_col='column',\n",
    "              facet_col_wrap=2,\n",
    "              facet_col_spacing=0.05,\n",
    "              color_discrete_sequence=[\"firebrick\"])\n",
    "\n",
    "fig.update_layout({\n",
    "    'plot_bgcolor': 'rgba(255, 255, 255, 255)',\n",
    "    'paper_bgcolor': 'rgba(255, 255, 255, 255)',\n",
    "    'yaxis':{'visible': True}\n",
    "    #'xaxis':{'type':'category'}\n",
    "    })\n",
    "\n",
    "fig.update_layout(\n",
    "    title_text=\"Delete: Mean time vs. n\",\n",
    "    title_x=0.5,\n",
    "    title_font_size=20,\n",
    "    title_font_color='black'\n",
    ")\n",
    "\n",
    "# for_each annotation\n",
    "for anno in fig.layout.annotations:\n",
    "    anno.text = anno.text.split(\"=\")[-1]\n",
    "\n",
    "# increase vertical distance between facets\n",
    "fig.update_layout(margin=dict(l=20, r=20, t=50, b=20), height=600)\n",
    "\n",
    "fig.update_yaxes(ticksuffix = \" \",  linecolor = 'black', gridcolor = 'white', mirror = True, color = 'black')\n",
    "fig.update_xaxes(ticksuffix = \" \",  linecolor = 'black', gridcolor = 'white', mirror = True, color = 'black')\n",
    "fig.update_layout(width=500, height=500, showlegend=False)\n",
    "fig.show()\n",
    "\n",
    "fig.write_image(\"../images/delete_fix-scale.png\", scale=1)"
   ]
  },
  {
   "cell_type": "code",
   "execution_count": 8,
   "metadata": {},
   "outputs": [
    {
     "data": {
      "application/vnd.plotly.v1+json": {
       "config": {
        "plotlyServerURL": "https://plot.ly"
       },
       "data": [
        {
         "hovertemplate": "column=id<br>n=%{x}<br>mean_time=%{y}<extra></extra>",
         "legendgroup": "id",
         "line": {
          "color": "firebrick",
          "dash": "solid"
         },
         "marker": {
          "symbol": "circle"
         },
         "mode": "lines",
         "name": "id",
         "orientation": "v",
         "showlegend": true,
         "type": "scatter",
         "x": [
          10,
          100,
          1000,
          10000,
          100000,
          300000,
          500000
         ],
         "xaxis": "x6",
         "y": [
          0.00000602858407156808,
          0.000004325594220842634,
          0.000023807798113141745,
          0.0004154614039829,
          0.0066805226462227,
          0.000004223414829799107,
          0.000004223414829799107
         ],
         "yaxis": "y6"
        },
        {
         "hovertemplate": "column=owner_id<br>n=%{x}<br>mean_time=%{y}<extra></extra>",
         "legendgroup": "owner_id",
         "line": {
          "color": "firebrick",
          "dash": "solid"
         },
         "marker": {
          "symbol": "circle"
         },
         "mode": "lines",
         "name": "owner_id",
         "orientation": "v",
         "showlegend": true,
         "type": "scatter",
         "x": [
          10,
          100,
          1000,
          10000,
          100000,
          300000,
          500000
         ],
         "xaxis": "x5",
         "y": [
          0.000004816055297851562,
          0.000023651123046875,
          0.0002767086029052,
          0.0043778419494628,
          0.0529438495635986,
          0.1552986621856689,
          0.2706242561340332
         ],
         "yaxis": "y5"
        },
        {
         "hovertemplate": "column=creation_date<br>n=%{x}<br>mean_time=%{y}<extra></extra>",
         "legendgroup": "creation_date",
         "line": {
          "color": "firebrick",
          "dash": "solid"
         },
         "marker": {
          "symbol": "circle"
         },
         "mode": "lines",
         "name": "creation_date",
         "orientation": "v",
         "showlegend": true,
         "type": "scatter",
         "x": [
          10,
          100,
          1000,
          10000,
          100000,
          300000,
          500000
         ],
         "xaxis": "x4",
         "y": [
          0.000010204315185546874,
          0.00008072853088378907,
          0.0010653972625732,
          0.0109740734100341,
          0.133056116104126,
          0.3241703987121582,
          0.5490180969238281
         ],
         "yaxis": "y4"
        },
        {
         "hovertemplate": "column=count<br>n=%{x}<br>mean_time=%{y}<extra></extra>",
         "legendgroup": "count",
         "line": {
          "color": "firebrick",
          "dash": "solid"
         },
         "marker": {
          "symbol": "circle"
         },
         "mode": "lines",
         "name": "count",
         "orientation": "v",
         "showlegend": true,
         "type": "scatter",
         "x": [
          10,
          100,
          1000,
          10000,
          100000,
          300000,
          500000
         ],
         "xaxis": "x3",
         "y": [
          0.00000438690185546875,
          0.00002412796020507813,
          0.0002752304077148,
          0.0042923927307128,
          0.0497276306152343,
          0.1427431106567382,
          0.2462093830108642
         ],
         "yaxis": "y3"
        },
        {
         "hovertemplate": "column=name<br>n=%{x}<br>mean_time=%{y}<extra></extra>",
         "legendgroup": "name",
         "line": {
          "color": "firebrick",
          "dash": "solid"
         },
         "marker": {
          "symbol": "circle"
         },
         "mode": "lines",
         "name": "name",
         "orientation": "v",
         "showlegend": true,
         "type": "scatter",
         "x": [
          10,
          100,
          1000,
          10000,
          100000,
          300000,
          500000
         ],
         "xaxis": "x2",
         "y": [
          0.000009107589721679688,
          0.00008382797241210938,
          0.0012889385223388,
          0.0109603404998779,
          0.114836311340332,
          0.3182705879211426,
          0.5337858676910401
         ],
         "yaxis": "y2"
        },
        {
         "hovertemplate": "column=content<br>n=%{x}<br>mean_time=%{y}<extra></extra>",
         "legendgroup": "content",
         "line": {
          "color": "firebrick",
          "dash": "solid"
         },
         "marker": {
          "symbol": "circle"
         },
         "mode": "lines",
         "name": "content",
         "orientation": "v",
         "showlegend": true,
         "type": "scatter",
         "x": [
          10,
          100,
          1000,
          10000,
          100000,
          300000,
          500000
         ],
         "xaxis": "x",
         "y": [
          0.00006756782531738281,
          0.000740623474121,
          0.0075635910034179,
          0.0755313396453857,
          0.6650221824645997,
          1.9750635623931885,
          3.2897286415100098
         ],
         "yaxis": "y"
        }
       ],
       "layout": {
        "annotations": [
         {
          "font": {},
          "showarrow": false,
          "text": "content",
          "x": 0.5,
          "xanchor": "center",
          "xref": "paper",
          "y": 0.10833333333333331,
          "yanchor": "bottom",
          "yref": "paper"
         },
         {
          "font": {},
          "showarrow": false,
          "text": "name",
          "x": 0.5,
          "xanchor": "center",
          "xref": "paper",
          "y": 0.2866666666666666,
          "yanchor": "bottom",
          "yref": "paper"
         },
         {
          "font": {},
          "showarrow": false,
          "text": "count",
          "x": 0.5,
          "xanchor": "center",
          "xref": "paper",
          "y": 0.46499999999999997,
          "yanchor": "bottom",
          "yref": "paper"
         },
         {
          "font": {},
          "showarrow": false,
          "text": "creation_date",
          "x": 0.5,
          "xanchor": "center",
          "xref": "paper",
          "y": 0.6433333333333332,
          "yanchor": "bottom",
          "yref": "paper"
         },
         {
          "font": {},
          "showarrow": false,
          "text": "owner_id",
          "x": 0.5,
          "xanchor": "center",
          "xref": "paper",
          "y": 0.8216666666666665,
          "yanchor": "bottom",
          "yref": "paper"
         },
         {
          "font": {},
          "showarrow": false,
          "text": "id",
          "x": 0.5,
          "xanchor": "center",
          "xref": "paper",
          "y": 0.9999999999999999,
          "yanchor": "bottom",
          "yref": "paper"
         }
        ],
        "height": 800,
        "legend": {
         "title": {
          "text": "column"
         },
         "tracegroupgap": 0
        },
        "margin": {
         "b": 20,
         "l": 20,
         "r": 20,
         "t": 50
        },
        "paper_bgcolor": "rgba(255, 255, 255, 255)",
        "plot_bgcolor": "rgba(255, 255, 255, 255)",
        "showlegend": false,
        "template": {
         "data": {
          "bar": [
           {
            "error_x": {
             "color": "#2a3f5f"
            },
            "error_y": {
             "color": "#2a3f5f"
            },
            "marker": {
             "line": {
              "color": "#E5ECF6",
              "width": 0.5
             },
             "pattern": {
              "fillmode": "overlay",
              "size": 10,
              "solidity": 0.2
             }
            },
            "type": "bar"
           }
          ],
          "barpolar": [
           {
            "marker": {
             "line": {
              "color": "#E5ECF6",
              "width": 0.5
             },
             "pattern": {
              "fillmode": "overlay",
              "size": 10,
              "solidity": 0.2
             }
            },
            "type": "barpolar"
           }
          ],
          "carpet": [
           {
            "aaxis": {
             "endlinecolor": "#2a3f5f",
             "gridcolor": "white",
             "linecolor": "white",
             "minorgridcolor": "white",
             "startlinecolor": "#2a3f5f"
            },
            "baxis": {
             "endlinecolor": "#2a3f5f",
             "gridcolor": "white",
             "linecolor": "white",
             "minorgridcolor": "white",
             "startlinecolor": "#2a3f5f"
            },
            "type": "carpet"
           }
          ],
          "choropleth": [
           {
            "colorbar": {
             "outlinewidth": 0,
             "ticks": ""
            },
            "type": "choropleth"
           }
          ],
          "contour": [
           {
            "colorbar": {
             "outlinewidth": 0,
             "ticks": ""
            },
            "colorscale": [
             [
              0,
              "#0d0887"
             ],
             [
              0.1111111111111111,
              "#46039f"
             ],
             [
              0.2222222222222222,
              "#7201a8"
             ],
             [
              0.3333333333333333,
              "#9c179e"
             ],
             [
              0.4444444444444444,
              "#bd3786"
             ],
             [
              0.5555555555555556,
              "#d8576b"
             ],
             [
              0.6666666666666666,
              "#ed7953"
             ],
             [
              0.7777777777777778,
              "#fb9f3a"
             ],
             [
              0.8888888888888888,
              "#fdca26"
             ],
             [
              1,
              "#f0f921"
             ]
            ],
            "type": "contour"
           }
          ],
          "contourcarpet": [
           {
            "colorbar": {
             "outlinewidth": 0,
             "ticks": ""
            },
            "type": "contourcarpet"
           }
          ],
          "heatmap": [
           {
            "colorbar": {
             "outlinewidth": 0,
             "ticks": ""
            },
            "colorscale": [
             [
              0,
              "#0d0887"
             ],
             [
              0.1111111111111111,
              "#46039f"
             ],
             [
              0.2222222222222222,
              "#7201a8"
             ],
             [
              0.3333333333333333,
              "#9c179e"
             ],
             [
              0.4444444444444444,
              "#bd3786"
             ],
             [
              0.5555555555555556,
              "#d8576b"
             ],
             [
              0.6666666666666666,
              "#ed7953"
             ],
             [
              0.7777777777777778,
              "#fb9f3a"
             ],
             [
              0.8888888888888888,
              "#fdca26"
             ],
             [
              1,
              "#f0f921"
             ]
            ],
            "type": "heatmap"
           }
          ],
          "heatmapgl": [
           {
            "colorbar": {
             "outlinewidth": 0,
             "ticks": ""
            },
            "colorscale": [
             [
              0,
              "#0d0887"
             ],
             [
              0.1111111111111111,
              "#46039f"
             ],
             [
              0.2222222222222222,
              "#7201a8"
             ],
             [
              0.3333333333333333,
              "#9c179e"
             ],
             [
              0.4444444444444444,
              "#bd3786"
             ],
             [
              0.5555555555555556,
              "#d8576b"
             ],
             [
              0.6666666666666666,
              "#ed7953"
             ],
             [
              0.7777777777777778,
              "#fb9f3a"
             ],
             [
              0.8888888888888888,
              "#fdca26"
             ],
             [
              1,
              "#f0f921"
             ]
            ],
            "type": "heatmapgl"
           }
          ],
          "histogram": [
           {
            "marker": {
             "pattern": {
              "fillmode": "overlay",
              "size": 10,
              "solidity": 0.2
             }
            },
            "type": "histogram"
           }
          ],
          "histogram2d": [
           {
            "colorbar": {
             "outlinewidth": 0,
             "ticks": ""
            },
            "colorscale": [
             [
              0,
              "#0d0887"
             ],
             [
              0.1111111111111111,
              "#46039f"
             ],
             [
              0.2222222222222222,
              "#7201a8"
             ],
             [
              0.3333333333333333,
              "#9c179e"
             ],
             [
              0.4444444444444444,
              "#bd3786"
             ],
             [
              0.5555555555555556,
              "#d8576b"
             ],
             [
              0.6666666666666666,
              "#ed7953"
             ],
             [
              0.7777777777777778,
              "#fb9f3a"
             ],
             [
              0.8888888888888888,
              "#fdca26"
             ],
             [
              1,
              "#f0f921"
             ]
            ],
            "type": "histogram2d"
           }
          ],
          "histogram2dcontour": [
           {
            "colorbar": {
             "outlinewidth": 0,
             "ticks": ""
            },
            "colorscale": [
             [
              0,
              "#0d0887"
             ],
             [
              0.1111111111111111,
              "#46039f"
             ],
             [
              0.2222222222222222,
              "#7201a8"
             ],
             [
              0.3333333333333333,
              "#9c179e"
             ],
             [
              0.4444444444444444,
              "#bd3786"
             ],
             [
              0.5555555555555556,
              "#d8576b"
             ],
             [
              0.6666666666666666,
              "#ed7953"
             ],
             [
              0.7777777777777778,
              "#fb9f3a"
             ],
             [
              0.8888888888888888,
              "#fdca26"
             ],
             [
              1,
              "#f0f921"
             ]
            ],
            "type": "histogram2dcontour"
           }
          ],
          "mesh3d": [
           {
            "colorbar": {
             "outlinewidth": 0,
             "ticks": ""
            },
            "type": "mesh3d"
           }
          ],
          "parcoords": [
           {
            "line": {
             "colorbar": {
              "outlinewidth": 0,
              "ticks": ""
             }
            },
            "type": "parcoords"
           }
          ],
          "pie": [
           {
            "automargin": true,
            "type": "pie"
           }
          ],
          "scatter": [
           {
            "fillpattern": {
             "fillmode": "overlay",
             "size": 10,
             "solidity": 0.2
            },
            "type": "scatter"
           }
          ],
          "scatter3d": [
           {
            "line": {
             "colorbar": {
              "outlinewidth": 0,
              "ticks": ""
             }
            },
            "marker": {
             "colorbar": {
              "outlinewidth": 0,
              "ticks": ""
             }
            },
            "type": "scatter3d"
           }
          ],
          "scattercarpet": [
           {
            "marker": {
             "colorbar": {
              "outlinewidth": 0,
              "ticks": ""
             }
            },
            "type": "scattercarpet"
           }
          ],
          "scattergeo": [
           {
            "marker": {
             "colorbar": {
              "outlinewidth": 0,
              "ticks": ""
             }
            },
            "type": "scattergeo"
           }
          ],
          "scattergl": [
           {
            "marker": {
             "colorbar": {
              "outlinewidth": 0,
              "ticks": ""
             }
            },
            "type": "scattergl"
           }
          ],
          "scattermapbox": [
           {
            "marker": {
             "colorbar": {
              "outlinewidth": 0,
              "ticks": ""
             }
            },
            "type": "scattermapbox"
           }
          ],
          "scatterpolar": [
           {
            "marker": {
             "colorbar": {
              "outlinewidth": 0,
              "ticks": ""
             }
            },
            "type": "scatterpolar"
           }
          ],
          "scatterpolargl": [
           {
            "marker": {
             "colorbar": {
              "outlinewidth": 0,
              "ticks": ""
             }
            },
            "type": "scatterpolargl"
           }
          ],
          "scatterternary": [
           {
            "marker": {
             "colorbar": {
              "outlinewidth": 0,
              "ticks": ""
             }
            },
            "type": "scatterternary"
           }
          ],
          "surface": [
           {
            "colorbar": {
             "outlinewidth": 0,
             "ticks": ""
            },
            "colorscale": [
             [
              0,
              "#0d0887"
             ],
             [
              0.1111111111111111,
              "#46039f"
             ],
             [
              0.2222222222222222,
              "#7201a8"
             ],
             [
              0.3333333333333333,
              "#9c179e"
             ],
             [
              0.4444444444444444,
              "#bd3786"
             ],
             [
              0.5555555555555556,
              "#d8576b"
             ],
             [
              0.6666666666666666,
              "#ed7953"
             ],
             [
              0.7777777777777778,
              "#fb9f3a"
             ],
             [
              0.8888888888888888,
              "#fdca26"
             ],
             [
              1,
              "#f0f921"
             ]
            ],
            "type": "surface"
           }
          ],
          "table": [
           {
            "cells": {
             "fill": {
              "color": "#EBF0F8"
             },
             "line": {
              "color": "white"
             }
            },
            "header": {
             "fill": {
              "color": "#C8D4E3"
             },
             "line": {
              "color": "white"
             }
            },
            "type": "table"
           }
          ]
         },
         "layout": {
          "annotationdefaults": {
           "arrowcolor": "#2a3f5f",
           "arrowhead": 0,
           "arrowwidth": 1
          },
          "autotypenumbers": "strict",
          "coloraxis": {
           "colorbar": {
            "outlinewidth": 0,
            "ticks": ""
           }
          },
          "colorscale": {
           "diverging": [
            [
             0,
             "#8e0152"
            ],
            [
             0.1,
             "#c51b7d"
            ],
            [
             0.2,
             "#de77ae"
            ],
            [
             0.3,
             "#f1b6da"
            ],
            [
             0.4,
             "#fde0ef"
            ],
            [
             0.5,
             "#f7f7f7"
            ],
            [
             0.6,
             "#e6f5d0"
            ],
            [
             0.7,
             "#b8e186"
            ],
            [
             0.8,
             "#7fbc41"
            ],
            [
             0.9,
             "#4d9221"
            ],
            [
             1,
             "#276419"
            ]
           ],
           "sequential": [
            [
             0,
             "#0d0887"
            ],
            [
             0.1111111111111111,
             "#46039f"
            ],
            [
             0.2222222222222222,
             "#7201a8"
            ],
            [
             0.3333333333333333,
             "#9c179e"
            ],
            [
             0.4444444444444444,
             "#bd3786"
            ],
            [
             0.5555555555555556,
             "#d8576b"
            ],
            [
             0.6666666666666666,
             "#ed7953"
            ],
            [
             0.7777777777777778,
             "#fb9f3a"
            ],
            [
             0.8888888888888888,
             "#fdca26"
            ],
            [
             1,
             "#f0f921"
            ]
           ],
           "sequentialminus": [
            [
             0,
             "#0d0887"
            ],
            [
             0.1111111111111111,
             "#46039f"
            ],
            [
             0.2222222222222222,
             "#7201a8"
            ],
            [
             0.3333333333333333,
             "#9c179e"
            ],
            [
             0.4444444444444444,
             "#bd3786"
            ],
            [
             0.5555555555555556,
             "#d8576b"
            ],
            [
             0.6666666666666666,
             "#ed7953"
            ],
            [
             0.7777777777777778,
             "#fb9f3a"
            ],
            [
             0.8888888888888888,
             "#fdca26"
            ],
            [
             1,
             "#f0f921"
            ]
           ]
          },
          "colorway": [
           "#636efa",
           "#EF553B",
           "#00cc96",
           "#ab63fa",
           "#FFA15A",
           "#19d3f3",
           "#FF6692",
           "#B6E880",
           "#FF97FF",
           "#FECB52"
          ],
          "font": {
           "color": "#2a3f5f"
          },
          "geo": {
           "bgcolor": "white",
           "lakecolor": "white",
           "landcolor": "#E5ECF6",
           "showlakes": true,
           "showland": true,
           "subunitcolor": "white"
          },
          "hoverlabel": {
           "align": "left"
          },
          "hovermode": "closest",
          "mapbox": {
           "style": "light"
          },
          "paper_bgcolor": "white",
          "plot_bgcolor": "#E5ECF6",
          "polar": {
           "angularaxis": {
            "gridcolor": "white",
            "linecolor": "white",
            "ticks": ""
           },
           "bgcolor": "#E5ECF6",
           "radialaxis": {
            "gridcolor": "white",
            "linecolor": "white",
            "ticks": ""
           }
          },
          "scene": {
           "xaxis": {
            "backgroundcolor": "#E5ECF6",
            "gridcolor": "white",
            "gridwidth": 2,
            "linecolor": "white",
            "showbackground": true,
            "ticks": "",
            "zerolinecolor": "white"
           },
           "yaxis": {
            "backgroundcolor": "#E5ECF6",
            "gridcolor": "white",
            "gridwidth": 2,
            "linecolor": "white",
            "showbackground": true,
            "ticks": "",
            "zerolinecolor": "white"
           },
           "zaxis": {
            "backgroundcolor": "#E5ECF6",
            "gridcolor": "white",
            "gridwidth": 2,
            "linecolor": "white",
            "showbackground": true,
            "ticks": "",
            "zerolinecolor": "white"
           }
          },
          "shapedefaults": {
           "line": {
            "color": "#2a3f5f"
           }
          },
          "ternary": {
           "aaxis": {
            "gridcolor": "white",
            "linecolor": "white",
            "ticks": ""
           },
           "baxis": {
            "gridcolor": "white",
            "linecolor": "white",
            "ticks": ""
           },
           "bgcolor": "#E5ECF6",
           "caxis": {
            "gridcolor": "white",
            "linecolor": "white",
            "ticks": ""
           }
          },
          "title": {
           "x": 0.05
          },
          "xaxis": {
           "automargin": true,
           "gridcolor": "white",
           "linecolor": "white",
           "ticks": "",
           "title": {
            "standoff": 15
           },
           "zerolinecolor": "white",
           "zerolinewidth": 2
          },
          "yaxis": {
           "automargin": true,
           "gridcolor": "white",
           "linecolor": "white",
           "ticks": "",
           "title": {
            "standoff": 15
           },
           "zerolinecolor": "white",
           "zerolinewidth": 2
          }
         }
        },
        "title": {
         "font": {
          "color": "black",
          "size": 15
         },
         "text": "Delete (free scale): Mean time vs. n",
         "x": 0.5
        },
        "width": 300,
        "xaxis": {
         "anchor": "y",
         "color": "black",
         "domain": [
          0,
          1
         ],
         "gridcolor": "white",
         "linecolor": "black",
         "mirror": true,
         "ticksuffix": " ",
         "title": {
          "text": "n"
         }
        },
        "xaxis2": {
         "anchor": "y2",
         "color": "black",
         "domain": [
          0,
          1
         ],
         "gridcolor": "white",
         "linecolor": "black",
         "matches": "x",
         "mirror": true,
         "showticklabels": false,
         "ticksuffix": " "
        },
        "xaxis3": {
         "anchor": "y3",
         "color": "black",
         "domain": [
          0,
          1
         ],
         "gridcolor": "white",
         "linecolor": "black",
         "matches": "x",
         "mirror": true,
         "showticklabels": false,
         "ticksuffix": " "
        },
        "xaxis4": {
         "anchor": "y4",
         "color": "black",
         "domain": [
          0,
          1
         ],
         "gridcolor": "white",
         "linecolor": "black",
         "matches": "x",
         "mirror": true,
         "showticklabels": false,
         "ticksuffix": " "
        },
        "xaxis5": {
         "anchor": "y5",
         "color": "black",
         "domain": [
          0,
          1
         ],
         "gridcolor": "white",
         "linecolor": "black",
         "matches": "x",
         "mirror": true,
         "showticklabels": false,
         "ticksuffix": " "
        },
        "xaxis6": {
         "anchor": "y6",
         "color": "black",
         "domain": [
          0,
          1
         ],
         "gridcolor": "white",
         "linecolor": "black",
         "matches": "x",
         "mirror": true,
         "showticklabels": false,
         "ticksuffix": " "
        },
        "yaxis": {
         "anchor": "x",
         "color": "black",
         "domain": [
          0,
          0.10833333333333331
         ],
         "gridcolor": "white",
         "linecolor": "black",
         "mirror": true,
         "ticksuffix": " ",
         "title": {
          "text": "mean_time"
         },
         "visible": true
        },
        "yaxis2": {
         "anchor": "x2",
         "color": "black",
         "domain": [
          0.17833333333333332,
          0.2866666666666666
         ],
         "gridcolor": "white",
         "linecolor": "black",
         "mirror": true,
         "ticksuffix": " ",
         "title": {
          "text": "mean_time"
         }
        },
        "yaxis3": {
         "anchor": "x3",
         "color": "black",
         "domain": [
          0.35666666666666663,
          0.46499999999999997
         ],
         "gridcolor": "white",
         "linecolor": "black",
         "mirror": true,
         "ticksuffix": " ",
         "title": {
          "text": "mean_time"
         }
        },
        "yaxis4": {
         "anchor": "x4",
         "color": "black",
         "domain": [
          0.5349999999999999,
          0.6433333333333332
         ],
         "gridcolor": "white",
         "linecolor": "black",
         "mirror": true,
         "ticksuffix": " ",
         "title": {
          "text": "mean_time"
         }
        },
        "yaxis5": {
         "anchor": "x5",
         "color": "black",
         "domain": [
          0.7133333333333333,
          0.8216666666666665
         ],
         "gridcolor": "white",
         "linecolor": "black",
         "mirror": true,
         "ticksuffix": " ",
         "title": {
          "text": "mean_time"
         }
        },
        "yaxis6": {
         "anchor": "x6",
         "color": "black",
         "domain": [
          0.8916666666666666,
          0.9999999999999999
         ],
         "gridcolor": "white",
         "linecolor": "black",
         "mirror": true,
         "ticksuffix": " ",
         "title": {
          "text": "mean_time"
         }
        }
       }
      }
     },
     "metadata": {},
     "output_type": "display_data"
    }
   ],
   "source": [
    "fig = px.line(delete,\n",
    "              x = 'n', \n",
    "              y = 'mean_time',\n",
    "              color = 'column',\n",
    "              facet_col='column',\n",
    "              facet_col_wrap=1,\n",
    "              facet_col_spacing=0.05,\n",
    "              color_discrete_sequence=[\"firebrick\"])\n",
    "\n",
    "fig.update_layout({\n",
    "    'plot_bgcolor': 'rgba(255, 255, 255, 255)',\n",
    "    'paper_bgcolor': 'rgba(255, 255, 255, 255)',\n",
    "    'yaxis':{'visible': True},\n",
    "    #'xaxis':{'type':'category'}\n",
    "    })\n",
    "\n",
    "# for_each annotation\n",
    "for anno in fig.layout.annotations:\n",
    "    anno.text = anno.text.split(\"=\")[-1]\n",
    "\n",
    "# do not match scales\n",
    "fig.update_yaxes(matches=None)\n",
    "\n",
    "fig.update_layout(\n",
    "    title_text=\"Delete (free scale): Mean time vs. n\",\n",
    "    title_x=0.5,\n",
    "    title_font_size=15,\n",
    "    title_font_color='black'\n",
    ")\n",
    "\n",
    "# increase vertical distance between facets\n",
    "fig.update_layout(margin=dict(l=20, r=20, t=50, b=20), height=600)\n",
    "\n",
    "fig.update_yaxes(ticksuffix = \" \",  linecolor = 'black', gridcolor = 'white', mirror = True, color = 'black')\n",
    "fig.update_xaxes(ticksuffix = \" \",  linecolor = 'black', gridcolor = 'white', mirror = True, color = 'black')\n",
    "fig.update_layout(width=300, height=800, showlegend=False)\n",
    "fig.show()\n",
    "\n",
    "fig.write_image(\"../images/delete_scale-free.png\", scale=1)"
   ]
  }
 ],
 "metadata": {
  "kernelspec": {
   "display_name": "Python 3",
   "language": "python",
   "name": "python3"
  },
  "language_info": {
   "codemirror_mode": {
    "name": "ipython",
    "version": 3
   },
   "file_extension": ".py",
   "mimetype": "text/x-python",
   "name": "python",
   "nbconvert_exporter": "python",
   "pygments_lexer": "ipython3",
   "version": "3.10.12"
  }
 },
 "nbformat": 4,
 "nbformat_minor": 2
}
