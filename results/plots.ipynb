{
 "cells": [
  {
   "cell_type": "code",
   "execution_count": 13,
   "metadata": {},
   "outputs": [],
   "source": [
    "import pandas as pd\n",
    "import plotly.express as px"
   ]
  },
  {
   "cell_type": "code",
   "execution_count": 14,
   "metadata": {},
   "outputs": [],
   "source": [
    "insert = pd.read_csv('testInsert.csv')\n",
    "search = pd.read_csv('testSearch.csv')\n",
    "delete = pd.read_csv('testDelete.csv')\n",
    "select_count = pd.read_csv('testSelectCount.csv')"
   ]
  },
  {
   "cell_type": "code",
   "execution_count": 15,
   "metadata": {},
   "outputs": [],
   "source": [
    "insert.sort_values(by=['n'], inplace=True)"
   ]
  },
  {
   "cell_type": "code",
   "execution_count": 16,
   "metadata": {},
   "outputs": [
    {
     "data": {
      "application/vnd.plotly.v1+json": {
       "config": {
        "plotlyServerURL": "https://plot.ly"
       },
       "data": [
        {
         "hovertemplate": "n=%{x}<br>time=%{y}<extra></extra>",
         "legendgroup": "",
         "line": {
          "color": "firebrick",
          "dash": "solid"
         },
         "marker": {
          "symbol": "circle"
         },
         "mode": "lines",
         "name": "",
         "orientation": "v",
         "showlegend": false,
         "type": "scatter",
         "x": [
          10,
          100,
          1000,
          10000,
          20000,
          30000,
          50000,
          70000,
          100000,
          200000,
          300000,
          400000,
          500000
         ],
         "xaxis": "x",
         "y": [
          0.0001089572906494,
          0.0006835460662841,
          0.0045976638793945,
          0.1484272480010986,
          0.0957298278808593,
          1.024238348007202,
          0.2271878719329834,
          3.088632822036743,
          0.5613229274749756,
          3.266401052474976,
          2.300572633743286,
          2.9816670417785645,
          2.589158296585083
         ],
         "yaxis": "y"
        }
       ],
       "layout": {
        "height": 500,
        "legend": {
         "tracegroupgap": 0
        },
        "margin": {
         "t": 60
        },
        "paper_bgcolor": "rgba(255, 255, 255, 255)",
        "plot_bgcolor": "rgba(255, 255, 255, 255)",
        "showlegend": true,
        "template": {
         "data": {
          "bar": [
           {
            "error_x": {
             "color": "#2a3f5f"
            },
            "error_y": {
             "color": "#2a3f5f"
            },
            "marker": {
             "line": {
              "color": "#E5ECF6",
              "width": 0.5
             },
             "pattern": {
              "fillmode": "overlay",
              "size": 10,
              "solidity": 0.2
             }
            },
            "type": "bar"
           }
          ],
          "barpolar": [
           {
            "marker": {
             "line": {
              "color": "#E5ECF6",
              "width": 0.5
             },
             "pattern": {
              "fillmode": "overlay",
              "size": 10,
              "solidity": 0.2
             }
            },
            "type": "barpolar"
           }
          ],
          "carpet": [
           {
            "aaxis": {
             "endlinecolor": "#2a3f5f",
             "gridcolor": "white",
             "linecolor": "white",
             "minorgridcolor": "white",
             "startlinecolor": "#2a3f5f"
            },
            "baxis": {
             "endlinecolor": "#2a3f5f",
             "gridcolor": "white",
             "linecolor": "white",
             "minorgridcolor": "white",
             "startlinecolor": "#2a3f5f"
            },
            "type": "carpet"
           }
          ],
          "choropleth": [
           {
            "colorbar": {
             "outlinewidth": 0,
             "ticks": ""
            },
            "type": "choropleth"
           }
          ],
          "contour": [
           {
            "colorbar": {
             "outlinewidth": 0,
             "ticks": ""
            },
            "colorscale": [
             [
              0,
              "#0d0887"
             ],
             [
              0.1111111111111111,
              "#46039f"
             ],
             [
              0.2222222222222222,
              "#7201a8"
             ],
             [
              0.3333333333333333,
              "#9c179e"
             ],
             [
              0.4444444444444444,
              "#bd3786"
             ],
             [
              0.5555555555555556,
              "#d8576b"
             ],
             [
              0.6666666666666666,
              "#ed7953"
             ],
             [
              0.7777777777777778,
              "#fb9f3a"
             ],
             [
              0.8888888888888888,
              "#fdca26"
             ],
             [
              1,
              "#f0f921"
             ]
            ],
            "type": "contour"
           }
          ],
          "contourcarpet": [
           {
            "colorbar": {
             "outlinewidth": 0,
             "ticks": ""
            },
            "type": "contourcarpet"
           }
          ],
          "heatmap": [
           {
            "colorbar": {
             "outlinewidth": 0,
             "ticks": ""
            },
            "colorscale": [
             [
              0,
              "#0d0887"
             ],
             [
              0.1111111111111111,
              "#46039f"
             ],
             [
              0.2222222222222222,
              "#7201a8"
             ],
             [
              0.3333333333333333,
              "#9c179e"
             ],
             [
              0.4444444444444444,
              "#bd3786"
             ],
             [
              0.5555555555555556,
              "#d8576b"
             ],
             [
              0.6666666666666666,
              "#ed7953"
             ],
             [
              0.7777777777777778,
              "#fb9f3a"
             ],
             [
              0.8888888888888888,
              "#fdca26"
             ],
             [
              1,
              "#f0f921"
             ]
            ],
            "type": "heatmap"
           }
          ],
          "heatmapgl": [
           {
            "colorbar": {
             "outlinewidth": 0,
             "ticks": ""
            },
            "colorscale": [
             [
              0,
              "#0d0887"
             ],
             [
              0.1111111111111111,
              "#46039f"
             ],
             [
              0.2222222222222222,
              "#7201a8"
             ],
             [
              0.3333333333333333,
              "#9c179e"
             ],
             [
              0.4444444444444444,
              "#bd3786"
             ],
             [
              0.5555555555555556,
              "#d8576b"
             ],
             [
              0.6666666666666666,
              "#ed7953"
             ],
             [
              0.7777777777777778,
              "#fb9f3a"
             ],
             [
              0.8888888888888888,
              "#fdca26"
             ],
             [
              1,
              "#f0f921"
             ]
            ],
            "type": "heatmapgl"
           }
          ],
          "histogram": [
           {
            "marker": {
             "pattern": {
              "fillmode": "overlay",
              "size": 10,
              "solidity": 0.2
             }
            },
            "type": "histogram"
           }
          ],
          "histogram2d": [
           {
            "colorbar": {
             "outlinewidth": 0,
             "ticks": ""
            },
            "colorscale": [
             [
              0,
              "#0d0887"
             ],
             [
              0.1111111111111111,
              "#46039f"
             ],
             [
              0.2222222222222222,
              "#7201a8"
             ],
             [
              0.3333333333333333,
              "#9c179e"
             ],
             [
              0.4444444444444444,
              "#bd3786"
             ],
             [
              0.5555555555555556,
              "#d8576b"
             ],
             [
              0.6666666666666666,
              "#ed7953"
             ],
             [
              0.7777777777777778,
              "#fb9f3a"
             ],
             [
              0.8888888888888888,
              "#fdca26"
             ],
             [
              1,
              "#f0f921"
             ]
            ],
            "type": "histogram2d"
           }
          ],
          "histogram2dcontour": [
           {
            "colorbar": {
             "outlinewidth": 0,
             "ticks": ""
            },
            "colorscale": [
             [
              0,
              "#0d0887"
             ],
             [
              0.1111111111111111,
              "#46039f"
             ],
             [
              0.2222222222222222,
              "#7201a8"
             ],
             [
              0.3333333333333333,
              "#9c179e"
             ],
             [
              0.4444444444444444,
              "#bd3786"
             ],
             [
              0.5555555555555556,
              "#d8576b"
             ],
             [
              0.6666666666666666,
              "#ed7953"
             ],
             [
              0.7777777777777778,
              "#fb9f3a"
             ],
             [
              0.8888888888888888,
              "#fdca26"
             ],
             [
              1,
              "#f0f921"
             ]
            ],
            "type": "histogram2dcontour"
           }
          ],
          "mesh3d": [
           {
            "colorbar": {
             "outlinewidth": 0,
             "ticks": ""
            },
            "type": "mesh3d"
           }
          ],
          "parcoords": [
           {
            "line": {
             "colorbar": {
              "outlinewidth": 0,
              "ticks": ""
             }
            },
            "type": "parcoords"
           }
          ],
          "pie": [
           {
            "automargin": true,
            "type": "pie"
           }
          ],
          "scatter": [
           {
            "fillpattern": {
             "fillmode": "overlay",
             "size": 10,
             "solidity": 0.2
            },
            "type": "scatter"
           }
          ],
          "scatter3d": [
           {
            "line": {
             "colorbar": {
              "outlinewidth": 0,
              "ticks": ""
             }
            },
            "marker": {
             "colorbar": {
              "outlinewidth": 0,
              "ticks": ""
             }
            },
            "type": "scatter3d"
           }
          ],
          "scattercarpet": [
           {
            "marker": {
             "colorbar": {
              "outlinewidth": 0,
              "ticks": ""
             }
            },
            "type": "scattercarpet"
           }
          ],
          "scattergeo": [
           {
            "marker": {
             "colorbar": {
              "outlinewidth": 0,
              "ticks": ""
             }
            },
            "type": "scattergeo"
           }
          ],
          "scattergl": [
           {
            "marker": {
             "colorbar": {
              "outlinewidth": 0,
              "ticks": ""
             }
            },
            "type": "scattergl"
           }
          ],
          "scattermapbox": [
           {
            "marker": {
             "colorbar": {
              "outlinewidth": 0,
              "ticks": ""
             }
            },
            "type": "scattermapbox"
           }
          ],
          "scatterpolar": [
           {
            "marker": {
             "colorbar": {
              "outlinewidth": 0,
              "ticks": ""
             }
            },
            "type": "scatterpolar"
           }
          ],
          "scatterpolargl": [
           {
            "marker": {
             "colorbar": {
              "outlinewidth": 0,
              "ticks": ""
             }
            },
            "type": "scatterpolargl"
           }
          ],
          "scatterternary": [
           {
            "marker": {
             "colorbar": {
              "outlinewidth": 0,
              "ticks": ""
             }
            },
            "type": "scatterternary"
           }
          ],
          "surface": [
           {
            "colorbar": {
             "outlinewidth": 0,
             "ticks": ""
            },
            "colorscale": [
             [
              0,
              "#0d0887"
             ],
             [
              0.1111111111111111,
              "#46039f"
             ],
             [
              0.2222222222222222,
              "#7201a8"
             ],
             [
              0.3333333333333333,
              "#9c179e"
             ],
             [
              0.4444444444444444,
              "#bd3786"
             ],
             [
              0.5555555555555556,
              "#d8576b"
             ],
             [
              0.6666666666666666,
              "#ed7953"
             ],
             [
              0.7777777777777778,
              "#fb9f3a"
             ],
             [
              0.8888888888888888,
              "#fdca26"
             ],
             [
              1,
              "#f0f921"
             ]
            ],
            "type": "surface"
           }
          ],
          "table": [
           {
            "cells": {
             "fill": {
              "color": "#EBF0F8"
             },
             "line": {
              "color": "white"
             }
            },
            "header": {
             "fill": {
              "color": "#C8D4E3"
             },
             "line": {
              "color": "white"
             }
            },
            "type": "table"
           }
          ]
         },
         "layout": {
          "annotationdefaults": {
           "arrowcolor": "#2a3f5f",
           "arrowhead": 0,
           "arrowwidth": 1
          },
          "autotypenumbers": "strict",
          "coloraxis": {
           "colorbar": {
            "outlinewidth": 0,
            "ticks": ""
           }
          },
          "colorscale": {
           "diverging": [
            [
             0,
             "#8e0152"
            ],
            [
             0.1,
             "#c51b7d"
            ],
            [
             0.2,
             "#de77ae"
            ],
            [
             0.3,
             "#f1b6da"
            ],
            [
             0.4,
             "#fde0ef"
            ],
            [
             0.5,
             "#f7f7f7"
            ],
            [
             0.6,
             "#e6f5d0"
            ],
            [
             0.7,
             "#b8e186"
            ],
            [
             0.8,
             "#7fbc41"
            ],
            [
             0.9,
             "#4d9221"
            ],
            [
             1,
             "#276419"
            ]
           ],
           "sequential": [
            [
             0,
             "#0d0887"
            ],
            [
             0.1111111111111111,
             "#46039f"
            ],
            [
             0.2222222222222222,
             "#7201a8"
            ],
            [
             0.3333333333333333,
             "#9c179e"
            ],
            [
             0.4444444444444444,
             "#bd3786"
            ],
            [
             0.5555555555555556,
             "#d8576b"
            ],
            [
             0.6666666666666666,
             "#ed7953"
            ],
            [
             0.7777777777777778,
             "#fb9f3a"
            ],
            [
             0.8888888888888888,
             "#fdca26"
            ],
            [
             1,
             "#f0f921"
            ]
           ],
           "sequentialminus": [
            [
             0,
             "#0d0887"
            ],
            [
             0.1111111111111111,
             "#46039f"
            ],
            [
             0.2222222222222222,
             "#7201a8"
            ],
            [
             0.3333333333333333,
             "#9c179e"
            ],
            [
             0.4444444444444444,
             "#bd3786"
            ],
            [
             0.5555555555555556,
             "#d8576b"
            ],
            [
             0.6666666666666666,
             "#ed7953"
            ],
            [
             0.7777777777777778,
             "#fb9f3a"
            ],
            [
             0.8888888888888888,
             "#fdca26"
            ],
            [
             1,
             "#f0f921"
            ]
           ]
          },
          "colorway": [
           "#636efa",
           "#EF553B",
           "#00cc96",
           "#ab63fa",
           "#FFA15A",
           "#19d3f3",
           "#FF6692",
           "#B6E880",
           "#FF97FF",
           "#FECB52"
          ],
          "font": {
           "color": "#2a3f5f"
          },
          "geo": {
           "bgcolor": "white",
           "lakecolor": "white",
           "landcolor": "#E5ECF6",
           "showlakes": true,
           "showland": true,
           "subunitcolor": "white"
          },
          "hoverlabel": {
           "align": "left"
          },
          "hovermode": "closest",
          "mapbox": {
           "style": "light"
          },
          "paper_bgcolor": "white",
          "plot_bgcolor": "#E5ECF6",
          "polar": {
           "angularaxis": {
            "gridcolor": "white",
            "linecolor": "white",
            "ticks": ""
           },
           "bgcolor": "#E5ECF6",
           "radialaxis": {
            "gridcolor": "white",
            "linecolor": "white",
            "ticks": ""
           }
          },
          "scene": {
           "xaxis": {
            "backgroundcolor": "#E5ECF6",
            "gridcolor": "white",
            "gridwidth": 2,
            "linecolor": "white",
            "showbackground": true,
            "ticks": "",
            "zerolinecolor": "white"
           },
           "yaxis": {
            "backgroundcolor": "#E5ECF6",
            "gridcolor": "white",
            "gridwidth": 2,
            "linecolor": "white",
            "showbackground": true,
            "ticks": "",
            "zerolinecolor": "white"
           },
           "zaxis": {
            "backgroundcolor": "#E5ECF6",
            "gridcolor": "white",
            "gridwidth": 2,
            "linecolor": "white",
            "showbackground": true,
            "ticks": "",
            "zerolinecolor": "white"
           }
          },
          "shapedefaults": {
           "line": {
            "color": "#2a3f5f"
           }
          },
          "ternary": {
           "aaxis": {
            "gridcolor": "white",
            "linecolor": "white",
            "ticks": ""
           },
           "baxis": {
            "gridcolor": "white",
            "linecolor": "white",
            "ticks": ""
           },
           "bgcolor": "#E5ECF6",
           "caxis": {
            "gridcolor": "white",
            "linecolor": "white",
            "ticks": ""
           }
          },
          "title": {
           "x": 0.05
          },
          "xaxis": {
           "automargin": true,
           "gridcolor": "white",
           "linecolor": "white",
           "ticks": "",
           "title": {
            "standoff": 15
           },
           "zerolinecolor": "white",
           "zerolinewidth": 2
          },
          "yaxis": {
           "automargin": true,
           "gridcolor": "white",
           "linecolor": "white",
           "ticks": "",
           "title": {
            "standoff": 15
           },
           "zerolinecolor": "white",
           "zerolinewidth": 2
          }
         }
        },
        "title": {
         "font": {
          "color": "black",
          "size": 20
         },
         "text": "inser_row() | read_csv() : time vs. n",
         "x": 0.5
        },
        "width": 650,
        "xaxis": {
         "anchor": "y",
         "color": "black",
         "domain": [
          0,
          1
         ],
         "gridcolor": "white",
         "linecolor": "black",
         "mirror": true,
         "ticksuffix": "    ",
         "title": {
          "text": "n"
         },
         "type": "category"
        },
        "yaxis": {
         "anchor": "x",
         "color": "black",
         "domain": [
          0,
          1
         ],
         "gridcolor": "white",
         "linecolor": "black",
         "mirror": true,
         "ticksuffix": "    ",
         "title": {
          "text": "time"
         },
         "visible": true
        }
       }
      }
     },
     "metadata": {},
     "output_type": "display_data"
    }
   ],
   "source": [
    "fig = px.line(insert,\n",
    "              x = 'n', \n",
    "              y = 'time',\n",
    "              color_discrete_sequence=[\"firebrick\"])\n",
    "\n",
    "fig.update_layout({\n",
    "    'plot_bgcolor': 'rgba(255, 255, 255, 255)',\n",
    "    'paper_bgcolor': 'rgba(255, 255, 255, 255)',\n",
    "    'yaxis':{'visible': True},\n",
    "    'xaxis':{'type':'category'}\n",
    "    })\n",
    "\n",
    "# add title\n",
    "fig.update_layout(\n",
    "    title_text=\"inser_row() | read_csv() : time vs. n\",\n",
    "    title_x=0.5,\n",
    "    title_font_size=20,\n",
    "    title_font_color='black'\n",
    ")\n",
    "\n",
    "fig.update_yaxes(ticksuffix = \"    \",  linecolor = 'black', gridcolor = 'white', mirror = True, color = 'black')\n",
    "fig.update_xaxes(ticksuffix = \"    \",  linecolor = 'black', gridcolor = 'white', mirror = True, color = 'black')\n",
    "fig.update_layout(width=650, height=500, showlegend=True)\n",
    "fig.show()\n",
    "\n",
    "fig.write_image(\"../images/insert.png\", scale=1)"
   ]
  },
  {
   "cell_type": "code",
   "execution_count": 17,
   "metadata": {},
   "outputs": [],
   "source": [
    "search.sort_values(by=['n', 'mean_time'], inplace=True)"
   ]
  },
  {
   "cell_type": "code",
   "execution_count": 18,
   "metadata": {},
   "outputs": [
    {
     "data": {
      "text/plain": [
       "column\n",
       "id               13\n",
       "owner_id         13\n",
       "count            13\n",
       "creation_date    13\n",
       "name             13\n",
       "content          13\n",
       "Name: count, dtype: int64"
      ]
     },
     "execution_count": 18,
     "metadata": {},
     "output_type": "execute_result"
    }
   ],
   "source": [
    "search[\"column\"].value_counts()"
   ]
  },
  {
   "cell_type": "code",
   "execution_count": 19,
   "metadata": {},
   "outputs": [
    {
     "data": {
      "application/vnd.plotly.v1+json": {
       "config": {
        "plotlyServerURL": "https://plot.ly"
       },
       "data": [
        {
         "hovertemplate": "column=id<br>n=%{x}<br>mean_time=%{y}<extra></extra>",
         "legendgroup": "id",
         "line": {
          "color": "firebrick",
          "dash": "solid"
         },
         "marker": {
          "symbol": "circle"
         },
         "mode": "lines",
         "name": "id",
         "orientation": "v",
         "showlegend": true,
         "type": "scatter",
         "x": [
          10,
          100,
          1000,
          10000,
          20000,
          30000,
          50000,
          70000,
          100000,
          200000,
          300000,
          400000,
          500000
         ],
         "xaxis": "x5",
         "y": [
          9.87734113420759e-7,
          0.0000020776476178850445,
          0.000008480889456612723,
          0.0003441401890345,
          0.0009464536394391,
          0.0015241418566022,
          0.0033542428697858,
          0.0046525001525878,
          0.005770206451416,
          0.000001430511474609375,
          0.0000014986310686383928,
          0.000001873288835797991,
          0.0000016008104596819197
         ],
         "yaxis": "y5"
        },
        {
         "hovertemplate": "column=owner_id<br>n=%{x}<br>mean_time=%{y}<extra></extra>",
         "legendgroup": "owner_id",
         "line": {
          "color": "firebrick",
          "dash": "solid"
         },
         "marker": {
          "symbol": "circle"
         },
         "mode": "lines",
         "name": "owner_id",
         "orientation": "v",
         "showlegend": true,
         "type": "scatter",
         "x": [
          10,
          100,
          1000,
          10000,
          20000,
          30000,
          50000,
          70000,
          100000,
          200000,
          300000,
          400000,
          500000
         ],
         "xaxis": "x6",
         "y": [
          0.000002765655517578125,
          0.00002193450927734375,
          0.0002408027648925,
          0.0037753582000732,
          0.0115561962127685,
          0.0151525497436523,
          0.0315724372863769,
          0.0390466690063476,
          0.0470736026763916,
          0.1089842319488525,
          0.1696475982666015,
          0.2169682025909423,
          0.2642504692077637
         ],
         "yaxis": "y6"
        },
        {
         "hovertemplate": "column=creation_date<br>n=%{x}<br>mean_time=%{y}<extra></extra>",
         "legendgroup": "creation_date",
         "line": {
          "color": "firebrick",
          "dash": "solid"
         },
         "marker": {
          "symbol": "circle"
         },
         "mode": "lines",
         "name": "creation_date",
         "orientation": "v",
         "showlegend": true,
         "type": "scatter",
         "x": [
          10,
          100,
          1000,
          10000,
          20000,
          30000,
          50000,
          70000,
          100000,
          200000,
          300000,
          400000,
          500000
         ],
         "xaxis": "x3",
         "y": [
          0.000013399124145507811,
          0.00008215904235839844,
          0.0011088371276855,
          0.0109580039978027,
          0.0238911151885986,
          0.0338045120239257,
          0.0616407871246337,
          0.0814555644989013,
          0.1054557800292968,
          0.2355693340301513,
          0.3462372779846191,
          0.4754892349243164,
          0.6296487331390381
         ],
         "yaxis": "y3"
        },
        {
         "hovertemplate": "column=count<br>n=%{x}<br>mean_time=%{y}<extra></extra>",
         "legendgroup": "count",
         "line": {
          "color": "firebrick",
          "dash": "solid"
         },
         "marker": {
          "symbol": "circle"
         },
         "mode": "lines",
         "name": "count",
         "orientation": "v",
         "showlegend": true,
         "type": "scatter",
         "x": [
          10,
          100,
          1000,
          10000,
          20000,
          30000,
          50000,
          70000,
          100000,
          200000,
          300000,
          400000,
          500000
         ],
         "xaxis": "x4",
         "y": [
          0.000005245208740234375,
          0.00002331733703613281,
          0.0002626895904541,
          0.004416275024414,
          0.0115614891052246,
          0.0150393009185791,
          0.0292857646942138,
          0.0349119663238525,
          0.043778657913208,
          0.115663719177246,
          0.1439657211303711,
          0.1935953140258789,
          0.2717846393585205
         ],
         "yaxis": "y4"
        },
        {
         "hovertemplate": "column=name<br>n=%{x}<br>mean_time=%{y}<extra></extra>",
         "legendgroup": "name",
         "line": {
          "color": "firebrick",
          "dash": "solid"
         },
         "marker": {
          "symbol": "circle"
         },
         "mode": "lines",
         "name": "name",
         "orientation": "v",
         "showlegend": true,
         "type": "scatter",
         "x": [
          10,
          100,
          1000,
          10000,
          20000,
          30000,
          50000,
          70000,
          100000,
          200000,
          300000,
          400000,
          500000
         ],
         "xaxis": "x",
         "y": [
          0.00001749992370605469,
          0.00009322166442871094,
          0.0011643886566162,
          0.0127760887145996,
          0.0292306900024414,
          0.0405802726745605,
          0.0662887096405029,
          0.0865113735198974,
          0.121069049835205,
          0.2512155532836914,
          0.3670407772064209,
          0.5081057071685791,
          0.7065763950347901
         ],
         "yaxis": "y"
        },
        {
         "hovertemplate": "column=content<br>n=%{x}<br>mean_time=%{y}<extra></extra>",
         "legendgroup": "content",
         "line": {
          "color": "firebrick",
          "dash": "solid"
         },
         "marker": {
          "symbol": "circle"
         },
         "mode": "lines",
         "name": "content",
         "orientation": "v",
         "showlegend": true,
         "type": "scatter",
         "x": [
          10,
          100,
          1000,
          10000,
          20000,
          30000,
          50000,
          70000,
          100000,
          200000,
          300000,
          400000,
          500000
         ],
         "xaxis": "x2",
         "y": [
          0.0001637935638427,
          0.0010436058044433,
          0.0157896518707275,
          0.1169465065002441,
          0.2288389205932617,
          0.3316699981689453,
          0.5587380409240723,
          0.7962223052978515,
          1.1050135612487793,
          2.268191623687744,
          3.400286817550659,
          4.575881290435791,
          5.8313642024993895
         ],
         "yaxis": "y2"
        }
       ],
       "layout": {
        "annotations": [
         {
          "font": {},
          "showarrow": false,
          "text": "name",
          "x": 0.2375,
          "xanchor": "center",
          "xref": "paper",
          "y": 0.2866666666666666,
          "yanchor": "bottom",
          "yref": "paper"
         },
         {
          "font": {},
          "showarrow": false,
          "text": "content",
          "x": 0.7625,
          "xanchor": "center",
          "xref": "paper",
          "y": 0.2866666666666666,
          "yanchor": "bottom",
          "yref": "paper"
         },
         {
          "font": {},
          "showarrow": false,
          "text": "creation_date",
          "x": 0.2375,
          "xanchor": "center",
          "xref": "paper",
          "y": 0.6433333333333333,
          "yanchor": "bottom",
          "yref": "paper"
         },
         {
          "font": {},
          "showarrow": false,
          "text": "count",
          "x": 0.7625,
          "xanchor": "center",
          "xref": "paper",
          "y": 0.6433333333333333,
          "yanchor": "bottom",
          "yref": "paper"
         },
         {
          "font": {},
          "showarrow": false,
          "text": "id",
          "x": 0.2375,
          "xanchor": "center",
          "xref": "paper",
          "y": 0.9999999999999999,
          "yanchor": "bottom",
          "yref": "paper"
         },
         {
          "font": {},
          "showarrow": false,
          "text": "owner_id",
          "x": 0.7625,
          "xanchor": "center",
          "xref": "paper",
          "y": 0.9999999999999999,
          "yanchor": "bottom",
          "yref": "paper"
         }
        ],
        "height": 500,
        "legend": {
         "title": {
          "text": "column"
         },
         "tracegroupgap": 0
        },
        "margin": {
         "b": 20,
         "l": 20,
         "r": 20,
         "t": 50
        },
        "paper_bgcolor": "rgba(255, 255, 255, 255)",
        "plot_bgcolor": "rgba(255, 255, 255, 255)",
        "showlegend": false,
        "template": {
         "data": {
          "bar": [
           {
            "error_x": {
             "color": "#2a3f5f"
            },
            "error_y": {
             "color": "#2a3f5f"
            },
            "marker": {
             "line": {
              "color": "#E5ECF6",
              "width": 0.5
             },
             "pattern": {
              "fillmode": "overlay",
              "size": 10,
              "solidity": 0.2
             }
            },
            "type": "bar"
           }
          ],
          "barpolar": [
           {
            "marker": {
             "line": {
              "color": "#E5ECF6",
              "width": 0.5
             },
             "pattern": {
              "fillmode": "overlay",
              "size": 10,
              "solidity": 0.2
             }
            },
            "type": "barpolar"
           }
          ],
          "carpet": [
           {
            "aaxis": {
             "endlinecolor": "#2a3f5f",
             "gridcolor": "white",
             "linecolor": "white",
             "minorgridcolor": "white",
             "startlinecolor": "#2a3f5f"
            },
            "baxis": {
             "endlinecolor": "#2a3f5f",
             "gridcolor": "white",
             "linecolor": "white",
             "minorgridcolor": "white",
             "startlinecolor": "#2a3f5f"
            },
            "type": "carpet"
           }
          ],
          "choropleth": [
           {
            "colorbar": {
             "outlinewidth": 0,
             "ticks": ""
            },
            "type": "choropleth"
           }
          ],
          "contour": [
           {
            "colorbar": {
             "outlinewidth": 0,
             "ticks": ""
            },
            "colorscale": [
             [
              0,
              "#0d0887"
             ],
             [
              0.1111111111111111,
              "#46039f"
             ],
             [
              0.2222222222222222,
              "#7201a8"
             ],
             [
              0.3333333333333333,
              "#9c179e"
             ],
             [
              0.4444444444444444,
              "#bd3786"
             ],
             [
              0.5555555555555556,
              "#d8576b"
             ],
             [
              0.6666666666666666,
              "#ed7953"
             ],
             [
              0.7777777777777778,
              "#fb9f3a"
             ],
             [
              0.8888888888888888,
              "#fdca26"
             ],
             [
              1,
              "#f0f921"
             ]
            ],
            "type": "contour"
           }
          ],
          "contourcarpet": [
           {
            "colorbar": {
             "outlinewidth": 0,
             "ticks": ""
            },
            "type": "contourcarpet"
           }
          ],
          "heatmap": [
           {
            "colorbar": {
             "outlinewidth": 0,
             "ticks": ""
            },
            "colorscale": [
             [
              0,
              "#0d0887"
             ],
             [
              0.1111111111111111,
              "#46039f"
             ],
             [
              0.2222222222222222,
              "#7201a8"
             ],
             [
              0.3333333333333333,
              "#9c179e"
             ],
             [
              0.4444444444444444,
              "#bd3786"
             ],
             [
              0.5555555555555556,
              "#d8576b"
             ],
             [
              0.6666666666666666,
              "#ed7953"
             ],
             [
              0.7777777777777778,
              "#fb9f3a"
             ],
             [
              0.8888888888888888,
              "#fdca26"
             ],
             [
              1,
              "#f0f921"
             ]
            ],
            "type": "heatmap"
           }
          ],
          "heatmapgl": [
           {
            "colorbar": {
             "outlinewidth": 0,
             "ticks": ""
            },
            "colorscale": [
             [
              0,
              "#0d0887"
             ],
             [
              0.1111111111111111,
              "#46039f"
             ],
             [
              0.2222222222222222,
              "#7201a8"
             ],
             [
              0.3333333333333333,
              "#9c179e"
             ],
             [
              0.4444444444444444,
              "#bd3786"
             ],
             [
              0.5555555555555556,
              "#d8576b"
             ],
             [
              0.6666666666666666,
              "#ed7953"
             ],
             [
              0.7777777777777778,
              "#fb9f3a"
             ],
             [
              0.8888888888888888,
              "#fdca26"
             ],
             [
              1,
              "#f0f921"
             ]
            ],
            "type": "heatmapgl"
           }
          ],
          "histogram": [
           {
            "marker": {
             "pattern": {
              "fillmode": "overlay",
              "size": 10,
              "solidity": 0.2
             }
            },
            "type": "histogram"
           }
          ],
          "histogram2d": [
           {
            "colorbar": {
             "outlinewidth": 0,
             "ticks": ""
            },
            "colorscale": [
             [
              0,
              "#0d0887"
             ],
             [
              0.1111111111111111,
              "#46039f"
             ],
             [
              0.2222222222222222,
              "#7201a8"
             ],
             [
              0.3333333333333333,
              "#9c179e"
             ],
             [
              0.4444444444444444,
              "#bd3786"
             ],
             [
              0.5555555555555556,
              "#d8576b"
             ],
             [
              0.6666666666666666,
              "#ed7953"
             ],
             [
              0.7777777777777778,
              "#fb9f3a"
             ],
             [
              0.8888888888888888,
              "#fdca26"
             ],
             [
              1,
              "#f0f921"
             ]
            ],
            "type": "histogram2d"
           }
          ],
          "histogram2dcontour": [
           {
            "colorbar": {
             "outlinewidth": 0,
             "ticks": ""
            },
            "colorscale": [
             [
              0,
              "#0d0887"
             ],
             [
              0.1111111111111111,
              "#46039f"
             ],
             [
              0.2222222222222222,
              "#7201a8"
             ],
             [
              0.3333333333333333,
              "#9c179e"
             ],
             [
              0.4444444444444444,
              "#bd3786"
             ],
             [
              0.5555555555555556,
              "#d8576b"
             ],
             [
              0.6666666666666666,
              "#ed7953"
             ],
             [
              0.7777777777777778,
              "#fb9f3a"
             ],
             [
              0.8888888888888888,
              "#fdca26"
             ],
             [
              1,
              "#f0f921"
             ]
            ],
            "type": "histogram2dcontour"
           }
          ],
          "mesh3d": [
           {
            "colorbar": {
             "outlinewidth": 0,
             "ticks": ""
            },
            "type": "mesh3d"
           }
          ],
          "parcoords": [
           {
            "line": {
             "colorbar": {
              "outlinewidth": 0,
              "ticks": ""
             }
            },
            "type": "parcoords"
           }
          ],
          "pie": [
           {
            "automargin": true,
            "type": "pie"
           }
          ],
          "scatter": [
           {
            "fillpattern": {
             "fillmode": "overlay",
             "size": 10,
             "solidity": 0.2
            },
            "type": "scatter"
           }
          ],
          "scatter3d": [
           {
            "line": {
             "colorbar": {
              "outlinewidth": 0,
              "ticks": ""
             }
            },
            "marker": {
             "colorbar": {
              "outlinewidth": 0,
              "ticks": ""
             }
            },
            "type": "scatter3d"
           }
          ],
          "scattercarpet": [
           {
            "marker": {
             "colorbar": {
              "outlinewidth": 0,
              "ticks": ""
             }
            },
            "type": "scattercarpet"
           }
          ],
          "scattergeo": [
           {
            "marker": {
             "colorbar": {
              "outlinewidth": 0,
              "ticks": ""
             }
            },
            "type": "scattergeo"
           }
          ],
          "scattergl": [
           {
            "marker": {
             "colorbar": {
              "outlinewidth": 0,
              "ticks": ""
             }
            },
            "type": "scattergl"
           }
          ],
          "scattermapbox": [
           {
            "marker": {
             "colorbar": {
              "outlinewidth": 0,
              "ticks": ""
             }
            },
            "type": "scattermapbox"
           }
          ],
          "scatterpolar": [
           {
            "marker": {
             "colorbar": {
              "outlinewidth": 0,
              "ticks": ""
             }
            },
            "type": "scatterpolar"
           }
          ],
          "scatterpolargl": [
           {
            "marker": {
             "colorbar": {
              "outlinewidth": 0,
              "ticks": ""
             }
            },
            "type": "scatterpolargl"
           }
          ],
          "scatterternary": [
           {
            "marker": {
             "colorbar": {
              "outlinewidth": 0,
              "ticks": ""
             }
            },
            "type": "scatterternary"
           }
          ],
          "surface": [
           {
            "colorbar": {
             "outlinewidth": 0,
             "ticks": ""
            },
            "colorscale": [
             [
              0,
              "#0d0887"
             ],
             [
              0.1111111111111111,
              "#46039f"
             ],
             [
              0.2222222222222222,
              "#7201a8"
             ],
             [
              0.3333333333333333,
              "#9c179e"
             ],
             [
              0.4444444444444444,
              "#bd3786"
             ],
             [
              0.5555555555555556,
              "#d8576b"
             ],
             [
              0.6666666666666666,
              "#ed7953"
             ],
             [
              0.7777777777777778,
              "#fb9f3a"
             ],
             [
              0.8888888888888888,
              "#fdca26"
             ],
             [
              1,
              "#f0f921"
             ]
            ],
            "type": "surface"
           }
          ],
          "table": [
           {
            "cells": {
             "fill": {
              "color": "#EBF0F8"
             },
             "line": {
              "color": "white"
             }
            },
            "header": {
             "fill": {
              "color": "#C8D4E3"
             },
             "line": {
              "color": "white"
             }
            },
            "type": "table"
           }
          ]
         },
         "layout": {
          "annotationdefaults": {
           "arrowcolor": "#2a3f5f",
           "arrowhead": 0,
           "arrowwidth": 1
          },
          "autotypenumbers": "strict",
          "coloraxis": {
           "colorbar": {
            "outlinewidth": 0,
            "ticks": ""
           }
          },
          "colorscale": {
           "diverging": [
            [
             0,
             "#8e0152"
            ],
            [
             0.1,
             "#c51b7d"
            ],
            [
             0.2,
             "#de77ae"
            ],
            [
             0.3,
             "#f1b6da"
            ],
            [
             0.4,
             "#fde0ef"
            ],
            [
             0.5,
             "#f7f7f7"
            ],
            [
             0.6,
             "#e6f5d0"
            ],
            [
             0.7,
             "#b8e186"
            ],
            [
             0.8,
             "#7fbc41"
            ],
            [
             0.9,
             "#4d9221"
            ],
            [
             1,
             "#276419"
            ]
           ],
           "sequential": [
            [
             0,
             "#0d0887"
            ],
            [
             0.1111111111111111,
             "#46039f"
            ],
            [
             0.2222222222222222,
             "#7201a8"
            ],
            [
             0.3333333333333333,
             "#9c179e"
            ],
            [
             0.4444444444444444,
             "#bd3786"
            ],
            [
             0.5555555555555556,
             "#d8576b"
            ],
            [
             0.6666666666666666,
             "#ed7953"
            ],
            [
             0.7777777777777778,
             "#fb9f3a"
            ],
            [
             0.8888888888888888,
             "#fdca26"
            ],
            [
             1,
             "#f0f921"
            ]
           ],
           "sequentialminus": [
            [
             0,
             "#0d0887"
            ],
            [
             0.1111111111111111,
             "#46039f"
            ],
            [
             0.2222222222222222,
             "#7201a8"
            ],
            [
             0.3333333333333333,
             "#9c179e"
            ],
            [
             0.4444444444444444,
             "#bd3786"
            ],
            [
             0.5555555555555556,
             "#d8576b"
            ],
            [
             0.6666666666666666,
             "#ed7953"
            ],
            [
             0.7777777777777778,
             "#fb9f3a"
            ],
            [
             0.8888888888888888,
             "#fdca26"
            ],
            [
             1,
             "#f0f921"
            ]
           ]
          },
          "colorway": [
           "#636efa",
           "#EF553B",
           "#00cc96",
           "#ab63fa",
           "#FFA15A",
           "#19d3f3",
           "#FF6692",
           "#B6E880",
           "#FF97FF",
           "#FECB52"
          ],
          "font": {
           "color": "#2a3f5f"
          },
          "geo": {
           "bgcolor": "white",
           "lakecolor": "white",
           "landcolor": "#E5ECF6",
           "showlakes": true,
           "showland": true,
           "subunitcolor": "white"
          },
          "hoverlabel": {
           "align": "left"
          },
          "hovermode": "closest",
          "mapbox": {
           "style": "light"
          },
          "paper_bgcolor": "white",
          "plot_bgcolor": "#E5ECF6",
          "polar": {
           "angularaxis": {
            "gridcolor": "white",
            "linecolor": "white",
            "ticks": ""
           },
           "bgcolor": "#E5ECF6",
           "radialaxis": {
            "gridcolor": "white",
            "linecolor": "white",
            "ticks": ""
           }
          },
          "scene": {
           "xaxis": {
            "backgroundcolor": "#E5ECF6",
            "gridcolor": "white",
            "gridwidth": 2,
            "linecolor": "white",
            "showbackground": true,
            "ticks": "",
            "zerolinecolor": "white"
           },
           "yaxis": {
            "backgroundcolor": "#E5ECF6",
            "gridcolor": "white",
            "gridwidth": 2,
            "linecolor": "white",
            "showbackground": true,
            "ticks": "",
            "zerolinecolor": "white"
           },
           "zaxis": {
            "backgroundcolor": "#E5ECF6",
            "gridcolor": "white",
            "gridwidth": 2,
            "linecolor": "white",
            "showbackground": true,
            "ticks": "",
            "zerolinecolor": "white"
           }
          },
          "shapedefaults": {
           "line": {
            "color": "#2a3f5f"
           }
          },
          "ternary": {
           "aaxis": {
            "gridcolor": "white",
            "linecolor": "white",
            "ticks": ""
           },
           "baxis": {
            "gridcolor": "white",
            "linecolor": "white",
            "ticks": ""
           },
           "bgcolor": "#E5ECF6",
           "caxis": {
            "gridcolor": "white",
            "linecolor": "white",
            "ticks": ""
           }
          },
          "title": {
           "x": 0.05
          },
          "xaxis": {
           "automargin": true,
           "gridcolor": "white",
           "linecolor": "white",
           "ticks": "",
           "title": {
            "standoff": 15
           },
           "zerolinecolor": "white",
           "zerolinewidth": 2
          },
          "yaxis": {
           "automargin": true,
           "gridcolor": "white",
           "linecolor": "white",
           "ticks": "",
           "title": {
            "standoff": 15
           },
           "zerolinecolor": "white",
           "zerolinewidth": 2
          }
         }
        },
        "title": {
         "font": {
          "color": "black",
          "size": 20
         },
         "text": "search() : mean time vs. n",
         "x": 0.5
        },
        "width": 500,
        "xaxis": {
         "anchor": "y",
         "color": "black",
         "domain": [
          0,
          0.475
         ],
         "gridcolor": "white",
         "linecolor": "black",
         "mirror": true,
         "ticksuffix": " ",
         "title": {
          "text": "n"
         }
        },
        "xaxis2": {
         "anchor": "y2",
         "color": "black",
         "domain": [
          0.525,
          1
         ],
         "gridcolor": "white",
         "linecolor": "black",
         "matches": "x",
         "mirror": true,
         "ticksuffix": " ",
         "title": {
          "text": "n"
         }
        },
        "xaxis3": {
         "anchor": "y3",
         "color": "black",
         "domain": [
          0,
          0.475
         ],
         "gridcolor": "white",
         "linecolor": "black",
         "matches": "x",
         "mirror": true,
         "showticklabels": false,
         "ticksuffix": " "
        },
        "xaxis4": {
         "anchor": "y4",
         "color": "black",
         "domain": [
          0.525,
          1
         ],
         "gridcolor": "white",
         "linecolor": "black",
         "matches": "x",
         "mirror": true,
         "showticklabels": false,
         "ticksuffix": " "
        },
        "xaxis5": {
         "anchor": "y5",
         "color": "black",
         "domain": [
          0,
          0.475
         ],
         "gridcolor": "white",
         "linecolor": "black",
         "matches": "x",
         "mirror": true,
         "showticklabels": false,
         "ticksuffix": " "
        },
        "xaxis6": {
         "anchor": "y6",
         "color": "black",
         "domain": [
          0.525,
          1
         ],
         "gridcolor": "white",
         "linecolor": "black",
         "matches": "x",
         "mirror": true,
         "showticklabels": false,
         "ticksuffix": " "
        },
        "yaxis": {
         "anchor": "x",
         "color": "black",
         "domain": [
          0,
          0.2866666666666666
         ],
         "gridcolor": "white",
         "linecolor": "black",
         "mirror": true,
         "ticksuffix": " ",
         "title": {
          "text": "mean_time"
         },
         "visible": true
        },
        "yaxis2": {
         "anchor": "x2",
         "color": "black",
         "domain": [
          0,
          0.2866666666666666
         ],
         "gridcolor": "white",
         "linecolor": "black",
         "matches": "y",
         "mirror": true,
         "showticklabels": false,
         "ticksuffix": " "
        },
        "yaxis3": {
         "anchor": "x3",
         "color": "black",
         "domain": [
          0.35666666666666663,
          0.6433333333333333
         ],
         "gridcolor": "white",
         "linecolor": "black",
         "matches": "y",
         "mirror": true,
         "ticksuffix": " ",
         "title": {
          "text": "mean_time"
         }
        },
        "yaxis4": {
         "anchor": "x4",
         "color": "black",
         "domain": [
          0.35666666666666663,
          0.6433333333333333
         ],
         "gridcolor": "white",
         "linecolor": "black",
         "matches": "y",
         "mirror": true,
         "showticklabels": false,
         "ticksuffix": " "
        },
        "yaxis5": {
         "anchor": "x5",
         "color": "black",
         "domain": [
          0.7133333333333333,
          0.9999999999999999
         ],
         "gridcolor": "white",
         "linecolor": "black",
         "matches": "y",
         "mirror": true,
         "ticksuffix": " ",
         "title": {
          "text": "mean_time"
         }
        },
        "yaxis6": {
         "anchor": "x6",
         "color": "black",
         "domain": [
          0.7133333333333333,
          0.9999999999999999
         ],
         "gridcolor": "white",
         "linecolor": "black",
         "matches": "y",
         "mirror": true,
         "showticklabels": false,
         "ticksuffix": " "
        }
       }
      }
     },
     "metadata": {},
     "output_type": "display_data"
    }
   ],
   "source": [
    "fig = px.line(search,\n",
    "              x = 'n', \n",
    "              y = 'mean_time',\n",
    "              color = 'column',\n",
    "              facet_col='column',\n",
    "              facet_col_wrap=2,\n",
    "              facet_col_spacing=0.05,\n",
    "              color_discrete_sequence=[\"firebrick\"],\n",
    "              category_orders={\"column\": [\"id\", \"owner_id\", \"creation_date\", \"count\", \"name\", \"content\"]})\n",
    "\n",
    "fig.update_layout({\n",
    "    'plot_bgcolor': 'rgba(255, 255, 255, 255)',\n",
    "    'paper_bgcolor': 'rgba(255, 255, 255, 255)',\n",
    "    'yaxis':{'visible': True}\n",
    "    #'xaxis':{'type':'category'}\n",
    "    })\n",
    "\n",
    "fig.update_layout(\n",
    "    title_text=\"search() : mean time vs. n\",\n",
    "    title_x=0.5,\n",
    "    title_font_size=20,\n",
    "    title_font_color='black'\n",
    ")\n",
    "\n",
    "# for_each annotation\n",
    "for anno in fig.layout.annotations:\n",
    "    anno.text = anno.text.split(\"=\")[-1]\n",
    "\n",
    "# increase vertical distance between facets\n",
    "fig.update_layout(margin=dict(l=20, r=20, t=50, b=20), height=600)\n",
    "\n",
    "fig.update_yaxes(ticksuffix = \" \",  linecolor = 'black', gridcolor = 'white', mirror = True, color = 'black')\n",
    "fig.update_xaxes(ticksuffix = \" \",  linecolor = 'black', gridcolor = 'white', mirror = True, color = 'black')\n",
    "fig.update_layout(width=500, height=500, showlegend=False)\n",
    "fig.show()\n",
    "\n",
    "fig.write_image(\"../images/search_fix-scale.png\", scale=1)"
   ]
  },
  {
   "cell_type": "code",
   "execution_count": 20,
   "metadata": {},
   "outputs": [
    {
     "data": {
      "application/vnd.plotly.v1+json": {
       "config": {
        "plotlyServerURL": "https://plot.ly"
       },
       "data": [
        {
         "hovertemplate": "column=id<br>n=%{x}<br>mean_time=%{y}<extra></extra>",
         "legendgroup": "id",
         "line": {
          "color": "firebrick",
          "dash": "solid"
         },
         "marker": {
          "symbol": "circle"
         },
         "mode": "lines",
         "name": "id",
         "orientation": "v",
         "showlegend": true,
         "type": "scatter",
         "x": [
          10,
          100,
          1000,
          10000,
          20000,
          30000,
          50000,
          70000,
          100000,
          200000,
          300000,
          400000,
          500000
         ],
         "xaxis": "x6",
         "y": [
          9.87734113420759e-7,
          0.0000020776476178850445,
          0.000008480889456612723,
          0.0003441401890345,
          0.0009464536394391,
          0.0015241418566022,
          0.0033542428697858,
          0.0046525001525878,
          0.005770206451416,
          0.000001430511474609375,
          0.0000014986310686383928,
          0.000001873288835797991,
          0.0000016008104596819197
         ],
         "yaxis": "y6"
        },
        {
         "hovertemplate": "column=owner_id<br>n=%{x}<br>mean_time=%{y}<extra></extra>",
         "legendgroup": "owner_id",
         "line": {
          "color": "firebrick",
          "dash": "solid"
         },
         "marker": {
          "symbol": "circle"
         },
         "mode": "lines",
         "name": "owner_id",
         "orientation": "v",
         "showlegend": true,
         "type": "scatter",
         "x": [
          10,
          100,
          1000,
          10000,
          20000,
          30000,
          50000,
          70000,
          100000,
          200000,
          300000,
          400000,
          500000
         ],
         "xaxis": "x5",
         "y": [
          0.000002765655517578125,
          0.00002193450927734375,
          0.0002408027648925,
          0.0037753582000732,
          0.0115561962127685,
          0.0151525497436523,
          0.0315724372863769,
          0.0390466690063476,
          0.0470736026763916,
          0.1089842319488525,
          0.1696475982666015,
          0.2169682025909423,
          0.2642504692077637
         ],
         "yaxis": "y5"
        },
        {
         "hovertemplate": "column=creation_date<br>n=%{x}<br>mean_time=%{y}<extra></extra>",
         "legendgroup": "creation_date",
         "line": {
          "color": "firebrick",
          "dash": "solid"
         },
         "marker": {
          "symbol": "circle"
         },
         "mode": "lines",
         "name": "creation_date",
         "orientation": "v",
         "showlegend": true,
         "type": "scatter",
         "x": [
          10,
          100,
          1000,
          10000,
          20000,
          30000,
          50000,
          70000,
          100000,
          200000,
          300000,
          400000,
          500000
         ],
         "xaxis": "x4",
         "y": [
          0.000013399124145507811,
          0.00008215904235839844,
          0.0011088371276855,
          0.0109580039978027,
          0.0238911151885986,
          0.0338045120239257,
          0.0616407871246337,
          0.0814555644989013,
          0.1054557800292968,
          0.2355693340301513,
          0.3462372779846191,
          0.4754892349243164,
          0.6296487331390381
         ],
         "yaxis": "y4"
        },
        {
         "hovertemplate": "column=count<br>n=%{x}<br>mean_time=%{y}<extra></extra>",
         "legendgroup": "count",
         "line": {
          "color": "firebrick",
          "dash": "solid"
         },
         "marker": {
          "symbol": "circle"
         },
         "mode": "lines",
         "name": "count",
         "orientation": "v",
         "showlegend": true,
         "type": "scatter",
         "x": [
          10,
          100,
          1000,
          10000,
          20000,
          30000,
          50000,
          70000,
          100000,
          200000,
          300000,
          400000,
          500000
         ],
         "xaxis": "x3",
         "y": [
          0.000005245208740234375,
          0.00002331733703613281,
          0.0002626895904541,
          0.004416275024414,
          0.0115614891052246,
          0.0150393009185791,
          0.0292857646942138,
          0.0349119663238525,
          0.043778657913208,
          0.115663719177246,
          0.1439657211303711,
          0.1935953140258789,
          0.2717846393585205
         ],
         "yaxis": "y3"
        },
        {
         "hovertemplate": "column=name<br>n=%{x}<br>mean_time=%{y}<extra></extra>",
         "legendgroup": "name",
         "line": {
          "color": "firebrick",
          "dash": "solid"
         },
         "marker": {
          "symbol": "circle"
         },
         "mode": "lines",
         "name": "name",
         "orientation": "v",
         "showlegend": true,
         "type": "scatter",
         "x": [
          10,
          100,
          1000,
          10000,
          20000,
          30000,
          50000,
          70000,
          100000,
          200000,
          300000,
          400000,
          500000
         ],
         "xaxis": "x2",
         "y": [
          0.00001749992370605469,
          0.00009322166442871094,
          0.0011643886566162,
          0.0127760887145996,
          0.0292306900024414,
          0.0405802726745605,
          0.0662887096405029,
          0.0865113735198974,
          0.121069049835205,
          0.2512155532836914,
          0.3670407772064209,
          0.5081057071685791,
          0.7065763950347901
         ],
         "yaxis": "y2"
        },
        {
         "hovertemplate": "column=content<br>n=%{x}<br>mean_time=%{y}<extra></extra>",
         "legendgroup": "content",
         "line": {
          "color": "firebrick",
          "dash": "solid"
         },
         "marker": {
          "symbol": "circle"
         },
         "mode": "lines",
         "name": "content",
         "orientation": "v",
         "showlegend": true,
         "type": "scatter",
         "x": [
          10,
          100,
          1000,
          10000,
          20000,
          30000,
          50000,
          70000,
          100000,
          200000,
          300000,
          400000,
          500000
         ],
         "xaxis": "x",
         "y": [
          0.0001637935638427,
          0.0010436058044433,
          0.0157896518707275,
          0.1169465065002441,
          0.2288389205932617,
          0.3316699981689453,
          0.5587380409240723,
          0.7962223052978515,
          1.1050135612487793,
          2.268191623687744,
          3.400286817550659,
          4.575881290435791,
          5.8313642024993895
         ],
         "yaxis": "y"
        }
       ],
       "layout": {
        "annotations": [
         {
          "font": {},
          "showarrow": false,
          "text": "content",
          "x": 0.5,
          "xanchor": "center",
          "xref": "paper",
          "y": 0.10833333333333331,
          "yanchor": "bottom",
          "yref": "paper"
         },
         {
          "font": {},
          "showarrow": false,
          "text": "name",
          "x": 0.5,
          "xanchor": "center",
          "xref": "paper",
          "y": 0.2866666666666666,
          "yanchor": "bottom",
          "yref": "paper"
         },
         {
          "font": {},
          "showarrow": false,
          "text": "count",
          "x": 0.5,
          "xanchor": "center",
          "xref": "paper",
          "y": 0.46499999999999997,
          "yanchor": "bottom",
          "yref": "paper"
         },
         {
          "font": {},
          "showarrow": false,
          "text": "creation_date",
          "x": 0.5,
          "xanchor": "center",
          "xref": "paper",
          "y": 0.6433333333333332,
          "yanchor": "bottom",
          "yref": "paper"
         },
         {
          "font": {},
          "showarrow": false,
          "text": "owner_id",
          "x": 0.5,
          "xanchor": "center",
          "xref": "paper",
          "y": 0.8216666666666665,
          "yanchor": "bottom",
          "yref": "paper"
         },
         {
          "font": {},
          "showarrow": false,
          "text": "id",
          "x": 0.5,
          "xanchor": "center",
          "xref": "paper",
          "y": 0.9999999999999999,
          "yanchor": "bottom",
          "yref": "paper"
         }
        ],
        "height": 800,
        "legend": {
         "title": {
          "text": "column"
         },
         "tracegroupgap": 0
        },
        "margin": {
         "b": 20,
         "l": 20,
         "r": 20,
         "t": 50
        },
        "paper_bgcolor": "rgba(255, 255, 255, 255)",
        "plot_bgcolor": "rgba(255, 255, 255, 255)",
        "showlegend": false,
        "template": {
         "data": {
          "bar": [
           {
            "error_x": {
             "color": "#2a3f5f"
            },
            "error_y": {
             "color": "#2a3f5f"
            },
            "marker": {
             "line": {
              "color": "#E5ECF6",
              "width": 0.5
             },
             "pattern": {
              "fillmode": "overlay",
              "size": 10,
              "solidity": 0.2
             }
            },
            "type": "bar"
           }
          ],
          "barpolar": [
           {
            "marker": {
             "line": {
              "color": "#E5ECF6",
              "width": 0.5
             },
             "pattern": {
              "fillmode": "overlay",
              "size": 10,
              "solidity": 0.2
             }
            },
            "type": "barpolar"
           }
          ],
          "carpet": [
           {
            "aaxis": {
             "endlinecolor": "#2a3f5f",
             "gridcolor": "white",
             "linecolor": "white",
             "minorgridcolor": "white",
             "startlinecolor": "#2a3f5f"
            },
            "baxis": {
             "endlinecolor": "#2a3f5f",
             "gridcolor": "white",
             "linecolor": "white",
             "minorgridcolor": "white",
             "startlinecolor": "#2a3f5f"
            },
            "type": "carpet"
           }
          ],
          "choropleth": [
           {
            "colorbar": {
             "outlinewidth": 0,
             "ticks": ""
            },
            "type": "choropleth"
           }
          ],
          "contour": [
           {
            "colorbar": {
             "outlinewidth": 0,
             "ticks": ""
            },
            "colorscale": [
             [
              0,
              "#0d0887"
             ],
             [
              0.1111111111111111,
              "#46039f"
             ],
             [
              0.2222222222222222,
              "#7201a8"
             ],
             [
              0.3333333333333333,
              "#9c179e"
             ],
             [
              0.4444444444444444,
              "#bd3786"
             ],
             [
              0.5555555555555556,
              "#d8576b"
             ],
             [
              0.6666666666666666,
              "#ed7953"
             ],
             [
              0.7777777777777778,
              "#fb9f3a"
             ],
             [
              0.8888888888888888,
              "#fdca26"
             ],
             [
              1,
              "#f0f921"
             ]
            ],
            "type": "contour"
           }
          ],
          "contourcarpet": [
           {
            "colorbar": {
             "outlinewidth": 0,
             "ticks": ""
            },
            "type": "contourcarpet"
           }
          ],
          "heatmap": [
           {
            "colorbar": {
             "outlinewidth": 0,
             "ticks": ""
            },
            "colorscale": [
             [
              0,
              "#0d0887"
             ],
             [
              0.1111111111111111,
              "#46039f"
             ],
             [
              0.2222222222222222,
              "#7201a8"
             ],
             [
              0.3333333333333333,
              "#9c179e"
             ],
             [
              0.4444444444444444,
              "#bd3786"
             ],
             [
              0.5555555555555556,
              "#d8576b"
             ],
             [
              0.6666666666666666,
              "#ed7953"
             ],
             [
              0.7777777777777778,
              "#fb9f3a"
             ],
             [
              0.8888888888888888,
              "#fdca26"
             ],
             [
              1,
              "#f0f921"
             ]
            ],
            "type": "heatmap"
           }
          ],
          "heatmapgl": [
           {
            "colorbar": {
             "outlinewidth": 0,
             "ticks": ""
            },
            "colorscale": [
             [
              0,
              "#0d0887"
             ],
             [
              0.1111111111111111,
              "#46039f"
             ],
             [
              0.2222222222222222,
              "#7201a8"
             ],
             [
              0.3333333333333333,
              "#9c179e"
             ],
             [
              0.4444444444444444,
              "#bd3786"
             ],
             [
              0.5555555555555556,
              "#d8576b"
             ],
             [
              0.6666666666666666,
              "#ed7953"
             ],
             [
              0.7777777777777778,
              "#fb9f3a"
             ],
             [
              0.8888888888888888,
              "#fdca26"
             ],
             [
              1,
              "#f0f921"
             ]
            ],
            "type": "heatmapgl"
           }
          ],
          "histogram": [
           {
            "marker": {
             "pattern": {
              "fillmode": "overlay",
              "size": 10,
              "solidity": 0.2
             }
            },
            "type": "histogram"
           }
          ],
          "histogram2d": [
           {
            "colorbar": {
             "outlinewidth": 0,
             "ticks": ""
            },
            "colorscale": [
             [
              0,
              "#0d0887"
             ],
             [
              0.1111111111111111,
              "#46039f"
             ],
             [
              0.2222222222222222,
              "#7201a8"
             ],
             [
              0.3333333333333333,
              "#9c179e"
             ],
             [
              0.4444444444444444,
              "#bd3786"
             ],
             [
              0.5555555555555556,
              "#d8576b"
             ],
             [
              0.6666666666666666,
              "#ed7953"
             ],
             [
              0.7777777777777778,
              "#fb9f3a"
             ],
             [
              0.8888888888888888,
              "#fdca26"
             ],
             [
              1,
              "#f0f921"
             ]
            ],
            "type": "histogram2d"
           }
          ],
          "histogram2dcontour": [
           {
            "colorbar": {
             "outlinewidth": 0,
             "ticks": ""
            },
            "colorscale": [
             [
              0,
              "#0d0887"
             ],
             [
              0.1111111111111111,
              "#46039f"
             ],
             [
              0.2222222222222222,
              "#7201a8"
             ],
             [
              0.3333333333333333,
              "#9c179e"
             ],
             [
              0.4444444444444444,
              "#bd3786"
             ],
             [
              0.5555555555555556,
              "#d8576b"
             ],
             [
              0.6666666666666666,
              "#ed7953"
             ],
             [
              0.7777777777777778,
              "#fb9f3a"
             ],
             [
              0.8888888888888888,
              "#fdca26"
             ],
             [
              1,
              "#f0f921"
             ]
            ],
            "type": "histogram2dcontour"
           }
          ],
          "mesh3d": [
           {
            "colorbar": {
             "outlinewidth": 0,
             "ticks": ""
            },
            "type": "mesh3d"
           }
          ],
          "parcoords": [
           {
            "line": {
             "colorbar": {
              "outlinewidth": 0,
              "ticks": ""
             }
            },
            "type": "parcoords"
           }
          ],
          "pie": [
           {
            "automargin": true,
            "type": "pie"
           }
          ],
          "scatter": [
           {
            "fillpattern": {
             "fillmode": "overlay",
             "size": 10,
             "solidity": 0.2
            },
            "type": "scatter"
           }
          ],
          "scatter3d": [
           {
            "line": {
             "colorbar": {
              "outlinewidth": 0,
              "ticks": ""
             }
            },
            "marker": {
             "colorbar": {
              "outlinewidth": 0,
              "ticks": ""
             }
            },
            "type": "scatter3d"
           }
          ],
          "scattercarpet": [
           {
            "marker": {
             "colorbar": {
              "outlinewidth": 0,
              "ticks": ""
             }
            },
            "type": "scattercarpet"
           }
          ],
          "scattergeo": [
           {
            "marker": {
             "colorbar": {
              "outlinewidth": 0,
              "ticks": ""
             }
            },
            "type": "scattergeo"
           }
          ],
          "scattergl": [
           {
            "marker": {
             "colorbar": {
              "outlinewidth": 0,
              "ticks": ""
             }
            },
            "type": "scattergl"
           }
          ],
          "scattermapbox": [
           {
            "marker": {
             "colorbar": {
              "outlinewidth": 0,
              "ticks": ""
             }
            },
            "type": "scattermapbox"
           }
          ],
          "scatterpolar": [
           {
            "marker": {
             "colorbar": {
              "outlinewidth": 0,
              "ticks": ""
             }
            },
            "type": "scatterpolar"
           }
          ],
          "scatterpolargl": [
           {
            "marker": {
             "colorbar": {
              "outlinewidth": 0,
              "ticks": ""
             }
            },
            "type": "scatterpolargl"
           }
          ],
          "scatterternary": [
           {
            "marker": {
             "colorbar": {
              "outlinewidth": 0,
              "ticks": ""
             }
            },
            "type": "scatterternary"
           }
          ],
          "surface": [
           {
            "colorbar": {
             "outlinewidth": 0,
             "ticks": ""
            },
            "colorscale": [
             [
              0,
              "#0d0887"
             ],
             [
              0.1111111111111111,
              "#46039f"
             ],
             [
              0.2222222222222222,
              "#7201a8"
             ],
             [
              0.3333333333333333,
              "#9c179e"
             ],
             [
              0.4444444444444444,
              "#bd3786"
             ],
             [
              0.5555555555555556,
              "#d8576b"
             ],
             [
              0.6666666666666666,
              "#ed7953"
             ],
             [
              0.7777777777777778,
              "#fb9f3a"
             ],
             [
              0.8888888888888888,
              "#fdca26"
             ],
             [
              1,
              "#f0f921"
             ]
            ],
            "type": "surface"
           }
          ],
          "table": [
           {
            "cells": {
             "fill": {
              "color": "#EBF0F8"
             },
             "line": {
              "color": "white"
             }
            },
            "header": {
             "fill": {
              "color": "#C8D4E3"
             },
             "line": {
              "color": "white"
             }
            },
            "type": "table"
           }
          ]
         },
         "layout": {
          "annotationdefaults": {
           "arrowcolor": "#2a3f5f",
           "arrowhead": 0,
           "arrowwidth": 1
          },
          "autotypenumbers": "strict",
          "coloraxis": {
           "colorbar": {
            "outlinewidth": 0,
            "ticks": ""
           }
          },
          "colorscale": {
           "diverging": [
            [
             0,
             "#8e0152"
            ],
            [
             0.1,
             "#c51b7d"
            ],
            [
             0.2,
             "#de77ae"
            ],
            [
             0.3,
             "#f1b6da"
            ],
            [
             0.4,
             "#fde0ef"
            ],
            [
             0.5,
             "#f7f7f7"
            ],
            [
             0.6,
             "#e6f5d0"
            ],
            [
             0.7,
             "#b8e186"
            ],
            [
             0.8,
             "#7fbc41"
            ],
            [
             0.9,
             "#4d9221"
            ],
            [
             1,
             "#276419"
            ]
           ],
           "sequential": [
            [
             0,
             "#0d0887"
            ],
            [
             0.1111111111111111,
             "#46039f"
            ],
            [
             0.2222222222222222,
             "#7201a8"
            ],
            [
             0.3333333333333333,
             "#9c179e"
            ],
            [
             0.4444444444444444,
             "#bd3786"
            ],
            [
             0.5555555555555556,
             "#d8576b"
            ],
            [
             0.6666666666666666,
             "#ed7953"
            ],
            [
             0.7777777777777778,
             "#fb9f3a"
            ],
            [
             0.8888888888888888,
             "#fdca26"
            ],
            [
             1,
             "#f0f921"
            ]
           ],
           "sequentialminus": [
            [
             0,
             "#0d0887"
            ],
            [
             0.1111111111111111,
             "#46039f"
            ],
            [
             0.2222222222222222,
             "#7201a8"
            ],
            [
             0.3333333333333333,
             "#9c179e"
            ],
            [
             0.4444444444444444,
             "#bd3786"
            ],
            [
             0.5555555555555556,
             "#d8576b"
            ],
            [
             0.6666666666666666,
             "#ed7953"
            ],
            [
             0.7777777777777778,
             "#fb9f3a"
            ],
            [
             0.8888888888888888,
             "#fdca26"
            ],
            [
             1,
             "#f0f921"
            ]
           ]
          },
          "colorway": [
           "#636efa",
           "#EF553B",
           "#00cc96",
           "#ab63fa",
           "#FFA15A",
           "#19d3f3",
           "#FF6692",
           "#B6E880",
           "#FF97FF",
           "#FECB52"
          ],
          "font": {
           "color": "#2a3f5f"
          },
          "geo": {
           "bgcolor": "white",
           "lakecolor": "white",
           "landcolor": "#E5ECF6",
           "showlakes": true,
           "showland": true,
           "subunitcolor": "white"
          },
          "hoverlabel": {
           "align": "left"
          },
          "hovermode": "closest",
          "mapbox": {
           "style": "light"
          },
          "paper_bgcolor": "white",
          "plot_bgcolor": "#E5ECF6",
          "polar": {
           "angularaxis": {
            "gridcolor": "white",
            "linecolor": "white",
            "ticks": ""
           },
           "bgcolor": "#E5ECF6",
           "radialaxis": {
            "gridcolor": "white",
            "linecolor": "white",
            "ticks": ""
           }
          },
          "scene": {
           "xaxis": {
            "backgroundcolor": "#E5ECF6",
            "gridcolor": "white",
            "gridwidth": 2,
            "linecolor": "white",
            "showbackground": true,
            "ticks": "",
            "zerolinecolor": "white"
           },
           "yaxis": {
            "backgroundcolor": "#E5ECF6",
            "gridcolor": "white",
            "gridwidth": 2,
            "linecolor": "white",
            "showbackground": true,
            "ticks": "",
            "zerolinecolor": "white"
           },
           "zaxis": {
            "backgroundcolor": "#E5ECF6",
            "gridcolor": "white",
            "gridwidth": 2,
            "linecolor": "white",
            "showbackground": true,
            "ticks": "",
            "zerolinecolor": "white"
           }
          },
          "shapedefaults": {
           "line": {
            "color": "#2a3f5f"
           }
          },
          "ternary": {
           "aaxis": {
            "gridcolor": "white",
            "linecolor": "white",
            "ticks": ""
           },
           "baxis": {
            "gridcolor": "white",
            "linecolor": "white",
            "ticks": ""
           },
           "bgcolor": "#E5ECF6",
           "caxis": {
            "gridcolor": "white",
            "linecolor": "white",
            "ticks": ""
           }
          },
          "title": {
           "x": 0.05
          },
          "xaxis": {
           "automargin": true,
           "gridcolor": "white",
           "linecolor": "white",
           "ticks": "",
           "title": {
            "standoff": 15
           },
           "zerolinecolor": "white",
           "zerolinewidth": 2
          },
          "yaxis": {
           "automargin": true,
           "gridcolor": "white",
           "linecolor": "white",
           "ticks": "",
           "title": {
            "standoff": 15
           },
           "zerolinecolor": "white",
           "zerolinewidth": 2
          }
         }
        },
        "title": {
         "font": {
          "color": "black",
          "size": 15
         },
         "text": "search() (free scale): mean time vs. n",
         "x": 0.5
        },
        "width": 300,
        "xaxis": {
         "anchor": "y",
         "color": "black",
         "domain": [
          0,
          1
         ],
         "gridcolor": "white",
         "linecolor": "black",
         "mirror": true,
         "ticksuffix": " ",
         "title": {
          "text": "n"
         }
        },
        "xaxis2": {
         "anchor": "y2",
         "color": "black",
         "domain": [
          0,
          1
         ],
         "gridcolor": "white",
         "linecolor": "black",
         "matches": "x",
         "mirror": true,
         "showticklabels": false,
         "ticksuffix": " "
        },
        "xaxis3": {
         "anchor": "y3",
         "color": "black",
         "domain": [
          0,
          1
         ],
         "gridcolor": "white",
         "linecolor": "black",
         "matches": "x",
         "mirror": true,
         "showticklabels": false,
         "ticksuffix": " "
        },
        "xaxis4": {
         "anchor": "y4",
         "color": "black",
         "domain": [
          0,
          1
         ],
         "gridcolor": "white",
         "linecolor": "black",
         "matches": "x",
         "mirror": true,
         "showticklabels": false,
         "ticksuffix": " "
        },
        "xaxis5": {
         "anchor": "y5",
         "color": "black",
         "domain": [
          0,
          1
         ],
         "gridcolor": "white",
         "linecolor": "black",
         "matches": "x",
         "mirror": true,
         "showticklabels": false,
         "ticksuffix": " "
        },
        "xaxis6": {
         "anchor": "y6",
         "color": "black",
         "domain": [
          0,
          1
         ],
         "gridcolor": "white",
         "linecolor": "black",
         "matches": "x",
         "mirror": true,
         "showticklabels": false,
         "ticksuffix": " "
        },
        "yaxis": {
         "anchor": "x",
         "color": "black",
         "domain": [
          0,
          0.10833333333333331
         ],
         "gridcolor": "white",
         "linecolor": "black",
         "mirror": true,
         "ticksuffix": " ",
         "title": {
          "text": "mean_time"
         },
         "visible": true
        },
        "yaxis2": {
         "anchor": "x2",
         "color": "black",
         "domain": [
          0.17833333333333332,
          0.2866666666666666
         ],
         "gridcolor": "white",
         "linecolor": "black",
         "mirror": true,
         "ticksuffix": " ",
         "title": {
          "text": "mean_time"
         }
        },
        "yaxis3": {
         "anchor": "x3",
         "color": "black",
         "domain": [
          0.35666666666666663,
          0.46499999999999997
         ],
         "gridcolor": "white",
         "linecolor": "black",
         "mirror": true,
         "ticksuffix": " ",
         "title": {
          "text": "mean_time"
         }
        },
        "yaxis4": {
         "anchor": "x4",
         "color": "black",
         "domain": [
          0.5349999999999999,
          0.6433333333333332
         ],
         "gridcolor": "white",
         "linecolor": "black",
         "mirror": true,
         "ticksuffix": " ",
         "title": {
          "text": "mean_time"
         }
        },
        "yaxis5": {
         "anchor": "x5",
         "color": "black",
         "domain": [
          0.7133333333333333,
          0.8216666666666665
         ],
         "gridcolor": "white",
         "linecolor": "black",
         "mirror": true,
         "ticksuffix": " ",
         "title": {
          "text": "mean_time"
         }
        },
        "yaxis6": {
         "anchor": "x6",
         "color": "black",
         "domain": [
          0.8916666666666666,
          0.9999999999999999
         ],
         "gridcolor": "white",
         "linecolor": "black",
         "mirror": true,
         "ticksuffix": " ",
         "title": {
          "text": "mean_time"
         }
        }
       }
      }
     },
     "metadata": {},
     "output_type": "display_data"
    }
   ],
   "source": [
    "fig = px.line(search,\n",
    "              x = 'n', \n",
    "              y = 'mean_time',\n",
    "              color = 'column',\n",
    "              facet_col='column',\n",
    "              facet_col_wrap=1,\n",
    "              facet_col_spacing=0.05,\n",
    "              color_discrete_sequence=[\"firebrick\"],\n",
    "              category_orders={\"column\": [\"id\", \"owner_id\", \"creation_date\", \"count\", \"name\", \"content\"]})\n",
    "\n",
    "fig.update_layout({\n",
    "    'plot_bgcolor': 'rgba(255, 255, 255, 255)',\n",
    "    'paper_bgcolor': 'rgba(255, 255, 255, 255)',\n",
    "    'yaxis':{'visible': True},\n",
    "    #'xaxis':{'type':'category'}\n",
    "    })\n",
    "\n",
    "# for_each annotation\n",
    "for anno in fig.layout.annotations:\n",
    "    anno.text = anno.text.split(\"=\")[-1]\n",
    "\n",
    "# do not match scales\n",
    "fig.update_yaxes(matches=None)\n",
    "\n",
    "fig.update_layout(\n",
    "    title_text=\"search() (free scale): mean time vs. n\",\n",
    "    title_x=0.5,\n",
    "    title_font_size=15,\n",
    "    title_font_color='black'\n",
    ")\n",
    "\n",
    "# increase vertical distance between facets\n",
    "fig.update_layout(margin=dict(l=20, r=20, t=50, b=20), height=600)\n",
    "\n",
    "fig.update_yaxes(ticksuffix = \" \",  linecolor = 'black', gridcolor = 'white', mirror = True, color = 'black')\n",
    "fig.update_xaxes(ticksuffix = \" \",  linecolor = 'black', gridcolor = 'white', mirror = True, color = 'black')\n",
    "fig.update_layout(width=300, height=800, showlegend=False)\n",
    "fig.show()\n",
    "\n",
    "fig.write_image(\"../images/search_scale-free.png\", scale=1)"
   ]
  },
  {
   "cell_type": "code",
   "execution_count": 21,
   "metadata": {},
   "outputs": [],
   "source": [
    "delete.sort_values(by=['n', 'mean_time'], inplace=True)"
   ]
  },
  {
   "cell_type": "code",
   "execution_count": 22,
   "metadata": {},
   "outputs": [
    {
     "data": {
      "application/vnd.plotly.v1+json": {
       "config": {
        "plotlyServerURL": "https://plot.ly"
       },
       "data": [
        {
         "hovertemplate": "column=id<br>n=%{x}<br>mean_time=%{y}<extra></extra>",
         "legendgroup": "id",
         "line": {
          "color": "firebrick",
          "dash": "solid"
         },
         "marker": {
          "symbol": "circle"
         },
         "mode": "lines",
         "name": "id",
         "orientation": "v",
         "showlegend": true,
         "type": "scatter",
         "x": [
          10,
          100,
          1000,
          10000,
          20000,
          30000,
          50000,
          70000,
          100000,
          200000,
          300000,
          400000,
          500000
         ],
         "xaxis": "x5",
         "y": [
          0.0000013283320835658482,
          0.000002792903355189732,
          0.00000854900905064174,
          0.0002691405160086,
          0.0009121554238455,
          0.001627036503383,
          0.0026151112147739,
          0.0039137090955461,
          0.006721087864467,
          0.000004700251988002232,
          0.000005517687116350446,
          0.000008174351283482143,
          0.000004495893205915179
         ],
         "yaxis": "y5"
        },
        {
         "hovertemplate": "column=owner_id<br>n=%{x}<br>mean_time=%{y}<extra></extra>",
         "legendgroup": "owner_id",
         "line": {
          "color": "firebrick",
          "dash": "solid"
         },
         "marker": {
          "symbol": "circle"
         },
         "mode": "lines",
         "name": "owner_id",
         "orientation": "v",
         "showlegend": true,
         "type": "scatter",
         "x": [
          10,
          100,
          1000,
          10000,
          20000,
          30000,
          50000,
          70000,
          100000,
          200000,
          300000,
          400000,
          500000
         ],
         "xaxis": "x6",
         "y": [
          0.000003147125244140625,
          0.000022602081298828124,
          0.0002666473388671,
          0.0036082744598388,
          0.0084133625030517,
          0.01340913772583,
          0.023776626586914,
          0.0345819950103759,
          0.0489900588989257,
          0.1081546783447265,
          0.1602308273315429,
          0.2131558418273925,
          0.2773750782012939
         ],
         "yaxis": "y6"
        },
        {
         "hovertemplate": "column=creation_date<br>n=%{x}<br>mean_time=%{y}<extra></extra>",
         "legendgroup": "creation_date",
         "line": {
          "color": "firebrick",
          "dash": "solid"
         },
         "marker": {
          "symbol": "circle"
         },
         "mode": "lines",
         "name": "creation_date",
         "orientation": "v",
         "showlegend": true,
         "type": "scatter",
         "x": [
          10,
          100,
          1000,
          10000,
          20000,
          30000,
          50000,
          70000,
          100000,
          200000,
          300000,
          400000,
          500000
         ],
         "xaxis": "x3",
         "y": [
          0.000009918212890625,
          0.00008878707885742187,
          0.000935935974121,
          0.010260534286499,
          0.0201308250427246,
          0.0306301593780517,
          0.0524617195129394,
          0.0773011684417724,
          0.1197284698486328,
          0.245385456085205,
          0.3401398181915283,
          0.449443244934082,
          0.5747802257537842
         ],
         "yaxis": "y3"
        },
        {
         "hovertemplate": "column=count<br>n=%{x}<br>mean_time=%{y}<extra></extra>",
         "legendgroup": "count",
         "line": {
          "color": "firebrick",
          "dash": "solid"
         },
         "marker": {
          "symbol": "circle"
         },
         "mode": "lines",
         "name": "count",
         "orientation": "v",
         "showlegend": true,
         "type": "scatter",
         "x": [
          10,
          100,
          1000,
          10000,
          20000,
          30000,
          50000,
          70000,
          100000,
          200000,
          300000,
          400000,
          500000
         ],
         "xaxis": "x4",
         "y": [
          0.000004243850708007813,
          0.000027799606323242183,
          0.000393533706665,
          0.0034924030303955,
          0.0087376594543457,
          0.0135791778564453,
          0.0230358123779296,
          0.0321181774139404,
          0.0491670131683349,
          0.107167911529541,
          0.1493106842041015,
          0.1967994213104248,
          0.2711819171905517
         ],
         "yaxis": "y4"
        },
        {
         "hovertemplate": "column=name<br>n=%{x}<br>mean_time=%{y}<extra></extra>",
         "legendgroup": "name",
         "line": {
          "color": "firebrick",
          "dash": "solid"
         },
         "marker": {
          "symbol": "circle"
         },
         "mode": "lines",
         "name": "name",
         "orientation": "v",
         "showlegend": true,
         "type": "scatter",
         "x": [
          10,
          100,
          1000,
          10000,
          20000,
          30000,
          50000,
          70000,
          100000,
          200000,
          300000,
          400000,
          500000
         ],
         "xaxis": "x",
         "y": [
          0.000012063980102539065,
          0.0001196861267089,
          0.0012720108032226,
          0.0109169483184814,
          0.023009443283081,
          0.034632921218872,
          0.0630690097808837,
          0.084373140335083,
          0.1205783367156982,
          0.2414609909057617,
          0.3666178226470947,
          0.4949758052825928,
          0.6368760108947754
         ],
         "yaxis": "y"
        },
        {
         "hovertemplate": "column=content<br>n=%{x}<br>mean_time=%{y}<extra></extra>",
         "legendgroup": "content",
         "line": {
          "color": "firebrick",
          "dash": "solid"
         },
         "marker": {
          "symbol": "circle"
         },
         "mode": "lines",
         "name": "content",
         "orientation": "v",
         "showlegend": true,
         "type": "scatter",
         "x": [
          10,
          100,
          1000,
          10000,
          20000,
          30000,
          50000,
          70000,
          100000,
          200000,
          300000,
          400000,
          500000
         ],
         "xaxis": "x2",
         "y": [
          0.0000827789306640625,
          0.0009763717651367,
          0.0126267910003662,
          0.1021255493164062,
          0.2025648117065429,
          0.3050230026245117,
          0.5271435737609863,
          0.7216861248016357,
          1.0480459690093995,
          2.08095121383667,
          3.1818165302276613,
          4.184220218658448,
          5.1766037940979
         ],
         "yaxis": "y2"
        }
       ],
       "layout": {
        "annotations": [
         {
          "font": {},
          "showarrow": false,
          "text": "name",
          "x": 0.2375,
          "xanchor": "center",
          "xref": "paper",
          "y": 0.2866666666666666,
          "yanchor": "bottom",
          "yref": "paper"
         },
         {
          "font": {},
          "showarrow": false,
          "text": "content",
          "x": 0.7625,
          "xanchor": "center",
          "xref": "paper",
          "y": 0.2866666666666666,
          "yanchor": "bottom",
          "yref": "paper"
         },
         {
          "font": {},
          "showarrow": false,
          "text": "creation_date",
          "x": 0.2375,
          "xanchor": "center",
          "xref": "paper",
          "y": 0.6433333333333333,
          "yanchor": "bottom",
          "yref": "paper"
         },
         {
          "font": {},
          "showarrow": false,
          "text": "count",
          "x": 0.7625,
          "xanchor": "center",
          "xref": "paper",
          "y": 0.6433333333333333,
          "yanchor": "bottom",
          "yref": "paper"
         },
         {
          "font": {},
          "showarrow": false,
          "text": "id",
          "x": 0.2375,
          "xanchor": "center",
          "xref": "paper",
          "y": 0.9999999999999999,
          "yanchor": "bottom",
          "yref": "paper"
         },
         {
          "font": {},
          "showarrow": false,
          "text": "owner_id",
          "x": 0.7625,
          "xanchor": "center",
          "xref": "paper",
          "y": 0.9999999999999999,
          "yanchor": "bottom",
          "yref": "paper"
         }
        ],
        "height": 500,
        "legend": {
         "title": {
          "text": "column"
         },
         "tracegroupgap": 0
        },
        "margin": {
         "b": 20,
         "l": 20,
         "r": 20,
         "t": 50
        },
        "paper_bgcolor": "rgba(255, 255, 255, 255)",
        "plot_bgcolor": "rgba(255, 255, 255, 255)",
        "showlegend": false,
        "template": {
         "data": {
          "bar": [
           {
            "error_x": {
             "color": "#2a3f5f"
            },
            "error_y": {
             "color": "#2a3f5f"
            },
            "marker": {
             "line": {
              "color": "#E5ECF6",
              "width": 0.5
             },
             "pattern": {
              "fillmode": "overlay",
              "size": 10,
              "solidity": 0.2
             }
            },
            "type": "bar"
           }
          ],
          "barpolar": [
           {
            "marker": {
             "line": {
              "color": "#E5ECF6",
              "width": 0.5
             },
             "pattern": {
              "fillmode": "overlay",
              "size": 10,
              "solidity": 0.2
             }
            },
            "type": "barpolar"
           }
          ],
          "carpet": [
           {
            "aaxis": {
             "endlinecolor": "#2a3f5f",
             "gridcolor": "white",
             "linecolor": "white",
             "minorgridcolor": "white",
             "startlinecolor": "#2a3f5f"
            },
            "baxis": {
             "endlinecolor": "#2a3f5f",
             "gridcolor": "white",
             "linecolor": "white",
             "minorgridcolor": "white",
             "startlinecolor": "#2a3f5f"
            },
            "type": "carpet"
           }
          ],
          "choropleth": [
           {
            "colorbar": {
             "outlinewidth": 0,
             "ticks": ""
            },
            "type": "choropleth"
           }
          ],
          "contour": [
           {
            "colorbar": {
             "outlinewidth": 0,
             "ticks": ""
            },
            "colorscale": [
             [
              0,
              "#0d0887"
             ],
             [
              0.1111111111111111,
              "#46039f"
             ],
             [
              0.2222222222222222,
              "#7201a8"
             ],
             [
              0.3333333333333333,
              "#9c179e"
             ],
             [
              0.4444444444444444,
              "#bd3786"
             ],
             [
              0.5555555555555556,
              "#d8576b"
             ],
             [
              0.6666666666666666,
              "#ed7953"
             ],
             [
              0.7777777777777778,
              "#fb9f3a"
             ],
             [
              0.8888888888888888,
              "#fdca26"
             ],
             [
              1,
              "#f0f921"
             ]
            ],
            "type": "contour"
           }
          ],
          "contourcarpet": [
           {
            "colorbar": {
             "outlinewidth": 0,
             "ticks": ""
            },
            "type": "contourcarpet"
           }
          ],
          "heatmap": [
           {
            "colorbar": {
             "outlinewidth": 0,
             "ticks": ""
            },
            "colorscale": [
             [
              0,
              "#0d0887"
             ],
             [
              0.1111111111111111,
              "#46039f"
             ],
             [
              0.2222222222222222,
              "#7201a8"
             ],
             [
              0.3333333333333333,
              "#9c179e"
             ],
             [
              0.4444444444444444,
              "#bd3786"
             ],
             [
              0.5555555555555556,
              "#d8576b"
             ],
             [
              0.6666666666666666,
              "#ed7953"
             ],
             [
              0.7777777777777778,
              "#fb9f3a"
             ],
             [
              0.8888888888888888,
              "#fdca26"
             ],
             [
              1,
              "#f0f921"
             ]
            ],
            "type": "heatmap"
           }
          ],
          "heatmapgl": [
           {
            "colorbar": {
             "outlinewidth": 0,
             "ticks": ""
            },
            "colorscale": [
             [
              0,
              "#0d0887"
             ],
             [
              0.1111111111111111,
              "#46039f"
             ],
             [
              0.2222222222222222,
              "#7201a8"
             ],
             [
              0.3333333333333333,
              "#9c179e"
             ],
             [
              0.4444444444444444,
              "#bd3786"
             ],
             [
              0.5555555555555556,
              "#d8576b"
             ],
             [
              0.6666666666666666,
              "#ed7953"
             ],
             [
              0.7777777777777778,
              "#fb9f3a"
             ],
             [
              0.8888888888888888,
              "#fdca26"
             ],
             [
              1,
              "#f0f921"
             ]
            ],
            "type": "heatmapgl"
           }
          ],
          "histogram": [
           {
            "marker": {
             "pattern": {
              "fillmode": "overlay",
              "size": 10,
              "solidity": 0.2
             }
            },
            "type": "histogram"
           }
          ],
          "histogram2d": [
           {
            "colorbar": {
             "outlinewidth": 0,
             "ticks": ""
            },
            "colorscale": [
             [
              0,
              "#0d0887"
             ],
             [
              0.1111111111111111,
              "#46039f"
             ],
             [
              0.2222222222222222,
              "#7201a8"
             ],
             [
              0.3333333333333333,
              "#9c179e"
             ],
             [
              0.4444444444444444,
              "#bd3786"
             ],
             [
              0.5555555555555556,
              "#d8576b"
             ],
             [
              0.6666666666666666,
              "#ed7953"
             ],
             [
              0.7777777777777778,
              "#fb9f3a"
             ],
             [
              0.8888888888888888,
              "#fdca26"
             ],
             [
              1,
              "#f0f921"
             ]
            ],
            "type": "histogram2d"
           }
          ],
          "histogram2dcontour": [
           {
            "colorbar": {
             "outlinewidth": 0,
             "ticks": ""
            },
            "colorscale": [
             [
              0,
              "#0d0887"
             ],
             [
              0.1111111111111111,
              "#46039f"
             ],
             [
              0.2222222222222222,
              "#7201a8"
             ],
             [
              0.3333333333333333,
              "#9c179e"
             ],
             [
              0.4444444444444444,
              "#bd3786"
             ],
             [
              0.5555555555555556,
              "#d8576b"
             ],
             [
              0.6666666666666666,
              "#ed7953"
             ],
             [
              0.7777777777777778,
              "#fb9f3a"
             ],
             [
              0.8888888888888888,
              "#fdca26"
             ],
             [
              1,
              "#f0f921"
             ]
            ],
            "type": "histogram2dcontour"
           }
          ],
          "mesh3d": [
           {
            "colorbar": {
             "outlinewidth": 0,
             "ticks": ""
            },
            "type": "mesh3d"
           }
          ],
          "parcoords": [
           {
            "line": {
             "colorbar": {
              "outlinewidth": 0,
              "ticks": ""
             }
            },
            "type": "parcoords"
           }
          ],
          "pie": [
           {
            "automargin": true,
            "type": "pie"
           }
          ],
          "scatter": [
           {
            "fillpattern": {
             "fillmode": "overlay",
             "size": 10,
             "solidity": 0.2
            },
            "type": "scatter"
           }
          ],
          "scatter3d": [
           {
            "line": {
             "colorbar": {
              "outlinewidth": 0,
              "ticks": ""
             }
            },
            "marker": {
             "colorbar": {
              "outlinewidth": 0,
              "ticks": ""
             }
            },
            "type": "scatter3d"
           }
          ],
          "scattercarpet": [
           {
            "marker": {
             "colorbar": {
              "outlinewidth": 0,
              "ticks": ""
             }
            },
            "type": "scattercarpet"
           }
          ],
          "scattergeo": [
           {
            "marker": {
             "colorbar": {
              "outlinewidth": 0,
              "ticks": ""
             }
            },
            "type": "scattergeo"
           }
          ],
          "scattergl": [
           {
            "marker": {
             "colorbar": {
              "outlinewidth": 0,
              "ticks": ""
             }
            },
            "type": "scattergl"
           }
          ],
          "scattermapbox": [
           {
            "marker": {
             "colorbar": {
              "outlinewidth": 0,
              "ticks": ""
             }
            },
            "type": "scattermapbox"
           }
          ],
          "scatterpolar": [
           {
            "marker": {
             "colorbar": {
              "outlinewidth": 0,
              "ticks": ""
             }
            },
            "type": "scatterpolar"
           }
          ],
          "scatterpolargl": [
           {
            "marker": {
             "colorbar": {
              "outlinewidth": 0,
              "ticks": ""
             }
            },
            "type": "scatterpolargl"
           }
          ],
          "scatterternary": [
           {
            "marker": {
             "colorbar": {
              "outlinewidth": 0,
              "ticks": ""
             }
            },
            "type": "scatterternary"
           }
          ],
          "surface": [
           {
            "colorbar": {
             "outlinewidth": 0,
             "ticks": ""
            },
            "colorscale": [
             [
              0,
              "#0d0887"
             ],
             [
              0.1111111111111111,
              "#46039f"
             ],
             [
              0.2222222222222222,
              "#7201a8"
             ],
             [
              0.3333333333333333,
              "#9c179e"
             ],
             [
              0.4444444444444444,
              "#bd3786"
             ],
             [
              0.5555555555555556,
              "#d8576b"
             ],
             [
              0.6666666666666666,
              "#ed7953"
             ],
             [
              0.7777777777777778,
              "#fb9f3a"
             ],
             [
              0.8888888888888888,
              "#fdca26"
             ],
             [
              1,
              "#f0f921"
             ]
            ],
            "type": "surface"
           }
          ],
          "table": [
           {
            "cells": {
             "fill": {
              "color": "#EBF0F8"
             },
             "line": {
              "color": "white"
             }
            },
            "header": {
             "fill": {
              "color": "#C8D4E3"
             },
             "line": {
              "color": "white"
             }
            },
            "type": "table"
           }
          ]
         },
         "layout": {
          "annotationdefaults": {
           "arrowcolor": "#2a3f5f",
           "arrowhead": 0,
           "arrowwidth": 1
          },
          "autotypenumbers": "strict",
          "coloraxis": {
           "colorbar": {
            "outlinewidth": 0,
            "ticks": ""
           }
          },
          "colorscale": {
           "diverging": [
            [
             0,
             "#8e0152"
            ],
            [
             0.1,
             "#c51b7d"
            ],
            [
             0.2,
             "#de77ae"
            ],
            [
             0.3,
             "#f1b6da"
            ],
            [
             0.4,
             "#fde0ef"
            ],
            [
             0.5,
             "#f7f7f7"
            ],
            [
             0.6,
             "#e6f5d0"
            ],
            [
             0.7,
             "#b8e186"
            ],
            [
             0.8,
             "#7fbc41"
            ],
            [
             0.9,
             "#4d9221"
            ],
            [
             1,
             "#276419"
            ]
           ],
           "sequential": [
            [
             0,
             "#0d0887"
            ],
            [
             0.1111111111111111,
             "#46039f"
            ],
            [
             0.2222222222222222,
             "#7201a8"
            ],
            [
             0.3333333333333333,
             "#9c179e"
            ],
            [
             0.4444444444444444,
             "#bd3786"
            ],
            [
             0.5555555555555556,
             "#d8576b"
            ],
            [
             0.6666666666666666,
             "#ed7953"
            ],
            [
             0.7777777777777778,
             "#fb9f3a"
            ],
            [
             0.8888888888888888,
             "#fdca26"
            ],
            [
             1,
             "#f0f921"
            ]
           ],
           "sequentialminus": [
            [
             0,
             "#0d0887"
            ],
            [
             0.1111111111111111,
             "#46039f"
            ],
            [
             0.2222222222222222,
             "#7201a8"
            ],
            [
             0.3333333333333333,
             "#9c179e"
            ],
            [
             0.4444444444444444,
             "#bd3786"
            ],
            [
             0.5555555555555556,
             "#d8576b"
            ],
            [
             0.6666666666666666,
             "#ed7953"
            ],
            [
             0.7777777777777778,
             "#fb9f3a"
            ],
            [
             0.8888888888888888,
             "#fdca26"
            ],
            [
             1,
             "#f0f921"
            ]
           ]
          },
          "colorway": [
           "#636efa",
           "#EF553B",
           "#00cc96",
           "#ab63fa",
           "#FFA15A",
           "#19d3f3",
           "#FF6692",
           "#B6E880",
           "#FF97FF",
           "#FECB52"
          ],
          "font": {
           "color": "#2a3f5f"
          },
          "geo": {
           "bgcolor": "white",
           "lakecolor": "white",
           "landcolor": "#E5ECF6",
           "showlakes": true,
           "showland": true,
           "subunitcolor": "white"
          },
          "hoverlabel": {
           "align": "left"
          },
          "hovermode": "closest",
          "mapbox": {
           "style": "light"
          },
          "paper_bgcolor": "white",
          "plot_bgcolor": "#E5ECF6",
          "polar": {
           "angularaxis": {
            "gridcolor": "white",
            "linecolor": "white",
            "ticks": ""
           },
           "bgcolor": "#E5ECF6",
           "radialaxis": {
            "gridcolor": "white",
            "linecolor": "white",
            "ticks": ""
           }
          },
          "scene": {
           "xaxis": {
            "backgroundcolor": "#E5ECF6",
            "gridcolor": "white",
            "gridwidth": 2,
            "linecolor": "white",
            "showbackground": true,
            "ticks": "",
            "zerolinecolor": "white"
           },
           "yaxis": {
            "backgroundcolor": "#E5ECF6",
            "gridcolor": "white",
            "gridwidth": 2,
            "linecolor": "white",
            "showbackground": true,
            "ticks": "",
            "zerolinecolor": "white"
           },
           "zaxis": {
            "backgroundcolor": "#E5ECF6",
            "gridcolor": "white",
            "gridwidth": 2,
            "linecolor": "white",
            "showbackground": true,
            "ticks": "",
            "zerolinecolor": "white"
           }
          },
          "shapedefaults": {
           "line": {
            "color": "#2a3f5f"
           }
          },
          "ternary": {
           "aaxis": {
            "gridcolor": "white",
            "linecolor": "white",
            "ticks": ""
           },
           "baxis": {
            "gridcolor": "white",
            "linecolor": "white",
            "ticks": ""
           },
           "bgcolor": "#E5ECF6",
           "caxis": {
            "gridcolor": "white",
            "linecolor": "white",
            "ticks": ""
           }
          },
          "title": {
           "x": 0.05
          },
          "xaxis": {
           "automargin": true,
           "gridcolor": "white",
           "linecolor": "white",
           "ticks": "",
           "title": {
            "standoff": 15
           },
           "zerolinecolor": "white",
           "zerolinewidth": 2
          },
          "yaxis": {
           "automargin": true,
           "gridcolor": "white",
           "linecolor": "white",
           "ticks": "",
           "title": {
            "standoff": 15
           },
           "zerolinecolor": "white",
           "zerolinewidth": 2
          }
         }
        },
        "title": {
         "font": {
          "color": "black",
          "size": 20
         },
         "text": "delete_row() : mean time vs. n",
         "x": 0.5
        },
        "width": 500,
        "xaxis": {
         "anchor": "y",
         "color": "black",
         "domain": [
          0,
          0.475
         ],
         "gridcolor": "white",
         "linecolor": "black",
         "mirror": true,
         "ticksuffix": " ",
         "title": {
          "text": "n"
         }
        },
        "xaxis2": {
         "anchor": "y2",
         "color": "black",
         "domain": [
          0.525,
          1
         ],
         "gridcolor": "white",
         "linecolor": "black",
         "matches": "x",
         "mirror": true,
         "ticksuffix": " ",
         "title": {
          "text": "n"
         }
        },
        "xaxis3": {
         "anchor": "y3",
         "color": "black",
         "domain": [
          0,
          0.475
         ],
         "gridcolor": "white",
         "linecolor": "black",
         "matches": "x",
         "mirror": true,
         "showticklabels": false,
         "ticksuffix": " "
        },
        "xaxis4": {
         "anchor": "y4",
         "color": "black",
         "domain": [
          0.525,
          1
         ],
         "gridcolor": "white",
         "linecolor": "black",
         "matches": "x",
         "mirror": true,
         "showticklabels": false,
         "ticksuffix": " "
        },
        "xaxis5": {
         "anchor": "y5",
         "color": "black",
         "domain": [
          0,
          0.475
         ],
         "gridcolor": "white",
         "linecolor": "black",
         "matches": "x",
         "mirror": true,
         "showticklabels": false,
         "ticksuffix": " "
        },
        "xaxis6": {
         "anchor": "y6",
         "color": "black",
         "domain": [
          0.525,
          1
         ],
         "gridcolor": "white",
         "linecolor": "black",
         "matches": "x",
         "mirror": true,
         "showticklabels": false,
         "ticksuffix": " "
        },
        "yaxis": {
         "anchor": "x",
         "color": "black",
         "domain": [
          0,
          0.2866666666666666
         ],
         "gridcolor": "white",
         "linecolor": "black",
         "mirror": true,
         "ticksuffix": " ",
         "title": {
          "text": "mean_time"
         },
         "visible": true
        },
        "yaxis2": {
         "anchor": "x2",
         "color": "black",
         "domain": [
          0,
          0.2866666666666666
         ],
         "gridcolor": "white",
         "linecolor": "black",
         "matches": "y",
         "mirror": true,
         "showticklabels": false,
         "ticksuffix": " "
        },
        "yaxis3": {
         "anchor": "x3",
         "color": "black",
         "domain": [
          0.35666666666666663,
          0.6433333333333333
         ],
         "gridcolor": "white",
         "linecolor": "black",
         "matches": "y",
         "mirror": true,
         "ticksuffix": " ",
         "title": {
          "text": "mean_time"
         }
        },
        "yaxis4": {
         "anchor": "x4",
         "color": "black",
         "domain": [
          0.35666666666666663,
          0.6433333333333333
         ],
         "gridcolor": "white",
         "linecolor": "black",
         "matches": "y",
         "mirror": true,
         "showticklabels": false,
         "ticksuffix": " "
        },
        "yaxis5": {
         "anchor": "x5",
         "color": "black",
         "domain": [
          0.7133333333333333,
          0.9999999999999999
         ],
         "gridcolor": "white",
         "linecolor": "black",
         "matches": "y",
         "mirror": true,
         "ticksuffix": " ",
         "title": {
          "text": "mean_time"
         }
        },
        "yaxis6": {
         "anchor": "x6",
         "color": "black",
         "domain": [
          0.7133333333333333,
          0.9999999999999999
         ],
         "gridcolor": "white",
         "linecolor": "black",
         "matches": "y",
         "mirror": true,
         "showticklabels": false,
         "ticksuffix": " "
        }
       }
      }
     },
     "metadata": {},
     "output_type": "display_data"
    }
   ],
   "source": [
    "fig = px.line(delete,\n",
    "              x = 'n', \n",
    "              y = 'mean_time',\n",
    "              color = 'column',\n",
    "              facet_col='column',\n",
    "              facet_col_wrap=2,\n",
    "              facet_col_spacing=0.05,\n",
    "              color_discrete_sequence=[\"firebrick\"],\n",
    "              category_orders={\"column\": [\"id\", \"owner_id\", \"creation_date\", \"count\", \"name\", \"content\"]})\n",
    "\n",
    "fig.update_layout({\n",
    "    'plot_bgcolor': 'rgba(255, 255, 255, 255)',\n",
    "    'paper_bgcolor': 'rgba(255, 255, 255, 255)',\n",
    "    'yaxis':{'visible': True}\n",
    "    #'xaxis':{'type':'category'}\n",
    "    })\n",
    "\n",
    "fig.update_layout(\n",
    "    title_text=\"delete_row() : mean time vs. n\",\n",
    "    title_x=0.5,\n",
    "    title_font_size=20,\n",
    "    title_font_color='black'\n",
    ")\n",
    "\n",
    "# for_each annotation\n",
    "for anno in fig.layout.annotations:\n",
    "    anno.text = anno.text.split(\"=\")[-1]\n",
    "\n",
    "# increase vertical distance between facets\n",
    "fig.update_layout(margin=dict(l=20, r=20, t=50, b=20), height=600)\n",
    "\n",
    "fig.update_yaxes(ticksuffix = \" \",  linecolor = 'black', gridcolor = 'white', mirror = True, color = 'black')\n",
    "fig.update_xaxes(ticksuffix = \" \",  linecolor = 'black', gridcolor = 'white', mirror = True, color = 'black')\n",
    "fig.update_layout(width=500, height=500, showlegend=False)\n",
    "fig.show()\n",
    "\n",
    "fig.write_image(\"../images/delete_fix-scale.png\", scale=1)"
   ]
  },
  {
   "cell_type": "code",
   "execution_count": 23,
   "metadata": {},
   "outputs": [
    {
     "data": {
      "application/vnd.plotly.v1+json": {
       "config": {
        "plotlyServerURL": "https://plot.ly"
       },
       "data": [
        {
         "hovertemplate": "column=id<br>n=%{x}<br>mean_time=%{y}<extra></extra>",
         "legendgroup": "id",
         "line": {
          "color": "firebrick",
          "dash": "solid"
         },
         "marker": {
          "symbol": "circle"
         },
         "mode": "lines",
         "name": "id",
         "orientation": "v",
         "showlegend": true,
         "type": "scatter",
         "x": [
          10,
          100,
          1000,
          10000,
          20000,
          30000,
          50000,
          70000,
          100000,
          200000,
          300000,
          400000,
          500000
         ],
         "xaxis": "x6",
         "y": [
          0.0000013283320835658482,
          0.000002792903355189732,
          0.00000854900905064174,
          0.0002691405160086,
          0.0009121554238455,
          0.001627036503383,
          0.0026151112147739,
          0.0039137090955461,
          0.006721087864467,
          0.000004700251988002232,
          0.000005517687116350446,
          0.000008174351283482143,
          0.000004495893205915179
         ],
         "yaxis": "y6"
        },
        {
         "hovertemplate": "column=owner_id<br>n=%{x}<br>mean_time=%{y}<extra></extra>",
         "legendgroup": "owner_id",
         "line": {
          "color": "firebrick",
          "dash": "solid"
         },
         "marker": {
          "symbol": "circle"
         },
         "mode": "lines",
         "name": "owner_id",
         "orientation": "v",
         "showlegend": true,
         "type": "scatter",
         "x": [
          10,
          100,
          1000,
          10000,
          20000,
          30000,
          50000,
          70000,
          100000,
          200000,
          300000,
          400000,
          500000
         ],
         "xaxis": "x5",
         "y": [
          0.000003147125244140625,
          0.000022602081298828124,
          0.0002666473388671,
          0.0036082744598388,
          0.0084133625030517,
          0.01340913772583,
          0.023776626586914,
          0.0345819950103759,
          0.0489900588989257,
          0.1081546783447265,
          0.1602308273315429,
          0.2131558418273925,
          0.2773750782012939
         ],
         "yaxis": "y5"
        },
        {
         "hovertemplate": "column=creation_date<br>n=%{x}<br>mean_time=%{y}<extra></extra>",
         "legendgroup": "creation_date",
         "line": {
          "color": "firebrick",
          "dash": "solid"
         },
         "marker": {
          "symbol": "circle"
         },
         "mode": "lines",
         "name": "creation_date",
         "orientation": "v",
         "showlegend": true,
         "type": "scatter",
         "x": [
          10,
          100,
          1000,
          10000,
          20000,
          30000,
          50000,
          70000,
          100000,
          200000,
          300000,
          400000,
          500000
         ],
         "xaxis": "x4",
         "y": [
          0.000009918212890625,
          0.00008878707885742187,
          0.000935935974121,
          0.010260534286499,
          0.0201308250427246,
          0.0306301593780517,
          0.0524617195129394,
          0.0773011684417724,
          0.1197284698486328,
          0.245385456085205,
          0.3401398181915283,
          0.449443244934082,
          0.5747802257537842
         ],
         "yaxis": "y4"
        },
        {
         "hovertemplate": "column=count<br>n=%{x}<br>mean_time=%{y}<extra></extra>",
         "legendgroup": "count",
         "line": {
          "color": "firebrick",
          "dash": "solid"
         },
         "marker": {
          "symbol": "circle"
         },
         "mode": "lines",
         "name": "count",
         "orientation": "v",
         "showlegend": true,
         "type": "scatter",
         "x": [
          10,
          100,
          1000,
          10000,
          20000,
          30000,
          50000,
          70000,
          100000,
          200000,
          300000,
          400000,
          500000
         ],
         "xaxis": "x3",
         "y": [
          0.000004243850708007813,
          0.000027799606323242183,
          0.000393533706665,
          0.0034924030303955,
          0.0087376594543457,
          0.0135791778564453,
          0.0230358123779296,
          0.0321181774139404,
          0.0491670131683349,
          0.107167911529541,
          0.1493106842041015,
          0.1967994213104248,
          0.2711819171905517
         ],
         "yaxis": "y3"
        },
        {
         "hovertemplate": "column=name<br>n=%{x}<br>mean_time=%{y}<extra></extra>",
         "legendgroup": "name",
         "line": {
          "color": "firebrick",
          "dash": "solid"
         },
         "marker": {
          "symbol": "circle"
         },
         "mode": "lines",
         "name": "name",
         "orientation": "v",
         "showlegend": true,
         "type": "scatter",
         "x": [
          10,
          100,
          1000,
          10000,
          20000,
          30000,
          50000,
          70000,
          100000,
          200000,
          300000,
          400000,
          500000
         ],
         "xaxis": "x2",
         "y": [
          0.000012063980102539065,
          0.0001196861267089,
          0.0012720108032226,
          0.0109169483184814,
          0.023009443283081,
          0.034632921218872,
          0.0630690097808837,
          0.084373140335083,
          0.1205783367156982,
          0.2414609909057617,
          0.3666178226470947,
          0.4949758052825928,
          0.6368760108947754
         ],
         "yaxis": "y2"
        },
        {
         "hovertemplate": "column=content<br>n=%{x}<br>mean_time=%{y}<extra></extra>",
         "legendgroup": "content",
         "line": {
          "color": "firebrick",
          "dash": "solid"
         },
         "marker": {
          "symbol": "circle"
         },
         "mode": "lines",
         "name": "content",
         "orientation": "v",
         "showlegend": true,
         "type": "scatter",
         "x": [
          10,
          100,
          1000,
          10000,
          20000,
          30000,
          50000,
          70000,
          100000,
          200000,
          300000,
          400000,
          500000
         ],
         "xaxis": "x",
         "y": [
          0.0000827789306640625,
          0.0009763717651367,
          0.0126267910003662,
          0.1021255493164062,
          0.2025648117065429,
          0.3050230026245117,
          0.5271435737609863,
          0.7216861248016357,
          1.0480459690093995,
          2.08095121383667,
          3.1818165302276613,
          4.184220218658448,
          5.1766037940979
         ],
         "yaxis": "y"
        }
       ],
       "layout": {
        "annotations": [
         {
          "font": {},
          "showarrow": false,
          "text": "content",
          "x": 0.5,
          "xanchor": "center",
          "xref": "paper",
          "y": 0.10833333333333331,
          "yanchor": "bottom",
          "yref": "paper"
         },
         {
          "font": {},
          "showarrow": false,
          "text": "name",
          "x": 0.5,
          "xanchor": "center",
          "xref": "paper",
          "y": 0.2866666666666666,
          "yanchor": "bottom",
          "yref": "paper"
         },
         {
          "font": {},
          "showarrow": false,
          "text": "count",
          "x": 0.5,
          "xanchor": "center",
          "xref": "paper",
          "y": 0.46499999999999997,
          "yanchor": "bottom",
          "yref": "paper"
         },
         {
          "font": {},
          "showarrow": false,
          "text": "creation_date",
          "x": 0.5,
          "xanchor": "center",
          "xref": "paper",
          "y": 0.6433333333333332,
          "yanchor": "bottom",
          "yref": "paper"
         },
         {
          "font": {},
          "showarrow": false,
          "text": "owner_id",
          "x": 0.5,
          "xanchor": "center",
          "xref": "paper",
          "y": 0.8216666666666665,
          "yanchor": "bottom",
          "yref": "paper"
         },
         {
          "font": {},
          "showarrow": false,
          "text": "id",
          "x": 0.5,
          "xanchor": "center",
          "xref": "paper",
          "y": 0.9999999999999999,
          "yanchor": "bottom",
          "yref": "paper"
         }
        ],
        "height": 800,
        "legend": {
         "title": {
          "text": "column"
         },
         "tracegroupgap": 0
        },
        "margin": {
         "b": 20,
         "l": 20,
         "r": 20,
         "t": 50
        },
        "paper_bgcolor": "rgba(255, 255, 255, 255)",
        "plot_bgcolor": "rgba(255, 255, 255, 255)",
        "showlegend": false,
        "template": {
         "data": {
          "bar": [
           {
            "error_x": {
             "color": "#2a3f5f"
            },
            "error_y": {
             "color": "#2a3f5f"
            },
            "marker": {
             "line": {
              "color": "#E5ECF6",
              "width": 0.5
             },
             "pattern": {
              "fillmode": "overlay",
              "size": 10,
              "solidity": 0.2
             }
            },
            "type": "bar"
           }
          ],
          "barpolar": [
           {
            "marker": {
             "line": {
              "color": "#E5ECF6",
              "width": 0.5
             },
             "pattern": {
              "fillmode": "overlay",
              "size": 10,
              "solidity": 0.2
             }
            },
            "type": "barpolar"
           }
          ],
          "carpet": [
           {
            "aaxis": {
             "endlinecolor": "#2a3f5f",
             "gridcolor": "white",
             "linecolor": "white",
             "minorgridcolor": "white",
             "startlinecolor": "#2a3f5f"
            },
            "baxis": {
             "endlinecolor": "#2a3f5f",
             "gridcolor": "white",
             "linecolor": "white",
             "minorgridcolor": "white",
             "startlinecolor": "#2a3f5f"
            },
            "type": "carpet"
           }
          ],
          "choropleth": [
           {
            "colorbar": {
             "outlinewidth": 0,
             "ticks": ""
            },
            "type": "choropleth"
           }
          ],
          "contour": [
           {
            "colorbar": {
             "outlinewidth": 0,
             "ticks": ""
            },
            "colorscale": [
             [
              0,
              "#0d0887"
             ],
             [
              0.1111111111111111,
              "#46039f"
             ],
             [
              0.2222222222222222,
              "#7201a8"
             ],
             [
              0.3333333333333333,
              "#9c179e"
             ],
             [
              0.4444444444444444,
              "#bd3786"
             ],
             [
              0.5555555555555556,
              "#d8576b"
             ],
             [
              0.6666666666666666,
              "#ed7953"
             ],
             [
              0.7777777777777778,
              "#fb9f3a"
             ],
             [
              0.8888888888888888,
              "#fdca26"
             ],
             [
              1,
              "#f0f921"
             ]
            ],
            "type": "contour"
           }
          ],
          "contourcarpet": [
           {
            "colorbar": {
             "outlinewidth": 0,
             "ticks": ""
            },
            "type": "contourcarpet"
           }
          ],
          "heatmap": [
           {
            "colorbar": {
             "outlinewidth": 0,
             "ticks": ""
            },
            "colorscale": [
             [
              0,
              "#0d0887"
             ],
             [
              0.1111111111111111,
              "#46039f"
             ],
             [
              0.2222222222222222,
              "#7201a8"
             ],
             [
              0.3333333333333333,
              "#9c179e"
             ],
             [
              0.4444444444444444,
              "#bd3786"
             ],
             [
              0.5555555555555556,
              "#d8576b"
             ],
             [
              0.6666666666666666,
              "#ed7953"
             ],
             [
              0.7777777777777778,
              "#fb9f3a"
             ],
             [
              0.8888888888888888,
              "#fdca26"
             ],
             [
              1,
              "#f0f921"
             ]
            ],
            "type": "heatmap"
           }
          ],
          "heatmapgl": [
           {
            "colorbar": {
             "outlinewidth": 0,
             "ticks": ""
            },
            "colorscale": [
             [
              0,
              "#0d0887"
             ],
             [
              0.1111111111111111,
              "#46039f"
             ],
             [
              0.2222222222222222,
              "#7201a8"
             ],
             [
              0.3333333333333333,
              "#9c179e"
             ],
             [
              0.4444444444444444,
              "#bd3786"
             ],
             [
              0.5555555555555556,
              "#d8576b"
             ],
             [
              0.6666666666666666,
              "#ed7953"
             ],
             [
              0.7777777777777778,
              "#fb9f3a"
             ],
             [
              0.8888888888888888,
              "#fdca26"
             ],
             [
              1,
              "#f0f921"
             ]
            ],
            "type": "heatmapgl"
           }
          ],
          "histogram": [
           {
            "marker": {
             "pattern": {
              "fillmode": "overlay",
              "size": 10,
              "solidity": 0.2
             }
            },
            "type": "histogram"
           }
          ],
          "histogram2d": [
           {
            "colorbar": {
             "outlinewidth": 0,
             "ticks": ""
            },
            "colorscale": [
             [
              0,
              "#0d0887"
             ],
             [
              0.1111111111111111,
              "#46039f"
             ],
             [
              0.2222222222222222,
              "#7201a8"
             ],
             [
              0.3333333333333333,
              "#9c179e"
             ],
             [
              0.4444444444444444,
              "#bd3786"
             ],
             [
              0.5555555555555556,
              "#d8576b"
             ],
             [
              0.6666666666666666,
              "#ed7953"
             ],
             [
              0.7777777777777778,
              "#fb9f3a"
             ],
             [
              0.8888888888888888,
              "#fdca26"
             ],
             [
              1,
              "#f0f921"
             ]
            ],
            "type": "histogram2d"
           }
          ],
          "histogram2dcontour": [
           {
            "colorbar": {
             "outlinewidth": 0,
             "ticks": ""
            },
            "colorscale": [
             [
              0,
              "#0d0887"
             ],
             [
              0.1111111111111111,
              "#46039f"
             ],
             [
              0.2222222222222222,
              "#7201a8"
             ],
             [
              0.3333333333333333,
              "#9c179e"
             ],
             [
              0.4444444444444444,
              "#bd3786"
             ],
             [
              0.5555555555555556,
              "#d8576b"
             ],
             [
              0.6666666666666666,
              "#ed7953"
             ],
             [
              0.7777777777777778,
              "#fb9f3a"
             ],
             [
              0.8888888888888888,
              "#fdca26"
             ],
             [
              1,
              "#f0f921"
             ]
            ],
            "type": "histogram2dcontour"
           }
          ],
          "mesh3d": [
           {
            "colorbar": {
             "outlinewidth": 0,
             "ticks": ""
            },
            "type": "mesh3d"
           }
          ],
          "parcoords": [
           {
            "line": {
             "colorbar": {
              "outlinewidth": 0,
              "ticks": ""
             }
            },
            "type": "parcoords"
           }
          ],
          "pie": [
           {
            "automargin": true,
            "type": "pie"
           }
          ],
          "scatter": [
           {
            "fillpattern": {
             "fillmode": "overlay",
             "size": 10,
             "solidity": 0.2
            },
            "type": "scatter"
           }
          ],
          "scatter3d": [
           {
            "line": {
             "colorbar": {
              "outlinewidth": 0,
              "ticks": ""
             }
            },
            "marker": {
             "colorbar": {
              "outlinewidth": 0,
              "ticks": ""
             }
            },
            "type": "scatter3d"
           }
          ],
          "scattercarpet": [
           {
            "marker": {
             "colorbar": {
              "outlinewidth": 0,
              "ticks": ""
             }
            },
            "type": "scattercarpet"
           }
          ],
          "scattergeo": [
           {
            "marker": {
             "colorbar": {
              "outlinewidth": 0,
              "ticks": ""
             }
            },
            "type": "scattergeo"
           }
          ],
          "scattergl": [
           {
            "marker": {
             "colorbar": {
              "outlinewidth": 0,
              "ticks": ""
             }
            },
            "type": "scattergl"
           }
          ],
          "scattermapbox": [
           {
            "marker": {
             "colorbar": {
              "outlinewidth": 0,
              "ticks": ""
             }
            },
            "type": "scattermapbox"
           }
          ],
          "scatterpolar": [
           {
            "marker": {
             "colorbar": {
              "outlinewidth": 0,
              "ticks": ""
             }
            },
            "type": "scatterpolar"
           }
          ],
          "scatterpolargl": [
           {
            "marker": {
             "colorbar": {
              "outlinewidth": 0,
              "ticks": ""
             }
            },
            "type": "scatterpolargl"
           }
          ],
          "scatterternary": [
           {
            "marker": {
             "colorbar": {
              "outlinewidth": 0,
              "ticks": ""
             }
            },
            "type": "scatterternary"
           }
          ],
          "surface": [
           {
            "colorbar": {
             "outlinewidth": 0,
             "ticks": ""
            },
            "colorscale": [
             [
              0,
              "#0d0887"
             ],
             [
              0.1111111111111111,
              "#46039f"
             ],
             [
              0.2222222222222222,
              "#7201a8"
             ],
             [
              0.3333333333333333,
              "#9c179e"
             ],
             [
              0.4444444444444444,
              "#bd3786"
             ],
             [
              0.5555555555555556,
              "#d8576b"
             ],
             [
              0.6666666666666666,
              "#ed7953"
             ],
             [
              0.7777777777777778,
              "#fb9f3a"
             ],
             [
              0.8888888888888888,
              "#fdca26"
             ],
             [
              1,
              "#f0f921"
             ]
            ],
            "type": "surface"
           }
          ],
          "table": [
           {
            "cells": {
             "fill": {
              "color": "#EBF0F8"
             },
             "line": {
              "color": "white"
             }
            },
            "header": {
             "fill": {
              "color": "#C8D4E3"
             },
             "line": {
              "color": "white"
             }
            },
            "type": "table"
           }
          ]
         },
         "layout": {
          "annotationdefaults": {
           "arrowcolor": "#2a3f5f",
           "arrowhead": 0,
           "arrowwidth": 1
          },
          "autotypenumbers": "strict",
          "coloraxis": {
           "colorbar": {
            "outlinewidth": 0,
            "ticks": ""
           }
          },
          "colorscale": {
           "diverging": [
            [
             0,
             "#8e0152"
            ],
            [
             0.1,
             "#c51b7d"
            ],
            [
             0.2,
             "#de77ae"
            ],
            [
             0.3,
             "#f1b6da"
            ],
            [
             0.4,
             "#fde0ef"
            ],
            [
             0.5,
             "#f7f7f7"
            ],
            [
             0.6,
             "#e6f5d0"
            ],
            [
             0.7,
             "#b8e186"
            ],
            [
             0.8,
             "#7fbc41"
            ],
            [
             0.9,
             "#4d9221"
            ],
            [
             1,
             "#276419"
            ]
           ],
           "sequential": [
            [
             0,
             "#0d0887"
            ],
            [
             0.1111111111111111,
             "#46039f"
            ],
            [
             0.2222222222222222,
             "#7201a8"
            ],
            [
             0.3333333333333333,
             "#9c179e"
            ],
            [
             0.4444444444444444,
             "#bd3786"
            ],
            [
             0.5555555555555556,
             "#d8576b"
            ],
            [
             0.6666666666666666,
             "#ed7953"
            ],
            [
             0.7777777777777778,
             "#fb9f3a"
            ],
            [
             0.8888888888888888,
             "#fdca26"
            ],
            [
             1,
             "#f0f921"
            ]
           ],
           "sequentialminus": [
            [
             0,
             "#0d0887"
            ],
            [
             0.1111111111111111,
             "#46039f"
            ],
            [
             0.2222222222222222,
             "#7201a8"
            ],
            [
             0.3333333333333333,
             "#9c179e"
            ],
            [
             0.4444444444444444,
             "#bd3786"
            ],
            [
             0.5555555555555556,
             "#d8576b"
            ],
            [
             0.6666666666666666,
             "#ed7953"
            ],
            [
             0.7777777777777778,
             "#fb9f3a"
            ],
            [
             0.8888888888888888,
             "#fdca26"
            ],
            [
             1,
             "#f0f921"
            ]
           ]
          },
          "colorway": [
           "#636efa",
           "#EF553B",
           "#00cc96",
           "#ab63fa",
           "#FFA15A",
           "#19d3f3",
           "#FF6692",
           "#B6E880",
           "#FF97FF",
           "#FECB52"
          ],
          "font": {
           "color": "#2a3f5f"
          },
          "geo": {
           "bgcolor": "white",
           "lakecolor": "white",
           "landcolor": "#E5ECF6",
           "showlakes": true,
           "showland": true,
           "subunitcolor": "white"
          },
          "hoverlabel": {
           "align": "left"
          },
          "hovermode": "closest",
          "mapbox": {
           "style": "light"
          },
          "paper_bgcolor": "white",
          "plot_bgcolor": "#E5ECF6",
          "polar": {
           "angularaxis": {
            "gridcolor": "white",
            "linecolor": "white",
            "ticks": ""
           },
           "bgcolor": "#E5ECF6",
           "radialaxis": {
            "gridcolor": "white",
            "linecolor": "white",
            "ticks": ""
           }
          },
          "scene": {
           "xaxis": {
            "backgroundcolor": "#E5ECF6",
            "gridcolor": "white",
            "gridwidth": 2,
            "linecolor": "white",
            "showbackground": true,
            "ticks": "",
            "zerolinecolor": "white"
           },
           "yaxis": {
            "backgroundcolor": "#E5ECF6",
            "gridcolor": "white",
            "gridwidth": 2,
            "linecolor": "white",
            "showbackground": true,
            "ticks": "",
            "zerolinecolor": "white"
           },
           "zaxis": {
            "backgroundcolor": "#E5ECF6",
            "gridcolor": "white",
            "gridwidth": 2,
            "linecolor": "white",
            "showbackground": true,
            "ticks": "",
            "zerolinecolor": "white"
           }
          },
          "shapedefaults": {
           "line": {
            "color": "#2a3f5f"
           }
          },
          "ternary": {
           "aaxis": {
            "gridcolor": "white",
            "linecolor": "white",
            "ticks": ""
           },
           "baxis": {
            "gridcolor": "white",
            "linecolor": "white",
            "ticks": ""
           },
           "bgcolor": "#E5ECF6",
           "caxis": {
            "gridcolor": "white",
            "linecolor": "white",
            "ticks": ""
           }
          },
          "title": {
           "x": 0.05
          },
          "xaxis": {
           "automargin": true,
           "gridcolor": "white",
           "linecolor": "white",
           "ticks": "",
           "title": {
            "standoff": 15
           },
           "zerolinecolor": "white",
           "zerolinewidth": 2
          },
          "yaxis": {
           "automargin": true,
           "gridcolor": "white",
           "linecolor": "white",
           "ticks": "",
           "title": {
            "standoff": 15
           },
           "zerolinecolor": "white",
           "zerolinewidth": 2
          }
         }
        },
        "title": {
         "font": {
          "color": "black",
          "size": 15
         },
         "text": "delete_row() (free scale): mean time vs. n",
         "x": 0.5
        },
        "width": 300,
        "xaxis": {
         "anchor": "y",
         "color": "black",
         "domain": [
          0,
          1
         ],
         "gridcolor": "white",
         "linecolor": "black",
         "mirror": true,
         "ticksuffix": " ",
         "title": {
          "text": "n"
         }
        },
        "xaxis2": {
         "anchor": "y2",
         "color": "black",
         "domain": [
          0,
          1
         ],
         "gridcolor": "white",
         "linecolor": "black",
         "matches": "x",
         "mirror": true,
         "showticklabels": false,
         "ticksuffix": " "
        },
        "xaxis3": {
         "anchor": "y3",
         "color": "black",
         "domain": [
          0,
          1
         ],
         "gridcolor": "white",
         "linecolor": "black",
         "matches": "x",
         "mirror": true,
         "showticklabels": false,
         "ticksuffix": " "
        },
        "xaxis4": {
         "anchor": "y4",
         "color": "black",
         "domain": [
          0,
          1
         ],
         "gridcolor": "white",
         "linecolor": "black",
         "matches": "x",
         "mirror": true,
         "showticklabels": false,
         "ticksuffix": " "
        },
        "xaxis5": {
         "anchor": "y5",
         "color": "black",
         "domain": [
          0,
          1
         ],
         "gridcolor": "white",
         "linecolor": "black",
         "matches": "x",
         "mirror": true,
         "showticklabels": false,
         "ticksuffix": " "
        },
        "xaxis6": {
         "anchor": "y6",
         "color": "black",
         "domain": [
          0,
          1
         ],
         "gridcolor": "white",
         "linecolor": "black",
         "matches": "x",
         "mirror": true,
         "showticklabels": false,
         "ticksuffix": " "
        },
        "yaxis": {
         "anchor": "x",
         "color": "black",
         "domain": [
          0,
          0.10833333333333331
         ],
         "gridcolor": "white",
         "linecolor": "black",
         "mirror": true,
         "ticksuffix": " ",
         "title": {
          "text": "mean_time"
         },
         "visible": true
        },
        "yaxis2": {
         "anchor": "x2",
         "color": "black",
         "domain": [
          0.17833333333333332,
          0.2866666666666666
         ],
         "gridcolor": "white",
         "linecolor": "black",
         "mirror": true,
         "ticksuffix": " ",
         "title": {
          "text": "mean_time"
         }
        },
        "yaxis3": {
         "anchor": "x3",
         "color": "black",
         "domain": [
          0.35666666666666663,
          0.46499999999999997
         ],
         "gridcolor": "white",
         "linecolor": "black",
         "mirror": true,
         "ticksuffix": " ",
         "title": {
          "text": "mean_time"
         }
        },
        "yaxis4": {
         "anchor": "x4",
         "color": "black",
         "domain": [
          0.5349999999999999,
          0.6433333333333332
         ],
         "gridcolor": "white",
         "linecolor": "black",
         "mirror": true,
         "ticksuffix": " ",
         "title": {
          "text": "mean_time"
         }
        },
        "yaxis5": {
         "anchor": "x5",
         "color": "black",
         "domain": [
          0.7133333333333333,
          0.8216666666666665
         ],
         "gridcolor": "white",
         "linecolor": "black",
         "mirror": true,
         "ticksuffix": " ",
         "title": {
          "text": "mean_time"
         }
        },
        "yaxis6": {
         "anchor": "x6",
         "color": "black",
         "domain": [
          0.8916666666666666,
          0.9999999999999999
         ],
         "gridcolor": "white",
         "linecolor": "black",
         "mirror": true,
         "ticksuffix": " ",
         "title": {
          "text": "mean_time"
         }
        }
       }
      }
     },
     "metadata": {},
     "output_type": "display_data"
    }
   ],
   "source": [
    "fig = px.line(delete,\n",
    "              x = 'n', \n",
    "              y = 'mean_time',\n",
    "              color = 'column',\n",
    "              facet_col='column',\n",
    "              facet_col_wrap=1,\n",
    "              facet_col_spacing=0.05,\n",
    "              color_discrete_sequence=[\"firebrick\"],\n",
    "              category_orders={\"column\": [\"id\", \"owner_id\", \"creation_date\", \"count\", \"name\", \"content\"]})\n",
    "\n",
    "fig.update_layout({\n",
    "    'plot_bgcolor': 'rgba(255, 255, 255, 255)',\n",
    "    'paper_bgcolor': 'rgba(255, 255, 255, 255)',\n",
    "    'yaxis':{'visible': True},\n",
    "    #'xaxis':{'type':'category'}\n",
    "    })\n",
    "\n",
    "# for_each annotation\n",
    "for anno in fig.layout.annotations:\n",
    "    anno.text = anno.text.split(\"=\")[-1]\n",
    "\n",
    "# do not match scales\n",
    "fig.update_yaxes(matches=None)\n",
    "\n",
    "fig.update_layout(\n",
    "    title_text=\"delete_row() (free scale): mean time vs. n\",\n",
    "    title_x=0.5,\n",
    "    title_font_size=15,\n",
    "    title_font_color='black'\n",
    ")\n",
    "\n",
    "# increase vertical distance between facets\n",
    "fig.update_layout(margin=dict(l=20, r=20, t=50, b=20), height=600)\n",
    "\n",
    "fig.update_yaxes(ticksuffix = \" \",  linecolor = 'black', gridcolor = 'white', mirror = True, color = 'black')\n",
    "fig.update_xaxes(ticksuffix = \" \",  linecolor = 'black', gridcolor = 'white', mirror = True, color = 'black')\n",
    "fig.update_layout(width=300, height=800, showlegend=False)\n",
    "fig.show()\n",
    "\n",
    "fig.write_image(\"../images/delete_scale-free.png\", scale=1)"
   ]
  },
  {
   "cell_type": "code",
   "execution_count": 24,
   "metadata": {},
   "outputs": [
    {
     "data": {
      "application/vnd.plotly.v1+json": {
       "config": {
        "plotlyServerURL": "https://plot.ly"
       },
       "data": [
        {
         "hovertemplate": "method=median-of-medians<br>n=%{x}<br>mean_time=%{y}<extra></extra>",
         "legendgroup": "median-of-medians",
         "line": {
          "color": "#636efa",
          "dash": "solid"
         },
         "marker": {
          "symbol": "circle"
         },
         "mode": "lines",
         "name": "median-of-medians",
         "orientation": "v",
         "showlegend": true,
         "type": "scatter",
         "x": [
          10,
          100,
          1000,
          10000,
          100000,
          300000,
          500000
         ],
         "xaxis": "x",
         "y": [
          0.00005924701690673828,
          0.0004550218582153,
          0.0056320428848266,
          0.0554627776145935,
          1.1202362775802612,
          2.4370917677879333,
          6.837537229061127
         ],
         "yaxis": "y"
        },
        {
         "hovertemplate": "method=quickselect<br>n=%{x}<br>mean_time=%{y}<extra></extra>",
         "legendgroup": "quickselect",
         "line": {
          "color": "#EF553B",
          "dash": "solid"
         },
         "marker": {
          "symbol": "circle"
         },
         "mode": "lines",
         "name": "quickselect",
         "orientation": "v",
         "showlegend": true,
         "type": "scatter",
         "x": [
          10,
          100,
          1000,
          10000,
          100000,
          300000,
          500000
         ],
         "xaxis": "x",
         "y": [
          0.00002759695053100586,
          0.0002287626266479,
          0.003675103187561,
          0.0299347639083862,
          0.5800671577453613,
          4.462849855422974,
          8.888686060905457
         ],
         "yaxis": "y"
        },
        {
         "hovertemplate": "method=heapsort<br>n=%{x}<br>mean_time=%{y}<extra></extra>",
         "legendgroup": "heapsort",
         "line": {
          "color": "#00cc96",
          "dash": "solid"
         },
         "marker": {
          "symbol": "circle"
         },
         "mode": "lines",
         "name": "heapsort",
         "orientation": "v",
         "showlegend": true,
         "type": "scatter",
         "x": [
          10,
          100,
          1000,
          10000,
          100000,
          300000,
          500000
         ],
         "xaxis": "x",
         "y": [
          0.00002187490463256836,
          0.0003304481506347,
          0.0055519342422485,
          0.0727847218513488,
          1.059054672718048,
          3.779953181743622,
          7.612031757831573
         ],
         "yaxis": "y"
        }
       ],
       "layout": {
        "height": 500,
        "legend": {
         "title": {
          "text": "method"
         },
         "tracegroupgap": 0
        },
        "margin": {
         "t": 60
        },
        "paper_bgcolor": "rgba(255, 255, 255, 255)",
        "plot_bgcolor": "rgba(255, 255, 255, 255)",
        "showlegend": true,
        "template": {
         "data": {
          "bar": [
           {
            "error_x": {
             "color": "#2a3f5f"
            },
            "error_y": {
             "color": "#2a3f5f"
            },
            "marker": {
             "line": {
              "color": "#E5ECF6",
              "width": 0.5
             },
             "pattern": {
              "fillmode": "overlay",
              "size": 10,
              "solidity": 0.2
             }
            },
            "type": "bar"
           }
          ],
          "barpolar": [
           {
            "marker": {
             "line": {
              "color": "#E5ECF6",
              "width": 0.5
             },
             "pattern": {
              "fillmode": "overlay",
              "size": 10,
              "solidity": 0.2
             }
            },
            "type": "barpolar"
           }
          ],
          "carpet": [
           {
            "aaxis": {
             "endlinecolor": "#2a3f5f",
             "gridcolor": "white",
             "linecolor": "white",
             "minorgridcolor": "white",
             "startlinecolor": "#2a3f5f"
            },
            "baxis": {
             "endlinecolor": "#2a3f5f",
             "gridcolor": "white",
             "linecolor": "white",
             "minorgridcolor": "white",
             "startlinecolor": "#2a3f5f"
            },
            "type": "carpet"
           }
          ],
          "choropleth": [
           {
            "colorbar": {
             "outlinewidth": 0,
             "ticks": ""
            },
            "type": "choropleth"
           }
          ],
          "contour": [
           {
            "colorbar": {
             "outlinewidth": 0,
             "ticks": ""
            },
            "colorscale": [
             [
              0,
              "#0d0887"
             ],
             [
              0.1111111111111111,
              "#46039f"
             ],
             [
              0.2222222222222222,
              "#7201a8"
             ],
             [
              0.3333333333333333,
              "#9c179e"
             ],
             [
              0.4444444444444444,
              "#bd3786"
             ],
             [
              0.5555555555555556,
              "#d8576b"
             ],
             [
              0.6666666666666666,
              "#ed7953"
             ],
             [
              0.7777777777777778,
              "#fb9f3a"
             ],
             [
              0.8888888888888888,
              "#fdca26"
             ],
             [
              1,
              "#f0f921"
             ]
            ],
            "type": "contour"
           }
          ],
          "contourcarpet": [
           {
            "colorbar": {
             "outlinewidth": 0,
             "ticks": ""
            },
            "type": "contourcarpet"
           }
          ],
          "heatmap": [
           {
            "colorbar": {
             "outlinewidth": 0,
             "ticks": ""
            },
            "colorscale": [
             [
              0,
              "#0d0887"
             ],
             [
              0.1111111111111111,
              "#46039f"
             ],
             [
              0.2222222222222222,
              "#7201a8"
             ],
             [
              0.3333333333333333,
              "#9c179e"
             ],
             [
              0.4444444444444444,
              "#bd3786"
             ],
             [
              0.5555555555555556,
              "#d8576b"
             ],
             [
              0.6666666666666666,
              "#ed7953"
             ],
             [
              0.7777777777777778,
              "#fb9f3a"
             ],
             [
              0.8888888888888888,
              "#fdca26"
             ],
             [
              1,
              "#f0f921"
             ]
            ],
            "type": "heatmap"
           }
          ],
          "heatmapgl": [
           {
            "colorbar": {
             "outlinewidth": 0,
             "ticks": ""
            },
            "colorscale": [
             [
              0,
              "#0d0887"
             ],
             [
              0.1111111111111111,
              "#46039f"
             ],
             [
              0.2222222222222222,
              "#7201a8"
             ],
             [
              0.3333333333333333,
              "#9c179e"
             ],
             [
              0.4444444444444444,
              "#bd3786"
             ],
             [
              0.5555555555555556,
              "#d8576b"
             ],
             [
              0.6666666666666666,
              "#ed7953"
             ],
             [
              0.7777777777777778,
              "#fb9f3a"
             ],
             [
              0.8888888888888888,
              "#fdca26"
             ],
             [
              1,
              "#f0f921"
             ]
            ],
            "type": "heatmapgl"
           }
          ],
          "histogram": [
           {
            "marker": {
             "pattern": {
              "fillmode": "overlay",
              "size": 10,
              "solidity": 0.2
             }
            },
            "type": "histogram"
           }
          ],
          "histogram2d": [
           {
            "colorbar": {
             "outlinewidth": 0,
             "ticks": ""
            },
            "colorscale": [
             [
              0,
              "#0d0887"
             ],
             [
              0.1111111111111111,
              "#46039f"
             ],
             [
              0.2222222222222222,
              "#7201a8"
             ],
             [
              0.3333333333333333,
              "#9c179e"
             ],
             [
              0.4444444444444444,
              "#bd3786"
             ],
             [
              0.5555555555555556,
              "#d8576b"
             ],
             [
              0.6666666666666666,
              "#ed7953"
             ],
             [
              0.7777777777777778,
              "#fb9f3a"
             ],
             [
              0.8888888888888888,
              "#fdca26"
             ],
             [
              1,
              "#f0f921"
             ]
            ],
            "type": "histogram2d"
           }
          ],
          "histogram2dcontour": [
           {
            "colorbar": {
             "outlinewidth": 0,
             "ticks": ""
            },
            "colorscale": [
             [
              0,
              "#0d0887"
             ],
             [
              0.1111111111111111,
              "#46039f"
             ],
             [
              0.2222222222222222,
              "#7201a8"
             ],
             [
              0.3333333333333333,
              "#9c179e"
             ],
             [
              0.4444444444444444,
              "#bd3786"
             ],
             [
              0.5555555555555556,
              "#d8576b"
             ],
             [
              0.6666666666666666,
              "#ed7953"
             ],
             [
              0.7777777777777778,
              "#fb9f3a"
             ],
             [
              0.8888888888888888,
              "#fdca26"
             ],
             [
              1,
              "#f0f921"
             ]
            ],
            "type": "histogram2dcontour"
           }
          ],
          "mesh3d": [
           {
            "colorbar": {
             "outlinewidth": 0,
             "ticks": ""
            },
            "type": "mesh3d"
           }
          ],
          "parcoords": [
           {
            "line": {
             "colorbar": {
              "outlinewidth": 0,
              "ticks": ""
             }
            },
            "type": "parcoords"
           }
          ],
          "pie": [
           {
            "automargin": true,
            "type": "pie"
           }
          ],
          "scatter": [
           {
            "fillpattern": {
             "fillmode": "overlay",
             "size": 10,
             "solidity": 0.2
            },
            "type": "scatter"
           }
          ],
          "scatter3d": [
           {
            "line": {
             "colorbar": {
              "outlinewidth": 0,
              "ticks": ""
             }
            },
            "marker": {
             "colorbar": {
              "outlinewidth": 0,
              "ticks": ""
             }
            },
            "type": "scatter3d"
           }
          ],
          "scattercarpet": [
           {
            "marker": {
             "colorbar": {
              "outlinewidth": 0,
              "ticks": ""
             }
            },
            "type": "scattercarpet"
           }
          ],
          "scattergeo": [
           {
            "marker": {
             "colorbar": {
              "outlinewidth": 0,
              "ticks": ""
             }
            },
            "type": "scattergeo"
           }
          ],
          "scattergl": [
           {
            "marker": {
             "colorbar": {
              "outlinewidth": 0,
              "ticks": ""
             }
            },
            "type": "scattergl"
           }
          ],
          "scattermapbox": [
           {
            "marker": {
             "colorbar": {
              "outlinewidth": 0,
              "ticks": ""
             }
            },
            "type": "scattermapbox"
           }
          ],
          "scatterpolar": [
           {
            "marker": {
             "colorbar": {
              "outlinewidth": 0,
              "ticks": ""
             }
            },
            "type": "scatterpolar"
           }
          ],
          "scatterpolargl": [
           {
            "marker": {
             "colorbar": {
              "outlinewidth": 0,
              "ticks": ""
             }
            },
            "type": "scatterpolargl"
           }
          ],
          "scatterternary": [
           {
            "marker": {
             "colorbar": {
              "outlinewidth": 0,
              "ticks": ""
             }
            },
            "type": "scatterternary"
           }
          ],
          "surface": [
           {
            "colorbar": {
             "outlinewidth": 0,
             "ticks": ""
            },
            "colorscale": [
             [
              0,
              "#0d0887"
             ],
             [
              0.1111111111111111,
              "#46039f"
             ],
             [
              0.2222222222222222,
              "#7201a8"
             ],
             [
              0.3333333333333333,
              "#9c179e"
             ],
             [
              0.4444444444444444,
              "#bd3786"
             ],
             [
              0.5555555555555556,
              "#d8576b"
             ],
             [
              0.6666666666666666,
              "#ed7953"
             ],
             [
              0.7777777777777778,
              "#fb9f3a"
             ],
             [
              0.8888888888888888,
              "#fdca26"
             ],
             [
              1,
              "#f0f921"
             ]
            ],
            "type": "surface"
           }
          ],
          "table": [
           {
            "cells": {
             "fill": {
              "color": "#EBF0F8"
             },
             "line": {
              "color": "white"
             }
            },
            "header": {
             "fill": {
              "color": "#C8D4E3"
             },
             "line": {
              "color": "white"
             }
            },
            "type": "table"
           }
          ]
         },
         "layout": {
          "annotationdefaults": {
           "arrowcolor": "#2a3f5f",
           "arrowhead": 0,
           "arrowwidth": 1
          },
          "autotypenumbers": "strict",
          "coloraxis": {
           "colorbar": {
            "outlinewidth": 0,
            "ticks": ""
           }
          },
          "colorscale": {
           "diverging": [
            [
             0,
             "#8e0152"
            ],
            [
             0.1,
             "#c51b7d"
            ],
            [
             0.2,
             "#de77ae"
            ],
            [
             0.3,
             "#f1b6da"
            ],
            [
             0.4,
             "#fde0ef"
            ],
            [
             0.5,
             "#f7f7f7"
            ],
            [
             0.6,
             "#e6f5d0"
            ],
            [
             0.7,
             "#b8e186"
            ],
            [
             0.8,
             "#7fbc41"
            ],
            [
             0.9,
             "#4d9221"
            ],
            [
             1,
             "#276419"
            ]
           ],
           "sequential": [
            [
             0,
             "#0d0887"
            ],
            [
             0.1111111111111111,
             "#46039f"
            ],
            [
             0.2222222222222222,
             "#7201a8"
            ],
            [
             0.3333333333333333,
             "#9c179e"
            ],
            [
             0.4444444444444444,
             "#bd3786"
            ],
            [
             0.5555555555555556,
             "#d8576b"
            ],
            [
             0.6666666666666666,
             "#ed7953"
            ],
            [
             0.7777777777777778,
             "#fb9f3a"
            ],
            [
             0.8888888888888888,
             "#fdca26"
            ],
            [
             1,
             "#f0f921"
            ]
           ],
           "sequentialminus": [
            [
             0,
             "#0d0887"
            ],
            [
             0.1111111111111111,
             "#46039f"
            ],
            [
             0.2222222222222222,
             "#7201a8"
            ],
            [
             0.3333333333333333,
             "#9c179e"
            ],
            [
             0.4444444444444444,
             "#bd3786"
            ],
            [
             0.5555555555555556,
             "#d8576b"
            ],
            [
             0.6666666666666666,
             "#ed7953"
            ],
            [
             0.7777777777777778,
             "#fb9f3a"
            ],
            [
             0.8888888888888888,
             "#fdca26"
            ],
            [
             1,
             "#f0f921"
            ]
           ]
          },
          "colorway": [
           "#636efa",
           "#EF553B",
           "#00cc96",
           "#ab63fa",
           "#FFA15A",
           "#19d3f3",
           "#FF6692",
           "#B6E880",
           "#FF97FF",
           "#FECB52"
          ],
          "font": {
           "color": "#2a3f5f"
          },
          "geo": {
           "bgcolor": "white",
           "lakecolor": "white",
           "landcolor": "#E5ECF6",
           "showlakes": true,
           "showland": true,
           "subunitcolor": "white"
          },
          "hoverlabel": {
           "align": "left"
          },
          "hovermode": "closest",
          "mapbox": {
           "style": "light"
          },
          "paper_bgcolor": "white",
          "plot_bgcolor": "#E5ECF6",
          "polar": {
           "angularaxis": {
            "gridcolor": "white",
            "linecolor": "white",
            "ticks": ""
           },
           "bgcolor": "#E5ECF6",
           "radialaxis": {
            "gridcolor": "white",
            "linecolor": "white",
            "ticks": ""
           }
          },
          "scene": {
           "xaxis": {
            "backgroundcolor": "#E5ECF6",
            "gridcolor": "white",
            "gridwidth": 2,
            "linecolor": "white",
            "showbackground": true,
            "ticks": "",
            "zerolinecolor": "white"
           },
           "yaxis": {
            "backgroundcolor": "#E5ECF6",
            "gridcolor": "white",
            "gridwidth": 2,
            "linecolor": "white",
            "showbackground": true,
            "ticks": "",
            "zerolinecolor": "white"
           },
           "zaxis": {
            "backgroundcolor": "#E5ECF6",
            "gridcolor": "white",
            "gridwidth": 2,
            "linecolor": "white",
            "showbackground": true,
            "ticks": "",
            "zerolinecolor": "white"
           }
          },
          "shapedefaults": {
           "line": {
            "color": "#2a3f5f"
           }
          },
          "ternary": {
           "aaxis": {
            "gridcolor": "white",
            "linecolor": "white",
            "ticks": ""
           },
           "baxis": {
            "gridcolor": "white",
            "linecolor": "white",
            "ticks": ""
           },
           "bgcolor": "#E5ECF6",
           "caxis": {
            "gridcolor": "white",
            "linecolor": "white",
            "ticks": ""
           }
          },
          "title": {
           "x": 0.05
          },
          "xaxis": {
           "automargin": true,
           "gridcolor": "white",
           "linecolor": "white",
           "ticks": "",
           "title": {
            "standoff": 15
           },
           "zerolinecolor": "white",
           "zerolinewidth": 2
          },
          "yaxis": {
           "automargin": true,
           "gridcolor": "white",
           "linecolor": "white",
           "ticks": "",
           "title": {
            "standoff": 15
           },
           "zerolinecolor": "white",
           "zerolinewidth": 2
          }
         }
        },
        "title": {
         "font": {
          "color": "black",
          "size": 20
         },
         "text": "select_count(): mean time vs. n",
         "x": 0.5
        },
        "width": 650,
        "xaxis": {
         "anchor": "y",
         "color": "black",
         "domain": [
          0,
          1
         ],
         "gridcolor": "white",
         "linecolor": "black",
         "mirror": true,
         "ticksuffix": "    ",
         "title": {
          "text": "n"
         },
         "type": "category"
        },
        "yaxis": {
         "anchor": "x",
         "color": "black",
         "domain": [
          0,
          1
         ],
         "gridcolor": "white",
         "linecolor": "black",
         "mirror": true,
         "ticksuffix": "    ",
         "title": {
          "text": "mean_time"
         },
         "visible": true
        }
       }
      }
     },
     "metadata": {},
     "output_type": "display_data"
    }
   ],
   "source": [
    "fig = px.line(select_count,\n",
    "              x = 'n', \n",
    "              y = 'mean_time',\n",
    "              color = 'method')\n",
    "\n",
    "fig.update_layout({\n",
    "    'plot_bgcolor': 'rgba(255, 255, 255, 255)',\n",
    "    'paper_bgcolor': 'rgba(255, 255, 255, 255)',\n",
    "    'yaxis':{'visible': True},\n",
    "    'xaxis':{'type':'category'}\n",
    "    })\n",
    "\n",
    "# add title\n",
    "fig.update_layout(\n",
    "    title_text=\"select_count(): mean time vs. n\",\n",
    "    title_x=0.5,\n",
    "    title_font_size=20,\n",
    "    title_font_color='black'\n",
    ")\n",
    "\n",
    "fig.update_yaxes(ticksuffix = \"    \",  linecolor = 'black', gridcolor = 'white', mirror = True, color = 'black')\n",
    "fig.update_xaxes(ticksuffix = \"    \",  linecolor = 'black', gridcolor = 'white', mirror = True, color = 'black')\n",
    "fig.update_layout(width=650, height=500, showlegend=True)\n",
    "fig.show()\n",
    "\n",
    "fig.write_image(\"../images/select_count.png\", scale=1)"
   ]
  }
 ],
 "metadata": {
  "kernelspec": {
   "display_name": "Python 3",
   "language": "python",
   "name": "python3"
  },
  "language_info": {
   "codemirror_mode": {
    "name": "ipython",
    "version": 3
   },
   "file_extension": ".py",
   "mimetype": "text/x-python",
   "name": "python",
   "nbconvert_exporter": "python",
   "pygments_lexer": "ipython3",
   "version": "3.10.12"
  }
 },
 "nbformat": 4,
 "nbformat_minor": 2
}
